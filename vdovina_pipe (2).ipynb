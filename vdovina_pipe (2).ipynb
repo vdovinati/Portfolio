{
 "cells": [
  {
   "cell_type": "markdown",
   "id": "9c8b9340",
   "metadata": {},
   "source": [
    "<h1> Комментарий тимлида </h1>\n",
    "\n",
    "👋 **Привет, Татьяна!** \n",
    "\n",
    "✨ Поздравляю с началом работы над финальным проектом!\n",
    "\n",
    "Меня зовут Арсен Абдулин и я буду твоим ревьювером. Предлагаю общаться на «ты», если не против =) \n",
    "\n",
    "При проверке работ я делаю следующие комментарии:\n",
    "\n",
    "<div class=\"alert alert-success\">\n",
    "<b>✔️ Зеленым цветом</b> отмечены удачные решения.</div>\n",
    "\n",
    "<div class=\"alert alert-warning\">\n",
    "<b>⚠️ Желтым цветом</b> я отметил пункты, которые в следующий раз можно сделать по-другому. Одно-два таких замечания в проекте допускается, но если их много — проект следует доработать. </div>\n",
    "\n",
    "<div class=\"alert alert-danger\">\n",
    "<b>🚫 Красным цветом</b> отмечены критические замечания, которые необходимо поправить, чтобы принять проект. </div>\n",
    "\n",
    "Если какие-то моменты в задании для тебя были непонятны и у тебя есть ко мне вопросы — смело спрашивай 😊 Также ты можешь доработать места, где есть желтые комментарии в проекте (однако, это не обязательно).\n",
    "\n",
    "Предлагаю работать в диалоге: если ты решишь что-то поменять по моим рекомендациям — пиши об этом (выбери для своих комментариев определенный цвет - так мне будет легче увидеть изменения). Пожалуйста не перемещай, не изменяй и не удаляй мои комментарии. Все это поможет сделать проверку твоего проекта оперативнее.\n",
    "\n",
    "<div class=\"alert alert-info\"> <b>ℹ️ Комментарий студента: </b> Пример комментария. </div>"
   ]
  },
  {
   "cell_type": "markdown",
   "id": "63840c97",
   "metadata": {},
   "source": [
    "# План проекта"
   ]
  },
  {
   "cell_type": "markdown",
   "id": "4839bbf3",
   "metadata": {},
   "source": [
    "<div class=\"alert alert-success\">\n",
    "<b>✔️ Комментарий тимлида:</b> Хорошо, когда есть подробное описание проекта и поставлена цель — так постороннему человеку будет проще ознакомиться!\n",
    "   \n",
    "</div>"
   ]
  },
  {
   "cell_type": "markdown",
   "id": "632587a3",
   "metadata": {},
   "source": [
    "# Проект домена Телеком\n",
    "# «Прогнозирование оттока клиентов»\n",
    "\n",
    "Описание проекта\n",
    "\n",
    "Оператор связи «Ниединогоразрыва.ком» хочет научиться прогнозировать отток клиентов. Если выяснится, что пользователь планирует уйти, ему будут предложены промокоды и специальные условия. \n",
    "\n",
    "**Цель проекта** - прогнозирование оттока клиентов.   \n",
    "\n",
    "**Наша задача** - создать прототип модели машинного обучения, который позволит оператору связи своевременно выявлять клиентов, планирующих уйти в ближайшее время. Это позволит компании предложить клиентам промокоды и специальные условия, тем самым сохранить клиента и увеличить прибыль.  \n",
    "\n",
    "Команда оператора собрала персональные данные о некоторых клиентах, информацию об их тарифах и договорах.\n",
    "\n",
    "**Описание услуг**\n",
    "\n",
    "Оператор предоставляет два основных типа услуг: \n",
    "\n",
    "1. Стационарную телефонную связь. Возможно подключение телефонного аппарата к нескольким линиям одновременно.\n",
    "2. Интернет. Подключение может быть двух типов: через телефонную линию (DSL*,* от англ. *digital subscriber line*, «цифровая абонентская линия») или оптоволоконный кабель (*Fiber optic*).  \n",
    "\n",
    "Также доступны такие услуги:\n",
    "\n",
    "- Интернет-безопасность: антивирус (*DeviceProtection*) и блокировка небезопасных сайтов (*OnlineSecurity*);\n",
    "- Выделенная линия технической поддержки (*TechSupport*);\n",
    "- Облачное хранилище файлов для резервного копирования данных (*OnlineBackup*);\n",
    "- Стриминговое телевидение (*StreamingTV*) и каталог фильмов (*StreamingMovies*).\n",
    "\n",
    "За услуги клиенты могут платить каждый месяц или заключить договор на 1–2 года. Доступны различные способы расчёта и возможность получения электронного чека.\n",
    "\n",
    "Данные состоят из файлов, полученных из разных источников:\n",
    "* contract_new.csv — информация о договоре;\n",
    "* personal_new.csv — персональные данные клиента;\n",
    "* internet_new.csv — информация об интернет-услугах;\n",
    "* phone_new.csv — информация об услугах телефонии. \n",
    "\n",
    "**Описание данных, предоставленное заказчиком:**\n",
    "\n",
    "BeginDate – дата начала пользования услугами,   \n",
    "EndDate – дата окончания пользования услугами,   \n",
    "Type – тип оплаты: ежемесячный, годовой и тд,   \n",
    "PaperlessBilling – безналичный расчет,   \n",
    "PaymentMethod – способ оплаты,   \n",
    "MonthlyCharges – ежемесячные траты на услуги,   \n",
    "TotalCharges – всего потрачено денег на услуги   \n",
    "Dependents – наличие иждивенцев   \n",
    "Senior Citizen – наличие пенсионного статуса по возрасту   \n",
    "Partner – наличие супруга(и)   \n",
    "MultipleLines – наличие возможности ведения параллельных линий во время   \n",
    "звонка   \n",
    "\n",
    "**План проекта:**\n",
    "\n",
    "**1. Загрузка и предобработка данных:**\n",
    "\n",
    "* изучим общую информацию о полученных датасетах, посмотрим типы данных, пропуски, дубликаты;\n",
    "* объединим все датасеты в один для удобства работы и последующего анализа;\n",
    "* если среди признаков есть пропуски,то заполним их и обработаем аномалии;\n",
    "* сгенерируем новый признак;\n",
    "* после генерации новых признаков для предотвращения утечки данных удалим признаки BeginDate и EndDate; \n",
    "* краткий вывод\n",
    "\n",
    "**2. Исследовательский анализ данных (EDA):**\n",
    "\n",
    "* изучим целевой признак - проверим дисбаланс;\n",
    "* проверим корреляцию числовых признаков на наличие мультиколлинеарности;\n",
    "* рассмотрим влияние категориальных признаков на таргет - сравним 2 группы клиентов, тех кто ушел и лояльных (размер ежемесячных платежей, наличие супруга, иждивенцев, количество дополнительных услуг ит.д.) на факт ухода клиента;\n",
    "* для наглядности построим графики зависимостей;\n",
    "* удалим имеющиеся дубликаты;\n",
    "* краткий вывод по EDA.\n",
    "\n",
    "**3. Подготовка данных для обучения моделей:**\n",
    "\n",
    "* введем константу RANDOM STATE = 220523;\n",
    "* создадим переменные для признаков и целевого признака;\n",
    "* разделим исходные данные на обучающую и тестовую выборки (test_size = 0.25);\n",
    "* кодирование данных для линейных моделей;\n",
    "* масштабирование данных для линейных моделей.\n",
    "\n",
    "**4. Обучение моделей:**  \n",
    "\n",
    "* обучим разные модели (линейные и бустинг)\n",
    "* для оптимального подбора гиперпараметров будем использовать GridSearchCV;\n",
    "* для оценки качества моделей будем использовать метрику AUC-ROC,ее значение должно быть >= 0.85; \n",
    "  в качестве дополнительной метрики будем использовать accuracy.   \n",
    "* выбор лучшей модели;\n",
    "* тестирование лучшей модели на тестовой выборке;\n",
    "* анализ результатов, подсчет дополнительных метрик при необходимости, проверка на адекватность;\n",
    "* построение ROC-кривой.\n",
    "\n",
    "**5. Общий вывод.**"
   ]
  },
  {
   "cell_type": "markdown",
   "id": "393ce135",
   "metadata": {},
   "source": [
    "<div class=\"alert alert-success\">\n",
    "<b>✔️ Комментарий тимлида:</b> План работ последовательный и понятный, все хорошо!\n",
    "    \n",
    "</div>"
   ]
  },
  {
   "cell_type": "markdown",
   "id": "cc103a9f",
   "metadata": {},
   "source": [
    "**Вопросы и комментарии к тимлиду:**\n",
    "    \n",
    "Арсен, на данном этапе мне все понятно, вопросов нет.\n"
   ]
  },
  {
   "cell_type": "markdown",
   "id": "116c6483",
   "metadata": {},
   "source": [
    "<div class=\"alert alert-success\">\n",
    "<b>✔️ Комментарий тимлида:</b> Хорошо =)\n",
    "    \n",
    "</div>"
   ]
  },
  {
   "cell_type": "markdown",
   "id": "b3f8db88",
   "metadata": {},
   "source": [
    "## Загрузка и предобработка данных\n",
    "\n",
    "### Для предварительного анализа данных загрузим имеющиеся датасеты и рассмотрим их особенности."
   ]
  },
  {
   "cell_type": "code",
   "execution_count": 1,
   "id": "00b744ff",
   "metadata": {
    "scrolled": false
   },
   "outputs": [
    {
     "name": "stdout",
     "output_type": "stream",
     "text": [
      "Requirement already satisfied: pandas-profiling in /opt/conda/lib/python3.9/site-packages (2.11.0)\n",
      "Requirement already satisfied: seaborn>=0.10.1 in /opt/conda/lib/python3.9/site-packages (from pandas-profiling) (0.11.1)\n",
      "Requirement already satisfied: joblib in /opt/conda/lib/python3.9/site-packages (from pandas-profiling) (1.2.0)\n",
      "Requirement already satisfied: tangled-up-in-unicode>=0.0.6 in /opt/conda/lib/python3.9/site-packages (from pandas-profiling) (0.2.0)\n",
      "Requirement already satisfied: scipy>=1.4.1 in /opt/conda/lib/python3.9/site-packages (from pandas-profiling) (1.9.1)\n",
      "Requirement already satisfied: numpy>=1.16.0 in /opt/conda/lib/python3.9/site-packages (from pandas-profiling) (1.21.1)\n",
      "Requirement already satisfied: jinja2>=2.11.1 in /opt/conda/lib/python3.9/site-packages (from pandas-profiling) (3.0.1)\n",
      "Requirement already satisfied: htmlmin>=0.1.12 in /opt/conda/lib/python3.9/site-packages (from pandas-profiling) (0.1.12)\n",
      "Requirement already satisfied: pandas!=1.0.0,!=1.0.1,!=1.0.2,!=1.1.0,>=0.25.3 in /opt/conda/lib/python3.9/site-packages (from pandas-profiling) (1.2.4)\n",
      "Requirement already satisfied: confuse>=1.0.0 in /opt/conda/lib/python3.9/site-packages (from pandas-profiling) (2.0.1)\n",
      "Requirement already satisfied: visions[type_image_path]==0.6.0 in /opt/conda/lib/python3.9/site-packages (from pandas-profiling) (0.6.0)\n",
      "Requirement already satisfied: missingno>=0.4.2 in /opt/conda/lib/python3.9/site-packages (from pandas-profiling) (0.5.2)\n",
      "Requirement already satisfied: attrs>=19.3.0 in /opt/conda/lib/python3.9/site-packages (from pandas-profiling) (21.2.0)\n",
      "Requirement already satisfied: requests>=2.24.0 in /opt/conda/lib/python3.9/site-packages (from pandas-profiling) (2.25.1)\n",
      "Requirement already satisfied: tqdm>=4.48.2 in /opt/conda/lib/python3.9/site-packages (from pandas-profiling) (4.61.2)\n",
      "Requirement already satisfied: ipywidgets>=7.5.1 in /opt/conda/lib/python3.9/site-packages (from pandas-profiling) (7.6.3)\n",
      "Requirement already satisfied: matplotlib>=3.2.0 in /opt/conda/lib/python3.9/site-packages (from pandas-profiling) (3.3.4)\n",
      "Requirement already satisfied: phik>=0.10.0 in /opt/conda/lib/python3.9/site-packages (from pandas-profiling) (0.12.3)\n",
      "Requirement already satisfied: networkx>=2.4 in /opt/conda/lib/python3.9/site-packages (from visions[type_image_path]==0.6.0->pandas-profiling) (3.1)\n",
      "Requirement already satisfied: imagehash in /opt/conda/lib/python3.9/site-packages (from visions[type_image_path]==0.6.0->pandas-profiling) (4.3.1)\n",
      "Requirement already satisfied: Pillow in /opt/conda/lib/python3.9/site-packages (from visions[type_image_path]==0.6.0->pandas-profiling) (8.4.0)\n",
      "Requirement already satisfied: pyyaml in /opt/conda/lib/python3.9/site-packages (from confuse>=1.0.0->pandas-profiling) (6.0)\n",
      "Requirement already satisfied: jupyterlab-widgets>=1.0.0 in /opt/conda/lib/python3.9/site-packages (from ipywidgets>=7.5.1->pandas-profiling) (3.0.2)\n",
      "Requirement already satisfied: ipykernel>=4.5.1 in /opt/conda/lib/python3.9/site-packages (from ipywidgets>=7.5.1->pandas-profiling) (6.0.1)\n",
      "Requirement already satisfied: traitlets>=4.3.1 in /opt/conda/lib/python3.9/site-packages (from ipywidgets>=7.5.1->pandas-profiling) (5.0.5)\n",
      "Requirement already satisfied: ipython>=4.0.0 in /opt/conda/lib/python3.9/site-packages (from ipywidgets>=7.5.1->pandas-profiling) (7.25.0)\n",
      "Requirement already satisfied: nbformat>=4.2.0 in /opt/conda/lib/python3.9/site-packages (from ipywidgets>=7.5.1->pandas-profiling) (5.1.3)\n",
      "Requirement already satisfied: widgetsnbextension~=3.5.0 in /opt/conda/lib/python3.9/site-packages (from ipywidgets>=7.5.1->pandas-profiling) (3.5.2)\n",
      "Requirement already satisfied: tornado>=4.2 in /opt/conda/lib/python3.9/site-packages (from ipykernel>=4.5.1->ipywidgets>=7.5.1->pandas-profiling) (6.1)\n",
      "Requirement already satisfied: jupyter-client in /opt/conda/lib/python3.9/site-packages (from ipykernel>=4.5.1->ipywidgets>=7.5.1->pandas-profiling) (6.1.12)\n",
      "Requirement already satisfied: debugpy>=1.0.0 in /opt/conda/lib/python3.9/site-packages (from ipykernel>=4.5.1->ipywidgets>=7.5.1->pandas-profiling) (1.3.0)\n",
      "Requirement already satisfied: setuptools>=18.5 in /opt/conda/lib/python3.9/site-packages (from ipython>=4.0.0->ipywidgets>=7.5.1->pandas-profiling) (49.6.0.post20210108)\n",
      "Requirement already satisfied: prompt-toolkit!=3.0.0,!=3.0.1,<3.1.0,>=2.0.0 in /opt/conda/lib/python3.9/site-packages (from ipython>=4.0.0->ipywidgets>=7.5.1->pandas-profiling) (3.0.19)\n",
      "Requirement already satisfied: decorator in /opt/conda/lib/python3.9/site-packages (from ipython>=4.0.0->ipywidgets>=7.5.1->pandas-profiling) (5.0.9)\n",
      "Requirement already satisfied: backcall in /opt/conda/lib/python3.9/site-packages (from ipython>=4.0.0->ipywidgets>=7.5.1->pandas-profiling) (0.2.0)\n",
      "Requirement already satisfied: pickleshare in /opt/conda/lib/python3.9/site-packages (from ipython>=4.0.0->ipywidgets>=7.5.1->pandas-profiling) (0.7.5)\n",
      "Requirement already satisfied: pexpect>4.3 in /opt/conda/lib/python3.9/site-packages (from ipython>=4.0.0->ipywidgets>=7.5.1->pandas-profiling) (4.8.0)\n",
      "Requirement already satisfied: jedi>=0.16 in /opt/conda/lib/python3.9/site-packages (from ipython>=4.0.0->ipywidgets>=7.5.1->pandas-profiling) (0.18.0)\n",
      "Requirement already satisfied: pygments in /opt/conda/lib/python3.9/site-packages (from ipython>=4.0.0->ipywidgets>=7.5.1->pandas-profiling) (2.9.0)\n",
      "Requirement already satisfied: matplotlib-inline in /opt/conda/lib/python3.9/site-packages (from ipython>=4.0.0->ipywidgets>=7.5.1->pandas-profiling) (0.1.2)\n",
      "Requirement already satisfied: parso<0.9.0,>=0.8.0 in /opt/conda/lib/python3.9/site-packages (from jedi>=0.16->ipython>=4.0.0->ipywidgets>=7.5.1->pandas-profiling) (0.8.2)\n",
      "Requirement already satisfied: MarkupSafe>=2.0 in /opt/conda/lib/python3.9/site-packages (from jinja2>=2.11.1->pandas-profiling) (2.1.1)\n",
      "Requirement already satisfied: cycler>=0.10 in /opt/conda/lib/python3.9/site-packages (from matplotlib>=3.2.0->pandas-profiling) (0.11.0)\n",
      "Requirement already satisfied: pyparsing!=2.0.4,!=2.1.2,!=2.1.6,>=2.0.3 in /opt/conda/lib/python3.9/site-packages (from matplotlib>=3.2.0->pandas-profiling) (2.4.7)\n",
      "Requirement already satisfied: kiwisolver>=1.0.1 in /opt/conda/lib/python3.9/site-packages (from matplotlib>=3.2.0->pandas-profiling) (1.4.4)\n",
      "Requirement already satisfied: python-dateutil>=2.1 in /opt/conda/lib/python3.9/site-packages (from matplotlib>=3.2.0->pandas-profiling) (2.8.1)\n",
      "Requirement already satisfied: jsonschema!=2.5.0,>=2.4 in /opt/conda/lib/python3.9/site-packages (from nbformat>=4.2.0->ipywidgets>=7.5.1->pandas-profiling) (3.2.0)\n",
      "Requirement already satisfied: ipython-genutils in /opt/conda/lib/python3.9/site-packages (from nbformat>=4.2.0->ipywidgets>=7.5.1->pandas-profiling) (0.2.0)\n",
      "Requirement already satisfied: jupyter-core in /opt/conda/lib/python3.9/site-packages (from nbformat>=4.2.0->ipywidgets>=7.5.1->pandas-profiling) (4.7.1)\n",
      "Requirement already satisfied: pyrsistent>=0.14.0 in /opt/conda/lib/python3.9/site-packages (from jsonschema!=2.5.0,>=2.4->nbformat>=4.2.0->ipywidgets>=7.5.1->pandas-profiling) (0.17.3)\n",
      "Requirement already satisfied: six>=1.11.0 in /opt/conda/lib/python3.9/site-packages (from jsonschema!=2.5.0,>=2.4->nbformat>=4.2.0->ipywidgets>=7.5.1->pandas-profiling) (1.16.0)\n",
      "Requirement already satisfied: pytz>=2017.3 in /opt/conda/lib/python3.9/site-packages (from pandas!=1.0.0,!=1.0.1,!=1.0.2,!=1.1.0,>=0.25.3->pandas-profiling) (2021.1)\n",
      "Requirement already satisfied: ptyprocess>=0.5 in /opt/conda/lib/python3.9/site-packages (from pexpect>4.3->ipython>=4.0.0->ipywidgets>=7.5.1->pandas-profiling) (0.7.0)\n",
      "Requirement already satisfied: wcwidth in /opt/conda/lib/python3.9/site-packages (from prompt-toolkit!=3.0.0,!=3.0.1,<3.1.0,>=2.0.0->ipython>=4.0.0->ipywidgets>=7.5.1->pandas-profiling) (0.2.5)\n",
      "Requirement already satisfied: chardet<5,>=3.0.2 in /opt/conda/lib/python3.9/site-packages (from requests>=2.24.0->pandas-profiling) (4.0.0)\n",
      "Requirement already satisfied: certifi>=2017.4.17 in /opt/conda/lib/python3.9/site-packages (from requests>=2.24.0->pandas-profiling) (2022.6.15)\n",
      "Requirement already satisfied: urllib3<1.27,>=1.21.1 in /opt/conda/lib/python3.9/site-packages (from requests>=2.24.0->pandas-profiling) (1.26.6)\n",
      "Requirement already satisfied: idna<3,>=2.5 in /opt/conda/lib/python3.9/site-packages (from requests>=2.24.0->pandas-profiling) (2.10)\n",
      "Requirement already satisfied: notebook>=4.4.1 in /opt/conda/lib/python3.9/site-packages (from widgetsnbextension~=3.5.0->ipywidgets>=7.5.1->pandas-profiling) (6.4.0)\n",
      "Requirement already satisfied: terminado>=0.8.3 in /opt/conda/lib/python3.9/site-packages (from notebook>=4.4.1->widgetsnbextension~=3.5.0->ipywidgets>=7.5.1->pandas-profiling) (0.10.1)\n",
      "Requirement already satisfied: pyzmq>=17 in /opt/conda/lib/python3.9/site-packages (from notebook>=4.4.1->widgetsnbextension~=3.5.0->ipywidgets>=7.5.1->pandas-profiling) (22.1.0)\n",
      "Requirement already satisfied: prometheus-client in /opt/conda/lib/python3.9/site-packages (from notebook>=4.4.1->widgetsnbextension~=3.5.0->ipywidgets>=7.5.1->pandas-profiling) (0.11.0)\n",
      "Requirement already satisfied: argon2-cffi in /opt/conda/lib/python3.9/site-packages (from notebook>=4.4.1->widgetsnbextension~=3.5.0->ipywidgets>=7.5.1->pandas-profiling) (20.1.0)\n",
      "Requirement already satisfied: Send2Trash>=1.5.0 in /opt/conda/lib/python3.9/site-packages (from notebook>=4.4.1->widgetsnbextension~=3.5.0->ipywidgets>=7.5.1->pandas-profiling) (1.7.1)\n",
      "Requirement already satisfied: nbconvert in /opt/conda/lib/python3.9/site-packages (from notebook>=4.4.1->widgetsnbextension~=3.5.0->ipywidgets>=7.5.1->pandas-profiling) (6.1.0)\n",
      "Requirement already satisfied: cffi>=1.0.0 in /opt/conda/lib/python3.9/site-packages (from argon2-cffi->notebook>=4.4.1->widgetsnbextension~=3.5.0->ipywidgets>=7.5.1->pandas-profiling) (1.14.5)\n",
      "Requirement already satisfied: pycparser in /opt/conda/lib/python3.9/site-packages (from cffi>=1.0.0->argon2-cffi->notebook>=4.4.1->widgetsnbextension~=3.5.0->ipywidgets>=7.5.1->pandas-profiling) (2.20)\n",
      "Requirement already satisfied: PyWavelets in /opt/conda/lib/python3.9/site-packages (from imagehash->visions[type_image_path]==0.6.0->pandas-profiling) (1.4.1)\n",
      "Requirement already satisfied: pandocfilters>=1.4.1 in /opt/conda/lib/python3.9/site-packages (from nbconvert->notebook>=4.4.1->widgetsnbextension~=3.5.0->ipywidgets>=7.5.1->pandas-profiling) (1.4.2)\n",
      "Requirement already satisfied: mistune<2,>=0.8.1 in /opt/conda/lib/python3.9/site-packages (from nbconvert->notebook>=4.4.1->widgetsnbextension~=3.5.0->ipywidgets>=7.5.1->pandas-profiling) (0.8.4)\n",
      "Requirement already satisfied: bleach in /opt/conda/lib/python3.9/site-packages (from nbconvert->notebook>=4.4.1->widgetsnbextension~=3.5.0->ipywidgets>=7.5.1->pandas-profiling) (3.3.0)\n",
      "Requirement already satisfied: nbclient<0.6.0,>=0.5.0 in /opt/conda/lib/python3.9/site-packages (from nbconvert->notebook>=4.4.1->widgetsnbextension~=3.5.0->ipywidgets>=7.5.1->pandas-profiling) (0.5.3)\n",
      "Requirement already satisfied: entrypoints>=0.2.2 in /opt/conda/lib/python3.9/site-packages (from nbconvert->notebook>=4.4.1->widgetsnbextension~=3.5.0->ipywidgets>=7.5.1->pandas-profiling) (0.3)\n",
      "Requirement already satisfied: defusedxml in /opt/conda/lib/python3.9/site-packages (from nbconvert->notebook>=4.4.1->widgetsnbextension~=3.5.0->ipywidgets>=7.5.1->pandas-profiling) (0.7.1)\n",
      "Requirement already satisfied: testpath in /opt/conda/lib/python3.9/site-packages (from nbconvert->notebook>=4.4.1->widgetsnbextension~=3.5.0->ipywidgets>=7.5.1->pandas-profiling) (0.5.0)\n",
      "Requirement already satisfied: jupyterlab-pygments in /opt/conda/lib/python3.9/site-packages (from nbconvert->notebook>=4.4.1->widgetsnbextension~=3.5.0->ipywidgets>=7.5.1->pandas-profiling) (0.1.2)\n",
      "Requirement already satisfied: async-generator in /opt/conda/lib/python3.9/site-packages (from nbclient<0.6.0,>=0.5.0->nbconvert->notebook>=4.4.1->widgetsnbextension~=3.5.0->ipywidgets>=7.5.1->pandas-profiling) (1.10)\n",
      "Requirement already satisfied: nest-asyncio in /opt/conda/lib/python3.9/site-packages (from nbclient<0.6.0,>=0.5.0->nbconvert->notebook>=4.4.1->widgetsnbextension~=3.5.0->ipywidgets>=7.5.1->pandas-profiling) (1.5.1)\n",
      "Requirement already satisfied: webencodings in /opt/conda/lib/python3.9/site-packages (from bleach->nbconvert->notebook>=4.4.1->widgetsnbextension~=3.5.0->ipywidgets>=7.5.1->pandas-profiling) (0.5.1)\n",
      "Requirement already satisfied: packaging in /opt/conda/lib/python3.9/site-packages (from bleach->nbconvert->notebook>=4.4.1->widgetsnbextension~=3.5.0->ipywidgets>=7.5.1->pandas-profiling) (21.3)\n"
     ]
    }
   ],
   "source": [
    "# предварительно импортируем только библиотеку pandas и pandas-profiling\n",
    "\n",
    "import pandas as pd\n",
    "!pip install pandas-profiling\n",
    "from pandas_profiling import ProfileReport\n",
    "\n"
   ]
  },
  {
   "cell_type": "markdown",
   "id": "e5341af1",
   "metadata": {},
   "source": [
    "Ссылки, где хранятся датасеты\n",
    "\n",
    "https://code.s3.yandex.net/datasets/contract_new.csv   \n",
    "https://code.s3.yandex.net/datasets/personal_new.csv   \n",
    "https://code.s3.yandex.net/datasets/internet_new.csv   \n",
    "https://code.s3.yandex.net/datasets/phone_new.csv      \n",
    "    "
   ]
  },
  {
   "cell_type": "code",
   "execution_count": 2,
   "id": "1ef1acd8",
   "metadata": {},
   "outputs": [],
   "source": [
    "try:\n",
    "    contract = pd.read_csv('/datasets/contract_new.csv')\n",
    "    personal = pd.read_csv('/datasets/personal_new.csv')\n",
    "    internet = pd.read_csv('/datasets/internet_new.csv')\n",
    "    phone = pd.read_csv('/datasets/phone_new.csv')\n",
    "except:\n",
    "    contract = pd.read_csv('https://code.s3.yandex.net/datasets/contract_new.csv')\n",
    "    personal = pd.read_csv('https://code.s3.yandex.net/datasets/personal_new.csv')\n",
    "    internet = pd.read_csv('https://code.s3.yandex.net/datasets/internet_new.csv')\n",
    "    phone = pd.read_csv('https://code.s3.yandex.net/datasets/phone_new.csv')"
   ]
  },
  {
   "cell_type": "code",
   "execution_count": 4,
   "id": "647b001c",
   "metadata": {},
   "outputs": [],
   "source": [
    "# напишем функция для создания отчета о датасетах с помощью ProfileReport\n",
    "def view_information(data):\n",
    "    ProfileReport(data, title=\"Data Profiling Report\")\n",
    "    print(profile.to_widgets())"
   ]
  },
  {
   "cell_type": "code",
   "execution_count": 5,
   "id": "21dba6a2",
   "metadata": {
    "scrolled": true
   },
   "outputs": [
    {
     "ename": "NameError",
     "evalue": "name 'profile' is not defined",
     "output_type": "error",
     "traceback": [
      "\u001b[0;31m---------------------------------------------------------------------------\u001b[0m",
      "\u001b[0;31mNameError\u001b[0m                                 Traceback (most recent call last)",
      "\u001b[0;32m/tmp/ipykernel_218/1087405454.py\u001b[0m in \u001b[0;36m<module>\u001b[0;34m\u001b[0m\n\u001b[0;32m----> 1\u001b[0;31m \u001b[0mview_information\u001b[0m\u001b[0;34m(\u001b[0m\u001b[0mcontract\u001b[0m\u001b[0;34m)\u001b[0m\u001b[0;34m\u001b[0m\u001b[0;34m\u001b[0m\u001b[0m\n\u001b[0m",
      "\u001b[0;32m/tmp/ipykernel_218/3800269547.py\u001b[0m in \u001b[0;36mview_information\u001b[0;34m(data)\u001b[0m\n\u001b[1;32m      2\u001b[0m \u001b[0;32mdef\u001b[0m \u001b[0mview_information\u001b[0m\u001b[0;34m(\u001b[0m\u001b[0mdata\u001b[0m\u001b[0;34m)\u001b[0m\u001b[0;34m:\u001b[0m\u001b[0;34m\u001b[0m\u001b[0;34m\u001b[0m\u001b[0m\n\u001b[1;32m      3\u001b[0m     \u001b[0mProfileReport\u001b[0m\u001b[0;34m(\u001b[0m\u001b[0mdata\u001b[0m\u001b[0;34m,\u001b[0m \u001b[0mtitle\u001b[0m\u001b[0;34m=\u001b[0m\u001b[0;34m\"Data Profiling Report\"\u001b[0m\u001b[0;34m)\u001b[0m\u001b[0;34m\u001b[0m\u001b[0;34m\u001b[0m\u001b[0m\n\u001b[0;32m----> 4\u001b[0;31m     \u001b[0mprint\u001b[0m\u001b[0;34m(\u001b[0m\u001b[0mprofile\u001b[0m\u001b[0;34m.\u001b[0m\u001b[0mto_widgets\u001b[0m\u001b[0;34m(\u001b[0m\u001b[0;34m)\u001b[0m\u001b[0;34m)\u001b[0m\u001b[0;34m\u001b[0m\u001b[0;34m\u001b[0m\u001b[0m\n\u001b[0m",
      "\u001b[0;31mNameError\u001b[0m: name 'profile' is not defined"
     ]
    }
   ],
   "source": [
    "view_information(contract)"
   ]
  },
  {
   "cell_type": "code",
   "execution_count": null,
   "id": "6d2f418d",
   "metadata": {},
   "outputs": [],
   "source": [
    "view_information(personal)"
   ]
  },
  {
   "cell_type": "code",
   "execution_count": null,
   "id": "016585be",
   "metadata": {},
   "outputs": [],
   "source": [
    "view_information(internet)"
   ]
  },
  {
   "cell_type": "code",
   "execution_count": null,
   "id": "bf35f258",
   "metadata": {},
   "outputs": [],
   "source": [
    "view_information(phone)"
   ]
  },
  {
   "cell_type": "markdown",
   "id": "cd527d72",
   "metadata": {},
   "source": [
    "Вывод по загрузке данных\n",
    "\n",
    "В результате загрузки данных, полученных от телеком компании, мы получили 4 датасета с разным количеством строк.\n",
    "Основным является датасет с информацией по контрактам, вторым по значимости будет второй датасет с персональными данными клиентов. У этих датасетов количество строк совпадает и составляет 7043.\n",
    "\n",
    "Также у нас есть данные какими интернет услугами пользуется клиенты и какими услугами телефонии. Здесь количество строк отличается, это связано с тем, что  кто-то из клиентов пользуется только интернетом, а кто-то только услугами телефонии.\n",
    "\n",
    "Соответственно, для полноценного анализа данных мы объединим все 4 датасета по `customerID`.\n",
    "\n",
    "Также мы видим, что в столбце `EndDate` не везде отмечена дата окончания пользования услугами. Это говорит, о том, что у нас есть сведения не только об ушедших,но еще и о лояльных клиентах.\n",
    "\n",
    "В некоторых столбцах (например, `TotalCharges`) требуется поменять тип данных.\n",
    "\n",
    "Перед нами стоит задача бинарной классификации. Далее приступим к более детальной предобработке данных, в соответствии с нашим планом."
   ]
  },
  {
   "cell_type": "markdown",
   "id": "2ded79ad",
   "metadata": {},
   "source": [
    "<div class=\"alert alert-success\">\n",
    "<b>✔️ Комментарий тимлида:</b> Предварительный анализ данных выполнен успешно!\n",
    "    \n",
    "Видно, что нужна будет предобработка данных\n",
    "    \n",
    "</div>"
   ]
  },
  {
   "cell_type": "markdown",
   "id": "49bc41be",
   "metadata": {},
   "source": [
    "<div class=\"alert alert-success\">\n",
    "<b>✔️ Комментарий тимлида:</b> План работ принят, можно приступать к основному проекту.\n",
    "    \n",
    "Сохрани пожалуйста наши с тобой комментарии, а проект продолжай в этом же файле. Успехов!\n",
    "</div>"
   ]
  },
  {
   "cell_type": "markdown",
   "id": "7e953bb9",
   "metadata": {},
   "source": [
    "<div class=\"alert alert-info\"> <b>ℹ️ Комментарий студента: </b>Привет, Арсен, спасибо за обратную связь. Продолжаю работу). </div>"
   ]
  },
  {
   "cell_type": "markdown",
   "id": "32bb2a3d",
   "metadata": {},
   "source": [
    "<div class=\"alert alert-success\">\n",
    "<b>✔️ Комментарий ревьювера:</b> Всегда пожалуйста 😊\n",
    "    \n",
    "</div>"
   ]
  },
  {
   "cell_type": "markdown",
   "id": "b1fac9db",
   "metadata": {},
   "source": [
    "<h1> Комментарий ревьювера </h1>\n",
    "\n",
    "<div class=\"alert alert-success\">\n",
    "    \n",
    "👋 Татьяна, привет еще раз! Это снова Арсен Абдулин — и я буду делать ревью основного проекта.\n",
    "    \n",
    "Давай посмотрим, что получилось.\n",
    "    \n",
    "</div>"
   ]
  },
  {
   "cell_type": "markdown",
   "id": "9d09154f",
   "metadata": {},
   "source": [
    "### Объединим все датасеты в один для удобства работы и последующего анализа\n",
    "\n",
    "Импортируем необходимые для анализа библиотеки и структуры данных "
   ]
  },
  {
   "cell_type": "code",
   "execution_count": 6,
   "id": "c3594485",
   "metadata": {},
   "outputs": [],
   "source": [
    "!pip install -q phik\n",
    "!pip install -U -q scikit-learn\n",
    "#!pip install -U -q matplotlib\n",
    "#!pip install -U -q seaborn"
   ]
  },
  {
   "cell_type": "code",
   "execution_count": 7,
   "id": "c8d81e0f",
   "metadata": {},
   "outputs": [],
   "source": [
    "import numpy as np\n",
    "import matplotlib.pyplot as plt\n",
    "import seaborn as sns\n",
    "\n",
    "import warnings\n",
    "import time\n",
    "import catboost as cb\n",
    "import phik\n",
    "\n",
    "from phik.report import plot_correlation_matrix\n",
    "from phik import report\n",
    "from pandas import DataFrame\n",
    "\n",
    "from sklearn.preprocessing import StandardScaler\n",
    "from sklearn.compose import make_column_transformer\n",
    "\n",
    "from sklearn import tree\n",
    "from sklearn.model_selection import (\n",
    "    train_test_split,\n",
    "    GridSearchCV,\n",
    "    KFold,\n",
    "    RandomizedSearchCV\n",
    ")\n",
    "\n",
    "from sklearn.ensemble import RandomForestClassifier\n",
    "from sklearn.linear_model import Ridge\n",
    "from sklearn.dummy import DummyClassifier\n",
    "from catboost import CatBoostClassifier\n",
    "\n",
    "from sklearn.metrics import (\n",
    "    accuracy_score,\n",
    "    precision_score, \n",
    "    recall_score, \n",
    "    f1_score, \n",
    "    roc_auc_score,\n",
    "    roc_curve, \n",
    "    precision_recall_curve,\n",
    "    confusion_matrix,\n",
    "    ConfusionMatrixDisplay\n",
    ")\n",
    "\n",
    "from sklearn.preprocessing import (\n",
    "    OneHotEncoder,\n",
    "    OrdinalEncoder,\n",
    "    StandardScaler\n",
    ")\n",
    "\n",
    "\n",
    "from sklearn.model_selection import (\n",
    "    cross_validate,\n",
    "    cross_val_score\n",
    ")\n",
    "\n",
    "from sklearn.pipeline import Pipeline\n",
    "from sklearn.pipeline import make_pipeline\n",
    "warnings.filterwarnings(\"ignore\")\n",
    "\n",
    "RANDOM_STATE = 220523"
   ]
  },
  {
   "cell_type": "markdown",
   "id": "f243fc19",
   "metadata": {},
   "source": [
    "Объединим датасеты по общему столбцу `customerID`."
   ]
  },
  {
   "cell_type": "code",
   "execution_count": 8,
   "id": "b80fcb26",
   "metadata": {},
   "outputs": [],
   "source": [
    "data1 = pd.merge(contract, personal,how ='left', on=('customerID'))"
   ]
  },
  {
   "cell_type": "code",
   "execution_count": 9,
   "id": "a73772f9",
   "metadata": {},
   "outputs": [],
   "source": [
    "data2 = pd.merge(data1,internet,how ='left', on=('customerID'))"
   ]
  },
  {
   "cell_type": "code",
   "execution_count": 10,
   "id": "9d36a2e6",
   "metadata": {},
   "outputs": [],
   "source": [
    "data = pd.merge(data2,phone,how ='left', on=('customerID'))"
   ]
  },
  {
   "cell_type": "code",
   "execution_count": 11,
   "id": "85500301",
   "metadata": {},
   "outputs": [
    {
     "data": {
      "text/plain": [
       "(7043, 20)"
      ]
     },
     "execution_count": 11,
     "metadata": {},
     "output_type": "execute_result"
    }
   ],
   "source": [
    "# проверим размер итоговой таблицы\n",
    "data.shape"
   ]
  },
  {
   "cell_type": "code",
   "execution_count": 12,
   "id": "29d0bdd5",
   "metadata": {},
   "outputs": [
    {
     "data": {
      "text/html": [
       "<div>\n",
       "<style scoped>\n",
       "    .dataframe tbody tr th:only-of-type {\n",
       "        vertical-align: middle;\n",
       "    }\n",
       "\n",
       "    .dataframe tbody tr th {\n",
       "        vertical-align: top;\n",
       "    }\n",
       "\n",
       "    .dataframe thead th {\n",
       "        text-align: right;\n",
       "    }\n",
       "</style>\n",
       "<table border=\"1\" class=\"dataframe\">\n",
       "  <thead>\n",
       "    <tr style=\"text-align: right;\">\n",
       "      <th></th>\n",
       "      <th>customerID</th>\n",
       "      <th>BeginDate</th>\n",
       "      <th>EndDate</th>\n",
       "      <th>Type</th>\n",
       "      <th>PaperlessBilling</th>\n",
       "      <th>PaymentMethod</th>\n",
       "      <th>MonthlyCharges</th>\n",
       "      <th>TotalCharges</th>\n",
       "      <th>gender</th>\n",
       "      <th>SeniorCitizen</th>\n",
       "      <th>Partner</th>\n",
       "      <th>Dependents</th>\n",
       "      <th>InternetService</th>\n",
       "      <th>OnlineSecurity</th>\n",
       "      <th>OnlineBackup</th>\n",
       "      <th>DeviceProtection</th>\n",
       "      <th>TechSupport</th>\n",
       "      <th>StreamingTV</th>\n",
       "      <th>StreamingMovies</th>\n",
       "      <th>MultipleLines</th>\n",
       "    </tr>\n",
       "  </thead>\n",
       "  <tbody>\n",
       "    <tr>\n",
       "      <th>0</th>\n",
       "      <td>7590-VHVEG</td>\n",
       "      <td>2020-01-01</td>\n",
       "      <td>No</td>\n",
       "      <td>Month-to-month</td>\n",
       "      <td>Yes</td>\n",
       "      <td>Electronic check</td>\n",
       "      <td>29.85</td>\n",
       "      <td>31.04</td>\n",
       "      <td>Female</td>\n",
       "      <td>0</td>\n",
       "      <td>Yes</td>\n",
       "      <td>No</td>\n",
       "      <td>DSL</td>\n",
       "      <td>No</td>\n",
       "      <td>Yes</td>\n",
       "      <td>No</td>\n",
       "      <td>No</td>\n",
       "      <td>No</td>\n",
       "      <td>No</td>\n",
       "      <td>NaN</td>\n",
       "    </tr>\n",
       "    <tr>\n",
       "      <th>1</th>\n",
       "      <td>5575-GNVDE</td>\n",
       "      <td>2017-04-01</td>\n",
       "      <td>No</td>\n",
       "      <td>One year</td>\n",
       "      <td>No</td>\n",
       "      <td>Mailed check</td>\n",
       "      <td>56.95</td>\n",
       "      <td>2071.84</td>\n",
       "      <td>Male</td>\n",
       "      <td>0</td>\n",
       "      <td>No</td>\n",
       "      <td>No</td>\n",
       "      <td>DSL</td>\n",
       "      <td>Yes</td>\n",
       "      <td>No</td>\n",
       "      <td>Yes</td>\n",
       "      <td>No</td>\n",
       "      <td>No</td>\n",
       "      <td>No</td>\n",
       "      <td>No</td>\n",
       "    </tr>\n",
       "    <tr>\n",
       "      <th>2</th>\n",
       "      <td>3668-QPYBK</td>\n",
       "      <td>2019-10-01</td>\n",
       "      <td>No</td>\n",
       "      <td>Month-to-month</td>\n",
       "      <td>Yes</td>\n",
       "      <td>Mailed check</td>\n",
       "      <td>53.85</td>\n",
       "      <td>226.17</td>\n",
       "      <td>Male</td>\n",
       "      <td>0</td>\n",
       "      <td>No</td>\n",
       "      <td>No</td>\n",
       "      <td>DSL</td>\n",
       "      <td>Yes</td>\n",
       "      <td>Yes</td>\n",
       "      <td>No</td>\n",
       "      <td>No</td>\n",
       "      <td>No</td>\n",
       "      <td>No</td>\n",
       "      <td>No</td>\n",
       "    </tr>\n",
       "    <tr>\n",
       "      <th>3</th>\n",
       "      <td>7795-CFOCW</td>\n",
       "      <td>2016-05-01</td>\n",
       "      <td>No</td>\n",
       "      <td>One year</td>\n",
       "      <td>No</td>\n",
       "      <td>Bank transfer (automatic)</td>\n",
       "      <td>42.30</td>\n",
       "      <td>1960.6</td>\n",
       "      <td>Male</td>\n",
       "      <td>0</td>\n",
       "      <td>No</td>\n",
       "      <td>No</td>\n",
       "      <td>DSL</td>\n",
       "      <td>Yes</td>\n",
       "      <td>No</td>\n",
       "      <td>Yes</td>\n",
       "      <td>Yes</td>\n",
       "      <td>No</td>\n",
       "      <td>No</td>\n",
       "      <td>NaN</td>\n",
       "    </tr>\n",
       "    <tr>\n",
       "      <th>4</th>\n",
       "      <td>9237-HQITU</td>\n",
       "      <td>2019-09-01</td>\n",
       "      <td>No</td>\n",
       "      <td>Month-to-month</td>\n",
       "      <td>Yes</td>\n",
       "      <td>Electronic check</td>\n",
       "      <td>70.70</td>\n",
       "      <td>353.5</td>\n",
       "      <td>Female</td>\n",
       "      <td>0</td>\n",
       "      <td>No</td>\n",
       "      <td>No</td>\n",
       "      <td>Fiber optic</td>\n",
       "      <td>No</td>\n",
       "      <td>No</td>\n",
       "      <td>No</td>\n",
       "      <td>No</td>\n",
       "      <td>No</td>\n",
       "      <td>No</td>\n",
       "      <td>No</td>\n",
       "    </tr>\n",
       "  </tbody>\n",
       "</table>\n",
       "</div>"
      ],
      "text/plain": [
       "   customerID   BeginDate EndDate            Type PaperlessBilling  \\\n",
       "0  7590-VHVEG  2020-01-01      No  Month-to-month              Yes   \n",
       "1  5575-GNVDE  2017-04-01      No        One year               No   \n",
       "2  3668-QPYBK  2019-10-01      No  Month-to-month              Yes   \n",
       "3  7795-CFOCW  2016-05-01      No        One year               No   \n",
       "4  9237-HQITU  2019-09-01      No  Month-to-month              Yes   \n",
       "\n",
       "               PaymentMethod  MonthlyCharges TotalCharges  gender  \\\n",
       "0           Electronic check           29.85        31.04  Female   \n",
       "1               Mailed check           56.95      2071.84    Male   \n",
       "2               Mailed check           53.85       226.17    Male   \n",
       "3  Bank transfer (automatic)           42.30       1960.6    Male   \n",
       "4           Electronic check           70.70        353.5  Female   \n",
       "\n",
       "   SeniorCitizen Partner Dependents InternetService OnlineSecurity  \\\n",
       "0              0     Yes         No             DSL             No   \n",
       "1              0      No         No             DSL            Yes   \n",
       "2              0      No         No             DSL            Yes   \n",
       "3              0      No         No             DSL            Yes   \n",
       "4              0      No         No     Fiber optic             No   \n",
       "\n",
       "  OnlineBackup DeviceProtection TechSupport StreamingTV StreamingMovies  \\\n",
       "0          Yes               No          No          No              No   \n",
       "1           No              Yes          No          No              No   \n",
       "2          Yes               No          No          No              No   \n",
       "3           No              Yes         Yes          No              No   \n",
       "4           No               No          No          No              No   \n",
       "\n",
       "  MultipleLines  \n",
       "0           NaN  \n",
       "1            No  \n",
       "2            No  \n",
       "3           NaN  \n",
       "4            No  "
      ]
     },
     "execution_count": 12,
     "metadata": {},
     "output_type": "execute_result"
    }
   ],
   "source": [
    "data.head()"
   ]
  },
  {
   "cell_type": "markdown",
   "id": "68a5de64",
   "metadata": {},
   "source": [
    "Перед нами стоит задача бинарной классификации. Явного таргета у нас нет, поэтому нам следует сгенерировать новый бинарный признак по столбцу `EndDate`. Ранее мы выяснили, что в данном столбце есть конкретные даты окончания пользования услугами и стоит отметка 'No'. Следовательно создадим новый столбец, где '1' - клиент ушел, а '0' - клиент действующий.\n"
   ]
  },
  {
   "cell_type": "markdown",
   "id": "232fcadc",
   "metadata": {},
   "source": [
    "<div class=\"alert alert-success\">\n",
    "<b>✔️ Комментарий ревьювера:</b> Отлично, получили целевую переменную!\n",
    "    \n",
    "</div>"
   ]
  },
  {
   "cell_type": "code",
   "execution_count": 13,
   "id": "d3ae4a86",
   "metadata": {},
   "outputs": [],
   "source": [
    "data['churn'] = np.where(data['EndDate']== 'No',0,1)"
   ]
  },
  {
   "cell_type": "code",
   "execution_count": 14,
   "id": "5d09511c",
   "metadata": {
    "scrolled": false
   },
   "outputs": [
    {
     "data": {
      "text/html": [
       "<div>\n",
       "<style scoped>\n",
       "    .dataframe tbody tr th:only-of-type {\n",
       "        vertical-align: middle;\n",
       "    }\n",
       "\n",
       "    .dataframe tbody tr th {\n",
       "        vertical-align: top;\n",
       "    }\n",
       "\n",
       "    .dataframe thead th {\n",
       "        text-align: right;\n",
       "    }\n",
       "</style>\n",
       "<table border=\"1\" class=\"dataframe\">\n",
       "  <thead>\n",
       "    <tr style=\"text-align: right;\">\n",
       "      <th></th>\n",
       "      <th>customerID</th>\n",
       "      <th>BeginDate</th>\n",
       "      <th>EndDate</th>\n",
       "      <th>Type</th>\n",
       "      <th>PaperlessBilling</th>\n",
       "      <th>PaymentMethod</th>\n",
       "      <th>MonthlyCharges</th>\n",
       "      <th>TotalCharges</th>\n",
       "      <th>gender</th>\n",
       "      <th>SeniorCitizen</th>\n",
       "      <th>...</th>\n",
       "      <th>Dependents</th>\n",
       "      <th>InternetService</th>\n",
       "      <th>OnlineSecurity</th>\n",
       "      <th>OnlineBackup</th>\n",
       "      <th>DeviceProtection</th>\n",
       "      <th>TechSupport</th>\n",
       "      <th>StreamingTV</th>\n",
       "      <th>StreamingMovies</th>\n",
       "      <th>MultipleLines</th>\n",
       "      <th>churn</th>\n",
       "    </tr>\n",
       "  </thead>\n",
       "  <tbody>\n",
       "    <tr>\n",
       "      <th>0</th>\n",
       "      <td>7590-VHVEG</td>\n",
       "      <td>2020-01-01</td>\n",
       "      <td>No</td>\n",
       "      <td>Month-to-month</td>\n",
       "      <td>Yes</td>\n",
       "      <td>Electronic check</td>\n",
       "      <td>29.85</td>\n",
       "      <td>31.04</td>\n",
       "      <td>Female</td>\n",
       "      <td>0</td>\n",
       "      <td>...</td>\n",
       "      <td>No</td>\n",
       "      <td>DSL</td>\n",
       "      <td>No</td>\n",
       "      <td>Yes</td>\n",
       "      <td>No</td>\n",
       "      <td>No</td>\n",
       "      <td>No</td>\n",
       "      <td>No</td>\n",
       "      <td>NaN</td>\n",
       "      <td>0</td>\n",
       "    </tr>\n",
       "    <tr>\n",
       "      <th>1</th>\n",
       "      <td>5575-GNVDE</td>\n",
       "      <td>2017-04-01</td>\n",
       "      <td>No</td>\n",
       "      <td>One year</td>\n",
       "      <td>No</td>\n",
       "      <td>Mailed check</td>\n",
       "      <td>56.95</td>\n",
       "      <td>2071.84</td>\n",
       "      <td>Male</td>\n",
       "      <td>0</td>\n",
       "      <td>...</td>\n",
       "      <td>No</td>\n",
       "      <td>DSL</td>\n",
       "      <td>Yes</td>\n",
       "      <td>No</td>\n",
       "      <td>Yes</td>\n",
       "      <td>No</td>\n",
       "      <td>No</td>\n",
       "      <td>No</td>\n",
       "      <td>No</td>\n",
       "      <td>0</td>\n",
       "    </tr>\n",
       "    <tr>\n",
       "      <th>2</th>\n",
       "      <td>3668-QPYBK</td>\n",
       "      <td>2019-10-01</td>\n",
       "      <td>No</td>\n",
       "      <td>Month-to-month</td>\n",
       "      <td>Yes</td>\n",
       "      <td>Mailed check</td>\n",
       "      <td>53.85</td>\n",
       "      <td>226.17</td>\n",
       "      <td>Male</td>\n",
       "      <td>0</td>\n",
       "      <td>...</td>\n",
       "      <td>No</td>\n",
       "      <td>DSL</td>\n",
       "      <td>Yes</td>\n",
       "      <td>Yes</td>\n",
       "      <td>No</td>\n",
       "      <td>No</td>\n",
       "      <td>No</td>\n",
       "      <td>No</td>\n",
       "      <td>No</td>\n",
       "      <td>0</td>\n",
       "    </tr>\n",
       "    <tr>\n",
       "      <th>3</th>\n",
       "      <td>7795-CFOCW</td>\n",
       "      <td>2016-05-01</td>\n",
       "      <td>No</td>\n",
       "      <td>One year</td>\n",
       "      <td>No</td>\n",
       "      <td>Bank transfer (automatic)</td>\n",
       "      <td>42.30</td>\n",
       "      <td>1960.6</td>\n",
       "      <td>Male</td>\n",
       "      <td>0</td>\n",
       "      <td>...</td>\n",
       "      <td>No</td>\n",
       "      <td>DSL</td>\n",
       "      <td>Yes</td>\n",
       "      <td>No</td>\n",
       "      <td>Yes</td>\n",
       "      <td>Yes</td>\n",
       "      <td>No</td>\n",
       "      <td>No</td>\n",
       "      <td>NaN</td>\n",
       "      <td>0</td>\n",
       "    </tr>\n",
       "    <tr>\n",
       "      <th>4</th>\n",
       "      <td>9237-HQITU</td>\n",
       "      <td>2019-09-01</td>\n",
       "      <td>No</td>\n",
       "      <td>Month-to-month</td>\n",
       "      <td>Yes</td>\n",
       "      <td>Electronic check</td>\n",
       "      <td>70.70</td>\n",
       "      <td>353.5</td>\n",
       "      <td>Female</td>\n",
       "      <td>0</td>\n",
       "      <td>...</td>\n",
       "      <td>No</td>\n",
       "      <td>Fiber optic</td>\n",
       "      <td>No</td>\n",
       "      <td>No</td>\n",
       "      <td>No</td>\n",
       "      <td>No</td>\n",
       "      <td>No</td>\n",
       "      <td>No</td>\n",
       "      <td>No</td>\n",
       "      <td>0</td>\n",
       "    </tr>\n",
       "    <tr>\n",
       "      <th>5</th>\n",
       "      <td>9305-CDSKC</td>\n",
       "      <td>2019-03-01</td>\n",
       "      <td>No</td>\n",
       "      <td>Month-to-month</td>\n",
       "      <td>Yes</td>\n",
       "      <td>Electronic check</td>\n",
       "      <td>99.65</td>\n",
       "      <td>1150.96</td>\n",
       "      <td>Female</td>\n",
       "      <td>0</td>\n",
       "      <td>...</td>\n",
       "      <td>No</td>\n",
       "      <td>Fiber optic</td>\n",
       "      <td>No</td>\n",
       "      <td>No</td>\n",
       "      <td>Yes</td>\n",
       "      <td>No</td>\n",
       "      <td>Yes</td>\n",
       "      <td>Yes</td>\n",
       "      <td>Yes</td>\n",
       "      <td>0</td>\n",
       "    </tr>\n",
       "    <tr>\n",
       "      <th>6</th>\n",
       "      <td>1452-KIOVK</td>\n",
       "      <td>2018-04-01</td>\n",
       "      <td>No</td>\n",
       "      <td>Month-to-month</td>\n",
       "      <td>Yes</td>\n",
       "      <td>Credit card (automatic)</td>\n",
       "      <td>89.10</td>\n",
       "      <td>2058.21</td>\n",
       "      <td>Male</td>\n",
       "      <td>0</td>\n",
       "      <td>...</td>\n",
       "      <td>Yes</td>\n",
       "      <td>Fiber optic</td>\n",
       "      <td>No</td>\n",
       "      <td>Yes</td>\n",
       "      <td>No</td>\n",
       "      <td>No</td>\n",
       "      <td>Yes</td>\n",
       "      <td>No</td>\n",
       "      <td>Yes</td>\n",
       "      <td>0</td>\n",
       "    </tr>\n",
       "    <tr>\n",
       "      <th>7</th>\n",
       "      <td>6713-OKOMC</td>\n",
       "      <td>2019-04-01</td>\n",
       "      <td>No</td>\n",
       "      <td>Month-to-month</td>\n",
       "      <td>No</td>\n",
       "      <td>Mailed check</td>\n",
       "      <td>29.75</td>\n",
       "      <td>300.48</td>\n",
       "      <td>Female</td>\n",
       "      <td>0</td>\n",
       "      <td>...</td>\n",
       "      <td>No</td>\n",
       "      <td>DSL</td>\n",
       "      <td>Yes</td>\n",
       "      <td>No</td>\n",
       "      <td>No</td>\n",
       "      <td>No</td>\n",
       "      <td>No</td>\n",
       "      <td>No</td>\n",
       "      <td>NaN</td>\n",
       "      <td>0</td>\n",
       "    </tr>\n",
       "    <tr>\n",
       "      <th>8</th>\n",
       "      <td>7892-POOKP</td>\n",
       "      <td>2017-07-01</td>\n",
       "      <td>No</td>\n",
       "      <td>Month-to-month</td>\n",
       "      <td>Yes</td>\n",
       "      <td>Electronic check</td>\n",
       "      <td>104.80</td>\n",
       "      <td>3573.68</td>\n",
       "      <td>Female</td>\n",
       "      <td>0</td>\n",
       "      <td>...</td>\n",
       "      <td>No</td>\n",
       "      <td>Fiber optic</td>\n",
       "      <td>No</td>\n",
       "      <td>No</td>\n",
       "      <td>Yes</td>\n",
       "      <td>Yes</td>\n",
       "      <td>Yes</td>\n",
       "      <td>Yes</td>\n",
       "      <td>Yes</td>\n",
       "      <td>0</td>\n",
       "    </tr>\n",
       "    <tr>\n",
       "      <th>9</th>\n",
       "      <td>6388-TABGU</td>\n",
       "      <td>2014-12-01</td>\n",
       "      <td>2017-05-01</td>\n",
       "      <td>One year</td>\n",
       "      <td>No</td>\n",
       "      <td>Bank transfer (automatic)</td>\n",
       "      <td>56.15</td>\n",
       "      <td>1628.35</td>\n",
       "      <td>Male</td>\n",
       "      <td>0</td>\n",
       "      <td>...</td>\n",
       "      <td>Yes</td>\n",
       "      <td>DSL</td>\n",
       "      <td>Yes</td>\n",
       "      <td>Yes</td>\n",
       "      <td>No</td>\n",
       "      <td>No</td>\n",
       "      <td>No</td>\n",
       "      <td>No</td>\n",
       "      <td>No</td>\n",
       "      <td>1</td>\n",
       "    </tr>\n",
       "    <tr>\n",
       "      <th>10</th>\n",
       "      <td>9763-GRSKD</td>\n",
       "      <td>2019-01-01</td>\n",
       "      <td>No</td>\n",
       "      <td>Month-to-month</td>\n",
       "      <td>Yes</td>\n",
       "      <td>Mailed check</td>\n",
       "      <td>49.95</td>\n",
       "      <td>649.35</td>\n",
       "      <td>Male</td>\n",
       "      <td>0</td>\n",
       "      <td>...</td>\n",
       "      <td>Yes</td>\n",
       "      <td>DSL</td>\n",
       "      <td>Yes</td>\n",
       "      <td>No</td>\n",
       "      <td>No</td>\n",
       "      <td>No</td>\n",
       "      <td>No</td>\n",
       "      <td>No</td>\n",
       "      <td>No</td>\n",
       "      <td>0</td>\n",
       "    </tr>\n",
       "    <tr>\n",
       "      <th>11</th>\n",
       "      <td>7469-LKBCI</td>\n",
       "      <td>2018-10-01</td>\n",
       "      <td>No</td>\n",
       "      <td>Two year</td>\n",
       "      <td>No</td>\n",
       "      <td>Credit card (automatic)</td>\n",
       "      <td>18.95</td>\n",
       "      <td>312.3</td>\n",
       "      <td>Male</td>\n",
       "      <td>0</td>\n",
       "      <td>...</td>\n",
       "      <td>No</td>\n",
       "      <td>NaN</td>\n",
       "      <td>NaN</td>\n",
       "      <td>NaN</td>\n",
       "      <td>NaN</td>\n",
       "      <td>NaN</td>\n",
       "      <td>NaN</td>\n",
       "      <td>NaN</td>\n",
       "      <td>No</td>\n",
       "      <td>0</td>\n",
       "    </tr>\n",
       "    <tr>\n",
       "      <th>12</th>\n",
       "      <td>8091-TTVAX</td>\n",
       "      <td>2015-04-01</td>\n",
       "      <td>No</td>\n",
       "      <td>One year</td>\n",
       "      <td>No</td>\n",
       "      <td>Credit card (automatic)</td>\n",
       "      <td>100.35</td>\n",
       "      <td>6111.31</td>\n",
       "      <td>Male</td>\n",
       "      <td>0</td>\n",
       "      <td>...</td>\n",
       "      <td>No</td>\n",
       "      <td>Fiber optic</td>\n",
       "      <td>No</td>\n",
       "      <td>No</td>\n",
       "      <td>Yes</td>\n",
       "      <td>No</td>\n",
       "      <td>Yes</td>\n",
       "      <td>Yes</td>\n",
       "      <td>Yes</td>\n",
       "      <td>0</td>\n",
       "    </tr>\n",
       "    <tr>\n",
       "      <th>13</th>\n",
       "      <td>0280-XJGEX</td>\n",
       "      <td>2015-09-01</td>\n",
       "      <td>No</td>\n",
       "      <td>Month-to-month</td>\n",
       "      <td>Yes</td>\n",
       "      <td>Bank transfer (automatic)</td>\n",
       "      <td>103.70</td>\n",
       "      <td>5496.1</td>\n",
       "      <td>Male</td>\n",
       "      <td>0</td>\n",
       "      <td>...</td>\n",
       "      <td>No</td>\n",
       "      <td>Fiber optic</td>\n",
       "      <td>No</td>\n",
       "      <td>Yes</td>\n",
       "      <td>Yes</td>\n",
       "      <td>No</td>\n",
       "      <td>Yes</td>\n",
       "      <td>Yes</td>\n",
       "      <td>Yes</td>\n",
       "      <td>0</td>\n",
       "    </tr>\n",
       "    <tr>\n",
       "      <th>14</th>\n",
       "      <td>5129-JLPIS</td>\n",
       "      <td>2018-01-01</td>\n",
       "      <td>No</td>\n",
       "      <td>Month-to-month</td>\n",
       "      <td>Yes</td>\n",
       "      <td>Electronic check</td>\n",
       "      <td>105.50</td>\n",
       "      <td>2637.5</td>\n",
       "      <td>Male</td>\n",
       "      <td>0</td>\n",
       "      <td>...</td>\n",
       "      <td>No</td>\n",
       "      <td>Fiber optic</td>\n",
       "      <td>Yes</td>\n",
       "      <td>No</td>\n",
       "      <td>Yes</td>\n",
       "      <td>Yes</td>\n",
       "      <td>Yes</td>\n",
       "      <td>Yes</td>\n",
       "      <td>No</td>\n",
       "      <td>0</td>\n",
       "    </tr>\n",
       "  </tbody>\n",
       "</table>\n",
       "<p>15 rows × 21 columns</p>\n",
       "</div>"
      ],
      "text/plain": [
       "    customerID   BeginDate     EndDate            Type PaperlessBilling  \\\n",
       "0   7590-VHVEG  2020-01-01          No  Month-to-month              Yes   \n",
       "1   5575-GNVDE  2017-04-01          No        One year               No   \n",
       "2   3668-QPYBK  2019-10-01          No  Month-to-month              Yes   \n",
       "3   7795-CFOCW  2016-05-01          No        One year               No   \n",
       "4   9237-HQITU  2019-09-01          No  Month-to-month              Yes   \n",
       "5   9305-CDSKC  2019-03-01          No  Month-to-month              Yes   \n",
       "6   1452-KIOVK  2018-04-01          No  Month-to-month              Yes   \n",
       "7   6713-OKOMC  2019-04-01          No  Month-to-month               No   \n",
       "8   7892-POOKP  2017-07-01          No  Month-to-month              Yes   \n",
       "9   6388-TABGU  2014-12-01  2017-05-01        One year               No   \n",
       "10  9763-GRSKD  2019-01-01          No  Month-to-month              Yes   \n",
       "11  7469-LKBCI  2018-10-01          No        Two year               No   \n",
       "12  8091-TTVAX  2015-04-01          No        One year               No   \n",
       "13  0280-XJGEX  2015-09-01          No  Month-to-month              Yes   \n",
       "14  5129-JLPIS  2018-01-01          No  Month-to-month              Yes   \n",
       "\n",
       "                PaymentMethod  MonthlyCharges TotalCharges  gender  \\\n",
       "0            Electronic check           29.85        31.04  Female   \n",
       "1                Mailed check           56.95      2071.84    Male   \n",
       "2                Mailed check           53.85       226.17    Male   \n",
       "3   Bank transfer (automatic)           42.30       1960.6    Male   \n",
       "4            Electronic check           70.70        353.5  Female   \n",
       "5            Electronic check           99.65      1150.96  Female   \n",
       "6     Credit card (automatic)           89.10      2058.21    Male   \n",
       "7                Mailed check           29.75       300.48  Female   \n",
       "8            Electronic check          104.80      3573.68  Female   \n",
       "9   Bank transfer (automatic)           56.15      1628.35    Male   \n",
       "10               Mailed check           49.95       649.35    Male   \n",
       "11    Credit card (automatic)           18.95        312.3    Male   \n",
       "12    Credit card (automatic)          100.35      6111.31    Male   \n",
       "13  Bank transfer (automatic)          103.70       5496.1    Male   \n",
       "14           Electronic check          105.50       2637.5    Male   \n",
       "\n",
       "    SeniorCitizen  ... Dependents InternetService OnlineSecurity OnlineBackup  \\\n",
       "0               0  ...         No             DSL             No          Yes   \n",
       "1               0  ...         No             DSL            Yes           No   \n",
       "2               0  ...         No             DSL            Yes          Yes   \n",
       "3               0  ...         No             DSL            Yes           No   \n",
       "4               0  ...         No     Fiber optic             No           No   \n",
       "5               0  ...         No     Fiber optic             No           No   \n",
       "6               0  ...        Yes     Fiber optic             No          Yes   \n",
       "7               0  ...         No             DSL            Yes           No   \n",
       "8               0  ...         No     Fiber optic             No           No   \n",
       "9               0  ...        Yes             DSL            Yes          Yes   \n",
       "10              0  ...        Yes             DSL            Yes           No   \n",
       "11              0  ...         No             NaN            NaN          NaN   \n",
       "12              0  ...         No     Fiber optic             No           No   \n",
       "13              0  ...         No     Fiber optic             No          Yes   \n",
       "14              0  ...         No     Fiber optic            Yes           No   \n",
       "\n",
       "   DeviceProtection TechSupport StreamingTV StreamingMovies MultipleLines  \\\n",
       "0                No          No          No              No           NaN   \n",
       "1               Yes          No          No              No            No   \n",
       "2                No          No          No              No            No   \n",
       "3               Yes         Yes          No              No           NaN   \n",
       "4                No          No          No              No            No   \n",
       "5               Yes          No         Yes             Yes           Yes   \n",
       "6                No          No         Yes              No           Yes   \n",
       "7                No          No          No              No           NaN   \n",
       "8               Yes         Yes         Yes             Yes           Yes   \n",
       "9                No          No          No              No            No   \n",
       "10               No          No          No              No            No   \n",
       "11              NaN         NaN         NaN             NaN            No   \n",
       "12              Yes          No         Yes             Yes           Yes   \n",
       "13              Yes          No         Yes             Yes           Yes   \n",
       "14              Yes         Yes         Yes             Yes            No   \n",
       "\n",
       "   churn  \n",
       "0      0  \n",
       "1      0  \n",
       "2      0  \n",
       "3      0  \n",
       "4      0  \n",
       "5      0  \n",
       "6      0  \n",
       "7      0  \n",
       "8      0  \n",
       "9      1  \n",
       "10     0  \n",
       "11     0  \n",
       "12     0  \n",
       "13     0  \n",
       "14     0  \n",
       "\n",
       "[15 rows x 21 columns]"
      ]
     },
     "execution_count": 14,
     "metadata": {},
     "output_type": "execute_result"
    }
   ],
   "source": [
    "data.head(15)"
   ]
  },
  {
   "cell_type": "code",
   "execution_count": 15,
   "id": "686c08b5",
   "metadata": {
    "scrolled": true
   },
   "outputs": [
    {
     "name": "stdout",
     "output_type": "stream",
     "text": [
      "<class 'pandas.core.frame.DataFrame'>\n",
      "Int64Index: 7043 entries, 0 to 7042\n",
      "Data columns (total 21 columns):\n",
      " #   Column            Non-Null Count  Dtype  \n",
      "---  ------            --------------  -----  \n",
      " 0   customerID        7043 non-null   object \n",
      " 1   BeginDate         7043 non-null   object \n",
      " 2   EndDate           7043 non-null   object \n",
      " 3   Type              7043 non-null   object \n",
      " 4   PaperlessBilling  7043 non-null   object \n",
      " 5   PaymentMethod     7043 non-null   object \n",
      " 6   MonthlyCharges    7043 non-null   float64\n",
      " 7   TotalCharges      7043 non-null   object \n",
      " 8   gender            7043 non-null   object \n",
      " 9   SeniorCitizen     7043 non-null   int64  \n",
      " 10  Partner           7043 non-null   object \n",
      " 11  Dependents        7043 non-null   object \n",
      " 12  InternetService   5517 non-null   object \n",
      " 13  OnlineSecurity    5517 non-null   object \n",
      " 14  OnlineBackup      5517 non-null   object \n",
      " 15  DeviceProtection  5517 non-null   object \n",
      " 16  TechSupport       5517 non-null   object \n",
      " 17  StreamingTV       5517 non-null   object \n",
      " 18  StreamingMovies   5517 non-null   object \n",
      " 19  MultipleLines     6361 non-null   object \n",
      " 20  churn             7043 non-null   int64  \n",
      "dtypes: float64(1), int64(2), object(18)\n",
      "memory usage: 1.2+ MB\n"
     ]
    }
   ],
   "source": [
    "data.info()"
   ]
  },
  {
   "cell_type": "code",
   "execution_count": 16,
   "id": "d6469da9",
   "metadata": {},
   "outputs": [
    {
     "ename": "NameError",
     "evalue": "name 'profile' is not defined",
     "output_type": "error",
     "traceback": [
      "\u001b[0;31m---------------------------------------------------------------------------\u001b[0m",
      "\u001b[0;31mNameError\u001b[0m                                 Traceback (most recent call last)",
      "\u001b[0;32m/tmp/ipykernel_218/2981251353.py\u001b[0m in \u001b[0;36m<module>\u001b[0;34m\u001b[0m\n\u001b[0;32m----> 1\u001b[0;31m \u001b[0mview_information\u001b[0m\u001b[0;34m(\u001b[0m\u001b[0mdata\u001b[0m\u001b[0;34m)\u001b[0m\u001b[0;34m\u001b[0m\u001b[0;34m\u001b[0m\u001b[0m\n\u001b[0m",
      "\u001b[0;32m/tmp/ipykernel_218/3800269547.py\u001b[0m in \u001b[0;36mview_information\u001b[0;34m(data)\u001b[0m\n\u001b[1;32m      2\u001b[0m \u001b[0;32mdef\u001b[0m \u001b[0mview_information\u001b[0m\u001b[0;34m(\u001b[0m\u001b[0mdata\u001b[0m\u001b[0;34m)\u001b[0m\u001b[0;34m:\u001b[0m\u001b[0;34m\u001b[0m\u001b[0;34m\u001b[0m\u001b[0m\n\u001b[1;32m      3\u001b[0m     \u001b[0mProfileReport\u001b[0m\u001b[0;34m(\u001b[0m\u001b[0mdata\u001b[0m\u001b[0;34m,\u001b[0m \u001b[0mtitle\u001b[0m\u001b[0;34m=\u001b[0m\u001b[0;34m\"Data Profiling Report\"\u001b[0m\u001b[0;34m)\u001b[0m\u001b[0;34m\u001b[0m\u001b[0;34m\u001b[0m\u001b[0m\n\u001b[0;32m----> 4\u001b[0;31m     \u001b[0mprint\u001b[0m\u001b[0;34m(\u001b[0m\u001b[0mprofile\u001b[0m\u001b[0;34m.\u001b[0m\u001b[0mto_widgets\u001b[0m\u001b[0;34m(\u001b[0m\u001b[0;34m)\u001b[0m\u001b[0;34m)\u001b[0m\u001b[0;34m\u001b[0m\u001b[0;34m\u001b[0m\u001b[0m\n\u001b[0m",
      "\u001b[0;31mNameError\u001b[0m: name 'profile' is not defined"
     ]
    }
   ],
   "source": [
    "view_information(data)"
   ]
  },
  {
   "cell_type": "markdown",
   "id": "c9bfdf65",
   "metadata": {},
   "source": [
    "После объединения датасетов и создания столбца с таргетом, мы получили 21 столбец с 7043 строками. \n",
    "Мы видим наличие технологических пропусков в столбцах `InternetService`, `OnlineSecurity`,`OnlineBackup`,`DeviceProtection`,`TechSupport`, `StreamingTV`,`StreamingMovies`,`MultipleLines` связанных с тем, что часть клиентов пользуется интернетом, а другие телефонией. \n",
    "Поэтому пропуски в данных столбцах заменим \"заглушкой\" - 'No'.\n"
   ]
  },
  {
   "cell_type": "markdown",
   "id": "6a475926",
   "metadata": {},
   "source": [
    "<div class=\"alert alert-success\">\n",
    "<b>✔️ Комментарий ревьювера:</b> Как рекомендация, пропуски можно заполнить значением No, так будет меньше лишних категорий\n",
    "    \n",
    "</div>"
   ]
  },
  {
   "cell_type": "markdown",
   "id": "1bb28205",
   "metadata": {},
   "source": [
    "<div class=\"alert alert-info\"> <b>ℹ️ Комментарий студента: </b> Привет, Арсен! Скажи пожалуйста, то есть если мы заполним как No, то есть вероятность что может улучшиться метрика?</div>"
   ]
  },
  {
   "cell_type": "markdown",
   "id": "69eaf034",
   "metadata": {},
   "source": [
    "<div class=\"alert alert-success\">\n",
    "<b>✔️ Комментарий ревьювера v2:</b> Как минимум после кодирования будет меньше признаков и модель будет обучаться быстрее\n",
    "    \n",
    "В случае бинарных признаков, категория not_used будет дополнительной, а в случае No останутся только две категории, Yes/No\n",
    "    \n",
    "Для признака InternetService будут значения DSL/FiberOptic/No\n",
    "    \n",
    "</div>"
   ]
  },
  {
   "cell_type": "markdown",
   "id": "38951628",
   "metadata": {},
   "source": [
    "<div class=\"alert alert-info\"> <b>ℹ️ Комментарий студента2: </b> Привет, Арсен!  Поняла, спасибо! </div>"
   ]
  },
  {
   "cell_type": "markdown",
   "id": "1f60f208",
   "metadata": {},
   "source": [
    "<div class=\"alert alert-success\">\n",
    "<b>✔️ Комментарий тимлида v2:</b> Хорошо =)\n",
    "    \n",
    "</div>"
   ]
  },
  {
   "cell_type": "code",
   "execution_count": 17,
   "id": "5677b63b",
   "metadata": {},
   "outputs": [],
   "source": [
    "data = data.fillna('No')"
   ]
  },
  {
   "cell_type": "code",
   "execution_count": 18,
   "id": "7e2b6632",
   "metadata": {},
   "outputs": [
    {
     "data": {
      "text/html": [
       "<div>\n",
       "<style scoped>\n",
       "    .dataframe tbody tr th:only-of-type {\n",
       "        vertical-align: middle;\n",
       "    }\n",
       "\n",
       "    .dataframe tbody tr th {\n",
       "        vertical-align: top;\n",
       "    }\n",
       "\n",
       "    .dataframe thead th {\n",
       "        text-align: right;\n",
       "    }\n",
       "</style>\n",
       "<table border=\"1\" class=\"dataframe\">\n",
       "  <thead>\n",
       "    <tr style=\"text-align: right;\">\n",
       "      <th></th>\n",
       "      <th>customerID</th>\n",
       "      <th>BeginDate</th>\n",
       "      <th>EndDate</th>\n",
       "      <th>Type</th>\n",
       "      <th>PaperlessBilling</th>\n",
       "      <th>PaymentMethod</th>\n",
       "      <th>MonthlyCharges</th>\n",
       "      <th>TotalCharges</th>\n",
       "      <th>gender</th>\n",
       "      <th>SeniorCitizen</th>\n",
       "      <th>...</th>\n",
       "      <th>Dependents</th>\n",
       "      <th>InternetService</th>\n",
       "      <th>OnlineSecurity</th>\n",
       "      <th>OnlineBackup</th>\n",
       "      <th>DeviceProtection</th>\n",
       "      <th>TechSupport</th>\n",
       "      <th>StreamingTV</th>\n",
       "      <th>StreamingMovies</th>\n",
       "      <th>MultipleLines</th>\n",
       "      <th>churn</th>\n",
       "    </tr>\n",
       "  </thead>\n",
       "  <tbody>\n",
       "    <tr>\n",
       "      <th>0</th>\n",
       "      <td>7590-VHVEG</td>\n",
       "      <td>2020-01-01</td>\n",
       "      <td>No</td>\n",
       "      <td>Month-to-month</td>\n",
       "      <td>Yes</td>\n",
       "      <td>Electronic check</td>\n",
       "      <td>29.85</td>\n",
       "      <td>31.04</td>\n",
       "      <td>Female</td>\n",
       "      <td>0</td>\n",
       "      <td>...</td>\n",
       "      <td>No</td>\n",
       "      <td>DSL</td>\n",
       "      <td>No</td>\n",
       "      <td>Yes</td>\n",
       "      <td>No</td>\n",
       "      <td>No</td>\n",
       "      <td>No</td>\n",
       "      <td>No</td>\n",
       "      <td>No</td>\n",
       "      <td>0</td>\n",
       "    </tr>\n",
       "    <tr>\n",
       "      <th>1</th>\n",
       "      <td>5575-GNVDE</td>\n",
       "      <td>2017-04-01</td>\n",
       "      <td>No</td>\n",
       "      <td>One year</td>\n",
       "      <td>No</td>\n",
       "      <td>Mailed check</td>\n",
       "      <td>56.95</td>\n",
       "      <td>2071.84</td>\n",
       "      <td>Male</td>\n",
       "      <td>0</td>\n",
       "      <td>...</td>\n",
       "      <td>No</td>\n",
       "      <td>DSL</td>\n",
       "      <td>Yes</td>\n",
       "      <td>No</td>\n",
       "      <td>Yes</td>\n",
       "      <td>No</td>\n",
       "      <td>No</td>\n",
       "      <td>No</td>\n",
       "      <td>No</td>\n",
       "      <td>0</td>\n",
       "    </tr>\n",
       "    <tr>\n",
       "      <th>2</th>\n",
       "      <td>3668-QPYBK</td>\n",
       "      <td>2019-10-01</td>\n",
       "      <td>No</td>\n",
       "      <td>Month-to-month</td>\n",
       "      <td>Yes</td>\n",
       "      <td>Mailed check</td>\n",
       "      <td>53.85</td>\n",
       "      <td>226.17</td>\n",
       "      <td>Male</td>\n",
       "      <td>0</td>\n",
       "      <td>...</td>\n",
       "      <td>No</td>\n",
       "      <td>DSL</td>\n",
       "      <td>Yes</td>\n",
       "      <td>Yes</td>\n",
       "      <td>No</td>\n",
       "      <td>No</td>\n",
       "      <td>No</td>\n",
       "      <td>No</td>\n",
       "      <td>No</td>\n",
       "      <td>0</td>\n",
       "    </tr>\n",
       "    <tr>\n",
       "      <th>3</th>\n",
       "      <td>7795-CFOCW</td>\n",
       "      <td>2016-05-01</td>\n",
       "      <td>No</td>\n",
       "      <td>One year</td>\n",
       "      <td>No</td>\n",
       "      <td>Bank transfer (automatic)</td>\n",
       "      <td>42.30</td>\n",
       "      <td>1960.6</td>\n",
       "      <td>Male</td>\n",
       "      <td>0</td>\n",
       "      <td>...</td>\n",
       "      <td>No</td>\n",
       "      <td>DSL</td>\n",
       "      <td>Yes</td>\n",
       "      <td>No</td>\n",
       "      <td>Yes</td>\n",
       "      <td>Yes</td>\n",
       "      <td>No</td>\n",
       "      <td>No</td>\n",
       "      <td>No</td>\n",
       "      <td>0</td>\n",
       "    </tr>\n",
       "    <tr>\n",
       "      <th>4</th>\n",
       "      <td>9237-HQITU</td>\n",
       "      <td>2019-09-01</td>\n",
       "      <td>No</td>\n",
       "      <td>Month-to-month</td>\n",
       "      <td>Yes</td>\n",
       "      <td>Electronic check</td>\n",
       "      <td>70.70</td>\n",
       "      <td>353.5</td>\n",
       "      <td>Female</td>\n",
       "      <td>0</td>\n",
       "      <td>...</td>\n",
       "      <td>No</td>\n",
       "      <td>Fiber optic</td>\n",
       "      <td>No</td>\n",
       "      <td>No</td>\n",
       "      <td>No</td>\n",
       "      <td>No</td>\n",
       "      <td>No</td>\n",
       "      <td>No</td>\n",
       "      <td>No</td>\n",
       "      <td>0</td>\n",
       "    </tr>\n",
       "    <tr>\n",
       "      <th>5</th>\n",
       "      <td>9305-CDSKC</td>\n",
       "      <td>2019-03-01</td>\n",
       "      <td>No</td>\n",
       "      <td>Month-to-month</td>\n",
       "      <td>Yes</td>\n",
       "      <td>Electronic check</td>\n",
       "      <td>99.65</td>\n",
       "      <td>1150.96</td>\n",
       "      <td>Female</td>\n",
       "      <td>0</td>\n",
       "      <td>...</td>\n",
       "      <td>No</td>\n",
       "      <td>Fiber optic</td>\n",
       "      <td>No</td>\n",
       "      <td>No</td>\n",
       "      <td>Yes</td>\n",
       "      <td>No</td>\n",
       "      <td>Yes</td>\n",
       "      <td>Yes</td>\n",
       "      <td>Yes</td>\n",
       "      <td>0</td>\n",
       "    </tr>\n",
       "    <tr>\n",
       "      <th>6</th>\n",
       "      <td>1452-KIOVK</td>\n",
       "      <td>2018-04-01</td>\n",
       "      <td>No</td>\n",
       "      <td>Month-to-month</td>\n",
       "      <td>Yes</td>\n",
       "      <td>Credit card (automatic)</td>\n",
       "      <td>89.10</td>\n",
       "      <td>2058.21</td>\n",
       "      <td>Male</td>\n",
       "      <td>0</td>\n",
       "      <td>...</td>\n",
       "      <td>Yes</td>\n",
       "      <td>Fiber optic</td>\n",
       "      <td>No</td>\n",
       "      <td>Yes</td>\n",
       "      <td>No</td>\n",
       "      <td>No</td>\n",
       "      <td>Yes</td>\n",
       "      <td>No</td>\n",
       "      <td>Yes</td>\n",
       "      <td>0</td>\n",
       "    </tr>\n",
       "    <tr>\n",
       "      <th>7</th>\n",
       "      <td>6713-OKOMC</td>\n",
       "      <td>2019-04-01</td>\n",
       "      <td>No</td>\n",
       "      <td>Month-to-month</td>\n",
       "      <td>No</td>\n",
       "      <td>Mailed check</td>\n",
       "      <td>29.75</td>\n",
       "      <td>300.48</td>\n",
       "      <td>Female</td>\n",
       "      <td>0</td>\n",
       "      <td>...</td>\n",
       "      <td>No</td>\n",
       "      <td>DSL</td>\n",
       "      <td>Yes</td>\n",
       "      <td>No</td>\n",
       "      <td>No</td>\n",
       "      <td>No</td>\n",
       "      <td>No</td>\n",
       "      <td>No</td>\n",
       "      <td>No</td>\n",
       "      <td>0</td>\n",
       "    </tr>\n",
       "    <tr>\n",
       "      <th>8</th>\n",
       "      <td>7892-POOKP</td>\n",
       "      <td>2017-07-01</td>\n",
       "      <td>No</td>\n",
       "      <td>Month-to-month</td>\n",
       "      <td>Yes</td>\n",
       "      <td>Electronic check</td>\n",
       "      <td>104.80</td>\n",
       "      <td>3573.68</td>\n",
       "      <td>Female</td>\n",
       "      <td>0</td>\n",
       "      <td>...</td>\n",
       "      <td>No</td>\n",
       "      <td>Fiber optic</td>\n",
       "      <td>No</td>\n",
       "      <td>No</td>\n",
       "      <td>Yes</td>\n",
       "      <td>Yes</td>\n",
       "      <td>Yes</td>\n",
       "      <td>Yes</td>\n",
       "      <td>Yes</td>\n",
       "      <td>0</td>\n",
       "    </tr>\n",
       "    <tr>\n",
       "      <th>9</th>\n",
       "      <td>6388-TABGU</td>\n",
       "      <td>2014-12-01</td>\n",
       "      <td>2017-05-01</td>\n",
       "      <td>One year</td>\n",
       "      <td>No</td>\n",
       "      <td>Bank transfer (automatic)</td>\n",
       "      <td>56.15</td>\n",
       "      <td>1628.35</td>\n",
       "      <td>Male</td>\n",
       "      <td>0</td>\n",
       "      <td>...</td>\n",
       "      <td>Yes</td>\n",
       "      <td>DSL</td>\n",
       "      <td>Yes</td>\n",
       "      <td>Yes</td>\n",
       "      <td>No</td>\n",
       "      <td>No</td>\n",
       "      <td>No</td>\n",
       "      <td>No</td>\n",
       "      <td>No</td>\n",
       "      <td>1</td>\n",
       "    </tr>\n",
       "    <tr>\n",
       "      <th>10</th>\n",
       "      <td>9763-GRSKD</td>\n",
       "      <td>2019-01-01</td>\n",
       "      <td>No</td>\n",
       "      <td>Month-to-month</td>\n",
       "      <td>Yes</td>\n",
       "      <td>Mailed check</td>\n",
       "      <td>49.95</td>\n",
       "      <td>649.35</td>\n",
       "      <td>Male</td>\n",
       "      <td>0</td>\n",
       "      <td>...</td>\n",
       "      <td>Yes</td>\n",
       "      <td>DSL</td>\n",
       "      <td>Yes</td>\n",
       "      <td>No</td>\n",
       "      <td>No</td>\n",
       "      <td>No</td>\n",
       "      <td>No</td>\n",
       "      <td>No</td>\n",
       "      <td>No</td>\n",
       "      <td>0</td>\n",
       "    </tr>\n",
       "    <tr>\n",
       "      <th>11</th>\n",
       "      <td>7469-LKBCI</td>\n",
       "      <td>2018-10-01</td>\n",
       "      <td>No</td>\n",
       "      <td>Two year</td>\n",
       "      <td>No</td>\n",
       "      <td>Credit card (automatic)</td>\n",
       "      <td>18.95</td>\n",
       "      <td>312.3</td>\n",
       "      <td>Male</td>\n",
       "      <td>0</td>\n",
       "      <td>...</td>\n",
       "      <td>No</td>\n",
       "      <td>No</td>\n",
       "      <td>No</td>\n",
       "      <td>No</td>\n",
       "      <td>No</td>\n",
       "      <td>No</td>\n",
       "      <td>No</td>\n",
       "      <td>No</td>\n",
       "      <td>No</td>\n",
       "      <td>0</td>\n",
       "    </tr>\n",
       "    <tr>\n",
       "      <th>12</th>\n",
       "      <td>8091-TTVAX</td>\n",
       "      <td>2015-04-01</td>\n",
       "      <td>No</td>\n",
       "      <td>One year</td>\n",
       "      <td>No</td>\n",
       "      <td>Credit card (automatic)</td>\n",
       "      <td>100.35</td>\n",
       "      <td>6111.31</td>\n",
       "      <td>Male</td>\n",
       "      <td>0</td>\n",
       "      <td>...</td>\n",
       "      <td>No</td>\n",
       "      <td>Fiber optic</td>\n",
       "      <td>No</td>\n",
       "      <td>No</td>\n",
       "      <td>Yes</td>\n",
       "      <td>No</td>\n",
       "      <td>Yes</td>\n",
       "      <td>Yes</td>\n",
       "      <td>Yes</td>\n",
       "      <td>0</td>\n",
       "    </tr>\n",
       "    <tr>\n",
       "      <th>13</th>\n",
       "      <td>0280-XJGEX</td>\n",
       "      <td>2015-09-01</td>\n",
       "      <td>No</td>\n",
       "      <td>Month-to-month</td>\n",
       "      <td>Yes</td>\n",
       "      <td>Bank transfer (automatic)</td>\n",
       "      <td>103.70</td>\n",
       "      <td>5496.1</td>\n",
       "      <td>Male</td>\n",
       "      <td>0</td>\n",
       "      <td>...</td>\n",
       "      <td>No</td>\n",
       "      <td>Fiber optic</td>\n",
       "      <td>No</td>\n",
       "      <td>Yes</td>\n",
       "      <td>Yes</td>\n",
       "      <td>No</td>\n",
       "      <td>Yes</td>\n",
       "      <td>Yes</td>\n",
       "      <td>Yes</td>\n",
       "      <td>0</td>\n",
       "    </tr>\n",
       "    <tr>\n",
       "      <th>14</th>\n",
       "      <td>5129-JLPIS</td>\n",
       "      <td>2018-01-01</td>\n",
       "      <td>No</td>\n",
       "      <td>Month-to-month</td>\n",
       "      <td>Yes</td>\n",
       "      <td>Electronic check</td>\n",
       "      <td>105.50</td>\n",
       "      <td>2637.5</td>\n",
       "      <td>Male</td>\n",
       "      <td>0</td>\n",
       "      <td>...</td>\n",
       "      <td>No</td>\n",
       "      <td>Fiber optic</td>\n",
       "      <td>Yes</td>\n",
       "      <td>No</td>\n",
       "      <td>Yes</td>\n",
       "      <td>Yes</td>\n",
       "      <td>Yes</td>\n",
       "      <td>Yes</td>\n",
       "      <td>No</td>\n",
       "      <td>0</td>\n",
       "    </tr>\n",
       "  </tbody>\n",
       "</table>\n",
       "<p>15 rows × 21 columns</p>\n",
       "</div>"
      ],
      "text/plain": [
       "    customerID   BeginDate     EndDate            Type PaperlessBilling  \\\n",
       "0   7590-VHVEG  2020-01-01          No  Month-to-month              Yes   \n",
       "1   5575-GNVDE  2017-04-01          No        One year               No   \n",
       "2   3668-QPYBK  2019-10-01          No  Month-to-month              Yes   \n",
       "3   7795-CFOCW  2016-05-01          No        One year               No   \n",
       "4   9237-HQITU  2019-09-01          No  Month-to-month              Yes   \n",
       "5   9305-CDSKC  2019-03-01          No  Month-to-month              Yes   \n",
       "6   1452-KIOVK  2018-04-01          No  Month-to-month              Yes   \n",
       "7   6713-OKOMC  2019-04-01          No  Month-to-month               No   \n",
       "8   7892-POOKP  2017-07-01          No  Month-to-month              Yes   \n",
       "9   6388-TABGU  2014-12-01  2017-05-01        One year               No   \n",
       "10  9763-GRSKD  2019-01-01          No  Month-to-month              Yes   \n",
       "11  7469-LKBCI  2018-10-01          No        Two year               No   \n",
       "12  8091-TTVAX  2015-04-01          No        One year               No   \n",
       "13  0280-XJGEX  2015-09-01          No  Month-to-month              Yes   \n",
       "14  5129-JLPIS  2018-01-01          No  Month-to-month              Yes   \n",
       "\n",
       "                PaymentMethod  MonthlyCharges TotalCharges  gender  \\\n",
       "0            Electronic check           29.85        31.04  Female   \n",
       "1                Mailed check           56.95      2071.84    Male   \n",
       "2                Mailed check           53.85       226.17    Male   \n",
       "3   Bank transfer (automatic)           42.30       1960.6    Male   \n",
       "4            Electronic check           70.70        353.5  Female   \n",
       "5            Electronic check           99.65      1150.96  Female   \n",
       "6     Credit card (automatic)           89.10      2058.21    Male   \n",
       "7                Mailed check           29.75       300.48  Female   \n",
       "8            Electronic check          104.80      3573.68  Female   \n",
       "9   Bank transfer (automatic)           56.15      1628.35    Male   \n",
       "10               Mailed check           49.95       649.35    Male   \n",
       "11    Credit card (automatic)           18.95        312.3    Male   \n",
       "12    Credit card (automatic)          100.35      6111.31    Male   \n",
       "13  Bank transfer (automatic)          103.70       5496.1    Male   \n",
       "14           Electronic check          105.50       2637.5    Male   \n",
       "\n",
       "    SeniorCitizen  ... Dependents InternetService OnlineSecurity OnlineBackup  \\\n",
       "0               0  ...         No             DSL             No          Yes   \n",
       "1               0  ...         No             DSL            Yes           No   \n",
       "2               0  ...         No             DSL            Yes          Yes   \n",
       "3               0  ...         No             DSL            Yes           No   \n",
       "4               0  ...         No     Fiber optic             No           No   \n",
       "5               0  ...         No     Fiber optic             No           No   \n",
       "6               0  ...        Yes     Fiber optic             No          Yes   \n",
       "7               0  ...         No             DSL            Yes           No   \n",
       "8               0  ...         No     Fiber optic             No           No   \n",
       "9               0  ...        Yes             DSL            Yes          Yes   \n",
       "10              0  ...        Yes             DSL            Yes           No   \n",
       "11              0  ...         No              No             No           No   \n",
       "12              0  ...         No     Fiber optic             No           No   \n",
       "13              0  ...         No     Fiber optic             No          Yes   \n",
       "14              0  ...         No     Fiber optic            Yes           No   \n",
       "\n",
       "   DeviceProtection TechSupport StreamingTV StreamingMovies MultipleLines  \\\n",
       "0                No          No          No              No            No   \n",
       "1               Yes          No          No              No            No   \n",
       "2                No          No          No              No            No   \n",
       "3               Yes         Yes          No              No            No   \n",
       "4                No          No          No              No            No   \n",
       "5               Yes          No         Yes             Yes           Yes   \n",
       "6                No          No         Yes              No           Yes   \n",
       "7                No          No          No              No            No   \n",
       "8               Yes         Yes         Yes             Yes           Yes   \n",
       "9                No          No          No              No            No   \n",
       "10               No          No          No              No            No   \n",
       "11               No          No          No              No            No   \n",
       "12              Yes          No         Yes             Yes           Yes   \n",
       "13              Yes          No         Yes             Yes           Yes   \n",
       "14              Yes         Yes         Yes             Yes            No   \n",
       "\n",
       "   churn  \n",
       "0      0  \n",
       "1      0  \n",
       "2      0  \n",
       "3      0  \n",
       "4      0  \n",
       "5      0  \n",
       "6      0  \n",
       "7      0  \n",
       "8      0  \n",
       "9      1  \n",
       "10     0  \n",
       "11     0  \n",
       "12     0  \n",
       "13     0  \n",
       "14     0  \n",
       "\n",
       "[15 rows x 21 columns]"
      ]
     },
     "execution_count": 18,
     "metadata": {},
     "output_type": "execute_result"
    }
   ],
   "source": [
    "data.head(15)"
   ]
  },
  {
   "cell_type": "code",
   "execution_count": 19,
   "id": "256dd1b6",
   "metadata": {},
   "outputs": [
    {
     "data": {
      "text/plain": [
       "customerID          0\n",
       "BeginDate           0\n",
       "EndDate             0\n",
       "Type                0\n",
       "PaperlessBilling    0\n",
       "PaymentMethod       0\n",
       "MonthlyCharges      0\n",
       "TotalCharges        0\n",
       "gender              0\n",
       "SeniorCitizen       0\n",
       "Partner             0\n",
       "Dependents          0\n",
       "InternetService     0\n",
       "OnlineSecurity      0\n",
       "OnlineBackup        0\n",
       "DeviceProtection    0\n",
       "TechSupport         0\n",
       "StreamingTV         0\n",
       "StreamingMovies     0\n",
       "MultipleLines       0\n",
       "churn               0\n",
       "dtype: int64"
      ]
     },
     "execution_count": 19,
     "metadata": {},
     "output_type": "execute_result"
    }
   ],
   "source": [
    "# проверим наличие пропусков после замены\n",
    "data.isna().sum() "
   ]
  },
  {
   "cell_type": "code",
   "execution_count": 20,
   "id": "500fd40e",
   "metadata": {},
   "outputs": [
    {
     "data": {
      "text/plain": [
       "0"
      ]
     },
     "execution_count": 20,
     "metadata": {},
     "output_type": "execute_result"
    }
   ],
   "source": [
    "# проверим дубликаты по customerID\n",
    "data['customerID'].duplicated().sum()"
   ]
  },
  {
   "cell_type": "code",
   "execution_count": 21,
   "id": "c69545d9",
   "metadata": {
    "scrolled": true
   },
   "outputs": [
    {
     "data": {
      "text/plain": [
       "0"
      ]
     },
     "execution_count": 21,
     "metadata": {},
     "output_type": "execute_result"
    }
   ],
   "source": [
    "data.duplicated().sum()"
   ]
  },
  {
   "cell_type": "markdown",
   "id": "b6cbdc71",
   "metadata": {},
   "source": [
    "У нас есть данные о начале и окончании договора, соответственно мы можем создать еще один признак для нашей модели - 'срок пользования'. Для этого мы заменим в столбце `EndDate` строки со значением 'No' на дату выгрузки '2020-02-01'. "
   ]
  },
  {
   "cell_type": "code",
   "execution_count": 22,
   "id": "d16e5dd2",
   "metadata": {},
   "outputs": [],
   "source": [
    "# заполним 'No' датой на которую предоставлены данные 2020-02-01\n",
    "data.loc[(data['EndDate'] == 'No'),'EndDate'] = '2020-02-01'"
   ]
  },
  {
   "cell_type": "code",
   "execution_count": 23,
   "id": "ae7c7d89",
   "metadata": {},
   "outputs": [
    {
     "data": {
      "text/html": [
       "<div>\n",
       "<style scoped>\n",
       "    .dataframe tbody tr th:only-of-type {\n",
       "        vertical-align: middle;\n",
       "    }\n",
       "\n",
       "    .dataframe tbody tr th {\n",
       "        vertical-align: top;\n",
       "    }\n",
       "\n",
       "    .dataframe thead th {\n",
       "        text-align: right;\n",
       "    }\n",
       "</style>\n",
       "<table border=\"1\" class=\"dataframe\">\n",
       "  <thead>\n",
       "    <tr style=\"text-align: right;\">\n",
       "      <th></th>\n",
       "      <th>customerID</th>\n",
       "      <th>BeginDate</th>\n",
       "      <th>EndDate</th>\n",
       "      <th>Type</th>\n",
       "      <th>PaperlessBilling</th>\n",
       "      <th>PaymentMethod</th>\n",
       "      <th>MonthlyCharges</th>\n",
       "      <th>TotalCharges</th>\n",
       "      <th>gender</th>\n",
       "      <th>SeniorCitizen</th>\n",
       "      <th>...</th>\n",
       "      <th>Dependents</th>\n",
       "      <th>InternetService</th>\n",
       "      <th>OnlineSecurity</th>\n",
       "      <th>OnlineBackup</th>\n",
       "      <th>DeviceProtection</th>\n",
       "      <th>TechSupport</th>\n",
       "      <th>StreamingTV</th>\n",
       "      <th>StreamingMovies</th>\n",
       "      <th>MultipleLines</th>\n",
       "      <th>churn</th>\n",
       "    </tr>\n",
       "  </thead>\n",
       "  <tbody>\n",
       "    <tr>\n",
       "      <th>0</th>\n",
       "      <td>7590-VHVEG</td>\n",
       "      <td>2020-01-01</td>\n",
       "      <td>2020-02-01</td>\n",
       "      <td>Month-to-month</td>\n",
       "      <td>Yes</td>\n",
       "      <td>Electronic check</td>\n",
       "      <td>29.85</td>\n",
       "      <td>31.04</td>\n",
       "      <td>Female</td>\n",
       "      <td>0</td>\n",
       "      <td>...</td>\n",
       "      <td>No</td>\n",
       "      <td>DSL</td>\n",
       "      <td>No</td>\n",
       "      <td>Yes</td>\n",
       "      <td>No</td>\n",
       "      <td>No</td>\n",
       "      <td>No</td>\n",
       "      <td>No</td>\n",
       "      <td>No</td>\n",
       "      <td>0</td>\n",
       "    </tr>\n",
       "    <tr>\n",
       "      <th>1</th>\n",
       "      <td>5575-GNVDE</td>\n",
       "      <td>2017-04-01</td>\n",
       "      <td>2020-02-01</td>\n",
       "      <td>One year</td>\n",
       "      <td>No</td>\n",
       "      <td>Mailed check</td>\n",
       "      <td>56.95</td>\n",
       "      <td>2071.84</td>\n",
       "      <td>Male</td>\n",
       "      <td>0</td>\n",
       "      <td>...</td>\n",
       "      <td>No</td>\n",
       "      <td>DSL</td>\n",
       "      <td>Yes</td>\n",
       "      <td>No</td>\n",
       "      <td>Yes</td>\n",
       "      <td>No</td>\n",
       "      <td>No</td>\n",
       "      <td>No</td>\n",
       "      <td>No</td>\n",
       "      <td>0</td>\n",
       "    </tr>\n",
       "    <tr>\n",
       "      <th>2</th>\n",
       "      <td>3668-QPYBK</td>\n",
       "      <td>2019-10-01</td>\n",
       "      <td>2020-02-01</td>\n",
       "      <td>Month-to-month</td>\n",
       "      <td>Yes</td>\n",
       "      <td>Mailed check</td>\n",
       "      <td>53.85</td>\n",
       "      <td>226.17</td>\n",
       "      <td>Male</td>\n",
       "      <td>0</td>\n",
       "      <td>...</td>\n",
       "      <td>No</td>\n",
       "      <td>DSL</td>\n",
       "      <td>Yes</td>\n",
       "      <td>Yes</td>\n",
       "      <td>No</td>\n",
       "      <td>No</td>\n",
       "      <td>No</td>\n",
       "      <td>No</td>\n",
       "      <td>No</td>\n",
       "      <td>0</td>\n",
       "    </tr>\n",
       "    <tr>\n",
       "      <th>3</th>\n",
       "      <td>7795-CFOCW</td>\n",
       "      <td>2016-05-01</td>\n",
       "      <td>2020-02-01</td>\n",
       "      <td>One year</td>\n",
       "      <td>No</td>\n",
       "      <td>Bank transfer (automatic)</td>\n",
       "      <td>42.30</td>\n",
       "      <td>1960.6</td>\n",
       "      <td>Male</td>\n",
       "      <td>0</td>\n",
       "      <td>...</td>\n",
       "      <td>No</td>\n",
       "      <td>DSL</td>\n",
       "      <td>Yes</td>\n",
       "      <td>No</td>\n",
       "      <td>Yes</td>\n",
       "      <td>Yes</td>\n",
       "      <td>No</td>\n",
       "      <td>No</td>\n",
       "      <td>No</td>\n",
       "      <td>0</td>\n",
       "    </tr>\n",
       "    <tr>\n",
       "      <th>4</th>\n",
       "      <td>9237-HQITU</td>\n",
       "      <td>2019-09-01</td>\n",
       "      <td>2020-02-01</td>\n",
       "      <td>Month-to-month</td>\n",
       "      <td>Yes</td>\n",
       "      <td>Electronic check</td>\n",
       "      <td>70.70</td>\n",
       "      <td>353.5</td>\n",
       "      <td>Female</td>\n",
       "      <td>0</td>\n",
       "      <td>...</td>\n",
       "      <td>No</td>\n",
       "      <td>Fiber optic</td>\n",
       "      <td>No</td>\n",
       "      <td>No</td>\n",
       "      <td>No</td>\n",
       "      <td>No</td>\n",
       "      <td>No</td>\n",
       "      <td>No</td>\n",
       "      <td>No</td>\n",
       "      <td>0</td>\n",
       "    </tr>\n",
       "  </tbody>\n",
       "</table>\n",
       "<p>5 rows × 21 columns</p>\n",
       "</div>"
      ],
      "text/plain": [
       "   customerID   BeginDate     EndDate            Type PaperlessBilling  \\\n",
       "0  7590-VHVEG  2020-01-01  2020-02-01  Month-to-month              Yes   \n",
       "1  5575-GNVDE  2017-04-01  2020-02-01        One year               No   \n",
       "2  3668-QPYBK  2019-10-01  2020-02-01  Month-to-month              Yes   \n",
       "3  7795-CFOCW  2016-05-01  2020-02-01        One year               No   \n",
       "4  9237-HQITU  2019-09-01  2020-02-01  Month-to-month              Yes   \n",
       "\n",
       "               PaymentMethod  MonthlyCharges TotalCharges  gender  \\\n",
       "0           Electronic check           29.85        31.04  Female   \n",
       "1               Mailed check           56.95      2071.84    Male   \n",
       "2               Mailed check           53.85       226.17    Male   \n",
       "3  Bank transfer (automatic)           42.30       1960.6    Male   \n",
       "4           Electronic check           70.70        353.5  Female   \n",
       "\n",
       "   SeniorCitizen  ... Dependents InternetService OnlineSecurity OnlineBackup  \\\n",
       "0              0  ...         No             DSL             No          Yes   \n",
       "1              0  ...         No             DSL            Yes           No   \n",
       "2              0  ...         No             DSL            Yes          Yes   \n",
       "3              0  ...         No             DSL            Yes           No   \n",
       "4              0  ...         No     Fiber optic             No           No   \n",
       "\n",
       "  DeviceProtection TechSupport StreamingTV StreamingMovies MultipleLines churn  \n",
       "0               No          No          No              No            No     0  \n",
       "1              Yes          No          No              No            No     0  \n",
       "2               No          No          No              No            No     0  \n",
       "3              Yes         Yes          No              No            No     0  \n",
       "4               No          No          No              No            No     0  \n",
       "\n",
       "[5 rows x 21 columns]"
      ]
     },
     "execution_count": 23,
     "metadata": {},
     "output_type": "execute_result"
    }
   ],
   "source": [
    "data.head()"
   ]
  },
  {
   "cell_type": "markdown",
   "id": "53e9ebcf",
   "metadata": {},
   "source": [
    "Далее создадим новый признак - срок пользования услугой в днях `term`. Для этого еще изменим тип данных в столбцах на 'datetime64'."
   ]
  },
  {
   "cell_type": "code",
   "execution_count": 24,
   "id": "2c5688a0",
   "metadata": {},
   "outputs": [],
   "source": [
    "# приведем к типу \"дата\"\n",
    "data['BeginDate'] = data['BeginDate'].astype('datetime64')\n",
    "data['EndDate'] = data['EndDate'].astype('datetime64')"
   ]
  },
  {
   "cell_type": "markdown",
   "id": "de982701",
   "metadata": {},
   "source": [
    "<div class=\"alert alert-success\">\n",
    "<b>✔️ Комментарий ревьювера:</b> Хорошо, так мы получим новый полезный признак для обучения\n",
    "    \n",
    "</div>"
   ]
  },
  {
   "cell_type": "code",
   "execution_count": 25,
   "id": "ccf662cd",
   "metadata": {},
   "outputs": [],
   "source": [
    "# рассчитаем срок пользования в днях\n",
    "data['term'] = (data['EndDate']-data['BeginDate']).dt.days"
   ]
  },
  {
   "cell_type": "code",
   "execution_count": 26,
   "id": "4326f00a",
   "metadata": {
    "scrolled": true
   },
   "outputs": [
    {
     "data": {
      "text/html": [
       "<div>\n",
       "<style scoped>\n",
       "    .dataframe tbody tr th:only-of-type {\n",
       "        vertical-align: middle;\n",
       "    }\n",
       "\n",
       "    .dataframe tbody tr th {\n",
       "        vertical-align: top;\n",
       "    }\n",
       "\n",
       "    .dataframe thead th {\n",
       "        text-align: right;\n",
       "    }\n",
       "</style>\n",
       "<table border=\"1\" class=\"dataframe\">\n",
       "  <thead>\n",
       "    <tr style=\"text-align: right;\">\n",
       "      <th></th>\n",
       "      <th>customerID</th>\n",
       "      <th>BeginDate</th>\n",
       "      <th>EndDate</th>\n",
       "      <th>Type</th>\n",
       "      <th>PaperlessBilling</th>\n",
       "      <th>PaymentMethod</th>\n",
       "      <th>MonthlyCharges</th>\n",
       "      <th>TotalCharges</th>\n",
       "      <th>gender</th>\n",
       "      <th>SeniorCitizen</th>\n",
       "      <th>...</th>\n",
       "      <th>InternetService</th>\n",
       "      <th>OnlineSecurity</th>\n",
       "      <th>OnlineBackup</th>\n",
       "      <th>DeviceProtection</th>\n",
       "      <th>TechSupport</th>\n",
       "      <th>StreamingTV</th>\n",
       "      <th>StreamingMovies</th>\n",
       "      <th>MultipleLines</th>\n",
       "      <th>churn</th>\n",
       "      <th>term</th>\n",
       "    </tr>\n",
       "  </thead>\n",
       "  <tbody>\n",
       "    <tr>\n",
       "      <th>0</th>\n",
       "      <td>7590-VHVEG</td>\n",
       "      <td>2020-01-01</td>\n",
       "      <td>2020-02-01</td>\n",
       "      <td>Month-to-month</td>\n",
       "      <td>Yes</td>\n",
       "      <td>Electronic check</td>\n",
       "      <td>29.85</td>\n",
       "      <td>31.04</td>\n",
       "      <td>Female</td>\n",
       "      <td>0</td>\n",
       "      <td>...</td>\n",
       "      <td>DSL</td>\n",
       "      <td>No</td>\n",
       "      <td>Yes</td>\n",
       "      <td>No</td>\n",
       "      <td>No</td>\n",
       "      <td>No</td>\n",
       "      <td>No</td>\n",
       "      <td>No</td>\n",
       "      <td>0</td>\n",
       "      <td>31</td>\n",
       "    </tr>\n",
       "    <tr>\n",
       "      <th>1</th>\n",
       "      <td>5575-GNVDE</td>\n",
       "      <td>2017-04-01</td>\n",
       "      <td>2020-02-01</td>\n",
       "      <td>One year</td>\n",
       "      <td>No</td>\n",
       "      <td>Mailed check</td>\n",
       "      <td>56.95</td>\n",
       "      <td>2071.84</td>\n",
       "      <td>Male</td>\n",
       "      <td>0</td>\n",
       "      <td>...</td>\n",
       "      <td>DSL</td>\n",
       "      <td>Yes</td>\n",
       "      <td>No</td>\n",
       "      <td>Yes</td>\n",
       "      <td>No</td>\n",
       "      <td>No</td>\n",
       "      <td>No</td>\n",
       "      <td>No</td>\n",
       "      <td>0</td>\n",
       "      <td>1036</td>\n",
       "    </tr>\n",
       "    <tr>\n",
       "      <th>2</th>\n",
       "      <td>3668-QPYBK</td>\n",
       "      <td>2019-10-01</td>\n",
       "      <td>2020-02-01</td>\n",
       "      <td>Month-to-month</td>\n",
       "      <td>Yes</td>\n",
       "      <td>Mailed check</td>\n",
       "      <td>53.85</td>\n",
       "      <td>226.17</td>\n",
       "      <td>Male</td>\n",
       "      <td>0</td>\n",
       "      <td>...</td>\n",
       "      <td>DSL</td>\n",
       "      <td>Yes</td>\n",
       "      <td>Yes</td>\n",
       "      <td>No</td>\n",
       "      <td>No</td>\n",
       "      <td>No</td>\n",
       "      <td>No</td>\n",
       "      <td>No</td>\n",
       "      <td>0</td>\n",
       "      <td>123</td>\n",
       "    </tr>\n",
       "    <tr>\n",
       "      <th>3</th>\n",
       "      <td>7795-CFOCW</td>\n",
       "      <td>2016-05-01</td>\n",
       "      <td>2020-02-01</td>\n",
       "      <td>One year</td>\n",
       "      <td>No</td>\n",
       "      <td>Bank transfer (automatic)</td>\n",
       "      <td>42.30</td>\n",
       "      <td>1960.6</td>\n",
       "      <td>Male</td>\n",
       "      <td>0</td>\n",
       "      <td>...</td>\n",
       "      <td>DSL</td>\n",
       "      <td>Yes</td>\n",
       "      <td>No</td>\n",
       "      <td>Yes</td>\n",
       "      <td>Yes</td>\n",
       "      <td>No</td>\n",
       "      <td>No</td>\n",
       "      <td>No</td>\n",
       "      <td>0</td>\n",
       "      <td>1371</td>\n",
       "    </tr>\n",
       "    <tr>\n",
       "      <th>4</th>\n",
       "      <td>9237-HQITU</td>\n",
       "      <td>2019-09-01</td>\n",
       "      <td>2020-02-01</td>\n",
       "      <td>Month-to-month</td>\n",
       "      <td>Yes</td>\n",
       "      <td>Electronic check</td>\n",
       "      <td>70.70</td>\n",
       "      <td>353.5</td>\n",
       "      <td>Female</td>\n",
       "      <td>0</td>\n",
       "      <td>...</td>\n",
       "      <td>Fiber optic</td>\n",
       "      <td>No</td>\n",
       "      <td>No</td>\n",
       "      <td>No</td>\n",
       "      <td>No</td>\n",
       "      <td>No</td>\n",
       "      <td>No</td>\n",
       "      <td>No</td>\n",
       "      <td>0</td>\n",
       "      <td>153</td>\n",
       "    </tr>\n",
       "  </tbody>\n",
       "</table>\n",
       "<p>5 rows × 22 columns</p>\n",
       "</div>"
      ],
      "text/plain": [
       "   customerID  BeginDate    EndDate            Type PaperlessBilling  \\\n",
       "0  7590-VHVEG 2020-01-01 2020-02-01  Month-to-month              Yes   \n",
       "1  5575-GNVDE 2017-04-01 2020-02-01        One year               No   \n",
       "2  3668-QPYBK 2019-10-01 2020-02-01  Month-to-month              Yes   \n",
       "3  7795-CFOCW 2016-05-01 2020-02-01        One year               No   \n",
       "4  9237-HQITU 2019-09-01 2020-02-01  Month-to-month              Yes   \n",
       "\n",
       "               PaymentMethod  MonthlyCharges TotalCharges  gender  \\\n",
       "0           Electronic check           29.85        31.04  Female   \n",
       "1               Mailed check           56.95      2071.84    Male   \n",
       "2               Mailed check           53.85       226.17    Male   \n",
       "3  Bank transfer (automatic)           42.30       1960.6    Male   \n",
       "4           Electronic check           70.70        353.5  Female   \n",
       "\n",
       "   SeniorCitizen  ... InternetService OnlineSecurity OnlineBackup  \\\n",
       "0              0  ...             DSL             No          Yes   \n",
       "1              0  ...             DSL            Yes           No   \n",
       "2              0  ...             DSL            Yes          Yes   \n",
       "3              0  ...             DSL            Yes           No   \n",
       "4              0  ...     Fiber optic             No           No   \n",
       "\n",
       "  DeviceProtection TechSupport StreamingTV StreamingMovies MultipleLines  \\\n",
       "0               No          No          No              No            No   \n",
       "1              Yes          No          No              No            No   \n",
       "2               No          No          No              No            No   \n",
       "3              Yes         Yes          No              No            No   \n",
       "4               No          No          No              No            No   \n",
       "\n",
       "  churn  term  \n",
       "0     0    31  \n",
       "1     0  1036  \n",
       "2     0   123  \n",
       "3     0  1371  \n",
       "4     0   153  \n",
       "\n",
       "[5 rows x 22 columns]"
      ]
     },
     "execution_count": 26,
     "metadata": {},
     "output_type": "execute_result"
    }
   ],
   "source": [
    "data.head()"
   ]
  },
  {
   "cell_type": "code",
   "execution_count": 27,
   "id": "50752e9d",
   "metadata": {
    "scrolled": false
   },
   "outputs": [
    {
     "name": "stdout",
     "output_type": "stream",
     "text": [
      "<class 'pandas.core.frame.DataFrame'>\n",
      "Int64Index: 7043 entries, 0 to 7042\n",
      "Data columns (total 22 columns):\n",
      " #   Column            Non-Null Count  Dtype         \n",
      "---  ------            --------------  -----         \n",
      " 0   customerID        7043 non-null   object        \n",
      " 1   BeginDate         7043 non-null   datetime64[ns]\n",
      " 2   EndDate           7043 non-null   datetime64[ns]\n",
      " 3   Type              7043 non-null   object        \n",
      " 4   PaperlessBilling  7043 non-null   object        \n",
      " 5   PaymentMethod     7043 non-null   object        \n",
      " 6   MonthlyCharges    7043 non-null   float64       \n",
      " 7   TotalCharges      7043 non-null   object        \n",
      " 8   gender            7043 non-null   object        \n",
      " 9   SeniorCitizen     7043 non-null   int64         \n",
      " 10  Partner           7043 non-null   object        \n",
      " 11  Dependents        7043 non-null   object        \n",
      " 12  InternetService   7043 non-null   object        \n",
      " 13  OnlineSecurity    7043 non-null   object        \n",
      " 14  OnlineBackup      7043 non-null   object        \n",
      " 15  DeviceProtection  7043 non-null   object        \n",
      " 16  TechSupport       7043 non-null   object        \n",
      " 17  StreamingTV       7043 non-null   object        \n",
      " 18  StreamingMovies   7043 non-null   object        \n",
      " 19  MultipleLines     7043 non-null   object        \n",
      " 20  churn             7043 non-null   int64         \n",
      " 21  term              7043 non-null   int64         \n",
      "dtypes: datetime64[ns](2), float64(1), int64(3), object(16)\n",
      "memory usage: 1.2+ MB\n"
     ]
    }
   ],
   "source": [
    "data.info()"
   ]
  },
  {
   "cell_type": "markdown",
   "id": "8f136a6f",
   "metadata": {},
   "source": [
    "Далее посмотрим более детально на типы данных в столбцах. Требуется изменить тип данных в столбце `TotalCharges`, т.к. сумма затрат не может быть типом object."
   ]
  },
  {
   "cell_type": "code",
   "execution_count": 28,
   "id": "123865c4",
   "metadata": {},
   "outputs": [],
   "source": [
    "# применим метод to_numeric с параметром 'coerce'\n",
    "data['TotalCharges'] = pd.to_numeric(data['TotalCharges'], errors ='coerce')"
   ]
  },
  {
   "cell_type": "code",
   "execution_count": 29,
   "id": "7c5f476f",
   "metadata": {},
   "outputs": [
    {
     "data": {
      "text/plain": [
       "customerID          False\n",
       "BeginDate           False\n",
       "EndDate             False\n",
       "Type                False\n",
       "PaperlessBilling    False\n",
       "PaymentMethod       False\n",
       "MonthlyCharges      False\n",
       "TotalCharges         True\n",
       "gender              False\n",
       "SeniorCitizen       False\n",
       "Partner             False\n",
       "Dependents          False\n",
       "InternetService     False\n",
       "OnlineSecurity      False\n",
       "OnlineBackup        False\n",
       "DeviceProtection    False\n",
       "TechSupport         False\n",
       "StreamingTV         False\n",
       "StreamingMovies     False\n",
       "MultipleLines       False\n",
       "churn               False\n",
       "term                False\n",
       "dtype: bool"
      ]
     },
     "execution_count": 29,
     "metadata": {},
     "output_type": "execute_result"
    }
   ],
   "source": [
    "\n",
    "data.isnull().any()"
   ]
  },
  {
   "cell_type": "code",
   "execution_count": 30,
   "id": "f33242fd",
   "metadata": {
    "scrolled": true
   },
   "outputs": [
    {
     "data": {
      "text/html": [
       "<div>\n",
       "<style scoped>\n",
       "    .dataframe tbody tr th:only-of-type {\n",
       "        vertical-align: middle;\n",
       "    }\n",
       "\n",
       "    .dataframe tbody tr th {\n",
       "        vertical-align: top;\n",
       "    }\n",
       "\n",
       "    .dataframe thead th {\n",
       "        text-align: right;\n",
       "    }\n",
       "</style>\n",
       "<table border=\"1\" class=\"dataframe\">\n",
       "  <thead>\n",
       "    <tr style=\"text-align: right;\">\n",
       "      <th></th>\n",
       "      <th>customerID</th>\n",
       "      <th>BeginDate</th>\n",
       "      <th>EndDate</th>\n",
       "      <th>Type</th>\n",
       "      <th>PaperlessBilling</th>\n",
       "      <th>PaymentMethod</th>\n",
       "      <th>MonthlyCharges</th>\n",
       "      <th>TotalCharges</th>\n",
       "      <th>gender</th>\n",
       "      <th>SeniorCitizen</th>\n",
       "      <th>...</th>\n",
       "      <th>InternetService</th>\n",
       "      <th>OnlineSecurity</th>\n",
       "      <th>OnlineBackup</th>\n",
       "      <th>DeviceProtection</th>\n",
       "      <th>TechSupport</th>\n",
       "      <th>StreamingTV</th>\n",
       "      <th>StreamingMovies</th>\n",
       "      <th>MultipleLines</th>\n",
       "      <th>churn</th>\n",
       "      <th>term</th>\n",
       "    </tr>\n",
       "  </thead>\n",
       "  <tbody>\n",
       "    <tr>\n",
       "      <th>488</th>\n",
       "      <td>4472-LVYGI</td>\n",
       "      <td>2020-02-01</td>\n",
       "      <td>2020-02-01</td>\n",
       "      <td>Two year</td>\n",
       "      <td>Yes</td>\n",
       "      <td>Bank transfer (automatic)</td>\n",
       "      <td>52.55</td>\n",
       "      <td>NaN</td>\n",
       "      <td>Female</td>\n",
       "      <td>0</td>\n",
       "      <td>...</td>\n",
       "      <td>DSL</td>\n",
       "      <td>Yes</td>\n",
       "      <td>No</td>\n",
       "      <td>Yes</td>\n",
       "      <td>Yes</td>\n",
       "      <td>Yes</td>\n",
       "      <td>No</td>\n",
       "      <td>No</td>\n",
       "      <td>0</td>\n",
       "      <td>0</td>\n",
       "    </tr>\n",
       "    <tr>\n",
       "      <th>753</th>\n",
       "      <td>3115-CZMZD</td>\n",
       "      <td>2020-02-01</td>\n",
       "      <td>2020-02-01</td>\n",
       "      <td>Two year</td>\n",
       "      <td>No</td>\n",
       "      <td>Mailed check</td>\n",
       "      <td>20.25</td>\n",
       "      <td>NaN</td>\n",
       "      <td>Male</td>\n",
       "      <td>0</td>\n",
       "      <td>...</td>\n",
       "      <td>No</td>\n",
       "      <td>No</td>\n",
       "      <td>No</td>\n",
       "      <td>No</td>\n",
       "      <td>No</td>\n",
       "      <td>No</td>\n",
       "      <td>No</td>\n",
       "      <td>No</td>\n",
       "      <td>0</td>\n",
       "      <td>0</td>\n",
       "    </tr>\n",
       "    <tr>\n",
       "      <th>936</th>\n",
       "      <td>5709-LVOEQ</td>\n",
       "      <td>2020-02-01</td>\n",
       "      <td>2020-02-01</td>\n",
       "      <td>Two year</td>\n",
       "      <td>No</td>\n",
       "      <td>Mailed check</td>\n",
       "      <td>80.85</td>\n",
       "      <td>NaN</td>\n",
       "      <td>Female</td>\n",
       "      <td>0</td>\n",
       "      <td>...</td>\n",
       "      <td>DSL</td>\n",
       "      <td>Yes</td>\n",
       "      <td>Yes</td>\n",
       "      <td>Yes</td>\n",
       "      <td>No</td>\n",
       "      <td>Yes</td>\n",
       "      <td>Yes</td>\n",
       "      <td>No</td>\n",
       "      <td>0</td>\n",
       "      <td>0</td>\n",
       "    </tr>\n",
       "    <tr>\n",
       "      <th>1082</th>\n",
       "      <td>4367-NUYAO</td>\n",
       "      <td>2020-02-01</td>\n",
       "      <td>2020-02-01</td>\n",
       "      <td>Two year</td>\n",
       "      <td>No</td>\n",
       "      <td>Mailed check</td>\n",
       "      <td>25.75</td>\n",
       "      <td>NaN</td>\n",
       "      <td>Male</td>\n",
       "      <td>0</td>\n",
       "      <td>...</td>\n",
       "      <td>No</td>\n",
       "      <td>No</td>\n",
       "      <td>No</td>\n",
       "      <td>No</td>\n",
       "      <td>No</td>\n",
       "      <td>No</td>\n",
       "      <td>No</td>\n",
       "      <td>Yes</td>\n",
       "      <td>0</td>\n",
       "      <td>0</td>\n",
       "    </tr>\n",
       "    <tr>\n",
       "      <th>1340</th>\n",
       "      <td>1371-DWPAZ</td>\n",
       "      <td>2020-02-01</td>\n",
       "      <td>2020-02-01</td>\n",
       "      <td>Two year</td>\n",
       "      <td>No</td>\n",
       "      <td>Credit card (automatic)</td>\n",
       "      <td>56.05</td>\n",
       "      <td>NaN</td>\n",
       "      <td>Female</td>\n",
       "      <td>0</td>\n",
       "      <td>...</td>\n",
       "      <td>DSL</td>\n",
       "      <td>Yes</td>\n",
       "      <td>Yes</td>\n",
       "      <td>Yes</td>\n",
       "      <td>Yes</td>\n",
       "      <td>Yes</td>\n",
       "      <td>No</td>\n",
       "      <td>No</td>\n",
       "      <td>0</td>\n",
       "      <td>0</td>\n",
       "    </tr>\n",
       "    <tr>\n",
       "      <th>3331</th>\n",
       "      <td>7644-OMVMY</td>\n",
       "      <td>2020-02-01</td>\n",
       "      <td>2020-02-01</td>\n",
       "      <td>Two year</td>\n",
       "      <td>No</td>\n",
       "      <td>Mailed check</td>\n",
       "      <td>19.85</td>\n",
       "      <td>NaN</td>\n",
       "      <td>Male</td>\n",
       "      <td>0</td>\n",
       "      <td>...</td>\n",
       "      <td>No</td>\n",
       "      <td>No</td>\n",
       "      <td>No</td>\n",
       "      <td>No</td>\n",
       "      <td>No</td>\n",
       "      <td>No</td>\n",
       "      <td>No</td>\n",
       "      <td>No</td>\n",
       "      <td>0</td>\n",
       "      <td>0</td>\n",
       "    </tr>\n",
       "    <tr>\n",
       "      <th>3826</th>\n",
       "      <td>3213-VVOLG</td>\n",
       "      <td>2020-02-01</td>\n",
       "      <td>2020-02-01</td>\n",
       "      <td>Two year</td>\n",
       "      <td>No</td>\n",
       "      <td>Mailed check</td>\n",
       "      <td>25.35</td>\n",
       "      <td>NaN</td>\n",
       "      <td>Male</td>\n",
       "      <td>0</td>\n",
       "      <td>...</td>\n",
       "      <td>No</td>\n",
       "      <td>No</td>\n",
       "      <td>No</td>\n",
       "      <td>No</td>\n",
       "      <td>No</td>\n",
       "      <td>No</td>\n",
       "      <td>No</td>\n",
       "      <td>Yes</td>\n",
       "      <td>0</td>\n",
       "      <td>0</td>\n",
       "    </tr>\n",
       "    <tr>\n",
       "      <th>4380</th>\n",
       "      <td>2520-SGTTA</td>\n",
       "      <td>2020-02-01</td>\n",
       "      <td>2020-02-01</td>\n",
       "      <td>Two year</td>\n",
       "      <td>No</td>\n",
       "      <td>Mailed check</td>\n",
       "      <td>20.00</td>\n",
       "      <td>NaN</td>\n",
       "      <td>Female</td>\n",
       "      <td>0</td>\n",
       "      <td>...</td>\n",
       "      <td>No</td>\n",
       "      <td>No</td>\n",
       "      <td>No</td>\n",
       "      <td>No</td>\n",
       "      <td>No</td>\n",
       "      <td>No</td>\n",
       "      <td>No</td>\n",
       "      <td>No</td>\n",
       "      <td>0</td>\n",
       "      <td>0</td>\n",
       "    </tr>\n",
       "    <tr>\n",
       "      <th>5218</th>\n",
       "      <td>2923-ARZLG</td>\n",
       "      <td>2020-02-01</td>\n",
       "      <td>2020-02-01</td>\n",
       "      <td>One year</td>\n",
       "      <td>Yes</td>\n",
       "      <td>Mailed check</td>\n",
       "      <td>19.70</td>\n",
       "      <td>NaN</td>\n",
       "      <td>Male</td>\n",
       "      <td>0</td>\n",
       "      <td>...</td>\n",
       "      <td>No</td>\n",
       "      <td>No</td>\n",
       "      <td>No</td>\n",
       "      <td>No</td>\n",
       "      <td>No</td>\n",
       "      <td>No</td>\n",
       "      <td>No</td>\n",
       "      <td>No</td>\n",
       "      <td>0</td>\n",
       "      <td>0</td>\n",
       "    </tr>\n",
       "    <tr>\n",
       "      <th>6670</th>\n",
       "      <td>4075-WKNIU</td>\n",
       "      <td>2020-02-01</td>\n",
       "      <td>2020-02-01</td>\n",
       "      <td>Two year</td>\n",
       "      <td>No</td>\n",
       "      <td>Mailed check</td>\n",
       "      <td>73.35</td>\n",
       "      <td>NaN</td>\n",
       "      <td>Female</td>\n",
       "      <td>0</td>\n",
       "      <td>...</td>\n",
       "      <td>DSL</td>\n",
       "      <td>No</td>\n",
       "      <td>Yes</td>\n",
       "      <td>Yes</td>\n",
       "      <td>Yes</td>\n",
       "      <td>Yes</td>\n",
       "      <td>No</td>\n",
       "      <td>Yes</td>\n",
       "      <td>0</td>\n",
       "      <td>0</td>\n",
       "    </tr>\n",
       "    <tr>\n",
       "      <th>6754</th>\n",
       "      <td>2775-SEFEE</td>\n",
       "      <td>2020-02-01</td>\n",
       "      <td>2020-02-01</td>\n",
       "      <td>Two year</td>\n",
       "      <td>Yes</td>\n",
       "      <td>Bank transfer (automatic)</td>\n",
       "      <td>61.90</td>\n",
       "      <td>NaN</td>\n",
       "      <td>Male</td>\n",
       "      <td>0</td>\n",
       "      <td>...</td>\n",
       "      <td>DSL</td>\n",
       "      <td>Yes</td>\n",
       "      <td>Yes</td>\n",
       "      <td>No</td>\n",
       "      <td>Yes</td>\n",
       "      <td>No</td>\n",
       "      <td>No</td>\n",
       "      <td>Yes</td>\n",
       "      <td>0</td>\n",
       "      <td>0</td>\n",
       "    </tr>\n",
       "  </tbody>\n",
       "</table>\n",
       "<p>11 rows × 22 columns</p>\n",
       "</div>"
      ],
      "text/plain": [
       "      customerID  BeginDate    EndDate      Type PaperlessBilling  \\\n",
       "488   4472-LVYGI 2020-02-01 2020-02-01  Two year              Yes   \n",
       "753   3115-CZMZD 2020-02-01 2020-02-01  Two year               No   \n",
       "936   5709-LVOEQ 2020-02-01 2020-02-01  Two year               No   \n",
       "1082  4367-NUYAO 2020-02-01 2020-02-01  Two year               No   \n",
       "1340  1371-DWPAZ 2020-02-01 2020-02-01  Two year               No   \n",
       "3331  7644-OMVMY 2020-02-01 2020-02-01  Two year               No   \n",
       "3826  3213-VVOLG 2020-02-01 2020-02-01  Two year               No   \n",
       "4380  2520-SGTTA 2020-02-01 2020-02-01  Two year               No   \n",
       "5218  2923-ARZLG 2020-02-01 2020-02-01  One year              Yes   \n",
       "6670  4075-WKNIU 2020-02-01 2020-02-01  Two year               No   \n",
       "6754  2775-SEFEE 2020-02-01 2020-02-01  Two year              Yes   \n",
       "\n",
       "                  PaymentMethod  MonthlyCharges  TotalCharges  gender  \\\n",
       "488   Bank transfer (automatic)           52.55           NaN  Female   \n",
       "753                Mailed check           20.25           NaN    Male   \n",
       "936                Mailed check           80.85           NaN  Female   \n",
       "1082               Mailed check           25.75           NaN    Male   \n",
       "1340    Credit card (automatic)           56.05           NaN  Female   \n",
       "3331               Mailed check           19.85           NaN    Male   \n",
       "3826               Mailed check           25.35           NaN    Male   \n",
       "4380               Mailed check           20.00           NaN  Female   \n",
       "5218               Mailed check           19.70           NaN    Male   \n",
       "6670               Mailed check           73.35           NaN  Female   \n",
       "6754  Bank transfer (automatic)           61.90           NaN    Male   \n",
       "\n",
       "      SeniorCitizen  ... InternetService OnlineSecurity OnlineBackup  \\\n",
       "488               0  ...             DSL            Yes           No   \n",
       "753               0  ...              No             No           No   \n",
       "936               0  ...             DSL            Yes          Yes   \n",
       "1082              0  ...              No             No           No   \n",
       "1340              0  ...             DSL            Yes          Yes   \n",
       "3331              0  ...              No             No           No   \n",
       "3826              0  ...              No             No           No   \n",
       "4380              0  ...              No             No           No   \n",
       "5218              0  ...              No             No           No   \n",
       "6670              0  ...             DSL             No          Yes   \n",
       "6754              0  ...             DSL            Yes          Yes   \n",
       "\n",
       "     DeviceProtection TechSupport StreamingTV StreamingMovies MultipleLines  \\\n",
       "488               Yes         Yes         Yes              No            No   \n",
       "753                No          No          No              No            No   \n",
       "936               Yes          No         Yes             Yes            No   \n",
       "1082               No          No          No              No           Yes   \n",
       "1340              Yes         Yes         Yes              No            No   \n",
       "3331               No          No          No              No            No   \n",
       "3826               No          No          No              No           Yes   \n",
       "4380               No          No          No              No            No   \n",
       "5218               No          No          No              No            No   \n",
       "6670              Yes         Yes         Yes              No           Yes   \n",
       "6754               No         Yes          No              No           Yes   \n",
       "\n",
       "     churn term  \n",
       "488      0    0  \n",
       "753      0    0  \n",
       "936      0    0  \n",
       "1082     0    0  \n",
       "1340     0    0  \n",
       "3331     0    0  \n",
       "3826     0    0  \n",
       "4380     0    0  \n",
       "5218     0    0  \n",
       "6670     0    0  \n",
       "6754     0    0  \n",
       "\n",
       "[11 rows x 22 columns]"
      ]
     },
     "execution_count": 30,
     "metadata": {},
     "output_type": "execute_result"
    }
   ],
   "source": [
    "# посмотрим пропуски в 'TotalCharges'\n",
    "data[data['TotalCharges'].isnull()]"
   ]
  },
  {
   "cell_type": "markdown",
   "id": "a7866c66",
   "metadata": {},
   "source": [
    "Пропуски связаны с тем, что клиенты только заключили договор и данных об общих затратах еще нет."
   ]
  },
  {
   "cell_type": "markdown",
   "id": "8daa4ca8",
   "metadata": {},
   "source": [
    "<div class=\"alert alert-success\">\n",
    "<b>✔️ Комментарий ревьювера:</b> Хорошо, что обратила внимание на пустые строки в признаке TotalCharges!\n",
    "    \n",
    "Согласен, данные пропуски можно заполнить месячными значениями платежей \n",
    "    \n",
    "</div>"
   ]
  },
  {
   "cell_type": "code",
   "execution_count": null,
   "id": "3f049b3e",
   "metadata": {},
   "outputs": [],
   "source": [
    "# заполним данные пропуски значением месячных трат\n",
    "data['TotalCharges'].fillna(data[data['TotalCharges'].isnull()]['MonthlyCharges'],\n",
    "                                          inplace = True)"
   ]
  },
  {
   "cell_type": "code",
   "execution_count": null,
   "id": "4e2f7362",
   "metadata": {},
   "outputs": [],
   "source": [
    "data[data['TotalCharges'].isnull()]"
   ]
  },
  {
   "cell_type": "code",
   "execution_count": null,
   "id": "5dad6431",
   "metadata": {},
   "outputs": [],
   "source": [
    "# поменяем тип данных категориального признака\n",
    "data['SeniorCitizen'] = data['SeniorCitizen'].astype('object')"
   ]
  },
  {
   "cell_type": "markdown",
   "id": "cc9d303b",
   "metadata": {},
   "source": [
    "Типы данных приведены в порядок."
   ]
  },
  {
   "cell_type": "code",
   "execution_count": null,
   "id": "5588fb9e",
   "metadata": {},
   "outputs": [],
   "source": [
    "data.info()"
   ]
  },
  {
   "cell_type": "markdown",
   "id": "6459ed48",
   "metadata": {},
   "source": [
    "Рассмотрим столбцы, которые подлежат удалению, в связи с тем, что есть вероятность утечки и последующего переобучения модели на них :\n",
    "* `BeginDate`,`EndDate` - даты начала и окончания пользования услугами, можно удалить, т.к. на основе этих данных нами были сгенерированы новые признаки;\n",
    "* `customerID` - уникальный идентификатор лучше тоже исключить."
   ]
  },
  {
   "cell_type": "code",
   "execution_count": null,
   "id": "bb5fa71b",
   "metadata": {},
   "outputs": [],
   "source": [
    "data = data.drop(['BeginDate','EndDate','customerID'], axis= 1)"
   ]
  },
  {
   "cell_type": "code",
   "execution_count": null,
   "id": "dc478438",
   "metadata": {},
   "outputs": [],
   "source": [
    "data.shape"
   ]
  },
  {
   "cell_type": "markdown",
   "id": "a1a56ee7",
   "metadata": {},
   "source": [
    "**После проведения предобработки данных можно сделать следующие выводы:**\n",
    "\n",
    "* 4 исходных датасета объединены в один по общему столбцу `customerID`;\n",
    "* технологические пропуски после объединения были заменены на 'заглушку' 'not_used' \n",
    "    в столбцах `InternetService`, `OnlineSecurity`, `OnlineBackup`,`DeviceProtection`, `TechSupport`, \n",
    "    `StreamingTV`, `StreamingMovies`, `MultipleLines`;\n",
    "* изменены типы данных в столбцах `TotalCharges` и `SeniorCitizen`;   \n",
    "\n",
    "* создан целевой признак `churn` по условию столбца `EndDate`;\n",
    "* cоздан дополнительный признак - `term`, срок пользования услугой.\n",
    "* признаки `BeginDate`, `EndDate`, `customerID` были удалены;\n",
    "* после изучения всех признаков мы получили датасет размером (7043, 19);\n",
    "\n",
    "Данные готовы к исследовательскому анализу."
   ]
  },
  {
   "cell_type": "markdown",
   "id": "96bf35ab",
   "metadata": {},
   "source": [
    "## Исследовательский анализ данных (EDA)\n",
    "\n",
    "\n",
    "### Изучим целевой признак"
   ]
  },
  {
   "cell_type": "markdown",
   "id": "103feb34",
   "metadata": {},
   "source": [
    "Данные содержат численные и категориальные признаки.\n",
    "\n",
    "Целевой признак  столбец `churn` — факт ухода клиента. Остальные признаки будут участвовать в предсказании решения по столбцу `churn`.\n",
    "Перед нами стоит задача классификации. Нам требуется спрогнозировать уйдет клиент из телеком компании в ближайшее время или нет.\n",
    "Посмотрим как распределены классы в целевом признаке `churn`."
   ]
  },
  {
   "cell_type": "code",
   "execution_count": null,
   "id": "833417d8",
   "metadata": {},
   "outputs": [],
   "source": [
    "data['churn'].value_counts()"
   ]
  },
  {
   "cell_type": "markdown",
   "id": "85bf170c",
   "metadata": {},
   "source": [
    "Мы видим существенный дисбаланс классов. Доля клиентов, ушедших из компании составляет около 16%. А доля тех, кто остался 84 %. Наша ключевая метрика оценки качества модели ROC-AUC является не чувствительной к дисбалансу."
   ]
  },
  {
   "cell_type": "markdown",
   "id": "8ba6c3b6",
   "metadata": {},
   "source": [
    "### Изучим признаки\n",
    "\n",
    "Посмотрим матрицу корреляции числовых признаков и выведем тепловую карту для наглядности."
   ]
  },
  {
   "cell_type": "code",
   "execution_count": null,
   "id": "2b443584",
   "metadata": {},
   "outputs": [],
   "source": [
    "data.corr()"
   ]
  },
  {
   "cell_type": "code",
   "execution_count": null,
   "id": "59b23b7d",
   "metadata": {},
   "outputs": [],
   "source": [
    "plt.figure(figsize=(15, 5))\n",
    "plt.title('Матрица корреляции численных признаков')\n",
    "\n",
    "sns.heatmap(data.corr(),annot = True)\n",
    "plt.show()"
   ]
  },
  {
   "cell_type": "markdown",
   "id": "a3d4563b",
   "metadata": {},
   "source": [
    "Мы видим достаточно слабую корреляцию между числовыми данными и нашим таргетом. Наибольший интерес заслуживает наличие положительной взаимосвязи между сроком пользования услугой и общими затратами клиента (0,82), что является логичным, чем дольше срок тем больше клиент потратил."
   ]
  },
  {
   "cell_type": "markdown",
   "id": "92fa8ba9",
   "metadata": {},
   "source": [
    "Рассмотрим корреляцию смешанного набора признаков, используя phik библиотеку."
   ]
  },
  {
   "cell_type": "code",
   "execution_count": null,
   "id": "79f133b3",
   "metadata": {
    "scrolled": true
   },
   "outputs": [],
   "source": [
    "# построим таблицу корреляции смешанных признаков\n",
    "phik_overview = data.phik_matrix()\n",
    "# округлим значения коэффициентов для удобства\n",
    "phik_overview.round(2)"
   ]
  },
  {
   "cell_type": "markdown",
   "id": "db3596a7",
   "metadata": {},
   "source": [
    "Для наглядности построим тепловую карту матрицы корреляции смешанных признаков."
   ]
  },
  {
   "cell_type": "code",
   "execution_count": null,
   "id": "c0b7a98d",
   "metadata": {
    "scrolled": true
   },
   "outputs": [],
   "source": [
    "plot_correlation_matrix(phik_overview.values, \n",
    "                        x_labels=phik_overview.columns, \n",
    "                        y_labels=phik_overview.index, \n",
    "                        vmin=0, vmax=1, color_map=\"coolwarm\", \n",
    "                        title=r'Матрица корреляции',\n",
    "                        fontsize_factor=1.5, \n",
    "                        figsize=(18, 10))\n",
    "plt.tight_layout();\n"
   ]
  },
  {
   "cell_type": "markdown",
   "id": "49000666",
   "metadata": {},
   "source": [
    "На тепловой карте мы видим наличие мультиколлинеарности признаков DeviceProtection,TechSupport. \n",
    "\n",
    "У нас есть достаточно сильная зависимость наличия дополнительных интернет услуг (особенно InternetService) и ежемесячной стоимости(0.92). Чуть ниже (0.68) зависимость наличия возможности ведения параллельных линий во время звонка (MultipleLines) также на ежемесячную стоимость.\n",
    "\n",
    "Также мы видим очевидную зависимость между нашим таргетом сроком пользования услугами и опять же общими затратами клиента.\n",
    "\n",
    "При этом на срок пользования больше всего оказывают влияние такие факторы как общие затраты на услуги в целом (0.85), тип оплаты (0.63) и наличие супруга (0.45).\n",
    "Пол клиента видимо совершенно не имеет значения.\n",
    "\n",
    "'Деревянные модели\" и бустинги не чувствительны к наличию мультиколлинеарности. А в логистической регрессии реализована регуляризация. Поэтому оставим все как есть.\n"
   ]
  },
  {
   "cell_type": "markdown",
   "id": "bf3046e7",
   "metadata": {},
   "source": [
    "<div class=\"alert alert-success\">\n",
    "<b>✔️ Комментарий ревьювера:</b> Здорово, что применила библиотеку phik для анализа корреляции смешанного набора признаков!\n",
    "    \n",
    "***\n",
    "    \n",
    "Что касается корреляции категориальных признаков, то это пока что пища для размышлений, не стоит сразу по этому условию удалять признаки. Данная корреляция может быть нелинейная, и на линейные модели это не повлияет.\n",
    "    \n",
    "</div>"
   ]
  },
  {
   "cell_type": "markdown",
   "id": "ccd0070b",
   "metadata": {},
   "source": [
    "### Выведем графики для визуализации наиболее интересных результатов корреляции признаков\n",
    "\n",
    "Рассмотрим как отличается поведение клиентов в зависимости от разных факторов."
   ]
  },
  {
   "cell_type": "code",
   "execution_count": null,
   "id": "0cbb646b",
   "metadata": {},
   "outputs": [],
   "source": [
    "# выберем стиль для оформления графиков \n",
    "plt.style.use('bmh')"
   ]
  },
  {
   "cell_type": "code",
   "execution_count": null,
   "id": "78185ee1",
   "metadata": {
    "scrolled": true
   },
   "outputs": [],
   "source": [
    "plt.figure()\n",
    "\n",
    "sns.barplot(x=data['churn'],y=data['Dependents']);\n",
    "plt.title ('Зависимость от иждивенцев');\n",
    "plt.xlabel ('Факт ухода');\n",
    "plt.ylabel ('Наличие иждивенцев');\n",
    "plt.show()"
   ]
  },
  {
   "cell_type": "markdown",
   "id": "77dfcef3",
   "metadata": {},
   "source": [
    "Ушедших больше среди тех, у кого есть иждивенцы."
   ]
  },
  {
   "cell_type": "code",
   "execution_count": null,
   "id": "2ab90b10",
   "metadata": {
    "scrolled": true
   },
   "outputs": [],
   "source": [
    "sns.barplot(x=data['churn'],y=data['Partner']);\n",
    "\n",
    "plt.title ('Зависимость от наличия супруга');\n",
    "plt.xlabel ('Факт ухода');\n",
    "plt.ylabel ('Наличие супруга');\n",
    "plt.show()"
   ]
  },
  {
   "cell_type": "markdown",
   "id": "a8a3a845",
   "metadata": {},
   "source": [
    "Ушедших больше среди тех, у кого есть супруг. Видимо семейные пары чаще пересматривают тарифы на услуги и ищут более выгодные компании, в целях экономии семейного бюджета."
   ]
  },
  {
   "cell_type": "code",
   "execution_count": null,
   "id": "a7a6d984",
   "metadata": {
    "scrolled": true
   },
   "outputs": [],
   "source": [
    "sns.barplot(x=data['churn'],y=data['gender']);\n",
    "\n",
    "plt.title ('Зависимость от пола клиента');\n",
    "plt.xlabel ('Факт ухода');\n",
    "plt.ylabel ('Пол клиента');\n",
    "plt.show()"
   ]
  },
  {
   "cell_type": "markdown",
   "id": "b1d5bd1e",
   "metadata": {},
   "source": [
    "Пол клиента практически не влияет на факт ухода. Видимо этот признак не такой уж существенный."
   ]
  },
  {
   "cell_type": "code",
   "execution_count": null,
   "id": "a78d3658",
   "metadata": {
    "scrolled": false
   },
   "outputs": [],
   "source": [
    "sns.histplot(data=data,x='Type',hue='churn', multiple=\"dodge\",shrink=.7)\n",
    "\n",
    "plt.title('Зависимость типа оплаты и факта ухода')\n",
    "plt.ylabel('Частота')\n",
    "plt.xlabel('Тип оплаты')\n",
    "plt.show();"
   ]
  },
  {
   "cell_type": "markdown",
   "id": "c3626603",
   "metadata": {},
   "source": [
    "Больше всего уходят те, кто оплачивает ежемесячно. При длительном договоре вероятность ухода значительно снижается. Поэтому целесообразно рекомендовать компании ежемесячно отслеживать отток клиентов."
   ]
  },
  {
   "cell_type": "code",
   "execution_count": null,
   "id": "ce3df8e7",
   "metadata": {
    "scrolled": true
   },
   "outputs": [],
   "source": [
    "sns.histplot(data=data,x='PaymentMethod',hue='churn', multiple=\"dodge\",shrink=.8)\n",
    "\n",
    "plt.title('Зависимость способов оплаты и факта ухода')\n",
    "plt.ylabel('Частота')\n",
    "plt.xlabel('Способ оплаты')\n",
    "plt.xticks(rotation = 20)\n",
    "plt.show();"
   ]
  },
  {
   "cell_type": "markdown",
   "id": "3d415b43",
   "metadata": {},
   "source": [
    "Ушедших больше среди тех, кому присылают электронный чек, видимо это неудобно для клиента и он испытывает трудности с оплатой."
   ]
  },
  {
   "cell_type": "code",
   "execution_count": null,
   "id": "4e0379a1",
   "metadata": {},
   "outputs": [],
   "source": [
    "sns.histplot(data=data,x='term',hue='churn', multiple=\"dodge\",shrink=.7)\n",
    "\n",
    "plt.title('Зависимость срока пользования и таргета')\n",
    "plt.ylabel('Частота')\n",
    "plt.xlabel('Срок пользования услугами, в днях')\n",
    "plt.show();"
   ]
  },
  {
   "cell_type": "markdown",
   "id": "d5e91fba",
   "metadata": {},
   "source": [
    "С увеличением срока пользования растет и количество ушедших клиентов."
   ]
  },
  {
   "cell_type": "code",
   "execution_count": null,
   "id": "f34a1bb9",
   "metadata": {
    "scrolled": true
   },
   "outputs": [],
   "source": [
    "sns.histplot(data=data,x='MonthlyCharges',hue='churn', multiple=\"dodge\",shrink=.7)\n",
    "\n",
    "plt.title('Зависимость ежемесячных платежей и таргета')\n",
    "plt.ylabel('Частота')\n",
    "plt.xlabel('Ежемесячные платежи')\n",
    "plt.show();"
   ]
  },
  {
   "cell_type": "markdown",
   "id": "45e8d194",
   "metadata": {},
   "source": [
    "При повышении ежемесячных платежей количество ушедших клиентов также возрастает. Особенно это заметно в промежутке ежемесячной стоимости от 70 до 80. Видимо здесь идет критическая отметка и требуется вовремя отслеживать тех клиентов, у которых такие платежи и предлагать им какие-то скидки, чтобы снизить размер платежа."
   ]
  },
  {
   "cell_type": "code",
   "execution_count": null,
   "id": "5c959202",
   "metadata": {
    "scrolled": false
   },
   "outputs": [],
   "source": [
    "data['MonthlyCharges'].hist()\n",
    "\n",
    "plt.title('Гистограмма значений ежемесячной оплаты'); \n",
    "plt.xlabel('Оплата за месяц'); \n",
    "plt.ylabel('Частота'); \n"
   ]
  },
  {
   "cell_type": "markdown",
   "id": "27f4bb03",
   "metadata": {},
   "source": [
    "Мы видим, что пик суммы ежемесячной оплаты приходится на промежуток от 20 до 30.Видимо это самый минимальный платеж при подключении. Далее идет резкий спад оплаты, возможно это связано с тем, что многие клиенты кто попробовал услугу уходят. Поэтому надо активизировать анализ клиентов, которые подключились недавно и оплатили например только первый месяц.\n",
    "В промежутке от 70 до 110 остались те клиенты, которых мы удержали и им были подключены дополнительные услуги, поэтому ежемесячный платеж вырос. "
   ]
  },
  {
   "cell_type": "code",
   "execution_count": null,
   "id": "724110d5",
   "metadata": {
    "scrolled": true
   },
   "outputs": [],
   "source": [
    "plt.figure(figsize = (16,8))\n",
    "data['term'].hist(bins=(50))\n",
    "\n",
    "plt.title('Гистограмма периода пользования услугами'); \n",
    "plt.xlabel('Срок пользования, в днях'); \n",
    "plt.ylabel('Частота'); \n"
   ]
  },
  {
   "cell_type": "code",
   "execution_count": null,
   "id": "21516308",
   "metadata": {},
   "outputs": [],
   "source": [
    "data['term'].describe()"
   ]
  },
  {
   "cell_type": "markdown",
   "id": "4ec9776d",
   "metadata": {},
   "source": [
    "Пик пользования приходится на промежуток от 50 до 200 дней. Далее идет спад и выравнивание. В среднем клиенты пользуются услугами около 2,4 лет."
   ]
  },
  {
   "cell_type": "code",
   "execution_count": null,
   "id": "ff54d760",
   "metadata": {
    "scrolled": true
   },
   "outputs": [],
   "source": [
    "sns.histplot(data=data,x='TotalCharges',hue='churn', multiple=\"dodge\",shrink=.7)\n",
    "\n",
    "plt.title('Зависимость общих затрат и таргета')\n",
    "plt.ylabel('Частота')\n",
    "plt.xlabel('Общие затраты')\n",
    "plt.show();"
   ]
  },
  {
   "cell_type": "markdown",
   "id": "10802eb0",
   "metadata": {},
   "source": [
    "При повышении общих затрат до 1000 ед. количество ушедших клиентов возрастает. "
   ]
  },
  {
   "cell_type": "code",
   "execution_count": null,
   "id": "93a823b5",
   "metadata": {},
   "outputs": [],
   "source": [
    "# удалим столбец `gender`\n",
    "data = data.drop('gender', axis= 1)"
   ]
  },
  {
   "cell_type": "code",
   "execution_count": null,
   "id": "75132f52",
   "metadata": {},
   "outputs": [],
   "source": [
    "data.shape"
   ]
  },
  {
   "cell_type": "markdown",
   "id": "b62e1fa2",
   "metadata": {},
   "source": [
    "**Вывод по EDA**\n",
    "\n",
    "После проведения исследовательского анализа наших данных можно сделать следующие выводы:\n",
    "\n",
    "* из исходного датасета было удалено 4 неинформативных столбца: `BeginDate,'EndDate, `customerID`,'gender';\n",
    "* технологические пропуски в данных были заменены на значение \"No\";   \n",
    "* в целевом признаке выявлен дисбаланс классов (доля ушедших 16%);\n",
    "* дубликаты во всех данных и по customerID не обнаружены;\n",
    "* после изучения всех признаков мы получили датасет размером (7043, 18);\n",
    "\n",
    "Данные готовы к обучению моделей."
   ]
  },
  {
   "cell_type": "markdown",
   "id": "cf371b79",
   "metadata": {},
   "source": [
    "<div class=\"alert alert-success\">\n",
    "<b>✔️ Комментарий ревьювера:</b> Татьяна, хороший анализ данных,  все понятно и очень подробно! Здорово, что по каждому признаку сравнила ушедших и оставшихся клиентов =)\n",
    "    \n",
    "*** \n",
    "    \n",
    "Еще нужно только помнить, что влияние различных факторов на целевую переменную, это гипотеза, и нужно использовать методы проверки гипотез. Но это уже отдельная работа =)\n",
    "    \n",
    "</div>"
   ]
  },
  {
   "cell_type": "markdown",
   "id": "32d37900",
   "metadata": {},
   "source": [
    "## Подготовка данных для обучения моделей\n",
    "\n",
    "### Разбивка на выборки\n",
    "\n",
    "Ранее мы ввели константу RANDOM_STATE = 220523"
   ]
  },
  {
   "cell_type": "code",
   "execution_count": null,
   "id": "08d2a9e0",
   "metadata": {},
   "outputs": [],
   "source": [
    "# cоздадим переменные для признаков и целевого признака\n",
    "\n",
    "target = data['churn']\n",
    "features = data.drop('churn', axis=1)"
   ]
  },
  {
   "cell_type": "markdown",
   "id": "4d4f2b48",
   "metadata": {},
   "source": [
    "Далее разобьем данные на выборки. Разделим исходные данные на обучающую и тестовую выборки. \n",
    "Данные разобьем на 2 части, в соотношении 75:25. Добавим аргумент stratify, он позволит сохранить изначальное распределение таргетов во всех новых датасетах. Существующий дисбаланс никуда не денется, но в каждом датасете он будет одинаковым."
   ]
  },
  {
   "cell_type": "code",
   "execution_count": null,
   "id": "93748f6a",
   "metadata": {},
   "outputs": [],
   "source": [
    "X_train, X_test, y_train, y_test = train_test_split(\n",
    "    features, target, test_size=0.25, random_state=RANDOM_STATE,stratify = target\n",
    ")"
   ]
  },
  {
   "cell_type": "code",
   "execution_count": null,
   "id": "4b3b84f8",
   "metadata": {
    "scrolled": false
   },
   "outputs": [],
   "source": [
    "# выведем на экран размеры таблиц, которые хранятся в 4-х переменных \n",
    "X_train.shape,y_train.shape,X_test.shape,y_test.shape"
   ]
  },
  {
   "cell_type": "markdown",
   "id": "2fe5a85c",
   "metadata": {},
   "source": [
    "## Обучение моделей\n",
    "### Модель CatBoostClassifier"
   ]
  },
  {
   "cell_type": "code",
   "execution_count": null,
   "id": "550c5791",
   "metadata": {},
   "outputs": [],
   "source": [
    "# инициализируем модель CatBoostClassifier\n",
    "#model_cb = CatBoostClassifier(random_state=RANDOM_STATE)"
   ]
  },
  {
   "cell_type": "code",
   "execution_count": null,
   "id": "9e1665ca",
   "metadata": {},
   "outputs": [],
   "source": [
    "X_train_cb = X_train.copy()\n",
    "X_test_cb = X_test.copy()"
   ]
  },
  {
   "cell_type": "code",
   "execution_count": null,
   "id": "cf673d29",
   "metadata": {},
   "outputs": [],
   "source": [
    "num_cols = ['MonthlyCharges', 'TotalCharges', 'DaysUsed']"
   ]
  },
  {
   "cell_type": "code",
   "execution_count": null,
   "id": "36042689",
   "metadata": {},
   "outputs": [],
   "source": [
    "# создадим переменную с категориальными признаками для передачи в модель\n",
    "cat_features = ['Type',\n",
    " 'PaperlessBilling',\n",
    " 'PaymentMethod',\n",
    " 'SeniorCitizen',\n",
    " 'Partner',\n",
    " 'Dependents',\n",
    " 'InternetService',\n",
    " 'OnlineSecurity',\n",
    " 'OnlineBackup',\n",
    " 'DeviceProtection',\n",
    " 'TechSupport',\n",
    " 'StreamingTV',\n",
    " 'StreamingMovies',\n",
    " 'MultipleLines']"
   ]
  },
  {
   "cell_type": "code",
   "execution_count": null,
   "id": "f1f9f198",
   "metadata": {
    "scrolled": true
   },
   "outputs": [],
   "source": [
    "pipeline_catboost = Pipeline([\n",
    "    ('cb', CatBoostClassifier(cat_features=cat_features,random_state=RANDOM_STATE))\n",
    "])\n",
    "\n",
    "parameters_catboost = {\n",
    "    'cb__iterations': [200,300,400],\n",
    "    'cb__depth': [3,6,9,12],\n",
    "    'cb__learning_rate': [0.01, 0.15]\n",
    "}"
   ]
  },
  {
   "cell_type": "code",
   "execution_count": null,
   "id": "6811dc35",
   "metadata": {},
   "outputs": [],
   "source": [
    "gs_model_cb = GridSearchCV(\n",
    "    estimator = pipeline_catboost,\n",
    "    param_grid=parameters_catboost, \n",
    "    scoring='roc_auc', \n",
    "    cv=KFold(n_splits=5, shuffle=True, random_state=RANDOM_STATE),\n",
    "    n_jobs=-1)\n"
   ]
  },
  {
   "cell_type": "code",
   "execution_count": null,
   "id": "9addb8f2",
   "metadata": {},
   "outputs": [],
   "source": [
    "gs_model_cb.fit(X_train, y_train)"
   ]
  },
  {
   "cell_type": "code",
   "execution_count": null,
   "id": "fec7ec1f",
   "metadata": {},
   "outputs": [],
   "source": [
    "# выведем лучшие значения гиперпараметров, полученные на GridSearch\n",
    "\n",
    "gs_model_cb_best_score = gs_model_cb.best_score_\n",
    "gs_model_cb_best_params = gs_model_cb.best_params_\n",
    "print(f'Best params CatBoostClassifier:{gs_model_cb.best_params_}')\n",
    "print(f'ROC-AUC CatBoostClassifier:{gs_model_cb.best_score_}') "
   ]
  },
  {
   "cell_type": "code",
   "execution_count": null,
   "id": "ed7db244",
   "metadata": {},
   "outputs": [],
   "source": [
    "# инициализируем лучшую модель с подобранными гиперпараметрами\n",
    "cb_best = CatBoostClassifier(random_state=RANDOM_STATE,\n",
    "                            verbose=10,iterations=300,\n",
    "                            learning_rate=0.15, depth=6,eval_metric='AUC',\n",
    "                            early_stopping_rounds=20)"
   ]
  },
  {
   "cell_type": "code",
   "execution_count": null,
   "id": "b665f2ae",
   "metadata": {
    "scrolled": true
   },
   "outputs": [],
   "source": [
    "cb_best.fit(X_train_cb, y_train,\n",
    "                  cat_features = cat_features,verbose=10)"
   ]
  },
  {
   "cell_type": "code",
   "execution_count": null,
   "id": "63994365",
   "metadata": {},
   "outputs": [],
   "source": [
    "cb_best.tree_count_"
   ]
  },
  {
   "cell_type": "code",
   "execution_count": null,
   "id": "8f14209a",
   "metadata": {
    "scrolled": true
   },
   "outputs": [],
   "source": [
    "# построим гистограмму значимости признаков для модели CatBoost\n",
    "# значения отсортированные по возрастанию влияния\n",
    "\n",
    "plt.figure(figsize = (16,15))\n",
    "importances = pd.Series(cb_best.feature_importances_,index=cb_best.feature_names_).sort_values()\n",
    "\n",
    "# график\n",
    "importances.plot.barh(grid=True, title='Важность признаков');"
   ]
  },
  {
   "cell_type": "markdown",
   "id": "5ab98cfe",
   "metadata": {},
   "source": [
    "Срок пользования услугами оказался самым значимым признаком, что логично. Далее по значимости идут месячные платежи, общие затраты на услуги, тип оплаты и метод оплаты."
   ]
  },
  {
   "cell_type": "markdown",
   "id": "76defbde",
   "metadata": {},
   "source": [
    "<div class=\"alert alert-success\">\n",
    "<b>✔️ Комментарий ревьювера:</b> Здорово, что изучила важность признаков 👍\n",
    "    \n",
    "Так мы сможем увидеть, какие признаки слабо влияют на отток, и в принципе их можно вообще исключить из обучения, и сделать новую модель, отобрав только самые важные признаки. (Пересчитывать с новыми признаками не нужно).\n",
    "\n",
    "Анализ важности признаков позволяет не только построить лучшую модель и уменьшить число признаков для обучения. Мы также можем выдать рекомендации бизнесу, изучив влияние признаков на отток, тем самым можно повысить качество определенных услуг, например онлайн-платежи или интернет на оптоволокне.\n",
    "    \n",
    "***\n",
    "    \n",
    "Вот здесь можно немного почитать про интерпретацию важности признаков\n",
    "    \n",
    "https://webiomed.ru/blog/interpretatsiia-rezultatov-mashinnogo-obucheniia/\n",
    "    \n",
    "https://habr.com/ru/articles/428213/\n",
    "    \n",
    "</div>"
   ]
  },
  {
   "cell_type": "markdown",
   "id": "5aab74db",
   "metadata": {},
   "source": [
    "### Для кодирования категориальных признаков будем использовать OneHotEncoder и StandardScaler для численных признаков."
   ]
  },
  {
   "cell_type": "code",
   "execution_count": null,
   "id": "104cb43e",
   "metadata": {},
   "outputs": [],
   "source": [
    "X_train_ridge = X_train.copy()\n",
    "X_test_ridge = X_test.copy()"
   ]
  },
  {
   "cell_type": "code",
   "execution_count": null,
   "id": "6acea4b7",
   "metadata": {},
   "outputs": [],
   "source": [
    "#категориальные признаки для OHE Ridge\n",
    "ohe_features_ridge = X_train.select_dtypes(include='object').columns.to_list()\n",
    "print(ohe_features_ridge)\n"
   ]
  },
  {
   "cell_type": "code",
   "execution_count": null,
   "id": "b5d3bf8f",
   "metadata": {},
   "outputs": [],
   "source": [
    "#численные признаки\n",
    "\n",
    "num_features = X_train.select_dtypes(exclude='object').columns.to_list()\n",
    "\n",
    "num_features"
   ]
  },
  {
   "cell_type": "code",
   "execution_count": null,
   "id": "eb8854eb",
   "metadata": {
    "scrolled": false
   },
   "outputs": [],
   "source": [
    "\n",
    "col_transformer_ridge = make_column_transformer(\n",
    "    (\n",
    "        OneHotEncoder(drop='first', handle_unknown='ignore',sparse=False),\n",
    "        ohe_features_ridge\n",
    "    ),\n",
    "    (\n",
    "        StandardScaler(), \n",
    "        num_features\n",
    "    ), remainder='passthrough',\n",
    "    verbose_feature_names_out=False\n",
    ")\n",
    "\n",
    "\n",
    "X_train_ridge = pd.DataFrame(\n",
    "    col_transformer_ridge.fit_transform(X_train_ridge),\n",
    "    columns=col_transformer_ridge.get_feature_names_out()\n",
    ")\n",
    "\n",
    "#смотрим на результат\n",
    "X_train_ridge.head()"
   ]
  },
  {
   "cell_type": "code",
   "execution_count": null,
   "id": "1d989ed6",
   "metadata": {},
   "outputs": [],
   "source": [
    "# если лучшей моделью будет Ridge, то\n",
    "# трансформируем тестовую выборку\n",
    "X_test_ridge = pd.DataFrame(\n",
    "    col_transformer_ridge.transform(X_test_ridge),\n",
    "    columns=col_transformer_ridge.get_feature_names_out()\n",
    ")\n",
    "\n",
    "#смотрим на результат\n",
    "X_test_ridge.head()"
   ]
  },
  {
   "cell_type": "code",
   "execution_count": null,
   "id": "d3b892e6",
   "metadata": {},
   "outputs": [],
   "source": [
    "#получились одинаковые признаки в тренировочной и тестовой выборках\n",
    "(X_train_ridge.columns != X_test_ridge.columns).sum()"
   ]
  },
  {
   "cell_type": "code",
   "execution_count": null,
   "id": "34478b2f",
   "metadata": {},
   "outputs": [],
   "source": [
    "X_train_ridge = X_train.copy()"
   ]
  },
  {
   "cell_type": "markdown",
   "id": "73708e17",
   "metadata": {},
   "source": [
    "### Модель Ridge"
   ]
  },
  {
   "cell_type": "code",
   "execution_count": null,
   "id": "8c5511a0",
   "metadata": {},
   "outputs": [],
   "source": [
    "#random_state не перебирается, задаём его прямо в модели\n",
    "model_ridge = Ridge(random_state=RANDOM_STATE)\n",
    "\n",
    "pipeline_ridge = make_pipeline(col_transformer_ridge, model_ridge)\n",
    "\n",
    "param_grid_ridge = {\n",
    "    'ridge__alpha': np.arange(0, 0.21, 0.01),\n",
    "}\n",
    "\n",
    "gs_ridge_pl = GridSearchCV(\n",
    "    pipeline_ridge, \n",
    "    param_grid=param_grid_ridge, \n",
    "    scoring='roc_auc',\n",
    "    n_jobs=-1,error_score='raise'\n",
    ")\n"
   ]
  },
  {
   "cell_type": "code",
   "execution_count": null,
   "id": "de6a5ca4",
   "metadata": {},
   "outputs": [],
   "source": [
    "gs_ridge_pl.fit(X_train_ridge, y_train)"
   ]
  },
  {
   "cell_type": "code",
   "execution_count": null,
   "id": "cdaba224",
   "metadata": {},
   "outputs": [],
   "source": [
    "# лучшее значение ROC-AUC на кросс-валидации\n",
    "print(f'ROC-AUC Ridge: {gs_ridge_pl.best_score_}')\n",
    "# лучшие гиперпараметры\n",
    "print(f'best_params Ridge: {gs_ridge_pl.best_params_}')"
   ]
  },
  {
   "cell_type": "code",
   "execution_count": null,
   "id": "ad691ab6",
   "metadata": {},
   "outputs": [],
   "source": []
  },
  {
   "cell_type": "code",
   "execution_count": null,
   "id": "7e4171e9",
   "metadata": {},
   "outputs": [],
   "source": [
    "#features_train = X_train.copy()\n",
    "#features_test = X_test.copy()"
   ]
  },
  {
   "cell_type": "code",
   "execution_count": null,
   "id": "d00a145c",
   "metadata": {
    "scrolled": true
   },
   "outputs": [],
   "source": [
    "# категориальные признаки для OHE\n",
    "#ohe_features = features_train.select_dtypes(include='object').columns.to_list()\n",
    "#ohe_features"
   ]
  },
  {
   "cell_type": "code",
   "execution_count": null,
   "id": "d47b97bc",
   "metadata": {
    "scrolled": true
   },
   "outputs": [],
   "source": [
    "# drop='first' удаляет первый признак из закодированных:\n",
    "# таким образом обходим dummy-ловушку\n",
    "# задаём handle_unknown='ignore':\n",
    "# игнорируется ранее не встречающиеся значения признака (при transform)\n",
    "#encoder_ohe = OneHotEncoder(drop='first', handle_unknown='ignore',sparse=False)\n",
    "\n",
    "# обучаем энкодер на заданных категориальных признаках тренировочной выборки\n",
    "#encoder_ohe.fit(features_train[ohe_features])\n",
    "\n",
    "# добавляем закодированные признаки в features_train\n",
    "# encoder_ohe.get_feature_names_out() позволяет получить названия колонок\n",
    "#features_train[encoder_ohe.get_feature_names_out()] = encoder_ohe.transform(features_train[ohe_features])\n",
    "\n",
    "# удаляем незакодированные категориальные признаки (изначальные колонки)\n",
    "#features_train_rf = features_train.drop(ohe_features, axis=1)\n",
    "\n",
    "# смотрим на результат\n",
    "#features_train_rf.head()"
   ]
  },
  {
   "cell_type": "code",
   "execution_count": null,
   "id": "a591a33f",
   "metadata": {},
   "outputs": [],
   "source": [
    "# энкодером, который обучен на тренировочной, кодируем тестовую в случае если будет достигнута метрика качества\n",
    "#features_test[encoder_ohe.get_feature_names_out()] = encoder_ohe.transform(features_test[ohe_features])\n",
    "#features_test_rf = features_test.drop(ohe_features, axis=1)"
   ]
  },
  {
   "cell_type": "markdown",
   "id": "e267b439",
   "metadata": {},
   "source": [
    "Далее в целях подготовки данных для дальнейшего исследования проведем масштабирование численных признаков методом стандартизации, чтобы показать модели, что все признаки значимы."
   ]
  },
  {
   "cell_type": "code",
   "execution_count": null,
   "id": "0c8dc289",
   "metadata": {},
   "outputs": [],
   "source": [
    "#pd.options.mode.chained_assignment = None\n",
    "\n",
    "# список численных признаков для стандартизации\n",
    "#numeric = ['MonthlyCharges', 'TotalCharges', 'term']\n",
    "\n",
    "# создадим объект структуры для стандартизации данных — StandardScaler\n",
    "#scaler = StandardScaler()\n",
    "# настроим объект на обучающих данных\n",
    "#scaler.fit(features_train[numeric]) \n",
    "\n",
    "# преобразуем все выборки функцией transform\n",
    "#features_train[numeric]= scaler.transform(features_train[numeric])\n",
    "\n",
    "#features_test[numeric] = scaler.transform(features_test[numeric])\n",
    "\n",
    "# проверим размеры выборок и выведем на экран стандартизированные столбцы обучающей выборки\n",
    "#print(features_train[numeric].shape,features_test[numeric].shape)\n"
   ]
  },
  {
   "cell_type": "code",
   "execution_count": null,
   "id": "7ff5948c",
   "metadata": {},
   "outputs": [],
   "source": [
    "#features_train[numeric]"
   ]
  },
  {
   "cell_type": "code",
   "execution_count": null,
   "id": "352d4761",
   "metadata": {
    "scrolled": true
   },
   "outputs": [],
   "source": [
    "# удаляем незакодированные численные признаки (изначальные колонки)\n",
    "#features_train_rf = features_train_rf.drop(features_train[numeric], axis=1)\n",
    "# объединяем 2 датафрейма\n",
    "#features_train_rf = pd.concat([features_train_rf,features_train[numeric]], axis=1)\n",
    "\n",
    "#features_train_rf"
   ]
  },
  {
   "cell_type": "code",
   "execution_count": null,
   "id": "280ac0ec",
   "metadata": {},
   "outputs": [],
   "source": [
    "# тоже самое для тестовой выборки\n",
    "#features_test_rf = features_test_rf.drop(features_test[numeric], axis=1)\n",
    "#features_test_rf = pd.concat([features_test_rf,features_test[numeric]], axis=1)\n",
    "#features_test_rf.shape"
   ]
  },
  {
   "cell_type": "code",
   "execution_count": null,
   "id": "cdba2989",
   "metadata": {},
   "outputs": [],
   "source": [
    "# проверим размеры\n",
    "#features_train_rf.shape"
   ]
  },
  {
   "cell_type": "markdown",
   "id": "710f761e",
   "metadata": {},
   "source": [
    "### Модель случайного леса классификации RandomForestClassifier"
   ]
  },
  {
   "cell_type": "code",
   "execution_count": null,
   "id": "3a3cf7fd",
   "metadata": {},
   "outputs": [],
   "source": []
  },
  {
   "cell_type": "code",
   "execution_count": null,
   "id": "971b2d78",
   "metadata": {},
   "outputs": [],
   "source": [
    "#категориальные признаки для OHE RandomForestClassifier\n",
    "ohe_features_rf = ohe_features_ridge.copy()\n",
    "ohe_features_rf"
   ]
  },
  {
   "cell_type": "code",
   "execution_count": null,
   "id": "396724b7",
   "metadata": {},
   "outputs": [],
   "source": [
    "#численные признаки\n",
    "num_features = X_train.select_dtypes(exclude='object').columns.to_list()\n",
    "num_features"
   ]
  },
  {
   "cell_type": "code",
   "execution_count": null,
   "id": "b97a9461",
   "metadata": {},
   "outputs": [],
   "source": [
    "X_train_rf = X_train.copy()\n",
    "X_test_rf = X_test.copy()"
   ]
  },
  {
   "cell_type": "code",
   "execution_count": null,
   "id": "ec75dfd8",
   "metadata": {},
   "outputs": [],
   "source": [
    "\n",
    "\n",
    "col_transformer_rf= make_column_transformer(\n",
    "    \n",
    "    (\n",
    "        OrdinalEncoder(handle_unknown='use_encoded_value', unknown_value=-1),   \n",
    "        ohe_features_rf\n",
    "    ),\n",
    "    \n",
    "    (StandardScaler(), \n",
    "        num_features\n",
    "    )\n",
    ")\n"
   ]
  },
  {
   "cell_type": "code",
   "execution_count": null,
   "id": "fa6b3507",
   "metadata": {},
   "outputs": [],
   "source": [
    "model_rf = RandomForestClassifier(random_state=RANDOM_STATE)\n",
    "\n",
    "pipline_rf = make_pipeline(col_transformer_rf, model_rf)\n",
    "\n",
    "# подберем гиперпараметры, используя  GridSearchCV\n",
    "param_rf = { \n",
    "    'n_estimators': [100, 150, 200],\n",
    "    'max_depth' : [2, 5, 10, 20, 25, 30],\n",
    "    'class_weight': ['balanced']\n",
    "}\n",
    "\n",
    "gs_model_rf = GridSearchCV(\n",
    "    estimator=model_rf, \n",
    "    param_grid=param_rf, \n",
    "    scoring='roc_auc',error_score='raise',\n",
    "     n_jobs=-1)\n",
    "\n",
    "\n",
    "\n",
    "gs_model_rf.fit(X_train_rf, y_train)\n",
    "\n"
   ]
  },
  {
   "cell_type": "code",
   "execution_count": null,
   "id": "8d82916a",
   "metadata": {},
   "outputs": [],
   "source": [
    "# лучшее значение ROC-AUC на кросс-валидации\n",
    "print(f'best_score RandomForestClassifier: {gs_model_rfc.best_score_}')\n",
    "# лучшие гиперпараметры\n",
    "print(f'best_params RandomForestClassifier: {gs_model_rfc.best_params_}')      "
   ]
  },
  {
   "cell_type": "code",
   "execution_count": null,
   "id": "26e238f1",
   "metadata": {},
   "outputs": [],
   "source": [
    "model_rfc = RandomForestClassifier(random_state=RANDOM_STATE)\n",
    "\n",
    "pipline_rfc = make_pipeline(model_rfc)\n",
    "\n",
    "# подберем гиперпараметры, используя  GridSearchCV\n",
    "param_rfc = { \n",
    "    'n_estimators': [100, 150, 200],\n",
    "    'max_depth' : [2, 5, 10, 20, 25, 30],\n",
    "    'class_weight': ['balanced']\n",
    "}\n",
    "\n",
    "gs_model_rfc = GridSearchCV(\n",
    "    estimator=model_rfc, \n",
    "    param_grid=param_rfc, \n",
    "    scoring='roc_auc',\n",
    "    cv=5, n_jobs=-1)\n",
    "\n",
    "\n",
    "\n",
    "gs_model_rfc.fit(features_train_rf, y_train)\n",
    "\n"
   ]
  },
  {
   "cell_type": "code",
   "execution_count": null,
   "id": "d6eb5726",
   "metadata": {},
   "outputs": [],
   "source": [
    "\n",
    "# лучшее значение ROC-AUC на кросс-валидации\n",
    "print(f'best_score RandomForestClassifier: {gs_model_rfc.best_score_}')\n",
    "# лучшие гиперпараметры\n",
    "print(f'best_params RandomForestClassifier: {gs_model_rfc.best_params_}')      "
   ]
  },
  {
   "cell_type": "code",
   "execution_count": null,
   "id": "202fe208",
   "metadata": {
    "scrolled": false
   },
   "outputs": [],
   "source": [
    "pd.DataFrame({\n",
    "        'Model':['Ridge','RandomForestClassifier','CatBoostClassifierr'],\n",
    "        'ROC-AUC':['0.76','0.81','0.89']\n",
    "})"
   ]
  },
  {
   "cell_type": "markdown",
   "id": "b791e7ae",
   "metadata": {},
   "source": [
    "<div class=\"alert alert-success\">\n",
    "<b>✔️ Комментарий ревьювера:</b> Здорово, что рассмотрела несколько моделей и сделала перебор гиперпараметров! \n",
    "     \n",
    "Видно, что проделана большая работа 👍 Обучение моделей выполнено правильно\n",
    "    \n",
    "</div>"
   ]
  },
  {
   "cell_type": "markdown",
   "id": "eff30eaf",
   "metadata": {},
   "source": [
    "### Тестирование лучшей модели на тестовой выборке"
   ]
  },
  {
   "cell_type": "code",
   "execution_count": null,
   "id": "5ea9fe9d",
   "metadata": {
    "scrolled": false
   },
   "outputs": [],
   "source": [
    "# инициализируем модель случайного леса с наилучшим значением метрики ROC-AUC\n",
    "best_model = CatBoostClassifier(\n",
    "                            random_state=RANDOM_STATE,\n",
    "                            verbose=10,iterations=300,\n",
    "                            learning_rate=0.15, depth=6,eval_metric='AUC',\n",
    "                            early_stopping_rounds=20\n",
    ")\n",
    "\n",
    "best_model.fit(X_train_cb, y_train,cat_features = cat_features) \n",
    "predict_test = best_model.predict(X_test_cb)"
   ]
  },
  {
   "cell_type": "markdown",
   "id": "fa530272",
   "metadata": {},
   "source": [
    "### Построение ROC кривой и расчет дополнительных метрик качества"
   ]
  },
  {
   "cell_type": "markdown",
   "id": "8e5835a3",
   "metadata": {},
   "source": [
    "Построим ROC-кривую для данной модели. Для этого найдем значения вероятностей классов для тестовой выборки. Значения вероятностей класса «1» сохраним в переменной probabilities_one_test."
   ]
  },
  {
   "cell_type": "code",
   "execution_count": null,
   "id": "2d8cf12b",
   "metadata": {
    "scrolled": true
   },
   "outputs": [],
   "source": [
    "probabilities_test = best_model.predict_proba(X_test)\n",
    "probabilities_one_test = probabilities_test[:, 1]\n",
    "\n",
    "fpr, tpr, thresholds = roc_curve(y_test, probabilities_one_test)\n",
    "plt.figure()\n",
    "plt.plot(fpr, tpr)\n",
    "plt.xlim([0.0, 1.0])\n",
    "plt.ylim([0.0, 1.0])\n",
    "plt.xlabel('False Positive Rate')\n",
    "plt.ylabel('True Positive Rate')\n",
    "plt.title('ROC-кривая')\n",
    "plt.show() "
   ]
  },
  {
   "cell_type": "code",
   "execution_count": null,
   "id": "d0917621",
   "metadata": {},
   "outputs": [],
   "source": [
    "# выведем матрицу ошибок\n",
    "cm = confusion_matrix(y_test, predict_test, labels=best_model.classes_)\n",
    "disp = ConfusionMatrixDisplay(confusion_matrix=cm,\n",
    "                           display_labels=['Non-churned', 'Churned'])\n",
    "disp.plot()\n",
    "plt.show()"
   ]
  },
  {
   "cell_type": "code",
   "execution_count": null,
   "id": "3149cb46",
   "metadata": {
    "scrolled": true
   },
   "outputs": [],
   "source": [
    "# рассчитаем дополнительные метрики\n",
    "print(f'Accuracy: {accuracy_score(y_test, predict_test)}')    \n",
    "print(f'Полнота: {recall_score(y_test, predict_test)}')     \n",
    "print(f'Точность: {precision_score(y_test, predict_test)}')  \n",
    "print(f'F1-мера: {f1_score(y_test,predict_test)}')          \n",
    "print(f'AUC-ROC:{roc_auc_score(y_test,probabilities_one_test)}')\n"
   ]
  },
  {
   "cell_type": "markdown",
   "id": "4703d079",
   "metadata": {},
   "source": [
    "<div class=\"alert alert-success\">\n",
    "<b>✔️ Комментарий ревьювера:</b> Отличные результаты на тестировании, поздравляю!\n",
    "    \n",
    "</div>"
   ]
  },
  {
   "cell_type": "markdown",
   "id": "af7ea959",
   "metadata": {},
   "source": [
    "Accuracy мы получили 0.90, но в нашем случае при дисбалансе классов данная метрика не совсем информативна.\n",
    "\n",
    "Recall мы получили лишь 0.53, это говорит нам о том, что модель из всех склонных к оттоку клиентов находит лишь 53%.\n",
    "Но при этом мы получили высокое значение Precision 0.82. Это говорит о том, что наша модель находит 82% склонных к оттоку и при этом они действительно уходят."
   ]
  },
  {
   "cell_type": "markdown",
   "id": "2058cc6a",
   "metadata": {},
   "source": [
    "<div class=\"alert alert-success\">\n",
    "<b>✔️ Комментарий ревьювера:</b> Вот небольшие статьи по метрикам в машинном обучении, если заинтересует:\n",
    "\n",
    "https://habr.com/ru/company/ods/blog/328372/ \n",
    "    \n",
    "https://habr.com/ru/company/jetinfosystems/blog/420261/\n",
    "\n",
    "</div>"
   ]
  },
  {
   "cell_type": "markdown",
   "id": "31276eee",
   "metadata": {},
   "source": [
    "<div class=\"alert alert-info\"> <b>ℹ️ Комментарий студента: </b> Спасибо за статьи. Скажи пожалуйста, по метрикам до конца не уложится в голове: вот в нашем случае нам нужно, чтобы recall был все-таки выше, правильно я понимаю? чтобы лучше находить из всех клиентов именно склонных к оттоку, бизнесу важнее же это? и как нам повысить эту метрику если это нужно? с другой стороны мы же достигли требуемого AUC-ROC... </div>"
   ]
  },
  {
   "cell_type": "markdown",
   "id": "537bbd5e",
   "metadata": {},
   "source": [
    "<div class=\"alert alert-success\">\n",
    "<b>✔️ Комментарий ревьювера v2:</b> По условию задачи мы максимизируем метрику ROC-AUC, но с точки зрения бизнеса нужны немного другие результаты. Ты задала хороший вопрос =)\n",
    "    \n",
    "Метрика ROC-AUC не зависит от порога классификаци, но метрику Recall можно улучшить, изменяя порог классификации (по умолчанию 0,5).\n",
    "\n",
    "По поводу метрики для бизнеса давай разберем пример 😊\n",
    "\n",
    "1. Сначала рассмотрим пример, касающийся медицины или диагностики заболеваний:     \n",
    "\n",
    "- в этом случае доля ложно-отрицательных ответов должна быть сведена к нулю. Если, к примеру вероятность заболевания > 5% (p = 0.05), то мы относим пациента в группу риска. Мы конечно сильно ухудшим метрику F1,  но целевой метрикой в данном случае является Recall. Даже если пациент здоров, он пройдет дополнительное обследование    \n",
    "\n",
    "2. В задачах классификации с точки зрения бизнеса значение метрики определяется требованиями бизнеса, можно даже поставить задачу — чем больше, тем лучше. Но хороший показатель ROC-AUC не всегда означает хорошую модель, важно правильно выбрать порог классификации.    \n",
    "\n",
    "Представим, что у нас промокод, который составляет 30% от стоимости ежемесячных услуг для каждого клиента. Поставим задачу так: кто собирается уходить, тому выдадим промокод, а кто лояльный, промокод не будем давать. У нас появятся ошибки первого и второго рода.\n",
    "    \n",
    "Ошибки первого рода: \n",
    "- предсказание модели 1, значение таргета 0, мы выдали промокод лояльному клиенту.\n",
    "    \n",
    "Ошибки второго рода:\n",
    "- предсказание модели 0, значение таргета 1, не выдали промокод клиенту, который склонен к оттоку.    \n",
    "\n",
    "Чтобы посчитать прибыль, рассмотрим такую схему:    \n",
    "\n",
    "- если клиент на самом деле был лояльный, то мы потеряли 30% от стоимости месячного платежа (ошибка 1го рода)\n",
    "- если клиент был отточный, а мы не дали ему промокод, то мы потеряем 100% от стоимости ежемесячного платежа (ошибка второго рода).\n",
    "    \n",
    "По умолчанию порог классификации равен 0,5, можно сделать разные расчеты, кода порог равен 0.5, 0.6, 0.7, 0.8, 0.9. \n",
    "На тестовой выборке рассчитваем убытки по ошибкам первого и второго рода, соответственно наша задача — минимизация убытков.\n",
    "    \n",
    "\n",
    "</div>"
   ]
  },
  {
   "cell_type": "markdown",
   "id": "f83ec1d8",
   "metadata": {},
   "source": [
    "<div class=\"alert alert-info\"> <b>ℹ️ Комментарий студента 2: </b> Супер, спасибо за примеры, так гораздо яснее. Скажи пожалуйста а где мы этот порог меняем, в каких параметрах? Либо у нас этого не было, либо забыла... И что значит на тестовой выборке мы рассчитываем убытки, как это делается🤔?</div>"
   ]
  },
  {
   "cell_type": "markdown",
   "id": "cb9b8848",
   "metadata": {},
   "source": [
    "<div class=\"alert alert-success\">\n",
    "<b>✔️ Комментарий тимлида v2:</b> Нет, такую задачу мы не рассматривали, я ее иногда предлагаю рассмотреть, кому интересно, как дополнение к проекту =)\n",
    "    \n",
    "Напишу об этом завтра в Пачке, может кто-то заинтересуется\n",
    "    \n",
    "    \n",
    "Задача в том, кому выдать промокоды, чтобы минимизировать убытки\n",
    "    \n",
    "</div>"
   ]
  },
  {
   "cell_type": "markdown",
   "id": "bb3aed18",
   "metadata": {},
   "source": [
    "Проверим на адекватность."
   ]
  },
  {
   "cell_type": "code",
   "execution_count": null,
   "id": "87a7afa3",
   "metadata": {},
   "outputs": [],
   "source": [
    "dummy_model = DummyClassifier(strategy='constant', constant=1)\n",
    "dummy_model.fit(features_train,target_train)\n",
    "dummy_model.score(features_train,target_train)"
   ]
  },
  {
   "cell_type": "markdown",
   "id": "46db89a7",
   "metadata": {},
   "source": [
    "Получили, что константная модель в 16 % случаев будет предсказывать класс 1, что соответсвует распределению классов в таргете."
   ]
  },
  {
   "cell_type": "markdown",
   "id": "6f27fbfa",
   "metadata": {},
   "source": [
    "Лучшей моделью, которая достигла требуемой метрики качества ROC-AUC>=0.85 вышла модель **CatBoostClassifier** с подобранными гиперпараметрами random_state=RANDOM_STATE, iterations=300,learning_rate=0.15, depth=6. AUC-ROC на тестовых данных:0.9064272604918635. Точность: 0.8114285714285714.\n",
    "\n",
    "Более подробный вывод напишу в отчетной части."
   ]
  },
  {
   "cell_type": "markdown",
   "id": "231adab7",
   "metadata": {},
   "source": [
    "<font color=blue>\n",
    "<b> ✔️ 👍Заключение ревьювера:</b> Татьяна, было приятно проверять твою работу, она выполнена на очень хорошем уровне! \n",
    "\n",
    "Тебе удалось справиться с выпускным проектом, поздравляю! Данные из разных таблиц собраны в один датафрейм, удалены аномалии, заполнены пропуски, получены новые признаки, а ненужные признаки удалены. Рассмотрено несколько моделей и сделан перебор параметров. Могу отметить самостоятельность и аналитический подход в выполнении проекта, хорошую аналитическую часть!\n",
    "   \n",
    "Положительные моменты: \n",
    "    \n",
    "- грамотное и понятное оформление кода;\n",
    "    \n",
    "- аналитический подход — при удалении признаков и формировании новых написано соответствующее обоснование;\n",
    "    \n",
    "- проведен исследовательский анализ данных и корреляции признаков;\n",
    "    \n",
    "- рассмотрены несколько моделей для обучения, выполнен перебор гиперпараметров.\n",
    "\n",
    "Особых замечаний по работе не возникло.    \n",
    "    \n",
    "На данном этапе проект практически завершен, я также отметил рекомендации. У нас еще есть время — я отправлю проект, чтобы ты могла ознакомиться с проверкой и возможно задать вопросы =)\n",
    "    \n",
    "Также на будущее стоит иметь ввиду, что метрика ROC-AUC является не единственной, всегда нужно прислушиваться к требованиями бизнеса. Обычно одной метрикой не ограничиваются, смотрят также Precision, Recall, и выбирают те, которые наиболее подходят для конкретных задач. \n",
    "    \n",
    "Еще нужно смотреть на важность признаков в модели, чтобы понимать, какие параметры влияют на отток.\n",
    "    \n",
    "Проверка важности признаков по модели это только один из способов (корреляция в том числе). Используют также аналитические методы проверки гипотез.\n",
    "    \n",
    "Если есть какие-то вопросы, или нужны пояснения по проекту — смело пиши! Я постараюсь тебе помочь 😊\n",
    "\n",
    "Жду твоего ответа!\n",
    "    \n",
    "</font>"
   ]
  },
  {
   "cell_type": "markdown",
   "id": "badfc086",
   "metadata": {},
   "source": [
    "<div class=\"alert alert-success\">\n",
    "<b>✔️ Комментарий ревьювера v2:</b> Татьяна, поздравляю с выполнением основной части проекта!\n",
    "    \n",
    "Пожалуйста, сохрани наши с тобой комментарии, а отчет продолжай выполнять ниже, в этом файле Jupyter Notebook.\n",
    "    \n",
    "Вижу, что ты уже практически сделала отчет, на всякий случай напомню необходимые пункты:\n",
    "       \n",
    "- список признаков, которые использовались для обучения;\n",
    "    \n",
    "- указать итоговую модель и ее гиперпараметры — желательно в отдельной строке, чтобы не сливалась с остальным текстом;\n",
    "    \n",
    "- отличия от исходного плана работ;\n",
    "    \n",
    "- в отчете нужно указать трудности в работе (если не было, то так и написать) и ключевые этапы (если ключевых этапов не было, то написать, что все этапы важны);\n",
    "    \n",
    "- размер тестовой выборки, параметр random_state.\n",
    "\n",
    "Сейчас необходимо добавить список признаков, которые использовались для обучения моделей.\n",
    "    \n",
    "</div>"
   ]
  },
  {
   "cell_type": "markdown",
   "id": "445ab3d7",
   "metadata": {},
   "source": [
    "<div class=\"alert alert-info\"> <b>ℹ️ Комментарий студента 2: </b> Признаки добавила.</div>"
   ]
  },
  {
   "cell_type": "markdown",
   "id": "425d1ec0",
   "metadata": {},
   "source": [
    "<div class=\"alert alert-success\">\n",
    "<b>✔️ Комментарий тимлида v2:</b> Отлично\n",
    "    \n",
    "</div>"
   ]
  },
  {
   "cell_type": "markdown",
   "id": "673d4c9d",
   "metadata": {},
   "source": [
    "## Общий вывод "
   ]
  },
  {
   "cell_type": "markdown",
   "id": "c311a017",
   "metadata": {},
   "source": [
    "**Вывод**   \n",
    "\n",
    "Мы провели работу по подготовке прототипа модели машинного обучения для оператора связи «Ниединогоразрыва.ком» \n",
    "\n",
    "**Цель проекта** - прогнозирование оттока клиентов.   \n",
    "\n",
    "**Наша задача** - создание прототипа модели машинного обучения, который позволит оператору связи своевременно выявлять клиентов, планирующих уйти в ближайшее время. Это позволит компании предложить клиентам промокоды и специальные условия, тем самым сохранить клиента и увеличить прибыль.  \n",
    "\n",
    "В нашем распоряжении были персональные данные о некоторых клиентах,информация об их тарифах и договорах, которые собрала команда оператора.\n",
    "\n",
    "Данные находились в 4-х датасетах. В ходе работы все данные были объединены в один датасет по общему признаку `CustomerID`.\n",
    "\n",
    "Работа была проведена в соответствии с первононачальным планом. Сложностей в процессе работы не возникло.\n",
    "\n",
    "Была проведена загрузка исходных данных, их обзор и предобработка: \n",
    "\n",
    "* в столбце `EndDate` не везде была отмечена дата окончания пользования услугами. В ходе анализа мы заменили данные пропуски на дату выгрузки - 01.02.2020.\n",
    "* найденные технологические пропуски после объединения датасетов были заполнены значениями \"not_used\". \n",
    "* дубликаты в данных отсутствовали. \n",
    "* аномалий не обнаружено. \n",
    "* создали столбец с таргетом `churn` на основе данных из столбца `EndDate` -  где '1' - клиент ушел, а '0' - клиент действующий.\n",
    "* cоздали дополнительный признак - `term`, срок пользования услугой в днях;\n",
    "* неинформативные (`CustomerID`) и столбцы, приводящие к утечке данных (`BeginDate`,`EndDate`)были удалены после создания таргета и дополнительного признака, т.к. не представляют важности при обучении модели. \n",
    "* привели в соответствие типы данных в столбцах `TotalCharges` и `SeniorCitizen`;\n",
    "* обнаруженные пропуски в столбце `TotalCharges` были заменены на значение месячных платежей;\n",
    "\n",
    "Далее мы провели исследовательский анализ данных и визуализировали с помощью графиков результаты зависимости поведения клиентов в двух группах от различных факторов и дополнительных услуг:\n",
    "* изучили целевой признак и обнаружили дисбаланс классов, класса с меткой '1'было около 16%,оставшиеся были с меткой '0'.\n",
    "* построили тепловую карту корреляции числовых признаков, выявили наличие положительной взаимосвязи между сроком пользования услугой и общими затратами клиента (0,82), что является логичным, чем дольше срок тем больше клиент потратил\n",
    "* посмотрели на графиках наиболее интересные зависимости поведения клиентов от различных признаков;\n",
    "* выяснили, что пол клиента практически не имеет значения, поэтому впоследствии данный признак был удален;\n",
    "* на срок пользования больше всего оказывают влияние такие факторы как общие затраты на услуги в целом, тип и способ оплаты, наличие супруга.\n",
    "* после изучения всех признаков мы получили датасет размером (7043, 18), готовый для обучения моделей.\n",
    "\n",
    "Следующим шагом была проведена разбивка данных на обучающий и тестовый набор, с **размером тестовой выборки 0.25**. При разбивке добавили аргумент stratify, который позволил сохранить изначальное распределение таргета во всех новых датасетах. Существующий дисбаланс никуда не денется, но в каждом датасете он будет одинаковым.\n",
    "Был введен параметр  **RANDOM_STATE = 220523**.\n",
    "Были выделены признаки и целевой признак. \n",
    "\n",
    "**Так для обучения модели были использованы следующие 17 признаков:**\n",
    "\n",
    "Type,PaperlessBilling,\tPaymentMethod,\tMonthlyCharges\tTotalCharges,   \n",
    "SeniorCitizen,Partner,Dependents,InternetService,OnlineSecurity,OnlineBackup,   \tDeviceProtection,TechSupport,StreamingTV,StreamingMovies,MultipleLines,term.   \n",
    "\n",
    "Далее мы провели обучение моделей машинного обучения, для выполнения поставленной цели. \n",
    "Ключевой метрикой качества был ROC-AUC, требовалось достичь значения >=0.85.\n",
    "\n",
    "Нами было инициализировано 3 модели: Ridge, RandomForestClassifier, CatBoostClassifier.\n",
    "Для подбора гиперпараметров в целях улучшения качества моделей, а также для проведения проверки качества был использован GridSearchCV.\n",
    "\n",
    "Для моделей Ridge и RandomForestClassifier было проведено кодирование категориальных признаков методом OneHotEncoder и масштабирование численных признаков методом стандартизации StandardScaler.\n",
    "\n",
    "Выбрав лучшую модель, которая достигла требуемого значения ROC-AUC,мы рассчитали ее качество на тестовой выборке. Также была построена ROC-кривая, рассчитаны дополнительные метрики качества и проведена проверка на адекватность лучшей модели в сравнении с константной моделью.\n",
    "\n",
    "Также мы рассмотрели наиболее значимые признаки, которые позволили достигнуть нашей метрики.\n",
    "Можем выделить следующие **наиболее важные признаки** при обучении модели:\n",
    "* term;\n",
    "* TotalCharges;\n",
    "* Type;\n",
    "* MonthlyCharges;\n",
    "* PaymentMethod;\n",
    "* MultipleLines.\n",
    "\n",
    "В этой связи рекомендуем бизнесу провести более детальный анализ значимых признаков и провести работу по улучшению качества данных услуг в целях максимизации прибыли.\n",
    "\t\t\n",
    "Итак, лучшей моделью машинного обучения в нашем случае выбрана модель CatBoostClassifier, показав на тестовых данных значение \n",
    "ROC-AUC 0.90 (на обучающей 0.89).\n",
    "\n",
    "**Гиперпараметры итоговой лучшей модели     \n",
    "CatBoostClassifier(random_state=RANDOM_STATE,       \n",
    "                   iterations=300,      \n",
    "                   learning_rate=0.15,       \n",
    "                   depth=6,verbose=0)**   \n",
    "\n",
    "Исходя из критериев которые важны заказчику, **рекомендуем компании выбрать модель  CatBoostClassifier**. \n",
    "\n",
    "По матрице ошибок мы можем сказать, что количество истинно положительных ответов (то есть тех кто по прогнозу модели ушли из компании и фактически ушли) достаточно большое, что позволит нам использовать модель в своих прогнозах, не расходуя рекламный бюджет на привлечение новых клиентов. \n",
    "\n",
    "Недостатком данной модели является недостаточно высокое значения метрики recall - 0.51.Для бизнеса важно максимально точно отделить тех, кто хочет уйти от тех, кто бы остался. Если клиент хочет уйти в отток, то следует предложить ему скидку или выгодный тариф, чтобы он остался. А если он итак не собирался уходить, то не стоит тратить средства на его удержание. Поэтому следует еще провести работу над повышением данной метрики, возможно удалением части незначимых признаков.\n",
    "\n",
    "Для бизнеса это важно, потому что модель достаточно хорошо находит тех клиентов, которые собираются уйти, а это значит, что компания может принять меры для удержания клиента и получения прибыли от него в дальнейшем длительном периоде.\n",
    "\n",
    "Метрика Precision говорит о том, что наша модель правильно определяет на 81% из всех клиентов именно клиентов склонных к оттоку и при этом они действительно уходят.\n",
    "\n",
    "Для моделей Ridge и RandomForestClassifier не удалось достичь требуемого значения ROC-AUC.\n",
    "Техника борьбы с дисбалансом (установка параметра class_weight = 'balanced') в данном случае также не помогли улучшить модели. Соответственно данные модели нам не подходят.\n",
    "\n",
    "Дана рекомендация бизнесу, активно работать с теми клиентами,чье поведение (по прогнозам нашей модели) свидетельствует о том, что они уйдут из банка в ближайшее время."
   ]
  },
  {
   "cell_type": "markdown",
   "id": "ad64bc73",
   "metadata": {},
   "source": [
    "<div class=\"alert alert-info\"> <b>ℹ️ Комментарий студента: </b> Арсен, спасибо за рекомендации. Еще поясни пожалуйста, что нам дает применение  class_weight = 'balanced', я пробовала его на Catboost, но с ним метрика чуть хуже. Почему все рекомендуют его применять при дисбалансе, а он ничего особо не дает? И еще вопрос: на практике такие модели по определению оттока строятся на сотнях признаков или это может быть 30 признаков, но крутых? и сколько по времени может занимать процесс отбора признаков и подготовки данных? какие задачи у джунов на практике, что им в основном поручают делать? Спасибо </div>"
   ]
  },
  {
   "cell_type": "markdown",
   "id": "e7d655b9",
   "metadata": {},
   "source": [
    "<div class=\"alert alert-success\">\n",
    "<b>✔️ Комментарий ревьювера v2:</b> Татьяна, тебе спасибо за хорошую работу!\n",
    "    \n",
    "Метрика ROC-AUC не чувствительна к дисбалансу, но для других метрик дисбаланс имеет смысл учитывать.\n",
    "    \n",
    "***\n",
    "    \n",
    "На практике бывают по-разному: \n",
    "    \n",
    "- сотни разных признаков и несколько десятков значимых признаков могут дать хорошие результаты. По возможности конечно шумные признаки лучше убирать.\n",
    "    \n",
    "Генерация признаков — это одна из важных задач на этапе подготовки данных, эта задача может занимать несколько дней, в зависимости от сложности =) В соревнованиях на Kaggle участники постоянно улучшают модели, генерируют новые признаки на протяжении всего соревнования, которое может длиться месяц.\n",
    "    \n",
    "Отбор признаков можно сделать на основе проверки гипотез о значимости признака:\n",
    "    \n",
    "- для общего развития можно посмотреть цикл статей:\n",
    "\n",
    "https://habr.com/ru/post/557424/\n",
    "https://habr.com/ru/post/556798/\n",
    "</div>"
   ]
  },
  {
   "cell_type": "markdown",
   "id": "db2afdea",
   "metadata": {},
   "source": [
    "<div class=\"alert alert-info\"> <b>ℹ️ Комментарий студента 2: </b> Отчет дописала. Про дисбаланс поняла. Ты еще обещал рассказать про задачи джунов). Также интересно было бы послушать про твой опыт, чем занимаешься сейчас, сколько в DS,IT😊 Спасибо еще раз за развернутые ответы своими словами понятным языком👍</div>"
   ]
  },
  {
   "cell_type": "markdown",
   "id": "0a584e70",
   "metadata": {},
   "source": [
    "<div class=\"alert alert-success\">\n",
    "<b>✔️ Комментарий тимлида v2:</b> Все хорошо, отчет принимается =)\n",
    "    \n",
    "По поводу джунов: \n",
    "    \n",
    "- часто джуны решают задачи выгрузки данных из базы (SQL), проверка гипотез, расчет метрик, визуализация данных, генерация признаков, ревью кода коллег, исправления кода под новые версии библиотек и многие другие задачи. Это я описал предметную области машинного обучения и аналитики.\n",
    "    \n",
    "Более подробно я обычно рассказываю на финальном вебинаре, так что приходи =)\n",
    "    \n",
    "В DS я с 2020 года, в свое время тоже прошел курс по Машинному обучению, в прошлом работал инженером-конструктором =) Сейчас работаю в области ML-аналитики. Подробнее также могу рассказать на вебинаре 😉\n",
    "    \n",
    "</div>"
   ]
  },
  {
   "cell_type": "markdown",
   "id": "5981045f",
   "metadata": {},
   "source": [
    "<div class=\"alert alert-success\">\n",
    "<b>✔️ Заключение тимлида:</b> Татьяна, было приятно поработать с тобой над финальным проектом 😊 Видно, что ты серьезно отнеслась к работе, как к реальной задаче!\n",
    "        \n",
    "✨ Поздравляю тебя с успешным завершением финального спринта! Если вспомнить, с чего начиналось обучение, видно как от простых задач мы перешли к реальным проектам, и у тебя это здорово получилось. Я считаю, что это заслуживает похвалы 👍\n",
    "    \n",
    "В процессе работы над проектом ты проявила себя как грамотный специалист — могу отметить самостоятельность и аналитический подход! По отчету понятно, какие признаки использовались для обучения, как были получены дополнительные признаки, указана модель для обучения и гиперпараметры — по этим шагам можно воспроизвести проект.\n",
    "    \n",
    "Сейчас ты можешь доработать этот проект с учетом рекомендаций, удалить наши с тобой комментарии и добавить себе в портфолио — лучше это сделать в ближайшее время, пока все нюансы еще отложились в памяти =) Как рекомендация, можешь попробовать Pipeline для подготовки признаков и обучения моделей\n",
    "     \n",
    "Здесь хочу добавить несколько рекомендаций на будущее:\n",
    "    \n",
    "- для анализа данных по ситуации можно применять библиотеки pandas_profiling или sweetviz. Когда нужен оперативный отчет по датафрейму, можно воспользоваться такими инструментами для автоматизации. Но в учебных проектах мы делали вручную, поскольку должны были всему научиться;\n",
    "    \n",
    "- следует отметить, что можно использовать аналитические методы проверки гипотез для оценки влияния признаков на отток. Например, можно воспользоваться инструментом ANOVA для дисперсионного анализа: https://www.reneshbedre.com/blog/anova.html\n",
    "    \n",
    "***\n",
    "\n",
    "Далее, хочу добавить некоторые ссылки на полезные ресурсы по машинному обучению:\n",
    "\n",
    "https://academy.yandex.ru/handbook/ml онлайн-учебник от Школы анализа данных Яндекса, в котором описаны теоретические основы работы моделей машинного обучения;\n",
    "\n",
    "https://www.youtube.com/watch?v=xl1fwCza9C8 познавательное видео по настройке модели CatBoost\n",
    "\n",
    "https://habr.com/ru/company/ods/blog/322626/ на Habr можно закрепить свои знания, порешав задачи из цикла статей — Открытый курс машинного обучения\n",
    "\n",
    "https://github.com/esokolov/ml-course-hse — на гитхаб есть репозиторий с задачами из курса по машинному обучению от Евгения Соколова, можно использовать как дополнительный материал для закрепления знаний.\n",
    "\n",
    "https://habr.com/ru/company/avito/blog/571094/ — материалы по A/B тестам.\n",
    "\n",
    "Также хочу поделиться опытом и вкратце рассказать о том, в какие направления можно подаваться на работу и какие навыки там пригодятся:\n",
    "\n",
    "Направление аналитики: хорошие знания теории вероятностей и математической статистики; базовые знания библиотек ML; уверенные знания SQL; умение решать задачи по A/B тестам; плюсом будет знание специальных инструментов для аналитики по визуализации результатов.\n",
    "\n",
    "Направление ML: уверенные знания классических моделей машинного обучения; хорошие знания SQL; понимание алгоритмов машинного обучения — как устроена модель линейной регрессии, модели случайного леса, градиентного бустинга и т.д. На собеседовании могут спросить, как работает какая-нибудь модель «под капотом», очень любят градиентный бустинг и случайный лес. Здесь поможет учебник https://academy.yandex.ru/handbook/ml\n",
    "\n",
    "В некоторых компаниях при устройстве на работу или стажировку, например в Яндексе, нужно решить тест на алгоритмические задачи. По алгоритмам есть много разных курсов, платных и бесплатных. Можно попробовать Тренировки по Алгоритмам от Яндекса https://yandex.ru/yaintern/algorithm-training (бесплатно, хороший курс). Насколько знаю, у Практикума тоже есть курс по алгоритмам.\n",
    "\n",
    "Есть компании, где требуется умение решать задачи с использованием нейронных сетей, в основном задачи распознавания изображений и анализа текстов (NLP). Если понравилось работать с нейронками, желательно порешать разные задачи, набрать портфолио из нескольких работ, можно подаваться.\n",
    "\n",
    "Существуют научные и производственные компании, которые внедряют алгоритмы ML в свои рабочие процессы — в таких компаниях можно совместить должность, например инженера и программиста. Тоже хороший вариант, но нужно понимать, если хотите развиваться дальше, особенно на первых этапах, у вас должны быть опытные наставники, которые помогут советом.\n",
    "    \n",
    "***\n",
    "    \n",
    "После окончания финального спринта у нас будет заключительная консультация, где мы сможем подвести итоги и обсудить несколько проектов. Есть возможность выступить перед сокурсниками со своим проектом в zoom =)\n",
    "    \n",
    "Отчет принимаю и до встречи!\n",
    "    \n",
    "</div>"
   ]
  },
  {
   "cell_type": "code",
   "execution_count": null,
   "id": "ca0e8ad8",
   "metadata": {},
   "outputs": [],
   "source": []
  }
 ],
 "metadata": {
  "ExecuteTimeLog": [
   {
    "duration": 1859,
    "start_time": "2023-05-22T12:44:31.037Z"
   },
   {
    "duration": 377,
    "start_time": "2023-05-22T12:44:32.898Z"
   },
   {
    "duration": 20,
    "start_time": "2023-05-22T12:44:42.886Z"
   },
   {
    "duration": 72,
    "start_time": "2023-05-22T12:45:15.582Z"
   },
   {
    "duration": 10,
    "start_time": "2023-05-22T12:45:27.948Z"
   },
   {
    "duration": 130,
    "start_time": "2023-05-22T12:47:32.602Z"
   },
   {
    "duration": 12,
    "start_time": "2023-05-22T12:47:33.494Z"
   },
   {
    "duration": 102,
    "start_time": "2023-05-22T12:47:36.572Z"
   },
   {
    "duration": 11,
    "start_time": "2023-05-22T12:47:39.687Z"
   },
   {
    "duration": 149,
    "start_time": "2023-05-22T12:52:51.617Z"
   },
   {
    "duration": 1063,
    "start_time": "2023-05-22T12:52:59.323Z"
   },
   {
    "duration": 10,
    "start_time": "2023-05-22T12:55:28.781Z"
   },
   {
    "duration": 9,
    "start_time": "2023-05-22T12:56:10.289Z"
   },
   {
    "duration": 7,
    "start_time": "2023-05-22T12:57:14.432Z"
   },
   {
    "duration": 7,
    "start_time": "2023-05-22T12:57:29.931Z"
   },
   {
    "duration": 355,
    "start_time": "2023-05-22T13:03:15.072Z"
   },
   {
    "duration": 18,
    "start_time": "2023-05-22T13:35:13.997Z"
   },
   {
    "duration": 21,
    "start_time": "2023-05-22T13:35:27.674Z"
   },
   {
    "duration": 17,
    "start_time": "2023-05-22T13:35:48.349Z"
   },
   {
    "duration": 22,
    "start_time": "2023-05-22T13:36:06.258Z"
   },
   {
    "duration": 12,
    "start_time": "2023-05-22T13:36:37.083Z"
   },
   {
    "duration": 13,
    "start_time": "2023-05-22T14:52:09.682Z"
   },
   {
    "duration": 12,
    "start_time": "2023-05-22T14:52:48.286Z"
   },
   {
    "duration": 12,
    "start_time": "2023-05-22T14:53:42.241Z"
   },
   {
    "duration": 1350,
    "start_time": "2023-05-22T14:55:26.278Z"
   },
   {
    "duration": 1473,
    "start_time": "2023-05-22T14:55:44.202Z"
   },
   {
    "duration": 1302,
    "start_time": "2023-05-22T14:56:09.540Z"
   },
   {
    "duration": 10,
    "start_time": "2023-05-22T14:56:25.940Z"
   },
   {
    "duration": 1237,
    "start_time": "2023-05-22T14:56:56.376Z"
   },
   {
    "duration": 274,
    "start_time": "2023-05-22T15:01:55.676Z"
   },
   {
    "duration": 53,
    "start_time": "2023-05-23T06:12:11.540Z"
   },
   {
    "duration": 450,
    "start_time": "2023-05-23T09:02:31.500Z"
   },
   {
    "duration": 188,
    "start_time": "2023-05-23T09:02:51.318Z"
   },
   {
    "duration": 26,
    "start_time": "2023-05-23T09:02:59.670Z"
   },
   {
    "duration": 9,
    "start_time": "2023-05-23T09:03:07.265Z"
   },
   {
    "duration": 17,
    "start_time": "2023-05-23T09:04:44.942Z"
   },
   {
    "duration": 28,
    "start_time": "2023-05-23T09:04:52.927Z"
   },
   {
    "duration": 13,
    "start_time": "2023-05-23T09:05:00.699Z"
   },
   {
    "duration": 14,
    "start_time": "2023-05-23T09:05:21.393Z"
   },
   {
    "duration": 13,
    "start_time": "2023-05-23T09:05:28.658Z"
   },
   {
    "duration": 9,
    "start_time": "2023-05-23T09:05:45.585Z"
   },
   {
    "duration": 21,
    "start_time": "2023-05-23T09:07:42.458Z"
   },
   {
    "duration": 75,
    "start_time": "2023-05-23T09:08:28.777Z"
   },
   {
    "duration": 71,
    "start_time": "2023-05-23T09:08:39.045Z"
   },
   {
    "duration": 10,
    "start_time": "2023-05-23T09:08:39.488Z"
   },
   {
    "duration": 16,
    "start_time": "2023-05-23T09:08:40.853Z"
   },
   {
    "duration": 15,
    "start_time": "2023-05-23T09:08:41.548Z"
   },
   {
    "duration": 130,
    "start_time": "2023-05-23T09:14:29.980Z"
   },
   {
    "duration": 11,
    "start_time": "2023-05-23T09:14:33.006Z"
   },
   {
    "duration": 28,
    "start_time": "2023-05-23T09:14:33.623Z"
   },
   {
    "duration": 32,
    "start_time": "2023-05-23T09:14:56.470Z"
   },
   {
    "duration": 105,
    "start_time": "2023-05-23T09:15:37.954Z"
   },
   {
    "duration": 10,
    "start_time": "2023-05-23T09:15:38.190Z"
   },
   {
    "duration": 11,
    "start_time": "2023-05-23T09:15:38.955Z"
   },
   {
    "duration": 17,
    "start_time": "2023-05-23T09:15:52.105Z"
   },
   {
    "duration": 1791,
    "start_time": "2023-05-23T09:27:09.870Z"
   },
   {
    "duration": 566,
    "start_time": "2023-05-23T09:27:42.822Z"
   },
   {
    "duration": 1233,
    "start_time": "2023-05-23T09:27:48.834Z"
   },
   {
    "duration": 12,
    "start_time": "2023-05-23T09:33:26.204Z"
   },
   {
    "duration": 10,
    "start_time": "2023-05-23T09:33:31.260Z"
   },
   {
    "duration": 1242,
    "start_time": "2023-05-23T11:21:09.264Z"
   },
   {
    "duration": 57,
    "start_time": "2023-05-23T11:21:10.507Z"
   },
   {
    "duration": 17,
    "start_time": "2023-05-23T11:21:10.565Z"
   },
   {
    "duration": 12,
    "start_time": "2023-05-23T11:21:10.583Z"
   },
   {
    "duration": 11,
    "start_time": "2023-05-23T11:21:10.597Z"
   },
   {
    "duration": 7,
    "start_time": "2023-05-23T11:21:10.609Z"
   },
   {
    "duration": 31,
    "start_time": "2023-05-23T11:21:10.629Z"
   },
   {
    "duration": 9,
    "start_time": "2023-05-23T11:21:10.661Z"
   },
   {
    "duration": 13,
    "start_time": "2023-05-23T11:21:10.672Z"
   },
   {
    "duration": 12,
    "start_time": "2023-05-23T11:21:10.686Z"
   },
   {
    "duration": 22,
    "start_time": "2023-05-23T11:21:10.699Z"
   },
   {
    "duration": 24,
    "start_time": "2023-05-23T11:21:10.723Z"
   },
   {
    "duration": 14,
    "start_time": "2023-05-23T11:21:10.749Z"
   },
   {
    "duration": 27,
    "start_time": "2023-05-23T11:21:10.766Z"
   },
   {
    "duration": 19,
    "start_time": "2023-05-23T11:21:10.794Z"
   },
   {
    "duration": 12,
    "start_time": "2023-05-23T11:21:10.814Z"
   },
   {
    "duration": 25,
    "start_time": "2023-05-23T11:21:10.830Z"
   },
   {
    "duration": 16,
    "start_time": "2023-05-23T11:21:10.858Z"
   },
   {
    "duration": 3,
    "start_time": "2023-05-24T06:25:47.171Z"
   },
   {
    "duration": 3628,
    "start_time": "2023-05-24T06:28:45.923Z"
   },
   {
    "duration": 5048,
    "start_time": "2023-05-24T06:29:25.323Z"
   },
   {
    "duration": 4474,
    "start_time": "2023-05-24T06:29:39.046Z"
   },
   {
    "duration": 354,
    "start_time": "2023-05-24T06:30:10.533Z"
   },
   {
    "duration": 78,
    "start_time": "2023-05-24T06:30:10.889Z"
   },
   {
    "duration": 19,
    "start_time": "2023-05-24T06:30:10.969Z"
   },
   {
    "duration": 45,
    "start_time": "2023-05-24T06:30:10.989Z"
   },
   {
    "duration": 15,
    "start_time": "2023-05-24T06:30:11.036Z"
   },
   {
    "duration": 12,
    "start_time": "2023-05-24T06:30:11.053Z"
   },
   {
    "duration": 212,
    "start_time": "2023-05-24T06:30:11.066Z"
   },
   {
    "duration": 7,
    "start_time": "2023-05-24T06:30:11.280Z"
   },
   {
    "duration": 17,
    "start_time": "2023-05-24T06:30:11.289Z"
   },
   {
    "duration": 11,
    "start_time": "2023-05-24T06:30:11.308Z"
   },
   {
    "duration": 122,
    "start_time": "2023-05-24T06:30:11.320Z"
   },
   {
    "duration": 9,
    "start_time": "2023-05-24T06:30:11.443Z"
   },
   {
    "duration": 22,
    "start_time": "2023-05-24T06:30:11.454Z"
   },
   {
    "duration": 33,
    "start_time": "2023-05-24T06:30:11.478Z"
   },
   {
    "duration": 68,
    "start_time": "2023-05-24T06:30:11.512Z"
   },
   {
    "duration": 7,
    "start_time": "2023-05-24T06:30:11.582Z"
   },
   {
    "duration": 13,
    "start_time": "2023-05-24T06:30:11.590Z"
   },
   {
    "duration": 20,
    "start_time": "2023-05-24T06:30:11.604Z"
   },
   {
    "duration": 10,
    "start_time": "2023-05-24T06:30:11.625Z"
   },
   {
    "duration": 1180,
    "start_time": "2023-05-24T06:30:11.636Z"
   },
   {
    "duration": 11,
    "start_time": "2023-05-24T06:30:12.817Z"
   },
   {
    "duration": 115,
    "start_time": "2023-05-24T06:30:12.830Z"
   },
   {
    "duration": 0,
    "start_time": "2023-05-24T06:30:12.947Z"
   },
   {
    "duration": 0,
    "start_time": "2023-05-24T06:30:12.947Z"
   },
   {
    "duration": 0,
    "start_time": "2023-05-24T06:30:12.948Z"
   },
   {
    "duration": 12,
    "start_time": "2023-05-24T06:30:26.382Z"
   },
   {
    "duration": 12,
    "start_time": "2023-05-24T06:30:29.511Z"
   },
   {
    "duration": 4,
    "start_time": "2023-05-24T06:30:30.254Z"
   },
   {
    "duration": 16,
    "start_time": "2023-05-24T06:30:31.182Z"
   },
   {
    "duration": 166,
    "start_time": "2023-05-24T06:33:18.710Z"
   },
   {
    "duration": 4,
    "start_time": "2023-05-24T06:55:06.956Z"
   },
   {
    "duration": 29,
    "start_time": "2023-05-24T06:55:15.882Z"
   },
   {
    "duration": 44,
    "start_time": "2023-05-24T06:55:33.684Z"
   },
   {
    "duration": 36,
    "start_time": "2023-05-24T06:57:23.213Z"
   },
   {
    "duration": 78,
    "start_time": "2023-05-24T07:15:17.882Z"
   },
   {
    "duration": 3004,
    "start_time": "2023-05-24T07:16:14.660Z"
   },
   {
    "duration": 10,
    "start_time": "2023-05-24T07:17:17.984Z"
   },
   {
    "duration": 5,
    "start_time": "2023-05-24T07:17:34.500Z"
   },
   {
    "duration": 4,
    "start_time": "2023-05-24T07:18:28.560Z"
   },
   {
    "duration": 4,
    "start_time": "2023-05-24T07:18:47.372Z"
   },
   {
    "duration": 5,
    "start_time": "2023-05-24T07:19:25.790Z"
   },
   {
    "duration": 8,
    "start_time": "2023-05-24T07:20:40.884Z"
   },
   {
    "duration": 9,
    "start_time": "2023-05-24T07:21:17.923Z"
   },
   {
    "duration": 4,
    "start_time": "2023-05-24T07:21:40.801Z"
   },
   {
    "duration": 22,
    "start_time": "2023-05-24T07:21:57.585Z"
   },
   {
    "duration": 2,
    "start_time": "2023-05-24T07:23:13.024Z"
   },
   {
    "duration": 14,
    "start_time": "2023-05-24T07:23:29.559Z"
   },
   {
    "duration": 401,
    "start_time": "2023-05-24T07:23:37.971Z"
   },
   {
    "duration": 43,
    "start_time": "2023-05-24T07:23:38.375Z"
   },
   {
    "duration": 282,
    "start_time": "2023-05-24T07:23:38.419Z"
   },
   {
    "duration": 14,
    "start_time": "2023-05-24T07:23:38.702Z"
   },
   {
    "duration": 13,
    "start_time": "2023-05-24T07:23:38.719Z"
   },
   {
    "duration": 11,
    "start_time": "2023-05-24T07:23:38.733Z"
   },
   {
    "duration": 22,
    "start_time": "2023-05-24T07:23:38.745Z"
   },
   {
    "duration": 20,
    "start_time": "2023-05-24T07:23:38.768Z"
   },
   {
    "duration": 12,
    "start_time": "2023-05-24T07:23:38.789Z"
   },
   {
    "duration": 14,
    "start_time": "2023-05-24T07:23:38.803Z"
   },
   {
    "duration": 26,
    "start_time": "2023-05-24T07:23:38.819Z"
   },
   {
    "duration": 12,
    "start_time": "2023-05-24T07:23:38.846Z"
   },
   {
    "duration": 26,
    "start_time": "2023-05-24T07:23:38.859Z"
   },
   {
    "duration": 36,
    "start_time": "2023-05-24T07:23:38.888Z"
   },
   {
    "duration": 20,
    "start_time": "2023-05-24T07:23:38.925Z"
   },
   {
    "duration": 7,
    "start_time": "2023-05-24T07:23:38.947Z"
   },
   {
    "duration": 20,
    "start_time": "2023-05-24T07:23:38.955Z"
   },
   {
    "duration": 28,
    "start_time": "2023-05-24T07:23:38.976Z"
   },
   {
    "duration": 2,
    "start_time": "2023-05-24T07:23:39.005Z"
   },
   {
    "duration": 1098,
    "start_time": "2023-05-24T07:23:39.009Z"
   },
   {
    "duration": 11,
    "start_time": "2023-05-24T07:23:40.109Z"
   },
   {
    "duration": 9,
    "start_time": "2023-05-24T07:23:40.122Z"
   },
   {
    "duration": 9,
    "start_time": "2023-05-24T07:23:40.133Z"
   },
   {
    "duration": 4,
    "start_time": "2023-05-24T07:23:40.144Z"
   },
   {
    "duration": 41,
    "start_time": "2023-05-24T07:23:40.149Z"
   },
   {
    "duration": 7,
    "start_time": "2023-05-24T07:23:40.191Z"
   },
   {
    "duration": 23,
    "start_time": "2023-05-24T07:23:40.200Z"
   },
   {
    "duration": 22,
    "start_time": "2023-05-24T07:23:40.224Z"
   },
   {
    "duration": 5,
    "start_time": "2023-05-24T07:23:40.248Z"
   },
   {
    "duration": 9,
    "start_time": "2023-05-24T07:23:40.254Z"
   },
   {
    "duration": 8,
    "start_time": "2023-05-24T07:23:40.264Z"
   },
   {
    "duration": 11,
    "start_time": "2023-05-24T07:23:40.273Z"
   },
   {
    "duration": 13,
    "start_time": "2023-05-24T07:23:40.286Z"
   },
   {
    "duration": 4,
    "start_time": "2023-05-24T07:35:53.283Z"
   },
   {
    "duration": 3,
    "start_time": "2023-05-24T07:36:09.051Z"
   },
   {
    "duration": 15,
    "start_time": "2023-05-24T07:44:51.560Z"
   },
   {
    "duration": 16,
    "start_time": "2023-05-24T07:45:43.350Z"
   },
   {
    "duration": 13,
    "start_time": "2023-05-24T07:47:12.570Z"
   },
   {
    "duration": 17,
    "start_time": "2023-05-24T07:47:13.250Z"
   },
   {
    "duration": 30,
    "start_time": "2023-05-24T07:47:40.878Z"
   },
   {
    "duration": 10,
    "start_time": "2023-05-24T07:50:05.580Z"
   },
   {
    "duration": 28,
    "start_time": "2023-05-24T07:50:52.670Z"
   },
   {
    "duration": 77,
    "start_time": "2023-05-24T07:58:58.856Z"
   },
   {
    "duration": 27,
    "start_time": "2023-05-24T08:02:58.456Z"
   },
   {
    "duration": 42,
    "start_time": "2023-05-24T08:03:29.604Z"
   },
   {
    "duration": 53,
    "start_time": "2023-05-24T08:03:32.857Z"
   },
   {
    "duration": 385,
    "start_time": "2023-05-24T08:04:37.215Z"
   },
   {
    "duration": 46,
    "start_time": "2023-05-24T08:04:37.601Z"
   },
   {
    "duration": 16,
    "start_time": "2023-05-24T08:04:37.648Z"
   },
   {
    "duration": 65,
    "start_time": "2023-05-24T08:04:37.665Z"
   },
   {
    "duration": 14,
    "start_time": "2023-05-24T08:04:37.733Z"
   },
   {
    "duration": 9,
    "start_time": "2023-05-24T08:04:37.748Z"
   },
   {
    "duration": 48,
    "start_time": "2023-05-24T08:04:37.758Z"
   },
   {
    "duration": 16,
    "start_time": "2023-05-24T08:04:37.807Z"
   },
   {
    "duration": 22,
    "start_time": "2023-05-24T08:04:37.825Z"
   },
   {
    "duration": 17,
    "start_time": "2023-05-24T08:04:37.849Z"
   },
   {
    "duration": 42,
    "start_time": "2023-05-24T08:04:37.867Z"
   },
   {
    "duration": 9,
    "start_time": "2023-05-24T08:04:37.915Z"
   },
   {
    "duration": 25,
    "start_time": "2023-05-24T08:04:37.925Z"
   },
   {
    "duration": 68,
    "start_time": "2023-05-24T08:04:37.952Z"
   },
   {
    "duration": 21,
    "start_time": "2023-05-24T08:04:38.022Z"
   },
   {
    "duration": 8,
    "start_time": "2023-05-24T08:04:38.044Z"
   },
   {
    "duration": 15,
    "start_time": "2023-05-24T08:04:38.053Z"
   },
   {
    "duration": 38,
    "start_time": "2023-05-24T08:04:38.070Z"
   },
   {
    "duration": 2,
    "start_time": "2023-05-24T08:04:38.115Z"
   },
   {
    "duration": 1377,
    "start_time": "2023-05-24T08:04:38.119Z"
   },
   {
    "duration": 11,
    "start_time": "2023-05-24T08:04:39.510Z"
   },
   {
    "duration": 24,
    "start_time": "2023-05-24T08:04:39.522Z"
   },
   {
    "duration": 21,
    "start_time": "2023-05-24T08:04:39.547Z"
   },
   {
    "duration": 91,
    "start_time": "2023-05-24T08:04:39.569Z"
   },
   {
    "duration": 49,
    "start_time": "2023-05-24T08:04:39.662Z"
   },
   {
    "duration": 15,
    "start_time": "2023-05-24T08:04:39.714Z"
   },
   {
    "duration": 40,
    "start_time": "2023-05-24T08:04:39.730Z"
   },
   {
    "duration": 56,
    "start_time": "2023-05-24T08:04:39.772Z"
   },
   {
    "duration": 84,
    "start_time": "2023-05-24T08:04:39.830Z"
   },
   {
    "duration": 27,
    "start_time": "2023-05-24T08:04:39.915Z"
   },
   {
    "duration": 53,
    "start_time": "2023-05-24T08:04:39.943Z"
   },
   {
    "duration": 34,
    "start_time": "2023-05-24T08:04:39.998Z"
   },
   {
    "duration": 21,
    "start_time": "2023-05-24T08:04:40.033Z"
   },
   {
    "duration": 13,
    "start_time": "2023-05-24T08:04:40.055Z"
   },
   {
    "duration": 10,
    "start_time": "2023-05-24T08:04:40.069Z"
   },
   {
    "duration": 39,
    "start_time": "2023-05-24T08:04:40.081Z"
   },
   {
    "duration": 7,
    "start_time": "2023-05-24T08:04:40.121Z"
   },
   {
    "duration": 6,
    "start_time": "2023-05-24T08:04:40.130Z"
   },
   {
    "duration": 13,
    "start_time": "2023-05-24T08:05:38.148Z"
   },
   {
    "duration": 66,
    "start_time": "2023-05-24T08:05:39.145Z"
   },
   {
    "duration": 36,
    "start_time": "2023-05-24T08:08:33.178Z"
   },
   {
    "duration": 5,
    "start_time": "2023-05-24T08:08:36.561Z"
   },
   {
    "duration": 18,
    "start_time": "2023-05-24T08:08:37.373Z"
   },
   {
    "duration": 51,
    "start_time": "2023-05-24T08:08:54.379Z"
   },
   {
    "duration": 26,
    "start_time": "2023-05-24T08:09:00.513Z"
   },
   {
    "duration": 26,
    "start_time": "2023-05-24T08:09:09.505Z"
   },
   {
    "duration": 24,
    "start_time": "2023-05-24T08:09:19.908Z"
   },
   {
    "duration": 5,
    "start_time": "2023-05-24T08:25:38.178Z"
   },
   {
    "duration": 29,
    "start_time": "2023-05-24T08:25:46.885Z"
   },
   {
    "duration": 19,
    "start_time": "2023-05-24T08:26:00.093Z"
   },
   {
    "duration": 114,
    "start_time": "2023-05-24T08:41:17.112Z"
   },
   {
    "duration": 451,
    "start_time": "2023-05-24T08:42:28.720Z"
   },
   {
    "duration": 8,
    "start_time": "2023-05-24T08:43:21.867Z"
   },
   {
    "duration": 4,
    "start_time": "2023-05-24T08:43:27.667Z"
   },
   {
    "duration": 6,
    "start_time": "2023-05-24T08:43:35.048Z"
   },
   {
    "duration": 7,
    "start_time": "2023-05-24T08:45:02.403Z"
   },
   {
    "duration": 7,
    "start_time": "2023-05-24T08:45:48.550Z"
   },
   {
    "duration": 5,
    "start_time": "2023-05-24T08:46:08.191Z"
   },
   {
    "duration": 38,
    "start_time": "2023-05-24T08:46:14.231Z"
   },
   {
    "duration": 50,
    "start_time": "2023-05-24T12:44:04.482Z"
   },
   {
    "duration": 408,
    "start_time": "2023-05-24T12:44:12.511Z"
   },
   {
    "duration": 152,
    "start_time": "2023-05-24T12:44:12.922Z"
   },
   {
    "duration": 19,
    "start_time": "2023-05-24T12:44:13.076Z"
   },
   {
    "duration": 14,
    "start_time": "2023-05-24T12:44:13.097Z"
   },
   {
    "duration": 12,
    "start_time": "2023-05-24T12:44:13.113Z"
   },
   {
    "duration": 19,
    "start_time": "2023-05-24T12:44:13.127Z"
   },
   {
    "duration": 58,
    "start_time": "2023-05-24T12:44:13.147Z"
   },
   {
    "duration": 9,
    "start_time": "2023-05-24T12:44:13.207Z"
   },
   {
    "duration": 20,
    "start_time": "2023-05-24T12:44:13.217Z"
   },
   {
    "duration": 16,
    "start_time": "2023-05-24T12:44:13.239Z"
   },
   {
    "duration": 102,
    "start_time": "2023-05-24T12:44:13.257Z"
   },
   {
    "duration": 10,
    "start_time": "2023-05-24T12:44:13.361Z"
   },
   {
    "duration": 12,
    "start_time": "2023-05-24T12:44:13.372Z"
   },
   {
    "duration": 34,
    "start_time": "2023-05-24T12:44:13.387Z"
   },
   {
    "duration": 62,
    "start_time": "2023-05-24T12:44:13.423Z"
   },
   {
    "duration": 7,
    "start_time": "2023-05-24T12:44:13.486Z"
   },
   {
    "duration": 13,
    "start_time": "2023-05-24T12:44:13.495Z"
   },
   {
    "duration": 16,
    "start_time": "2023-05-24T12:44:13.510Z"
   },
   {
    "duration": 2,
    "start_time": "2023-05-24T12:44:13.528Z"
   },
   {
    "duration": 1290,
    "start_time": "2023-05-24T12:44:13.531Z"
   },
   {
    "duration": 13,
    "start_time": "2023-05-24T12:44:14.823Z"
   },
   {
    "duration": 14,
    "start_time": "2023-05-24T12:44:14.838Z"
   },
   {
    "duration": 12,
    "start_time": "2023-05-24T12:44:14.854Z"
   },
   {
    "duration": 4,
    "start_time": "2023-05-24T12:44:14.867Z"
   },
   {
    "duration": 34,
    "start_time": "2023-05-24T12:44:14.872Z"
   },
   {
    "duration": 17,
    "start_time": "2023-05-24T12:44:14.908Z"
   },
   {
    "duration": 37,
    "start_time": "2023-05-24T12:44:14.927Z"
   },
   {
    "duration": 16,
    "start_time": "2023-05-24T12:44:14.966Z"
   },
   {
    "duration": 17,
    "start_time": "2023-05-24T12:44:14.983Z"
   },
   {
    "duration": 26,
    "start_time": "2023-05-24T12:44:15.002Z"
   },
   {
    "duration": 40,
    "start_time": "2023-05-24T12:44:15.029Z"
   },
   {
    "duration": 31,
    "start_time": "2023-05-24T12:44:15.071Z"
   },
   {
    "duration": 33,
    "start_time": "2023-05-24T12:44:15.104Z"
   },
   {
    "duration": 16,
    "start_time": "2023-05-24T12:44:15.139Z"
   },
   {
    "duration": 39,
    "start_time": "2023-05-24T12:44:15.157Z"
   },
   {
    "duration": 9,
    "start_time": "2023-05-24T12:44:15.198Z"
   },
   {
    "duration": 7,
    "start_time": "2023-05-24T12:44:15.209Z"
   },
   {
    "duration": 37,
    "start_time": "2023-05-24T12:44:15.218Z"
   },
   {
    "duration": 2,
    "start_time": "2023-05-24T12:44:15.257Z"
   },
   {
    "duration": 8,
    "start_time": "2023-05-24T12:44:15.261Z"
   },
   {
    "duration": 23,
    "start_time": "2023-05-24T12:44:15.290Z"
   },
   {
    "duration": 14,
    "start_time": "2023-05-24T12:44:15.314Z"
   },
   {
    "duration": 8,
    "start_time": "2023-05-24T12:44:15.330Z"
   },
   {
    "duration": 19,
    "start_time": "2023-05-24T12:44:46.376Z"
   },
   {
    "duration": 21,
    "start_time": "2023-05-24T12:45:25.899Z"
   },
   {
    "duration": 10,
    "start_time": "2023-05-24T12:45:55.138Z"
   },
   {
    "duration": 5,
    "start_time": "2023-05-24T12:45:55.578Z"
   },
   {
    "duration": 23,
    "start_time": "2023-05-24T12:46:16.478Z"
   },
   {
    "duration": 5,
    "start_time": "2023-05-24T12:51:20.402Z"
   },
   {
    "duration": 40,
    "start_time": "2023-05-24T12:51:29.158Z"
   },
   {
    "duration": 4,
    "start_time": "2023-05-24T13:06:52.322Z"
   },
   {
    "duration": 15,
    "start_time": "2023-05-24T13:08:04.719Z"
   },
   {
    "duration": 7,
    "start_time": "2023-05-24T13:08:49.208Z"
   },
   {
    "duration": 311,
    "start_time": "2023-05-24T13:13:38.515Z"
   },
   {
    "duration": 6,
    "start_time": "2023-05-24T13:14:32.291Z"
   },
   {
    "duration": 4,
    "start_time": "2023-05-24T13:18:39.991Z"
   },
   {
    "duration": 27,
    "start_time": "2023-05-24T13:19:07.119Z"
   },
   {
    "duration": 9,
    "start_time": "2023-05-24T13:19:30.201Z"
   },
   {
    "duration": 5,
    "start_time": "2023-05-24T13:19:45.983Z"
   },
   {
    "duration": 8,
    "start_time": "2023-05-24T13:20:04.470Z"
   },
   {
    "duration": 8,
    "start_time": "2023-05-24T13:24:39.994Z"
   },
   {
    "duration": 419,
    "start_time": "2023-05-24T13:39:39.586Z"
   },
   {
    "duration": 41,
    "start_time": "2023-05-24T13:39:40.008Z"
   },
   {
    "duration": 22,
    "start_time": "2023-05-24T13:39:40.051Z"
   },
   {
    "duration": 23,
    "start_time": "2023-05-24T13:39:40.075Z"
   },
   {
    "duration": 15,
    "start_time": "2023-05-24T13:39:40.101Z"
   },
   {
    "duration": 8,
    "start_time": "2023-05-24T13:39:40.118Z"
   },
   {
    "duration": 23,
    "start_time": "2023-05-24T13:39:40.128Z"
   },
   {
    "duration": 9,
    "start_time": "2023-05-24T13:39:40.153Z"
   },
   {
    "duration": 33,
    "start_time": "2023-05-24T13:39:40.164Z"
   },
   {
    "duration": 13,
    "start_time": "2023-05-24T13:39:40.199Z"
   },
   {
    "duration": 29,
    "start_time": "2023-05-24T13:39:40.213Z"
   },
   {
    "duration": 13,
    "start_time": "2023-05-24T13:39:40.244Z"
   },
   {
    "duration": 30,
    "start_time": "2023-05-24T13:39:40.259Z"
   },
   {
    "duration": 36,
    "start_time": "2023-05-24T13:39:40.293Z"
   },
   {
    "duration": 21,
    "start_time": "2023-05-24T13:39:40.330Z"
   },
   {
    "duration": 8,
    "start_time": "2023-05-24T13:39:40.352Z"
   },
   {
    "duration": 27,
    "start_time": "2023-05-24T13:39:40.362Z"
   },
   {
    "duration": 19,
    "start_time": "2023-05-24T13:39:40.391Z"
   },
   {
    "duration": 4,
    "start_time": "2023-05-24T13:39:40.412Z"
   },
   {
    "duration": 1071,
    "start_time": "2023-05-24T13:39:40.417Z"
   },
   {
    "duration": 13,
    "start_time": "2023-05-24T13:39:41.490Z"
   },
   {
    "duration": 30,
    "start_time": "2023-05-24T13:39:41.505Z"
   },
   {
    "duration": 19,
    "start_time": "2023-05-24T13:39:41.537Z"
   },
   {
    "duration": 9,
    "start_time": "2023-05-24T13:39:41.558Z"
   },
   {
    "duration": 23,
    "start_time": "2023-05-24T13:39:41.569Z"
   },
   {
    "duration": 15,
    "start_time": "2023-05-24T13:39:41.593Z"
   },
   {
    "duration": 26,
    "start_time": "2023-05-24T13:39:41.610Z"
   },
   {
    "duration": 16,
    "start_time": "2023-05-24T13:39:41.637Z"
   },
   {
    "duration": 14,
    "start_time": "2023-05-24T13:39:41.655Z"
   },
   {
    "duration": 38,
    "start_time": "2023-05-24T13:39:41.671Z"
   },
   {
    "duration": 12,
    "start_time": "2023-05-24T13:39:41.711Z"
   },
   {
    "duration": 7,
    "start_time": "2023-05-24T13:39:41.725Z"
   },
   {
    "duration": 18,
    "start_time": "2023-05-24T13:39:41.734Z"
   },
   {
    "duration": 4,
    "start_time": "2023-05-24T13:39:41.754Z"
   },
   {
    "duration": 49,
    "start_time": "2023-05-24T13:39:41.760Z"
   },
   {
    "duration": 12,
    "start_time": "2023-05-24T13:39:41.811Z"
   },
   {
    "duration": 6,
    "start_time": "2023-05-24T13:39:41.824Z"
   },
   {
    "duration": 25,
    "start_time": "2023-05-24T13:39:41.832Z"
   },
   {
    "duration": 47,
    "start_time": "2023-05-24T13:39:41.858Z"
   },
   {
    "duration": 5,
    "start_time": "2023-05-24T13:39:41.907Z"
   },
   {
    "duration": 24,
    "start_time": "2023-05-24T13:39:41.915Z"
   },
   {
    "duration": 4,
    "start_time": "2023-05-24T13:39:41.940Z"
   },
   {
    "duration": 5,
    "start_time": "2023-05-24T13:39:41.945Z"
   },
   {
    "duration": 4,
    "start_time": "2023-05-24T13:39:41.951Z"
   },
   {
    "duration": 3,
    "start_time": "2023-05-24T13:39:41.957Z"
   },
   {
    "duration": 4,
    "start_time": "2023-05-24T13:39:41.961Z"
   },
   {
    "duration": 2,
    "start_time": "2023-05-24T13:39:41.988Z"
   },
   {
    "duration": 3,
    "start_time": "2023-05-24T13:39:41.992Z"
   },
   {
    "duration": 11,
    "start_time": "2023-05-24T13:40:19.267Z"
   },
   {
    "duration": 410,
    "start_time": "2023-05-24T13:42:09.692Z"
   },
   {
    "duration": 40,
    "start_time": "2023-05-24T13:42:10.104Z"
   },
   {
    "duration": 19,
    "start_time": "2023-05-24T13:42:10.146Z"
   },
   {
    "duration": 14,
    "start_time": "2023-05-24T13:42:10.166Z"
   },
   {
    "duration": 15,
    "start_time": "2023-05-24T13:42:10.183Z"
   },
   {
    "duration": 20,
    "start_time": "2023-05-24T13:42:10.200Z"
   },
   {
    "duration": 35,
    "start_time": "2023-05-24T13:42:10.222Z"
   },
   {
    "duration": 15,
    "start_time": "2023-05-24T13:42:10.259Z"
   },
   {
    "duration": 20,
    "start_time": "2023-05-24T13:42:10.276Z"
   },
   {
    "duration": 33,
    "start_time": "2023-05-24T13:42:10.298Z"
   },
   {
    "duration": 26,
    "start_time": "2023-05-24T13:42:10.333Z"
   },
   {
    "duration": 11,
    "start_time": "2023-05-24T13:42:10.361Z"
   },
   {
    "duration": 22,
    "start_time": "2023-05-24T13:42:10.374Z"
   },
   {
    "duration": 48,
    "start_time": "2023-05-24T13:42:10.399Z"
   },
   {
    "duration": 20,
    "start_time": "2023-05-24T13:42:10.448Z"
   },
   {
    "duration": 8,
    "start_time": "2023-05-24T13:42:10.470Z"
   },
   {
    "duration": 14,
    "start_time": "2023-05-24T13:42:10.480Z"
   },
   {
    "duration": 34,
    "start_time": "2023-05-24T13:42:10.496Z"
   },
   {
    "duration": 2,
    "start_time": "2023-05-24T13:42:10.532Z"
   },
   {
    "duration": 1066,
    "start_time": "2023-05-24T13:42:10.536Z"
   },
   {
    "duration": 12,
    "start_time": "2023-05-24T13:42:11.603Z"
   },
   {
    "duration": 11,
    "start_time": "2023-05-24T13:42:11.617Z"
   },
   {
    "duration": 14,
    "start_time": "2023-05-24T13:42:11.630Z"
   },
   {
    "duration": 4,
    "start_time": "2023-05-24T13:42:11.646Z"
   },
   {
    "duration": 22,
    "start_time": "2023-05-24T13:42:11.651Z"
   },
   {
    "duration": 6,
    "start_time": "2023-05-24T13:42:11.687Z"
   },
   {
    "duration": 32,
    "start_time": "2023-05-24T13:42:11.695Z"
   },
   {
    "duration": 16,
    "start_time": "2023-05-24T13:42:11.728Z"
   },
   {
    "duration": 5,
    "start_time": "2023-05-24T13:42:11.745Z"
   },
   {
    "duration": 40,
    "start_time": "2023-05-24T13:42:11.752Z"
   },
   {
    "duration": 12,
    "start_time": "2023-05-24T13:42:11.793Z"
   },
   {
    "duration": 21,
    "start_time": "2023-05-24T13:42:11.806Z"
   },
   {
    "duration": 44,
    "start_time": "2023-05-24T13:42:11.828Z"
   },
   {
    "duration": 4,
    "start_time": "2023-05-24T13:42:11.874Z"
   },
   {
    "duration": 29,
    "start_time": "2023-05-24T13:42:11.880Z"
   },
   {
    "duration": 9,
    "start_time": "2023-05-24T13:42:11.911Z"
   },
   {
    "duration": 4,
    "start_time": "2023-05-24T13:42:11.922Z"
   },
   {
    "duration": 25,
    "start_time": "2023-05-24T13:42:11.927Z"
   },
   {
    "duration": 34,
    "start_time": "2023-05-24T13:42:11.954Z"
   },
   {
    "duration": 2,
    "start_time": "2023-05-24T13:42:11.990Z"
   },
   {
    "duration": 13,
    "start_time": "2023-05-24T13:42:11.996Z"
   },
   {
    "duration": 4,
    "start_time": "2023-05-24T13:42:12.011Z"
   },
   {
    "duration": 6,
    "start_time": "2023-05-24T13:42:12.017Z"
   },
   {
    "duration": 6,
    "start_time": "2023-05-24T13:42:12.026Z"
   },
   {
    "duration": 15,
    "start_time": "2023-05-24T13:42:12.034Z"
   },
   {
    "duration": 9,
    "start_time": "2023-05-24T13:42:12.050Z"
   },
   {
    "duration": 7,
    "start_time": "2023-05-24T13:42:12.061Z"
   },
   {
    "duration": 18,
    "start_time": "2023-05-24T13:42:12.070Z"
   },
   {
    "duration": 10,
    "start_time": "2023-05-24T13:42:50.662Z"
   },
   {
    "duration": 9,
    "start_time": "2023-05-24T13:49:53.094Z"
   },
   {
    "duration": 15,
    "start_time": "2023-05-24T13:50:04.507Z"
   },
   {
    "duration": 3,
    "start_time": "2023-05-24T13:50:31.473Z"
   },
   {
    "duration": 442,
    "start_time": "2023-05-24T13:51:37.563Z"
   },
   {
    "duration": 40,
    "start_time": "2023-05-24T13:51:38.007Z"
   },
   {
    "duration": 20,
    "start_time": "2023-05-24T13:51:38.048Z"
   },
   {
    "duration": 20,
    "start_time": "2023-05-24T13:51:38.069Z"
   },
   {
    "duration": 12,
    "start_time": "2023-05-24T13:51:38.091Z"
   },
   {
    "duration": 8,
    "start_time": "2023-05-24T13:51:38.105Z"
   },
   {
    "duration": 25,
    "start_time": "2023-05-24T13:51:38.114Z"
   },
   {
    "duration": 9,
    "start_time": "2023-05-24T13:51:38.141Z"
   },
   {
    "duration": 18,
    "start_time": "2023-05-24T13:51:38.151Z"
   },
   {
    "duration": 27,
    "start_time": "2023-05-24T13:51:38.171Z"
   },
   {
    "duration": 22,
    "start_time": "2023-05-24T13:51:38.200Z"
   },
   {
    "duration": 10,
    "start_time": "2023-05-24T13:51:38.224Z"
   },
   {
    "duration": 12,
    "start_time": "2023-05-24T13:51:38.236Z"
   },
   {
    "duration": 46,
    "start_time": "2023-05-24T13:51:38.251Z"
   },
   {
    "duration": 19,
    "start_time": "2023-05-24T13:51:38.298Z"
   },
   {
    "duration": 7,
    "start_time": "2023-05-24T13:51:38.319Z"
   },
   {
    "duration": 21,
    "start_time": "2023-05-24T13:51:38.328Z"
   },
   {
    "duration": 28,
    "start_time": "2023-05-24T13:51:38.350Z"
   },
   {
    "duration": 2,
    "start_time": "2023-05-24T13:51:38.379Z"
   },
   {
    "duration": 1027,
    "start_time": "2023-05-24T13:51:38.383Z"
   },
   {
    "duration": 12,
    "start_time": "2023-05-24T13:51:39.412Z"
   },
   {
    "duration": 21,
    "start_time": "2023-05-24T13:51:39.426Z"
   },
   {
    "duration": 11,
    "start_time": "2023-05-24T13:51:39.449Z"
   },
   {
    "duration": 3,
    "start_time": "2023-05-24T13:51:39.462Z"
   },
   {
    "duration": 33,
    "start_time": "2023-05-24T13:51:39.467Z"
   },
   {
    "duration": 8,
    "start_time": "2023-05-24T13:51:39.502Z"
   },
   {
    "duration": 37,
    "start_time": "2023-05-24T13:51:39.512Z"
   },
   {
    "duration": 17,
    "start_time": "2023-05-24T13:51:39.551Z"
   },
   {
    "duration": 28,
    "start_time": "2023-05-24T13:51:39.570Z"
   },
   {
    "duration": 27,
    "start_time": "2023-05-24T13:51:39.600Z"
   },
   {
    "duration": 13,
    "start_time": "2023-05-24T13:51:39.629Z"
   },
   {
    "duration": 10,
    "start_time": "2023-05-24T13:51:39.644Z"
   },
   {
    "duration": 43,
    "start_time": "2023-05-24T13:51:39.656Z"
   },
   {
    "duration": 5,
    "start_time": "2023-05-24T13:51:39.701Z"
   },
   {
    "duration": 27,
    "start_time": "2023-05-24T13:51:39.708Z"
   },
   {
    "duration": 9,
    "start_time": "2023-05-24T13:51:39.737Z"
   },
   {
    "duration": 6,
    "start_time": "2023-05-24T13:51:39.748Z"
   },
   {
    "duration": 45,
    "start_time": "2023-05-24T13:51:39.756Z"
   },
   {
    "duration": 16,
    "start_time": "2023-05-24T13:51:39.803Z"
   },
   {
    "duration": 5,
    "start_time": "2023-05-24T13:51:39.821Z"
   },
   {
    "duration": 11,
    "start_time": "2023-05-24T13:51:39.829Z"
   },
   {
    "duration": 19,
    "start_time": "2023-05-24T13:51:39.841Z"
   },
   {
    "duration": 27,
    "start_time": "2023-05-24T13:51:39.862Z"
   },
   {
    "duration": 6,
    "start_time": "2023-05-24T13:51:39.890Z"
   },
   {
    "duration": 10,
    "start_time": "2023-05-24T13:51:39.897Z"
   },
   {
    "duration": 7,
    "start_time": "2023-05-24T13:51:39.909Z"
   },
   {
    "duration": 13,
    "start_time": "2023-05-24T13:51:39.917Z"
   },
   {
    "duration": 5,
    "start_time": "2023-05-24T13:51:39.932Z"
   },
   {
    "duration": 389,
    "start_time": "2023-05-25T06:05:17.978Z"
   },
   {
    "duration": 143,
    "start_time": "2023-05-25T06:05:18.369Z"
   },
   {
    "duration": 18,
    "start_time": "2023-05-25T06:05:18.514Z"
   },
   {
    "duration": 13,
    "start_time": "2023-05-25T06:05:18.534Z"
   },
   {
    "duration": 14,
    "start_time": "2023-05-25T06:05:18.549Z"
   },
   {
    "duration": 7,
    "start_time": "2023-05-25T06:05:18.565Z"
   },
   {
    "duration": 56,
    "start_time": "2023-05-25T06:05:18.573Z"
   },
   {
    "duration": 10,
    "start_time": "2023-05-25T06:05:18.631Z"
   },
   {
    "duration": 12,
    "start_time": "2023-05-25T06:05:18.642Z"
   },
   {
    "duration": 10,
    "start_time": "2023-05-25T06:05:18.658Z"
   },
   {
    "duration": 96,
    "start_time": "2023-05-25T06:05:18.670Z"
   },
   {
    "duration": 10,
    "start_time": "2023-05-25T06:05:18.767Z"
   },
   {
    "duration": 16,
    "start_time": "2023-05-25T06:05:18.778Z"
   },
   {
    "duration": 26,
    "start_time": "2023-05-25T06:05:18.795Z"
   },
   {
    "duration": 58,
    "start_time": "2023-05-25T06:05:18.822Z"
   },
   {
    "duration": 6,
    "start_time": "2023-05-25T06:05:18.882Z"
   },
   {
    "duration": 15,
    "start_time": "2023-05-25T06:05:18.890Z"
   },
   {
    "duration": 14,
    "start_time": "2023-05-25T06:05:18.906Z"
   },
   {
    "duration": 2,
    "start_time": "2023-05-25T06:05:18.921Z"
   },
   {
    "duration": 1105,
    "start_time": "2023-05-25T06:05:18.924Z"
   },
   {
    "duration": 11,
    "start_time": "2023-05-25T06:05:20.031Z"
   },
   {
    "duration": 13,
    "start_time": "2023-05-25T06:05:20.044Z"
   },
   {
    "duration": 9,
    "start_time": "2023-05-25T06:05:20.059Z"
   },
   {
    "duration": 4,
    "start_time": "2023-05-25T06:05:20.069Z"
   },
   {
    "duration": 20,
    "start_time": "2023-05-25T06:05:20.074Z"
   },
   {
    "duration": 5,
    "start_time": "2023-05-25T06:05:20.095Z"
   },
   {
    "duration": 52,
    "start_time": "2023-05-25T06:05:20.101Z"
   },
   {
    "duration": 17,
    "start_time": "2023-05-25T06:05:20.156Z"
   },
   {
    "duration": 13,
    "start_time": "2023-05-25T06:05:20.174Z"
   },
   {
    "duration": 25,
    "start_time": "2023-05-25T06:05:20.188Z"
   },
   {
    "duration": 36,
    "start_time": "2023-05-25T06:05:20.215Z"
   },
   {
    "duration": 9,
    "start_time": "2023-05-25T06:05:20.253Z"
   },
   {
    "duration": 18,
    "start_time": "2023-05-25T06:05:20.263Z"
   },
   {
    "duration": 4,
    "start_time": "2023-05-25T06:05:20.283Z"
   },
   {
    "duration": 36,
    "start_time": "2023-05-25T06:05:20.288Z"
   },
   {
    "duration": 27,
    "start_time": "2023-05-25T06:05:20.327Z"
   },
   {
    "duration": 6,
    "start_time": "2023-05-25T06:05:20.356Z"
   },
   {
    "duration": 22,
    "start_time": "2023-05-25T06:05:20.364Z"
   },
   {
    "duration": 19,
    "start_time": "2023-05-25T06:05:20.388Z"
   },
   {
    "duration": 5,
    "start_time": "2023-05-25T06:05:20.409Z"
   },
   {
    "duration": 34,
    "start_time": "2023-05-25T06:05:20.416Z"
   },
   {
    "duration": 20,
    "start_time": "2023-05-25T06:05:20.452Z"
   },
   {
    "duration": 9,
    "start_time": "2023-05-25T06:05:20.474Z"
   },
   {
    "duration": 6,
    "start_time": "2023-05-25T06:05:20.485Z"
   },
   {
    "duration": 5,
    "start_time": "2023-05-25T06:05:20.493Z"
   },
   {
    "duration": 10,
    "start_time": "2023-05-25T06:05:20.500Z"
   },
   {
    "duration": 6,
    "start_time": "2023-05-25T06:05:20.512Z"
   },
   {
    "duration": 22,
    "start_time": "2023-05-25T06:05:20.519Z"
   },
   {
    "duration": 3,
    "start_time": "2023-05-25T06:10:46.197Z"
   },
   {
    "duration": 132,
    "start_time": "2023-05-25T06:21:06.975Z"
   },
   {
    "duration": 10,
    "start_time": "2023-05-25T06:22:07.446Z"
   },
   {
    "duration": 4,
    "start_time": "2023-05-25T06:22:23.420Z"
   },
   {
    "duration": 63,
    "start_time": "2023-05-25T06:43:48.942Z"
   },
   {
    "duration": 5,
    "start_time": "2023-05-25T06:56:46.716Z"
   },
   {
    "duration": 419,
    "start_time": "2023-05-25T07:52:21.408Z"
   },
   {
    "duration": 442,
    "start_time": "2023-05-25T08:06:02.231Z"
   },
   {
    "duration": 14,
    "start_time": "2023-05-25T08:19:01.779Z"
   },
   {
    "duration": 13,
    "start_time": "2023-05-25T08:19:54.182Z"
   },
   {
    "duration": 3066,
    "start_time": "2023-05-25T08:20:12.235Z"
   },
   {
    "duration": 41,
    "start_time": "2023-05-25T08:20:15.303Z"
   },
   {
    "duration": 1051,
    "start_time": "2023-05-25T08:21:50.282Z"
   },
   {
    "duration": 3321,
    "start_time": "2023-05-25T08:25:56.231Z"
   },
   {
    "duration": 48,
    "start_time": "2023-05-25T08:28:10.353Z"
   },
   {
    "duration": 172,
    "start_time": "2023-05-25T08:28:23.310Z"
   },
   {
    "duration": 3305,
    "start_time": "2023-05-25T08:28:37.083Z"
   },
   {
    "duration": 161,
    "start_time": "2023-05-25T08:29:10.742Z"
   },
   {
    "duration": 3199,
    "start_time": "2023-05-25T08:29:36.807Z"
   },
   {
    "duration": 283,
    "start_time": "2023-05-25T08:29:50.298Z"
   },
   {
    "duration": 3169,
    "start_time": "2023-05-25T08:30:12.948Z"
   },
   {
    "duration": 1053,
    "start_time": "2023-05-25T08:35:35.943Z"
   },
   {
    "duration": 11,
    "start_time": "2023-05-25T08:37:48.581Z"
   },
   {
    "duration": 10,
    "start_time": "2023-05-25T08:38:09.141Z"
   },
   {
    "duration": 30370,
    "start_time": "2023-05-25T08:41:45.200Z"
   },
   {
    "duration": 3266,
    "start_time": "2023-05-25T08:49:25.315Z"
   },
   {
    "duration": 3175,
    "start_time": "2023-05-25T08:49:37.316Z"
   },
   {
    "duration": 3273,
    "start_time": "2023-05-25T08:50:14.588Z"
   },
   {
    "duration": 3517,
    "start_time": "2023-05-25T08:50:40.598Z"
   },
   {
    "duration": 3364,
    "start_time": "2023-05-25T08:50:53.510Z"
   },
   {
    "duration": 3228,
    "start_time": "2023-05-25T08:51:16.835Z"
   },
   {
    "duration": 11,
    "start_time": "2023-05-25T09:53:57.592Z"
   },
   {
    "duration": 7938,
    "start_time": "2023-05-25T11:43:06.412Z"
   },
   {
    "duration": 88707,
    "start_time": "2023-05-25T11:46:21.422Z"
   },
   {
    "duration": 198,
    "start_time": "2023-05-25T11:53:35.578Z"
   },
   {
    "duration": 7532,
    "start_time": "2023-05-25T11:54:37.558Z"
   },
   {
    "duration": 57883,
    "start_time": "2023-05-25T11:55:19.733Z"
   },
   {
    "duration": 176,
    "start_time": "2023-05-25T11:56:18.226Z"
   },
   {
    "duration": 166,
    "start_time": "2023-05-25T11:56:55.983Z"
   },
   {
    "duration": 218,
    "start_time": "2023-05-25T12:00:32.008Z"
   },
   {
    "duration": 403,
    "start_time": "2023-05-25T12:00:46.126Z"
   },
   {
    "duration": 44,
    "start_time": "2023-05-25T12:02:39.953Z"
   },
   {
    "duration": 45,
    "start_time": "2023-05-25T12:03:04.876Z"
   },
   {
    "duration": 315,
    "start_time": "2023-05-25T12:03:15.483Z"
   },
   {
    "duration": 383,
    "start_time": "2023-05-25T12:05:04.205Z"
   },
   {
    "duration": 4,
    "start_time": "2023-05-25T12:05:53.047Z"
   },
   {
    "duration": 5,
    "start_time": "2023-05-25T12:06:03.378Z"
   },
   {
    "duration": 299,
    "start_time": "2023-05-25T12:07:15.321Z"
   },
   {
    "duration": 60779,
    "start_time": "2023-05-25T12:13:04.321Z"
   },
   {
    "duration": 0,
    "start_time": "2023-05-25T12:14:05.104Z"
   },
   {
    "duration": 3021,
    "start_time": "2023-05-25T12:14:13.329Z"
   },
   {
    "duration": 291,
    "start_time": "2023-05-25T12:14:33.654Z"
   },
   {
    "duration": 148,
    "start_time": "2023-05-25T12:14:42.543Z"
   },
   {
    "duration": 280,
    "start_time": "2023-05-25T12:15:03.409Z"
   },
   {
    "duration": 126,
    "start_time": "2023-05-25T12:15:13.888Z"
   },
   {
    "duration": 288,
    "start_time": "2023-05-25T12:15:27.833Z"
   },
   {
    "duration": 285,
    "start_time": "2023-05-25T12:15:47.209Z"
   },
   {
    "duration": 310,
    "start_time": "2023-05-25T12:16:01.001Z"
   },
   {
    "duration": 311,
    "start_time": "2023-05-25T12:16:07.514Z"
   },
   {
    "duration": 280,
    "start_time": "2023-05-25T12:16:12.976Z"
   },
   {
    "duration": 297,
    "start_time": "2023-05-25T12:16:25.736Z"
   },
   {
    "duration": 306,
    "start_time": "2023-05-25T12:16:40.194Z"
   },
   {
    "duration": 273,
    "start_time": "2023-05-25T12:17:02.761Z"
   },
   {
    "duration": 294,
    "start_time": "2023-05-25T12:17:10.541Z"
   },
   {
    "duration": 325,
    "start_time": "2023-05-25T12:17:32.284Z"
   },
   {
    "duration": 306,
    "start_time": "2023-05-25T12:17:37.939Z"
   },
   {
    "duration": 299,
    "start_time": "2023-05-25T12:17:48.645Z"
   },
   {
    "duration": 364,
    "start_time": "2023-05-25T12:17:53.928Z"
   },
   {
    "duration": 292,
    "start_time": "2023-05-25T12:18:02.077Z"
   },
   {
    "duration": 289,
    "start_time": "2023-05-25T12:18:11.842Z"
   },
   {
    "duration": 0,
    "start_time": "2023-05-25T12:22:04.366Z"
   },
   {
    "duration": 340,
    "start_time": "2023-05-25T12:22:12.188Z"
   },
   {
    "duration": 171,
    "start_time": "2023-05-25T12:23:23.700Z"
   },
   {
    "duration": 180,
    "start_time": "2023-05-25T12:24:24.855Z"
   },
   {
    "duration": 171,
    "start_time": "2023-05-25T12:24:49.285Z"
   },
   {
    "duration": 49,
    "start_time": "2023-05-25T12:25:25.783Z"
   },
   {
    "duration": 6336,
    "start_time": "2023-05-25T12:25:40.719Z"
   },
   {
    "duration": 177,
    "start_time": "2023-05-25T12:26:26.273Z"
   },
   {
    "duration": 50,
    "start_time": "2023-05-25T12:30:17.472Z"
   },
   {
    "duration": 9,
    "start_time": "2023-05-25T12:30:51.107Z"
   },
   {
    "duration": 421,
    "start_time": "2023-05-25T12:31:11.654Z"
   },
   {
    "duration": 151,
    "start_time": "2023-05-25T12:31:12.077Z"
   },
   {
    "duration": 19,
    "start_time": "2023-05-25T12:31:12.229Z"
   },
   {
    "duration": 13,
    "start_time": "2023-05-25T12:31:12.249Z"
   },
   {
    "duration": 13,
    "start_time": "2023-05-25T12:31:12.264Z"
   },
   {
    "duration": 8,
    "start_time": "2023-05-25T12:31:12.279Z"
   },
   {
    "duration": 62,
    "start_time": "2023-05-25T12:31:12.288Z"
   },
   {
    "duration": 9,
    "start_time": "2023-05-25T12:31:12.352Z"
   },
   {
    "duration": 21,
    "start_time": "2023-05-25T12:31:12.362Z"
   },
   {
    "duration": 12,
    "start_time": "2023-05-25T12:31:12.385Z"
   },
   {
    "duration": 102,
    "start_time": "2023-05-25T12:31:12.398Z"
   },
   {
    "duration": 12,
    "start_time": "2023-05-25T12:31:12.502Z"
   },
   {
    "duration": 13,
    "start_time": "2023-05-25T12:31:12.516Z"
   },
   {
    "duration": 35,
    "start_time": "2023-05-25T12:31:12.532Z"
   },
   {
    "duration": 58,
    "start_time": "2023-05-25T12:31:12.568Z"
   },
   {
    "duration": 7,
    "start_time": "2023-05-25T12:31:12.627Z"
   },
   {
    "duration": 20,
    "start_time": "2023-05-25T12:31:12.635Z"
   },
   {
    "duration": 30,
    "start_time": "2023-05-25T12:31:12.657Z"
   },
   {
    "duration": 3016,
    "start_time": "2023-05-25T12:31:12.689Z"
   },
   {
    "duration": 1574,
    "start_time": "2023-05-25T12:31:15.707Z"
   },
   {
    "duration": 12,
    "start_time": "2023-05-25T12:31:17.283Z"
   },
   {
    "duration": 19,
    "start_time": "2023-05-25T12:31:17.297Z"
   },
   {
    "duration": 11,
    "start_time": "2023-05-25T12:31:17.317Z"
   },
   {
    "duration": 4,
    "start_time": "2023-05-25T12:31:17.330Z"
   },
   {
    "duration": 25,
    "start_time": "2023-05-25T12:31:17.336Z"
   },
   {
    "duration": 6,
    "start_time": "2023-05-25T12:31:17.363Z"
   },
   {
    "duration": 30,
    "start_time": "2023-05-25T12:31:17.370Z"
   },
   {
    "duration": 18,
    "start_time": "2023-05-25T12:31:17.401Z"
   },
   {
    "duration": 29,
    "start_time": "2023-05-25T12:31:17.421Z"
   },
   {
    "duration": 26,
    "start_time": "2023-05-25T12:31:17.452Z"
   },
   {
    "duration": 11,
    "start_time": "2023-05-25T12:31:17.480Z"
   },
   {
    "duration": 5,
    "start_time": "2023-05-25T12:31:17.492Z"
   },
   {
    "duration": 29,
    "start_time": "2023-05-25T12:31:17.499Z"
   },
   {
    "duration": 22,
    "start_time": "2023-05-25T12:31:17.530Z"
   },
   {
    "duration": 30,
    "start_time": "2023-05-25T12:31:17.553Z"
   },
   {
    "duration": 8,
    "start_time": "2023-05-25T12:31:17.585Z"
   },
   {
    "duration": 6,
    "start_time": "2023-05-25T12:31:17.595Z"
   },
   {
    "duration": 25,
    "start_time": "2023-05-25T12:31:17.602Z"
   },
   {
    "duration": 32,
    "start_time": "2023-05-25T12:31:17.629Z"
   },
   {
    "duration": 5,
    "start_time": "2023-05-25T12:31:17.662Z"
   },
   {
    "duration": 14,
    "start_time": "2023-05-25T12:31:17.671Z"
   },
   {
    "duration": 34,
    "start_time": "2023-05-25T12:31:17.686Z"
   },
   {
    "duration": 7,
    "start_time": "2023-05-25T12:31:17.722Z"
   },
   {
    "duration": 6,
    "start_time": "2023-05-25T12:31:17.731Z"
   },
   {
    "duration": 13,
    "start_time": "2023-05-25T12:31:17.739Z"
   },
   {
    "duration": 11,
    "start_time": "2023-05-25T12:31:17.754Z"
   },
   {
    "duration": 360,
    "start_time": "2023-05-25T12:31:17.767Z"
   },
   {
    "duration": 1059,
    "start_time": "2023-05-25T12:31:18.129Z"
   },
   {
    "duration": 3256,
    "start_time": "2023-05-25T12:31:19.190Z"
   },
   {
    "duration": 194,
    "start_time": "2023-05-25T12:31:22.450Z"
   },
   {
    "duration": 179,
    "start_time": "2023-05-25T12:31:22.650Z"
   },
   {
    "duration": 310,
    "start_time": "2023-05-25T12:31:22.831Z"
   },
   {
    "duration": 195,
    "start_time": "2023-05-25T12:31:23.149Z"
   },
   {
    "duration": 187,
    "start_time": "2023-05-25T12:34:17.631Z"
   },
   {
    "duration": 198,
    "start_time": "2023-05-25T12:34:55.162Z"
   },
   {
    "duration": 309,
    "start_time": "2023-05-25T12:38:33.953Z"
   },
   {
    "duration": 287,
    "start_time": "2023-05-25T12:39:30.572Z"
   },
   {
    "duration": 364,
    "start_time": "2023-05-25T12:43:11.722Z"
   },
   {
    "duration": 257,
    "start_time": "2023-05-25T12:43:37.342Z"
   },
   {
    "duration": 9945,
    "start_time": "2023-05-25T12:44:30.102Z"
   },
   {
    "duration": 427,
    "start_time": "2023-05-25T12:45:43.308Z"
   },
   {
    "duration": 184,
    "start_time": "2023-05-25T12:47:44.209Z"
   },
   {
    "duration": 168,
    "start_time": "2023-05-25T12:47:59.487Z"
   },
   {
    "duration": 528,
    "start_time": "2023-05-25T12:49:16.176Z"
   },
   {
    "duration": 761,
    "start_time": "2023-05-25T12:49:54.684Z"
   },
   {
    "duration": 230,
    "start_time": "2023-05-25T12:50:01.680Z"
   },
   {
    "duration": 3,
    "start_time": "2023-05-25T12:50:53.534Z"
   },
   {
    "duration": 220,
    "start_time": "2023-05-25T12:50:55.462Z"
   },
   {
    "duration": 221,
    "start_time": "2023-05-25T13:01:22.481Z"
   },
   {
    "duration": 182,
    "start_time": "2023-05-25T13:03:22.537Z"
   },
   {
    "duration": 212,
    "start_time": "2023-05-25T13:03:52.795Z"
   },
   {
    "duration": 207,
    "start_time": "2023-05-25T13:04:23.784Z"
   },
   {
    "duration": 189,
    "start_time": "2023-05-25T13:04:45.839Z"
   },
   {
    "duration": 178,
    "start_time": "2023-05-25T13:06:17.954Z"
   },
   {
    "duration": 238,
    "start_time": "2023-05-25T13:07:47.996Z"
   },
   {
    "duration": 228,
    "start_time": "2023-05-25T13:08:02.427Z"
   },
   {
    "duration": 193,
    "start_time": "2023-05-25T13:08:12.674Z"
   },
   {
    "duration": 182,
    "start_time": "2023-05-25T13:08:40.631Z"
   },
   {
    "duration": 226,
    "start_time": "2023-05-25T13:09:30.299Z"
   },
   {
    "duration": 206,
    "start_time": "2023-05-25T13:09:39.113Z"
   },
   {
    "duration": 218,
    "start_time": "2023-05-25T13:10:15.932Z"
   },
   {
    "duration": 220,
    "start_time": "2023-05-25T13:11:56.140Z"
   },
   {
    "duration": 233,
    "start_time": "2023-05-25T13:12:02.902Z"
   },
   {
    "duration": 224,
    "start_time": "2023-05-25T13:12:08.454Z"
   },
   {
    "duration": 221,
    "start_time": "2023-05-25T13:12:15.988Z"
   },
   {
    "duration": 233,
    "start_time": "2023-05-25T13:12:26.848Z"
   },
   {
    "duration": 229,
    "start_time": "2023-05-25T13:12:35.543Z"
   },
   {
    "duration": 217,
    "start_time": "2023-05-25T13:12:41.888Z"
   },
   {
    "duration": 218,
    "start_time": "2023-05-25T13:12:53.458Z"
   },
   {
    "duration": 216,
    "start_time": "2023-05-25T13:12:59.338Z"
   },
   {
    "duration": 210,
    "start_time": "2023-05-25T13:13:07.304Z"
   },
   {
    "duration": 265,
    "start_time": "2023-05-25T13:13:22.046Z"
   },
   {
    "duration": 217,
    "start_time": "2023-05-25T13:13:29.444Z"
   },
   {
    "duration": 248,
    "start_time": "2023-05-25T13:13:36.278Z"
   },
   {
    "duration": 211,
    "start_time": "2023-05-25T13:13:43.345Z"
   },
   {
    "duration": 218,
    "start_time": "2023-05-25T13:13:51.942Z"
   },
   {
    "duration": 243,
    "start_time": "2023-05-25T13:14:12.436Z"
   },
   {
    "duration": 281,
    "start_time": "2023-05-25T13:19:28.426Z"
   },
   {
    "duration": 289,
    "start_time": "2023-05-25T13:19:33.373Z"
   },
   {
    "duration": 259,
    "start_time": "2023-05-25T13:19:48.840Z"
   },
   {
    "duration": 280,
    "start_time": "2023-05-25T13:19:54.834Z"
   },
   {
    "duration": 282,
    "start_time": "2023-05-25T13:20:02.929Z"
   },
   {
    "duration": 252,
    "start_time": "2023-05-25T13:20:29.550Z"
   },
   {
    "duration": 1034,
    "start_time": "2023-05-25T13:20:41.584Z"
   },
   {
    "duration": 383,
    "start_time": "2023-05-25T13:20:55.338Z"
   },
   {
    "duration": 262,
    "start_time": "2023-05-25T13:21:51.999Z"
   },
   {
    "duration": 290,
    "start_time": "2023-05-25T13:22:04.308Z"
   },
   {
    "duration": 179,
    "start_time": "2023-05-25T13:26:57.406Z"
   },
   {
    "duration": 189,
    "start_time": "2023-05-25T13:27:17.252Z"
   },
   {
    "duration": 166,
    "start_time": "2023-05-25T13:28:48.045Z"
   },
   {
    "duration": 23,
    "start_time": "2023-05-25T13:29:20.496Z"
   },
   {
    "duration": 294,
    "start_time": "2023-05-25T13:29:58.279Z"
   },
   {
    "duration": 172,
    "start_time": "2023-05-25T13:30:15.729Z"
   },
   {
    "duration": 165,
    "start_time": "2023-05-25T13:34:23.699Z"
   },
   {
    "duration": 299,
    "start_time": "2023-05-25T13:36:50.520Z"
   },
   {
    "duration": 178,
    "start_time": "2023-05-25T13:39:44.421Z"
   },
   {
    "duration": 213,
    "start_time": "2023-05-25T13:43:36.951Z"
   },
   {
    "duration": 195,
    "start_time": "2023-05-25T13:43:57.577Z"
   },
   {
    "duration": 298,
    "start_time": "2023-05-25T13:45:24.412Z"
   },
   {
    "duration": 132,
    "start_time": "2023-05-25T13:49:00.720Z"
   },
   {
    "duration": 8,
    "start_time": "2023-05-25T13:52:33.803Z"
   },
   {
    "duration": 139,
    "start_time": "2023-05-25T13:52:59.481Z"
   },
   {
    "duration": 5,
    "start_time": "2023-05-25T13:54:19.378Z"
   },
   {
    "duration": 114,
    "start_time": "2023-05-25T13:54:24.998Z"
   },
   {
    "duration": 193,
    "start_time": "2023-05-25T13:58:08.183Z"
   },
   {
    "duration": 189,
    "start_time": "2023-05-25T13:59:22.196Z"
   },
   {
    "duration": 293,
    "start_time": "2023-05-25T14:00:34.577Z"
   },
   {
    "duration": 203,
    "start_time": "2023-05-25T14:00:45.175Z"
   },
   {
    "duration": 223,
    "start_time": "2023-05-25T14:01:29.250Z"
   },
   {
    "duration": 275,
    "start_time": "2023-05-25T14:01:34.945Z"
   },
   {
    "duration": 5,
    "start_time": "2023-05-25T14:03:56.237Z"
   },
   {
    "duration": 954,
    "start_time": "2023-05-25T14:04:27.481Z"
   },
   {
    "duration": 88355,
    "start_time": "2023-05-25T14:07:33.641Z"
   },
   {
    "duration": 362,
    "start_time": "2023-05-25T14:09:12.727Z"
   },
   {
    "duration": 400,
    "start_time": "2023-05-25T14:09:25.383Z"
   },
   {
    "duration": 127,
    "start_time": "2023-05-25T14:09:25.785Z"
   },
   {
    "duration": 20,
    "start_time": "2023-05-25T14:09:25.914Z"
   },
   {
    "duration": 16,
    "start_time": "2023-05-25T14:09:25.936Z"
   },
   {
    "duration": 22,
    "start_time": "2023-05-25T14:09:25.953Z"
   },
   {
    "duration": 11,
    "start_time": "2023-05-25T14:09:25.977Z"
   },
   {
    "duration": 47,
    "start_time": "2023-05-25T14:09:25.990Z"
   },
   {
    "duration": 10,
    "start_time": "2023-05-25T14:09:26.038Z"
   },
   {
    "duration": 15,
    "start_time": "2023-05-25T14:09:26.049Z"
   },
   {
    "duration": 12,
    "start_time": "2023-05-25T14:09:26.069Z"
   },
   {
    "duration": 87,
    "start_time": "2023-05-25T14:09:26.083Z"
   },
   {
    "duration": 11,
    "start_time": "2023-05-25T14:09:26.172Z"
   },
   {
    "duration": 14,
    "start_time": "2023-05-25T14:09:26.184Z"
   },
   {
    "duration": 45,
    "start_time": "2023-05-25T14:09:26.199Z"
   },
   {
    "duration": 48,
    "start_time": "2023-05-25T14:09:26.246Z"
   },
   {
    "duration": 7,
    "start_time": "2023-05-25T14:09:26.296Z"
   },
   {
    "duration": 28,
    "start_time": "2023-05-25T14:09:26.304Z"
   },
   {
    "duration": 16,
    "start_time": "2023-05-25T14:09:26.333Z"
   },
   {
    "duration": 3026,
    "start_time": "2023-05-25T14:09:26.351Z"
   },
   {
    "duration": 1754,
    "start_time": "2023-05-25T14:09:29.379Z"
   },
   {
    "duration": 14,
    "start_time": "2023-05-25T14:09:31.135Z"
   },
   {
    "duration": 22,
    "start_time": "2023-05-25T14:09:31.150Z"
   },
   {
    "duration": 30,
    "start_time": "2023-05-25T14:09:31.174Z"
   },
   {
    "duration": 18,
    "start_time": "2023-05-25T14:09:31.206Z"
   },
   {
    "duration": 37,
    "start_time": "2023-05-25T14:09:31.225Z"
   },
   {
    "duration": 28,
    "start_time": "2023-05-25T14:09:31.263Z"
   },
   {
    "duration": 38,
    "start_time": "2023-05-25T14:09:31.293Z"
   },
   {
    "duration": 28,
    "start_time": "2023-05-25T14:09:31.335Z"
   },
   {
    "duration": 15,
    "start_time": "2023-05-25T14:09:31.364Z"
   },
   {
    "duration": 36,
    "start_time": "2023-05-25T14:09:31.381Z"
   },
   {
    "duration": 21,
    "start_time": "2023-05-25T14:09:31.419Z"
   },
   {
    "duration": 24,
    "start_time": "2023-05-25T14:09:31.442Z"
   },
   {
    "duration": 29,
    "start_time": "2023-05-25T14:09:31.467Z"
   },
   {
    "duration": 4,
    "start_time": "2023-05-25T14:09:31.498Z"
   },
   {
    "duration": 44,
    "start_time": "2023-05-25T14:09:31.504Z"
   },
   {
    "duration": 38,
    "start_time": "2023-05-25T14:09:31.549Z"
   },
   {
    "duration": 36,
    "start_time": "2023-05-25T14:09:31.589Z"
   },
   {
    "duration": 47,
    "start_time": "2023-05-25T14:09:31.627Z"
   },
   {
    "duration": 17,
    "start_time": "2023-05-25T14:09:31.676Z"
   },
   {
    "duration": 25,
    "start_time": "2023-05-25T14:09:31.695Z"
   },
   {
    "duration": 10,
    "start_time": "2023-05-25T14:09:31.722Z"
   },
   {
    "duration": 52,
    "start_time": "2023-05-25T14:09:31.733Z"
   },
   {
    "duration": 7,
    "start_time": "2023-05-25T14:09:31.787Z"
   },
   {
    "duration": 19,
    "start_time": "2023-05-25T14:09:31.796Z"
   },
   {
    "duration": 29,
    "start_time": "2023-05-25T14:09:31.817Z"
   },
   {
    "duration": 18,
    "start_time": "2023-05-25T14:09:31.848Z"
   },
   {
    "duration": 395,
    "start_time": "2023-05-25T14:09:31.868Z"
   },
   {
    "duration": 1182,
    "start_time": "2023-05-25T14:09:32.264Z"
   },
   {
    "duration": 3298,
    "start_time": "2023-05-25T14:09:33.448Z"
   },
   {
    "duration": 2,
    "start_time": "2023-05-25T14:09:36.750Z"
   },
   {
    "duration": 191,
    "start_time": "2023-05-25T14:09:36.754Z"
   },
   {
    "duration": 186,
    "start_time": "2023-05-25T14:09:36.950Z"
   },
   {
    "duration": 190,
    "start_time": "2023-05-25T14:09:37.138Z"
   },
   {
    "duration": 222,
    "start_time": "2023-05-25T14:09:37.330Z"
   },
   {
    "duration": 281,
    "start_time": "2023-05-25T14:09:37.554Z"
   },
   {
    "duration": 257,
    "start_time": "2023-05-25T14:09:37.836Z"
   },
   {
    "duration": 307,
    "start_time": "2023-05-25T14:09:38.095Z"
   },
   {
    "duration": 306131,
    "start_time": "2023-05-25T14:09:38.404Z"
   },
   {
    "duration": 433,
    "start_time": "2023-05-26T06:05:29.339Z"
   },
   {
    "duration": 77,
    "start_time": "2023-05-26T06:05:29.773Z"
   },
   {
    "duration": 23,
    "start_time": "2023-05-26T06:05:29.852Z"
   },
   {
    "duration": 26,
    "start_time": "2023-05-26T06:05:29.877Z"
   },
   {
    "duration": 21,
    "start_time": "2023-05-26T06:05:29.905Z"
   },
   {
    "duration": 20,
    "start_time": "2023-05-26T06:05:29.928Z"
   },
   {
    "duration": 106,
    "start_time": "2023-05-26T06:05:29.950Z"
   },
   {
    "duration": 10,
    "start_time": "2023-05-26T06:05:30.058Z"
   },
   {
    "duration": 55,
    "start_time": "2023-05-26T06:05:30.070Z"
   },
   {
    "duration": 49,
    "start_time": "2023-05-26T06:05:30.128Z"
   },
   {
    "duration": 112,
    "start_time": "2023-05-26T06:05:30.179Z"
   },
   {
    "duration": 11,
    "start_time": "2023-05-26T06:05:30.293Z"
   },
   {
    "duration": 37,
    "start_time": "2023-05-26T06:05:30.306Z"
   },
   {
    "duration": 104,
    "start_time": "2023-05-26T06:05:30.344Z"
   },
   {
    "duration": 58,
    "start_time": "2023-05-26T06:05:30.450Z"
   },
   {
    "duration": 20,
    "start_time": "2023-05-26T06:05:30.509Z"
   },
   {
    "duration": 93,
    "start_time": "2023-05-26T06:05:30.531Z"
   },
   {
    "duration": 71,
    "start_time": "2023-05-26T06:05:30.626Z"
   },
   {
    "duration": 3661,
    "start_time": "2023-05-26T06:05:30.699Z"
   },
   {
    "duration": 1307,
    "start_time": "2023-05-26T06:05:34.363Z"
   },
   {
    "duration": 15,
    "start_time": "2023-05-26T06:05:35.672Z"
   },
   {
    "duration": 12,
    "start_time": "2023-05-26T06:05:35.689Z"
   },
   {
    "duration": 12,
    "start_time": "2023-05-26T06:05:35.703Z"
   },
   {
    "duration": 10,
    "start_time": "2023-05-26T06:05:35.717Z"
   },
   {
    "duration": 21,
    "start_time": "2023-05-26T06:05:35.746Z"
   },
   {
    "duration": 14,
    "start_time": "2023-05-26T06:05:35.769Z"
   },
   {
    "duration": 44,
    "start_time": "2023-05-26T06:05:35.784Z"
   },
   {
    "duration": 23,
    "start_time": "2023-05-26T06:05:35.832Z"
   },
   {
    "duration": 16,
    "start_time": "2023-05-26T06:05:35.857Z"
   },
   {
    "duration": 30,
    "start_time": "2023-05-26T06:05:35.875Z"
   },
   {
    "duration": 43,
    "start_time": "2023-05-26T06:05:35.907Z"
   },
   {
    "duration": 6,
    "start_time": "2023-05-26T06:05:35.952Z"
   },
   {
    "duration": 22,
    "start_time": "2023-05-26T06:05:35.959Z"
   },
   {
    "duration": 5,
    "start_time": "2023-05-26T06:05:35.982Z"
   },
   {
    "duration": 57,
    "start_time": "2023-05-26T06:05:35.989Z"
   },
   {
    "duration": 10,
    "start_time": "2023-05-26T06:05:36.048Z"
   },
   {
    "duration": 11,
    "start_time": "2023-05-26T06:05:36.060Z"
   },
   {
    "duration": 35,
    "start_time": "2023-05-26T06:05:36.073Z"
   },
   {
    "duration": 20,
    "start_time": "2023-05-26T06:05:36.110Z"
   },
   {
    "duration": 6,
    "start_time": "2023-05-26T06:05:36.146Z"
   },
   {
    "duration": 14,
    "start_time": "2023-05-26T06:05:36.154Z"
   },
   {
    "duration": 33,
    "start_time": "2023-05-26T06:05:36.171Z"
   },
   {
    "duration": 9,
    "start_time": "2023-05-26T06:05:36.206Z"
   },
   {
    "duration": 11,
    "start_time": "2023-05-26T06:05:36.217Z"
   },
   {
    "duration": 7,
    "start_time": "2023-05-26T06:05:36.229Z"
   },
   {
    "duration": 18,
    "start_time": "2023-05-26T06:05:36.238Z"
   },
   {
    "duration": 423,
    "start_time": "2023-05-26T06:05:36.258Z"
   },
   {
    "duration": 1216,
    "start_time": "2023-05-26T06:05:36.682Z"
   },
   {
    "duration": 3324,
    "start_time": "2023-05-26T06:05:37.900Z"
   },
   {
    "duration": 4,
    "start_time": "2023-05-26T06:05:41.226Z"
   },
   {
    "duration": 205,
    "start_time": "2023-05-26T06:05:41.231Z"
   },
   {
    "duration": 184,
    "start_time": "2023-05-26T06:05:41.438Z"
   },
   {
    "duration": 192,
    "start_time": "2023-05-26T06:05:41.624Z"
   },
   {
    "duration": 236,
    "start_time": "2023-05-26T06:05:41.818Z"
   },
   {
    "duration": 293,
    "start_time": "2023-05-26T06:05:42.056Z"
   },
   {
    "duration": 327,
    "start_time": "2023-05-26T06:05:42.351Z"
   },
   {
    "duration": 328,
    "start_time": "2023-05-26T06:05:42.680Z"
   },
   {
    "duration": 2,
    "start_time": "2023-05-26T06:05:43.010Z"
   },
   {
    "duration": 162,
    "start_time": "2023-05-26T06:07:31.524Z"
   },
   {
    "duration": 4,
    "start_time": "2023-05-26T06:09:27.220Z"
   },
   {
    "duration": 295,
    "start_time": "2023-05-26T06:09:29.262Z"
   },
   {
    "duration": 221,
    "start_time": "2023-05-26T06:09:36.559Z"
   },
   {
    "duration": 199,
    "start_time": "2023-05-26T06:09:43.270Z"
   },
   {
    "duration": 317,
    "start_time": "2023-05-26T06:09:52.968Z"
   },
   {
    "duration": 227,
    "start_time": "2023-05-26T06:10:05.430Z"
   },
   {
    "duration": 349,
    "start_time": "2023-05-26T06:10:13.907Z"
   },
   {
    "duration": 299,
    "start_time": "2023-05-26T06:10:20.932Z"
   },
   {
    "duration": 227,
    "start_time": "2023-05-26T06:10:33.269Z"
   },
   {
    "duration": 339,
    "start_time": "2023-05-26T06:10:43.520Z"
   },
   {
    "duration": 338,
    "start_time": "2023-05-26T06:10:52.303Z"
   },
   {
    "duration": 341,
    "start_time": "2023-05-26T06:11:09.331Z"
   },
   {
    "duration": 375,
    "start_time": "2023-05-26T06:11:14.994Z"
   },
   {
    "duration": 466,
    "start_time": "2023-05-26T06:11:23.965Z"
   },
   {
    "duration": 326,
    "start_time": "2023-05-26T06:11:28.497Z"
   },
   {
    "duration": 309,
    "start_time": "2023-05-26T06:11:49.893Z"
   },
   {
    "duration": 256,
    "start_time": "2023-05-26T06:12:00.143Z"
   },
   {
    "duration": 345,
    "start_time": "2023-05-26T06:12:06.081Z"
   },
   {
    "duration": 308,
    "start_time": "2023-05-26T06:12:19.073Z"
   },
   {
    "duration": 359,
    "start_time": "2023-05-26T06:12:25.203Z"
   },
   {
    "duration": 309,
    "start_time": "2023-05-26T06:12:38.234Z"
   },
   {
    "duration": 382,
    "start_time": "2023-05-26T06:15:57.420Z"
   },
   {
    "duration": 271,
    "start_time": "2023-05-26T06:16:16.087Z"
   },
   {
    "duration": 323,
    "start_time": "2023-05-26T06:16:26.974Z"
   },
   {
    "duration": 301,
    "start_time": "2023-05-26T06:16:32.782Z"
   },
   {
    "duration": 222,
    "start_time": "2023-05-26T06:17:38.878Z"
   },
   {
    "duration": 349,
    "start_time": "2023-05-26T06:19:44.829Z"
   },
   {
    "duration": 266,
    "start_time": "2023-05-26T06:21:06.612Z"
   },
   {
    "duration": 256,
    "start_time": "2023-05-26T06:21:14.075Z"
   },
   {
    "duration": 5,
    "start_time": "2023-05-26T06:22:42.364Z"
   },
   {
    "duration": 334,
    "start_time": "2023-05-26T06:22:42.844Z"
   },
   {
    "duration": 297,
    "start_time": "2023-05-26T06:22:50.482Z"
   },
   {
    "duration": 343,
    "start_time": "2023-05-26T06:23:02.907Z"
   },
   {
    "duration": 342,
    "start_time": "2023-05-26T06:23:06.141Z"
   },
   {
    "duration": 254,
    "start_time": "2023-05-26T06:23:14.769Z"
   },
   {
    "duration": 227,
    "start_time": "2023-05-26T06:23:22.108Z"
   },
   {
    "duration": 239,
    "start_time": "2023-05-26T06:23:25.954Z"
   },
   {
    "duration": 271,
    "start_time": "2023-05-26T06:38:14.311Z"
   },
   {
    "duration": 268,
    "start_time": "2023-05-26T06:40:23.630Z"
   },
   {
    "duration": 224,
    "start_time": "2023-05-26T06:40:32.927Z"
   },
   {
    "duration": 189,
    "start_time": "2023-05-26T06:45:11.319Z"
   },
   {
    "duration": 261,
    "start_time": "2023-05-26T06:54:26.706Z"
   },
   {
    "duration": 233,
    "start_time": "2023-05-26T06:54:46.810Z"
   },
   {
    "duration": 276,
    "start_time": "2023-05-26T06:54:54.221Z"
   },
   {
    "duration": 304,
    "start_time": "2023-05-26T06:55:42.728Z"
   },
   {
    "duration": 283,
    "start_time": "2023-05-26T06:57:13.671Z"
   },
   {
    "duration": 255,
    "start_time": "2023-05-26T06:58:28.489Z"
   },
   {
    "duration": 567,
    "start_time": "2023-05-26T06:58:40.104Z"
   },
   {
    "duration": 359,
    "start_time": "2023-05-26T06:59:06.672Z"
   },
   {
    "duration": 290,
    "start_time": "2023-05-26T06:59:20.889Z"
   },
   {
    "duration": 167,
    "start_time": "2023-05-26T07:00:01.367Z"
   },
   {
    "duration": 2740,
    "start_time": "2023-05-26T07:00:13.300Z"
   },
   {
    "duration": 104,
    "start_time": "2023-05-26T07:00:27.077Z"
   },
   {
    "duration": 2590,
    "start_time": "2023-05-26T07:00:32.975Z"
   },
   {
    "duration": 17,
    "start_time": "2023-05-26T07:00:42.784Z"
   },
   {
    "duration": 1807,
    "start_time": "2023-05-26T07:01:08.622Z"
   },
   {
    "duration": 293,
    "start_time": "2023-05-26T07:01:25.074Z"
   },
   {
    "duration": 9,
    "start_time": "2023-05-26T07:04:25.177Z"
   },
   {
    "duration": 12,
    "start_time": "2023-05-26T07:04:29.172Z"
   },
   {
    "duration": 19,
    "start_time": "2023-05-26T10:14:23.250Z"
   },
   {
    "duration": 11,
    "start_time": "2023-05-26T10:14:33.813Z"
   },
   {
    "duration": 30930,
    "start_time": "2023-05-26T10:14:49.195Z"
   },
   {
    "duration": 33,
    "start_time": "2023-05-26T10:16:40.954Z"
   },
   {
    "duration": 1142,
    "start_time": "2023-05-26T10:27:09.979Z"
   },
   {
    "duration": 9,
    "start_time": "2023-05-26T10:33:07.263Z"
   },
   {
    "duration": 9,
    "start_time": "2023-05-26T10:33:24.009Z"
   },
   {
    "duration": 4,
    "start_time": "2023-05-26T10:33:28.082Z"
   },
   {
    "duration": 13,
    "start_time": "2023-05-26T10:35:48.383Z"
   },
   {
    "duration": 17,
    "start_time": "2023-05-26T10:35:53.187Z"
   },
   {
    "duration": 5,
    "start_time": "2023-05-26T10:52:50.079Z"
   },
   {
    "duration": 125,
    "start_time": "2023-05-26T11:17:54.437Z"
   },
   {
    "duration": 8,
    "start_time": "2023-05-26T11:18:07.054Z"
   },
   {
    "duration": 6,
    "start_time": "2023-05-26T11:18:29.042Z"
   },
   {
    "duration": 5,
    "start_time": "2023-05-26T11:19:19.850Z"
   },
   {
    "duration": 10,
    "start_time": "2023-05-26T11:22:34.382Z"
   },
   {
    "duration": 5,
    "start_time": "2023-05-26T11:24:39.309Z"
   },
   {
    "duration": 18,
    "start_time": "2023-05-26T11:36:07.458Z"
   },
   {
    "duration": 4665,
    "start_time": "2023-05-26T11:37:18.159Z"
   },
   {
    "duration": 3731,
    "start_time": "2023-05-26T11:37:34.461Z"
   },
   {
    "duration": 14588,
    "start_time": "2023-05-26T11:37:49.347Z"
   },
   {
    "duration": 26,
    "start_time": "2023-05-26T11:38:26.359Z"
   },
   {
    "duration": 101,
    "start_time": "2023-05-26T11:38:49.807Z"
   },
   {
    "duration": 5,
    "start_time": "2023-05-26T11:45:47.761Z"
   },
   {
    "duration": 7,
    "start_time": "2023-05-26T11:45:56.852Z"
   },
   {
    "duration": 93,
    "start_time": "2023-05-26T11:46:13.754Z"
   },
   {
    "duration": 32,
    "start_time": "2023-05-26T11:49:04.527Z"
   },
   {
    "duration": 11,
    "start_time": "2023-05-26T11:51:11.616Z"
   },
   {
    "duration": 5,
    "start_time": "2023-05-26T11:51:49.151Z"
   },
   {
    "duration": 25,
    "start_time": "2023-05-26T11:51:58.315Z"
   },
   {
    "duration": 21,
    "start_time": "2023-05-26T11:53:11.977Z"
   },
   {
    "duration": 20,
    "start_time": "2023-05-26T11:54:03.045Z"
   },
   {
    "duration": 18,
    "start_time": "2023-05-26T11:54:41.812Z"
   },
   {
    "duration": 17,
    "start_time": "2023-05-26T11:54:51.146Z"
   },
   {
    "duration": 16,
    "start_time": "2023-05-26T11:55:28.715Z"
   },
   {
    "duration": 103,
    "start_time": "2023-05-26T11:57:06.813Z"
   },
   {
    "duration": 18,
    "start_time": "2023-05-26T11:57:15.339Z"
   },
   {
    "duration": 22,
    "start_time": "2023-05-26T11:57:26.860Z"
   },
   {
    "duration": 487,
    "start_time": "2023-05-26T11:57:36.167Z"
   },
   {
    "duration": 40,
    "start_time": "2023-05-26T11:57:36.657Z"
   },
   {
    "duration": 21,
    "start_time": "2023-05-26T11:57:36.699Z"
   },
   {
    "duration": 15,
    "start_time": "2023-05-26T11:57:36.721Z"
   },
   {
    "duration": 20,
    "start_time": "2023-05-26T11:57:36.738Z"
   },
   {
    "duration": 14,
    "start_time": "2023-05-26T11:57:36.760Z"
   },
   {
    "duration": 28,
    "start_time": "2023-05-26T11:57:36.776Z"
   },
   {
    "duration": 14,
    "start_time": "2023-05-26T11:57:36.806Z"
   },
   {
    "duration": 35,
    "start_time": "2023-05-26T11:57:36.821Z"
   },
   {
    "duration": 16,
    "start_time": "2023-05-26T11:57:36.858Z"
   },
   {
    "duration": 26,
    "start_time": "2023-05-26T11:57:36.876Z"
   },
   {
    "duration": 12,
    "start_time": "2023-05-26T11:57:36.904Z"
   },
   {
    "duration": 31,
    "start_time": "2023-05-26T11:57:36.918Z"
   },
   {
    "duration": 53,
    "start_time": "2023-05-26T11:57:36.952Z"
   },
   {
    "duration": 20,
    "start_time": "2023-05-26T11:57:37.008Z"
   },
   {
    "duration": 16,
    "start_time": "2023-05-26T11:57:37.030Z"
   },
   {
    "duration": 15,
    "start_time": "2023-05-26T11:57:37.048Z"
   },
   {
    "duration": 46,
    "start_time": "2023-05-26T11:57:37.065Z"
   },
   {
    "duration": 5922,
    "start_time": "2023-05-26T11:57:37.113Z"
   },
   {
    "duration": 1101,
    "start_time": "2023-05-26T11:57:43.038Z"
   },
   {
    "duration": 17,
    "start_time": "2023-05-26T11:57:44.141Z"
   },
   {
    "duration": 33,
    "start_time": "2023-05-26T11:57:44.160Z"
   },
   {
    "duration": 23,
    "start_time": "2023-05-26T11:57:44.196Z"
   },
   {
    "duration": 6,
    "start_time": "2023-05-26T11:57:44.223Z"
   },
   {
    "duration": 49,
    "start_time": "2023-05-26T11:57:44.232Z"
   },
   {
    "duration": 22,
    "start_time": "2023-05-26T11:57:44.283Z"
   },
   {
    "duration": 49,
    "start_time": "2023-05-26T11:57:44.308Z"
   },
   {
    "duration": 32,
    "start_time": "2023-05-26T11:57:44.359Z"
   },
   {
    "duration": 21,
    "start_time": "2023-05-26T11:57:44.393Z"
   },
   {
    "duration": 38,
    "start_time": "2023-05-26T11:57:44.416Z"
   },
   {
    "duration": 22,
    "start_time": "2023-05-26T11:57:44.456Z"
   },
   {
    "duration": 10,
    "start_time": "2023-05-26T11:57:44.484Z"
   },
   {
    "duration": 29,
    "start_time": "2023-05-26T11:57:44.496Z"
   },
   {
    "duration": 21,
    "start_time": "2023-05-26T11:57:44.527Z"
   },
   {
    "duration": 60,
    "start_time": "2023-05-26T11:57:44.551Z"
   },
   {
    "duration": 26,
    "start_time": "2023-05-26T11:57:44.613Z"
   },
   {
    "duration": 36,
    "start_time": "2023-05-26T11:57:44.641Z"
   },
   {
    "duration": 46,
    "start_time": "2023-05-26T11:57:44.679Z"
   },
   {
    "duration": 46,
    "start_time": "2023-05-26T11:57:44.727Z"
   },
   {
    "duration": 6,
    "start_time": "2023-05-26T11:57:44.775Z"
   },
   {
    "duration": 10,
    "start_time": "2023-05-26T11:57:44.787Z"
   },
   {
    "duration": 42,
    "start_time": "2023-05-26T11:57:44.799Z"
   },
   {
    "duration": 42,
    "start_time": "2023-05-26T11:57:44.844Z"
   },
   {
    "duration": 20,
    "start_time": "2023-05-26T11:57:44.889Z"
   },
   {
    "duration": 21,
    "start_time": "2023-05-26T11:57:44.911Z"
   },
   {
    "duration": 24,
    "start_time": "2023-05-26T11:57:44.934Z"
   },
   {
    "duration": 492,
    "start_time": "2023-05-26T11:57:44.960Z"
   },
   {
    "duration": 1414,
    "start_time": "2023-05-26T11:57:45.455Z"
   },
   {
    "duration": 4257,
    "start_time": "2023-05-26T11:57:46.871Z"
   },
   {
    "duration": 4,
    "start_time": "2023-05-26T11:57:51.130Z"
   },
   {
    "duration": 289,
    "start_time": "2023-05-26T11:57:51.136Z"
   },
   {
    "duration": 233,
    "start_time": "2023-05-26T11:57:51.427Z"
   },
   {
    "duration": 316,
    "start_time": "2023-05-26T11:57:51.663Z"
   },
   {
    "duration": 250,
    "start_time": "2023-05-26T11:57:51.982Z"
   },
   {
    "duration": 317,
    "start_time": "2023-05-26T11:57:52.234Z"
   },
   {
    "duration": 368,
    "start_time": "2023-05-26T11:57:52.554Z"
   },
   {
    "duration": 324,
    "start_time": "2023-05-26T11:57:52.924Z"
   },
   {
    "duration": 196,
    "start_time": "2023-05-26T11:57:53.250Z"
   },
   {
    "duration": 314,
    "start_time": "2023-05-26T11:57:53.448Z"
   },
   {
    "duration": 15,
    "start_time": "2023-05-26T11:57:53.765Z"
   },
   {
    "duration": 557,
    "start_time": "2023-05-26T11:57:53.784Z"
   },
   {
    "duration": 6,
    "start_time": "2023-05-26T11:57:54.344Z"
   },
   {
    "duration": 6,
    "start_time": "2023-05-26T11:57:54.352Z"
   },
   {
    "duration": 56,
    "start_time": "2023-05-26T11:57:54.360Z"
   },
   {
    "duration": 97,
    "start_time": "2023-05-26T11:57:54.419Z"
   },
   {
    "duration": 9,
    "start_time": "2023-05-26T11:57:54.518Z"
   },
   {
    "duration": 16,
    "start_time": "2023-05-26T11:57:54.528Z"
   },
   {
    "duration": 199,
    "start_time": "2023-05-26T11:57:54.547Z"
   },
   {
    "duration": 0,
    "start_time": "2023-05-26T11:57:54.748Z"
   },
   {
    "duration": 0,
    "start_time": "2023-05-26T11:57:54.749Z"
   },
   {
    "duration": 0,
    "start_time": "2023-05-26T11:57:54.751Z"
   },
   {
    "duration": 50,
    "start_time": "2023-05-26T11:59:24.877Z"
   },
   {
    "duration": 63,
    "start_time": "2023-05-26T12:06:56.476Z"
   },
   {
    "duration": 95,
    "start_time": "2023-05-26T12:09:51.197Z"
   },
   {
    "duration": 25,
    "start_time": "2023-05-26T12:10:27.135Z"
   },
   {
    "duration": 34,
    "start_time": "2023-05-26T12:10:46.677Z"
   },
   {
    "duration": 22,
    "start_time": "2023-05-26T12:10:52.017Z"
   },
   {
    "duration": 20,
    "start_time": "2023-05-26T12:10:56.385Z"
   },
   {
    "duration": 38,
    "start_time": "2023-05-26T12:13:34.990Z"
   },
   {
    "duration": 13,
    "start_time": "2023-05-26T12:14:42.183Z"
   },
   {
    "duration": 415,
    "start_time": "2023-05-26T12:15:09.572Z"
   },
   {
    "duration": 39,
    "start_time": "2023-05-26T12:15:09.989Z"
   },
   {
    "duration": 18,
    "start_time": "2023-05-26T12:15:10.030Z"
   },
   {
    "duration": 28,
    "start_time": "2023-05-26T12:15:10.051Z"
   },
   {
    "duration": 19,
    "start_time": "2023-05-26T12:15:10.081Z"
   },
   {
    "duration": 20,
    "start_time": "2023-05-26T12:15:10.102Z"
   },
   {
    "duration": 21,
    "start_time": "2023-05-26T12:15:10.124Z"
   },
   {
    "duration": 9,
    "start_time": "2023-05-26T12:15:10.147Z"
   },
   {
    "duration": 18,
    "start_time": "2023-05-26T12:15:10.157Z"
   },
   {
    "duration": 12,
    "start_time": "2023-05-26T12:15:10.179Z"
   },
   {
    "duration": 32,
    "start_time": "2023-05-26T12:15:10.192Z"
   },
   {
    "duration": 10,
    "start_time": "2023-05-26T12:15:10.226Z"
   },
   {
    "duration": 22,
    "start_time": "2023-05-26T12:15:10.238Z"
   },
   {
    "duration": 45,
    "start_time": "2023-05-26T12:15:10.262Z"
   },
   {
    "duration": 29,
    "start_time": "2023-05-26T12:15:10.309Z"
   },
   {
    "duration": 41,
    "start_time": "2023-05-26T12:15:10.340Z"
   },
   {
    "duration": 25,
    "start_time": "2023-05-26T12:15:10.383Z"
   },
   {
    "duration": 26,
    "start_time": "2023-05-26T12:15:10.410Z"
   },
   {
    "duration": 5307,
    "start_time": "2023-05-26T12:15:10.438Z"
   },
   {
    "duration": 985,
    "start_time": "2023-05-26T12:15:15.747Z"
   },
   {
    "duration": 19,
    "start_time": "2023-05-26T12:15:16.734Z"
   },
   {
    "duration": 16,
    "start_time": "2023-05-26T12:15:16.755Z"
   },
   {
    "duration": 16,
    "start_time": "2023-05-26T12:15:16.773Z"
   },
   {
    "duration": 11,
    "start_time": "2023-05-26T12:15:16.791Z"
   },
   {
    "duration": 43,
    "start_time": "2023-05-26T12:15:16.804Z"
   },
   {
    "duration": 8,
    "start_time": "2023-05-26T12:15:16.849Z"
   },
   {
    "duration": 28,
    "start_time": "2023-05-26T12:15:16.859Z"
   },
   {
    "duration": 24,
    "start_time": "2023-05-26T12:15:16.891Z"
   },
   {
    "duration": 40,
    "start_time": "2023-05-26T12:15:16.917Z"
   },
   {
    "duration": 30,
    "start_time": "2023-05-26T12:15:16.959Z"
   },
   {
    "duration": 15,
    "start_time": "2023-05-26T12:15:16.991Z"
   },
   {
    "duration": 13,
    "start_time": "2023-05-26T12:15:17.008Z"
   },
   {
    "duration": 37,
    "start_time": "2023-05-26T12:15:17.023Z"
   },
   {
    "duration": 4,
    "start_time": "2023-05-26T12:15:17.062Z"
   },
   {
    "duration": 34,
    "start_time": "2023-05-26T12:15:17.068Z"
   },
   {
    "duration": 12,
    "start_time": "2023-05-26T12:15:17.104Z"
   },
   {
    "duration": 5,
    "start_time": "2023-05-26T12:15:17.118Z"
   },
   {
    "duration": 28,
    "start_time": "2023-05-26T12:15:17.145Z"
   },
   {
    "duration": 20,
    "start_time": "2023-05-26T12:15:17.175Z"
   },
   {
    "duration": 6,
    "start_time": "2023-05-26T12:15:17.197Z"
   },
   {
    "duration": 7,
    "start_time": "2023-05-26T12:15:17.205Z"
   },
   {
    "duration": 50,
    "start_time": "2023-05-26T12:15:17.214Z"
   },
   {
    "duration": 7,
    "start_time": "2023-05-26T12:15:17.267Z"
   },
   {
    "duration": 4,
    "start_time": "2023-05-26T12:15:17.276Z"
   },
   {
    "duration": 10,
    "start_time": "2023-05-26T12:15:17.282Z"
   },
   {
    "duration": 12,
    "start_time": "2023-05-26T12:15:17.293Z"
   },
   {
    "duration": 430,
    "start_time": "2023-05-26T12:15:17.307Z"
   },
   {
    "duration": 1209,
    "start_time": "2023-05-26T12:15:17.746Z"
   },
   {
    "duration": 3527,
    "start_time": "2023-05-26T12:15:18.957Z"
   },
   {
    "duration": 3,
    "start_time": "2023-05-26T12:15:22.487Z"
   },
   {
    "duration": 298,
    "start_time": "2023-05-26T12:15:22.492Z"
   },
   {
    "duration": 222,
    "start_time": "2023-05-26T12:15:22.792Z"
   },
   {
    "duration": 237,
    "start_time": "2023-05-26T12:15:23.016Z"
   },
   {
    "duration": 195,
    "start_time": "2023-05-26T12:15:23.255Z"
   },
   {
    "duration": 208,
    "start_time": "2023-05-26T12:15:23.452Z"
   },
   {
    "duration": 257,
    "start_time": "2023-05-26T12:15:23.662Z"
   },
   {
    "duration": 275,
    "start_time": "2023-05-26T12:15:23.921Z"
   },
   {
    "duration": 184,
    "start_time": "2023-05-26T12:15:24.198Z"
   },
   {
    "duration": 259,
    "start_time": "2023-05-26T12:15:24.384Z"
   },
   {
    "duration": 8,
    "start_time": "2023-05-26T12:15:24.644Z"
   },
   {
    "duration": 370,
    "start_time": "2023-05-26T12:15:24.654Z"
   },
   {
    "duration": 4,
    "start_time": "2023-05-26T12:15:25.026Z"
   },
   {
    "duration": 15,
    "start_time": "2023-05-26T12:15:25.032Z"
   },
   {
    "duration": 5,
    "start_time": "2023-05-26T12:15:25.048Z"
   },
   {
    "duration": 13,
    "start_time": "2023-05-26T12:15:25.054Z"
   },
   {
    "duration": 5,
    "start_time": "2023-05-26T12:15:25.069Z"
   },
   {
    "duration": 14,
    "start_time": "2023-05-26T12:15:25.076Z"
   },
   {
    "duration": 105,
    "start_time": "2023-05-26T12:15:25.091Z"
   },
   {
    "duration": 26,
    "start_time": "2023-05-26T12:15:25.199Z"
   },
   {
    "duration": 31,
    "start_time": "2023-05-26T12:15:25.227Z"
   },
   {
    "duration": 13,
    "start_time": "2023-05-26T12:15:25.260Z"
   },
   {
    "duration": 143,
    "start_time": "2023-05-26T12:15:25.275Z"
   },
   {
    "duration": 15,
    "start_time": "2023-05-26T12:18:37.993Z"
   },
   {
    "duration": 14,
    "start_time": "2023-05-26T12:18:54.609Z"
   },
   {
    "duration": 374,
    "start_time": "2023-05-26T12:21:29.400Z"
   },
   {
    "duration": 39,
    "start_time": "2023-05-26T12:21:29.776Z"
   },
   {
    "duration": 19,
    "start_time": "2023-05-26T12:21:29.816Z"
   },
   {
    "duration": 34,
    "start_time": "2023-05-26T12:21:29.836Z"
   },
   {
    "duration": 23,
    "start_time": "2023-05-26T12:21:29.873Z"
   },
   {
    "duration": 15,
    "start_time": "2023-05-26T12:21:29.897Z"
   },
   {
    "duration": 22,
    "start_time": "2023-05-26T12:21:29.914Z"
   },
   {
    "duration": 9,
    "start_time": "2023-05-26T12:21:29.937Z"
   },
   {
    "duration": 19,
    "start_time": "2023-05-26T12:21:29.948Z"
   },
   {
    "duration": 28,
    "start_time": "2023-05-26T12:21:29.969Z"
   },
   {
    "duration": 74,
    "start_time": "2023-05-26T12:21:29.999Z"
   },
   {
    "duration": 23,
    "start_time": "2023-05-26T12:21:30.075Z"
   },
   {
    "duration": 40,
    "start_time": "2023-05-26T12:21:30.099Z"
   },
   {
    "duration": 54,
    "start_time": "2023-05-26T12:21:30.142Z"
   },
   {
    "duration": 18,
    "start_time": "2023-05-26T12:21:30.198Z"
   },
   {
    "duration": 27,
    "start_time": "2023-05-26T12:21:30.217Z"
   },
   {
    "duration": 49,
    "start_time": "2023-05-26T12:21:30.246Z"
   },
   {
    "duration": 40,
    "start_time": "2023-05-26T12:21:30.297Z"
   },
   {
    "duration": 5337,
    "start_time": "2023-05-26T12:21:30.338Z"
   },
   {
    "duration": 1051,
    "start_time": "2023-05-26T12:21:35.678Z"
   },
   {
    "duration": 21,
    "start_time": "2023-05-26T12:21:36.730Z"
   },
   {
    "duration": 37,
    "start_time": "2023-05-26T12:21:36.752Z"
   },
   {
    "duration": 33,
    "start_time": "2023-05-26T12:21:36.791Z"
   },
   {
    "duration": 13,
    "start_time": "2023-05-26T12:21:36.826Z"
   },
   {
    "duration": 38,
    "start_time": "2023-05-26T12:21:36.841Z"
   },
   {
    "duration": 15,
    "start_time": "2023-05-26T12:21:36.881Z"
   },
   {
    "duration": 57,
    "start_time": "2023-05-26T12:21:36.898Z"
   },
   {
    "duration": 41,
    "start_time": "2023-05-26T12:21:36.957Z"
   },
   {
    "duration": 22,
    "start_time": "2023-05-26T12:21:37.000Z"
   },
   {
    "duration": 46,
    "start_time": "2023-05-26T12:21:37.024Z"
   },
   {
    "duration": 37,
    "start_time": "2023-05-26T12:21:37.072Z"
   },
   {
    "duration": 24,
    "start_time": "2023-05-26T12:21:37.111Z"
   },
   {
    "duration": 46,
    "start_time": "2023-05-26T12:21:37.137Z"
   },
   {
    "duration": 10,
    "start_time": "2023-05-26T12:21:37.184Z"
   },
   {
    "duration": 44,
    "start_time": "2023-05-26T12:21:37.196Z"
   },
   {
    "duration": 25,
    "start_time": "2023-05-26T12:21:37.242Z"
   },
   {
    "duration": 24,
    "start_time": "2023-05-26T12:21:37.270Z"
   },
   {
    "duration": 46,
    "start_time": "2023-05-26T12:21:37.297Z"
   },
   {
    "duration": 49,
    "start_time": "2023-05-26T12:21:37.344Z"
   },
   {
    "duration": 15,
    "start_time": "2023-05-26T12:21:37.395Z"
   },
   {
    "duration": 26,
    "start_time": "2023-05-26T12:21:37.414Z"
   },
   {
    "duration": 28,
    "start_time": "2023-05-26T12:21:37.441Z"
   },
   {
    "duration": 21,
    "start_time": "2023-05-26T12:21:37.471Z"
   },
   {
    "duration": 12,
    "start_time": "2023-05-26T12:21:37.494Z"
   },
   {
    "duration": 28,
    "start_time": "2023-05-26T12:21:37.508Z"
   },
   {
    "duration": 20,
    "start_time": "2023-05-26T12:21:37.537Z"
   },
   {
    "duration": 442,
    "start_time": "2023-05-26T12:21:37.559Z"
   },
   {
    "duration": 1096,
    "start_time": "2023-05-26T12:21:38.002Z"
   },
   {
    "duration": 3544,
    "start_time": "2023-05-26T12:21:39.100Z"
   },
   {
    "duration": 3,
    "start_time": "2023-05-26T12:21:42.647Z"
   },
   {
    "duration": 272,
    "start_time": "2023-05-26T12:21:42.652Z"
   },
   {
    "duration": 243,
    "start_time": "2023-05-26T12:21:42.926Z"
   },
   {
    "duration": 226,
    "start_time": "2023-05-26T12:21:43.172Z"
   },
   {
    "duration": 201,
    "start_time": "2023-05-26T12:21:43.400Z"
   },
   {
    "duration": 221,
    "start_time": "2023-05-26T12:21:43.603Z"
   },
   {
    "duration": 290,
    "start_time": "2023-05-26T12:21:43.827Z"
   },
   {
    "duration": 277,
    "start_time": "2023-05-26T12:21:44.119Z"
   },
   {
    "duration": 179,
    "start_time": "2023-05-26T12:21:44.398Z"
   },
   {
    "duration": 255,
    "start_time": "2023-05-26T12:21:44.579Z"
   },
   {
    "duration": 16,
    "start_time": "2023-05-26T12:21:44.835Z"
   },
   {
    "duration": 405,
    "start_time": "2023-05-26T12:21:44.853Z"
   },
   {
    "duration": 6,
    "start_time": "2023-05-26T12:21:45.260Z"
   },
   {
    "duration": 21,
    "start_time": "2023-05-26T12:21:45.267Z"
   },
   {
    "duration": 20,
    "start_time": "2023-05-26T12:21:45.290Z"
   },
   {
    "duration": 32,
    "start_time": "2023-05-26T12:21:45.312Z"
   },
   {
    "duration": 21,
    "start_time": "2023-05-26T12:21:45.346Z"
   },
   {
    "duration": 26,
    "start_time": "2023-05-26T12:21:45.369Z"
   },
   {
    "duration": 135,
    "start_time": "2023-05-26T12:21:45.397Z"
   },
   {
    "duration": 27,
    "start_time": "2023-05-26T12:21:45.534Z"
   },
   {
    "duration": 20,
    "start_time": "2023-05-26T12:21:45.563Z"
   },
   {
    "duration": 35,
    "start_time": "2023-05-26T12:21:45.586Z"
   },
   {
    "duration": 137,
    "start_time": "2023-05-26T12:21:45.623Z"
   },
   {
    "duration": 19,
    "start_time": "2023-05-26T12:22:51.876Z"
   },
   {
    "duration": 16,
    "start_time": "2023-05-26T12:24:32.692Z"
   },
   {
    "duration": 420,
    "start_time": "2023-05-26T12:24:43.890Z"
   },
   {
    "duration": 47,
    "start_time": "2023-05-26T12:24:44.312Z"
   },
   {
    "duration": 28,
    "start_time": "2023-05-26T12:24:44.361Z"
   },
   {
    "duration": 20,
    "start_time": "2023-05-26T12:24:44.391Z"
   },
   {
    "duration": 27,
    "start_time": "2023-05-26T12:24:44.413Z"
   },
   {
    "duration": 11,
    "start_time": "2023-05-26T12:24:44.442Z"
   },
   {
    "duration": 46,
    "start_time": "2023-05-26T12:24:44.455Z"
   },
   {
    "duration": 10,
    "start_time": "2023-05-26T12:24:44.503Z"
   },
   {
    "duration": 23,
    "start_time": "2023-05-26T12:24:44.515Z"
   },
   {
    "duration": 23,
    "start_time": "2023-05-26T12:24:44.540Z"
   },
   {
    "duration": 26,
    "start_time": "2023-05-26T12:24:44.565Z"
   },
   {
    "duration": 13,
    "start_time": "2023-05-26T12:24:44.594Z"
   },
   {
    "duration": 29,
    "start_time": "2023-05-26T12:24:44.609Z"
   },
   {
    "duration": 37,
    "start_time": "2023-05-26T12:24:44.642Z"
   },
   {
    "duration": 20,
    "start_time": "2023-05-26T12:24:44.681Z"
   },
   {
    "duration": 36,
    "start_time": "2023-05-26T12:24:44.703Z"
   },
   {
    "duration": 37,
    "start_time": "2023-05-26T12:24:44.740Z"
   },
   {
    "duration": 32,
    "start_time": "2023-05-26T12:24:44.779Z"
   },
   {
    "duration": 5091,
    "start_time": "2023-05-26T12:24:44.812Z"
   },
   {
    "duration": 959,
    "start_time": "2023-05-26T12:24:49.906Z"
   },
   {
    "duration": 17,
    "start_time": "2023-05-26T12:24:50.867Z"
   },
   {
    "duration": 28,
    "start_time": "2023-05-26T12:24:50.886Z"
   },
   {
    "duration": 11,
    "start_time": "2023-05-26T12:24:50.916Z"
   },
   {
    "duration": 22,
    "start_time": "2023-05-26T12:24:50.928Z"
   },
   {
    "duration": 24,
    "start_time": "2023-05-26T12:24:50.952Z"
   },
   {
    "duration": 22,
    "start_time": "2023-05-26T12:24:50.979Z"
   },
   {
    "duration": 40,
    "start_time": "2023-05-26T12:24:51.003Z"
   },
   {
    "duration": 20,
    "start_time": "2023-05-26T12:24:51.045Z"
   },
   {
    "duration": 33,
    "start_time": "2023-05-26T12:24:51.066Z"
   },
   {
    "duration": 27,
    "start_time": "2023-05-26T12:24:51.101Z"
   },
   {
    "duration": 35,
    "start_time": "2023-05-26T12:24:51.130Z"
   },
   {
    "duration": 28,
    "start_time": "2023-05-26T12:24:51.167Z"
   },
   {
    "duration": 32,
    "start_time": "2023-05-26T12:24:51.198Z"
   },
   {
    "duration": 13,
    "start_time": "2023-05-26T12:24:51.232Z"
   },
   {
    "duration": 44,
    "start_time": "2023-05-26T12:24:51.248Z"
   },
   {
    "duration": 36,
    "start_time": "2023-05-26T12:24:51.294Z"
   },
   {
    "duration": 41,
    "start_time": "2023-05-26T12:24:51.333Z"
   },
   {
    "duration": 41,
    "start_time": "2023-05-26T12:24:51.376Z"
   },
   {
    "duration": 20,
    "start_time": "2023-05-26T12:24:51.420Z"
   },
   {
    "duration": 75,
    "start_time": "2023-05-26T12:24:51.442Z"
   },
   {
    "duration": 18,
    "start_time": "2023-05-26T12:24:51.523Z"
   },
   {
    "duration": 43,
    "start_time": "2023-05-26T12:24:51.543Z"
   },
   {
    "duration": 10,
    "start_time": "2023-05-26T12:24:51.588Z"
   },
   {
    "duration": 27,
    "start_time": "2023-05-26T12:24:51.600Z"
   },
   {
    "duration": 26,
    "start_time": "2023-05-26T12:24:51.629Z"
   },
   {
    "duration": 39,
    "start_time": "2023-05-26T12:24:51.657Z"
   },
   {
    "duration": 445,
    "start_time": "2023-05-26T12:24:51.698Z"
   },
   {
    "duration": 1351,
    "start_time": "2023-05-26T12:24:52.147Z"
   },
   {
    "duration": 3636,
    "start_time": "2023-05-26T12:24:53.500Z"
   },
   {
    "duration": 3,
    "start_time": "2023-05-26T12:24:57.138Z"
   },
   {
    "duration": 215,
    "start_time": "2023-05-26T12:24:57.143Z"
   },
   {
    "duration": 187,
    "start_time": "2023-05-26T12:24:57.360Z"
   },
   {
    "duration": 197,
    "start_time": "2023-05-26T12:24:57.549Z"
   },
   {
    "duration": 200,
    "start_time": "2023-05-26T12:24:57.748Z"
   },
   {
    "duration": 262,
    "start_time": "2023-05-26T12:24:57.950Z"
   },
   {
    "duration": 288,
    "start_time": "2023-05-26T12:24:58.214Z"
   },
   {
    "duration": 250,
    "start_time": "2023-05-26T12:24:58.503Z"
   },
   {
    "duration": 171,
    "start_time": "2023-05-26T12:24:58.755Z"
   },
   {
    "duration": 271,
    "start_time": "2023-05-26T12:24:58.928Z"
   },
   {
    "duration": 10,
    "start_time": "2023-05-26T12:24:59.201Z"
   },
   {
    "duration": 425,
    "start_time": "2023-05-26T12:24:59.213Z"
   },
   {
    "duration": 5,
    "start_time": "2023-05-26T12:24:59.645Z"
   },
   {
    "duration": 18,
    "start_time": "2023-05-26T12:24:59.652Z"
   },
   {
    "duration": 7,
    "start_time": "2023-05-26T12:24:59.673Z"
   },
   {
    "duration": 22,
    "start_time": "2023-05-26T12:24:59.682Z"
   },
   {
    "duration": 5,
    "start_time": "2023-05-26T12:24:59.707Z"
   },
   {
    "duration": 14,
    "start_time": "2023-05-26T12:24:59.714Z"
   },
   {
    "duration": 111,
    "start_time": "2023-05-26T12:24:59.730Z"
   },
   {
    "duration": 43,
    "start_time": "2023-05-26T12:24:59.846Z"
   },
   {
    "duration": 25,
    "start_time": "2023-05-26T12:24:59.891Z"
   },
   {
    "duration": 35,
    "start_time": "2023-05-26T12:24:59.918Z"
   },
   {
    "duration": 48,
    "start_time": "2023-05-26T12:24:59.955Z"
   },
   {
    "duration": 9,
    "start_time": "2023-05-26T12:28:30.913Z"
   },
   {
    "duration": 133,
    "start_time": "2023-05-26T12:29:23.536Z"
   },
   {
    "duration": 20,
    "start_time": "2023-05-26T12:29:55.379Z"
   },
   {
    "duration": 15,
    "start_time": "2023-05-26T12:30:13.353Z"
   },
   {
    "duration": 16,
    "start_time": "2023-05-26T12:30:19.336Z"
   },
   {
    "duration": 14,
    "start_time": "2023-05-26T12:30:56.109Z"
   },
   {
    "duration": 4,
    "start_time": "2023-05-26T12:31:32.907Z"
   },
   {
    "duration": 8,
    "start_time": "2023-05-26T12:32:30.887Z"
   },
   {
    "duration": 4,
    "start_time": "2023-05-26T12:32:31.788Z"
   },
   {
    "duration": 2,
    "start_time": "2023-05-26T12:41:07.924Z"
   },
   {
    "duration": 8,
    "start_time": "2023-05-26T14:03:42.796Z"
   },
   {
    "duration": 9,
    "start_time": "2023-05-26T14:09:25.754Z"
   },
   {
    "duration": 3,
    "start_time": "2023-05-26T14:09:35.802Z"
   },
   {
    "duration": 10,
    "start_time": "2023-05-26T14:10:12.208Z"
   },
   {
    "duration": 9,
    "start_time": "2023-05-26T14:10:51.378Z"
   },
   {
    "duration": 14,
    "start_time": "2023-05-26T14:11:04.971Z"
   },
   {
    "duration": 6,
    "start_time": "2023-05-26T14:12:08.849Z"
   },
   {
    "duration": 56,
    "start_time": "2023-05-26T14:12:13.297Z"
   },
   {
    "duration": 446,
    "start_time": "2023-05-26T14:15:17.425Z"
   },
   {
    "duration": 39,
    "start_time": "2023-05-26T14:15:17.873Z"
   },
   {
    "duration": 18,
    "start_time": "2023-05-26T14:15:17.914Z"
   },
   {
    "duration": 19,
    "start_time": "2023-05-26T14:15:17.934Z"
   },
   {
    "duration": 30,
    "start_time": "2023-05-26T14:15:17.956Z"
   },
   {
    "duration": 21,
    "start_time": "2023-05-26T14:15:17.988Z"
   },
   {
    "duration": 34,
    "start_time": "2023-05-26T14:15:18.011Z"
   },
   {
    "duration": 12,
    "start_time": "2023-05-26T14:15:18.048Z"
   },
   {
    "duration": 20,
    "start_time": "2023-05-26T14:15:18.062Z"
   },
   {
    "duration": 31,
    "start_time": "2023-05-26T14:15:18.084Z"
   },
   {
    "duration": 26,
    "start_time": "2023-05-26T14:15:18.116Z"
   },
   {
    "duration": 11,
    "start_time": "2023-05-26T14:15:18.144Z"
   },
   {
    "duration": 22,
    "start_time": "2023-05-26T14:15:18.157Z"
   },
   {
    "duration": 30,
    "start_time": "2023-05-26T14:15:18.183Z"
   },
   {
    "duration": 17,
    "start_time": "2023-05-26T14:15:18.215Z"
   },
   {
    "duration": 8,
    "start_time": "2023-05-26T14:15:18.246Z"
   },
   {
    "duration": 17,
    "start_time": "2023-05-26T14:15:18.256Z"
   },
   {
    "duration": 85,
    "start_time": "2023-05-26T14:15:18.275Z"
   },
   {
    "duration": 5464,
    "start_time": "2023-05-26T14:15:18.362Z"
   },
   {
    "duration": 1002,
    "start_time": "2023-05-26T14:15:23.829Z"
   },
   {
    "duration": 24,
    "start_time": "2023-05-26T14:15:24.833Z"
   },
   {
    "duration": 26,
    "start_time": "2023-05-26T14:15:24.859Z"
   },
   {
    "duration": 50,
    "start_time": "2023-05-26T14:15:24.887Z"
   },
   {
    "duration": 21,
    "start_time": "2023-05-26T14:15:24.939Z"
   },
   {
    "duration": 48,
    "start_time": "2023-05-26T14:15:24.962Z"
   },
   {
    "duration": 19,
    "start_time": "2023-05-26T14:15:25.012Z"
   },
   {
    "duration": 53,
    "start_time": "2023-05-26T14:15:25.033Z"
   },
   {
    "duration": 19,
    "start_time": "2023-05-26T14:15:25.089Z"
   },
   {
    "duration": 24,
    "start_time": "2023-05-26T14:15:25.110Z"
   },
   {
    "duration": 30,
    "start_time": "2023-05-26T14:15:25.136Z"
   },
   {
    "duration": 20,
    "start_time": "2023-05-26T14:15:25.168Z"
   },
   {
    "duration": 48,
    "start_time": "2023-05-26T14:15:25.190Z"
   },
   {
    "duration": 50,
    "start_time": "2023-05-26T14:15:25.239Z"
   },
   {
    "duration": 38,
    "start_time": "2023-05-26T14:15:25.290Z"
   },
   {
    "duration": 85,
    "start_time": "2023-05-26T14:15:25.330Z"
   },
   {
    "duration": 20,
    "start_time": "2023-05-26T14:15:25.417Z"
   },
   {
    "duration": 11,
    "start_time": "2023-05-26T14:15:25.439Z"
   },
   {
    "duration": 58,
    "start_time": "2023-05-26T14:15:25.452Z"
   },
   {
    "duration": 29,
    "start_time": "2023-05-26T14:15:25.511Z"
   },
   {
    "duration": 37,
    "start_time": "2023-05-26T14:15:25.541Z"
   },
   {
    "duration": 60,
    "start_time": "2023-05-26T14:15:25.587Z"
   },
   {
    "duration": 77,
    "start_time": "2023-05-26T14:15:25.649Z"
   },
   {
    "duration": 48,
    "start_time": "2023-05-26T14:15:25.728Z"
   },
   {
    "duration": 43,
    "start_time": "2023-05-26T14:15:25.778Z"
   },
   {
    "duration": 33,
    "start_time": "2023-05-26T14:15:25.823Z"
   },
   {
    "duration": 39,
    "start_time": "2023-05-26T14:15:25.858Z"
   },
   {
    "duration": 480,
    "start_time": "2023-05-26T14:15:25.899Z"
   },
   {
    "duration": 1211,
    "start_time": "2023-05-26T14:15:26.382Z"
   },
   {
    "duration": 3409,
    "start_time": "2023-05-26T14:15:27.595Z"
   },
   {
    "duration": 2,
    "start_time": "2023-05-26T14:15:31.007Z"
   },
   {
    "duration": 308,
    "start_time": "2023-05-26T14:15:31.011Z"
   },
   {
    "duration": 213,
    "start_time": "2023-05-26T14:15:31.320Z"
   },
   {
    "duration": 258,
    "start_time": "2023-05-26T14:15:31.536Z"
   },
   {
    "duration": 248,
    "start_time": "2023-05-26T14:15:31.797Z"
   },
   {
    "duration": 243,
    "start_time": "2023-05-26T14:15:32.047Z"
   },
   {
    "duration": 292,
    "start_time": "2023-05-26T14:15:32.292Z"
   },
   {
    "duration": 303,
    "start_time": "2023-05-26T14:15:32.590Z"
   },
   {
    "duration": 228,
    "start_time": "2023-05-26T14:15:32.895Z"
   },
   {
    "duration": 257,
    "start_time": "2023-05-26T14:15:33.125Z"
   },
   {
    "duration": 10,
    "start_time": "2023-05-26T14:15:33.384Z"
   },
   {
    "duration": 465,
    "start_time": "2023-05-26T14:15:33.397Z"
   },
   {
    "duration": 5,
    "start_time": "2023-05-26T14:15:33.864Z"
   },
   {
    "duration": 55,
    "start_time": "2023-05-26T14:15:33.871Z"
   },
   {
    "duration": 12,
    "start_time": "2023-05-26T14:15:33.928Z"
   },
   {
    "duration": 46,
    "start_time": "2023-05-26T14:15:33.942Z"
   },
   {
    "duration": 17,
    "start_time": "2023-05-26T14:15:33.990Z"
   },
   {
    "duration": 62,
    "start_time": "2023-05-26T14:15:34.009Z"
   },
   {
    "duration": 47,
    "start_time": "2023-05-26T14:15:34.073Z"
   },
   {
    "duration": 26,
    "start_time": "2023-05-26T14:15:34.122Z"
   },
   {
    "duration": 34,
    "start_time": "2023-05-26T14:15:34.151Z"
   },
   {
    "duration": 28,
    "start_time": "2023-05-26T14:15:34.188Z"
   },
   {
    "duration": 40,
    "start_time": "2023-05-26T14:15:34.218Z"
   },
   {
    "duration": 25,
    "start_time": "2023-05-26T14:15:34.260Z"
   },
   {
    "duration": 50,
    "start_time": "2023-05-26T14:15:34.288Z"
   },
   {
    "duration": 30,
    "start_time": "2023-05-26T14:15:34.340Z"
   },
   {
    "duration": 26,
    "start_time": "2023-05-26T14:15:34.372Z"
   },
   {
    "duration": 190,
    "start_time": "2023-05-26T14:15:34.401Z"
   },
   {
    "duration": 0,
    "start_time": "2023-05-26T14:15:34.593Z"
   },
   {
    "duration": 0,
    "start_time": "2023-05-26T14:15:34.594Z"
   },
   {
    "duration": 0,
    "start_time": "2023-05-26T14:15:34.596Z"
   },
   {
    "duration": 47,
    "start_time": "2023-05-26T14:17:10.755Z"
   },
   {
    "duration": 5,
    "start_time": "2023-05-26T14:22:04.357Z"
   },
   {
    "duration": 6,
    "start_time": "2023-05-26T14:22:04.829Z"
   },
   {
    "duration": 6,
    "start_time": "2023-05-26T14:22:07.750Z"
   },
   {
    "duration": 47,
    "start_time": "2023-05-26T14:22:10.351Z"
   },
   {
    "duration": 49,
    "start_time": "2023-05-26T14:22:31.015Z"
   },
   {
    "duration": 54,
    "start_time": "2023-05-26T14:22:36.552Z"
   },
   {
    "duration": 53,
    "start_time": "2023-05-26T14:23:22.981Z"
   },
   {
    "duration": 13,
    "start_time": "2023-05-26T14:29:07.199Z"
   },
   {
    "duration": 5,
    "start_time": "2023-05-26T14:29:44.704Z"
   },
   {
    "duration": 481,
    "start_time": "2023-05-26T14:30:16.292Z"
   },
   {
    "duration": 505,
    "start_time": "2023-05-26T14:32:10.940Z"
   },
   {
    "duration": 40,
    "start_time": "2023-05-26T14:32:11.448Z"
   },
   {
    "duration": 24,
    "start_time": "2023-05-26T14:32:11.490Z"
   },
   {
    "duration": 28,
    "start_time": "2023-05-26T14:32:11.516Z"
   },
   {
    "duration": 24,
    "start_time": "2023-05-26T14:32:11.546Z"
   },
   {
    "duration": 28,
    "start_time": "2023-05-26T14:32:11.571Z"
   },
   {
    "duration": 61,
    "start_time": "2023-05-26T14:32:11.601Z"
   },
   {
    "duration": 31,
    "start_time": "2023-05-26T14:32:11.664Z"
   },
   {
    "duration": 45,
    "start_time": "2023-05-26T14:32:11.697Z"
   },
   {
    "duration": 30,
    "start_time": "2023-05-26T14:32:11.746Z"
   },
   {
    "duration": 45,
    "start_time": "2023-05-26T14:32:11.778Z"
   },
   {
    "duration": 17,
    "start_time": "2023-05-26T14:32:11.825Z"
   },
   {
    "duration": 40,
    "start_time": "2023-05-26T14:32:11.844Z"
   },
   {
    "duration": 66,
    "start_time": "2023-05-26T14:32:11.886Z"
   },
   {
    "duration": 22,
    "start_time": "2023-05-26T14:32:11.954Z"
   },
   {
    "duration": 19,
    "start_time": "2023-05-26T14:32:11.978Z"
   },
   {
    "duration": 29,
    "start_time": "2023-05-26T14:32:11.999Z"
   },
   {
    "duration": 32,
    "start_time": "2023-05-26T14:32:12.030Z"
   },
   {
    "duration": 5277,
    "start_time": "2023-05-26T14:32:12.064Z"
   },
   {
    "duration": 978,
    "start_time": "2023-05-26T14:32:17.344Z"
   },
   {
    "duration": 15,
    "start_time": "2023-05-26T14:32:18.324Z"
   },
   {
    "duration": 12,
    "start_time": "2023-05-26T14:32:18.346Z"
   },
   {
    "duration": 11,
    "start_time": "2023-05-26T14:32:18.359Z"
   },
   {
    "duration": 7,
    "start_time": "2023-05-26T14:32:18.372Z"
   },
   {
    "duration": 27,
    "start_time": "2023-05-26T14:32:18.380Z"
   },
   {
    "duration": 7,
    "start_time": "2023-05-26T14:32:18.409Z"
   },
   {
    "duration": 49,
    "start_time": "2023-05-26T14:32:18.418Z"
   },
   {
    "duration": 19,
    "start_time": "2023-05-26T14:32:18.471Z"
   },
   {
    "duration": 16,
    "start_time": "2023-05-26T14:32:18.492Z"
   },
   {
    "duration": 48,
    "start_time": "2023-05-26T14:32:18.510Z"
   },
   {
    "duration": 13,
    "start_time": "2023-05-26T14:32:18.560Z"
   },
   {
    "duration": 12,
    "start_time": "2023-05-26T14:32:18.575Z"
   },
   {
    "duration": 22,
    "start_time": "2023-05-26T14:32:18.589Z"
   },
   {
    "duration": 4,
    "start_time": "2023-05-26T14:32:18.614Z"
   },
   {
    "duration": 43,
    "start_time": "2023-05-26T14:32:18.620Z"
   },
   {
    "duration": 12,
    "start_time": "2023-05-26T14:32:18.664Z"
   },
   {
    "duration": 6,
    "start_time": "2023-05-26T14:32:18.678Z"
   },
   {
    "duration": 33,
    "start_time": "2023-05-26T14:32:18.686Z"
   },
   {
    "duration": 21,
    "start_time": "2023-05-26T14:32:18.746Z"
   },
   {
    "duration": 5,
    "start_time": "2023-05-26T14:32:18.769Z"
   },
   {
    "duration": 12,
    "start_time": "2023-05-26T14:32:18.776Z"
   },
   {
    "duration": 27,
    "start_time": "2023-05-26T14:32:18.790Z"
   },
   {
    "duration": 27,
    "start_time": "2023-05-26T14:32:18.819Z"
   },
   {
    "duration": 5,
    "start_time": "2023-05-26T14:32:18.848Z"
   },
   {
    "duration": 12,
    "start_time": "2023-05-26T14:32:18.855Z"
   },
   {
    "duration": 20,
    "start_time": "2023-05-26T14:32:18.869Z"
   },
   {
    "duration": 450,
    "start_time": "2023-05-26T14:32:18.891Z"
   },
   {
    "duration": 1183,
    "start_time": "2023-05-26T14:32:19.345Z"
   },
   {
    "duration": 3654,
    "start_time": "2023-05-26T14:32:20.530Z"
   },
   {
    "duration": 4,
    "start_time": "2023-05-26T14:32:24.186Z"
   },
   {
    "duration": 334,
    "start_time": "2023-05-26T14:32:24.192Z"
   },
   {
    "duration": 186,
    "start_time": "2023-05-26T14:32:24.528Z"
   },
   {
    "duration": 204,
    "start_time": "2023-05-26T14:32:24.716Z"
   },
   {
    "duration": 193,
    "start_time": "2023-05-26T14:32:24.921Z"
   },
   {
    "duration": 233,
    "start_time": "2023-05-26T14:32:25.115Z"
   },
   {
    "duration": 256,
    "start_time": "2023-05-26T14:32:25.350Z"
   },
   {
    "duration": 249,
    "start_time": "2023-05-26T14:32:25.608Z"
   },
   {
    "duration": 171,
    "start_time": "2023-05-26T14:32:25.859Z"
   },
   {
    "duration": 242,
    "start_time": "2023-05-26T14:32:26.031Z"
   },
   {
    "duration": 9,
    "start_time": "2023-05-26T14:32:26.276Z"
   },
   {
    "duration": 301,
    "start_time": "2023-05-26T14:32:26.287Z"
   },
   {
    "duration": 5,
    "start_time": "2023-05-26T14:32:26.591Z"
   },
   {
    "duration": 16,
    "start_time": "2023-05-26T14:32:26.598Z"
   },
   {
    "duration": 16,
    "start_time": "2023-05-26T14:32:26.615Z"
   },
   {
    "duration": 30,
    "start_time": "2023-05-26T14:32:26.633Z"
   },
   {
    "duration": 18,
    "start_time": "2023-05-26T14:32:26.665Z"
   },
   {
    "duration": 23,
    "start_time": "2023-05-26T14:32:26.685Z"
   },
   {
    "duration": 78,
    "start_time": "2023-05-26T14:32:26.709Z"
   },
   {
    "duration": 0,
    "start_time": "2023-05-26T14:32:26.788Z"
   },
   {
    "duration": 0,
    "start_time": "2023-05-26T14:32:26.790Z"
   },
   {
    "duration": 0,
    "start_time": "2023-05-26T14:32:26.791Z"
   },
   {
    "duration": 0,
    "start_time": "2023-05-26T14:32:26.792Z"
   },
   {
    "duration": 0,
    "start_time": "2023-05-26T14:32:26.793Z"
   },
   {
    "duration": 0,
    "start_time": "2023-05-26T14:32:26.794Z"
   },
   {
    "duration": 0,
    "start_time": "2023-05-26T14:32:26.796Z"
   },
   {
    "duration": 107,
    "start_time": "2023-05-26T14:32:56.615Z"
   },
   {
    "duration": 3,
    "start_time": "2023-05-26T14:32:58.284Z"
   },
   {
    "duration": 17,
    "start_time": "2023-05-26T14:32:59.405Z"
   },
   {
    "duration": 13,
    "start_time": "2023-05-26T14:33:00.040Z"
   },
   {
    "duration": 46,
    "start_time": "2023-05-26T14:33:00.883Z"
   },
   {
    "duration": 5,
    "start_time": "2023-05-26T14:33:01.653Z"
   },
   {
    "duration": 135,
    "start_time": "2023-05-26T14:33:02.993Z"
   },
   {
    "duration": 1011,
    "start_time": "2023-05-26T14:33:14.737Z"
   },
   {
    "duration": 875,
    "start_time": "2023-05-26T14:35:58.788Z"
   },
   {
    "duration": 75,
    "start_time": "2023-05-26T14:37:56.109Z"
   },
   {
    "duration": 36,
    "start_time": "2023-05-26T14:38:03.138Z"
   },
   {
    "duration": 11,
    "start_time": "2023-05-26T14:39:40.454Z"
   },
   {
    "duration": 40,
    "start_time": "2023-05-26T14:39:47.254Z"
   },
   {
    "duration": 333,
    "start_time": "2023-05-26T14:40:15.183Z"
   },
   {
    "duration": 11,
    "start_time": "2023-05-26T14:47:19.469Z"
   },
   {
    "duration": 12,
    "start_time": "2023-05-26T14:50:28.014Z"
   },
   {
    "duration": 11,
    "start_time": "2023-05-26T14:50:48.806Z"
   },
   {
    "duration": 24,
    "start_time": "2023-05-26T14:52:48.071Z"
   },
   {
    "duration": 6,
    "start_time": "2023-05-26T14:53:06.607Z"
   },
   {
    "duration": 16,
    "start_time": "2023-05-26T14:53:15.955Z"
   },
   {
    "duration": 12,
    "start_time": "2023-05-26T14:59:19.699Z"
   },
   {
    "duration": 5,
    "start_time": "2023-05-26T14:59:20.194Z"
   },
   {
    "duration": 413,
    "start_time": "2023-05-26T14:59:28.605Z"
   },
   {
    "duration": 48,
    "start_time": "2023-05-26T14:59:29.020Z"
   },
   {
    "duration": 23,
    "start_time": "2023-05-26T14:59:29.071Z"
   },
   {
    "duration": 13,
    "start_time": "2023-05-26T14:59:29.097Z"
   },
   {
    "duration": 35,
    "start_time": "2023-05-26T14:59:29.112Z"
   },
   {
    "duration": 10,
    "start_time": "2023-05-26T14:59:29.149Z"
   },
   {
    "duration": 27,
    "start_time": "2023-05-26T14:59:29.160Z"
   },
   {
    "duration": 13,
    "start_time": "2023-05-26T14:59:29.190Z"
   },
   {
    "duration": 18,
    "start_time": "2023-05-26T14:59:29.205Z"
   },
   {
    "duration": 36,
    "start_time": "2023-05-26T14:59:29.226Z"
   },
   {
    "duration": 27,
    "start_time": "2023-05-26T14:59:29.264Z"
   },
   {
    "duration": 11,
    "start_time": "2023-05-26T14:59:29.293Z"
   },
   {
    "duration": 20,
    "start_time": "2023-05-26T14:59:29.306Z"
   },
   {
    "duration": 45,
    "start_time": "2023-05-26T14:59:29.327Z"
   },
   {
    "duration": 19,
    "start_time": "2023-05-26T14:59:29.373Z"
   },
   {
    "duration": 7,
    "start_time": "2023-05-26T14:59:29.394Z"
   },
   {
    "duration": 14,
    "start_time": "2023-05-26T14:59:29.403Z"
   },
   {
    "duration": 29,
    "start_time": "2023-05-26T14:59:29.418Z"
   },
   {
    "duration": 5199,
    "start_time": "2023-05-26T14:59:29.449Z"
   },
   {
    "duration": 1069,
    "start_time": "2023-05-26T14:59:34.651Z"
   },
   {
    "duration": 14,
    "start_time": "2023-05-26T14:59:35.721Z"
   },
   {
    "duration": 37,
    "start_time": "2023-05-26T14:59:35.737Z"
   },
   {
    "duration": 11,
    "start_time": "2023-05-26T14:59:35.776Z"
   },
   {
    "duration": 7,
    "start_time": "2023-05-26T14:59:35.789Z"
   },
   {
    "duration": 35,
    "start_time": "2023-05-26T14:59:35.798Z"
   },
   {
    "duration": 13,
    "start_time": "2023-05-26T14:59:35.835Z"
   },
   {
    "duration": 45,
    "start_time": "2023-05-26T14:59:35.850Z"
   },
   {
    "duration": 47,
    "start_time": "2023-05-26T14:59:35.901Z"
   },
   {
    "duration": 19,
    "start_time": "2023-05-26T14:59:35.950Z"
   },
   {
    "duration": 51,
    "start_time": "2023-05-26T14:59:35.970Z"
   },
   {
    "duration": 48,
    "start_time": "2023-05-26T14:59:36.023Z"
   },
   {
    "duration": 15,
    "start_time": "2023-05-26T14:59:36.073Z"
   },
   {
    "duration": 51,
    "start_time": "2023-05-26T14:59:36.090Z"
   },
   {
    "duration": 5,
    "start_time": "2023-05-26T14:59:36.142Z"
   },
   {
    "duration": 32,
    "start_time": "2023-05-26T14:59:36.149Z"
   },
   {
    "duration": 11,
    "start_time": "2023-05-26T14:59:36.184Z"
   },
   {
    "duration": 7,
    "start_time": "2023-05-26T14:59:36.197Z"
   },
   {
    "duration": 40,
    "start_time": "2023-05-26T14:59:36.206Z"
   },
   {
    "duration": 25,
    "start_time": "2023-05-26T14:59:36.248Z"
   },
   {
    "duration": 6,
    "start_time": "2023-05-26T14:59:36.276Z"
   },
   {
    "duration": 41,
    "start_time": "2023-05-26T14:59:36.284Z"
   },
   {
    "duration": 21,
    "start_time": "2023-05-26T14:59:36.327Z"
   },
   {
    "duration": 16,
    "start_time": "2023-05-26T14:59:36.351Z"
   },
   {
    "duration": 28,
    "start_time": "2023-05-26T14:59:36.370Z"
   },
   {
    "duration": 11,
    "start_time": "2023-05-26T14:59:36.400Z"
   },
   {
    "duration": 12,
    "start_time": "2023-05-26T14:59:36.413Z"
   },
   {
    "duration": 8,
    "start_time": "2023-05-26T14:59:36.427Z"
   },
   {
    "duration": 22,
    "start_time": "2023-05-26T14:59:36.436Z"
   },
   {
    "duration": 391,
    "start_time": "2023-05-26T14:59:36.460Z"
   },
   {
    "duration": 1165,
    "start_time": "2023-05-26T14:59:36.853Z"
   },
   {
    "duration": 3509,
    "start_time": "2023-05-26T14:59:38.019Z"
   },
   {
    "duration": 3,
    "start_time": "2023-05-26T14:59:41.530Z"
   },
   {
    "duration": 312,
    "start_time": "2023-05-26T14:59:41.534Z"
   },
   {
    "duration": 214,
    "start_time": "2023-05-26T14:59:41.848Z"
   },
   {
    "duration": 204,
    "start_time": "2023-05-26T14:59:42.065Z"
   },
   {
    "duration": 224,
    "start_time": "2023-05-26T14:59:42.271Z"
   },
   {
    "duration": 295,
    "start_time": "2023-05-26T14:59:42.497Z"
   },
   {
    "duration": 342,
    "start_time": "2023-05-26T14:59:42.795Z"
   },
   {
    "duration": 259,
    "start_time": "2023-05-26T14:59:43.146Z"
   },
   {
    "duration": 176,
    "start_time": "2023-05-26T14:59:43.407Z"
   },
   {
    "duration": 247,
    "start_time": "2023-05-26T14:59:43.585Z"
   },
   {
    "duration": 15,
    "start_time": "2023-05-26T14:59:43.834Z"
   },
   {
    "duration": 375,
    "start_time": "2023-05-26T14:59:43.851Z"
   },
   {
    "duration": 5,
    "start_time": "2023-05-26T14:59:44.227Z"
   },
   {
    "duration": 14,
    "start_time": "2023-05-26T14:59:44.233Z"
   },
   {
    "duration": 5,
    "start_time": "2023-05-26T14:59:44.248Z"
   },
   {
    "duration": 15,
    "start_time": "2023-05-26T14:59:44.254Z"
   },
   {
    "duration": 6,
    "start_time": "2023-05-26T14:59:44.270Z"
   },
   {
    "duration": 26,
    "start_time": "2023-05-26T14:59:44.278Z"
   },
   {
    "duration": 190,
    "start_time": "2023-05-26T14:59:44.306Z"
   },
   {
    "duration": 3,
    "start_time": "2023-05-26T14:59:44.498Z"
   },
   {
    "duration": 18,
    "start_time": "2023-05-26T14:59:44.503Z"
   },
   {
    "duration": 26,
    "start_time": "2023-05-26T14:59:44.523Z"
   },
   {
    "duration": 56,
    "start_time": "2023-05-26T14:59:44.551Z"
   },
   {
    "duration": 2,
    "start_time": "2023-05-26T14:59:44.609Z"
   },
   {
    "duration": 18,
    "start_time": "2023-05-26T14:59:44.614Z"
   },
   {
    "duration": 10,
    "start_time": "2023-05-26T14:59:44.646Z"
   },
   {
    "duration": 15,
    "start_time": "2023-05-26T14:59:44.659Z"
   },
   {
    "duration": 12884,
    "start_time": "2023-05-26T14:59:44.676Z"
   },
   {
    "duration": 25665,
    "start_time": "2023-05-26T16:33:28.281Z"
   },
   {
    "duration": 163,
    "start_time": "2023-05-26T17:12:07.005Z"
   },
   {
    "duration": 26,
    "start_time": "2023-05-26T17:12:37.379Z"
   },
   {
    "duration": 134167,
    "start_time": "2023-05-26T17:12:40.909Z"
   },
   {
    "duration": 27,
    "start_time": "2023-05-26T18:27:40.427Z"
   },
   {
    "duration": 5,
    "start_time": "2023-05-26T18:28:53.922Z"
   },
   {
    "duration": 19,
    "start_time": "2023-05-26T18:28:58.044Z"
   },
   {
    "duration": 19,
    "start_time": "2023-05-26T18:29:06.058Z"
   },
   {
    "duration": 80,
    "start_time": "2023-05-26T18:36:30.524Z"
   },
   {
    "duration": 4,
    "start_time": "2023-05-26T18:36:40.703Z"
   },
   {
    "duration": 3,
    "start_time": "2023-05-26T18:36:42.340Z"
   },
   {
    "duration": 814,
    "start_time": "2023-05-26T18:36:52.846Z"
   },
   {
    "duration": 4,
    "start_time": "2023-05-26T18:50:44.503Z"
   },
   {
    "duration": 4,
    "start_time": "2023-05-26T18:50:49.441Z"
   },
   {
    "duration": 5395,
    "start_time": "2023-05-26T18:50:54.416Z"
   },
   {
    "duration": 5,
    "start_time": "2023-05-26T18:52:05.911Z"
   },
   {
    "duration": 527603,
    "start_time": "2023-05-26T18:52:31.118Z"
   },
   {
    "duration": 5,
    "start_time": "2023-05-26T19:01:18.723Z"
   },
   {
    "duration": 4,
    "start_time": "2023-05-26T19:01:53.837Z"
   },
   {
    "duration": 3,
    "start_time": "2023-05-26T19:03:13.875Z"
   },
   {
    "duration": 8395,
    "start_time": "2023-05-26T19:03:15.642Z"
   },
   {
    "duration": 6,
    "start_time": "2023-05-26T19:03:38.789Z"
   },
   {
    "duration": 51076,
    "start_time": "2023-05-26T19:03:39.725Z"
   },
   {
    "duration": 13,
    "start_time": "2023-05-26T19:04:41.295Z"
   },
   {
    "duration": 656,
    "start_time": "2023-05-26T19:05:12.745Z"
   },
   {
    "duration": 668,
    "start_time": "2023-05-26T19:05:44.016Z"
   },
   {
    "duration": 907,
    "start_time": "2023-05-26T19:05:52.593Z"
   },
   {
    "duration": 757,
    "start_time": "2023-05-26T19:06:16.989Z"
   },
   {
    "duration": 744,
    "start_time": "2023-05-26T19:06:27.590Z"
   },
   {
    "duration": 3,
    "start_time": "2023-05-26T19:17:36.082Z"
   },
   {
    "duration": 4,
    "start_time": "2023-05-26T19:17:36.512Z"
   },
   {
    "duration": 4666,
    "start_time": "2023-05-26T19:17:37.247Z"
   },
   {
    "duration": 10,
    "start_time": "2023-05-26T19:17:56.002Z"
   },
   {
    "duration": 5492,
    "start_time": "2023-05-26T19:17:56.790Z"
   },
   {
    "duration": 12,
    "start_time": "2023-05-26T19:18:02.286Z"
   },
   {
    "duration": 497,
    "start_time": "2023-05-26T19:18:06.035Z"
   },
   {
    "duration": 65,
    "start_time": "2023-05-26T19:18:06.534Z"
   },
   {
    "duration": 26,
    "start_time": "2023-05-26T19:18:06.601Z"
   },
   {
    "duration": 14,
    "start_time": "2023-05-26T19:18:06.629Z"
   },
   {
    "duration": 88,
    "start_time": "2023-05-26T19:18:06.645Z"
   },
   {
    "duration": 221,
    "start_time": "2023-05-26T19:18:06.735Z"
   },
   {
    "duration": 64,
    "start_time": "2023-05-26T19:18:06.960Z"
   },
   {
    "duration": 14,
    "start_time": "2023-05-26T19:18:07.026Z"
   },
   {
    "duration": 52,
    "start_time": "2023-05-26T19:18:07.042Z"
   },
   {
    "duration": 30,
    "start_time": "2023-05-26T19:18:07.098Z"
   },
   {
    "duration": 51,
    "start_time": "2023-05-26T19:18:07.129Z"
   },
   {
    "duration": 16,
    "start_time": "2023-05-26T19:18:07.183Z"
   },
   {
    "duration": 24,
    "start_time": "2023-05-26T19:18:07.201Z"
   },
   {
    "duration": 50,
    "start_time": "2023-05-26T19:18:07.228Z"
   },
   {
    "duration": 19,
    "start_time": "2023-05-26T19:18:07.280Z"
   },
   {
    "duration": 9,
    "start_time": "2023-05-26T19:18:07.301Z"
   },
   {
    "duration": 20,
    "start_time": "2023-05-26T19:18:07.312Z"
   },
   {
    "duration": 57,
    "start_time": "2023-05-26T19:18:07.334Z"
   },
   {
    "duration": 6193,
    "start_time": "2023-05-26T19:18:07.394Z"
   },
   {
    "duration": 1031,
    "start_time": "2023-05-26T19:18:13.589Z"
   },
   {
    "duration": 13,
    "start_time": "2023-05-26T19:18:14.622Z"
   },
   {
    "duration": 25,
    "start_time": "2023-05-26T19:18:14.636Z"
   },
   {
    "duration": 30,
    "start_time": "2023-05-26T19:18:14.662Z"
   },
   {
    "duration": 5,
    "start_time": "2023-05-26T19:18:14.694Z"
   },
   {
    "duration": 28,
    "start_time": "2023-05-26T19:18:14.701Z"
   },
   {
    "duration": 12,
    "start_time": "2023-05-26T19:18:14.731Z"
   },
   {
    "duration": 53,
    "start_time": "2023-05-26T19:18:14.744Z"
   },
   {
    "duration": 25,
    "start_time": "2023-05-26T19:18:14.804Z"
   },
   {
    "duration": 23,
    "start_time": "2023-05-26T19:18:14.831Z"
   },
   {
    "duration": 29,
    "start_time": "2023-05-26T19:18:14.864Z"
   },
   {
    "duration": 14,
    "start_time": "2023-05-26T19:18:14.895Z"
   },
   {
    "duration": 22,
    "start_time": "2023-05-26T19:18:14.910Z"
   },
   {
    "duration": 46,
    "start_time": "2023-05-26T19:18:14.934Z"
   },
   {
    "duration": 17,
    "start_time": "2023-05-26T19:18:14.982Z"
   },
   {
    "duration": 68,
    "start_time": "2023-05-26T19:18:15.001Z"
   },
   {
    "duration": 39,
    "start_time": "2023-05-26T19:18:15.070Z"
   },
   {
    "duration": 20,
    "start_time": "2023-05-26T19:18:15.111Z"
   },
   {
    "duration": 63,
    "start_time": "2023-05-26T19:18:15.132Z"
   },
   {
    "duration": 27,
    "start_time": "2023-05-26T19:18:15.197Z"
   },
   {
    "duration": 8,
    "start_time": "2023-05-26T19:18:15.226Z"
   },
   {
    "duration": 34,
    "start_time": "2023-05-26T19:18:15.235Z"
   },
   {
    "duration": 19,
    "start_time": "2023-05-26T19:18:15.271Z"
   },
   {
    "duration": 16,
    "start_time": "2023-05-26T19:18:15.292Z"
   },
   {
    "duration": 22,
    "start_time": "2023-05-26T19:18:15.309Z"
   },
   {
    "duration": 12,
    "start_time": "2023-05-26T19:18:15.333Z"
   },
   {
    "duration": 36,
    "start_time": "2023-05-26T19:18:15.351Z"
   },
   {
    "duration": 9,
    "start_time": "2023-05-26T19:18:15.389Z"
   },
   {
    "duration": 22,
    "start_time": "2023-05-26T19:18:15.399Z"
   },
   {
    "duration": 446,
    "start_time": "2023-05-26T19:18:15.423Z"
   },
   {
    "duration": 1337,
    "start_time": "2023-05-26T19:18:15.871Z"
   },
   {
    "duration": 3964,
    "start_time": "2023-05-26T19:18:17.210Z"
   },
   {
    "duration": 4,
    "start_time": "2023-05-26T19:18:21.176Z"
   },
   {
    "duration": 260,
    "start_time": "2023-05-26T19:18:21.181Z"
   },
   {
    "duration": 243,
    "start_time": "2023-05-26T19:18:21.443Z"
   },
   {
    "duration": 237,
    "start_time": "2023-05-26T19:18:21.688Z"
   },
   {
    "duration": 241,
    "start_time": "2023-05-26T19:18:21.928Z"
   },
   {
    "duration": 255,
    "start_time": "2023-05-26T19:18:22.171Z"
   },
   {
    "duration": 354,
    "start_time": "2023-05-26T19:18:22.429Z"
   },
   {
    "duration": 312,
    "start_time": "2023-05-26T19:18:22.786Z"
   },
   {
    "duration": 207,
    "start_time": "2023-05-26T19:18:23.100Z"
   },
   {
    "duration": 295,
    "start_time": "2023-05-26T19:18:23.309Z"
   },
   {
    "duration": 12,
    "start_time": "2023-05-26T19:18:23.606Z"
   },
   {
    "duration": 472,
    "start_time": "2023-05-26T19:18:23.620Z"
   },
   {
    "duration": 6,
    "start_time": "2023-05-26T19:18:24.094Z"
   },
   {
    "duration": 10,
    "start_time": "2023-05-26T19:18:24.102Z"
   },
   {
    "duration": 11,
    "start_time": "2023-05-26T19:18:24.114Z"
   },
   {
    "duration": 25,
    "start_time": "2023-05-26T19:18:24.126Z"
   },
   {
    "duration": 7,
    "start_time": "2023-05-26T19:18:24.154Z"
   },
   {
    "duration": 26,
    "start_time": "2023-05-26T19:18:24.163Z"
   },
   {
    "duration": 37,
    "start_time": "2023-05-26T19:18:24.191Z"
   },
   {
    "duration": 4036,
    "start_time": "2023-05-26T19:18:24.230Z"
   },
   {
    "duration": 6,
    "start_time": "2023-05-26T19:18:28.269Z"
   },
   {
    "duration": 363124,
    "start_time": "2023-05-26T19:18:28.276Z"
   },
   {
    "duration": 4,
    "start_time": "2023-05-26T19:24:31.402Z"
   },
   {
    "duration": 23,
    "start_time": "2023-05-26T19:24:31.408Z"
   },
   {
    "duration": 143,
    "start_time": "2023-05-26T19:24:31.432Z"
   },
   {
    "duration": 3,
    "start_time": "2023-05-26T19:24:31.577Z"
   },
   {
    "duration": 46,
    "start_time": "2023-05-26T19:24:31.582Z"
   },
   {
    "duration": 53,
    "start_time": "2023-05-26T19:24:31.630Z"
   },
   {
    "duration": 71,
    "start_time": "2023-05-26T19:24:31.685Z"
   },
   {
    "duration": 3,
    "start_time": "2023-05-26T19:24:31.761Z"
   },
   {
    "duration": 29,
    "start_time": "2023-05-26T19:24:31.771Z"
   },
   {
    "duration": 34,
    "start_time": "2023-05-26T19:24:31.803Z"
   },
   {
    "duration": 25921,
    "start_time": "2023-05-26T19:24:31.839Z"
   },
   {
    "duration": 178,
    "start_time": "2023-05-26T19:24:57.845Z"
   },
   {
    "duration": 0,
    "start_time": "2023-05-26T19:24:58.025Z"
   },
   {
    "duration": 0,
    "start_time": "2023-05-26T19:24:58.027Z"
   },
   {
    "duration": 0,
    "start_time": "2023-05-26T19:24:58.028Z"
   },
   {
    "duration": 0,
    "start_time": "2023-05-26T19:24:58.029Z"
   },
   {
    "duration": 0,
    "start_time": "2023-05-26T19:24:58.030Z"
   },
   {
    "duration": 0,
    "start_time": "2023-05-26T19:24:58.031Z"
   },
   {
    "duration": 0,
    "start_time": "2023-05-26T19:24:58.032Z"
   },
   {
    "duration": 62986,
    "start_time": "2023-05-26T19:29:44.040Z"
   },
   {
    "duration": 113,
    "start_time": "2023-05-27T09:00:29.091Z"
   },
   {
    "duration": 19,
    "start_time": "2023-05-27T09:12:19.159Z"
   },
   {
    "duration": 35,
    "start_time": "2023-05-27T09:28:57.763Z"
   },
   {
    "duration": 11751,
    "start_time": "2023-05-27T09:30:10.823Z"
   },
   {
    "duration": 669,
    "start_time": "2023-05-27T09:31:22.341Z"
   },
   {
    "duration": 95,
    "start_time": "2023-05-27T09:31:23.017Z"
   },
   {
    "duration": 107,
    "start_time": "2023-05-27T09:31:23.119Z"
   },
   {
    "duration": 165,
    "start_time": "2023-05-27T09:31:23.234Z"
   },
   {
    "duration": 187,
    "start_time": "2023-05-27T09:31:23.407Z"
   },
   {
    "duration": 51,
    "start_time": "2023-05-27T09:31:23.601Z"
   },
   {
    "duration": 133,
    "start_time": "2023-05-27T09:31:23.658Z"
   },
   {
    "duration": 34,
    "start_time": "2023-05-27T09:31:23.795Z"
   },
   {
    "duration": 39,
    "start_time": "2023-05-27T09:31:23.835Z"
   },
   {
    "duration": 48,
    "start_time": "2023-05-27T09:31:23.884Z"
   },
   {
    "duration": 118,
    "start_time": "2023-05-27T09:31:23.939Z"
   },
   {
    "duration": 129,
    "start_time": "2023-05-27T09:31:24.063Z"
   },
   {
    "duration": 43,
    "start_time": "2023-05-27T09:31:24.199Z"
   },
   {
    "duration": 179,
    "start_time": "2023-05-27T09:31:24.245Z"
   },
   {
    "duration": 97,
    "start_time": "2023-05-27T09:31:24.430Z"
   },
   {
    "duration": 44,
    "start_time": "2023-05-27T09:31:24.534Z"
   },
   {
    "duration": 72,
    "start_time": "2023-05-27T09:31:24.581Z"
   },
   {
    "duration": 69,
    "start_time": "2023-05-27T09:31:24.655Z"
   },
   {
    "duration": 8646,
    "start_time": "2023-05-27T09:31:24.726Z"
   },
   {
    "duration": 1528,
    "start_time": "2023-05-27T09:31:33.376Z"
   },
   {
    "duration": 20,
    "start_time": "2023-05-27T09:31:34.911Z"
   },
   {
    "duration": 107,
    "start_time": "2023-05-27T09:31:34.937Z"
   },
   {
    "duration": 84,
    "start_time": "2023-05-27T09:31:35.046Z"
   },
   {
    "duration": 107,
    "start_time": "2023-05-27T09:31:35.140Z"
   },
   {
    "duration": 142,
    "start_time": "2023-05-27T09:31:35.253Z"
   },
   {
    "duration": 58,
    "start_time": "2023-05-27T09:31:35.397Z"
   },
   {
    "duration": 133,
    "start_time": "2023-05-27T09:31:35.461Z"
   },
   {
    "duration": 106,
    "start_time": "2023-05-27T09:31:35.620Z"
   },
   {
    "duration": 204,
    "start_time": "2023-05-27T09:31:35.737Z"
   },
   {
    "duration": 126,
    "start_time": "2023-05-27T09:31:35.951Z"
   },
   {
    "duration": 73,
    "start_time": "2023-05-27T09:31:36.081Z"
   },
   {
    "duration": 104,
    "start_time": "2023-05-27T09:31:36.162Z"
   },
   {
    "duration": 130,
    "start_time": "2023-05-27T09:31:36.280Z"
   },
   {
    "duration": 21,
    "start_time": "2023-05-27T09:31:36.414Z"
   },
   {
    "duration": 107,
    "start_time": "2023-05-27T09:31:36.442Z"
   },
   {
    "duration": 43,
    "start_time": "2023-05-27T09:31:36.563Z"
   },
   {
    "duration": 78,
    "start_time": "2023-05-27T09:31:36.610Z"
   },
   {
    "duration": 107,
    "start_time": "2023-05-27T09:31:36.698Z"
   },
   {
    "duration": 119,
    "start_time": "2023-05-27T09:31:36.820Z"
   },
   {
    "duration": 50,
    "start_time": "2023-05-27T09:31:36.946Z"
   },
   {
    "duration": 119,
    "start_time": "2023-05-27T09:31:37.006Z"
   },
   {
    "duration": 43,
    "start_time": "2023-05-27T09:31:37.134Z"
   },
   {
    "duration": 142,
    "start_time": "2023-05-27T09:31:37.183Z"
   },
   {
    "duration": 139,
    "start_time": "2023-05-27T09:31:37.328Z"
   },
   {
    "duration": 55,
    "start_time": "2023-05-27T09:31:37.473Z"
   },
   {
    "duration": 153,
    "start_time": "2023-05-27T09:31:37.531Z"
   },
   {
    "duration": 145,
    "start_time": "2023-05-27T09:31:37.689Z"
   },
   {
    "duration": 217,
    "start_time": "2023-05-27T09:31:37.838Z"
   },
   {
    "duration": 762,
    "start_time": "2023-05-27T09:31:38.061Z"
   },
   {
    "duration": 1976,
    "start_time": "2023-05-27T09:31:38.829Z"
   },
   {
    "duration": 5075,
    "start_time": "2023-05-27T09:31:40.822Z"
   },
   {
    "duration": 14,
    "start_time": "2023-05-27T09:31:45.900Z"
   },
   {
    "duration": 511,
    "start_time": "2023-05-27T09:31:45.917Z"
   },
   {
    "duration": 379,
    "start_time": "2023-05-27T09:31:46.435Z"
   },
   {
    "duration": 414,
    "start_time": "2023-05-27T09:31:46.816Z"
   },
   {
    "duration": 306,
    "start_time": "2023-05-27T09:31:47.236Z"
   },
   {
    "duration": 364,
    "start_time": "2023-05-27T09:31:47.546Z"
   },
   {
    "duration": 501,
    "start_time": "2023-05-27T09:31:47.925Z"
   },
   {
    "duration": 383,
    "start_time": "2023-05-27T09:31:48.433Z"
   },
   {
    "duration": 259,
    "start_time": "2023-05-27T09:31:48.819Z"
   },
   {
    "duration": 363,
    "start_time": "2023-05-27T09:31:49.085Z"
   },
   {
    "duration": 15,
    "start_time": "2023-05-27T09:31:49.455Z"
   },
   {
    "duration": 667,
    "start_time": "2023-05-27T09:31:49.476Z"
   },
   {
    "duration": 11,
    "start_time": "2023-05-27T09:31:50.149Z"
   },
   {
    "duration": 97,
    "start_time": "2023-05-27T09:31:50.166Z"
   },
   {
    "duration": 177,
    "start_time": "2023-05-27T09:31:50.273Z"
   },
   {
    "duration": 222,
    "start_time": "2023-05-27T09:31:50.452Z"
   },
   {
    "duration": 51,
    "start_time": "2023-05-27T09:31:50.679Z"
   },
   {
    "duration": 44,
    "start_time": "2023-05-27T09:31:50.733Z"
   },
   {
    "duration": 143,
    "start_time": "2023-05-27T09:31:50.781Z"
   },
   {
    "duration": 480,
    "start_time": "2023-05-27T09:31:50.927Z"
   },
   {
    "duration": 5,
    "start_time": "2023-05-27T09:31:51.408Z"
   },
   {
    "duration": 358,
    "start_time": "2023-05-27T09:31:51.416Z"
   },
   {
    "duration": 17,
    "start_time": "2023-05-27T09:31:51.776Z"
   },
   {
    "duration": 0,
    "start_time": "2023-05-27T09:31:51.796Z"
   },
   {
    "duration": 0,
    "start_time": "2023-05-27T09:31:51.798Z"
   },
   {
    "duration": 0,
    "start_time": "2023-05-27T09:31:51.800Z"
   },
   {
    "duration": 0,
    "start_time": "2023-05-27T09:31:51.801Z"
   },
   {
    "duration": 0,
    "start_time": "2023-05-27T09:31:51.802Z"
   },
   {
    "duration": 0,
    "start_time": "2023-05-27T09:31:51.804Z"
   },
   {
    "duration": 0,
    "start_time": "2023-05-27T09:31:51.805Z"
   },
   {
    "duration": 0,
    "start_time": "2023-05-27T09:31:51.807Z"
   },
   {
    "duration": 0,
    "start_time": "2023-05-27T09:31:51.809Z"
   },
   {
    "duration": 0,
    "start_time": "2023-05-27T09:31:51.810Z"
   },
   {
    "duration": 0,
    "start_time": "2023-05-27T09:31:51.812Z"
   },
   {
    "duration": 0,
    "start_time": "2023-05-27T09:31:51.813Z"
   },
   {
    "duration": 0,
    "start_time": "2023-05-27T09:31:51.815Z"
   },
   {
    "duration": 0,
    "start_time": "2023-05-27T09:31:51.816Z"
   },
   {
    "duration": 0,
    "start_time": "2023-05-27T09:31:51.818Z"
   },
   {
    "duration": 0,
    "start_time": "2023-05-27T09:31:51.822Z"
   },
   {
    "duration": 0,
    "start_time": "2023-05-27T09:31:51.824Z"
   },
   {
    "duration": 0,
    "start_time": "2023-05-27T09:31:51.826Z"
   },
   {
    "duration": 0,
    "start_time": "2023-05-27T09:31:51.827Z"
   },
   {
    "duration": 32739,
    "start_time": "2023-05-27T09:32:46.593Z"
   },
   {
    "duration": 996027,
    "start_time": "2023-05-27T09:43:34.916Z"
   },
   {
    "duration": 51,
    "start_time": "2023-05-27T14:02:47.236Z"
   },
   {
    "duration": 419,
    "start_time": "2023-05-27T14:04:46.386Z"
   },
   {
    "duration": 141,
    "start_time": "2023-05-27T14:04:46.807Z"
   },
   {
    "duration": 20,
    "start_time": "2023-05-27T14:04:46.949Z"
   },
   {
    "duration": 13,
    "start_time": "2023-05-27T14:04:46.971Z"
   },
   {
    "duration": 14,
    "start_time": "2023-05-27T14:04:46.986Z"
   },
   {
    "duration": 10,
    "start_time": "2023-05-27T14:04:47.001Z"
   },
   {
    "duration": 55,
    "start_time": "2023-05-27T14:04:47.012Z"
   },
   {
    "duration": 9,
    "start_time": "2023-05-27T14:04:47.069Z"
   },
   {
    "duration": 12,
    "start_time": "2023-05-27T14:04:47.080Z"
   },
   {
    "duration": 12,
    "start_time": "2023-05-27T14:04:47.096Z"
   },
   {
    "duration": 166,
    "start_time": "2023-05-27T14:04:47.110Z"
   },
   {
    "duration": 11,
    "start_time": "2023-05-27T14:04:47.277Z"
   },
   {
    "duration": 20,
    "start_time": "2023-05-27T14:04:47.289Z"
   },
   {
    "duration": 28,
    "start_time": "2023-05-27T14:04:47.312Z"
   },
   {
    "duration": 85,
    "start_time": "2023-05-27T14:04:47.342Z"
   },
   {
    "duration": 7,
    "start_time": "2023-05-27T14:04:47.429Z"
   },
   {
    "duration": 12,
    "start_time": "2023-05-27T14:04:47.438Z"
   },
   {
    "duration": 17,
    "start_time": "2023-05-27T14:04:47.452Z"
   },
   {
    "duration": 10471,
    "start_time": "2023-05-27T14:04:47.471Z"
   },
   {
    "duration": 1180,
    "start_time": "2023-05-27T14:04:57.944Z"
   },
   {
    "duration": 38,
    "start_time": "2023-05-27T14:04:59.126Z"
   },
   {
    "duration": 10,
    "start_time": "2023-05-27T14:04:59.166Z"
   },
   {
    "duration": 13,
    "start_time": "2023-05-27T14:04:59.178Z"
   },
   {
    "duration": 9,
    "start_time": "2023-05-27T14:04:59.193Z"
   },
   {
    "duration": 23,
    "start_time": "2023-05-27T14:04:59.204Z"
   },
   {
    "duration": 21,
    "start_time": "2023-05-27T14:04:59.229Z"
   },
   {
    "duration": 32,
    "start_time": "2023-05-27T14:04:59.252Z"
   },
   {
    "duration": 16,
    "start_time": "2023-05-27T14:04:59.288Z"
   },
   {
    "duration": 14,
    "start_time": "2023-05-27T14:04:59.305Z"
   },
   {
    "duration": 50,
    "start_time": "2023-05-27T14:04:59.321Z"
   },
   {
    "duration": 16,
    "start_time": "2023-05-27T14:04:59.373Z"
   },
   {
    "duration": 6,
    "start_time": "2023-05-27T14:04:59.392Z"
   },
   {
    "duration": 29,
    "start_time": "2023-05-27T14:04:59.400Z"
   },
   {
    "duration": 5,
    "start_time": "2023-05-27T14:04:59.450Z"
   },
   {
    "duration": 22,
    "start_time": "2023-05-27T14:04:59.457Z"
   },
   {
    "duration": 8,
    "start_time": "2023-05-27T14:04:59.481Z"
   },
   {
    "duration": 5,
    "start_time": "2023-05-27T14:04:59.491Z"
   },
   {
    "duration": 24,
    "start_time": "2023-05-27T14:04:59.497Z"
   },
   {
    "duration": 41,
    "start_time": "2023-05-27T14:04:59.522Z"
   },
   {
    "duration": 5,
    "start_time": "2023-05-27T14:04:59.565Z"
   },
   {
    "duration": 44,
    "start_time": "2023-05-27T14:04:59.572Z"
   },
   {
    "duration": 4,
    "start_time": "2023-05-27T14:04:59.618Z"
   },
   {
    "duration": 21,
    "start_time": "2023-05-27T14:04:59.623Z"
   },
   {
    "duration": 27,
    "start_time": "2023-05-27T14:04:59.646Z"
   },
   {
    "duration": 7,
    "start_time": "2023-05-27T14:04:59.675Z"
   },
   {
    "duration": 6,
    "start_time": "2023-05-27T14:04:59.683Z"
   },
   {
    "duration": 16,
    "start_time": "2023-05-27T14:04:59.690Z"
   },
   {
    "duration": 11,
    "start_time": "2023-05-27T14:04:59.708Z"
   },
   {
    "duration": 410,
    "start_time": "2023-05-27T14:04:59.722Z"
   },
   {
    "duration": 1116,
    "start_time": "2023-05-27T14:05:00.134Z"
   },
   {
    "duration": 3479,
    "start_time": "2023-05-27T14:05:01.252Z"
   },
   {
    "duration": 3,
    "start_time": "2023-05-27T14:05:04.732Z"
   },
   {
    "duration": 192,
    "start_time": "2023-05-27T14:05:04.736Z"
   },
   {
    "duration": 208,
    "start_time": "2023-05-27T14:05:04.929Z"
   },
   {
    "duration": 200,
    "start_time": "2023-05-27T14:05:05.139Z"
   },
   {
    "duration": 187,
    "start_time": "2023-05-27T14:05:05.341Z"
   },
   {
    "duration": 206,
    "start_time": "2023-05-27T14:05:05.530Z"
   },
   {
    "duration": 247,
    "start_time": "2023-05-27T14:05:05.737Z"
   },
   {
    "duration": 248,
    "start_time": "2023-05-27T14:05:05.985Z"
   },
   {
    "duration": 164,
    "start_time": "2023-05-27T14:05:06.235Z"
   },
   {
    "duration": 236,
    "start_time": "2023-05-27T14:05:06.400Z"
   },
   {
    "duration": 17,
    "start_time": "2023-05-27T14:05:06.637Z"
   },
   {
    "duration": 429,
    "start_time": "2023-05-27T14:05:06.656Z"
   },
   {
    "duration": 5,
    "start_time": "2023-05-27T14:05:07.087Z"
   },
   {
    "duration": 14,
    "start_time": "2023-05-27T14:05:07.094Z"
   },
   {
    "duration": 7,
    "start_time": "2023-05-27T14:05:07.110Z"
   },
   {
    "duration": 17,
    "start_time": "2023-05-27T14:05:07.119Z"
   },
   {
    "duration": 5,
    "start_time": "2023-05-27T14:05:07.138Z"
   },
   {
    "duration": 3,
    "start_time": "2023-05-27T14:05:07.151Z"
   },
   {
    "duration": 13,
    "start_time": "2023-05-27T14:05:07.156Z"
   },
   {
    "duration": 14964,
    "start_time": "2023-05-27T14:05:07.171Z"
   },
   {
    "duration": 3,
    "start_time": "2023-05-27T14:05:22.137Z"
   },
   {
    "duration": 612014,
    "start_time": "2023-05-27T14:05:22.141Z"
   },
   {
    "duration": 3,
    "start_time": "2023-05-27T14:15:34.157Z"
   },
   {
    "duration": 159,
    "start_time": "2023-05-27T14:15:34.163Z"
   },
   {
    "duration": 0,
    "start_time": "2023-05-27T14:15:34.324Z"
   },
   {
    "duration": 0,
    "start_time": "2023-05-27T14:15:34.326Z"
   },
   {
    "duration": 0,
    "start_time": "2023-05-27T14:15:34.328Z"
   },
   {
    "duration": 0,
    "start_time": "2023-05-27T14:15:34.329Z"
   },
   {
    "duration": 0,
    "start_time": "2023-05-27T14:15:34.330Z"
   },
   {
    "duration": 0,
    "start_time": "2023-05-27T14:15:34.331Z"
   },
   {
    "duration": 0,
    "start_time": "2023-05-27T14:15:34.333Z"
   },
   {
    "duration": 0,
    "start_time": "2023-05-27T14:15:34.349Z"
   },
   {
    "duration": 0,
    "start_time": "2023-05-27T14:15:34.351Z"
   },
   {
    "duration": 0,
    "start_time": "2023-05-27T14:15:34.352Z"
   },
   {
    "duration": 0,
    "start_time": "2023-05-27T14:15:34.353Z"
   },
   {
    "duration": 0,
    "start_time": "2023-05-27T14:15:34.355Z"
   },
   {
    "duration": 15,
    "start_time": "2023-05-27T14:16:38.699Z"
   },
   {
    "duration": 13,
    "start_time": "2023-05-27T14:16:54.712Z"
   },
   {
    "duration": 3,
    "start_time": "2023-05-27T14:20:46.644Z"
   },
   {
    "duration": 221,
    "start_time": "2023-05-27T14:21:06.861Z"
   },
   {
    "duration": 4857,
    "start_time": "2023-05-27T14:22:05.327Z"
   },
   {
    "duration": 302,
    "start_time": "2023-05-27T14:22:10.185Z"
   },
   {
    "duration": 7,
    "start_time": "2023-05-27T14:22:41.392Z"
   },
   {
    "duration": 104,
    "start_time": "2023-05-27T14:22:42.501Z"
   },
   {
    "duration": 2,
    "start_time": "2023-05-27T14:22:43.267Z"
   },
   {
    "duration": 19,
    "start_time": "2023-05-27T14:22:44.036Z"
   },
   {
    "duration": 11,
    "start_time": "2023-05-27T14:22:44.668Z"
   },
   {
    "duration": 35,
    "start_time": "2023-05-27T14:22:45.392Z"
   },
   {
    "duration": 2,
    "start_time": "2023-05-27T14:22:45.604Z"
   },
   {
    "duration": 2,
    "start_time": "2023-05-27T14:22:46.220Z"
   },
   {
    "duration": 23576,
    "start_time": "2023-05-27T14:22:47.077Z"
   },
   {
    "duration": 50,
    "start_time": "2023-05-27T14:27:43.931Z"
   },
   {
    "duration": 52946,
    "start_time": "2023-05-27T14:28:45.636Z"
   },
   {
    "duration": 43,
    "start_time": "2023-05-27T14:29:38.584Z"
   },
   {
    "duration": 4,
    "start_time": "2023-05-27T14:30:15.603Z"
   },
   {
    "duration": 4585,
    "start_time": "2023-05-27T14:30:16.750Z"
   },
   {
    "duration": 10,
    "start_time": "2023-05-27T14:30:21.674Z"
   },
   {
    "duration": 3,
    "start_time": "2023-05-27T14:30:38.860Z"
   },
   {
    "duration": 48,
    "start_time": "2023-05-27T14:30:43.277Z"
   },
   {
    "duration": 4,
    "start_time": "2023-05-27T14:31:11.211Z"
   },
   {
    "duration": 623231,
    "start_time": "2023-05-27T14:31:11.876Z"
   },
   {
    "duration": 48,
    "start_time": "2023-05-27T14:41:35.110Z"
   },
   {
    "duration": 0,
    "start_time": "2023-05-27T14:41:35.160Z"
   },
   {
    "duration": 0,
    "start_time": "2023-05-27T14:41:35.162Z"
   },
   {
    "duration": 22841,
    "start_time": "2023-05-27T14:41:45.218Z"
   },
   {
    "duration": 55129,
    "start_time": "2023-05-27T14:43:08.599Z"
   },
   {
    "duration": 2740,
    "start_time": "2023-05-27T14:44:27.704Z"
   },
   {
    "duration": 18,
    "start_time": "2023-05-27T14:44:33.817Z"
   },
   {
    "duration": 9,
    "start_time": "2023-05-27T14:44:44.588Z"
   },
   {
    "duration": 43,
    "start_time": "2023-05-27T14:45:42.589Z"
   },
   {
    "duration": 54,
    "start_time": "2023-05-27T14:45:55.998Z"
   },
   {
    "duration": 47,
    "start_time": "2023-05-27T14:46:49.072Z"
   },
   {
    "duration": 49,
    "start_time": "2023-05-27T14:47:08.741Z"
   },
   {
    "duration": 6266,
    "start_time": "2023-05-27T14:47:48.285Z"
   },
   {
    "duration": 6169,
    "start_time": "2023-05-27T14:48:28.775Z"
   },
   {
    "duration": 6148,
    "start_time": "2023-05-27T14:49:53.098Z"
   },
   {
    "duration": 33,
    "start_time": "2023-05-27T14:53:28.043Z"
   },
   {
    "duration": 10,
    "start_time": "2023-05-27T14:54:15.427Z"
   },
   {
    "duration": 50,
    "start_time": "2023-05-27T14:54:22.242Z"
   },
   {
    "duration": 3244,
    "start_time": "2023-05-27T14:54:54.787Z"
   },
   {
    "duration": 4,
    "start_time": "2023-05-27T15:00:35.135Z"
   },
   {
    "duration": 4,
    "start_time": "2023-05-27T15:00:36.285Z"
   },
   {
    "duration": 3,
    "start_time": "2023-05-27T15:01:34.342Z"
   },
   {
    "duration": 4,
    "start_time": "2023-05-27T15:01:34.763Z"
   },
   {
    "duration": 5,
    "start_time": "2023-05-27T15:01:35.133Z"
   },
   {
    "duration": 17350,
    "start_time": "2023-05-27T15:01:35.622Z"
   },
   {
    "duration": 5,
    "start_time": "2023-05-27T15:01:52.974Z"
   },
   {
    "duration": 97834,
    "start_time": "2023-05-27T15:01:52.980Z"
   },
   {
    "duration": 10,
    "start_time": "2023-05-27T15:03:30.817Z"
   },
   {
    "duration": 0,
    "start_time": "2023-05-27T15:03:30.828Z"
   },
   {
    "duration": 0,
    "start_time": "2023-05-27T15:03:30.829Z"
   },
   {
    "duration": 0,
    "start_time": "2023-05-27T15:03:30.830Z"
   },
   {
    "duration": 443,
    "start_time": "2023-05-27T15:03:35.559Z"
   },
   {
    "duration": 40,
    "start_time": "2023-05-27T15:03:36.005Z"
   },
   {
    "duration": 19,
    "start_time": "2023-05-27T15:03:36.046Z"
   },
   {
    "duration": 12,
    "start_time": "2023-05-27T15:03:36.067Z"
   },
   {
    "duration": 24,
    "start_time": "2023-05-27T15:03:36.081Z"
   },
   {
    "duration": 25,
    "start_time": "2023-05-27T15:03:36.107Z"
   },
   {
    "duration": 21,
    "start_time": "2023-05-27T15:03:36.134Z"
   },
   {
    "duration": 10,
    "start_time": "2023-05-27T15:03:36.157Z"
   },
   {
    "duration": 13,
    "start_time": "2023-05-27T15:03:36.168Z"
   },
   {
    "duration": 13,
    "start_time": "2023-05-27T15:03:36.185Z"
   },
   {
    "duration": 23,
    "start_time": "2023-05-27T15:03:36.199Z"
   },
   {
    "duration": 31,
    "start_time": "2023-05-27T15:03:36.224Z"
   },
   {
    "duration": 12,
    "start_time": "2023-05-27T15:03:36.256Z"
   },
   {
    "duration": 41,
    "start_time": "2023-05-27T15:03:36.271Z"
   },
   {
    "duration": 20,
    "start_time": "2023-05-27T15:03:36.314Z"
   },
   {
    "duration": 9,
    "start_time": "2023-05-27T15:03:36.351Z"
   },
   {
    "duration": 14,
    "start_time": "2023-05-27T15:03:36.362Z"
   },
   {
    "duration": 22,
    "start_time": "2023-05-27T15:03:36.378Z"
   },
   {
    "duration": 4471,
    "start_time": "2023-05-27T15:03:36.402Z"
   },
   {
    "duration": 947,
    "start_time": "2023-05-27T15:03:40.876Z"
   },
   {
    "duration": 13,
    "start_time": "2023-05-27T15:03:41.825Z"
   },
   {
    "duration": 24,
    "start_time": "2023-05-27T15:03:41.839Z"
   },
   {
    "duration": 14,
    "start_time": "2023-05-27T15:03:41.865Z"
   },
   {
    "duration": 4,
    "start_time": "2023-05-27T15:03:41.881Z"
   },
   {
    "duration": 29,
    "start_time": "2023-05-27T15:03:41.887Z"
   },
   {
    "duration": 6,
    "start_time": "2023-05-27T15:03:41.917Z"
   },
   {
    "duration": 27,
    "start_time": "2023-05-27T15:03:41.953Z"
   },
   {
    "duration": 18,
    "start_time": "2023-05-27T15:03:41.986Z"
   },
   {
    "duration": 14,
    "start_time": "2023-05-27T15:03:42.006Z"
   },
   {
    "duration": 51,
    "start_time": "2023-05-27T15:03:42.022Z"
   },
   {
    "duration": 12,
    "start_time": "2023-05-27T15:03:42.075Z"
   },
   {
    "duration": 5,
    "start_time": "2023-05-27T15:03:42.089Z"
   },
   {
    "duration": 19,
    "start_time": "2023-05-27T15:03:42.096Z"
   },
   {
    "duration": 37,
    "start_time": "2023-05-27T15:03:42.116Z"
   },
   {
    "duration": 42,
    "start_time": "2023-05-27T15:03:42.155Z"
   },
   {
    "duration": 51,
    "start_time": "2023-05-27T15:03:42.199Z"
   },
   {
    "duration": 24,
    "start_time": "2023-05-27T15:03:42.252Z"
   },
   {
    "duration": 59,
    "start_time": "2023-05-27T15:03:42.278Z"
   },
   {
    "duration": 19,
    "start_time": "2023-05-27T15:03:42.339Z"
   },
   {
    "duration": 6,
    "start_time": "2023-05-27T15:03:42.359Z"
   },
   {
    "duration": 25,
    "start_time": "2023-05-27T15:03:42.367Z"
   },
   {
    "duration": 5,
    "start_time": "2023-05-27T15:03:42.394Z"
   },
   {
    "duration": 5,
    "start_time": "2023-05-27T15:03:42.401Z"
   },
   {
    "duration": 44,
    "start_time": "2023-05-27T15:03:42.408Z"
   },
   {
    "duration": 9,
    "start_time": "2023-05-27T15:03:42.454Z"
   },
   {
    "duration": 12,
    "start_time": "2023-05-27T15:03:42.465Z"
   },
   {
    "duration": 8,
    "start_time": "2023-05-27T15:03:42.479Z"
   },
   {
    "duration": 16,
    "start_time": "2023-05-27T15:03:42.488Z"
   },
   {
    "duration": 437,
    "start_time": "2023-05-27T15:03:42.506Z"
   },
   {
    "duration": 1125,
    "start_time": "2023-05-27T15:03:42.945Z"
   },
   {
    "duration": 3440,
    "start_time": "2023-05-27T15:03:44.072Z"
   },
   {
    "duration": 4,
    "start_time": "2023-05-27T15:03:47.514Z"
   },
   {
    "duration": 210,
    "start_time": "2023-05-27T15:03:47.520Z"
   },
   {
    "duration": 188,
    "start_time": "2023-05-27T15:03:47.731Z"
   },
   {
    "duration": 207,
    "start_time": "2023-05-27T15:03:47.921Z"
   },
   {
    "duration": 213,
    "start_time": "2023-05-27T15:03:48.130Z"
   },
   {
    "duration": 236,
    "start_time": "2023-05-27T15:03:48.345Z"
   },
   {
    "duration": 278,
    "start_time": "2023-05-27T15:03:48.583Z"
   },
   {
    "duration": 250,
    "start_time": "2023-05-27T15:03:48.863Z"
   },
   {
    "duration": 166,
    "start_time": "2023-05-27T15:03:49.115Z"
   },
   {
    "duration": 246,
    "start_time": "2023-05-27T15:03:49.283Z"
   },
   {
    "duration": 20,
    "start_time": "2023-05-27T15:03:49.530Z"
   },
   {
    "duration": 407,
    "start_time": "2023-05-27T15:03:49.552Z"
   },
   {
    "duration": 4,
    "start_time": "2023-05-27T15:03:49.961Z"
   },
   {
    "duration": 5,
    "start_time": "2023-05-27T15:03:49.967Z"
   },
   {
    "duration": 4,
    "start_time": "2023-05-27T15:03:49.974Z"
   },
   {
    "duration": 10,
    "start_time": "2023-05-27T15:03:49.980Z"
   },
   {
    "duration": 7,
    "start_time": "2023-05-27T15:03:49.991Z"
   },
   {
    "duration": 6,
    "start_time": "2023-05-27T15:03:50.000Z"
   },
   {
    "duration": 19,
    "start_time": "2023-05-27T15:03:50.008Z"
   },
   {
    "duration": 24,
    "start_time": "2023-05-27T15:03:50.028Z"
   },
   {
    "duration": 15536,
    "start_time": "2023-05-27T15:03:50.054Z"
   },
   {
    "duration": 3,
    "start_time": "2023-05-27T15:04:05.592Z"
   },
   {
    "duration": 623714,
    "start_time": "2023-05-27T15:04:05.597Z"
   },
   {
    "duration": 5,
    "start_time": "2023-05-27T15:14:29.312Z"
   },
   {
    "duration": 5,
    "start_time": "2023-05-27T15:14:29.319Z"
   },
   {
    "duration": 5023,
    "start_time": "2023-05-27T15:14:29.326Z"
   },
   {
    "duration": 367,
    "start_time": "2023-05-27T15:14:34.351Z"
   },
   {
    "duration": 7,
    "start_time": "2023-05-27T15:14:34.720Z"
   },
   {
    "duration": 97,
    "start_time": "2023-05-27T15:14:34.729Z"
   },
   {
    "duration": 3,
    "start_time": "2023-05-27T15:14:34.828Z"
   },
   {
    "duration": 20,
    "start_time": "2023-05-27T15:14:34.849Z"
   },
   {
    "duration": 13,
    "start_time": "2023-05-27T15:14:34.871Z"
   },
   {
    "duration": 40,
    "start_time": "2023-05-27T15:14:34.885Z"
   },
   {
    "duration": 25,
    "start_time": "2023-05-27T15:14:34.926Z"
   },
   {
    "duration": 7,
    "start_time": "2023-05-27T15:14:34.953Z"
   },
   {
    "duration": 16603,
    "start_time": "2023-05-27T15:14:34.962Z"
   },
   {
    "duration": 55179,
    "start_time": "2023-05-27T15:14:51.651Z"
   },
   {
    "duration": 8,
    "start_time": "2023-05-27T15:15:46.833Z"
   },
   {
    "duration": 34,
    "start_time": "2023-05-27T15:15:46.851Z"
   },
   {
    "duration": 5077,
    "start_time": "2023-05-27T15:15:46.888Z"
   },
   {
    "duration": 144,
    "start_time": "2023-05-27T15:15:51.967Z"
   },
   {
    "duration": 1,
    "start_time": "2023-05-27T15:15:52.112Z"
   },
   {
    "duration": 5,
    "start_time": "2023-05-27T15:41:47.508Z"
   },
   {
    "duration": 10,
    "start_time": "2023-05-27T15:42:02.766Z"
   },
   {
    "duration": 130,
    "start_time": "2023-05-27T15:42:49.341Z"
   },
   {
    "duration": 40,
    "start_time": "2023-05-27T15:54:15.831Z"
   },
   {
    "duration": 48,
    "start_time": "2023-05-27T15:54:20.037Z"
   },
   {
    "duration": 52,
    "start_time": "2023-05-27T15:54:28.051Z"
   },
   {
    "duration": 43,
    "start_time": "2023-05-27T15:54:36.386Z"
   },
   {
    "duration": 138,
    "start_time": "2023-05-27T15:55:15.384Z"
   },
   {
    "duration": 45,
    "start_time": "2023-05-27T15:55:30.265Z"
   },
   {
    "duration": 14,
    "start_time": "2023-05-27T15:55:40.861Z"
   },
   {
    "duration": 15,
    "start_time": "2023-05-27T15:56:29.607Z"
   },
   {
    "duration": 15,
    "start_time": "2023-05-27T15:56:35.669Z"
   },
   {
    "duration": 15,
    "start_time": "2023-05-27T15:57:34.994Z"
   },
   {
    "duration": 11,
    "start_time": "2023-05-27T15:57:57.938Z"
   },
   {
    "duration": 2,
    "start_time": "2023-05-27T15:58:59.999Z"
   },
   {
    "duration": 10,
    "start_time": "2023-05-27T16:01:56.441Z"
   },
   {
    "duration": 5,
    "start_time": "2023-05-27T16:02:41.801Z"
   },
   {
    "duration": 6,
    "start_time": "2023-05-27T16:02:48.244Z"
   },
   {
    "duration": 53,
    "start_time": "2023-05-27T16:03:44.372Z"
   },
   {
    "duration": 57,
    "start_time": "2023-05-28T12:56:58.764Z"
   },
   {
    "duration": 3,
    "start_time": "2023-05-28T12:57:08.169Z"
   },
   {
    "duration": 399,
    "start_time": "2023-05-28T13:02:20.908Z"
   },
   {
    "duration": 149,
    "start_time": "2023-05-28T13:02:21.310Z"
   },
   {
    "duration": 22,
    "start_time": "2023-05-28T13:02:21.465Z"
   },
   {
    "duration": 41,
    "start_time": "2023-05-28T13:02:21.490Z"
   },
   {
    "duration": 31,
    "start_time": "2023-05-28T13:02:21.533Z"
   },
   {
    "duration": 29,
    "start_time": "2023-05-28T13:02:21.565Z"
   },
   {
    "duration": 106,
    "start_time": "2023-05-28T13:02:21.595Z"
   },
   {
    "duration": 9,
    "start_time": "2023-05-28T13:02:21.703Z"
   },
   {
    "duration": 38,
    "start_time": "2023-05-28T13:02:21.714Z"
   },
   {
    "duration": 25,
    "start_time": "2023-05-28T13:02:21.755Z"
   },
   {
    "duration": 124,
    "start_time": "2023-05-28T13:02:21.782Z"
   },
   {
    "duration": 10,
    "start_time": "2023-05-28T13:02:21.907Z"
   },
   {
    "duration": 33,
    "start_time": "2023-05-28T13:02:21.919Z"
   },
   {
    "duration": 58,
    "start_time": "2023-05-28T13:02:21.954Z"
   },
   {
    "duration": 66,
    "start_time": "2023-05-28T13:02:22.013Z"
   },
   {
    "duration": 9,
    "start_time": "2023-05-28T13:02:22.081Z"
   },
   {
    "duration": 19,
    "start_time": "2023-05-28T13:02:22.091Z"
   },
   {
    "duration": 47,
    "start_time": "2023-05-28T13:02:22.112Z"
   },
   {
    "duration": 8965,
    "start_time": "2023-05-28T13:02:22.170Z"
   },
   {
    "duration": 1367,
    "start_time": "2023-05-28T13:02:31.137Z"
   },
   {
    "duration": 24,
    "start_time": "2023-05-28T13:02:32.556Z"
   },
   {
    "duration": 14,
    "start_time": "2023-05-28T13:02:32.582Z"
   },
   {
    "duration": 11,
    "start_time": "2023-05-28T13:02:32.598Z"
   },
   {
    "duration": 20,
    "start_time": "2023-05-28T13:02:32.657Z"
   },
   {
    "duration": 33,
    "start_time": "2023-05-28T13:02:32.679Z"
   },
   {
    "duration": 43,
    "start_time": "2023-05-28T13:02:32.714Z"
   },
   {
    "duration": 31,
    "start_time": "2023-05-28T13:02:32.765Z"
   },
   {
    "duration": 71,
    "start_time": "2023-05-28T13:02:32.800Z"
   },
   {
    "duration": 16,
    "start_time": "2023-05-28T13:02:32.873Z"
   },
   {
    "duration": 91,
    "start_time": "2023-05-28T13:02:32.890Z"
   },
   {
    "duration": 14,
    "start_time": "2023-05-28T13:02:32.983Z"
   },
   {
    "duration": 7,
    "start_time": "2023-05-28T13:02:32.998Z"
   },
   {
    "duration": 69,
    "start_time": "2023-05-28T13:02:33.007Z"
   },
   {
    "duration": 4,
    "start_time": "2023-05-28T13:02:33.078Z"
   },
   {
    "duration": 90,
    "start_time": "2023-05-28T13:02:33.083Z"
   },
   {
    "duration": 10,
    "start_time": "2023-05-28T13:02:33.175Z"
   },
   {
    "duration": 15,
    "start_time": "2023-05-28T13:02:33.187Z"
   },
   {
    "duration": 81,
    "start_time": "2023-05-28T13:02:33.204Z"
   },
   {
    "duration": 79,
    "start_time": "2023-05-28T13:02:33.287Z"
   },
   {
    "duration": 5,
    "start_time": "2023-05-28T13:02:33.373Z"
   },
   {
    "duration": 28,
    "start_time": "2023-05-28T13:02:33.380Z"
   },
   {
    "duration": 9,
    "start_time": "2023-05-28T13:02:33.457Z"
   },
   {
    "duration": 6,
    "start_time": "2023-05-28T13:02:33.473Z"
   },
   {
    "duration": 27,
    "start_time": "2023-05-28T13:02:33.481Z"
   },
   {
    "duration": 12,
    "start_time": "2023-05-28T13:02:33.557Z"
   },
   {
    "duration": 8,
    "start_time": "2023-05-28T13:02:33.574Z"
   },
   {
    "duration": 8,
    "start_time": "2023-05-28T13:02:33.583Z"
   },
   {
    "duration": 12,
    "start_time": "2023-05-28T13:02:33.592Z"
   },
   {
    "duration": 659,
    "start_time": "2023-05-28T13:02:33.606Z"
   },
   {
    "duration": 1125,
    "start_time": "2023-05-28T13:02:34.268Z"
   },
   {
    "duration": 3402,
    "start_time": "2023-05-28T13:02:35.395Z"
   },
   {
    "duration": 5,
    "start_time": "2023-05-28T13:02:38.800Z"
   },
   {
    "duration": 295,
    "start_time": "2023-05-28T13:02:38.808Z"
   },
   {
    "duration": 216,
    "start_time": "2023-05-28T13:02:39.105Z"
   },
   {
    "duration": 203,
    "start_time": "2023-05-28T13:02:39.323Z"
   },
   {
    "duration": 205,
    "start_time": "2023-05-28T13:02:39.527Z"
   },
   {
    "duration": 225,
    "start_time": "2023-05-28T13:02:39.734Z"
   },
   {
    "duration": 253,
    "start_time": "2023-05-28T13:02:39.969Z"
   },
   {
    "duration": 249,
    "start_time": "2023-05-28T13:02:40.224Z"
   },
   {
    "duration": 170,
    "start_time": "2023-05-28T13:02:40.475Z"
   },
   {
    "duration": 240,
    "start_time": "2023-05-28T13:02:40.648Z"
   },
   {
    "duration": 8,
    "start_time": "2023-05-28T13:02:40.890Z"
   },
   {
    "duration": 470,
    "start_time": "2023-05-28T13:02:40.900Z"
   },
   {
    "duration": 4,
    "start_time": "2023-05-28T13:02:41.372Z"
   },
   {
    "duration": 7,
    "start_time": "2023-05-28T13:02:41.378Z"
   },
   {
    "duration": 7,
    "start_time": "2023-05-28T13:02:41.386Z"
   },
   {
    "duration": 8,
    "start_time": "2023-05-28T13:02:41.395Z"
   },
   {
    "duration": 5,
    "start_time": "2023-05-28T13:02:41.405Z"
   },
   {
    "duration": 5,
    "start_time": "2023-05-28T13:02:41.411Z"
   },
   {
    "duration": 10,
    "start_time": "2023-05-28T13:02:41.418Z"
   },
   {
    "duration": 4,
    "start_time": "2023-05-28T13:02:41.430Z"
   },
   {
    "duration": 16132,
    "start_time": "2023-05-28T13:02:41.436Z"
   },
   {
    "duration": 3,
    "start_time": "2023-05-28T13:02:57.571Z"
   },
   {
    "duration": 670927,
    "start_time": "2023-05-28T13:02:57.576Z"
   },
   {
    "duration": 4,
    "start_time": "2023-05-28T13:14:08.506Z"
   },
   {
    "duration": 9,
    "start_time": "2023-05-28T13:14:08.512Z"
   },
   {
    "duration": 5257,
    "start_time": "2023-05-28T13:14:08.524Z"
   },
   {
    "duration": 329,
    "start_time": "2023-05-28T13:14:13.783Z"
   },
   {
    "duration": 7,
    "start_time": "2023-05-28T13:14:14.113Z"
   },
   {
    "duration": 105,
    "start_time": "2023-05-28T13:14:14.121Z"
   },
   {
    "duration": 2,
    "start_time": "2023-05-28T13:14:14.228Z"
   },
   {
    "duration": 32,
    "start_time": "2023-05-28T13:14:14.235Z"
   },
   {
    "duration": 12,
    "start_time": "2023-05-28T13:14:14.275Z"
   },
   {
    "duration": 64,
    "start_time": "2023-05-28T13:14:14.289Z"
   },
   {
    "duration": 6,
    "start_time": "2023-05-28T13:14:14.354Z"
   },
   {
    "duration": 10,
    "start_time": "2023-05-28T13:14:14.362Z"
   },
   {
    "duration": 21297,
    "start_time": "2023-05-28T13:14:14.374Z"
   },
   {
    "duration": 56550,
    "start_time": "2023-05-28T13:14:35.674Z"
   },
   {
    "duration": 8,
    "start_time": "2023-05-28T13:15:32.225Z"
   },
   {
    "duration": 5407,
    "start_time": "2023-05-28T13:15:32.234Z"
   },
   {
    "duration": 136,
    "start_time": "2023-05-28T13:15:37.643Z"
   },
   {
    "duration": 18,
    "start_time": "2023-05-28T13:15:37.780Z"
   },
   {
    "duration": 7,
    "start_time": "2023-05-28T13:15:37.800Z"
   },
   {
    "duration": 133,
    "start_time": "2023-05-28T14:23:24.448Z"
   },
   {
    "duration": 13,
    "start_time": "2023-05-28T14:26:39.119Z"
   },
   {
    "duration": 15,
    "start_time": "2023-05-28T14:26:43.719Z"
   },
   {
    "duration": 14,
    "start_time": "2023-05-28T14:27:23.458Z"
   },
   {
    "duration": 5960,
    "start_time": "2023-05-28T14:27:48.780Z"
   },
   {
    "duration": 6264,
    "start_time": "2023-05-28T14:28:05.656Z"
   },
   {
    "duration": 20,
    "start_time": "2023-05-28T14:28:11.923Z"
   },
   {
    "duration": 15110,
    "start_time": "2023-05-28T14:28:22.474Z"
   },
   {
    "duration": 19,
    "start_time": "2023-05-28T14:28:37.586Z"
   },
   {
    "duration": 0,
    "start_time": "2023-05-28T14:28:37.607Z"
   },
   {
    "duration": 21,
    "start_time": "2023-05-28T14:28:58.958Z"
   },
   {
    "duration": 13,
    "start_time": "2023-05-28T14:43:08.350Z"
   },
   {
    "duration": 24,
    "start_time": "2023-05-28T14:45:10.870Z"
   },
   {
    "duration": 14,
    "start_time": "2023-05-28T14:49:50.387Z"
   },
   {
    "duration": 56,
    "start_time": "2023-05-28T15:13:37.916Z"
   },
   {
    "duration": 14,
    "start_time": "2023-05-28T15:13:58.050Z"
   },
   {
    "duration": 5,
    "start_time": "2023-05-28T15:14:23.095Z"
   },
   {
    "duration": 165,
    "start_time": "2023-05-28T15:14:30.676Z"
   },
   {
    "duration": 171,
    "start_time": "2023-05-28T15:15:01.887Z"
   },
   {
    "duration": 11,
    "start_time": "2023-05-28T15:17:11.403Z"
   },
   {
    "duration": 6,
    "start_time": "2023-05-28T15:17:32.606Z"
   },
   {
    "duration": 19,
    "start_time": "2023-05-28T15:17:36.875Z"
   },
   {
    "duration": 170,
    "start_time": "2023-05-28T15:20:12.154Z"
   },
   {
    "duration": 5,
    "start_time": "2023-05-28T15:23:21.754Z"
   },
   {
    "duration": 406,
    "start_time": "2023-05-28T15:25:03.302Z"
   },
   {
    "duration": 39,
    "start_time": "2023-05-28T15:25:03.710Z"
   },
   {
    "duration": 19,
    "start_time": "2023-05-28T15:25:03.750Z"
   },
   {
    "duration": 26,
    "start_time": "2023-05-28T15:25:03.771Z"
   },
   {
    "duration": 13,
    "start_time": "2023-05-28T15:25:03.799Z"
   },
   {
    "duration": 10,
    "start_time": "2023-05-28T15:25:03.813Z"
   },
   {
    "duration": 29,
    "start_time": "2023-05-28T15:25:03.825Z"
   },
   {
    "duration": 10,
    "start_time": "2023-05-28T15:25:03.856Z"
   },
   {
    "duration": 15,
    "start_time": "2023-05-28T15:25:03.868Z"
   },
   {
    "duration": 22,
    "start_time": "2023-05-28T15:25:03.885Z"
   },
   {
    "duration": 22,
    "start_time": "2023-05-28T15:25:03.909Z"
   },
   {
    "duration": 12,
    "start_time": "2023-05-28T15:25:03.932Z"
   },
   {
    "duration": 20,
    "start_time": "2023-05-28T15:25:03.945Z"
   },
   {
    "duration": 45,
    "start_time": "2023-05-28T15:25:03.969Z"
   },
   {
    "duration": 17,
    "start_time": "2023-05-28T15:25:04.016Z"
   },
   {
    "duration": 7,
    "start_time": "2023-05-28T15:25:04.035Z"
   },
   {
    "duration": 17,
    "start_time": "2023-05-28T15:25:04.043Z"
   },
   {
    "duration": 28,
    "start_time": "2023-05-28T15:25:04.062Z"
   },
   {
    "duration": 9601,
    "start_time": "2023-05-28T15:25:04.092Z"
   },
   {
    "duration": 1141,
    "start_time": "2023-05-28T15:25:13.695Z"
   },
   {
    "duration": 22,
    "start_time": "2023-05-28T15:25:14.838Z"
   },
   {
    "duration": 55,
    "start_time": "2023-05-28T15:25:14.862Z"
   },
   {
    "duration": 28,
    "start_time": "2023-05-28T15:25:14.919Z"
   },
   {
    "duration": 5,
    "start_time": "2023-05-28T15:25:14.949Z"
   },
   {
    "duration": 22,
    "start_time": "2023-05-28T15:25:14.956Z"
   },
   {
    "duration": 13,
    "start_time": "2023-05-28T15:25:14.980Z"
   },
   {
    "duration": 77,
    "start_time": "2023-05-28T15:25:14.995Z"
   },
   {
    "duration": 44,
    "start_time": "2023-05-28T15:25:15.074Z"
   },
   {
    "duration": 34,
    "start_time": "2023-05-28T15:25:15.121Z"
   },
   {
    "duration": 62,
    "start_time": "2023-05-28T15:25:15.157Z"
   },
   {
    "duration": 44,
    "start_time": "2023-05-28T15:25:15.221Z"
   },
   {
    "duration": 7,
    "start_time": "2023-05-28T15:25:15.267Z"
   },
   {
    "duration": 29,
    "start_time": "2023-05-28T15:25:15.276Z"
   },
   {
    "duration": 6,
    "start_time": "2023-05-28T15:25:15.306Z"
   },
   {
    "duration": 35,
    "start_time": "2023-05-28T15:25:15.314Z"
   },
   {
    "duration": 21,
    "start_time": "2023-05-28T15:25:15.351Z"
   },
   {
    "duration": 17,
    "start_time": "2023-05-28T15:25:15.374Z"
   },
   {
    "duration": 21,
    "start_time": "2023-05-28T15:25:15.393Z"
   },
   {
    "duration": 30,
    "start_time": "2023-05-28T15:25:15.416Z"
   },
   {
    "duration": 6,
    "start_time": "2023-05-28T15:25:15.448Z"
   },
   {
    "duration": 31,
    "start_time": "2023-05-28T15:25:15.460Z"
   },
   {
    "duration": 5,
    "start_time": "2023-05-28T15:25:15.493Z"
   },
   {
    "duration": 16,
    "start_time": "2023-05-28T15:25:15.500Z"
   },
   {
    "duration": 17,
    "start_time": "2023-05-28T15:25:15.518Z"
   },
   {
    "duration": 8,
    "start_time": "2023-05-28T15:25:15.536Z"
   },
   {
    "duration": 5,
    "start_time": "2023-05-28T15:25:15.556Z"
   },
   {
    "duration": 9,
    "start_time": "2023-05-28T15:25:15.562Z"
   },
   {
    "duration": 12,
    "start_time": "2023-05-28T15:25:15.573Z"
   },
   {
    "duration": 534,
    "start_time": "2023-05-28T15:25:15.587Z"
   },
   {
    "duration": 1094,
    "start_time": "2023-05-28T15:25:16.123Z"
   },
   {
    "duration": 2617,
    "start_time": "2023-05-28T15:25:17.219Z"
   },
   {
    "duration": 3,
    "start_time": "2023-05-28T15:25:19.838Z"
   },
   {
    "duration": 145,
    "start_time": "2023-05-28T15:25:19.843Z"
   },
   {
    "duration": 0,
    "start_time": "2023-05-28T15:25:19.990Z"
   },
   {
    "duration": 0,
    "start_time": "2023-05-28T15:25:19.991Z"
   },
   {
    "duration": 0,
    "start_time": "2023-05-28T15:25:19.993Z"
   },
   {
    "duration": 0,
    "start_time": "2023-05-28T15:25:19.994Z"
   },
   {
    "duration": 0,
    "start_time": "2023-05-28T15:25:19.996Z"
   },
   {
    "duration": 0,
    "start_time": "2023-05-28T15:25:19.997Z"
   },
   {
    "duration": 0,
    "start_time": "2023-05-28T15:25:19.998Z"
   },
   {
    "duration": 0,
    "start_time": "2023-05-28T15:25:19.999Z"
   },
   {
    "duration": 0,
    "start_time": "2023-05-28T15:25:20.001Z"
   },
   {
    "duration": 0,
    "start_time": "2023-05-28T15:25:20.002Z"
   },
   {
    "duration": 0,
    "start_time": "2023-05-28T15:25:20.003Z"
   },
   {
    "duration": 0,
    "start_time": "2023-05-28T15:25:20.005Z"
   },
   {
    "duration": 0,
    "start_time": "2023-05-28T15:25:20.006Z"
   },
   {
    "duration": 0,
    "start_time": "2023-05-28T15:25:20.007Z"
   },
   {
    "duration": 0,
    "start_time": "2023-05-28T15:25:20.008Z"
   },
   {
    "duration": 0,
    "start_time": "2023-05-28T15:25:20.009Z"
   },
   {
    "duration": 0,
    "start_time": "2023-05-28T15:25:20.010Z"
   },
   {
    "duration": 0,
    "start_time": "2023-05-28T15:25:20.011Z"
   },
   {
    "duration": 0,
    "start_time": "2023-05-28T15:25:20.057Z"
   },
   {
    "duration": 0,
    "start_time": "2023-05-28T15:25:20.059Z"
   },
   {
    "duration": 0,
    "start_time": "2023-05-28T15:25:20.061Z"
   },
   {
    "duration": 0,
    "start_time": "2023-05-28T15:25:20.062Z"
   },
   {
    "duration": 0,
    "start_time": "2023-05-28T15:25:20.064Z"
   },
   {
    "duration": 0,
    "start_time": "2023-05-28T15:25:20.065Z"
   },
   {
    "duration": 0,
    "start_time": "2023-05-28T15:25:20.066Z"
   },
   {
    "duration": 0,
    "start_time": "2023-05-28T15:25:20.068Z"
   },
   {
    "duration": 0,
    "start_time": "2023-05-28T15:25:20.069Z"
   },
   {
    "duration": 0,
    "start_time": "2023-05-28T15:25:20.070Z"
   },
   {
    "duration": 0,
    "start_time": "2023-05-28T15:25:20.072Z"
   },
   {
    "duration": 0,
    "start_time": "2023-05-28T15:25:20.073Z"
   },
   {
    "duration": 0,
    "start_time": "2023-05-28T15:25:20.074Z"
   },
   {
    "duration": 0,
    "start_time": "2023-05-28T15:25:20.075Z"
   },
   {
    "duration": 0,
    "start_time": "2023-05-28T15:25:20.076Z"
   },
   {
    "duration": 0,
    "start_time": "2023-05-28T15:25:20.077Z"
   },
   {
    "duration": 0,
    "start_time": "2023-05-28T15:25:20.079Z"
   },
   {
    "duration": 0,
    "start_time": "2023-05-28T15:25:20.080Z"
   },
   {
    "duration": 0,
    "start_time": "2023-05-28T15:25:20.081Z"
   },
   {
    "duration": 0,
    "start_time": "2023-05-28T15:25:20.082Z"
   },
   {
    "duration": 0,
    "start_time": "2023-05-28T15:25:20.083Z"
   },
   {
    "duration": 0,
    "start_time": "2023-05-28T15:25:20.084Z"
   },
   {
    "duration": 0,
    "start_time": "2023-05-28T15:25:20.085Z"
   },
   {
    "duration": 15,
    "start_time": "2023-05-28T15:53:27.442Z"
   },
   {
    "duration": 12,
    "start_time": "2023-05-28T15:53:43.678Z"
   },
   {
    "duration": 447,
    "start_time": "2023-05-28T15:54:42.043Z"
   },
   {
    "duration": 39,
    "start_time": "2023-05-28T15:54:42.492Z"
   },
   {
    "duration": 22,
    "start_time": "2023-05-28T15:54:42.533Z"
   },
   {
    "duration": 15,
    "start_time": "2023-05-28T15:54:42.557Z"
   },
   {
    "duration": 15,
    "start_time": "2023-05-28T15:54:42.574Z"
   },
   {
    "duration": 9,
    "start_time": "2023-05-28T15:54:42.591Z"
   },
   {
    "duration": 23,
    "start_time": "2023-05-28T15:54:42.602Z"
   },
   {
    "duration": 32,
    "start_time": "2023-05-28T15:54:42.626Z"
   },
   {
    "duration": 13,
    "start_time": "2023-05-28T15:54:42.660Z"
   },
   {
    "duration": 12,
    "start_time": "2023-05-28T15:54:42.675Z"
   },
   {
    "duration": 21,
    "start_time": "2023-05-28T15:54:42.689Z"
   },
   {
    "duration": 10,
    "start_time": "2023-05-28T15:54:42.712Z"
   },
   {
    "duration": 40,
    "start_time": "2023-05-28T15:54:42.723Z"
   },
   {
    "duration": 37,
    "start_time": "2023-05-28T15:54:42.766Z"
   },
   {
    "duration": 17,
    "start_time": "2023-05-28T15:54:42.806Z"
   },
   {
    "duration": 11,
    "start_time": "2023-05-28T15:54:42.825Z"
   },
   {
    "duration": 11,
    "start_time": "2023-05-28T15:54:42.838Z"
   },
   {
    "duration": 23,
    "start_time": "2023-05-28T15:54:42.855Z"
   },
   {
    "duration": 9326,
    "start_time": "2023-05-28T15:54:42.880Z"
   },
   {
    "duration": 1110,
    "start_time": "2023-05-28T15:54:52.209Z"
   },
   {
    "duration": 12,
    "start_time": "2023-05-28T15:54:53.321Z"
   },
   {
    "duration": 21,
    "start_time": "2023-05-28T15:54:53.335Z"
   },
   {
    "duration": 11,
    "start_time": "2023-05-28T15:54:53.358Z"
   },
   {
    "duration": 4,
    "start_time": "2023-05-28T15:54:53.371Z"
   },
   {
    "duration": 27,
    "start_time": "2023-05-28T15:54:53.376Z"
   },
   {
    "duration": 22,
    "start_time": "2023-05-28T15:54:53.404Z"
   },
   {
    "duration": 44,
    "start_time": "2023-05-28T15:54:53.428Z"
   },
   {
    "duration": 36,
    "start_time": "2023-05-28T15:54:53.474Z"
   },
   {
    "duration": 23,
    "start_time": "2023-05-28T15:54:53.511Z"
   },
   {
    "duration": 39,
    "start_time": "2023-05-28T15:54:53.536Z"
   },
   {
    "duration": 17,
    "start_time": "2023-05-28T15:54:53.577Z"
   },
   {
    "duration": 5,
    "start_time": "2023-05-28T15:54:53.596Z"
   },
   {
    "duration": 18,
    "start_time": "2023-05-28T15:54:53.603Z"
   },
   {
    "duration": 4,
    "start_time": "2023-05-28T15:54:53.623Z"
   },
   {
    "duration": 45,
    "start_time": "2023-05-28T15:54:53.629Z"
   },
   {
    "duration": 22,
    "start_time": "2023-05-28T15:54:53.676Z"
   },
   {
    "duration": 5,
    "start_time": "2023-05-28T15:54:53.700Z"
   },
   {
    "duration": 23,
    "start_time": "2023-05-28T15:54:53.707Z"
   },
   {
    "duration": 30,
    "start_time": "2023-05-28T15:54:53.731Z"
   },
   {
    "duration": 5,
    "start_time": "2023-05-28T15:54:53.763Z"
   },
   {
    "duration": 31,
    "start_time": "2023-05-28T15:54:53.772Z"
   },
   {
    "duration": 5,
    "start_time": "2023-05-28T15:54:53.805Z"
   },
   {
    "duration": 5,
    "start_time": "2023-05-28T15:54:53.812Z"
   },
   {
    "duration": 39,
    "start_time": "2023-05-28T15:54:53.818Z"
   },
   {
    "duration": 7,
    "start_time": "2023-05-28T15:54:53.859Z"
   },
   {
    "duration": 9,
    "start_time": "2023-05-28T15:54:53.868Z"
   },
   {
    "duration": 12,
    "start_time": "2023-05-28T15:54:53.878Z"
   },
   {
    "duration": 17,
    "start_time": "2023-05-28T15:54:53.892Z"
   },
   {
    "duration": 524,
    "start_time": "2023-05-28T15:54:53.911Z"
   },
   {
    "duration": 1048,
    "start_time": "2023-05-28T15:54:54.437Z"
   },
   {
    "duration": 2406,
    "start_time": "2023-05-28T15:54:55.487Z"
   },
   {
    "duration": 3,
    "start_time": "2023-05-28T15:54:57.896Z"
   },
   {
    "duration": 144,
    "start_time": "2023-05-28T15:54:57.901Z"
   },
   {
    "duration": 0,
    "start_time": "2023-05-28T15:54:58.047Z"
   },
   {
    "duration": 0,
    "start_time": "2023-05-28T15:54:58.057Z"
   },
   {
    "duration": 0,
    "start_time": "2023-05-28T15:54:58.059Z"
   },
   {
    "duration": 0,
    "start_time": "2023-05-28T15:54:58.060Z"
   },
   {
    "duration": 0,
    "start_time": "2023-05-28T15:54:58.062Z"
   },
   {
    "duration": 0,
    "start_time": "2023-05-28T15:54:58.064Z"
   },
   {
    "duration": 0,
    "start_time": "2023-05-28T15:54:58.065Z"
   },
   {
    "duration": 0,
    "start_time": "2023-05-28T15:54:58.066Z"
   },
   {
    "duration": 0,
    "start_time": "2023-05-28T15:54:58.068Z"
   },
   {
    "duration": 0,
    "start_time": "2023-05-28T15:54:58.069Z"
   },
   {
    "duration": 0,
    "start_time": "2023-05-28T15:54:58.070Z"
   },
   {
    "duration": 0,
    "start_time": "2023-05-28T15:54:58.071Z"
   },
   {
    "duration": 0,
    "start_time": "2023-05-28T15:54:58.073Z"
   },
   {
    "duration": 0,
    "start_time": "2023-05-28T15:54:58.074Z"
   },
   {
    "duration": 0,
    "start_time": "2023-05-28T15:54:58.075Z"
   },
   {
    "duration": 0,
    "start_time": "2023-05-28T15:54:58.080Z"
   },
   {
    "duration": 0,
    "start_time": "2023-05-28T15:54:58.082Z"
   },
   {
    "duration": 0,
    "start_time": "2023-05-28T15:54:58.083Z"
   },
   {
    "duration": 0,
    "start_time": "2023-05-28T15:54:58.084Z"
   },
   {
    "duration": 0,
    "start_time": "2023-05-28T15:54:58.085Z"
   },
   {
    "duration": 0,
    "start_time": "2023-05-28T15:54:58.086Z"
   },
   {
    "duration": 0,
    "start_time": "2023-05-28T15:54:58.088Z"
   },
   {
    "duration": 0,
    "start_time": "2023-05-28T15:54:58.089Z"
   },
   {
    "duration": 0,
    "start_time": "2023-05-28T15:54:58.091Z"
   },
   {
    "duration": 0,
    "start_time": "2023-05-28T15:54:58.092Z"
   },
   {
    "duration": 0,
    "start_time": "2023-05-28T15:54:58.095Z"
   },
   {
    "duration": 0,
    "start_time": "2023-05-28T15:54:58.096Z"
   },
   {
    "duration": 0,
    "start_time": "2023-05-28T15:54:58.157Z"
   },
   {
    "duration": 0,
    "start_time": "2023-05-28T15:54:58.159Z"
   },
   {
    "duration": 0,
    "start_time": "2023-05-28T15:54:58.160Z"
   },
   {
    "duration": 0,
    "start_time": "2023-05-28T15:54:58.161Z"
   },
   {
    "duration": 0,
    "start_time": "2023-05-28T15:54:58.163Z"
   },
   {
    "duration": 0,
    "start_time": "2023-05-28T15:54:58.165Z"
   },
   {
    "duration": 0,
    "start_time": "2023-05-28T15:54:58.166Z"
   },
   {
    "duration": 0,
    "start_time": "2023-05-28T15:54:58.167Z"
   },
   {
    "duration": 0,
    "start_time": "2023-05-28T15:54:58.169Z"
   },
   {
    "duration": 0,
    "start_time": "2023-05-28T15:54:58.170Z"
   },
   {
    "duration": 0,
    "start_time": "2023-05-28T15:54:58.171Z"
   },
   {
    "duration": 0,
    "start_time": "2023-05-28T15:54:58.173Z"
   },
   {
    "duration": 0,
    "start_time": "2023-05-28T15:54:58.174Z"
   },
   {
    "duration": 0,
    "start_time": "2023-05-28T15:54:58.175Z"
   },
   {
    "duration": 4787,
    "start_time": "2023-05-28T15:56:49.473Z"
   },
   {
    "duration": 8,
    "start_time": "2023-05-28T15:56:54.268Z"
   },
   {
    "duration": 19,
    "start_time": "2023-05-28T15:56:54.278Z"
   },
   {
    "duration": 12,
    "start_time": "2023-05-28T15:56:54.299Z"
   },
   {
    "duration": 11,
    "start_time": "2023-05-28T15:56:54.313Z"
   },
   {
    "duration": 4,
    "start_time": "2023-05-28T15:56:54.326Z"
   },
   {
    "duration": 45,
    "start_time": "2023-05-28T15:56:54.332Z"
   },
   {
    "duration": 5,
    "start_time": "2023-05-28T15:56:54.379Z"
   },
   {
    "duration": 30,
    "start_time": "2023-05-28T15:56:54.386Z"
   },
   {
    "duration": 49,
    "start_time": "2023-05-28T15:56:54.418Z"
   },
   {
    "duration": 21,
    "start_time": "2023-05-28T15:56:54.471Z"
   },
   {
    "duration": 28,
    "start_time": "2023-05-28T15:56:54.494Z"
   },
   {
    "duration": 13,
    "start_time": "2023-05-28T15:56:54.523Z"
   },
   {
    "duration": 15,
    "start_time": "2023-05-28T15:56:54.556Z"
   },
   {
    "duration": 20,
    "start_time": "2023-05-28T15:56:54.575Z"
   },
   {
    "duration": 5,
    "start_time": "2023-05-28T15:56:54.598Z"
   },
   {
    "duration": 22,
    "start_time": "2023-05-28T15:56:54.605Z"
   },
   {
    "duration": 10,
    "start_time": "2023-05-28T15:56:54.939Z"
   },
   {
    "duration": 6,
    "start_time": "2023-05-28T15:56:55.072Z"
   },
   {
    "duration": 24,
    "start_time": "2023-05-28T15:56:55.214Z"
   },
   {
    "duration": 18,
    "start_time": "2023-05-28T15:56:55.388Z"
   },
   {
    "duration": 7,
    "start_time": "2023-05-28T15:56:55.970Z"
   },
   {
    "duration": 34,
    "start_time": "2023-05-28T15:56:56.143Z"
   },
   {
    "duration": 6,
    "start_time": "2023-05-28T15:56:56.276Z"
   },
   {
    "duration": 4,
    "start_time": "2023-05-28T15:56:56.476Z"
   },
   {
    "duration": 15,
    "start_time": "2023-05-28T15:56:56.790Z"
   },
   {
    "duration": 9,
    "start_time": "2023-05-28T15:56:57.179Z"
   },
   {
    "duration": 3,
    "start_time": "2023-05-28T15:56:57.454Z"
   },
   {
    "duration": 8,
    "start_time": "2023-05-28T15:56:58.181Z"
   },
   {
    "duration": 18,
    "start_time": "2023-05-28T15:56:58.867Z"
   },
   {
    "duration": 399,
    "start_time": "2023-05-28T15:56:59.072Z"
   },
   {
    "duration": 1097,
    "start_time": "2023-05-28T15:56:59.870Z"
   },
   {
    "duration": 2531,
    "start_time": "2023-05-28T15:57:00.971Z"
   },
   {
    "duration": 3,
    "start_time": "2023-05-28T15:57:03.504Z"
   },
   {
    "duration": 28,
    "start_time": "2023-05-28T15:57:03.509Z"
   },
   {
    "duration": 0,
    "start_time": "2023-05-28T15:57:03.539Z"
   },
   {
    "duration": 356,
    "start_time": "2023-05-28T16:02:20.172Z"
   },
   {
    "duration": 289,
    "start_time": "2023-05-28T16:02:39.527Z"
   },
   {
    "duration": 318,
    "start_time": "2023-05-28T16:02:59.311Z"
   },
   {
    "duration": 357,
    "start_time": "2023-05-28T16:03:04.571Z"
   },
   {
    "duration": 12,
    "start_time": "2023-05-28T16:04:08.144Z"
   },
   {
    "duration": 445,
    "start_time": "2023-05-28T16:06:22.882Z"
   },
   {
    "duration": 43,
    "start_time": "2023-05-28T16:06:23.329Z"
   },
   {
    "duration": 19,
    "start_time": "2023-05-28T16:06:23.374Z"
   },
   {
    "duration": 13,
    "start_time": "2023-05-28T16:06:23.395Z"
   },
   {
    "duration": 12,
    "start_time": "2023-05-28T16:06:23.410Z"
   },
   {
    "duration": 14,
    "start_time": "2023-05-28T16:06:23.423Z"
   },
   {
    "duration": 48,
    "start_time": "2023-05-28T16:06:23.439Z"
   },
   {
    "duration": 8,
    "start_time": "2023-05-28T16:06:23.489Z"
   },
   {
    "duration": 18,
    "start_time": "2023-05-28T16:06:23.499Z"
   },
   {
    "duration": 15,
    "start_time": "2023-05-28T16:06:23.519Z"
   },
   {
    "duration": 22,
    "start_time": "2023-05-28T16:06:23.536Z"
   },
   {
    "duration": 13,
    "start_time": "2023-05-28T16:06:23.562Z"
   },
   {
    "duration": 15,
    "start_time": "2023-05-28T16:06:23.577Z"
   },
   {
    "duration": 30,
    "start_time": "2023-05-28T16:06:23.595Z"
   },
   {
    "duration": 17,
    "start_time": "2023-05-28T16:06:23.627Z"
   },
   {
    "duration": 16,
    "start_time": "2023-05-28T16:06:23.646Z"
   },
   {
    "duration": 16,
    "start_time": "2023-05-28T16:06:23.664Z"
   },
   {
    "duration": 17,
    "start_time": "2023-05-28T16:06:23.682Z"
   },
   {
    "duration": 4736,
    "start_time": "2023-05-28T16:06:23.700Z"
   },
   {
    "duration": 1196,
    "start_time": "2023-05-28T16:06:28.439Z"
   },
   {
    "duration": 20,
    "start_time": "2023-05-28T16:06:29.637Z"
   },
   {
    "duration": 15,
    "start_time": "2023-05-28T16:06:29.660Z"
   },
   {
    "duration": 12,
    "start_time": "2023-05-28T16:06:29.677Z"
   },
   {
    "duration": 3,
    "start_time": "2023-05-28T16:06:29.691Z"
   },
   {
    "duration": 23,
    "start_time": "2023-05-28T16:06:29.696Z"
   },
   {
    "duration": 8,
    "start_time": "2023-05-28T16:06:29.720Z"
   },
   {
    "duration": 48,
    "start_time": "2023-05-28T16:06:29.730Z"
   },
   {
    "duration": 16,
    "start_time": "2023-05-28T16:06:29.780Z"
   },
   {
    "duration": 14,
    "start_time": "2023-05-28T16:06:29.797Z"
   },
   {
    "duration": 46,
    "start_time": "2023-05-28T16:06:29.813Z"
   },
   {
    "duration": 16,
    "start_time": "2023-05-28T16:06:29.861Z"
   },
   {
    "duration": 34,
    "start_time": "2023-05-28T16:06:29.879Z"
   },
   {
    "duration": 33,
    "start_time": "2023-05-28T16:06:29.914Z"
   },
   {
    "duration": 5,
    "start_time": "2023-05-28T16:06:29.948Z"
   },
   {
    "duration": 58,
    "start_time": "2023-05-28T16:06:29.954Z"
   },
   {
    "duration": 34,
    "start_time": "2023-05-28T16:06:30.013Z"
   },
   {
    "duration": 6,
    "start_time": "2023-05-28T16:06:30.049Z"
   },
   {
    "duration": 47,
    "start_time": "2023-05-28T16:06:30.056Z"
   },
   {
    "duration": 38,
    "start_time": "2023-05-28T16:06:30.105Z"
   },
   {
    "duration": 24,
    "start_time": "2023-05-28T16:06:30.145Z"
   },
   {
    "duration": 51,
    "start_time": "2023-05-28T16:06:30.175Z"
   },
   {
    "duration": 10,
    "start_time": "2023-05-28T16:06:30.229Z"
   },
   {
    "duration": 50,
    "start_time": "2023-05-28T16:06:30.241Z"
   },
   {
    "duration": 35,
    "start_time": "2023-05-28T16:06:30.293Z"
   },
   {
    "duration": 45,
    "start_time": "2023-05-28T16:06:30.330Z"
   },
   {
    "duration": 24,
    "start_time": "2023-05-28T16:06:30.377Z"
   },
   {
    "duration": 51,
    "start_time": "2023-05-28T16:06:30.403Z"
   },
   {
    "duration": 38,
    "start_time": "2023-05-28T16:06:30.456Z"
   },
   {
    "duration": 48,
    "start_time": "2023-05-28T16:06:30.496Z"
   },
   {
    "duration": 543,
    "start_time": "2023-05-28T16:06:30.546Z"
   },
   {
    "duration": 1183,
    "start_time": "2023-05-28T16:06:31.090Z"
   },
   {
    "duration": 2502,
    "start_time": "2023-05-28T16:06:32.275Z"
   },
   {
    "duration": 3,
    "start_time": "2023-05-28T16:06:34.779Z"
   },
   {
    "duration": 353,
    "start_time": "2023-05-28T16:06:34.783Z"
   },
   {
    "duration": 365,
    "start_time": "2023-05-28T16:06:35.139Z"
   },
   {
    "duration": 325,
    "start_time": "2023-05-28T16:06:35.506Z"
   },
   {
    "duration": 346,
    "start_time": "2023-05-28T16:06:35.833Z"
   },
   {
    "duration": 352,
    "start_time": "2023-05-28T16:06:36.181Z"
   },
   {
    "duration": 419,
    "start_time": "2023-05-28T16:06:36.535Z"
   },
   {
    "duration": 467,
    "start_time": "2023-05-28T16:06:36.955Z"
   },
   {
    "duration": 404,
    "start_time": "2023-05-28T16:06:37.424Z"
   },
   {
    "duration": 442,
    "start_time": "2023-05-28T16:06:37.829Z"
   },
   {
    "duration": 8,
    "start_time": "2023-05-28T16:06:38.273Z"
   },
   {
    "duration": 460,
    "start_time": "2023-05-28T16:06:38.283Z"
   },
   {
    "duration": 5,
    "start_time": "2023-05-28T16:06:38.745Z"
   },
   {
    "duration": 11,
    "start_time": "2023-05-28T16:06:38.759Z"
   },
   {
    "duration": 6,
    "start_time": "2023-05-28T16:06:38.772Z"
   },
   {
    "duration": 15,
    "start_time": "2023-05-28T16:06:38.779Z"
   },
   {
    "duration": 9,
    "start_time": "2023-05-28T16:06:38.796Z"
   },
   {
    "duration": 3,
    "start_time": "2023-05-28T16:06:38.807Z"
   },
   {
    "duration": 5,
    "start_time": "2023-05-28T16:06:38.812Z"
   },
   {
    "duration": 3,
    "start_time": "2023-05-28T16:06:38.819Z"
   },
   {
    "duration": 15212,
    "start_time": "2023-05-28T16:06:38.824Z"
   },
   {
    "duration": 4,
    "start_time": "2023-05-28T16:06:54.038Z"
   },
   {
    "duration": 615534,
    "start_time": "2023-05-28T16:06:54.044Z"
   },
   {
    "duration": 4,
    "start_time": "2023-05-28T16:17:09.579Z"
   },
   {
    "duration": 27,
    "start_time": "2023-05-28T16:17:09.584Z"
   },
   {
    "duration": 4752,
    "start_time": "2023-05-28T16:17:09.613Z"
   },
   {
    "duration": 653,
    "start_time": "2023-05-28T16:17:14.366Z"
   },
   {
    "duration": 8,
    "start_time": "2023-05-28T16:17:15.022Z"
   },
   {
    "duration": 109,
    "start_time": "2023-05-28T16:17:15.031Z"
   },
   {
    "duration": 2,
    "start_time": "2023-05-28T16:17:15.142Z"
   },
   {
    "duration": 56,
    "start_time": "2023-05-28T16:17:15.145Z"
   },
   {
    "duration": 12,
    "start_time": "2023-05-28T16:17:15.203Z"
   },
   {
    "duration": 50,
    "start_time": "2023-05-28T16:17:15.217Z"
   },
   {
    "duration": 3,
    "start_time": "2023-05-28T16:17:15.269Z"
   },
   {
    "duration": 25,
    "start_time": "2023-05-28T16:17:15.274Z"
   },
   {
    "duration": 20857,
    "start_time": "2023-05-28T16:17:15.300Z"
   },
   {
    "duration": 52642,
    "start_time": "2023-05-28T16:17:36.159Z"
   },
   {
    "duration": 11,
    "start_time": "2023-05-28T16:18:28.809Z"
   },
   {
    "duration": 4776,
    "start_time": "2023-05-28T16:18:28.822Z"
   },
   {
    "duration": 243,
    "start_time": "2023-05-28T16:18:33.600Z"
   },
   {
    "duration": 265,
    "start_time": "2023-05-28T16:18:33.845Z"
   },
   {
    "duration": 12,
    "start_time": "2023-05-28T16:18:34.112Z"
   },
   {
    "duration": 6,
    "start_time": "2023-05-28T16:18:34.126Z"
   },
   {
    "duration": 8564,
    "start_time": "2023-05-29T16:08:16.274Z"
   },
   {
    "duration": 1201,
    "start_time": "2023-05-29T16:08:24.840Z"
   },
   {
    "duration": 105,
    "start_time": "2023-05-29T16:08:26.042Z"
   },
   {
    "duration": 0,
    "start_time": "2023-05-29T16:08:26.149Z"
   },
   {
    "duration": 0,
    "start_time": "2023-05-29T16:08:26.150Z"
   },
   {
    "duration": 0,
    "start_time": "2023-05-29T16:08:26.151Z"
   },
   {
    "duration": 0,
    "start_time": "2023-05-29T16:08:26.151Z"
   },
   {
    "duration": 0,
    "start_time": "2023-05-29T16:08:26.153Z"
   },
   {
    "duration": 0,
    "start_time": "2023-05-29T16:08:26.153Z"
   },
   {
    "duration": 0,
    "start_time": "2023-05-29T16:08:26.155Z"
   },
   {
    "duration": 0,
    "start_time": "2023-05-29T16:08:26.156Z"
   },
   {
    "duration": 0,
    "start_time": "2023-05-29T16:08:26.157Z"
   },
   {
    "duration": 0,
    "start_time": "2023-05-29T16:08:26.158Z"
   },
   {
    "duration": 0,
    "start_time": "2023-05-29T16:08:26.159Z"
   },
   {
    "duration": 0,
    "start_time": "2023-05-29T16:08:26.160Z"
   },
   {
    "duration": 0,
    "start_time": "2023-05-29T16:08:26.161Z"
   },
   {
    "duration": 0,
    "start_time": "2023-05-29T16:08:26.161Z"
   },
   {
    "duration": 0,
    "start_time": "2023-05-29T16:08:26.163Z"
   },
   {
    "duration": 0,
    "start_time": "2023-05-29T16:08:26.164Z"
   },
   {
    "duration": 0,
    "start_time": "2023-05-29T16:08:26.165Z"
   },
   {
    "duration": 0,
    "start_time": "2023-05-29T16:08:26.165Z"
   },
   {
    "duration": 0,
    "start_time": "2023-05-29T16:08:26.166Z"
   },
   {
    "duration": 0,
    "start_time": "2023-05-29T16:08:26.167Z"
   },
   {
    "duration": 0,
    "start_time": "2023-05-29T16:08:26.168Z"
   },
   {
    "duration": 0,
    "start_time": "2023-05-29T16:08:26.169Z"
   },
   {
    "duration": 0,
    "start_time": "2023-05-29T16:08:26.170Z"
   },
   {
    "duration": 0,
    "start_time": "2023-05-29T16:08:26.171Z"
   },
   {
    "duration": 0,
    "start_time": "2023-05-29T16:08:26.206Z"
   },
   {
    "duration": 0,
    "start_time": "2023-05-29T16:08:26.207Z"
   },
   {
    "duration": 0,
    "start_time": "2023-05-29T16:08:26.208Z"
   },
   {
    "duration": 0,
    "start_time": "2023-05-29T16:08:26.209Z"
   },
   {
    "duration": 0,
    "start_time": "2023-05-29T16:08:26.210Z"
   },
   {
    "duration": 0,
    "start_time": "2023-05-29T16:08:26.211Z"
   },
   {
    "duration": 0,
    "start_time": "2023-05-29T16:08:26.211Z"
   },
   {
    "duration": 3,
    "start_time": "2023-05-29T16:08:26.254Z"
   },
   {
    "duration": 13,
    "start_time": "2023-05-29T16:08:26.413Z"
   },
   {
    "duration": 364,
    "start_time": "2023-05-29T16:08:47.027Z"
   },
   {
    "duration": 41,
    "start_time": "2023-05-29T16:08:47.393Z"
   },
   {
    "duration": 17,
    "start_time": "2023-05-29T16:08:47.435Z"
   },
   {
    "duration": 11,
    "start_time": "2023-05-29T16:08:47.454Z"
   },
   {
    "duration": 11,
    "start_time": "2023-05-29T16:08:47.526Z"
   },
   {
    "duration": 7,
    "start_time": "2023-05-29T16:08:47.660Z"
   },
   {
    "duration": 31,
    "start_time": "2023-05-29T16:08:47.805Z"
   },
   {
    "duration": 8,
    "start_time": "2023-05-29T16:08:47.956Z"
   },
   {
    "duration": 11,
    "start_time": "2023-05-29T16:08:48.118Z"
   },
   {
    "duration": 11,
    "start_time": "2023-05-29T16:08:48.260Z"
   },
   {
    "duration": 33,
    "start_time": "2023-05-29T16:08:48.420Z"
   },
   {
    "duration": 10,
    "start_time": "2023-05-29T16:08:48.556Z"
   },
   {
    "duration": 12,
    "start_time": "2023-05-29T16:08:48.718Z"
   },
   {
    "duration": 26,
    "start_time": "2023-05-29T16:08:48.853Z"
   },
   {
    "duration": 20,
    "start_time": "2023-05-29T16:08:49.004Z"
   },
   {
    "duration": 7,
    "start_time": "2023-05-29T16:08:49.148Z"
   },
   {
    "duration": 9,
    "start_time": "2023-05-29T16:08:49.292Z"
   },
   {
    "duration": 14,
    "start_time": "2023-05-29T16:08:49.453Z"
   },
   {
    "duration": 4466,
    "start_time": "2023-05-29T16:08:50.708Z"
   },
   {
    "duration": 901,
    "start_time": "2023-05-29T16:08:55.176Z"
   },
   {
    "duration": 13,
    "start_time": "2023-05-29T16:08:56.078Z"
   },
   {
    "duration": 36,
    "start_time": "2023-05-29T16:08:56.093Z"
   },
   {
    "duration": 27,
    "start_time": "2023-05-29T16:08:56.131Z"
   },
   {
    "duration": 5,
    "start_time": "2023-05-29T16:08:56.160Z"
   },
   {
    "duration": 18,
    "start_time": "2023-05-29T16:08:56.167Z"
   },
   {
    "duration": 7,
    "start_time": "2023-05-29T16:08:56.187Z"
   },
   {
    "duration": 31,
    "start_time": "2023-05-29T16:08:56.196Z"
   },
   {
    "duration": 27,
    "start_time": "2023-05-29T16:08:56.231Z"
   },
   {
    "duration": 17,
    "start_time": "2023-05-29T16:08:56.260Z"
   },
   {
    "duration": 36,
    "start_time": "2023-05-29T16:08:56.279Z"
   },
   {
    "duration": 13,
    "start_time": "2023-05-29T16:08:56.319Z"
   },
   {
    "duration": 8,
    "start_time": "2023-05-29T16:08:56.334Z"
   },
   {
    "duration": 29,
    "start_time": "2023-05-29T16:08:56.343Z"
   },
   {
    "duration": 4,
    "start_time": "2023-05-29T16:08:56.374Z"
   },
   {
    "duration": 30,
    "start_time": "2023-05-29T16:08:56.379Z"
   },
   {
    "duration": 11,
    "start_time": "2023-05-29T16:08:56.410Z"
   },
   {
    "duration": 11,
    "start_time": "2023-05-29T16:08:56.423Z"
   },
   {
    "duration": 21,
    "start_time": "2023-05-29T16:08:56.436Z"
   },
   {
    "duration": 16,
    "start_time": "2023-05-29T16:08:56.458Z"
   },
   {
    "duration": 6,
    "start_time": "2023-05-29T16:08:56.476Z"
   },
   {
    "duration": 50,
    "start_time": "2023-05-29T16:08:56.483Z"
   },
   {
    "duration": 4,
    "start_time": "2023-05-29T16:08:56.535Z"
   },
   {
    "duration": 18,
    "start_time": "2023-05-29T16:08:56.541Z"
   },
   {
    "duration": 3,
    "start_time": "2023-05-29T16:08:56.561Z"
   },
   {
    "duration": 20,
    "start_time": "2023-05-29T16:08:56.565Z"
   },
   {
    "duration": 7,
    "start_time": "2023-05-29T16:08:56.851Z"
   },
   {
    "duration": 4,
    "start_time": "2023-05-29T16:08:57.348Z"
   },
   {
    "duration": 5,
    "start_time": "2023-05-29T16:08:59.852Z"
   },
   {
    "duration": 14,
    "start_time": "2023-05-29T16:09:00.307Z"
   },
   {
    "duration": 387,
    "start_time": "2023-05-29T16:09:00.452Z"
   },
   {
    "duration": 1011,
    "start_time": "2023-05-29T16:09:00.948Z"
   },
   {
    "duration": 3167,
    "start_time": "2023-05-29T16:09:01.961Z"
   },
   {
    "duration": 3,
    "start_time": "2023-05-29T16:09:05.129Z"
   },
   {
    "duration": 273,
    "start_time": "2023-05-29T16:09:05.135Z"
   },
   {
    "duration": 172,
    "start_time": "2023-05-29T16:09:05.410Z"
   },
   {
    "duration": 186,
    "start_time": "2023-05-29T16:09:05.583Z"
   },
   {
    "duration": 177,
    "start_time": "2023-05-29T16:09:05.771Z"
   },
   {
    "duration": 188,
    "start_time": "2023-05-29T16:09:05.950Z"
   },
   {
    "duration": 237,
    "start_time": "2023-05-29T16:09:06.139Z"
   },
   {
    "duration": 235,
    "start_time": "2023-05-29T16:09:06.378Z"
   },
   {
    "duration": 158,
    "start_time": "2023-05-29T16:09:06.615Z"
   },
   {
    "duration": 210,
    "start_time": "2023-05-29T16:09:06.775Z"
   },
   {
    "duration": 7,
    "start_time": "2023-05-29T16:09:06.987Z"
   },
   {
    "duration": 263,
    "start_time": "2023-05-29T16:09:07.006Z"
   },
   {
    "duration": 4,
    "start_time": "2023-05-29T16:09:07.270Z"
   },
   {
    "duration": 13,
    "start_time": "2023-05-29T16:09:07.276Z"
   },
   {
    "duration": 4,
    "start_time": "2023-05-29T16:09:07.524Z"
   },
   {
    "duration": 3,
    "start_time": "2023-05-29T19:09:41.394Z"
   },
   {
    "duration": 62,
    "start_time": "2023-05-30T11:16:29.386Z"
   },
   {
    "duration": 56,
    "start_time": "2023-05-30T11:32:15.608Z"
   },
   {
    "duration": 55,
    "start_time": "2023-05-30T11:37:00.866Z"
   },
   {
    "duration": 4,
    "start_time": "2023-05-31T06:15:04.230Z"
   },
   {
    "duration": 77,
    "start_time": "2023-05-31T06:30:56.617Z"
   },
   {
    "duration": 509,
    "start_time": "2023-05-31T06:31:33.642Z"
   },
   {
    "duration": 111,
    "start_time": "2023-05-31T06:31:34.153Z"
   },
   {
    "duration": 28,
    "start_time": "2023-05-31T06:31:34.270Z"
   },
   {
    "duration": 28,
    "start_time": "2023-05-31T06:31:34.301Z"
   },
   {
    "duration": 113,
    "start_time": "2023-05-31T06:31:34.332Z"
   },
   {
    "duration": 56,
    "start_time": "2023-05-31T06:31:34.449Z"
   },
   {
    "duration": 160,
    "start_time": "2023-05-31T06:31:34.508Z"
   },
   {
    "duration": 19,
    "start_time": "2023-05-31T06:31:34.672Z"
   },
   {
    "duration": 23,
    "start_time": "2023-05-31T06:31:34.693Z"
   },
   {
    "duration": 15,
    "start_time": "2023-05-31T06:31:34.720Z"
   },
   {
    "duration": 187,
    "start_time": "2023-05-31T06:31:34.737Z"
   },
   {
    "duration": 11,
    "start_time": "2023-05-31T06:31:34.926Z"
   },
   {
    "duration": 60,
    "start_time": "2023-05-31T06:31:34.939Z"
   },
   {
    "duration": 59,
    "start_time": "2023-05-31T06:31:35.001Z"
   },
   {
    "duration": 76,
    "start_time": "2023-05-31T06:31:35.065Z"
   },
   {
    "duration": 22,
    "start_time": "2023-05-31T06:31:35.142Z"
   },
   {
    "duration": 54,
    "start_time": "2023-05-31T06:31:35.167Z"
   },
   {
    "duration": 39,
    "start_time": "2023-05-31T06:31:35.223Z"
   },
   {
    "duration": 11446,
    "start_time": "2023-05-31T06:31:35.263Z"
   },
   {
    "duration": 1314,
    "start_time": "2023-05-31T06:31:46.712Z"
   },
   {
    "duration": 14,
    "start_time": "2023-05-31T06:31:48.027Z"
   },
   {
    "duration": 76,
    "start_time": "2023-05-31T06:31:48.043Z"
   },
   {
    "duration": 38,
    "start_time": "2023-05-31T06:31:48.121Z"
   },
   {
    "duration": 52,
    "start_time": "2023-05-31T06:31:48.161Z"
   },
   {
    "duration": 54,
    "start_time": "2023-05-31T06:31:48.215Z"
   },
   {
    "duration": 49,
    "start_time": "2023-05-31T06:31:48.271Z"
   },
   {
    "duration": 81,
    "start_time": "2023-05-31T06:31:48.321Z"
   },
   {
    "duration": 29,
    "start_time": "2023-05-31T06:31:48.409Z"
   },
   {
    "duration": 49,
    "start_time": "2023-05-31T06:31:48.440Z"
   },
   {
    "duration": 46,
    "start_time": "2023-05-31T06:31:48.491Z"
   },
   {
    "duration": 17,
    "start_time": "2023-05-31T06:31:48.539Z"
   },
   {
    "duration": 41,
    "start_time": "2023-05-31T06:31:48.561Z"
   },
   {
    "duration": 32,
    "start_time": "2023-05-31T06:31:48.604Z"
   },
   {
    "duration": 5,
    "start_time": "2023-05-31T06:31:48.638Z"
   },
   {
    "duration": 77,
    "start_time": "2023-05-31T06:31:48.645Z"
   },
   {
    "duration": 34,
    "start_time": "2023-05-31T06:31:48.724Z"
   },
   {
    "duration": 32,
    "start_time": "2023-05-31T06:31:48.766Z"
   },
   {
    "duration": 57,
    "start_time": "2023-05-31T06:31:48.800Z"
   },
   {
    "duration": 63,
    "start_time": "2023-05-31T06:31:48.868Z"
   },
   {
    "duration": 60,
    "start_time": "2023-05-31T06:31:48.933Z"
   },
   {
    "duration": 40,
    "start_time": "2023-05-31T06:31:48.995Z"
   },
   {
    "duration": 5,
    "start_time": "2023-05-31T06:31:49.037Z"
   },
   {
    "duration": 57,
    "start_time": "2023-05-31T06:31:49.044Z"
   },
   {
    "duration": 4,
    "start_time": "2023-05-31T06:31:49.102Z"
   },
   {
    "duration": 21,
    "start_time": "2023-05-31T06:31:49.107Z"
   },
   {
    "duration": 7,
    "start_time": "2023-05-31T06:31:49.129Z"
   },
   {
    "duration": 7,
    "start_time": "2023-05-31T06:31:49.137Z"
   },
   {
    "duration": 60,
    "start_time": "2023-05-31T06:31:49.145Z"
   },
   {
    "duration": 16,
    "start_time": "2023-05-31T06:31:49.207Z"
   },
   {
    "duration": 498,
    "start_time": "2023-05-31T06:31:49.225Z"
   },
   {
    "duration": 1494,
    "start_time": "2023-05-31T06:31:49.725Z"
   },
   {
    "duration": 4511,
    "start_time": "2023-05-31T06:31:51.221Z"
   },
   {
    "duration": 4,
    "start_time": "2023-05-31T06:31:55.734Z"
   },
   {
    "duration": 365,
    "start_time": "2023-05-31T06:31:55.740Z"
   },
   {
    "duration": 266,
    "start_time": "2023-05-31T06:31:56.113Z"
   },
   {
    "duration": 297,
    "start_time": "2023-05-31T06:31:56.381Z"
   },
   {
    "duration": 257,
    "start_time": "2023-05-31T06:31:56.682Z"
   },
   {
    "duration": 348,
    "start_time": "2023-05-31T06:31:56.941Z"
   },
   {
    "duration": 428,
    "start_time": "2023-05-31T06:31:57.294Z"
   },
   {
    "duration": 330,
    "start_time": "2023-05-31T06:31:57.724Z"
   },
   {
    "duration": 196,
    "start_time": "2023-05-31T06:31:58.055Z"
   },
   {
    "duration": 307,
    "start_time": "2023-05-31T06:31:58.256Z"
   },
   {
    "duration": 21,
    "start_time": "2023-05-31T06:31:58.566Z"
   },
   {
    "duration": 526,
    "start_time": "2023-05-31T06:31:58.592Z"
   },
   {
    "duration": 7,
    "start_time": "2023-05-31T06:31:59.120Z"
   },
   {
    "duration": 72,
    "start_time": "2023-05-31T06:31:59.129Z"
   },
   {
    "duration": 25,
    "start_time": "2023-05-31T06:31:59.203Z"
   },
   {
    "duration": 79,
    "start_time": "2023-05-31T06:31:59.229Z"
   },
   {
    "duration": 209,
    "start_time": "2023-05-31T06:31:59.311Z"
   },
   {
    "duration": 86,
    "start_time": "2023-05-31T06:31:59.522Z"
   },
   {
    "duration": 33,
    "start_time": "2023-05-31T06:31:59.611Z"
   },
   {
    "duration": 74,
    "start_time": "2023-05-31T06:31:59.646Z"
   },
   {
    "duration": 502,
    "start_time": "2023-05-31T06:31:59.722Z"
   },
   {
    "duration": 12,
    "start_time": "2023-05-31T06:32:00.226Z"
   },
   {
    "duration": 0,
    "start_time": "2023-05-31T06:32:00.240Z"
   },
   {
    "duration": 0,
    "start_time": "2023-05-31T06:32:00.241Z"
   },
   {
    "duration": 0,
    "start_time": "2023-05-31T06:32:00.243Z"
   },
   {
    "duration": 0,
    "start_time": "2023-05-31T06:32:00.244Z"
   },
   {
    "duration": 0,
    "start_time": "2023-05-31T06:32:00.245Z"
   },
   {
    "duration": 0,
    "start_time": "2023-05-31T06:32:00.247Z"
   },
   {
    "duration": 0,
    "start_time": "2023-05-31T06:32:00.248Z"
   },
   {
    "duration": 0,
    "start_time": "2023-05-31T06:32:00.249Z"
   },
   {
    "duration": 0,
    "start_time": "2023-05-31T06:32:00.250Z"
   },
   {
    "duration": 0,
    "start_time": "2023-05-31T06:32:00.251Z"
   },
   {
    "duration": 0,
    "start_time": "2023-05-31T06:32:00.252Z"
   },
   {
    "duration": 0,
    "start_time": "2023-05-31T06:32:00.253Z"
   },
   {
    "duration": 0,
    "start_time": "2023-05-31T06:32:00.271Z"
   },
   {
    "duration": 0,
    "start_time": "2023-05-31T06:32:00.273Z"
   },
   {
    "duration": 0,
    "start_time": "2023-05-31T06:32:00.274Z"
   },
   {
    "duration": 0,
    "start_time": "2023-05-31T06:32:00.281Z"
   },
   {
    "duration": 0,
    "start_time": "2023-05-31T06:32:00.282Z"
   },
   {
    "duration": 0,
    "start_time": "2023-05-31T06:32:00.283Z"
   },
   {
    "duration": 0,
    "start_time": "2023-05-31T06:32:00.285Z"
   },
   {
    "duration": 0,
    "start_time": "2023-05-31T06:32:00.291Z"
   },
   {
    "duration": 0,
    "start_time": "2023-05-31T06:32:00.292Z"
   },
   {
    "duration": 3,
    "start_time": "2023-05-31T06:32:24.086Z"
   },
   {
    "duration": 12,
    "start_time": "2023-05-31T06:42:05.283Z"
   },
   {
    "duration": 13,
    "start_time": "2023-05-31T06:42:28.871Z"
   },
   {
    "duration": 5,
    "start_time": "2023-05-31T06:53:12.812Z"
   },
   {
    "duration": 3,
    "start_time": "2023-05-31T06:53:14.919Z"
   },
   {
    "duration": 3,
    "start_time": "2023-05-31T06:53:32.071Z"
   },
   {
    "duration": 3,
    "start_time": "2023-05-31T06:53:33.217Z"
   },
   {
    "duration": 15,
    "start_time": "2023-05-31T06:54:14.983Z"
   },
   {
    "duration": 7,
    "start_time": "2023-05-31T06:54:42.546Z"
   },
   {
    "duration": 221,
    "start_time": "2023-05-31T06:54:45.839Z"
   },
   {
    "duration": 229,
    "start_time": "2023-05-31T06:55:08.869Z"
   },
   {
    "duration": 234,
    "start_time": "2023-05-31T06:55:25.527Z"
   },
   {
    "duration": 414,
    "start_time": "2023-06-01T05:54:55.556Z"
   },
   {
    "duration": 74,
    "start_time": "2023-06-01T05:54:55.972Z"
   },
   {
    "duration": 20,
    "start_time": "2023-06-01T05:54:56.048Z"
   },
   {
    "duration": 13,
    "start_time": "2023-06-01T05:54:56.071Z"
   },
   {
    "duration": 12,
    "start_time": "2023-06-01T05:54:56.086Z"
   },
   {
    "duration": 10,
    "start_time": "2023-06-01T05:54:56.100Z"
   },
   {
    "duration": 109,
    "start_time": "2023-06-01T05:54:56.112Z"
   },
   {
    "duration": 10,
    "start_time": "2023-06-01T05:54:56.223Z"
   },
   {
    "duration": 18,
    "start_time": "2023-06-01T05:54:56.235Z"
   },
   {
    "duration": 15,
    "start_time": "2023-06-01T05:54:56.255Z"
   },
   {
    "duration": 77,
    "start_time": "2023-06-01T05:54:56.271Z"
   },
   {
    "duration": 11,
    "start_time": "2023-06-01T05:54:56.349Z"
   },
   {
    "duration": 13,
    "start_time": "2023-06-01T05:54:56.362Z"
   },
   {
    "duration": 38,
    "start_time": "2023-06-01T05:54:56.378Z"
   },
   {
    "duration": 54,
    "start_time": "2023-06-01T05:54:56.417Z"
   },
   {
    "duration": 7,
    "start_time": "2023-06-01T05:54:56.473Z"
   },
   {
    "duration": 2209,
    "start_time": "2023-06-01T05:54:56.482Z"
   },
   {
    "duration": 25,
    "start_time": "2023-06-01T05:54:58.693Z"
   },
   {
    "duration": 9902,
    "start_time": "2023-06-01T05:54:58.720Z"
   },
   {
    "duration": 1093,
    "start_time": "2023-06-01T05:55:08.624Z"
   },
   {
    "duration": 15,
    "start_time": "2023-06-01T05:55:09.719Z"
   },
   {
    "duration": 18,
    "start_time": "2023-06-01T05:55:09.736Z"
   },
   {
    "duration": 9,
    "start_time": "2023-06-01T05:55:09.756Z"
   },
   {
    "duration": 5,
    "start_time": "2023-06-01T05:55:09.767Z"
   },
   {
    "duration": 19,
    "start_time": "2023-06-01T05:55:09.774Z"
   },
   {
    "duration": 6,
    "start_time": "2023-06-01T05:55:09.795Z"
   },
   {
    "duration": 40,
    "start_time": "2023-06-01T05:55:09.803Z"
   },
   {
    "duration": 17,
    "start_time": "2023-06-01T05:55:09.847Z"
   },
   {
    "duration": 15,
    "start_time": "2023-06-01T05:55:09.865Z"
   },
   {
    "duration": 26,
    "start_time": "2023-06-01T05:55:09.881Z"
   },
   {
    "duration": 40,
    "start_time": "2023-06-01T05:55:09.909Z"
   },
   {
    "duration": 6,
    "start_time": "2023-06-01T05:55:09.951Z"
   },
   {
    "duration": 18,
    "start_time": "2023-06-01T05:55:09.959Z"
   },
   {
    "duration": 4,
    "start_time": "2023-06-01T05:55:09.979Z"
   },
   {
    "duration": 24,
    "start_time": "2023-06-01T05:55:09.985Z"
   },
   {
    "duration": 41,
    "start_time": "2023-06-01T05:55:10.010Z"
   },
   {
    "duration": 8,
    "start_time": "2023-06-01T05:55:10.053Z"
   },
   {
    "duration": 24,
    "start_time": "2023-06-01T05:55:10.063Z"
   },
   {
    "duration": 22,
    "start_time": "2023-06-01T05:55:10.089Z"
   },
   {
    "duration": 6,
    "start_time": "2023-06-01T05:55:10.113Z"
   },
   {
    "duration": 26,
    "start_time": "2023-06-01T05:55:10.142Z"
   },
   {
    "duration": 5,
    "start_time": "2023-06-01T05:55:10.170Z"
   },
   {
    "duration": 16,
    "start_time": "2023-06-01T05:55:10.176Z"
   },
   {
    "duration": 4,
    "start_time": "2023-06-01T05:55:10.194Z"
   },
   {
    "duration": 49,
    "start_time": "2023-06-01T05:55:10.200Z"
   },
   {
    "duration": 6,
    "start_time": "2023-06-01T05:55:10.251Z"
   },
   {
    "duration": 18,
    "start_time": "2023-06-01T05:55:10.259Z"
   },
   {
    "duration": 8,
    "start_time": "2023-06-01T05:55:10.279Z"
   },
   {
    "duration": 13,
    "start_time": "2023-06-01T05:55:10.289Z"
   },
   {
    "duration": 419,
    "start_time": "2023-06-01T05:55:10.304Z"
   },
   {
    "duration": 1058,
    "start_time": "2023-06-01T05:55:10.725Z"
   },
   {
    "duration": 3316,
    "start_time": "2023-06-01T05:55:11.785Z"
   },
   {
    "duration": 3,
    "start_time": "2023-06-01T05:55:15.102Z"
   },
   {
    "duration": 223,
    "start_time": "2023-06-01T05:55:15.107Z"
   },
   {
    "duration": 201,
    "start_time": "2023-06-01T05:55:15.332Z"
   },
   {
    "duration": 218,
    "start_time": "2023-06-01T05:55:15.535Z"
   },
   {
    "duration": 205,
    "start_time": "2023-06-01T05:55:15.755Z"
   },
   {
    "duration": 217,
    "start_time": "2023-06-01T05:55:15.961Z"
   },
   {
    "duration": 272,
    "start_time": "2023-06-01T05:55:16.180Z"
   },
   {
    "duration": 234,
    "start_time": "2023-06-01T05:55:16.454Z"
   },
   {
    "duration": 154,
    "start_time": "2023-06-01T05:55:16.690Z"
   },
   {
    "duration": 237,
    "start_time": "2023-06-01T05:55:16.846Z"
   },
   {
    "duration": 9,
    "start_time": "2023-06-01T05:55:17.085Z"
   },
   {
    "duration": 403,
    "start_time": "2023-06-01T05:55:17.095Z"
   },
   {
    "duration": 5,
    "start_time": "2023-06-01T05:55:17.500Z"
   },
   {
    "duration": 10,
    "start_time": "2023-06-01T05:55:17.506Z"
   },
   {
    "duration": 9,
    "start_time": "2023-06-01T05:55:17.518Z"
   },
   {
    "duration": 20,
    "start_time": "2023-06-01T05:55:17.528Z"
   },
   {
    "duration": 5,
    "start_time": "2023-06-01T05:55:17.550Z"
   },
   {
    "duration": 9,
    "start_time": "2023-06-01T05:55:17.557Z"
   },
   {
    "duration": 8,
    "start_time": "2023-06-01T05:55:17.568Z"
   },
   {
    "duration": 8,
    "start_time": "2023-06-01T05:55:17.578Z"
   },
   {
    "duration": 6,
    "start_time": "2023-06-01T05:55:17.588Z"
   },
   {
    "duration": 72,
    "start_time": "2023-06-01T05:55:17.595Z"
   },
   {
    "duration": 0,
    "start_time": "2023-06-01T05:55:17.670Z"
   },
   {
    "duration": 0,
    "start_time": "2023-06-01T05:55:17.671Z"
   },
   {
    "duration": 0,
    "start_time": "2023-06-01T05:55:17.672Z"
   },
   {
    "duration": 0,
    "start_time": "2023-06-01T05:55:17.673Z"
   },
   {
    "duration": 0,
    "start_time": "2023-06-01T05:55:17.674Z"
   },
   {
    "duration": 0,
    "start_time": "2023-06-01T05:55:17.676Z"
   },
   {
    "duration": 0,
    "start_time": "2023-06-01T05:55:17.677Z"
   },
   {
    "duration": 0,
    "start_time": "2023-06-01T05:55:17.679Z"
   },
   {
    "duration": 0,
    "start_time": "2023-06-01T05:55:17.679Z"
   },
   {
    "duration": 0,
    "start_time": "2023-06-01T05:55:17.680Z"
   },
   {
    "duration": 1,
    "start_time": "2023-06-01T05:55:17.681Z"
   },
   {
    "duration": 0,
    "start_time": "2023-06-01T05:55:17.682Z"
   },
   {
    "duration": 0,
    "start_time": "2023-06-01T05:55:17.683Z"
   },
   {
    "duration": 0,
    "start_time": "2023-06-01T05:55:17.684Z"
   },
   {
    "duration": 0,
    "start_time": "2023-06-01T05:55:17.685Z"
   },
   {
    "duration": 0,
    "start_time": "2023-06-01T05:55:17.686Z"
   },
   {
    "duration": 0,
    "start_time": "2023-06-01T05:55:17.687Z"
   },
   {
    "duration": 0,
    "start_time": "2023-06-01T05:55:17.688Z"
   },
   {
    "duration": 0,
    "start_time": "2023-06-01T05:55:17.690Z"
   },
   {
    "duration": 0,
    "start_time": "2023-06-01T05:55:17.691Z"
   },
   {
    "duration": 0,
    "start_time": "2023-06-01T05:55:17.692Z"
   },
   {
    "duration": 0,
    "start_time": "2023-06-01T05:55:17.693Z"
   },
   {
    "duration": 0,
    "start_time": "2023-06-01T05:55:17.694Z"
   },
   {
    "duration": 81,
    "start_time": "2023-06-01T05:55:53.208Z"
   },
   {
    "duration": 79,
    "start_time": "2023-06-01T05:56:02.593Z"
   },
   {
    "duration": 5,
    "start_time": "2023-06-01T05:56:35.482Z"
   },
   {
    "duration": 4,
    "start_time": "2023-06-01T05:57:21.899Z"
   },
   {
    "duration": 114,
    "start_time": "2023-06-01T05:57:26.377Z"
   },
   {
    "duration": 5,
    "start_time": "2023-06-01T05:59:12.643Z"
   },
   {
    "duration": 15,
    "start_time": "2023-06-01T06:03:21.526Z"
   },
   {
    "duration": 13,
    "start_time": "2023-06-01T06:03:40.782Z"
   },
   {
    "duration": 11,
    "start_time": "2023-06-01T06:04:29.823Z"
   },
   {
    "duration": 469,
    "start_time": "2023-06-01T06:04:36.436Z"
   },
   {
    "duration": 38,
    "start_time": "2023-06-01T06:04:36.907Z"
   },
   {
    "duration": 19,
    "start_time": "2023-06-01T06:04:36.947Z"
   },
   {
    "duration": 25,
    "start_time": "2023-06-01T06:04:36.968Z"
   },
   {
    "duration": 28,
    "start_time": "2023-06-01T06:04:36.994Z"
   },
   {
    "duration": 12,
    "start_time": "2023-06-01T06:04:37.024Z"
   },
   {
    "duration": 35,
    "start_time": "2023-06-01T06:04:37.038Z"
   },
   {
    "duration": 9,
    "start_time": "2023-06-01T06:04:37.074Z"
   },
   {
    "duration": 14,
    "start_time": "2023-06-01T06:04:37.084Z"
   },
   {
    "duration": 13,
    "start_time": "2023-06-01T06:04:37.101Z"
   },
   {
    "duration": 21,
    "start_time": "2023-06-01T06:04:37.116Z"
   },
   {
    "duration": 11,
    "start_time": "2023-06-01T06:04:37.141Z"
   },
   {
    "duration": 18,
    "start_time": "2023-06-01T06:04:37.153Z"
   },
   {
    "duration": 40,
    "start_time": "2023-06-01T06:04:37.172Z"
   },
   {
    "duration": 19,
    "start_time": "2023-06-01T06:04:37.213Z"
   },
   {
    "duration": 7,
    "start_time": "2023-06-01T06:04:37.241Z"
   },
   {
    "duration": 15,
    "start_time": "2023-06-01T06:04:37.250Z"
   },
   {
    "duration": 18,
    "start_time": "2023-06-01T06:04:37.267Z"
   },
   {
    "duration": 4508,
    "start_time": "2023-06-01T06:04:37.287Z"
   },
   {
    "duration": 893,
    "start_time": "2023-06-01T06:04:41.798Z"
   },
   {
    "duration": 13,
    "start_time": "2023-06-01T06:04:42.693Z"
   },
   {
    "duration": 14,
    "start_time": "2023-06-01T06:04:42.708Z"
   },
   {
    "duration": 26,
    "start_time": "2023-06-01T06:04:42.724Z"
   },
   {
    "duration": 4,
    "start_time": "2023-06-01T06:04:42.752Z"
   },
   {
    "duration": 23,
    "start_time": "2023-06-01T06:04:42.757Z"
   },
   {
    "duration": 7,
    "start_time": "2023-06-01T06:04:42.781Z"
   },
   {
    "duration": 28,
    "start_time": "2023-06-01T06:04:42.790Z"
   },
   {
    "duration": 18,
    "start_time": "2023-06-01T06:04:42.846Z"
   },
   {
    "duration": 14,
    "start_time": "2023-06-01T06:04:42.866Z"
   },
   {
    "duration": 26,
    "start_time": "2023-06-01T06:04:42.882Z"
   },
   {
    "duration": 38,
    "start_time": "2023-06-01T06:04:42.910Z"
   },
   {
    "duration": 13,
    "start_time": "2023-06-01T06:04:42.949Z"
   },
   {
    "duration": 34,
    "start_time": "2023-06-01T06:04:42.964Z"
   },
   {
    "duration": 5,
    "start_time": "2023-06-01T06:04:43.000Z"
   },
   {
    "duration": 26,
    "start_time": "2023-06-01T06:04:43.006Z"
   },
   {
    "duration": 14,
    "start_time": "2023-06-01T06:04:43.033Z"
   },
   {
    "duration": 10,
    "start_time": "2023-06-01T06:04:43.049Z"
   },
   {
    "duration": 25,
    "start_time": "2023-06-01T06:04:43.060Z"
   },
   {
    "duration": 18,
    "start_time": "2023-06-01T06:04:43.087Z"
   },
   {
    "duration": 6,
    "start_time": "2023-06-01T06:04:43.107Z"
   },
   {
    "duration": 48,
    "start_time": "2023-06-01T06:04:43.114Z"
   },
   {
    "duration": 5,
    "start_time": "2023-06-01T06:04:43.164Z"
   },
   {
    "duration": 17,
    "start_time": "2023-06-01T06:04:43.171Z"
   },
   {
    "duration": 7,
    "start_time": "2023-06-01T06:04:43.190Z"
   },
   {
    "duration": 16,
    "start_time": "2023-06-01T06:04:43.199Z"
   },
   {
    "duration": 31,
    "start_time": "2023-06-01T06:04:43.217Z"
   },
   {
    "duration": 13,
    "start_time": "2023-06-01T06:04:43.250Z"
   },
   {
    "duration": 10,
    "start_time": "2023-06-01T06:04:43.265Z"
   },
   {
    "duration": 11,
    "start_time": "2023-06-01T06:04:43.277Z"
   },
   {
    "duration": 431,
    "start_time": "2023-06-01T06:04:43.290Z"
   },
   {
    "duration": 1103,
    "start_time": "2023-06-01T06:04:43.723Z"
   },
   {
    "duration": 3165,
    "start_time": "2023-06-01T06:04:44.828Z"
   },
   {
    "duration": 4,
    "start_time": "2023-06-01T06:04:47.995Z"
   },
   {
    "duration": 396,
    "start_time": "2023-06-01T06:04:48.001Z"
   },
   {
    "duration": 221,
    "start_time": "2023-06-01T06:04:48.400Z"
   },
   {
    "duration": 202,
    "start_time": "2023-06-01T06:04:48.623Z"
   },
   {
    "duration": 196,
    "start_time": "2023-06-01T06:04:48.827Z"
   },
   {
    "duration": 220,
    "start_time": "2023-06-01T06:04:49.025Z"
   },
   {
    "duration": 259,
    "start_time": "2023-06-01T06:04:49.248Z"
   },
   {
    "duration": 253,
    "start_time": "2023-06-01T06:04:49.509Z"
   },
   {
    "duration": 170,
    "start_time": "2023-06-01T06:04:49.765Z"
   },
   {
    "duration": 243,
    "start_time": "2023-06-01T06:04:49.942Z"
   },
   {
    "duration": 9,
    "start_time": "2023-06-01T06:04:50.187Z"
   },
   {
    "duration": 295,
    "start_time": "2023-06-01T06:04:50.198Z"
   },
   {
    "duration": 5,
    "start_time": "2023-06-01T06:04:50.494Z"
   },
   {
    "duration": 9,
    "start_time": "2023-06-01T06:04:50.501Z"
   },
   {
    "duration": 7,
    "start_time": "2023-06-01T06:04:50.512Z"
   },
   {
    "duration": 21,
    "start_time": "2023-06-01T06:04:50.521Z"
   },
   {
    "duration": 4,
    "start_time": "2023-06-01T06:04:50.543Z"
   },
   {
    "duration": 22,
    "start_time": "2023-06-01T06:04:50.549Z"
   },
   {
    "duration": 11,
    "start_time": "2023-06-01T06:04:50.573Z"
   },
   {
    "duration": 5,
    "start_time": "2023-06-01T06:04:50.586Z"
   },
   {
    "duration": 8,
    "start_time": "2023-06-01T06:04:50.593Z"
   },
   {
    "duration": 236,
    "start_time": "2023-06-01T06:04:50.602Z"
   },
   {
    "duration": 0,
    "start_time": "2023-06-01T06:04:50.842Z"
   },
   {
    "duration": 0,
    "start_time": "2023-06-01T06:04:50.844Z"
   },
   {
    "duration": 0,
    "start_time": "2023-06-01T06:04:50.845Z"
   },
   {
    "duration": 0,
    "start_time": "2023-06-01T06:04:50.846Z"
   },
   {
    "duration": 0,
    "start_time": "2023-06-01T06:04:50.848Z"
   },
   {
    "duration": 0,
    "start_time": "2023-06-01T06:04:50.850Z"
   },
   {
    "duration": 0,
    "start_time": "2023-06-01T06:04:50.851Z"
   },
   {
    "duration": 0,
    "start_time": "2023-06-01T06:04:50.853Z"
   },
   {
    "duration": 0,
    "start_time": "2023-06-01T06:04:50.854Z"
   },
   {
    "duration": 0,
    "start_time": "2023-06-01T06:04:50.855Z"
   },
   {
    "duration": 0,
    "start_time": "2023-06-01T06:04:50.857Z"
   },
   {
    "duration": 0,
    "start_time": "2023-06-01T06:04:50.859Z"
   },
   {
    "duration": 0,
    "start_time": "2023-06-01T06:04:50.861Z"
   },
   {
    "duration": 0,
    "start_time": "2023-06-01T06:04:50.862Z"
   },
   {
    "duration": 0,
    "start_time": "2023-06-01T06:04:50.863Z"
   },
   {
    "duration": 0,
    "start_time": "2023-06-01T06:04:50.865Z"
   },
   {
    "duration": 0,
    "start_time": "2023-06-01T06:04:50.866Z"
   },
   {
    "duration": 0,
    "start_time": "2023-06-01T06:04:50.867Z"
   },
   {
    "duration": 0,
    "start_time": "2023-06-01T06:04:50.869Z"
   },
   {
    "duration": 0,
    "start_time": "2023-06-01T06:04:50.870Z"
   },
   {
    "duration": 0,
    "start_time": "2023-06-01T06:04:50.872Z"
   },
   {
    "duration": 0,
    "start_time": "2023-06-01T06:04:50.873Z"
   },
   {
    "duration": 0,
    "start_time": "2023-06-01T06:04:50.875Z"
   },
   {
    "duration": 12,
    "start_time": "2023-06-01T06:06:42.058Z"
   },
   {
    "duration": 11,
    "start_time": "2023-06-01T06:06:44.520Z"
   },
   {
    "duration": 11,
    "start_time": "2023-06-01T06:08:56.762Z"
   },
   {
    "duration": 10,
    "start_time": "2023-06-01T06:10:11.246Z"
   },
   {
    "duration": 213,
    "start_time": "2023-06-01T06:10:17.702Z"
   },
   {
    "duration": 211,
    "start_time": "2023-06-01T06:10:56.419Z"
   },
   {
    "duration": 205,
    "start_time": "2023-06-01T06:11:29.556Z"
   },
   {
    "duration": 3,
    "start_time": "2023-06-01T06:12:27.054Z"
   },
   {
    "duration": 11,
    "start_time": "2023-06-01T06:12:33.669Z"
   },
   {
    "duration": 12,
    "start_time": "2023-06-01T06:12:56.287Z"
   },
   {
    "duration": 5,
    "start_time": "2023-06-01T06:13:27.818Z"
   },
   {
    "duration": 3,
    "start_time": "2023-06-01T06:13:59.949Z"
   },
   {
    "duration": 12,
    "start_time": "2023-06-01T06:14:19.512Z"
   },
   {
    "duration": 37086,
    "start_time": "2023-06-01T06:14:29.742Z"
   },
   {
    "duration": 3,
    "start_time": "2023-06-01T06:16:17.793Z"
   },
   {
    "duration": 27,
    "start_time": "2023-06-01T06:16:18.647Z"
   },
   {
    "duration": 4,
    "start_time": "2023-06-01T06:16:59.450Z"
   },
   {
    "duration": 26,
    "start_time": "2023-06-01T06:17:01.376Z"
   },
   {
    "duration": 4,
    "start_time": "2023-06-01T06:17:38.041Z"
   },
   {
    "duration": 23,
    "start_time": "2023-06-01T06:17:39.298Z"
   },
   {
    "duration": 4,
    "start_time": "2023-06-01T06:18:54.144Z"
   },
   {
    "duration": 24,
    "start_time": "2023-06-01T06:18:56.057Z"
   },
   {
    "duration": 3,
    "start_time": "2023-06-01T06:19:04.693Z"
   },
   {
    "duration": 4,
    "start_time": "2023-06-01T06:19:19.066Z"
   },
   {
    "duration": 30,
    "start_time": "2023-06-01T06:19:20.590Z"
   },
   {
    "duration": 4,
    "start_time": "2023-06-01T06:19:43.014Z"
   },
   {
    "duration": 6,
    "start_time": "2023-06-01T06:21:02.353Z"
   },
   {
    "duration": 3,
    "start_time": "2023-06-01T06:21:07.290Z"
   },
   {
    "duration": 23,
    "start_time": "2023-06-01T06:21:08.787Z"
   },
   {
    "duration": 3,
    "start_time": "2023-06-01T06:21:56.499Z"
   },
   {
    "duration": 24,
    "start_time": "2023-06-01T06:21:56.975Z"
   },
   {
    "duration": 86,
    "start_time": "2023-06-01T06:23:48.734Z"
   },
   {
    "duration": 3,
    "start_time": "2023-06-01T06:23:55.388Z"
   },
   {
    "duration": 28,
    "start_time": "2023-06-01T06:23:59.178Z"
   },
   {
    "duration": 3,
    "start_time": "2023-06-01T06:25:07.021Z"
   },
   {
    "duration": 3,
    "start_time": "2023-06-01T06:25:07.797Z"
   },
   {
    "duration": 29,
    "start_time": "2023-06-01T06:25:08.849Z"
   },
   {
    "duration": 3,
    "start_time": "2023-06-01T06:25:58.445Z"
   },
   {
    "duration": 3,
    "start_time": "2023-06-01T06:25:59.037Z"
   },
   {
    "duration": 22,
    "start_time": "2023-06-01T06:25:59.581Z"
   },
   {
    "duration": 5,
    "start_time": "2023-06-01T06:26:38.822Z"
   },
   {
    "duration": 3,
    "start_time": "2023-06-01T06:26:39.528Z"
   },
   {
    "duration": 43057,
    "start_time": "2023-06-01T06:26:39.993Z"
   },
   {
    "duration": 5,
    "start_time": "2023-06-01T06:27:24.705Z"
   },
   {
    "duration": 3,
    "start_time": "2023-06-01T06:27:25.055Z"
   },
   {
    "duration": 40360,
    "start_time": "2023-06-01T06:27:25.776Z"
   },
   {
    "duration": 146,
    "start_time": "2023-06-01T06:28:11.797Z"
   },
   {
    "duration": 127339,
    "start_time": "2023-06-01T06:28:35.592Z"
   },
   {
    "duration": 10,
    "start_time": "2023-06-01T06:34:35.543Z"
   },
   {
    "duration": 3,
    "start_time": "2023-06-01T06:34:39.362Z"
   },
   {
    "duration": 2,
    "start_time": "2023-06-01T06:34:39.786Z"
   },
   {
    "duration": 428290,
    "start_time": "2023-06-01T06:34:40.298Z"
   },
   {
    "duration": 4,
    "start_time": "2023-06-01T06:42:05.519Z"
   },
   {
    "duration": 4,
    "start_time": "2023-06-01T06:42:06.921Z"
   },
   {
    "duration": 199585,
    "start_time": "2023-06-01T06:42:07.315Z"
   },
   {
    "duration": 10,
    "start_time": "2023-06-01T06:46:32.910Z"
   },
   {
    "duration": 10,
    "start_time": "2023-06-01T06:48:16.923Z"
   },
   {
    "duration": 10,
    "start_time": "2023-06-01T06:48:28.787Z"
   },
   {
    "duration": 11,
    "start_time": "2023-06-01T06:48:32.313Z"
   },
   {
    "duration": 4,
    "start_time": "2023-06-01T06:49:07.221Z"
   },
   {
    "duration": 4,
    "start_time": "2023-06-01T06:50:04.444Z"
   },
   {
    "duration": 4,
    "start_time": "2023-06-01T06:50:57.848Z"
   },
   {
    "duration": 3,
    "start_time": "2023-06-01T06:50:58.634Z"
   },
   {
    "duration": 28369,
    "start_time": "2023-06-01T06:50:59.902Z"
   },
   {
    "duration": 77,
    "start_time": "2023-06-01T06:51:44.197Z"
   },
   {
    "duration": 10,
    "start_time": "2023-06-01T06:51:50.145Z"
   },
   {
    "duration": 10,
    "start_time": "2023-06-01T06:53:04.335Z"
   },
   {
    "duration": 5,
    "start_time": "2023-06-01T06:55:16.496Z"
   },
   {
    "duration": 10,
    "start_time": "2023-06-01T06:55:22.024Z"
   },
   {
    "duration": 11,
    "start_time": "2023-06-01T06:57:42.332Z"
   },
   {
    "duration": 13,
    "start_time": "2023-06-01T06:57:44.888Z"
   },
   {
    "duration": 4,
    "start_time": "2023-06-01T06:58:21.890Z"
   },
   {
    "duration": 590997,
    "start_time": "2023-06-01T06:58:24.940Z"
   },
   {
    "duration": 4,
    "start_time": "2023-06-01T07:08:15.939Z"
   },
   {
    "duration": 3,
    "start_time": "2023-06-01T07:09:34.881Z"
   },
   {
    "duration": 11,
    "start_time": "2023-06-01T07:09:40.546Z"
   },
   {
    "duration": 3747,
    "start_time": "2023-06-01T07:10:00.478Z"
   },
   {
    "duration": 4,
    "start_time": "2023-06-01T07:11:16.610Z"
   },
   {
    "duration": 287,
    "start_time": "2023-06-01T07:11:49.724Z"
   },
   {
    "duration": 4,
    "start_time": "2023-06-01T07:14:37.684Z"
   },
   {
    "duration": 3450,
    "start_time": "2023-06-01T07:14:40.315Z"
   },
   {
    "duration": 4,
    "start_time": "2023-06-01T07:14:49.109Z"
   },
   {
    "duration": 11,
    "start_time": "2023-06-01T07:15:29.662Z"
   },
   {
    "duration": 3729,
    "start_time": "2023-06-01T07:15:59.700Z"
   },
   {
    "duration": 11,
    "start_time": "2023-06-01T07:16:15.883Z"
   },
   {
    "duration": 146,
    "start_time": "2023-06-01T07:16:33.434Z"
   },
   {
    "duration": 141,
    "start_time": "2023-06-01T07:17:07.887Z"
   },
   {
    "duration": 16,
    "start_time": "2023-06-01T07:17:31.543Z"
   },
   {
    "duration": 3,
    "start_time": "2023-06-01T07:19:35.008Z"
   },
   {
    "duration": 3,
    "start_time": "2023-06-01T07:19:35.619Z"
   },
   {
    "duration": 421549,
    "start_time": "2023-06-01T07:19:37.754Z"
   },
   {
    "duration": 0,
    "start_time": "2023-06-01T07:26:39.305Z"
   },
   {
    "duration": 0,
    "start_time": "2023-06-01T07:26:39.307Z"
   },
   {
    "duration": 0,
    "start_time": "2023-06-01T07:26:39.308Z"
   },
   {
    "duration": 4,
    "start_time": "2023-06-01T07:26:46.347Z"
   },
   {
    "duration": 12,
    "start_time": "2023-06-01T07:26:46.915Z"
   },
   {
    "duration": 5,
    "start_time": "2023-06-01T07:28:39.895Z"
   },
   {
    "duration": 10,
    "start_time": "2023-06-01T07:28:42.317Z"
   },
   {
    "duration": 12,
    "start_time": "2023-06-01T07:29:06.697Z"
   },
   {
    "duration": 6,
    "start_time": "2023-06-01T07:29:15.454Z"
   },
   {
    "duration": 6,
    "start_time": "2023-06-01T07:29:31.643Z"
   },
   {
    "duration": 39,
    "start_time": "2023-06-01T07:29:32.239Z"
   },
   {
    "duration": 6,
    "start_time": "2023-06-01T07:32:49.311Z"
   },
   {
    "duration": 4,
    "start_time": "2023-06-01T07:32:57.643Z"
   },
   {
    "duration": 6,
    "start_time": "2023-06-01T07:32:58.120Z"
   },
   {
    "duration": 8,
    "start_time": "2023-06-01T07:32:59.162Z"
   },
   {
    "duration": 47,
    "start_time": "2023-06-01T07:32:59.911Z"
   },
   {
    "duration": 44,
    "start_time": "2023-06-01T07:33:27.282Z"
   },
   {
    "duration": 452,
    "start_time": "2023-06-01T07:33:36.144Z"
   },
   {
    "duration": 40,
    "start_time": "2023-06-01T07:33:36.598Z"
   },
   {
    "duration": 19,
    "start_time": "2023-06-01T07:33:36.640Z"
   },
   {
    "duration": 15,
    "start_time": "2023-06-01T07:33:36.660Z"
   },
   {
    "duration": 17,
    "start_time": "2023-06-01T07:33:36.677Z"
   },
   {
    "duration": 8,
    "start_time": "2023-06-01T07:33:36.695Z"
   },
   {
    "duration": 24,
    "start_time": "2023-06-01T07:33:36.704Z"
   },
   {
    "duration": 15,
    "start_time": "2023-06-01T07:33:36.729Z"
   },
   {
    "duration": 13,
    "start_time": "2023-06-01T07:33:36.746Z"
   },
   {
    "duration": 14,
    "start_time": "2023-06-01T07:33:36.761Z"
   },
   {
    "duration": 22,
    "start_time": "2023-06-01T07:33:36.776Z"
   },
   {
    "duration": 10,
    "start_time": "2023-06-01T07:33:36.800Z"
   },
   {
    "duration": 36,
    "start_time": "2023-06-01T07:33:36.811Z"
   },
   {
    "duration": 28,
    "start_time": "2023-06-01T07:33:36.849Z"
   },
   {
    "duration": 18,
    "start_time": "2023-06-01T07:33:36.879Z"
   },
   {
    "duration": 7,
    "start_time": "2023-06-01T07:33:36.899Z"
   },
   {
    "duration": 17,
    "start_time": "2023-06-01T07:33:36.908Z"
   },
   {
    "duration": 26,
    "start_time": "2023-06-01T07:33:36.927Z"
   },
   {
    "duration": 4710,
    "start_time": "2023-06-01T07:33:36.955Z"
   },
   {
    "duration": 953,
    "start_time": "2023-06-01T07:33:41.668Z"
   },
   {
    "duration": 18,
    "start_time": "2023-06-01T07:33:42.623Z"
   },
   {
    "duration": 24,
    "start_time": "2023-06-01T07:33:42.643Z"
   },
   {
    "duration": 11,
    "start_time": "2023-06-01T07:33:42.669Z"
   },
   {
    "duration": 4,
    "start_time": "2023-06-01T07:33:42.682Z"
   },
   {
    "duration": 21,
    "start_time": "2023-06-01T07:33:42.688Z"
   },
   {
    "duration": 8,
    "start_time": "2023-06-01T07:33:42.711Z"
   },
   {
    "duration": 41,
    "start_time": "2023-06-01T07:33:42.720Z"
   },
   {
    "duration": 16,
    "start_time": "2023-06-01T07:33:42.765Z"
   },
   {
    "duration": 16,
    "start_time": "2023-06-01T07:33:42.783Z"
   },
   {
    "duration": 47,
    "start_time": "2023-06-01T07:33:42.800Z"
   },
   {
    "duration": 12,
    "start_time": "2023-06-01T07:33:42.849Z"
   },
   {
    "duration": 12,
    "start_time": "2023-06-01T07:33:42.862Z"
   },
   {
    "duration": 18,
    "start_time": "2023-06-01T07:33:42.876Z"
   },
   {
    "duration": 4,
    "start_time": "2023-06-01T07:33:42.896Z"
   },
   {
    "duration": 42,
    "start_time": "2023-06-01T07:33:42.901Z"
   },
   {
    "duration": 16,
    "start_time": "2023-06-01T07:33:42.945Z"
   },
   {
    "duration": 11,
    "start_time": "2023-06-01T07:33:42.962Z"
   },
   {
    "duration": 26,
    "start_time": "2023-06-01T07:33:42.974Z"
   },
   {
    "duration": 19,
    "start_time": "2023-06-01T07:33:43.002Z"
   },
   {
    "duration": 22,
    "start_time": "2023-06-01T07:33:43.022Z"
   },
   {
    "duration": 37,
    "start_time": "2023-06-01T07:33:43.045Z"
   },
   {
    "duration": 5,
    "start_time": "2023-06-01T07:33:43.084Z"
   },
   {
    "duration": 19,
    "start_time": "2023-06-01T07:33:43.091Z"
   },
   {
    "duration": 5,
    "start_time": "2023-06-01T07:33:43.112Z"
   },
   {
    "duration": 32,
    "start_time": "2023-06-01T07:33:43.119Z"
   },
   {
    "duration": 8,
    "start_time": "2023-06-01T07:33:43.153Z"
   },
   {
    "duration": 11,
    "start_time": "2023-06-01T07:33:43.163Z"
   },
   {
    "duration": 10,
    "start_time": "2023-06-01T07:33:43.176Z"
   },
   {
    "duration": 25,
    "start_time": "2023-06-01T07:33:43.188Z"
   },
   {
    "duration": 432,
    "start_time": "2023-06-01T07:33:43.214Z"
   },
   {
    "duration": 1084,
    "start_time": "2023-06-01T07:33:43.649Z"
   },
   {
    "duration": 3114,
    "start_time": "2023-06-01T07:33:44.735Z"
   },
   {
    "duration": 4,
    "start_time": "2023-06-01T07:33:47.850Z"
   },
   {
    "duration": 297,
    "start_time": "2023-06-01T07:33:47.855Z"
   },
   {
    "duration": 226,
    "start_time": "2023-06-01T07:33:48.154Z"
   },
   {
    "duration": 217,
    "start_time": "2023-06-01T07:33:48.383Z"
   },
   {
    "duration": 193,
    "start_time": "2023-06-01T07:33:48.601Z"
   },
   {
    "duration": 214,
    "start_time": "2023-06-01T07:33:48.796Z"
   },
   {
    "duration": 277,
    "start_time": "2023-06-01T07:33:49.012Z"
   },
   {
    "duration": 246,
    "start_time": "2023-06-01T07:33:49.291Z"
   },
   {
    "duration": 159,
    "start_time": "2023-06-01T07:33:49.539Z"
   },
   {
    "duration": 225,
    "start_time": "2023-06-01T07:33:49.700Z"
   },
   {
    "duration": 15,
    "start_time": "2023-06-01T07:33:49.927Z"
   },
   {
    "duration": 288,
    "start_time": "2023-06-01T07:33:49.944Z"
   },
   {
    "duration": 8,
    "start_time": "2023-06-01T07:33:50.234Z"
   },
   {
    "duration": 8,
    "start_time": "2023-06-01T07:33:50.243Z"
   },
   {
    "duration": 10,
    "start_time": "2023-06-01T07:33:50.252Z"
   },
   {
    "duration": 19,
    "start_time": "2023-06-01T07:33:50.264Z"
   },
   {
    "duration": 7,
    "start_time": "2023-06-01T07:33:50.285Z"
   },
   {
    "duration": 9,
    "start_time": "2023-06-01T07:33:50.293Z"
   },
   {
    "duration": 15,
    "start_time": "2023-06-01T07:33:50.303Z"
   },
   {
    "duration": 13,
    "start_time": "2023-06-01T07:33:50.320Z"
   },
   {
    "duration": 7,
    "start_time": "2023-06-01T07:33:50.335Z"
   },
   {
    "duration": 12,
    "start_time": "2023-06-01T07:33:50.344Z"
   },
   {
    "duration": 9,
    "start_time": "2023-06-01T07:33:50.358Z"
   },
   {
    "duration": 991097,
    "start_time": "2023-06-01T07:33:50.369Z"
   },
   {
    "duration": 4,
    "start_time": "2023-06-01T07:50:21.467Z"
   },
   {
    "duration": 9,
    "start_time": "2023-06-01T07:50:21.472Z"
   },
   {
    "duration": 2990,
    "start_time": "2023-06-01T07:50:21.482Z"
   },
   {
    "duration": 5,
    "start_time": "2023-06-01T07:50:24.473Z"
   },
   {
    "duration": 423,
    "start_time": "2023-06-01T07:50:24.480Z"
   },
   {
    "duration": 5,
    "start_time": "2023-06-01T07:50:24.911Z"
   },
   {
    "duration": 33,
    "start_time": "2023-06-01T07:50:24.918Z"
   },
   {
    "duration": 8,
    "start_time": "2023-06-01T07:50:24.953Z"
   },
   {
    "duration": 174,
    "start_time": "2023-06-01T07:50:24.962Z"
   },
   {
    "duration": 0,
    "start_time": "2023-06-01T07:50:25.139Z"
   },
   {
    "duration": 0,
    "start_time": "2023-06-01T07:50:25.141Z"
   },
   {
    "duration": 0,
    "start_time": "2023-06-01T07:50:25.142Z"
   },
   {
    "duration": 0,
    "start_time": "2023-06-01T07:50:25.144Z"
   },
   {
    "duration": 0,
    "start_time": "2023-06-01T07:50:25.146Z"
   },
   {
    "duration": 0,
    "start_time": "2023-06-01T07:50:25.147Z"
   },
   {
    "duration": 0,
    "start_time": "2023-06-01T07:50:25.149Z"
   },
   {
    "duration": 0,
    "start_time": "2023-06-01T07:50:25.150Z"
   },
   {
    "duration": 0,
    "start_time": "2023-06-01T07:50:25.152Z"
   },
   {
    "duration": 0,
    "start_time": "2023-06-01T07:50:25.154Z"
   },
   {
    "duration": 0,
    "start_time": "2023-06-01T07:50:25.155Z"
   },
   {
    "duration": 0,
    "start_time": "2023-06-01T07:50:25.158Z"
   },
   {
    "duration": 0,
    "start_time": "2023-06-01T07:50:25.159Z"
   },
   {
    "duration": 0,
    "start_time": "2023-06-01T07:50:25.160Z"
   },
   {
    "duration": 0,
    "start_time": "2023-06-01T07:50:25.162Z"
   },
   {
    "duration": 0,
    "start_time": "2023-06-01T07:50:25.163Z"
   },
   {
    "duration": 1660,
    "start_time": "2023-06-01T11:54:24.317Z"
   },
   {
    "duration": 439,
    "start_time": "2023-06-01T11:54:34.798Z"
   },
   {
    "duration": 345,
    "start_time": "2023-06-01T11:54:35.239Z"
   },
   {
    "duration": 22,
    "start_time": "2023-06-01T11:54:35.589Z"
   },
   {
    "duration": 13,
    "start_time": "2023-06-01T11:54:35.613Z"
   },
   {
    "duration": 20,
    "start_time": "2023-06-01T11:54:35.628Z"
   },
   {
    "duration": 11,
    "start_time": "2023-06-01T11:54:35.650Z"
   },
   {
    "duration": 74,
    "start_time": "2023-06-01T11:54:35.663Z"
   },
   {
    "duration": 9,
    "start_time": "2023-06-01T11:54:35.739Z"
   },
   {
    "duration": 19,
    "start_time": "2023-06-01T11:54:35.749Z"
   },
   {
    "duration": 29,
    "start_time": "2023-06-01T11:54:35.769Z"
   },
   {
    "duration": 142,
    "start_time": "2023-06-01T11:54:35.800Z"
   },
   {
    "duration": 9,
    "start_time": "2023-06-01T11:54:35.944Z"
   },
   {
    "duration": 12,
    "start_time": "2023-06-01T11:54:35.955Z"
   },
   {
    "duration": 37,
    "start_time": "2023-06-01T11:54:35.970Z"
   },
   {
    "duration": 106,
    "start_time": "2023-06-01T11:54:36.008Z"
   },
   {
    "duration": 7,
    "start_time": "2023-06-01T11:54:36.115Z"
   },
   {
    "duration": 13,
    "start_time": "2023-06-01T11:54:36.123Z"
   },
   {
    "duration": 26,
    "start_time": "2023-06-01T11:54:36.138Z"
   },
   {
    "duration": 11405,
    "start_time": "2023-06-01T11:54:36.166Z"
   },
   {
    "duration": 979,
    "start_time": "2023-06-01T11:54:47.574Z"
   },
   {
    "duration": 13,
    "start_time": "2023-06-01T11:54:48.554Z"
   },
   {
    "duration": 17,
    "start_time": "2023-06-01T11:54:48.575Z"
   },
   {
    "duration": 15,
    "start_time": "2023-06-01T11:54:48.607Z"
   },
   {
    "duration": 4,
    "start_time": "2023-06-01T11:54:48.624Z"
   },
   {
    "duration": 29,
    "start_time": "2023-06-01T11:54:48.629Z"
   },
   {
    "duration": 12,
    "start_time": "2023-06-01T11:54:48.659Z"
   },
   {
    "duration": 48,
    "start_time": "2023-06-01T11:54:48.674Z"
   },
   {
    "duration": 22,
    "start_time": "2023-06-01T11:54:48.724Z"
   },
   {
    "duration": 16,
    "start_time": "2023-06-01T11:54:48.748Z"
   },
   {
    "duration": 44,
    "start_time": "2023-06-01T11:54:48.766Z"
   },
   {
    "duration": 23,
    "start_time": "2023-06-01T11:54:48.812Z"
   },
   {
    "duration": 6,
    "start_time": "2023-06-01T11:54:48.837Z"
   },
   {
    "duration": 54,
    "start_time": "2023-06-01T11:54:48.845Z"
   },
   {
    "duration": 8,
    "start_time": "2023-06-01T11:54:48.902Z"
   },
   {
    "duration": 24,
    "start_time": "2023-06-01T11:54:48.912Z"
   },
   {
    "duration": 13,
    "start_time": "2023-06-01T11:54:48.938Z"
   },
   {
    "duration": 26,
    "start_time": "2023-06-01T11:54:48.953Z"
   },
   {
    "duration": 30,
    "start_time": "2023-06-01T11:54:48.981Z"
   },
   {
    "duration": 19,
    "start_time": "2023-06-01T11:54:49.012Z"
   },
   {
    "duration": 5,
    "start_time": "2023-06-01T11:54:49.033Z"
   },
   {
    "duration": 55,
    "start_time": "2023-06-01T11:54:49.044Z"
   },
   {
    "duration": 312,
    "start_time": "2023-06-01T11:54:49.101Z"
   },
   {
    "duration": 351,
    "start_time": "2023-06-01T11:54:49.414Z"
   },
   {
    "duration": 119,
    "start_time": "2023-06-01T11:54:49.766Z"
   },
   {
    "duration": 30,
    "start_time": "2023-06-01T11:54:49.886Z"
   },
   {
    "duration": 8,
    "start_time": "2023-06-01T11:54:49.918Z"
   },
   {
    "duration": 17,
    "start_time": "2023-06-01T11:54:49.927Z"
   },
   {
    "duration": 7,
    "start_time": "2023-06-01T11:54:49.945Z"
   },
   {
    "duration": 13,
    "start_time": "2023-06-01T11:54:49.954Z"
   },
   {
    "duration": 405,
    "start_time": "2023-06-01T11:54:49.969Z"
   },
   {
    "duration": 1179,
    "start_time": "2023-06-01T11:54:50.376Z"
   },
   {
    "duration": 3674,
    "start_time": "2023-06-01T11:54:51.556Z"
   },
   {
    "duration": 3,
    "start_time": "2023-06-01T11:54:55.232Z"
   },
   {
    "duration": 208,
    "start_time": "2023-06-01T11:54:55.236Z"
   },
   {
    "duration": 199,
    "start_time": "2023-06-01T11:54:55.445Z"
   },
   {
    "duration": 207,
    "start_time": "2023-06-01T11:54:55.646Z"
   },
   {
    "duration": 199,
    "start_time": "2023-06-01T11:54:55.855Z"
   },
   {
    "duration": 236,
    "start_time": "2023-06-01T11:54:56.055Z"
   },
   {
    "duration": 269,
    "start_time": "2023-06-01T11:54:56.294Z"
   },
   {
    "duration": 264,
    "start_time": "2023-06-01T11:54:56.565Z"
   },
   {
    "duration": 177,
    "start_time": "2023-06-01T11:54:56.831Z"
   },
   {
    "duration": 233,
    "start_time": "2023-06-01T11:54:57.010Z"
   },
   {
    "duration": 8,
    "start_time": "2023-06-01T11:54:57.245Z"
   },
   {
    "duration": 416,
    "start_time": "2023-06-01T11:54:57.255Z"
   },
   {
    "duration": 21,
    "start_time": "2023-06-01T11:54:57.675Z"
   },
   {
    "duration": 6,
    "start_time": "2023-06-01T11:54:57.703Z"
   },
   {
    "duration": 5,
    "start_time": "2023-06-01T11:54:57.711Z"
   },
   {
    "duration": 12,
    "start_time": "2023-06-01T11:54:57.718Z"
   },
   {
    "duration": 4,
    "start_time": "2023-06-01T11:54:57.731Z"
   },
   {
    "duration": 5,
    "start_time": "2023-06-01T11:54:57.737Z"
   },
   {
    "duration": 8,
    "start_time": "2023-06-01T11:54:57.743Z"
   },
   {
    "duration": 3,
    "start_time": "2023-06-01T11:54:57.753Z"
   },
   {
    "duration": 18,
    "start_time": "2023-06-01T11:54:57.757Z"
   },
   {
    "duration": 8,
    "start_time": "2023-06-01T11:54:57.779Z"
   },
   {
    "duration": 4,
    "start_time": "2023-06-01T11:54:57.788Z"
   },
   {
    "duration": 26176,
    "start_time": "2023-06-01T11:54:57.794Z"
   },
   {
    "duration": 0,
    "start_time": "2023-06-01T11:55:23.972Z"
   },
   {
    "duration": 0,
    "start_time": "2023-06-01T11:55:23.974Z"
   },
   {
    "duration": 0,
    "start_time": "2023-06-01T11:55:23.975Z"
   },
   {
    "duration": 0,
    "start_time": "2023-06-01T11:55:23.976Z"
   },
   {
    "duration": 0,
    "start_time": "2023-06-01T11:55:23.976Z"
   },
   {
    "duration": 0,
    "start_time": "2023-06-01T11:55:23.980Z"
   },
   {
    "duration": 0,
    "start_time": "2023-06-01T11:55:23.983Z"
   },
   {
    "duration": 0,
    "start_time": "2023-06-01T11:55:23.984Z"
   },
   {
    "duration": 0,
    "start_time": "2023-06-01T11:55:23.987Z"
   },
   {
    "duration": 0,
    "start_time": "2023-06-01T11:55:23.988Z"
   },
   {
    "duration": 0,
    "start_time": "2023-06-01T11:55:23.989Z"
   },
   {
    "duration": 0,
    "start_time": "2023-06-01T11:55:23.990Z"
   },
   {
    "duration": 0,
    "start_time": "2023-06-01T11:55:23.992Z"
   },
   {
    "duration": 0,
    "start_time": "2023-06-01T11:55:23.995Z"
   },
   {
    "duration": 0,
    "start_time": "2023-06-01T11:55:23.996Z"
   },
   {
    "duration": 0,
    "start_time": "2023-06-01T11:55:23.998Z"
   },
   {
    "duration": 1,
    "start_time": "2023-06-01T11:55:23.998Z"
   },
   {
    "duration": 0,
    "start_time": "2023-06-01T11:55:24.000Z"
   },
   {
    "duration": 0,
    "start_time": "2023-06-01T11:55:24.004Z"
   },
   {
    "duration": 0,
    "start_time": "2023-06-01T11:55:24.006Z"
   },
   {
    "duration": 0,
    "start_time": "2023-06-01T11:55:24.007Z"
   },
   {
    "duration": 0,
    "start_time": "2023-06-01T11:55:24.008Z"
   },
   {
    "duration": 0,
    "start_time": "2023-06-01T11:55:24.012Z"
   },
   {
    "duration": 0,
    "start_time": "2023-06-01T11:55:24.015Z"
   },
   {
    "duration": 0,
    "start_time": "2023-06-01T11:55:24.017Z"
   },
   {
    "duration": 4,
    "start_time": "2023-06-01T11:55:26.256Z"
   },
   {
    "duration": 7,
    "start_time": "2023-06-01T11:55:26.793Z"
   },
   {
    "duration": 7,
    "start_time": "2023-06-01T11:55:27.193Z"
   },
   {
    "duration": 52,
    "start_time": "2023-06-01T11:55:28.091Z"
   },
   {
    "duration": 6,
    "start_time": "2023-06-01T12:02:59.693Z"
   },
   {
    "duration": 46,
    "start_time": "2023-06-01T12:03:05.004Z"
   },
   {
    "duration": 3,
    "start_time": "2023-06-01T12:11:10.265Z"
   },
   {
    "duration": 3,
    "start_time": "2023-06-01T12:11:11.168Z"
   },
   {
    "duration": 706166,
    "start_time": "2023-06-01T12:11:20.650Z"
   },
   {
    "duration": 0,
    "start_time": "2023-06-01T12:23:06.818Z"
   },
   {
    "duration": 0,
    "start_time": "2023-06-01T12:23:06.819Z"
   },
   {
    "duration": 46,
    "start_time": "2023-06-01T12:23:07.580Z"
   },
   {
    "duration": 62,
    "start_time": "2023-06-01T12:28:02.705Z"
   },
   {
    "duration": 10,
    "start_time": "2023-06-01T13:05:14.486Z"
   },
   {
    "duration": 4,
    "start_time": "2023-06-01T13:06:52.531Z"
   },
   {
    "duration": 7,
    "start_time": "2023-06-01T13:06:53.350Z"
   },
   {
    "duration": 98,
    "start_time": "2023-06-01T13:06:54.791Z"
   },
   {
    "duration": 3,
    "start_time": "2023-06-01T13:06:57.387Z"
   },
   {
    "duration": 16,
    "start_time": "2023-06-01T13:06:58.721Z"
   },
   {
    "duration": 11,
    "start_time": "2023-06-01T13:07:02.443Z"
   },
   {
    "duration": 35,
    "start_time": "2023-06-01T13:07:15.197Z"
   },
   {
    "duration": 2,
    "start_time": "2023-06-01T13:07:15.234Z"
   },
   {
    "duration": 4,
    "start_time": "2023-06-01T13:07:15.249Z"
   },
   {
    "duration": 0,
    "start_time": "2023-06-01T13:12:06.475Z"
   },
   {
    "duration": 11,
    "start_time": "2023-06-01T13:13:42.707Z"
   },
   {
    "duration": 929,
    "start_time": "2023-06-01T13:13:48.788Z"
   },
   {
    "duration": 39,
    "start_time": "2023-06-01T13:20:50.750Z"
   },
   {
    "duration": 30,
    "start_time": "2023-06-01T13:21:14.340Z"
   },
   {
    "duration": 33,
    "start_time": "2023-06-01T13:27:42.866Z"
   },
   {
    "duration": 10,
    "start_time": "2023-06-01T13:29:55.587Z"
   },
   {
    "duration": 9494,
    "start_time": "2023-06-01T13:30:21.687Z"
   },
   {
    "duration": 10,
    "start_time": "2023-06-01T13:30:31.563Z"
   },
   {
    "duration": 12,
    "start_time": "2023-06-01T13:30:34.787Z"
   },
   {
    "duration": 3,
    "start_time": "2023-06-01T13:31:48.456Z"
   },
   {
    "duration": 6,
    "start_time": "2023-06-01T13:36:10.167Z"
   },
   {
    "duration": 32792,
    "start_time": "2023-06-01T13:41:14.632Z"
   },
   {
    "duration": 13720,
    "start_time": "2023-06-01T13:42:13.602Z"
   },
   {
    "duration": 0,
    "start_time": "2023-06-01T13:42:27.323Z"
   },
   {
    "duration": 0,
    "start_time": "2023-06-01T13:42:27.324Z"
   },
   {
    "duration": 2923,
    "start_time": "2023-06-01T13:42:30.987Z"
   },
   {
    "duration": 52569,
    "start_time": "2023-06-01T13:42:42.714Z"
   },
   {
    "duration": 8,
    "start_time": "2023-06-01T13:43:35.286Z"
   },
   {
    "duration": 12,
    "start_time": "2023-06-01T13:43:35.296Z"
   },
   {
    "duration": 433,
    "start_time": "2023-06-02T06:13:25.924Z"
   },
   {
    "duration": 143,
    "start_time": "2023-06-02T06:13:26.365Z"
   },
   {
    "duration": 18,
    "start_time": "2023-06-02T06:13:26.509Z"
   },
   {
    "duration": 15,
    "start_time": "2023-06-02T06:13:26.529Z"
   },
   {
    "duration": 25,
    "start_time": "2023-06-02T06:13:26.546Z"
   },
   {
    "duration": 7,
    "start_time": "2023-06-02T06:13:26.572Z"
   },
   {
    "duration": 81,
    "start_time": "2023-06-02T06:13:26.580Z"
   },
   {
    "duration": 9,
    "start_time": "2023-06-02T06:13:26.663Z"
   },
   {
    "duration": 13,
    "start_time": "2023-06-02T06:13:26.673Z"
   },
   {
    "duration": 12,
    "start_time": "2023-06-02T06:13:26.688Z"
   },
   {
    "duration": 111,
    "start_time": "2023-06-02T06:13:26.701Z"
   },
   {
    "duration": 10,
    "start_time": "2023-06-02T06:13:26.813Z"
   },
   {
    "duration": 12,
    "start_time": "2023-06-02T06:13:26.824Z"
   },
   {
    "duration": 32,
    "start_time": "2023-06-02T06:13:26.840Z"
   },
   {
    "duration": 57,
    "start_time": "2023-06-02T06:13:26.874Z"
   },
   {
    "duration": 7,
    "start_time": "2023-06-02T06:13:26.932Z"
   },
   {
    "duration": 17,
    "start_time": "2023-06-02T06:13:26.941Z"
   },
   {
    "duration": 17,
    "start_time": "2023-06-02T06:13:26.963Z"
   },
   {
    "duration": 8788,
    "start_time": "2023-06-02T06:13:26.981Z"
   },
   {
    "duration": 1047,
    "start_time": "2023-06-02T06:13:35.772Z"
   },
   {
    "duration": 12,
    "start_time": "2023-06-02T06:13:36.821Z"
   },
   {
    "duration": 28,
    "start_time": "2023-06-02T06:13:36.834Z"
   },
   {
    "duration": 10,
    "start_time": "2023-06-02T06:13:36.864Z"
   },
   {
    "duration": 4,
    "start_time": "2023-06-02T06:13:36.876Z"
   },
   {
    "duration": 18,
    "start_time": "2023-06-02T06:13:36.881Z"
   },
   {
    "duration": 4,
    "start_time": "2023-06-02T06:13:36.900Z"
   },
   {
    "duration": 50,
    "start_time": "2023-06-02T06:13:36.906Z"
   },
   {
    "duration": 19,
    "start_time": "2023-06-02T06:13:36.963Z"
   },
   {
    "duration": 15,
    "start_time": "2023-06-02T06:13:36.983Z"
   },
   {
    "duration": 27,
    "start_time": "2023-06-02T06:13:37.000Z"
   },
   {
    "duration": 24,
    "start_time": "2023-06-02T06:13:37.050Z"
   },
   {
    "duration": 7,
    "start_time": "2023-06-02T06:13:37.076Z"
   },
   {
    "duration": 20,
    "start_time": "2023-06-02T06:13:37.084Z"
   },
   {
    "duration": 4,
    "start_time": "2023-06-02T06:13:37.105Z"
   },
   {
    "duration": 52,
    "start_time": "2023-06-02T06:13:37.110Z"
   },
   {
    "duration": 11,
    "start_time": "2023-06-02T06:13:37.164Z"
   },
   {
    "duration": 5,
    "start_time": "2023-06-02T06:13:37.176Z"
   },
   {
    "duration": 25,
    "start_time": "2023-06-02T06:13:37.182Z"
   },
   {
    "duration": 17,
    "start_time": "2023-06-02T06:13:37.209Z"
   },
   {
    "duration": 5,
    "start_time": "2023-06-02T06:13:37.227Z"
   },
   {
    "duration": 29,
    "start_time": "2023-06-02T06:13:37.257Z"
   },
   {
    "duration": 5,
    "start_time": "2023-06-02T06:13:37.288Z"
   },
   {
    "duration": 13,
    "start_time": "2023-06-02T06:13:37.294Z"
   },
   {
    "duration": 3,
    "start_time": "2023-06-02T06:13:37.309Z"
   },
   {
    "duration": 44,
    "start_time": "2023-06-02T06:13:37.314Z"
   },
   {
    "duration": 7,
    "start_time": "2023-06-02T06:13:37.364Z"
   },
   {
    "duration": 4,
    "start_time": "2023-06-02T06:13:37.372Z"
   },
   {
    "duration": 7,
    "start_time": "2023-06-02T06:13:37.378Z"
   },
   {
    "duration": 9,
    "start_time": "2023-06-02T06:13:37.387Z"
   },
   {
    "duration": 426,
    "start_time": "2023-06-02T06:13:37.397Z"
   },
   {
    "duration": 1082,
    "start_time": "2023-06-02T06:13:37.825Z"
   },
   {
    "duration": 3411,
    "start_time": "2023-06-02T06:13:38.909Z"
   },
   {
    "duration": 3,
    "start_time": "2023-06-02T06:13:42.322Z"
   },
   {
    "duration": 221,
    "start_time": "2023-06-02T06:13:42.326Z"
   },
   {
    "duration": 191,
    "start_time": "2023-06-02T06:13:42.550Z"
   },
   {
    "duration": 202,
    "start_time": "2023-06-02T06:13:42.742Z"
   },
   {
    "duration": 179,
    "start_time": "2023-06-02T06:13:42.954Z"
   },
   {
    "duration": 214,
    "start_time": "2023-06-02T06:13:43.135Z"
   },
   {
    "duration": 256,
    "start_time": "2023-06-02T06:13:43.360Z"
   },
   {
    "duration": 253,
    "start_time": "2023-06-02T06:13:43.618Z"
   },
   {
    "duration": 169,
    "start_time": "2023-06-02T06:13:43.873Z"
   },
   {
    "duration": 281,
    "start_time": "2023-06-02T06:13:44.044Z"
   },
   {
    "duration": 8,
    "start_time": "2023-06-02T06:13:44.327Z"
   },
   {
    "duration": 391,
    "start_time": "2023-06-02T06:13:44.337Z"
   },
   {
    "duration": 4,
    "start_time": "2023-06-02T06:13:44.729Z"
   },
   {
    "duration": 9,
    "start_time": "2023-06-02T06:13:44.735Z"
   },
   {
    "duration": 9,
    "start_time": "2023-06-02T06:13:44.750Z"
   },
   {
    "duration": 9,
    "start_time": "2023-06-02T06:13:44.762Z"
   },
   {
    "duration": 4,
    "start_time": "2023-06-02T06:13:44.772Z"
   },
   {
    "duration": 2,
    "start_time": "2023-06-02T06:13:44.778Z"
   },
   {
    "duration": 5,
    "start_time": "2023-06-02T06:13:44.781Z"
   },
   {
    "duration": 3,
    "start_time": "2023-06-02T06:13:44.788Z"
   },
   {
    "duration": 4,
    "start_time": "2023-06-02T06:13:44.792Z"
   },
   {
    "duration": 6,
    "start_time": "2023-06-02T06:13:44.797Z"
   },
   {
    "duration": 4,
    "start_time": "2023-06-02T06:13:44.805Z"
   },
   {
    "duration": 911053,
    "start_time": "2023-06-02T06:13:44.811Z"
   },
   {
    "duration": 4,
    "start_time": "2023-06-02T06:28:55.866Z"
   },
   {
    "duration": 126,
    "start_time": "2023-06-02T06:28:55.871Z"
   },
   {
    "duration": 0,
    "start_time": "2023-06-02T06:28:55.999Z"
   },
   {
    "duration": 0,
    "start_time": "2023-06-02T06:28:56.000Z"
   },
   {
    "duration": 0,
    "start_time": "2023-06-02T06:28:56.002Z"
   },
   {
    "duration": 0,
    "start_time": "2023-06-02T06:28:56.003Z"
   },
   {
    "duration": 0,
    "start_time": "2023-06-02T06:28:56.005Z"
   },
   {
    "duration": 0,
    "start_time": "2023-06-02T06:28:56.006Z"
   },
   {
    "duration": 0,
    "start_time": "2023-06-02T06:28:56.008Z"
   },
   {
    "duration": 0,
    "start_time": "2023-06-02T06:28:56.009Z"
   },
   {
    "duration": 0,
    "start_time": "2023-06-02T06:28:56.011Z"
   },
   {
    "duration": 0,
    "start_time": "2023-06-02T06:28:56.013Z"
   },
   {
    "duration": 0,
    "start_time": "2023-06-02T06:28:56.015Z"
   },
   {
    "duration": 0,
    "start_time": "2023-06-02T06:28:56.016Z"
   },
   {
    "duration": 0,
    "start_time": "2023-06-02T06:28:56.017Z"
   },
   {
    "duration": 0,
    "start_time": "2023-06-02T06:28:56.018Z"
   },
   {
    "duration": 0,
    "start_time": "2023-06-02T06:28:56.020Z"
   },
   {
    "duration": 0,
    "start_time": "2023-06-02T06:28:56.050Z"
   },
   {
    "duration": 0,
    "start_time": "2023-06-02T06:28:56.051Z"
   },
   {
    "duration": 0,
    "start_time": "2023-06-02T06:28:56.055Z"
   },
   {
    "duration": 0,
    "start_time": "2023-06-02T06:28:56.056Z"
   },
   {
    "duration": 0,
    "start_time": "2023-06-02T06:28:56.057Z"
   },
   {
    "duration": 0,
    "start_time": "2023-06-02T06:28:56.060Z"
   },
   {
    "duration": 0,
    "start_time": "2023-06-02T06:28:56.061Z"
   },
   {
    "duration": 0,
    "start_time": "2023-06-02T06:28:56.061Z"
   },
   {
    "duration": 0,
    "start_time": "2023-06-02T06:28:56.062Z"
   },
   {
    "duration": 0,
    "start_time": "2023-06-02T06:28:56.068Z"
   },
   {
    "duration": 0,
    "start_time": "2023-06-02T06:28:56.070Z"
   },
   {
    "duration": 3,
    "start_time": "2023-06-02T06:34:13.411Z"
   },
   {
    "duration": 2666,
    "start_time": "2023-06-02T06:34:15.535Z"
   },
   {
    "duration": 4,
    "start_time": "2023-06-02T06:34:18.203Z"
   },
   {
    "duration": 290,
    "start_time": "2023-06-02T06:34:27.164Z"
   },
   {
    "duration": 4,
    "start_time": "2023-06-02T06:34:38.739Z"
   },
   {
    "duration": 6,
    "start_time": "2023-06-02T06:34:39.269Z"
   },
   {
    "duration": 6,
    "start_time": "2023-06-02T06:34:39.600Z"
   },
   {
    "duration": 64,
    "start_time": "2023-06-02T06:34:40.351Z"
   },
   {
    "duration": 6,
    "start_time": "2023-06-02T06:35:34.626Z"
   },
   {
    "duration": 45,
    "start_time": "2023-06-02T06:35:35.316Z"
   },
   {
    "duration": 88,
    "start_time": "2023-06-02T13:28:15.884Z"
   },
   {
    "duration": 547,
    "start_time": "2023-06-02T13:28:22.772Z"
   },
   {
    "duration": 101,
    "start_time": "2023-06-02T13:28:23.321Z"
   },
   {
    "duration": 26,
    "start_time": "2023-06-02T13:28:23.424Z"
   },
   {
    "duration": 20,
    "start_time": "2023-06-02T13:28:23.453Z"
   },
   {
    "duration": 45,
    "start_time": "2023-06-02T13:28:23.475Z"
   },
   {
    "duration": 28,
    "start_time": "2023-06-02T13:28:23.524Z"
   },
   {
    "duration": 215,
    "start_time": "2023-06-02T13:28:23.554Z"
   },
   {
    "duration": 12,
    "start_time": "2023-06-02T13:28:23.771Z"
   },
   {
    "duration": 42,
    "start_time": "2023-06-02T13:28:23.785Z"
   },
   {
    "duration": 19,
    "start_time": "2023-06-02T13:28:23.830Z"
   },
   {
    "duration": 139,
    "start_time": "2023-06-02T13:28:23.851Z"
   },
   {
    "duration": 16,
    "start_time": "2023-06-02T13:28:23.993Z"
   },
   {
    "duration": 17,
    "start_time": "2023-06-02T13:28:24.011Z"
   },
   {
    "duration": 32,
    "start_time": "2023-06-02T13:28:24.030Z"
   },
   {
    "duration": 82,
    "start_time": "2023-06-02T13:28:24.064Z"
   },
   {
    "duration": 9,
    "start_time": "2023-06-02T13:28:24.148Z"
   },
   {
    "duration": 41,
    "start_time": "2023-06-02T13:28:24.159Z"
   },
   {
    "duration": 23,
    "start_time": "2023-06-02T13:28:24.201Z"
   },
   {
    "duration": 15508,
    "start_time": "2023-06-02T13:28:24.226Z"
   },
   {
    "duration": 1380,
    "start_time": "2023-06-02T13:28:39.736Z"
   },
   {
    "duration": 19,
    "start_time": "2023-06-02T13:28:41.118Z"
   },
   {
    "duration": 22,
    "start_time": "2023-06-02T13:28:41.139Z"
   },
   {
    "duration": 23,
    "start_time": "2023-06-02T13:28:41.163Z"
   },
   {
    "duration": 9,
    "start_time": "2023-06-02T13:28:41.197Z"
   },
   {
    "duration": 33,
    "start_time": "2023-06-02T13:28:41.208Z"
   },
   {
    "duration": 9,
    "start_time": "2023-06-02T13:28:41.243Z"
   },
   {
    "duration": 45,
    "start_time": "2023-06-02T13:28:41.254Z"
   },
   {
    "duration": 25,
    "start_time": "2023-06-02T13:28:41.304Z"
   },
   {
    "duration": 28,
    "start_time": "2023-06-02T13:28:41.332Z"
   },
   {
    "duration": 44,
    "start_time": "2023-06-02T13:28:41.363Z"
   },
   {
    "duration": 22,
    "start_time": "2023-06-02T13:28:41.409Z"
   },
   {
    "duration": 7,
    "start_time": "2023-06-02T13:28:41.433Z"
   },
   {
    "duration": 59,
    "start_time": "2023-06-02T13:28:41.443Z"
   },
   {
    "duration": 6,
    "start_time": "2023-06-02T13:28:41.504Z"
   },
   {
    "duration": 40,
    "start_time": "2023-06-02T13:28:41.512Z"
   },
   {
    "duration": 43,
    "start_time": "2023-06-02T13:28:41.554Z"
   },
   {
    "duration": 46,
    "start_time": "2023-06-02T13:28:41.603Z"
   },
   {
    "duration": 49,
    "start_time": "2023-06-02T13:28:41.652Z"
   },
   {
    "duration": 31,
    "start_time": "2023-06-02T13:28:41.703Z"
   },
   {
    "duration": 11,
    "start_time": "2023-06-02T13:28:41.737Z"
   },
   {
    "duration": 67,
    "start_time": "2023-06-02T13:28:41.751Z"
   },
   {
    "duration": 6,
    "start_time": "2023-06-02T13:28:41.820Z"
   },
   {
    "duration": 30,
    "start_time": "2023-06-02T13:28:41.829Z"
   },
   {
    "duration": 25,
    "start_time": "2023-06-02T13:28:41.862Z"
   },
   {
    "duration": 39,
    "start_time": "2023-06-02T13:28:41.897Z"
   },
   {
    "duration": 10,
    "start_time": "2023-06-02T13:28:41.939Z"
   },
   {
    "duration": 9,
    "start_time": "2023-06-02T13:28:41.951Z"
   },
   {
    "duration": 22,
    "start_time": "2023-06-02T13:28:41.962Z"
   },
   {
    "duration": 33,
    "start_time": "2023-06-02T13:28:41.991Z"
   },
   {
    "duration": 453,
    "start_time": "2023-06-02T13:28:42.027Z"
   },
   {
    "duration": 1299,
    "start_time": "2023-06-02T13:28:42.483Z"
   },
   {
    "duration": 3945,
    "start_time": "2023-06-02T13:28:43.784Z"
   },
   {
    "duration": 4,
    "start_time": "2023-06-02T13:28:47.731Z"
   },
   {
    "duration": 377,
    "start_time": "2023-06-02T13:28:47.737Z"
   },
   {
    "duration": 295,
    "start_time": "2023-06-02T13:28:48.117Z"
   },
   {
    "duration": 284,
    "start_time": "2023-06-02T13:28:48.415Z"
   },
   {
    "duration": 205,
    "start_time": "2023-06-02T13:28:48.700Z"
   },
   {
    "duration": 263,
    "start_time": "2023-06-02T13:28:48.908Z"
   },
   {
    "duration": 294,
    "start_time": "2023-06-02T13:28:49.173Z"
   },
   {
    "duration": 290,
    "start_time": "2023-06-02T13:28:49.470Z"
   },
   {
    "duration": 196,
    "start_time": "2023-06-02T13:28:49.762Z"
   },
   {
    "duration": 366,
    "start_time": "2023-06-02T13:28:49.961Z"
   },
   {
    "duration": 10,
    "start_time": "2023-06-02T13:28:50.330Z"
   },
   {
    "duration": 454,
    "start_time": "2023-06-02T13:28:50.341Z"
   },
   {
    "duration": 4,
    "start_time": "2023-06-02T13:28:50.799Z"
   },
   {
    "duration": 50,
    "start_time": "2023-06-02T13:28:50.805Z"
   },
   {
    "duration": 15,
    "start_time": "2023-06-02T13:28:50.857Z"
   },
   {
    "duration": 42,
    "start_time": "2023-06-02T13:28:50.874Z"
   },
   {
    "duration": 14,
    "start_time": "2023-06-02T13:28:50.918Z"
   },
   {
    "duration": 13,
    "start_time": "2023-06-02T13:28:50.934Z"
   },
   {
    "duration": 27,
    "start_time": "2023-06-02T13:28:50.948Z"
   },
   {
    "duration": 24,
    "start_time": "2023-06-02T13:28:50.985Z"
   },
   {
    "duration": 30,
    "start_time": "2023-06-02T13:28:51.011Z"
   },
   {
    "duration": 57,
    "start_time": "2023-06-02T13:28:51.044Z"
   },
   {
    "duration": 18,
    "start_time": "2023-06-02T13:28:51.104Z"
   },
   {
    "duration": 16375,
    "start_time": "2023-06-02T13:28:51.124Z"
   },
   {
    "duration": 0,
    "start_time": "2023-06-02T13:29:07.503Z"
   },
   {
    "duration": 0,
    "start_time": "2023-06-02T13:29:07.505Z"
   },
   {
    "duration": 0,
    "start_time": "2023-06-02T13:29:07.506Z"
   },
   {
    "duration": 0,
    "start_time": "2023-06-02T13:29:07.508Z"
   },
   {
    "duration": 1,
    "start_time": "2023-06-02T13:29:07.509Z"
   },
   {
    "duration": 0,
    "start_time": "2023-06-02T13:29:07.511Z"
   },
   {
    "duration": 0,
    "start_time": "2023-06-02T13:29:07.513Z"
   },
   {
    "duration": 0,
    "start_time": "2023-06-02T13:29:07.514Z"
   },
   {
    "duration": 0,
    "start_time": "2023-06-02T13:29:07.516Z"
   },
   {
    "duration": 0,
    "start_time": "2023-06-02T13:29:07.517Z"
   },
   {
    "duration": 0,
    "start_time": "2023-06-02T13:29:07.519Z"
   },
   {
    "duration": 0,
    "start_time": "2023-06-02T13:29:07.520Z"
   },
   {
    "duration": 0,
    "start_time": "2023-06-02T13:29:07.522Z"
   },
   {
    "duration": 0,
    "start_time": "2023-06-02T13:29:07.524Z"
   },
   {
    "duration": 0,
    "start_time": "2023-06-02T13:29:07.525Z"
   },
   {
    "duration": 0,
    "start_time": "2023-06-02T13:29:07.526Z"
   },
   {
    "duration": 0,
    "start_time": "2023-06-02T13:29:07.528Z"
   },
   {
    "duration": 0,
    "start_time": "2023-06-02T13:29:07.531Z"
   },
   {
    "duration": 0,
    "start_time": "2023-06-02T13:29:07.532Z"
   },
   {
    "duration": 0,
    "start_time": "2023-06-02T13:29:07.534Z"
   },
   {
    "duration": 0,
    "start_time": "2023-06-02T13:29:07.535Z"
   },
   {
    "duration": 0,
    "start_time": "2023-06-02T13:29:07.537Z"
   },
   {
    "duration": 0,
    "start_time": "2023-06-02T13:29:07.539Z"
   },
   {
    "duration": 0,
    "start_time": "2023-06-02T13:29:07.540Z"
   },
   {
    "duration": 0,
    "start_time": "2023-06-02T13:29:07.541Z"
   },
   {
    "duration": 1,
    "start_time": "2023-06-02T13:29:07.541Z"
   },
   {
    "duration": 0,
    "start_time": "2023-06-02T13:29:07.542Z"
   },
   {
    "duration": 0,
    "start_time": "2023-06-02T13:29:07.576Z"
   },
   {
    "duration": 10,
    "start_time": "2023-06-02T13:29:11.937Z"
   },
   {
    "duration": 7,
    "start_time": "2023-06-02T13:29:12.413Z"
   },
   {
    "duration": 8,
    "start_time": "2023-06-02T13:29:12.902Z"
   },
   {
    "duration": 64,
    "start_time": "2023-06-02T13:29:13.509Z"
   },
   {
    "duration": 14,
    "start_time": "2023-06-02T13:30:20.927Z"
   },
   {
    "duration": 67,
    "start_time": "2023-06-02T13:31:46.649Z"
   },
   {
    "duration": 5,
    "start_time": "2023-06-02T13:31:49.094Z"
   },
   {
    "duration": 11,
    "start_time": "2023-06-02T13:41:04.806Z"
   },
   {
    "duration": 29484,
    "start_time": "2023-06-02T13:41:38.865Z"
   },
   {
    "duration": 3468,
    "start_time": "2023-06-02T13:42:43.829Z"
   },
   {
    "duration": 6,
    "start_time": "2023-06-02T13:43:35.588Z"
   },
   {
    "duration": 12,
    "start_time": "2023-06-02T13:45:12.923Z"
   },
   {
    "duration": 8,
    "start_time": "2023-06-02T13:45:28.228Z"
   },
   {
    "duration": 21273,
    "start_time": "2023-06-02T13:45:30.161Z"
   },
   {
    "duration": 6,
    "start_time": "2023-06-02T13:47:35.656Z"
   },
   {
    "duration": 26752,
    "start_time": "2023-06-02T13:47:37.304Z"
   },
   {
    "duration": 5,
    "start_time": "2023-06-02T13:49:14.447Z"
   },
   {
    "duration": 1665,
    "start_time": "2023-06-02T13:49:16.672Z"
   },
   {
    "duration": 8,
    "start_time": "2023-06-02T13:52:08.000Z"
   },
   {
    "duration": 4,
    "start_time": "2023-06-02T13:52:11.461Z"
   },
   {
    "duration": 30357,
    "start_time": "2023-06-02T13:52:12.548Z"
   },
   {
    "duration": 3,
    "start_time": "2023-06-02T13:53:02.875Z"
   },
   {
    "duration": 3,
    "start_time": "2023-06-02T13:54:02.440Z"
   },
   {
    "duration": 5,
    "start_time": "2023-06-02T13:59:13.917Z"
   },
   {
    "duration": 6,
    "start_time": "2023-06-02T13:59:15.707Z"
   },
   {
    "duration": 103,
    "start_time": "2023-06-02T14:01:27.707Z"
   },
   {
    "duration": 166,
    "start_time": "2023-06-02T14:01:55.915Z"
   },
   {
    "duration": 75,
    "start_time": "2023-06-02T14:02:01.938Z"
   },
   {
    "duration": 105,
    "start_time": "2023-06-02T14:02:15.314Z"
   },
   {
    "duration": 196,
    "start_time": "2023-06-02T14:03:06.413Z"
   },
   {
    "duration": 4,
    "start_time": "2023-06-02T14:03:29.018Z"
   },
   {
    "duration": 13,
    "start_time": "2023-06-02T14:03:32.107Z"
   },
   {
    "duration": 4,
    "start_time": "2023-06-02T14:04:45.628Z"
   },
   {
    "duration": 6,
    "start_time": "2023-06-02T14:04:46.354Z"
   },
   {
    "duration": 4,
    "start_time": "2023-06-02T14:04:59.859Z"
   },
   {
    "duration": 4,
    "start_time": "2023-06-02T14:05:00.918Z"
   },
   {
    "duration": 35,
    "start_time": "2023-06-02T14:05:46.964Z"
   },
   {
    "duration": 35,
    "start_time": "2023-06-02T14:06:44.316Z"
   },
   {
    "duration": 15,
    "start_time": "2023-06-02T14:07:48.917Z"
   },
   {
    "duration": 413,
    "start_time": "2023-06-02T14:08:11.740Z"
   },
   {
    "duration": 418,
    "start_time": "2023-06-02T14:08:27.460Z"
   },
   {
    "duration": 92,
    "start_time": "2023-06-02T14:08:39.966Z"
   },
   {
    "duration": 32,
    "start_time": "2023-06-02T14:08:44.612Z"
   },
   {
    "duration": 384,
    "start_time": "2023-06-02T14:11:00.189Z"
   },
   {
    "duration": 24,
    "start_time": "2023-06-02T14:11:21.189Z"
   },
   {
    "duration": 461,
    "start_time": "2023-06-02T14:11:42.062Z"
   },
   {
    "duration": 53,
    "start_time": "2023-06-02T14:11:42.524Z"
   },
   {
    "duration": 21,
    "start_time": "2023-06-02T14:11:42.578Z"
   },
   {
    "duration": 25,
    "start_time": "2023-06-02T14:11:42.601Z"
   },
   {
    "duration": 50,
    "start_time": "2023-06-02T14:11:42.628Z"
   },
   {
    "duration": 25,
    "start_time": "2023-06-02T14:11:42.679Z"
   },
   {
    "duration": 52,
    "start_time": "2023-06-02T14:11:42.705Z"
   },
   {
    "duration": 19,
    "start_time": "2023-06-02T14:11:42.759Z"
   },
   {
    "duration": 37,
    "start_time": "2023-06-02T14:11:42.780Z"
   },
   {
    "duration": 47,
    "start_time": "2023-06-02T14:11:42.821Z"
   },
   {
    "duration": 46,
    "start_time": "2023-06-02T14:11:42.870Z"
   },
   {
    "duration": 10,
    "start_time": "2023-06-02T14:11:42.918Z"
   },
   {
    "duration": 37,
    "start_time": "2023-06-02T14:11:42.930Z"
   },
   {
    "duration": 50,
    "start_time": "2023-06-02T14:11:42.969Z"
   },
   {
    "duration": 20,
    "start_time": "2023-06-02T14:11:43.021Z"
   },
   {
    "duration": 15,
    "start_time": "2023-06-02T14:11:43.043Z"
   },
   {
    "duration": 22,
    "start_time": "2023-06-02T14:11:43.061Z"
   },
   {
    "duration": 51,
    "start_time": "2023-06-02T14:11:43.085Z"
   },
   {
    "duration": 5155,
    "start_time": "2023-06-02T14:11:43.139Z"
   },
   {
    "duration": 923,
    "start_time": "2023-06-02T14:11:48.297Z"
   },
   {
    "duration": 13,
    "start_time": "2023-06-02T14:11:49.222Z"
   },
   {
    "duration": 12,
    "start_time": "2023-06-02T14:11:49.237Z"
   },
   {
    "duration": 30,
    "start_time": "2023-06-02T14:11:49.250Z"
   },
   {
    "duration": 4,
    "start_time": "2023-06-02T14:11:49.281Z"
   },
   {
    "duration": 24,
    "start_time": "2023-06-02T14:11:49.287Z"
   },
   {
    "duration": 10,
    "start_time": "2023-06-02T14:11:49.312Z"
   },
   {
    "duration": 31,
    "start_time": "2023-06-02T14:11:49.324Z"
   },
   {
    "duration": 27,
    "start_time": "2023-06-02T14:11:49.379Z"
   },
   {
    "duration": 20,
    "start_time": "2023-06-02T14:11:49.408Z"
   },
   {
    "duration": 54,
    "start_time": "2023-06-02T14:11:49.430Z"
   },
   {
    "duration": 14,
    "start_time": "2023-06-02T14:11:49.486Z"
   },
   {
    "duration": 56,
    "start_time": "2023-06-02T14:11:49.501Z"
   },
   {
    "duration": 26,
    "start_time": "2023-06-02T14:11:49.559Z"
   },
   {
    "duration": 5,
    "start_time": "2023-06-02T14:11:49.587Z"
   },
   {
    "duration": 28,
    "start_time": "2023-06-02T14:11:49.593Z"
   },
   {
    "duration": 13,
    "start_time": "2023-06-02T14:11:49.623Z"
   },
   {
    "duration": 8,
    "start_time": "2023-06-02T14:11:49.637Z"
   },
   {
    "duration": 53,
    "start_time": "2023-06-02T14:11:49.647Z"
   },
   {
    "duration": 24,
    "start_time": "2023-06-02T14:11:49.703Z"
   },
   {
    "duration": 7,
    "start_time": "2023-06-02T14:11:49.730Z"
   },
   {
    "duration": 64,
    "start_time": "2023-06-02T14:11:49.739Z"
   },
   {
    "duration": 6,
    "start_time": "2023-06-02T14:11:49.806Z"
   },
   {
    "duration": 22,
    "start_time": "2023-06-02T14:11:49.814Z"
   },
   {
    "duration": 11,
    "start_time": "2023-06-02T14:11:49.839Z"
   },
   {
    "duration": 39,
    "start_time": "2023-06-02T14:11:49.852Z"
   },
   {
    "duration": 8,
    "start_time": "2023-06-02T14:11:49.893Z"
   },
   {
    "duration": 14,
    "start_time": "2023-06-02T14:11:49.902Z"
   },
   {
    "duration": 11,
    "start_time": "2023-06-02T14:11:49.918Z"
   },
   {
    "duration": 17,
    "start_time": "2023-06-02T14:11:49.931Z"
   },
   {
    "duration": 400,
    "start_time": "2023-06-02T14:11:49.950Z"
   },
   {
    "duration": 1132,
    "start_time": "2023-06-02T14:11:50.353Z"
   },
   {
    "duration": 3414,
    "start_time": "2023-06-02T14:11:51.487Z"
   },
   {
    "duration": 3,
    "start_time": "2023-06-02T14:11:54.904Z"
   },
   {
    "duration": 335,
    "start_time": "2023-06-02T14:11:54.910Z"
   },
   {
    "duration": 191,
    "start_time": "2023-06-02T14:11:55.247Z"
   },
   {
    "duration": 238,
    "start_time": "2023-06-02T14:11:55.440Z"
   },
   {
    "duration": 208,
    "start_time": "2023-06-02T14:11:55.680Z"
   },
   {
    "duration": 223,
    "start_time": "2023-06-02T14:11:55.889Z"
   },
   {
    "duration": 338,
    "start_time": "2023-06-02T14:11:56.115Z"
   },
   {
    "duration": 303,
    "start_time": "2023-06-02T14:11:56.455Z"
   },
   {
    "duration": 181,
    "start_time": "2023-06-02T14:11:56.760Z"
   },
   {
    "duration": 255,
    "start_time": "2023-06-02T14:11:56.943Z"
   },
   {
    "duration": 11,
    "start_time": "2023-06-02T14:11:57.200Z"
   },
   {
    "duration": 305,
    "start_time": "2023-06-02T14:11:57.212Z"
   },
   {
    "duration": 9,
    "start_time": "2023-06-02T14:11:57.519Z"
   },
   {
    "duration": 10,
    "start_time": "2023-06-02T14:11:57.529Z"
   },
   {
    "duration": 14,
    "start_time": "2023-06-02T14:11:57.541Z"
   },
   {
    "duration": 27,
    "start_time": "2023-06-02T14:11:57.557Z"
   },
   {
    "duration": 11,
    "start_time": "2023-06-02T14:11:57.586Z"
   },
   {
    "duration": 28,
    "start_time": "2023-06-02T14:11:57.599Z"
   },
   {
    "duration": 19,
    "start_time": "2023-06-02T14:11:57.630Z"
   },
   {
    "duration": 34,
    "start_time": "2023-06-02T14:11:57.651Z"
   },
   {
    "duration": 37,
    "start_time": "2023-06-02T14:11:57.688Z"
   },
   {
    "duration": 57,
    "start_time": "2023-06-02T14:11:57.727Z"
   },
   {
    "duration": 19,
    "start_time": "2023-06-02T14:11:57.786Z"
   },
   {
    "duration": 1117833,
    "start_time": "2023-06-02T14:11:57.808Z"
   },
   {
    "duration": 5,
    "start_time": "2023-06-02T14:30:35.643Z"
   },
   {
    "duration": 14,
    "start_time": "2023-06-02T14:30:35.649Z"
   },
   {
    "duration": 4413,
    "start_time": "2023-06-02T14:30:35.665Z"
   },
   {
    "duration": 19,
    "start_time": "2023-06-02T14:30:40.084Z"
   },
   {
    "duration": 352,
    "start_time": "2023-06-02T14:30:40.112Z"
   },
   {
    "duration": 7,
    "start_time": "2023-06-02T14:30:40.483Z"
   },
   {
    "duration": 55,
    "start_time": "2023-06-02T14:30:40.493Z"
   },
   {
    "duration": 12,
    "start_time": "2023-06-02T14:30:40.550Z"
   },
   {
    "duration": 117,
    "start_time": "2023-06-02T14:30:40.564Z"
   },
   {
    "duration": 56,
    "start_time": "2023-06-02T14:30:40.684Z"
   },
   {
    "duration": 17,
    "start_time": "2023-06-02T14:30:40.743Z"
   },
   {
    "duration": 13,
    "start_time": "2023-06-02T14:30:40.762Z"
   },
   {
    "duration": 47,
    "start_time": "2023-06-02T14:30:40.780Z"
   },
   {
    "duration": 29789,
    "start_time": "2023-06-02T14:30:40.830Z"
   },
   {
    "duration": 5,
    "start_time": "2023-06-02T14:31:10.621Z"
   },
   {
    "duration": 30,
    "start_time": "2023-06-02T14:31:10.628Z"
   },
   {
    "duration": 12,
    "start_time": "2023-06-02T14:31:10.660Z"
   },
   {
    "duration": 21,
    "start_time": "2023-06-02T14:31:10.674Z"
   },
   {
    "duration": 27,
    "start_time": "2023-06-02T14:31:10.699Z"
   },
   {
    "duration": 15,
    "start_time": "2023-06-02T14:31:10.727Z"
   },
   {
    "duration": 13,
    "start_time": "2023-06-02T14:31:10.744Z"
   },
   {
    "duration": 14,
    "start_time": "2023-06-02T14:31:10.759Z"
   },
   {
    "duration": 72,
    "start_time": "2023-06-02T14:31:10.776Z"
   },
   {
    "duration": 65,
    "start_time": "2023-06-02T14:31:10.850Z"
   },
   {
    "duration": 10,
    "start_time": "2023-06-02T14:31:10.917Z"
   },
   {
    "duration": 9,
    "start_time": "2023-06-02T14:31:10.928Z"
   },
   {
    "duration": 22,
    "start_time": "2023-06-02T14:31:10.938Z"
   },
   {
    "duration": 8,
    "start_time": "2023-06-02T14:31:10.962Z"
   },
   {
    "duration": 62,
    "start_time": "2023-06-02T14:31:10.972Z"
   },
   {
    "duration": 596,
    "start_time": "2023-06-02T14:31:11.036Z"
   },
   {
    "duration": 0,
    "start_time": "2023-06-02T14:31:11.634Z"
   },
   {
    "duration": 0,
    "start_time": "2023-06-02T14:31:11.636Z"
   },
   {
    "duration": 0,
    "start_time": "2023-06-02T14:31:11.638Z"
   },
   {
    "duration": 1,
    "start_time": "2023-06-02T14:31:11.639Z"
   },
   {
    "duration": 0,
    "start_time": "2023-06-02T14:31:11.641Z"
   },
   {
    "duration": 0,
    "start_time": "2023-06-02T14:31:11.642Z"
   },
   {
    "duration": 0,
    "start_time": "2023-06-02T14:31:11.643Z"
   },
   {
    "duration": 0,
    "start_time": "2023-06-02T14:31:11.644Z"
   },
   {
    "duration": 0,
    "start_time": "2023-06-02T14:31:11.646Z"
   },
   {
    "duration": 81,
    "start_time": "2023-06-02T14:33:13.257Z"
   },
   {
    "duration": 36,
    "start_time": "2023-06-02T14:33:19.583Z"
   },
   {
    "duration": 14,
    "start_time": "2023-06-02T14:34:20.560Z"
   },
   {
    "duration": 7,
    "start_time": "2023-06-02T14:34:44.363Z"
   },
   {
    "duration": 67,
    "start_time": "2023-06-02T14:34:50.056Z"
   },
   {
    "duration": 415,
    "start_time": "2023-06-03T18:43:44.182Z"
   },
   {
    "duration": 152,
    "start_time": "2023-06-03T18:43:44.599Z"
   },
   {
    "duration": 46,
    "start_time": "2023-06-03T18:43:55.296Z"
   },
   {
    "duration": 4961,
    "start_time": "2023-06-03T18:44:04.820Z"
   },
   {
    "duration": 5478,
    "start_time": "2023-06-03T18:44:44.256Z"
   },
   {
    "duration": 4264,
    "start_time": "2023-06-03T18:45:22.341Z"
   },
   {
    "duration": 52,
    "start_time": "2023-06-03T18:46:30.150Z"
   },
   {
    "duration": 48,
    "start_time": "2023-06-03T18:46:36.678Z"
   },
   {
    "duration": 16951,
    "start_time": "2023-06-03T18:46:42.303Z"
   },
   {
    "duration": 5140,
    "start_time": "2023-06-03T18:47:10.294Z"
   },
   {
    "duration": 232,
    "start_time": "2023-06-03T18:47:28.873Z"
   },
   {
    "duration": 37196,
    "start_time": "2023-06-03T18:47:40.189Z"
   },
   {
    "duration": 4,
    "start_time": "2023-06-03T18:50:30.777Z"
   },
   {
    "duration": 1240,
    "start_time": "2023-06-03T18:50:49.400Z"
   },
   {
    "duration": 4,
    "start_time": "2023-06-03T18:52:01.004Z"
   },
   {
    "duration": 1299,
    "start_time": "2023-06-03T18:52:01.678Z"
   },
   {
    "duration": 1492,
    "start_time": "2023-06-03T18:54:30.696Z"
   },
   {
    "duration": 2983,
    "start_time": "2023-06-03T18:54:38.447Z"
   },
   {
    "duration": 324,
    "start_time": "2023-06-03T18:55:19.946Z"
   },
   {
    "duration": 3,
    "start_time": "2023-06-03T18:56:37.616Z"
   },
   {
    "duration": 117,
    "start_time": "2023-06-03T18:57:38.644Z"
   },
   {
    "duration": 5,
    "start_time": "2023-06-03T18:57:40.891Z"
   },
   {
    "duration": 1634,
    "start_time": "2023-06-03T18:57:42.842Z"
   },
   {
    "duration": 1145,
    "start_time": "2023-06-03T18:57:54.559Z"
   },
   {
    "duration": 1175,
    "start_time": "2023-06-03T18:58:24.576Z"
   },
   {
    "duration": 2253,
    "start_time": "2023-06-03T18:59:02.810Z"
   },
   {
    "duration": 1503,
    "start_time": "2023-06-03T19:02:16.227Z"
   },
   {
    "duration": 1423,
    "start_time": "2023-06-03T19:02:19.244Z"
   },
   {
    "duration": 1278,
    "start_time": "2023-06-03T19:02:33.671Z"
   },
   {
    "duration": 147,
    "start_time": "2023-06-03T19:17:04.613Z"
   },
   {
    "duration": 18,
    "start_time": "2023-06-03T19:17:16.779Z"
   },
   {
    "duration": 17,
    "start_time": "2023-06-03T19:17:17.741Z"
   },
   {
    "duration": 12,
    "start_time": "2023-06-03T19:17:18.618Z"
   },
   {
    "duration": 5,
    "start_time": "2023-06-03T19:17:20.337Z"
   },
   {
    "duration": 26,
    "start_time": "2023-06-03T19:17:22.037Z"
   },
   {
    "duration": 6,
    "start_time": "2023-06-03T19:17:42.620Z"
   },
   {
    "duration": 37,
    "start_time": "2023-06-03T19:17:44.765Z"
   },
   {
    "duration": 1018,
    "start_time": "2023-06-03T19:18:33.560Z"
   },
   {
    "duration": 17,
    "start_time": "2023-06-03T19:23:02.160Z"
   },
   {
    "duration": 29,
    "start_time": "2023-06-03T19:23:02.485Z"
   },
   {
    "duration": 24,
    "start_time": "2023-06-03T19:23:03.421Z"
   },
   {
    "duration": 8,
    "start_time": "2023-06-03T19:23:04.782Z"
   },
   {
    "duration": 28,
    "start_time": "2023-06-03T19:23:05.740Z"
   },
   {
    "duration": 6,
    "start_time": "2023-06-03T19:23:07.779Z"
   },
   {
    "duration": 27,
    "start_time": "2023-06-03T19:23:08.591Z"
   },
   {
    "duration": 13,
    "start_time": "2023-06-03T19:23:23.027Z"
   },
   {
    "duration": 6,
    "start_time": "2023-06-03T19:23:25.524Z"
   },
   {
    "duration": 32,
    "start_time": "2023-06-03T19:23:28.493Z"
   },
   {
    "duration": 27,
    "start_time": "2023-06-03T19:23:40.899Z"
   },
   {
    "duration": 21,
    "start_time": "2023-06-03T19:25:21.386Z"
   },
   {
    "duration": 3742,
    "start_time": "2023-06-03T19:25:46.750Z"
   },
   {
    "duration": 122,
    "start_time": "2023-06-03T19:25:50.495Z"
   },
   {
    "duration": 4,
    "start_time": "2023-06-03T19:25:50.619Z"
   },
   {
    "duration": 256,
    "start_time": "2023-06-03T19:25:50.626Z"
   },
   {
    "duration": 0,
    "start_time": "2023-06-03T19:25:50.887Z"
   },
   {
    "duration": 0,
    "start_time": "2023-06-03T19:25:50.888Z"
   },
   {
    "duration": 0,
    "start_time": "2023-06-03T19:25:50.890Z"
   },
   {
    "duration": 0,
    "start_time": "2023-06-03T19:25:50.891Z"
   },
   {
    "duration": 0,
    "start_time": "2023-06-03T19:25:50.893Z"
   },
   {
    "duration": 0,
    "start_time": "2023-06-03T19:25:50.895Z"
   },
   {
    "duration": 0,
    "start_time": "2023-06-03T19:25:50.896Z"
   },
   {
    "duration": 0,
    "start_time": "2023-06-03T19:25:50.898Z"
   },
   {
    "duration": 0,
    "start_time": "2023-06-03T19:25:50.899Z"
   },
   {
    "duration": 0,
    "start_time": "2023-06-03T19:25:50.901Z"
   },
   {
    "duration": 0,
    "start_time": "2023-06-03T19:25:50.926Z"
   },
   {
    "duration": 0,
    "start_time": "2023-06-03T19:25:50.928Z"
   },
   {
    "duration": 0,
    "start_time": "2023-06-03T19:25:50.930Z"
   },
   {
    "duration": 0,
    "start_time": "2023-06-03T19:25:50.931Z"
   },
   {
    "duration": 0,
    "start_time": "2023-06-03T19:25:50.933Z"
   },
   {
    "duration": 0,
    "start_time": "2023-06-03T19:25:50.935Z"
   },
   {
    "duration": 0,
    "start_time": "2023-06-03T19:25:50.937Z"
   },
   {
    "duration": 0,
    "start_time": "2023-06-03T19:25:50.939Z"
   },
   {
    "duration": 0,
    "start_time": "2023-06-03T19:25:50.940Z"
   },
   {
    "duration": 0,
    "start_time": "2023-06-03T19:25:50.942Z"
   },
   {
    "duration": 0,
    "start_time": "2023-06-03T19:25:50.943Z"
   },
   {
    "duration": 0,
    "start_time": "2023-06-03T19:25:50.944Z"
   },
   {
    "duration": 0,
    "start_time": "2023-06-03T19:25:50.946Z"
   },
   {
    "duration": 0,
    "start_time": "2023-06-03T19:25:50.947Z"
   },
   {
    "duration": 0,
    "start_time": "2023-06-03T19:25:50.948Z"
   },
   {
    "duration": 0,
    "start_time": "2023-06-03T19:25:50.949Z"
   },
   {
    "duration": 0,
    "start_time": "2023-06-03T19:25:50.951Z"
   },
   {
    "duration": 0,
    "start_time": "2023-06-03T19:25:50.952Z"
   },
   {
    "duration": 0,
    "start_time": "2023-06-03T19:25:50.953Z"
   },
   {
    "duration": 0,
    "start_time": "2023-06-03T19:25:50.955Z"
   },
   {
    "duration": 0,
    "start_time": "2023-06-03T19:25:50.956Z"
   },
   {
    "duration": 0,
    "start_time": "2023-06-03T19:25:50.958Z"
   },
   {
    "duration": 0,
    "start_time": "2023-06-03T19:25:50.959Z"
   },
   {
    "duration": 0,
    "start_time": "2023-06-03T19:25:50.960Z"
   },
   {
    "duration": 0,
    "start_time": "2023-06-03T19:25:50.962Z"
   },
   {
    "duration": 0,
    "start_time": "2023-06-03T19:25:51.027Z"
   },
   {
    "duration": 0,
    "start_time": "2023-06-03T19:25:51.029Z"
   },
   {
    "duration": 0,
    "start_time": "2023-06-03T19:25:51.031Z"
   },
   {
    "duration": 0,
    "start_time": "2023-06-03T19:25:51.032Z"
   },
   {
    "duration": 0,
    "start_time": "2023-06-03T19:25:51.034Z"
   },
   {
    "duration": 0,
    "start_time": "2023-06-03T19:25:51.035Z"
   },
   {
    "duration": 0,
    "start_time": "2023-06-03T19:25:51.037Z"
   },
   {
    "duration": 0,
    "start_time": "2023-06-03T19:25:51.039Z"
   },
   {
    "duration": 0,
    "start_time": "2023-06-03T19:25:51.040Z"
   },
   {
    "duration": 0,
    "start_time": "2023-06-03T19:25:51.042Z"
   },
   {
    "duration": 0,
    "start_time": "2023-06-03T19:25:51.043Z"
   },
   {
    "duration": 0,
    "start_time": "2023-06-03T19:25:51.045Z"
   },
   {
    "duration": 0,
    "start_time": "2023-06-03T19:25:51.047Z"
   },
   {
    "duration": 0,
    "start_time": "2023-06-03T19:25:51.048Z"
   },
   {
    "duration": 1,
    "start_time": "2023-06-03T19:25:51.052Z"
   },
   {
    "duration": 0,
    "start_time": "2023-06-03T19:25:51.054Z"
   },
   {
    "duration": 0,
    "start_time": "2023-06-03T19:25:51.056Z"
   },
   {
    "duration": 0,
    "start_time": "2023-06-03T19:25:51.057Z"
   },
   {
    "duration": 0,
    "start_time": "2023-06-03T19:25:51.059Z"
   },
   {
    "duration": 0,
    "start_time": "2023-06-03T19:25:51.061Z"
   },
   {
    "duration": 0,
    "start_time": "2023-06-03T19:25:51.062Z"
   },
   {
    "duration": 0,
    "start_time": "2023-06-03T19:25:51.063Z"
   },
   {
    "duration": 0,
    "start_time": "2023-06-03T19:25:51.065Z"
   },
   {
    "duration": 0,
    "start_time": "2023-06-03T19:25:51.126Z"
   },
   {
    "duration": 0,
    "start_time": "2023-06-03T19:25:51.127Z"
   },
   {
    "duration": 0,
    "start_time": "2023-06-03T19:25:51.128Z"
   },
   {
    "duration": 0,
    "start_time": "2023-06-03T19:25:51.130Z"
   },
   {
    "duration": 0,
    "start_time": "2023-06-03T19:25:51.131Z"
   },
   {
    "duration": 0,
    "start_time": "2023-06-03T19:25:51.132Z"
   },
   {
    "duration": 0,
    "start_time": "2023-06-03T19:25:51.134Z"
   },
   {
    "duration": 0,
    "start_time": "2023-06-03T19:25:51.135Z"
   },
   {
    "duration": 0,
    "start_time": "2023-06-03T19:25:51.137Z"
   },
   {
    "duration": 0,
    "start_time": "2023-06-03T19:25:51.138Z"
   },
   {
    "duration": 0,
    "start_time": "2023-06-03T19:25:51.139Z"
   },
   {
    "duration": 0,
    "start_time": "2023-06-03T19:25:51.141Z"
   },
   {
    "duration": 0,
    "start_time": "2023-06-03T19:25:51.142Z"
   },
   {
    "duration": 0,
    "start_time": "2023-06-03T19:25:51.143Z"
   },
   {
    "duration": 0,
    "start_time": "2023-06-03T19:25:51.145Z"
   },
   {
    "duration": 0,
    "start_time": "2023-06-03T19:25:51.147Z"
   },
   {
    "duration": 0,
    "start_time": "2023-06-03T19:25:51.149Z"
   },
   {
    "duration": 0,
    "start_time": "2023-06-03T19:25:51.150Z"
   },
   {
    "duration": 0,
    "start_time": "2023-06-03T19:25:51.154Z"
   },
   {
    "duration": 0,
    "start_time": "2023-06-03T19:25:51.155Z"
   },
   {
    "duration": 0,
    "start_time": "2023-06-03T19:25:51.156Z"
   },
   {
    "duration": 0,
    "start_time": "2023-06-03T19:25:51.157Z"
   },
   {
    "duration": 0,
    "start_time": "2023-06-03T19:25:51.158Z"
   },
   {
    "duration": 0,
    "start_time": "2023-06-03T19:25:51.159Z"
   },
   {
    "duration": 0,
    "start_time": "2023-06-03T19:25:51.161Z"
   },
   {
    "duration": 0,
    "start_time": "2023-06-03T19:25:51.163Z"
   },
   {
    "duration": 0,
    "start_time": "2023-06-03T19:25:51.164Z"
   },
   {
    "duration": 0,
    "start_time": "2023-06-03T19:25:51.225Z"
   },
   {
    "duration": 0,
    "start_time": "2023-06-03T19:25:51.226Z"
   },
   {
    "duration": 0,
    "start_time": "2023-06-03T19:25:51.228Z"
   },
   {
    "duration": 0,
    "start_time": "2023-06-03T19:25:51.229Z"
   },
   {
    "duration": 0,
    "start_time": "2023-06-03T19:25:51.231Z"
   },
   {
    "duration": 0,
    "start_time": "2023-06-03T19:25:51.233Z"
   },
   {
    "duration": 0,
    "start_time": "2023-06-03T19:25:51.234Z"
   },
   {
    "duration": 0,
    "start_time": "2023-06-03T19:25:51.236Z"
   },
   {
    "duration": 0,
    "start_time": "2023-06-03T19:25:51.237Z"
   },
   {
    "duration": 0,
    "start_time": "2023-06-03T19:25:51.239Z"
   },
   {
    "duration": 0,
    "start_time": "2023-06-03T19:25:51.241Z"
   },
   {
    "duration": 0,
    "start_time": "2023-06-03T19:25:51.242Z"
   },
   {
    "duration": 0,
    "start_time": "2023-06-03T19:25:51.244Z"
   },
   {
    "duration": 0,
    "start_time": "2023-06-03T19:25:51.246Z"
   },
   {
    "duration": 0,
    "start_time": "2023-06-03T19:25:51.247Z"
   },
   {
    "duration": 0,
    "start_time": "2023-06-03T19:25:51.248Z"
   },
   {
    "duration": 9649,
    "start_time": "2023-06-03T19:25:59.562Z"
   },
   {
    "duration": 252,
    "start_time": "2023-06-03T19:26:09.218Z"
   },
   {
    "duration": 24,
    "start_time": "2023-06-03T19:26:09.473Z"
   },
   {
    "duration": 26,
    "start_time": "2023-06-03T19:26:09.501Z"
   },
   {
    "duration": 18,
    "start_time": "2023-06-03T19:26:09.529Z"
   },
   {
    "duration": 9,
    "start_time": "2023-06-03T19:26:09.550Z"
   },
   {
    "duration": 66,
    "start_time": "2023-06-03T19:26:09.562Z"
   },
   {
    "duration": 9,
    "start_time": "2023-06-03T19:26:09.633Z"
   },
   {
    "duration": 50,
    "start_time": "2023-06-03T19:26:09.644Z"
   },
   {
    "duration": 53,
    "start_time": "2023-06-03T19:26:09.698Z"
   },
   {
    "duration": 85,
    "start_time": "2023-06-03T19:26:09.754Z"
   },
   {
    "duration": 1,
    "start_time": "2023-06-03T19:26:09.842Z"
   },
   {
    "duration": 0,
    "start_time": "2023-06-03T19:26:09.844Z"
   },
   {
    "duration": 0,
    "start_time": "2023-06-03T19:26:09.846Z"
   },
   {
    "duration": 0,
    "start_time": "2023-06-03T19:26:09.849Z"
   },
   {
    "duration": 25,
    "start_time": "2023-06-03T19:26:12.271Z"
   },
   {
    "duration": 2692,
    "start_time": "2023-06-03T19:26:36.019Z"
   },
   {
    "duration": 121,
    "start_time": "2023-06-03T19:26:38.714Z"
   },
   {
    "duration": 4613,
    "start_time": "2023-06-03T19:27:04.092Z"
   },
   {
    "duration": 137,
    "start_time": "2023-06-03T19:27:08.707Z"
   },
   {
    "duration": 4,
    "start_time": "2023-06-03T19:27:10.139Z"
   },
   {
    "duration": 176,
    "start_time": "2023-06-03T19:27:15.860Z"
   },
   {
    "duration": 24,
    "start_time": "2023-06-03T19:28:18.313Z"
   },
   {
    "duration": 1354,
    "start_time": "2023-06-03T19:28:52.121Z"
   },
   {
    "duration": 4246,
    "start_time": "2023-06-03T19:30:09.706Z"
   },
   {
    "duration": 99,
    "start_time": "2023-06-03T19:30:26.295Z"
   },
   {
    "duration": 3,
    "start_time": "2023-06-03T19:30:28.086Z"
   },
   {
    "duration": 31,
    "start_time": "2023-06-03T19:30:29.053Z"
   },
   {
    "duration": 76,
    "start_time": "2023-06-03T19:31:23.969Z"
   },
   {
    "duration": 2831,
    "start_time": "2023-06-03T19:31:29.297Z"
   },
   {
    "duration": 108,
    "start_time": "2023-06-03T19:31:40.931Z"
   },
   {
    "duration": 3,
    "start_time": "2023-06-03T19:31:41.871Z"
   },
   {
    "duration": 27,
    "start_time": "2023-06-03T19:31:42.740Z"
   },
   {
    "duration": 3957,
    "start_time": "2023-06-03T19:35:07.115Z"
   },
   {
    "duration": 99,
    "start_time": "2023-06-03T19:35:25.409Z"
   },
   {
    "duration": 3,
    "start_time": "2023-06-03T19:35:26.612Z"
   },
   {
    "duration": 48,
    "start_time": "2023-06-03T19:35:27.354Z"
   },
   {
    "duration": 56,
    "start_time": "2023-06-03T19:36:45.508Z"
   },
   {
    "duration": 3216,
    "start_time": "2023-06-03T19:36:50.746Z"
   },
   {
    "duration": 2633,
    "start_time": "2023-06-03T19:37:18.861Z"
   },
   {
    "duration": 110,
    "start_time": "2023-06-03T19:37:25.858Z"
   },
   {
    "duration": 4,
    "start_time": "2023-06-03T19:37:26.709Z"
   },
   {
    "duration": 36,
    "start_time": "2023-06-03T19:37:27.315Z"
   },
   {
    "duration": 4333,
    "start_time": "2023-06-03T19:38:23.175Z"
   },
   {
    "duration": 107,
    "start_time": "2023-06-03T19:38:31.109Z"
   },
   {
    "duration": 53,
    "start_time": "2023-06-03T19:41:35.758Z"
   },
   {
    "duration": 6,
    "start_time": "2023-06-03T19:42:54.156Z"
   },
   {
    "duration": 255,
    "start_time": "2023-06-03T19:42:55.846Z"
   },
   {
    "duration": 7689,
    "start_time": "2023-06-03T19:45:25.058Z"
   },
   {
    "duration": 811,
    "start_time": "2023-06-03T19:45:32.750Z"
   },
   {
    "duration": 13,
    "start_time": "2023-06-03T19:45:37.959Z"
   },
   {
    "duration": 11,
    "start_time": "2023-06-03T19:45:38.409Z"
   },
   {
    "duration": 14,
    "start_time": "2023-06-03T19:45:38.620Z"
   },
   {
    "duration": 10,
    "start_time": "2023-06-03T19:45:39.224Z"
   },
   {
    "duration": 25,
    "start_time": "2023-06-03T19:45:40.962Z"
   },
   {
    "duration": 7,
    "start_time": "2023-06-03T19:45:47.958Z"
   },
   {
    "duration": 39,
    "start_time": "2023-06-03T19:45:48.345Z"
   },
   {
    "duration": 21,
    "start_time": "2023-06-03T19:45:48.555Z"
   },
   {
    "duration": 203,
    "start_time": "2023-06-03T19:45:48.820Z"
   },
   {
    "duration": 12,
    "start_time": "2023-06-03T19:46:54.084Z"
   },
   {
    "duration": 25,
    "start_time": "2023-06-03T19:46:54.263Z"
   },
   {
    "duration": 12,
    "start_time": "2023-06-03T19:46:54.381Z"
   },
   {
    "duration": 5,
    "start_time": "2023-06-03T19:46:54.597Z"
   },
   {
    "duration": 17,
    "start_time": "2023-06-03T19:46:54.900Z"
   },
   {
    "duration": 6,
    "start_time": "2023-06-03T19:46:56.392Z"
   },
   {
    "duration": 26,
    "start_time": "2023-06-03T19:46:56.609Z"
   },
   {
    "duration": 10,
    "start_time": "2023-06-03T19:46:57.158Z"
   },
   {
    "duration": 13,
    "start_time": "2023-06-03T19:46:57.699Z"
   },
   {
    "duration": 38,
    "start_time": "2023-06-03T19:46:57.879Z"
   },
   {
    "duration": 30,
    "start_time": "2023-06-03T19:46:58.030Z"
   },
   {
    "duration": 8,
    "start_time": "2023-06-03T19:46:59.409Z"
   },
   {
    "duration": 16,
    "start_time": "2023-06-03T19:46:59.906Z"
   },
   {
    "duration": 38,
    "start_time": "2023-06-03T19:47:00.099Z"
   }
  ],
  "kernelspec": {
   "display_name": "Python 3 (ipykernel)",
   "language": "python",
   "name": "python3"
  },
  "language_info": {
   "codemirror_mode": {
    "name": "ipython",
    "version": 3
   },
   "file_extension": ".py",
   "mimetype": "text/x-python",
   "name": "python",
   "nbconvert_exporter": "python",
   "pygments_lexer": "ipython3",
   "version": "3.9.5"
  },
  "toc": {
   "base_numbering": 1,
   "nav_menu": {},
   "number_sections": true,
   "sideBar": true,
   "skip_h1_title": true,
   "title_cell": "Table of Contents",
   "title_sidebar": "Contents",
   "toc_cell": false,
   "toc_position": {
    "height": "calc(100% - 180px)",
    "left": "10px",
    "top": "150px",
    "width": "199px"
   },
   "toc_section_display": true,
   "toc_window_display": true
  }
 },
 "nbformat": 4,
 "nbformat_minor": 5
}
