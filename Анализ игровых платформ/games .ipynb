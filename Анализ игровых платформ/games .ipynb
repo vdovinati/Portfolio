{
 "cells": [
  {
   "cell_type": "markdown",
   "metadata": {},
   "source": [
    "# Исследование данных о компьютерных играх\n",
    "\n",
    "Описание проекта\n",
    "\n",
    "Заказчик -интернет-магазин, который продаёт по всему миру компьютерные игры. Из открытых источников доступны исторические данные о продажах игр, оценки пользователей и экспертов, жанры и платформы (например, Xbox или PlayStation). \n",
    "\n",
    "**Наша задача** - выполнить предобработку данных и изучить их, чтобы найти интересные особенности и зависимости, которые существуют на рынке компьютерных игр. Требуется выявить определяющие успешность игры закономерности. Это позволит компании выбрать потенциально популярный продукт и спланировать рекламные кампании.\n",
    "\n",
    "Перед нами данные до 2016 года. Представим, что сейчас декабрь 2016 г., и мы планируем кампанию на 2017-й. \n",
    "\n",
    "В наборе данных попадается аббревиатура ESRB (Entertainment Software Rating Board) — это ассоциация, определяющая возрастной рейтинг компьютерных игр. ESRB оценивает игровой контент и присваивает ему подходящую возрастную категорию, например, «Для взрослых», «Для детей младшего возраста» или «Для подростков».\n",
    "\n",
    "В полученных данных есть следующие столбцы:\n",
    "Name — название игры\n",
    "Platform — платформа\n",
    "Year_of_Release — год выпуска\n",
    "Genre — жанр игры\n",
    "NA_sales — продажи в Северной Америке (миллионы проданных копий)\n",
    "EU_sales — продажи в Европе (миллионы проданных копий)\n",
    "JP_sales — продажи в Японии (миллионы проданных копий)\n",
    "Other_sales — продажи в других странах (миллионы проданных копий)\n",
    "Critic_Score — оценка критиков (максимум 100)\n",
    "User_Score — оценка пользователей (максимум 10)\n",
    "Rating — рейтинг от организации ESRB (англ. Entertainment Software Rating Board). Эта ассоциация определяет рейтинг компьютерных игр и присваивает им подходящую возрастную категорию.\n",
    "\n",
    "**Ход исследования:**\n",
    "Данные из открытых источников мы получим из файла,предоставленного заказчиком исследования.\n",
    "Нам известо, что данные за 2016 г. могут быть неполным. О качестве остальных данных ничего не известно. Поэтому перед выполнением исследования понадобится провести обзор данных.\n",
    "\n",
    "Мы проверим данные на ошибки, пропуски и дубликаты и оценим их влияние на исследование. Затем, на этапе предобработки мы поищем возможность исправить самые критичные ошибки данных.\n",
    "\n",
    "**Исследование пройдет в 7 этапов:**\n",
    "\n",
    "1.Обзор данных\n",
    "\n",
    "2.Предобработка данных\n",
    "\n",
    "3.Добавление новых столбцов\n",
    "\n",
    "4.Исследовательский анализ данных\n",
    "\n",
    "5.Составление портрета пользователя каждого региона\n",
    "\n",
    "6.Проверка гипотез\n",
    "\n",
    "7.Общий вывод\n"
   ]
  },
  {
   "cell_type": "markdown",
   "metadata": {},
   "source": [
    "## Обзор данных\n",
    "# Откроем файл с данными и изучим общую информацию. \n",
    "\n",
    "### Импортируем необходимые для анализа библиотеки pandas, matplotlib, numpy, scipy\n",
    "\n",
    "Считаем данные из csv-файла в датафрейм и сохраним в переменную `data`. "
   ]
  },
  {
   "cell_type": "code",
   "execution_count": 1,
   "metadata": {},
   "outputs": [],
   "source": [
    "# импорт библиотеки pandas\n",
    "import pandas as pd \n",
    "import matplotlib.pyplot as plt \n",
    "import numpy as np\n",
    "import seaborn as sns\n",
    "from scipy import stats as st"
   ]
  },
  {
   "cell_type": "code",
   "execution_count": 2,
   "metadata": {},
   "outputs": [],
   "source": [
    " # прочитали csv-файл и сохранили в переменную `data`\n",
    "data = pd.read_csv('***')"
   ]
  },
  {
   "cell_type": "markdown",
   "metadata": {},
   "source": [
    "### Выведем первые 15 строчек датафрейма data на экран"
   ]
  },
  {
   "cell_type": "code",
   "execution_count": 3,
   "metadata": {},
   "outputs": [
    {
     "data": {
      "text/html": [
       "<div>\n",
       "<style scoped>\n",
       "    .dataframe tbody tr th:only-of-type {\n",
       "        vertical-align: middle;\n",
       "    }\n",
       "\n",
       "    .dataframe tbody tr th {\n",
       "        vertical-align: top;\n",
       "    }\n",
       "\n",
       "    .dataframe thead th {\n",
       "        text-align: right;\n",
       "    }\n",
       "</style>\n",
       "<table border=\"1\" class=\"dataframe\">\n",
       "  <thead>\n",
       "    <tr style=\"text-align: right;\">\n",
       "      <th></th>\n",
       "      <th>Name</th>\n",
       "      <th>Platform</th>\n",
       "      <th>Year_of_Release</th>\n",
       "      <th>Genre</th>\n",
       "      <th>NA_sales</th>\n",
       "      <th>EU_sales</th>\n",
       "      <th>JP_sales</th>\n",
       "      <th>Other_sales</th>\n",
       "      <th>Critic_Score</th>\n",
       "      <th>User_Score</th>\n",
       "      <th>Rating</th>\n",
       "    </tr>\n",
       "  </thead>\n",
       "  <tbody>\n",
       "    <tr>\n",
       "      <th>0</th>\n",
       "      <td>Wii Sports</td>\n",
       "      <td>Wii</td>\n",
       "      <td>2006.0</td>\n",
       "      <td>Sports</td>\n",
       "      <td>41.36</td>\n",
       "      <td>28.96</td>\n",
       "      <td>3.77</td>\n",
       "      <td>8.45</td>\n",
       "      <td>76.0</td>\n",
       "      <td>8</td>\n",
       "      <td>E</td>\n",
       "    </tr>\n",
       "    <tr>\n",
       "      <th>1</th>\n",
       "      <td>Super Mario Bros.</td>\n",
       "      <td>NES</td>\n",
       "      <td>1985.0</td>\n",
       "      <td>Platform</td>\n",
       "      <td>29.08</td>\n",
       "      <td>3.58</td>\n",
       "      <td>6.81</td>\n",
       "      <td>0.77</td>\n",
       "      <td>NaN</td>\n",
       "      <td>NaN</td>\n",
       "      <td>NaN</td>\n",
       "    </tr>\n",
       "    <tr>\n",
       "      <th>2</th>\n",
       "      <td>Mario Kart Wii</td>\n",
       "      <td>Wii</td>\n",
       "      <td>2008.0</td>\n",
       "      <td>Racing</td>\n",
       "      <td>15.68</td>\n",
       "      <td>12.76</td>\n",
       "      <td>3.79</td>\n",
       "      <td>3.29</td>\n",
       "      <td>82.0</td>\n",
       "      <td>8.3</td>\n",
       "      <td>E</td>\n",
       "    </tr>\n",
       "    <tr>\n",
       "      <th>3</th>\n",
       "      <td>Wii Sports Resort</td>\n",
       "      <td>Wii</td>\n",
       "      <td>2009.0</td>\n",
       "      <td>Sports</td>\n",
       "      <td>15.61</td>\n",
       "      <td>10.93</td>\n",
       "      <td>3.28</td>\n",
       "      <td>2.95</td>\n",
       "      <td>80.0</td>\n",
       "      <td>8</td>\n",
       "      <td>E</td>\n",
       "    </tr>\n",
       "    <tr>\n",
       "      <th>4</th>\n",
       "      <td>Pokemon Red/Pokemon Blue</td>\n",
       "      <td>GB</td>\n",
       "      <td>1996.0</td>\n",
       "      <td>Role-Playing</td>\n",
       "      <td>11.27</td>\n",
       "      <td>8.89</td>\n",
       "      <td>10.22</td>\n",
       "      <td>1.00</td>\n",
       "      <td>NaN</td>\n",
       "      <td>NaN</td>\n",
       "      <td>NaN</td>\n",
       "    </tr>\n",
       "    <tr>\n",
       "      <th>5</th>\n",
       "      <td>Tetris</td>\n",
       "      <td>GB</td>\n",
       "      <td>1989.0</td>\n",
       "      <td>Puzzle</td>\n",
       "      <td>23.20</td>\n",
       "      <td>2.26</td>\n",
       "      <td>4.22</td>\n",
       "      <td>0.58</td>\n",
       "      <td>NaN</td>\n",
       "      <td>NaN</td>\n",
       "      <td>NaN</td>\n",
       "    </tr>\n",
       "    <tr>\n",
       "      <th>6</th>\n",
       "      <td>New Super Mario Bros.</td>\n",
       "      <td>DS</td>\n",
       "      <td>2006.0</td>\n",
       "      <td>Platform</td>\n",
       "      <td>11.28</td>\n",
       "      <td>9.14</td>\n",
       "      <td>6.50</td>\n",
       "      <td>2.88</td>\n",
       "      <td>89.0</td>\n",
       "      <td>8.5</td>\n",
       "      <td>E</td>\n",
       "    </tr>\n",
       "    <tr>\n",
       "      <th>7</th>\n",
       "      <td>Wii Play</td>\n",
       "      <td>Wii</td>\n",
       "      <td>2006.0</td>\n",
       "      <td>Misc</td>\n",
       "      <td>13.96</td>\n",
       "      <td>9.18</td>\n",
       "      <td>2.93</td>\n",
       "      <td>2.84</td>\n",
       "      <td>58.0</td>\n",
       "      <td>6.6</td>\n",
       "      <td>E</td>\n",
       "    </tr>\n",
       "    <tr>\n",
       "      <th>8</th>\n",
       "      <td>New Super Mario Bros. Wii</td>\n",
       "      <td>Wii</td>\n",
       "      <td>2009.0</td>\n",
       "      <td>Platform</td>\n",
       "      <td>14.44</td>\n",
       "      <td>6.94</td>\n",
       "      <td>4.70</td>\n",
       "      <td>2.24</td>\n",
       "      <td>87.0</td>\n",
       "      <td>8.4</td>\n",
       "      <td>E</td>\n",
       "    </tr>\n",
       "    <tr>\n",
       "      <th>9</th>\n",
       "      <td>Duck Hunt</td>\n",
       "      <td>NES</td>\n",
       "      <td>1984.0</td>\n",
       "      <td>Shooter</td>\n",
       "      <td>26.93</td>\n",
       "      <td>0.63</td>\n",
       "      <td>0.28</td>\n",
       "      <td>0.47</td>\n",
       "      <td>NaN</td>\n",
       "      <td>NaN</td>\n",
       "      <td>NaN</td>\n",
       "    </tr>\n",
       "    <tr>\n",
       "      <th>10</th>\n",
       "      <td>Nintendogs</td>\n",
       "      <td>DS</td>\n",
       "      <td>2005.0</td>\n",
       "      <td>Simulation</td>\n",
       "      <td>9.05</td>\n",
       "      <td>10.95</td>\n",
       "      <td>1.93</td>\n",
       "      <td>2.74</td>\n",
       "      <td>NaN</td>\n",
       "      <td>NaN</td>\n",
       "      <td>NaN</td>\n",
       "    </tr>\n",
       "    <tr>\n",
       "      <th>11</th>\n",
       "      <td>Mario Kart DS</td>\n",
       "      <td>DS</td>\n",
       "      <td>2005.0</td>\n",
       "      <td>Racing</td>\n",
       "      <td>9.71</td>\n",
       "      <td>7.47</td>\n",
       "      <td>4.13</td>\n",
       "      <td>1.90</td>\n",
       "      <td>91.0</td>\n",
       "      <td>8.6</td>\n",
       "      <td>E</td>\n",
       "    </tr>\n",
       "    <tr>\n",
       "      <th>12</th>\n",
       "      <td>Pokemon Gold/Pokemon Silver</td>\n",
       "      <td>GB</td>\n",
       "      <td>1999.0</td>\n",
       "      <td>Role-Playing</td>\n",
       "      <td>9.00</td>\n",
       "      <td>6.18</td>\n",
       "      <td>7.20</td>\n",
       "      <td>0.71</td>\n",
       "      <td>NaN</td>\n",
       "      <td>NaN</td>\n",
       "      <td>NaN</td>\n",
       "    </tr>\n",
       "    <tr>\n",
       "      <th>13</th>\n",
       "      <td>Wii Fit</td>\n",
       "      <td>Wii</td>\n",
       "      <td>2007.0</td>\n",
       "      <td>Sports</td>\n",
       "      <td>8.92</td>\n",
       "      <td>8.03</td>\n",
       "      <td>3.60</td>\n",
       "      <td>2.15</td>\n",
       "      <td>80.0</td>\n",
       "      <td>7.7</td>\n",
       "      <td>E</td>\n",
       "    </tr>\n",
       "    <tr>\n",
       "      <th>14</th>\n",
       "      <td>Kinect Adventures!</td>\n",
       "      <td>X360</td>\n",
       "      <td>2010.0</td>\n",
       "      <td>Misc</td>\n",
       "      <td>15.00</td>\n",
       "      <td>4.89</td>\n",
       "      <td>0.24</td>\n",
       "      <td>1.69</td>\n",
       "      <td>61.0</td>\n",
       "      <td>6.3</td>\n",
       "      <td>E</td>\n",
       "    </tr>\n",
       "  </tbody>\n",
       "</table>\n",
       "</div>"
      ],
      "text/plain": [
       "                           Name Platform  Year_of_Release         Genre  \\\n",
       "0                    Wii Sports      Wii           2006.0        Sports   \n",
       "1             Super Mario Bros.      NES           1985.0      Platform   \n",
       "2                Mario Kart Wii      Wii           2008.0        Racing   \n",
       "3             Wii Sports Resort      Wii           2009.0        Sports   \n",
       "4      Pokemon Red/Pokemon Blue       GB           1996.0  Role-Playing   \n",
       "5                        Tetris       GB           1989.0        Puzzle   \n",
       "6         New Super Mario Bros.       DS           2006.0      Platform   \n",
       "7                      Wii Play      Wii           2006.0          Misc   \n",
       "8     New Super Mario Bros. Wii      Wii           2009.0      Platform   \n",
       "9                     Duck Hunt      NES           1984.0       Shooter   \n",
       "10                   Nintendogs       DS           2005.0    Simulation   \n",
       "11                Mario Kart DS       DS           2005.0        Racing   \n",
       "12  Pokemon Gold/Pokemon Silver       GB           1999.0  Role-Playing   \n",
       "13                      Wii Fit      Wii           2007.0        Sports   \n",
       "14           Kinect Adventures!     X360           2010.0          Misc   \n",
       "\n",
       "    NA_sales  EU_sales  JP_sales  Other_sales  Critic_Score User_Score Rating  \n",
       "0      41.36     28.96      3.77         8.45          76.0          8      E  \n",
       "1      29.08      3.58      6.81         0.77           NaN        NaN    NaN  \n",
       "2      15.68     12.76      3.79         3.29          82.0        8.3      E  \n",
       "3      15.61     10.93      3.28         2.95          80.0          8      E  \n",
       "4      11.27      8.89     10.22         1.00           NaN        NaN    NaN  \n",
       "5      23.20      2.26      4.22         0.58           NaN        NaN    NaN  \n",
       "6      11.28      9.14      6.50         2.88          89.0        8.5      E  \n",
       "7      13.96      9.18      2.93         2.84          58.0        6.6      E  \n",
       "8      14.44      6.94      4.70         2.24          87.0        8.4      E  \n",
       "9      26.93      0.63      0.28         0.47           NaN        NaN    NaN  \n",
       "10      9.05     10.95      1.93         2.74           NaN        NaN    NaN  \n",
       "11      9.71      7.47      4.13         1.90          91.0        8.6      E  \n",
       "12      9.00      6.18      7.20         0.71           NaN        NaN    NaN  \n",
       "13      8.92      8.03      3.60         2.15          80.0        7.7      E  \n",
       "14     15.00      4.89      0.24         1.69          61.0        6.3      E  "
      ]
     },
     "metadata": {},
     "output_type": "display_data"
    }
   ],
   "source": [
    "display(data.head(15)) "
   ]
  },
  {
   "cell_type": "markdown",
   "metadata": {},
   "source": [
    "В названиях стобцов сразу видны нарушения стиля: строчные буквы сочетаются с прописными. Устраним проблему, приведем названия столбцов к нижнему регистру."
   ]
  },
  {
   "cell_type": "code",
   "execution_count": 4,
   "metadata": {},
   "outputs": [],
   "source": [
    "data.columns = data.columns.str.lower()"
   ]
  },
  {
   "cell_type": "markdown",
   "metadata": {},
   "source": [
    "Проверим результат. Для этого еще раз выведем на экран названия столбцов."
   ]
  },
  {
   "cell_type": "code",
   "execution_count": 5,
   "metadata": {},
   "outputs": [
    {
     "name": "stdout",
     "output_type": "stream",
     "text": [
      "Index(['name', 'platform', 'year_of_release', 'genre', 'na_sales', 'eu_sales',\n",
      "       'jp_sales', 'other_sales', 'critic_score', 'user_score', 'rating'],\n",
      "      dtype='object')\n"
     ]
    }
   ],
   "source": [
    "print(data.columns)"
   ]
  },
  {
   "cell_type": "markdown",
   "metadata": {},
   "source": [
    "### Выведем основную информацию о датафрейме с помощью метода info()"
   ]
  },
  {
   "cell_type": "code",
   "execution_count": 6,
   "metadata": {},
   "outputs": [
    {
     "name": "stdout",
     "output_type": "stream",
     "text": [
      "<class 'pandas.core.frame.DataFrame'>\n",
      "RangeIndex: 16715 entries, 0 to 16714\n",
      "Data columns (total 11 columns):\n",
      " #   Column           Non-Null Count  Dtype  \n",
      "---  ------           --------------  -----  \n",
      " 0   name             16713 non-null  object \n",
      " 1   platform         16715 non-null  object \n",
      " 2   year_of_release  16446 non-null  float64\n",
      " 3   genre            16713 non-null  object \n",
      " 4   na_sales         16715 non-null  float64\n",
      " 5   eu_sales         16715 non-null  float64\n",
      " 6   jp_sales         16715 non-null  float64\n",
      " 7   other_sales      16715 non-null  float64\n",
      " 8   critic_score     8137 non-null   float64\n",
      " 9   user_score       10014 non-null  object \n",
      " 10  rating           9949 non-null   object \n",
      "dtypes: float64(6), object(5)\n",
      "memory usage: 1.4+ MB\n"
     ]
    }
   ],
   "source": [
    "data.info()"
   ]
  },
  {
   "cell_type": "markdown",
   "metadata": {},
   "source": [
    "**Вывод:** После первичного обзора исходных данных можем сказать, что мы имеем датасет размером 16715 строк, состоящий из 11 столбцов.\n",
    "В данных обнаружены пропуски и столбцы, в которых требуется поменять тип данных. \n",
    "\n",
    "Требуется устранить проблемы в данных. Для этого займемся их предобработкой."
   ]
  },
  {
   "cell_type": "markdown",
   "metadata": {},
   "source": [
    "## Предобработка данных\n",
    "#  Изменение типов данных и удаление пропусков"
   ]
  },
  {
   "cell_type": "markdown",
   "metadata": {},
   "source": [
    "### Изменение типов данных\n",
    "* В столбце `year_of_release` был обнаружен вещественный тип данных. Его необходимо изменить на целочисленный, т.к. год выпуска игры не может быть дробным. Сделаем это с помощью метода astype(). \n",
    "\n",
    "Также в столбце `year_of_release` обнаружены пропуски (около 1%). Причина появления пропусков неясна, возможно не указаны по невнимательности, поэтому их можно либо удалить либо заменить их на 0."
   ]
  },
  {
   "cell_type": "code",
   "execution_count": 7,
   "metadata": {},
   "outputs": [],
   "source": [
    "data['year_of_release'] = data['year_of_release'].fillna(0)"
   ]
  },
  {
   "cell_type": "code",
   "execution_count": 8,
   "metadata": {},
   "outputs": [
    {
     "data": {
      "text/plain": [
       "0    2006\n",
       "1    1985\n",
       "2    2008\n",
       "3    2009\n",
       "4    1996\n",
       "Name: year_of_release, dtype: int64"
      ]
     },
     "execution_count": 8,
     "metadata": {},
     "output_type": "execute_result"
    }
   ],
   "source": [
    "# изменим на целочисленный тип данных\n",
    "data['year_of_release'] = data['year_of_release'].astype('int')\n",
    "# проверим поменялся ли тип данных\n",
    "data['year_of_release'].head() \n"
   ]
  },
  {
   "cell_type": "code",
   "execution_count": 9,
   "metadata": {},
   "outputs": [
    {
     "data": {
      "text/plain": [
       "0"
      ]
     },
     "execution_count": 9,
     "metadata": {},
     "output_type": "execute_result"
    }
   ],
   "source": [
    "# проверим удалены ли пропуски\n",
    "data['year_of_release'].isna().sum() "
   ]
  },
  {
   "cell_type": "markdown",
   "metadata": {},
   "source": [
    "В столбце `user_score` был обнаружен строковый тип данных. Его необходимо изменить на вещественный, по аналогии со столбцом `critic_score`. Сделаем это с помощью метода to_numeric(). \n",
    "Рассмотрим уникальные значения в столбце `user_score`."
   ]
  },
  {
   "cell_type": "code",
   "execution_count": 10,
   "metadata": {},
   "outputs": [
    {
     "data": {
      "text/plain": [
       "array(['8', nan, '8.3', '8.5', '6.6', '8.4', '8.6', '7.7', '6.3', '7.4',\n",
       "       '8.2', '9', '7.9', '8.1', '8.7', '7.1', '3.4', '5.3', '4.8', '3.2',\n",
       "       '8.9', '6.4', '7.8', '7.5', '2.6', '7.2', '9.2', '7', '7.3', '4.3',\n",
       "       '7.6', '5.7', '5', '9.1', '6.5', 'tbd', '8.8', '6.9', '9.4', '6.8',\n",
       "       '6.1', '6.7', '5.4', '4', '4.9', '4.5', '9.3', '6.2', '4.2', '6',\n",
       "       '3.7', '4.1', '5.8', '5.6', '5.5', '4.4', '4.6', '5.9', '3.9',\n",
       "       '3.1', '2.9', '5.2', '3.3', '4.7', '5.1', '3.5', '2.5', '1.9', '3',\n",
       "       '2.7', '2.2', '2', '9.5', '2.1', '3.6', '2.8', '1.8', '3.8', '0',\n",
       "       '1.6', '9.6', '2.4', '1.7', '1.1', '0.3', '1.5', '0.7', '1.2',\n",
       "       '2.3', '0.5', '1.3', '0.2', '0.6', '1.4', '0.9', '1', '9.7'],\n",
       "      dtype=object)"
      ]
     },
     "execution_count": 10,
     "metadata": {},
     "output_type": "execute_result"
    }
   ],
   "source": [
    "data['user_score'].unique()"
   ]
  },
  {
   "cell_type": "markdown",
   "metadata": {},
   "source": [
    "* В столбце `user_score` обнаружены пропуски и значения 'tbd'. Дословно в переводе с английского 'tbd' означает 'будет определен'. Для нас это говорит о том, что рейтинг отсутствует в данных. Возможная причина отсутствия рейтинга-непопулярность игры среди пользователей. Заменим значения 'tbd' на Nan."
   ]
  },
  {
   "cell_type": "code",
   "execution_count": 11,
   "metadata": {},
   "outputs": [],
   "source": [
    "# добавили параметр errors, чтобы значения tbd заменились на Nan\n",
    "data.user_score = pd.to_numeric(data['user_score'],errors = 'coerce') "
   ]
  },
  {
   "cell_type": "markdown",
   "metadata": {},
   "source": [
    "Аномальных значений не обнаружено (все в пределах 10, как в описании к данным).\n",
    "Пропуски удалять и заполнять медианой не будем, т.к. это может повлиять на результат исследования."
   ]
  },
  {
   "cell_type": "markdown",
   "metadata": {},
   "source": [
    "Также обнаружены пропуски в столбце `critic_score`. Возможно пропуски связаны с тем, что игры не набирали высоких рейтингов от пользователей и соответственно не выдвигались для оценки со стороны критиков. Пропуски удалять не будем, т.к. их отсутствие это тоже важная информация, которая возможно пригодится при дальнейшем анализе."
   ]
  },
  {
   "cell_type": "markdown",
   "metadata": {},
   "source": [
    "Пропуски в столбце `rating` могут быть связаны с тем, что компании не обязаны предоставлять игру на определение рейтинга до начала официальных продаж. Пропуски заменим на строку 'unknown'."
   ]
  },
  {
   "cell_type": "code",
   "execution_count": 12,
   "metadata": {},
   "outputs": [],
   "source": [
    "data['rating'] = data['rating'].fillna('unknown') "
   ]
  },
  {
   "cell_type": "code",
   "execution_count": 13,
   "metadata": {},
   "outputs": [
    {
     "data": {
      "text/plain": [
       "0"
      ]
     },
     "execution_count": 13,
     "metadata": {},
     "output_type": "execute_result"
    }
   ],
   "source": [
    "data['rating'].isna().sum()"
   ]
  },
  {
   "cell_type": "markdown",
   "metadata": {},
   "source": [
    "Типы данных изменены в двух столбцах: `year_of_release`, `user_score`.\n",
    "\n",
    "Пропуски заполнены в столбцах `year_of_release` на 0. Значения tbd заменены на Nan в столбце `user_score`.\n",
    "Пропуски в столбцах `critic_score` и `user_score`оставили без изменений.\n",
    "Пропуски в столбце `rating` заменили на значение 'unknown'."
   ]
  },
  {
   "cell_type": "markdown",
   "metadata": {},
   "source": [
    "### Обработка дубликатов"
   ]
  },
  {
   "cell_type": "code",
   "execution_count": 14,
   "metadata": {},
   "outputs": [
    {
     "data": {
      "text/plain": [
       "0"
      ]
     },
     "execution_count": 14,
     "metadata": {},
     "output_type": "execute_result"
    }
   ],
   "source": [
    "# проверим есть ли строки-дубликаты в наших данных\n",
    "data.duplicated().sum() "
   ]
  },
  {
   "cell_type": "markdown",
   "metadata": {},
   "source": [
    "**Вывод**\n",
    "\n",
    "Предобработка обнаружила четыре основные проблемы в данных:\n",
    "\n",
    "* нарушения стиля в названиях столбцов,\n",
    "* пропущенные значения,\n",
    "* неверный тип данных,\n",
    "* значение 'tbd' в числовых оценках пользователей.\n",
    "\n",
    "Пропуски заполнены в столбцах `year_of_release` на '0'. Значения 'tbd' заменены на Nan в столбце `user_score`. \n",
    "\n",
    "Пропуски в столбце `critic_score` и `user_score` оставили без изменений,т.к.замена их сторонними значениями может существенно повлиять на все исследование. Также обнаружена особенность, что при наличии пропуска в столбце `critic_score`, присутствует пропуск в той же строке в столбце `user_score`. Это может говорить о том, что игра выпускалась например только для японского рынка и оценки ставились только там, а в других регионах она не оценивалась.\n",
    "\n",
    "Пропуски в столбце `rating` заменили на значение 'unknown'. \n",
    "\n",
    "Типы данных изменены в двух столбцах: `year_of_release`, `user_score`.\n",
    "\n",
    "При обработке дубликатов выяснили, что строки-дубликаты во всем датафрейме отсутствуют. "
   ]
  },
  {
   "cell_type": "markdown",
   "metadata": {},
   "source": [
    "### Посчитаем суммарные продажи во всех регионах и запишем их в отдельный столбец"
   ]
  },
  {
   "cell_type": "code",
   "execution_count": 15,
   "metadata": {},
   "outputs": [],
   "source": [
    "data['total_sales'] = data[['na_sales','eu_sales','jp_sales', 'other_sales']].sum(axis = 1)"
   ]
  },
  {
   "cell_type": "code",
   "execution_count": 16,
   "metadata": {},
   "outputs": [
    {
     "data": {
      "text/html": [
       "<div>\n",
       "<style scoped>\n",
       "    .dataframe tbody tr th:only-of-type {\n",
       "        vertical-align: middle;\n",
       "    }\n",
       "\n",
       "    .dataframe tbody tr th {\n",
       "        vertical-align: top;\n",
       "    }\n",
       "\n",
       "    .dataframe thead th {\n",
       "        text-align: right;\n",
       "    }\n",
       "</style>\n",
       "<table border=\"1\" class=\"dataframe\">\n",
       "  <thead>\n",
       "    <tr style=\"text-align: right;\">\n",
       "      <th></th>\n",
       "      <th>name</th>\n",
       "      <th>platform</th>\n",
       "      <th>year_of_release</th>\n",
       "      <th>genre</th>\n",
       "      <th>na_sales</th>\n",
       "      <th>eu_sales</th>\n",
       "      <th>jp_sales</th>\n",
       "      <th>other_sales</th>\n",
       "      <th>critic_score</th>\n",
       "      <th>user_score</th>\n",
       "      <th>rating</th>\n",
       "      <th>total_sales</th>\n",
       "    </tr>\n",
       "  </thead>\n",
       "  <tbody>\n",
       "    <tr>\n",
       "      <th>0</th>\n",
       "      <td>Wii Sports</td>\n",
       "      <td>Wii</td>\n",
       "      <td>2006</td>\n",
       "      <td>Sports</td>\n",
       "      <td>41.36</td>\n",
       "      <td>28.96</td>\n",
       "      <td>3.77</td>\n",
       "      <td>8.45</td>\n",
       "      <td>76.0</td>\n",
       "      <td>8.0</td>\n",
       "      <td>E</td>\n",
       "      <td>82.54</td>\n",
       "    </tr>\n",
       "    <tr>\n",
       "      <th>1</th>\n",
       "      <td>Super Mario Bros.</td>\n",
       "      <td>NES</td>\n",
       "      <td>1985</td>\n",
       "      <td>Platform</td>\n",
       "      <td>29.08</td>\n",
       "      <td>3.58</td>\n",
       "      <td>6.81</td>\n",
       "      <td>0.77</td>\n",
       "      <td>NaN</td>\n",
       "      <td>NaN</td>\n",
       "      <td>unknown</td>\n",
       "      <td>40.24</td>\n",
       "    </tr>\n",
       "    <tr>\n",
       "      <th>2</th>\n",
       "      <td>Mario Kart Wii</td>\n",
       "      <td>Wii</td>\n",
       "      <td>2008</td>\n",
       "      <td>Racing</td>\n",
       "      <td>15.68</td>\n",
       "      <td>12.76</td>\n",
       "      <td>3.79</td>\n",
       "      <td>3.29</td>\n",
       "      <td>82.0</td>\n",
       "      <td>8.3</td>\n",
       "      <td>E</td>\n",
       "      <td>35.52</td>\n",
       "    </tr>\n",
       "    <tr>\n",
       "      <th>3</th>\n",
       "      <td>Wii Sports Resort</td>\n",
       "      <td>Wii</td>\n",
       "      <td>2009</td>\n",
       "      <td>Sports</td>\n",
       "      <td>15.61</td>\n",
       "      <td>10.93</td>\n",
       "      <td>3.28</td>\n",
       "      <td>2.95</td>\n",
       "      <td>80.0</td>\n",
       "      <td>8.0</td>\n",
       "      <td>E</td>\n",
       "      <td>32.77</td>\n",
       "    </tr>\n",
       "    <tr>\n",
       "      <th>4</th>\n",
       "      <td>Pokemon Red/Pokemon Blue</td>\n",
       "      <td>GB</td>\n",
       "      <td>1996</td>\n",
       "      <td>Role-Playing</td>\n",
       "      <td>11.27</td>\n",
       "      <td>8.89</td>\n",
       "      <td>10.22</td>\n",
       "      <td>1.00</td>\n",
       "      <td>NaN</td>\n",
       "      <td>NaN</td>\n",
       "      <td>unknown</td>\n",
       "      <td>31.38</td>\n",
       "    </tr>\n",
       "  </tbody>\n",
       "</table>\n",
       "</div>"
      ],
      "text/plain": [
       "                       name platform  year_of_release         genre  na_sales  \\\n",
       "0                Wii Sports      Wii             2006        Sports     41.36   \n",
       "1         Super Mario Bros.      NES             1985      Platform     29.08   \n",
       "2            Mario Kart Wii      Wii             2008        Racing     15.68   \n",
       "3         Wii Sports Resort      Wii             2009        Sports     15.61   \n",
       "4  Pokemon Red/Pokemon Blue       GB             1996  Role-Playing     11.27   \n",
       "\n",
       "   eu_sales  jp_sales  other_sales  critic_score  user_score   rating  \\\n",
       "0     28.96      3.77         8.45          76.0         8.0        E   \n",
       "1      3.58      6.81         0.77           NaN         NaN  unknown   \n",
       "2     12.76      3.79         3.29          82.0         8.3        E   \n",
       "3     10.93      3.28         2.95          80.0         8.0        E   \n",
       "4      8.89     10.22         1.00           NaN         NaN  unknown   \n",
       "\n",
       "   total_sales  \n",
       "0        82.54  \n",
       "1        40.24  \n",
       "2        35.52  \n",
       "3        32.77  \n",
       "4        31.38  "
      ]
     },
     "execution_count": 16,
     "metadata": {},
     "output_type": "execute_result"
    }
   ],
   "source": [
    "# проверим добавился ли столбец\n",
    "data.head() "
   ]
  },
  {
   "cell_type": "markdown",
   "metadata": {},
   "source": [
    "## Проведем исследовательский анализ данных"
   ]
  },
  {
   "cell_type": "markdown",
   "metadata": {},
   "source": [
    "### Посмотрим сколько игр выпускалось в разные годы. Важны ли данные за все периоды?"
   ]
  },
  {
   "cell_type": "code",
   "execution_count": 17,
   "metadata": {},
   "outputs": [],
   "source": [
    "# сделаем сводную таблицу по годам выпуска и наименованию игры\n",
    "pivot_table_year_of_release = data.query('year_of_release > 0').pivot_table(index = 'year_of_release', values = 'name',aggfunc ='count').reset_index()\n",
    "\n",
    "#display(pivot_table_year_of_release.sort_values(by = 'name',ascending=False)) \n",
    "# отсортируем по убыванию и выведем на экран\n",
    "pivot_table_year_of_release.columns = ['year_of_release','count']\n",
    "\n"
   ]
  },
  {
   "cell_type": "markdown",
   "metadata": {},
   "source": [
    "Для наглядности построим линейный график."
   ]
  },
  {
   "cell_type": "code",
   "execution_count": 18,
   "metadata": {},
   "outputs": [
    {
     "data": {
      "image/png": "[encoded data removed]",
      "text/plain": [
       "<Figure size 1080x360 with 1 Axes>"
      ]
     },
     "metadata": {
      "needs_background": "light"
     },
     "output_type": "display_data"
    }
   ],
   "source": [
    "plt.figure(figsize=(15,5))\n",
    "\n",
    "sns.lineplot(x='year_of_release', y='count', data=pivot_table_year_of_release)\n",
    "# подпишем название графика\n",
    "plt.title('Количество игр в зависимости от года выпуска'); \n",
    "# подпишем ось x\n",
    "plt.xlabel('Год выпуска'); \n",
    "# подпишем ось y\n",
    "plt.ylabel('Количество игр'); "
   ]
  },
  {
   "cell_type": "markdown",
   "metadata": {},
   "source": [
    "Из графика мы видим, что меньше всего игр было выпущено с 1980 по 1993 гг.\n",
    "С 1994 г. количество игр, выпускаемых в год начинает расти и к 2002 г. в год уже выпускается около 829 игр. \n",
    "В 2003 и 2004 гг. количество игр немного синизилось, а с 2005 г. идет рост, который достигает своего пика в 2008 г. и 2009 г.(1427 и 1426 игр соответственно).\n",
    "С 2010 г. опять начинается спад в игровой индустрии, и с 2012 г. по 2016 г. количество игр,выпущенных на рынок находится в пределах от 653 до 502 игр соответственно.\n",
    "Также мы видим, что в данных есть пропуски, но их количество (269) не повлияет на ход исследования.\n",
    "\n",
    "Следовательно, можем сделать вывод, что данные за все периоды нам не важны, т.к. по ним не получится выявить закономерности, определяющие успешность игр. Часть данных просто не актуальна, из-за сроков давности. Для нашего анализа наиболее релевантным видится промежуток с 2014-2016 гг., т.к. после 2016 г. возможен очередной подьем и это позволит нам спланировать рекламные кампании."
   ]
  },
  {
   "cell_type": "markdown",
   "metadata": {},
   "source": [
    "### Посмотрим, как менялись продажи по платформам. \n",
    "Выберем платформы с наибольшими суммарными продажами и построим распределение по годам. Узнаем за какой характерный срок появляются новые и исчезают старые платформы.\n",
    "\n",
    "Сделаем сводную таблицу по платформам с наибольшими суммарными продажами. "
   ]
  },
  {
   "cell_type": "code",
   "execution_count": 19,
   "metadata": {
    "scrolled": true
   },
   "outputs": [
    {
     "data": {
      "text/html": [
       "<div>\n",
       "<style scoped>\n",
       "    .dataframe tbody tr th:only-of-type {\n",
       "        vertical-align: middle;\n",
       "    }\n",
       "\n",
       "    .dataframe tbody tr th {\n",
       "        vertical-align: top;\n",
       "    }\n",
       "\n",
       "    .dataframe thead th {\n",
       "        text-align: right;\n",
       "    }\n",
       "</style>\n",
       "<table border=\"1\" class=\"dataframe\">\n",
       "  <thead>\n",
       "    <tr style=\"text-align: right;\">\n",
       "      <th></th>\n",
       "      <th>total_sales</th>\n",
       "    </tr>\n",
       "    <tr>\n",
       "      <th>platform</th>\n",
       "      <th></th>\n",
       "    </tr>\n",
       "  </thead>\n",
       "  <tbody>\n",
       "    <tr>\n",
       "      <th>PS2</th>\n",
       "      <td>1255.77</td>\n",
       "    </tr>\n",
       "    <tr>\n",
       "      <th>X360</th>\n",
       "      <td>971.42</td>\n",
       "    </tr>\n",
       "    <tr>\n",
       "      <th>PS3</th>\n",
       "      <td>939.65</td>\n",
       "    </tr>\n",
       "    <tr>\n",
       "      <th>Wii</th>\n",
       "      <td>907.51</td>\n",
       "    </tr>\n",
       "    <tr>\n",
       "      <th>DS</th>\n",
       "      <td>806.12</td>\n",
       "    </tr>\n",
       "    <tr>\n",
       "      <th>PS</th>\n",
       "      <td>730.86</td>\n",
       "    </tr>\n",
       "  </tbody>\n",
       "</table>\n",
       "</div>"
      ],
      "text/plain": [
       "          total_sales\n",
       "platform             \n",
       "PS2           1255.77\n",
       "X360           971.42\n",
       "PS3            939.65\n",
       "Wii            907.51\n",
       "DS             806.12\n",
       "PS             730.86"
      ]
     },
     "execution_count": 19,
     "metadata": {},
     "output_type": "execute_result"
    }
   ],
   "source": [
    "# cделаем сводную таблицу по платформам и суммарным продажам\n",
    "pivot_table_total_sales = data.pivot_table(index = 'platform',values = 'total_sales',aggfunc ='sum').\\\n",
    "sort_values(by = 'total_sales',ascending=False).head(6)\n",
    "\n",
    "pivot_table_total_sales"
   ]
  },
  {
   "cell_type": "markdown",
   "metadata": {},
   "source": [
    "Построим графики распределения суммарных продаж по годам для каждой из лидирующих платформ."
   ]
  },
  {
   "cell_type": "code",
   "execution_count": 20,
   "metadata": {},
   "outputs": [
    {
     "data": {
      "text/plain": [
       "Index(['PS2', 'X360', 'PS3', 'Wii', 'DS', 'PS'], dtype='object', name='platform')"
      ]
     },
     "execution_count": 20,
     "metadata": {},
     "output_type": "execute_result"
    }
   ],
   "source": [
    "pivot_table_total_sales.index\n"
   ]
  },
  {
   "cell_type": "code",
   "execution_count": 21,
   "metadata": {},
   "outputs": [
    {
     "name": "stdout",
     "output_type": "stream",
     "text": [
      "PS2\n"
     ]
    },
    {
     "data": {
      "image/png": "[encoded data removed]",
      "text/plain": [
       "<Figure size 432x288 with 1 Axes>"
      ]
     },
     "metadata": {
      "needs_background": "light"
     },
     "output_type": "display_data"
    },
    {
     "name": "stdout",
     "output_type": "stream",
     "text": [
      "X360\n"
     ]
    },
    {
     "data": {
      "image/png": "[encoded data removed]",
      "text/plain": [
       "<Figure size 432x288 with 1 Axes>"
      ]
     },
     "metadata": {
      "needs_background": "light"
     },
     "output_type": "display_data"
    },
    {
     "name": "stdout",
     "output_type": "stream",
     "text": [
      "PS3\n"
     ]
    },
    {
     "data": {
      "image/png": "[encoded data removed]",
      "text/plain": [
       "<Figure size 432x288 with 1 Axes>"
      ]
     },
     "metadata": {
      "needs_background": "light"
     },
     "output_type": "display_data"
    },
    {
     "name": "stdout",
     "output_type": "stream",
     "text": [
      "Wii\n"
     ]
    },
    {
     "data": {
      "image/png": "[encoded data removed]",
      "text/plain": [
       "<Figure size 432x288 with 1 Axes>"
      ]
     },
     "metadata": {
      "needs_background": "light"
     },
     "output_type": "display_data"
    },
    {
     "name": "stdout",
     "output_type": "stream",
     "text": [
      "DS\n"
     ]
    },
    {
     "data": {
      "image/png": "[encoded data removed]",
      "text/plain": [
       "<Figure size 432x288 with 1 Axes>"
      ]
     },
     "metadata": {
      "needs_background": "light"
     },
     "output_type": "display_data"
    },
    {
     "name": "stdout",
     "output_type": "stream",
     "text": [
      "PS\n"
     ]
    },
    {
     "data": {
      "image/png": "[encoded data removed]",
      "text/plain": [
       "<Figure size 432x288 with 1 Axes>"
      ]
     },
     "metadata": {
      "needs_background": "light"
     },
     "output_type": "display_data"
    }
   ],
   "source": [
    "for platform in pivot_table_total_sales.index:\n",
    "    print(platform)\n",
    "    (data.query('platform == @platform').pivot_table(index = 'year_of_release',values = 'total_sales',aggfunc ='sum'))\\\n",
    "    .plot(kind='bar')\n",
    "    plt.show()"
   ]
  },
  {
   "cell_type": "markdown",
   "metadata": {},
   "source": [
    "**Распределение продаж по годам для PS2**"
   ]
  },
  {
   "cell_type": "code",
   "execution_count": 22,
   "metadata": {},
   "outputs": [
    {
     "data": {
      "text/html": [
       "<div>\n",
       "<style scoped>\n",
       "    .dataframe tbody tr th:only-of-type {\n",
       "        vertical-align: middle;\n",
       "    }\n",
       "\n",
       "    .dataframe tbody tr th {\n",
       "        vertical-align: top;\n",
       "    }\n",
       "\n",
       "    .dataframe thead th {\n",
       "        text-align: right;\n",
       "    }\n",
       "</style>\n",
       "<table border=\"1\" class=\"dataframe\">\n",
       "  <thead>\n",
       "    <tr style=\"text-align: right;\">\n",
       "      <th></th>\n",
       "      <th>year_of_release</th>\n",
       "      <th>total_sales</th>\n",
       "    </tr>\n",
       "  </thead>\n",
       "  <tbody>\n",
       "    <tr>\n",
       "      <th>count</th>\n",
       "      <td>13.000000</td>\n",
       "      <td>13.000000</td>\n",
       "    </tr>\n",
       "    <tr>\n",
       "      <th>mean</th>\n",
       "      <td>1851.230769</td>\n",
       "      <td>96.597692</td>\n",
       "    </tr>\n",
       "    <tr>\n",
       "      <th>std</th>\n",
       "      <td>556.236334</td>\n",
       "      <td>79.242573</td>\n",
       "    </tr>\n",
       "    <tr>\n",
       "      <th>min</th>\n",
       "      <td>0.000000</td>\n",
       "      <td>0.450000</td>\n",
       "    </tr>\n",
       "    <tr>\n",
       "      <th>25%</th>\n",
       "      <td>2002.000000</td>\n",
       "      <td>26.400000</td>\n",
       "    </tr>\n",
       "    <tr>\n",
       "      <th>50%</th>\n",
       "      <td>2005.000000</td>\n",
       "      <td>75.990000</td>\n",
       "    </tr>\n",
       "    <tr>\n",
       "      <th>75%</th>\n",
       "      <td>2008.000000</td>\n",
       "      <td>166.430000</td>\n",
       "    </tr>\n",
       "    <tr>\n",
       "      <th>max</th>\n",
       "      <td>2011.000000</td>\n",
       "      <td>211.810000</td>\n",
       "    </tr>\n",
       "  </tbody>\n",
       "</table>\n",
       "</div>"
      ],
      "text/plain": [
       "       year_of_release  total_sales\n",
       "count        13.000000    13.000000\n",
       "mean       1851.230769    96.597692\n",
       "std         556.236334    79.242573\n",
       "min           0.000000     0.450000\n",
       "25%        2002.000000    26.400000\n",
       "50%        2005.000000    75.990000\n",
       "75%        2008.000000   166.430000\n",
       "max        2011.000000   211.810000"
      ]
     },
     "execution_count": 22,
     "metadata": {},
     "output_type": "execute_result"
    }
   ],
   "source": [
    "# сделаем сводную таблицу для PS2\n",
    "PS2 = data.query('platform == \"PS2\"').pivot_table\\\n",
    "(index = 'year_of_release', values = 'total_sales',aggfunc = 'sum').reset_index() \n",
    "PS2.describe()"
   ]
  },
  {
   "cell_type": "code",
   "execution_count": 23,
   "metadata": {},
   "outputs": [
    {
     "data": {
      "image/png": "[encoded data removed]",
      "text/plain": [
       "<Figure size 432x288 with 1 Axes>"
      ]
     },
     "metadata": {
      "needs_background": "light"
     },
     "output_type": "display_data"
    }
   ],
   "source": [
    "sns.barplot(data = PS2, x = 'year_of_release', y = 'total_sales');\n",
    "# подпишем название графика\n",
    "plt.title('Распределение продаж по годам для PS2'); \n",
    "plt.xlabel('Год выпуска');\n",
    "plt.ylabel('Суммарные продажи'); "
   ]
  },
  {
   "cell_type": "markdown",
   "metadata": {},
   "source": [
    "**Распределение продаж по годам для X360**"
   ]
  },
  {
   "cell_type": "code",
   "execution_count": 24,
   "metadata": {},
   "outputs": [],
   "source": [
    "# сделаем сводную таблицу для X360\n",
    "X360 = data.query('platform == \"X360\"').pivot_table\\\n",
    "(index = 'year_of_release', values = 'total_sales',aggfunc = 'sum').reset_index() \n"
   ]
  },
  {
   "cell_type": "code",
   "execution_count": 25,
   "metadata": {},
   "outputs": [
    {
     "data": {
      "image/png": "[encoded data removed]",
      "text/plain": [
       "<Figure size 432x288 with 1 Axes>"
      ]
     },
     "metadata": {
      "needs_background": "light"
     },
     "output_type": "display_data"
    }
   ],
   "source": [
    "sns.barplot(data = X360, x = 'year_of_release', y = 'total_sales');\n",
    "\n",
    "plt.title('Распределение продаж по годам для X360');\n",
    "plt.xlabel('Год выпуска'); \n",
    "plt.ylabel('Суммарные продажи'); "
   ]
  },
  {
   "cell_type": "markdown",
   "metadata": {},
   "source": [
    "**Распределение продаж по годам для PS3**"
   ]
  },
  {
   "cell_type": "code",
   "execution_count": 26,
   "metadata": {},
   "outputs": [],
   "source": [
    "# сделаем сводную таблицу для PS3\n",
    "PS3 = data.query('platform == \"PS3\"').pivot_table\\\n",
    "(index = 'year_of_release', values = 'total_sales',aggfunc = 'sum').reset_index() \n"
   ]
  },
  {
   "cell_type": "code",
   "execution_count": 27,
   "metadata": {},
   "outputs": [
    {
     "data": {
      "image/png": "[encoded data removed]",
      "text/plain": [
       "<Figure size 432x288 with 1 Axes>"
      ]
     },
     "metadata": {
      "needs_background": "light"
     },
     "output_type": "display_data"
    }
   ],
   "source": [
    "sns.barplot(data = PS3, x = 'year_of_release', y = 'total_sales');\n",
    "\n",
    "plt.title('Распределение продаж по годам для PS3'); \n",
    "plt.xlabel('Год выпуска'); \n",
    "plt.ylabel('Суммарные продажи'); "
   ]
  },
  {
   "cell_type": "markdown",
   "metadata": {},
   "source": [
    "**Распределение продаж по годам для Wii**"
   ]
  },
  {
   "cell_type": "code",
   "execution_count": 28,
   "metadata": {},
   "outputs": [],
   "source": [
    "Wii = data.query('platform == \"Wii\"').pivot_table\\\n",
    "(index = 'year_of_release', values = 'total_sales',aggfunc = 'sum').reset_index() \n"
   ]
  },
  {
   "cell_type": "code",
   "execution_count": 29,
   "metadata": {},
   "outputs": [
    {
     "data": {
      "image/png": "[encoded data removed]",
      "text/plain": [
       "<Figure size 432x288 with 1 Axes>"
      ]
     },
     "metadata": {
      "needs_background": "light"
     },
     "output_type": "display_data"
    }
   ],
   "source": [
    "sns.barplot(data = Wii, x = 'year_of_release', y = 'total_sales');\n",
    "\n",
    "plt.title('Распределение продаж по годам для Wii'); \n",
    "plt.xlabel('Год выпуска');\n",
    "plt.ylabel('Суммарные продажи'); "
   ]
  },
  {
   "cell_type": "markdown",
   "metadata": {},
   "source": [
    "**Распределение продаж по годам для DS**"
   ]
  },
  {
   "cell_type": "code",
   "execution_count": 30,
   "metadata": {},
   "outputs": [],
   "source": [
    "# сделаем сводную таблицу для DS\n",
    "DS = data.query('platform == \"DS\"').pivot_table\\\n",
    "(index = 'year_of_release', values = 'total_sales',aggfunc = 'sum').reset_index() \n"
   ]
  },
  {
   "cell_type": "code",
   "execution_count": 31,
   "metadata": {},
   "outputs": [
    {
     "data": {
      "image/png": "[encoded data removed]",
      "text/plain": [
       "<Figure size 432x288 with 1 Axes>"
      ]
     },
     "metadata": {
      "needs_background": "light"
     },
     "output_type": "display_data"
    }
   ],
   "source": [
    "sns.barplot(data = DS, x = 'year_of_release', y = 'total_sales');\n",
    "\n",
    "plt.title('Распределение продаж по годам для DS'); # подпишем название графика\n",
    "plt.xlabel('Год выпуска'); # подпишем ось x\n",
    "plt.ylabel('Суммарные продажи'); # подпишем ось y"
   ]
  },
  {
   "cell_type": "markdown",
   "metadata": {},
   "source": [
    "**Распределение продаж по годам для PS**"
   ]
  },
  {
   "cell_type": "code",
   "execution_count": 32,
   "metadata": {},
   "outputs": [],
   "source": [
    " # сделаем сводную таблицу для PS\n",
    "PS = data.query('platform == \"PS\"').pivot_table\\\n",
    "(index = 'year_of_release', values = 'total_sales',aggfunc = 'sum').reset_index()"
   ]
  },
  {
   "cell_type": "code",
   "execution_count": 33,
   "metadata": {},
   "outputs": [
    {
     "data": {
      "image/png": "[encoded data removed]",
      "text/plain": [
       "<Figure size 432x288 with 1 Axes>"
      ]
     },
     "metadata": {
      "needs_background": "light"
     },
     "output_type": "display_data"
    }
   ],
   "source": [
    "sns.barplot(data = PS, x = 'year_of_release', y = 'total_sales');\n",
    "\n",
    "plt.title('Распределение продаж по годам для PS'); \n",
    "plt.xlabel('Год выпуска'); \n",
    "plt.ylabel('Суммарные продажи'); "
   ]
  },
  {
   "cell_type": "markdown",
   "metadata": {},
   "source": [
    "### Определим актуальный период для дальнейшего исследования и построения прогноза на 2017 г."
   ]
  },
  {
   "cell_type": "markdown",
   "metadata": {},
   "source": [
    "Рассмотрев распределение суммарных продаж по 6 лидирующим платформам, можно отметить, что в среднем пик продаж наступает через 3 года после выпуска платформы. Далее проходит еще 4 года, когда платформа остается популярной,но постепенно 'уходит' c рынка, об этом говорит снижение продаж на графиках. Поэтому характерным сроком за который появляются и исчезают платформы, приносящие максимальные продажи, можно считать 7-летний период."
   ]
  },
  {
   "cell_type": "markdown",
   "metadata": {},
   "source": [
    "Исходя из изученных выше вопросов, возьмем данные за 2014-2016 гг. 5 из 6 рассмотренных платформ (кр.PS) потеряли популярность в среднем к 2014 г. и поэтому вполне вероятно предположить, что на рынок выйдут новые платформы с перспективами продаж.\n",
    "Мы будем считать эти данные актуальными и они помогут нам построить прогноз на 2017 г. \n",
    "\n",
    "Далее в анализе рассмотрим только платформы и игры,которые лидируют по продажам (или падают) с 2014 г."
   ]
  },
  {
   "cell_type": "markdown",
   "metadata": {},
   "source": [
    "### Выберем потенциально прибыльные платформы\n",
    "\n",
    "Для этого изучим какие платформы лидируют по продажам, растут или падают."
   ]
  },
  {
   "cell_type": "code",
   "execution_count": 34,
   "metadata": {},
   "outputs": [
    {
     "data": {
      "text/html": [
       "<div>\n",
       "<style scoped>\n",
       "    .dataframe tbody tr th:only-of-type {\n",
       "        vertical-align: middle;\n",
       "    }\n",
       "\n",
       "    .dataframe tbody tr th {\n",
       "        vertical-align: top;\n",
       "    }\n",
       "\n",
       "    .dataframe thead th {\n",
       "        text-align: right;\n",
       "    }\n",
       "</style>\n",
       "<table border=\"1\" class=\"dataframe\">\n",
       "  <thead>\n",
       "    <tr style=\"text-align: right;\">\n",
       "      <th></th>\n",
       "      <th>platform</th>\n",
       "      <th>year_of_release</th>\n",
       "      <th>total_sales</th>\n",
       "    </tr>\n",
       "  </thead>\n",
       "  <tbody>\n",
       "    <tr>\n",
       "      <th>10</th>\n",
       "      <td>PS4</td>\n",
       "      <td>2015</td>\n",
       "      <td>118.90</td>\n",
       "    </tr>\n",
       "    <tr>\n",
       "      <th>9</th>\n",
       "      <td>PS4</td>\n",
       "      <td>2014</td>\n",
       "      <td>100.00</td>\n",
       "    </tr>\n",
       "    <tr>\n",
       "      <th>11</th>\n",
       "      <td>PS4</td>\n",
       "      <td>2016</td>\n",
       "      <td>69.25</td>\n",
       "    </tr>\n",
       "    <tr>\n",
       "      <th>27</th>\n",
       "      <td>XOne</td>\n",
       "      <td>2015</td>\n",
       "      <td>60.14</td>\n",
       "    </tr>\n",
       "    <tr>\n",
       "      <th>26</th>\n",
       "      <td>XOne</td>\n",
       "      <td>2014</td>\n",
       "      <td>54.07</td>\n",
       "    </tr>\n",
       "    <tr>\n",
       "      <th>6</th>\n",
       "      <td>PS3</td>\n",
       "      <td>2014</td>\n",
       "      <td>47.76</td>\n",
       "    </tr>\n",
       "    <tr>\n",
       "      <th>0</th>\n",
       "      <td>3DS</td>\n",
       "      <td>2014</td>\n",
       "      <td>43.76</td>\n",
       "    </tr>\n",
       "    <tr>\n",
       "      <th>23</th>\n",
       "      <td>X360</td>\n",
       "      <td>2014</td>\n",
       "      <td>34.74</td>\n",
       "    </tr>\n",
       "    <tr>\n",
       "      <th>1</th>\n",
       "      <td>3DS</td>\n",
       "      <td>2015</td>\n",
       "      <td>27.78</td>\n",
       "    </tr>\n",
       "    <tr>\n",
       "      <th>28</th>\n",
       "      <td>XOne</td>\n",
       "      <td>2016</td>\n",
       "      <td>26.15</td>\n",
       "    </tr>\n",
       "    <tr>\n",
       "      <th>20</th>\n",
       "      <td>WiiU</td>\n",
       "      <td>2014</td>\n",
       "      <td>22.03</td>\n",
       "    </tr>\n",
       "    <tr>\n",
       "      <th>7</th>\n",
       "      <td>PS3</td>\n",
       "      <td>2015</td>\n",
       "      <td>16.82</td>\n",
       "    </tr>\n",
       "    <tr>\n",
       "      <th>21</th>\n",
       "      <td>WiiU</td>\n",
       "      <td>2015</td>\n",
       "      <td>16.35</td>\n",
       "    </tr>\n",
       "    <tr>\n",
       "      <th>2</th>\n",
       "      <td>3DS</td>\n",
       "      <td>2016</td>\n",
       "      <td>15.14</td>\n",
       "    </tr>\n",
       "    <tr>\n",
       "      <th>3</th>\n",
       "      <td>PC</td>\n",
       "      <td>2014</td>\n",
       "      <td>13.28</td>\n",
       "    </tr>\n",
       "  </tbody>\n",
       "</table>\n",
       "</div>"
      ],
      "text/plain": [
       "   platform  year_of_release  total_sales\n",
       "10      PS4             2015       118.90\n",
       "9       PS4             2014       100.00\n",
       "11      PS4             2016        69.25\n",
       "27     XOne             2015        60.14\n",
       "26     XOne             2014        54.07\n",
       "6       PS3             2014        47.76\n",
       "0       3DS             2014        43.76\n",
       "23     X360             2014        34.74\n",
       "1       3DS             2015        27.78\n",
       "28     XOne             2016        26.15\n",
       "20     WiiU             2014        22.03\n",
       "7       PS3             2015        16.82\n",
       "21     WiiU             2015        16.35\n",
       "2       3DS             2016        15.14\n",
       "3        PC             2014        13.28"
      ]
     },
     "execution_count": 34,
     "metadata": {},
     "output_type": "execute_result"
    }
   ],
   "source": [
    "# сделаем сводную таблицу для прибыльных платформ c 2014 г.\n",
    "top_platform = data.query('year_of_release >= 2014').pivot_table\\\n",
    "(index = ['platform','year_of_release'], values = 'total_sales',aggfunc = 'sum').reset_index()\n",
    "\n",
    "top_platform.sort_values(by = 'total_sales',ascending=False).head(15)"
   ]
  },
  {
   "cell_type": "markdown",
   "metadata": {},
   "source": [
    "Рассмотрев динамику продаж, можно сделать вывод о том, что за эти 3 года потенциально прибыльными были следующие платформы: **PS4,XOne,3DS**. \n",
    "\n",
    "В 2015 г. идет рост продаж у PS4,XOne. Но к 2016 г. продажи стали падать.\n",
    "\n",
    "У остальных платформ в целом идет падение продаж с 2014 г.\n",
    "\n",
    "Наблюдается тенденция снижения продаж для большинства платформ в течение предыдущих 3-х лет,в этой связи мы может предположить, что к 2017 г. могут появиться новые платформы."
   ]
  },
  {
   "cell_type": "markdown",
   "metadata": {},
   "source": [
    "### Построим график 'ящик с усами' по глобальным продажам игр в разбивке по платформам. Опишем результат.\n"
   ]
  },
  {
   "cell_type": "code",
   "execution_count": 35,
   "metadata": {
    "scrolled": true
   },
   "outputs": [],
   "source": [
    "# сделаем срез по 3-м потенциально прибыльным платформам\n",
    "popular_platforms = top_platform[top_platform['platform'].isin(['PS4','XOne','3DS'])] "
   ]
  },
  {
   "cell_type": "code",
   "execution_count": 36,
   "metadata": {},
   "outputs": [
    {
     "data": {
      "image/png": "[encoded data removed]",
      "text/plain": [
       "<Figure size 432x288 with 1 Axes>"
      ]
     },
     "metadata": {
      "needs_background": "light"
     },
     "output_type": "display_data"
    }
   ],
   "source": [
    "sns.boxplot(x='platform', y='total_sales', data=popular_platforms);\n",
    "\n",
    "plt.title('Распределение продаж в разбивке по платформам'); # подпишем название графика\n",
    "plt.xlabel('Название платформы'); # подпишем ось x\n",
    "plt.ylabel('Суммарные продажи'); # подпишем ось y"
   ]
  },
  {
   "cell_type": "markdown",
   "metadata": {},
   "source": [
    "Из трех лидирующих платформ, максимальные продажи за все 3 года принесла лишь PS4. Все данные о продажах лежат в промежутке около от 70 до 120 млн. копий. При этом 50% значений лежит в промежутке: 110 млн-90 млн=20 млн. Максимальные продажи: на графике мы видим, что граница ее верхнего уса расположена выше всего по шкале продаж (около 120 млн.копий в 2015 г.).При этом медиана и длина нижнего 'уса' говорит о том, что половина игр для PS4 была продана в размере от 70 до 100 млн.копий, а другая половина (верний 'ус' короче, значения распределены ближе друг к другу) от 100 до 120 млн.копий.\n",
    "\n",
    "Далее на втором месте находится платформа XOne. Разброс данных лежит в промежутке около от 26 до 60 млн.копий. Что почти в два раза меньше по сравнению с лидером PS4. Также, мы видим что медиана расположена в верхней части коробки и длина верхнего уса значительно короче нижнего. Значит менее 50% значений расположены в диапазоне от 26 до 55 млн.копий.Рост продаж наблюдался от 55 до 60 млн.копий (с 2014 по 2015 гг.), а далее идет значительный спад продаж до 26 млн. в 2016 г. При этом межквартильный размах (50% значений) составляет 15 млн.копий (55 млн-40 млн=15 млн).\n",
    "\n",
    "На третьем месте по глобальным продажам игр находится платформа 3DS. Данные о продажах находятся в промежутке около от 15 до 43 млн.копий с 2014 года. Медиана расположена посередине, что говорит нам о том, что значения продаж распределены равномерно, без резких спадов или подъемов продаж. Ящик уже,межквартильный размах здесь составляет около 37-22=15 млн.копий. \n",
    "\n",
    "**В итоге лидером по глобальным продажам игр становится платформа PS4.**"
   ]
  },
  {
   "cell_type": "markdown",
   "metadata": {},
   "source": [
    "### Рассмотрим, как влияют на продажи внутри одной популярной платформы отзывы пользователей и критиков\n",
    "\n",
    "Построим диаграмму рассеяния и посчитаем корреляцию между отзывами и продажами. Сформулируем выводы.\n"
   ]
  },
  {
   "cell_type": "code",
   "execution_count": 37,
   "metadata": {
    "scrolled": false
   },
   "outputs": [
    {
     "data": {
      "text/html": [
       "<div>\n",
       "<style scoped>\n",
       "    .dataframe tbody tr th:only-of-type {\n",
       "        vertical-align: middle;\n",
       "    }\n",
       "\n",
       "    .dataframe tbody tr th {\n",
       "        vertical-align: top;\n",
       "    }\n",
       "\n",
       "    .dataframe thead th {\n",
       "        text-align: right;\n",
       "    }\n",
       "</style>\n",
       "<table border=\"1\" class=\"dataframe\">\n",
       "  <thead>\n",
       "    <tr style=\"text-align: right;\">\n",
       "      <th></th>\n",
       "      <th>total_sales</th>\n",
       "      <th>critic_score</th>\n",
       "      <th>user_score</th>\n",
       "    </tr>\n",
       "  </thead>\n",
       "  <tbody>\n",
       "    <tr>\n",
       "      <th>1</th>\n",
       "      <td>0.02</td>\n",
       "      <td>891.0</td>\n",
       "      <td>100.7</td>\n",
       "    </tr>\n",
       "    <tr>\n",
       "      <th>4</th>\n",
       "      <td>0.05</td>\n",
       "      <td>736.0</td>\n",
       "      <td>75.0</td>\n",
       "    </tr>\n",
       "    <tr>\n",
       "      <th>7</th>\n",
       "      <td>0.07</td>\n",
       "      <td>554.0</td>\n",
       "      <td>59.9</td>\n",
       "    </tr>\n",
       "    <tr>\n",
       "      <th>3</th>\n",
       "      <td>0.04</td>\n",
       "      <td>523.0</td>\n",
       "      <td>59.4</td>\n",
       "    </tr>\n",
       "    <tr>\n",
       "      <th>2</th>\n",
       "      <td>0.03</td>\n",
       "      <td>488.0</td>\n",
       "      <td>42.5</td>\n",
       "    </tr>\n",
       "    <tr>\n",
       "      <th>...</th>\n",
       "      <td>...</td>\n",
       "      <td>...</td>\n",
       "      <td>...</td>\n",
       "    </tr>\n",
       "    <tr>\n",
       "      <th>104</th>\n",
       "      <td>1.32</td>\n",
       "      <td>0.0</td>\n",
       "      <td>0.0</td>\n",
       "    </tr>\n",
       "    <tr>\n",
       "      <th>105</th>\n",
       "      <td>1.40</td>\n",
       "      <td>0.0</td>\n",
       "      <td>0.0</td>\n",
       "    </tr>\n",
       "    <tr>\n",
       "      <th>106</th>\n",
       "      <td>1.49</td>\n",
       "      <td>0.0</td>\n",
       "      <td>0.0</td>\n",
       "    </tr>\n",
       "    <tr>\n",
       "      <th>112</th>\n",
       "      <td>1.75</td>\n",
       "      <td>0.0</td>\n",
       "      <td>0.0</td>\n",
       "    </tr>\n",
       "    <tr>\n",
       "      <th>157</th>\n",
       "      <td>14.63</td>\n",
       "      <td>0.0</td>\n",
       "      <td>0.0</td>\n",
       "    </tr>\n",
       "  </tbody>\n",
       "</table>\n",
       "<p>158 rows × 3 columns</p>\n",
       "</div>"
      ],
      "text/plain": [
       "     total_sales  critic_score  user_score\n",
       "1           0.02         891.0       100.7\n",
       "4           0.05         736.0        75.0\n",
       "7           0.07         554.0        59.9\n",
       "3           0.04         523.0        59.4\n",
       "2           0.03         488.0        42.5\n",
       "..           ...           ...         ...\n",
       "104         1.32           0.0         0.0\n",
       "105         1.40           0.0         0.0\n",
       "106         1.49           0.0         0.0\n",
       "112         1.75           0.0         0.0\n",
       "157        14.63           0.0         0.0\n",
       "\n",
       "[158 rows x 3 columns]"
      ]
     },
     "execution_count": 37,
     "metadata": {},
     "output_type": "execute_result"
    }
   ],
   "source": [
    "# подготовим сводную таблицу по суммарным продажам игр с 2014 г. для PS4\n",
    "#и оценкам крититиков и пользователей, подсчитаем сумму оценок\n",
    "ps4corr = data.query('year_of_release >= 2014 & platform == \"PS4\"').pivot_table\\\n",
    "(index = 'total_sales',values = ['critic_score','user_score'],aggfunc = 'sum').reset_index() \n",
    "\n",
    "ps4corr.sort_values(by='critic_score', ascending=False) #отсортируем по убыванию оценок"
   ]
  },
  {
   "cell_type": "code",
   "execution_count": 38,
   "metadata": {
    "scrolled": true
   },
   "outputs": [
    {
     "data": {
      "text/plain": [
       "-0.2161795148157077"
      ]
     },
     "execution_count": 38,
     "metadata": {},
     "output_type": "execute_result"
    }
   ],
   "source": [
    "# найдем коэффициент корреляции между оценками критиков и продажами методом corr()\n",
    "ps4corr['critic_score'].corr(ps4corr['total_sales']) "
   ]
  },
  {
   "cell_type": "code",
   "execution_count": 39,
   "metadata": {},
   "outputs": [
    {
     "data": {
      "image/png": "[encoded data removed]",
      "text/plain": [
       "<Figure size 432x288 with 1 Axes>"
      ]
     },
     "metadata": {
      "needs_background": "light"
     },
     "output_type": "display_data"
    }
   ],
   "source": [
    "ps4corr.plot(x='critic_score', y='total_sales', kind = 'scatter',grid=True);\n",
    "\n",
    "plt.title('Корреляция между оценками крикитков и продажами'); # подпишем название графика\n",
    "plt.xlabel('Оценки критиков'); # подпишем ось x\n",
    "plt.ylabel('Суммарные продажи игр'); # подпишем ось y"
   ]
  },
  {
   "cell_type": "code",
   "execution_count": 40,
   "metadata": {},
   "outputs": [
    {
     "data": {
      "text/plain": [
       "-0.24366674399231006"
      ]
     },
     "execution_count": 40,
     "metadata": {},
     "output_type": "execute_result"
    }
   ],
   "source": [
    "# найдем коэффициент корреляции между оценками пользователей и продажами методом corr()\n",
    "ps4corr['user_score'].corr(ps4corr['total_sales'])\n"
   ]
  },
  {
   "cell_type": "code",
   "execution_count": 41,
   "metadata": {},
   "outputs": [
    {
     "data": {
      "image/png": "[encoded data removed]",
      "text/plain": [
       "<Figure size 432x288 with 1 Axes>"
      ]
     },
     "metadata": {
      "needs_background": "light"
     },
     "output_type": "display_data"
    }
   ],
   "source": [
    "ps4corr.plot(x='user_score', y='total_sales', kind = 'scatter',grid=True);\n",
    "\n",
    "plt.title('Корреляция между оценками пользователей и продажами'); \n",
    "plt.xlabel('Оценки пользователей'); \n",
    "plt.ylabel('Суммарные продажи игр'); "
   ]
  },
  {
   "cell_type": "markdown",
   "metadata": {},
   "source": [
    "Полученные коэффициенты корреляции в размере -0.22 и -0.24 и диаграммы рассеяния наглядно показывают нам, что связь как между оценками критиков и продажами так и между оценками пользователей и продажами очень слабая и присутствует отрицательная корреляция. То есть при росте оценков критиков/пользователей суммарные продажи как правило не увеличиваются, а наоборот либо остаются на том же уровне либо уменьшаются. Это довольно странно в данной ситуации. Ведь пользовательские оценки влияют на спрос, а положительные оценки критиков должны способствовать максимальным продажам.\n",
    "\n",
    "В связи с этим,предположим, что существует некий третий фактор, влияющий на увеличение продаж напрямую."
   ]
  },
  {
   "cell_type": "markdown",
   "metadata": {},
   "source": [
    "### Соотнесем выводы с продажами игр на других платформах\n",
    "\n",
    "Подготовим сводную таблицу по суммарным продажам игр с 2014 г. для **XOne** и оценкам крититиков и пользователей, подсчитаем сумму оценок\n"
   ]
  },
  {
   "cell_type": "code",
   "execution_count": 42,
   "metadata": {},
   "outputs": [
    {
     "data": {
      "text/html": [
       "<div>\n",
       "<style scoped>\n",
       "    .dataframe tbody tr th:only-of-type {\n",
       "        vertical-align: middle;\n",
       "    }\n",
       "\n",
       "    .dataframe tbody tr th {\n",
       "        vertical-align: top;\n",
       "    }\n",
       "\n",
       "    .dataframe thead th {\n",
       "        text-align: right;\n",
       "    }\n",
       "</style>\n",
       "<table border=\"1\" class=\"dataframe\">\n",
       "  <thead>\n",
       "    <tr style=\"text-align: right;\">\n",
       "      <th></th>\n",
       "      <th>total_sales</th>\n",
       "      <th>critic_score</th>\n",
       "      <th>user_score</th>\n",
       "    </tr>\n",
       "  </thead>\n",
       "  <tbody>\n",
       "    <tr>\n",
       "      <th>0</th>\n",
       "      <td>0.01</td>\n",
       "      <td>595.0</td>\n",
       "      <td>110.9</td>\n",
       "    </tr>\n",
       "    <tr>\n",
       "      <th>3</th>\n",
       "      <td>0.04</td>\n",
       "      <td>457.0</td>\n",
       "      <td>43.1</td>\n",
       "    </tr>\n",
       "    <tr>\n",
       "      <th>1</th>\n",
       "      <td>0.02</td>\n",
       "      <td>432.0</td>\n",
       "      <td>44.1</td>\n",
       "    </tr>\n",
       "    <tr>\n",
       "      <th>19</th>\n",
       "      <td>0.15</td>\n",
       "      <td>307.0</td>\n",
       "      <td>31.0</td>\n",
       "    </tr>\n",
       "    <tr>\n",
       "      <th>2</th>\n",
       "      <td>0.03</td>\n",
       "      <td>278.0</td>\n",
       "      <td>27.4</td>\n",
       "    </tr>\n",
       "    <tr>\n",
       "      <th>...</th>\n",
       "      <td>...</td>\n",
       "      <td>...</td>\n",
       "      <td>...</td>\n",
       "    </tr>\n",
       "    <tr>\n",
       "      <th>101</th>\n",
       "      <td>2.76</td>\n",
       "      <td>0.0</td>\n",
       "      <td>0.0</td>\n",
       "    </tr>\n",
       "    <tr>\n",
       "      <th>45</th>\n",
       "      <td>0.45</td>\n",
       "      <td>0.0</td>\n",
       "      <td>0.0</td>\n",
       "    </tr>\n",
       "    <tr>\n",
       "      <th>50</th>\n",
       "      <td>0.48</td>\n",
       "      <td>0.0</td>\n",
       "      <td>0.0</td>\n",
       "    </tr>\n",
       "    <tr>\n",
       "      <th>58</th>\n",
       "      <td>0.61</td>\n",
       "      <td>0.0</td>\n",
       "      <td>0.0</td>\n",
       "    </tr>\n",
       "    <tr>\n",
       "      <th>113</th>\n",
       "      <td>7.39</td>\n",
       "      <td>0.0</td>\n",
       "      <td>0.0</td>\n",
       "    </tr>\n",
       "  </tbody>\n",
       "</table>\n",
       "<p>114 rows × 3 columns</p>\n",
       "</div>"
      ],
      "text/plain": [
       "     total_sales  critic_score  user_score\n",
       "0           0.01         595.0       110.9\n",
       "3           0.04         457.0        43.1\n",
       "1           0.02         432.0        44.1\n",
       "19          0.15         307.0        31.0\n",
       "2           0.03         278.0        27.4\n",
       "..           ...           ...         ...\n",
       "101         2.76           0.0         0.0\n",
       "45          0.45           0.0         0.0\n",
       "50          0.48           0.0         0.0\n",
       "58          0.61           0.0         0.0\n",
       "113         7.39           0.0         0.0\n",
       "\n",
       "[114 rows x 3 columns]"
      ]
     },
     "execution_count": 42,
     "metadata": {},
     "output_type": "execute_result"
    }
   ],
   "source": [
    "#сделаем срез по данным с2014 г. \n",
    "xone_corr = data.query('year_of_release >= 2014 & platform == \"XOne\"').pivot_table\\\n",
    "(index = 'total_sales',values = ['critic_score','user_score'],aggfunc = 'sum').reset_index() \n",
    "#отсортируем по убыванию оценок\n",
    "xone_corr.sort_values(by='critic_score', ascending=False) "
   ]
  },
  {
   "cell_type": "code",
   "execution_count": 43,
   "metadata": {},
   "outputs": [
    {
     "data": {
      "text/plain": [
       "-0.243830373559005"
      ]
     },
     "execution_count": 43,
     "metadata": {},
     "output_type": "execute_result"
    }
   ],
   "source": [
    "xone_corr['critic_score'].corr(xone_corr['total_sales'])"
   ]
  },
  {
   "cell_type": "code",
   "execution_count": 44,
   "metadata": {},
   "outputs": [
    {
     "data": {
      "image/png": "[encoded data removed]",
      "text/plain": [
       "<Figure size 432x288 with 1 Axes>"
      ]
     },
     "metadata": {
      "needs_background": "light"
     },
     "output_type": "display_data"
    }
   ],
   "source": [
    "xone_corr.plot(x='critic_score', y='total_sales', kind = 'scatter',grid=True);\n",
    "\n",
    "plt.title('Корреляция между оценками критиков и продажами'); \n",
    "plt.xlabel('Оценки критиков'); \n",
    "plt.ylabel('Суммарные продажи игр');"
   ]
  },
  {
   "cell_type": "code",
   "execution_count": 45,
   "metadata": {},
   "outputs": [
    {
     "data": {
      "text/plain": [
       "-0.24783488998401723"
      ]
     },
     "execution_count": 45,
     "metadata": {},
     "output_type": "execute_result"
    }
   ],
   "source": [
    "# найдем коэффициент корреляции между оценками пользователей и XOne продажами методом corr()\n",
    "xone_corr['user_score'].corr(xone_corr['total_sales'])"
   ]
  },
  {
   "cell_type": "code",
   "execution_count": 46,
   "metadata": {
    "scrolled": true
   },
   "outputs": [
    {
     "data": {
      "image/png": "[encoded data removed]",
      "text/plain": [
       "<Figure size 432x288 with 1 Axes>"
      ]
     },
     "metadata": {
      "needs_background": "light"
     },
     "output_type": "display_data"
    }
   ],
   "source": [
    "xone_corr.plot(x='user_score', y='total_sales', kind = 'scatter',grid=True);\n",
    "\n",
    "plt.title('Корреляция между оценками пользователей и продажами'); \n",
    "plt.xlabel('Оценки пользователей'); \n",
    "plt.ylabel('Суммарные продажи игр'); "
   ]
  },
  {
   "cell_type": "markdown",
   "metadata": {},
   "source": [
    "Подготовим сводную таблицу по суммарным продажам игр с 2014 г. для **3DS** и оценкам крититиков и пользователей, подсчитаем сумму оценок."
   ]
  },
  {
   "cell_type": "code",
   "execution_count": 47,
   "metadata": {},
   "outputs": [
    {
     "data": {
      "text/html": [
       "<div>\n",
       "<style scoped>\n",
       "    .dataframe tbody tr th:only-of-type {\n",
       "        vertical-align: middle;\n",
       "    }\n",
       "\n",
       "    .dataframe tbody tr th {\n",
       "        vertical-align: top;\n",
       "    }\n",
       "\n",
       "    .dataframe thead th {\n",
       "        text-align: right;\n",
       "    }\n",
       "</style>\n",
       "<table border=\"1\" class=\"dataframe\">\n",
       "  <thead>\n",
       "    <tr style=\"text-align: right;\">\n",
       "      <th></th>\n",
       "      <th>total_sales</th>\n",
       "      <th>critic_score</th>\n",
       "      <th>user_score</th>\n",
       "    </tr>\n",
       "  </thead>\n",
       "  <tbody>\n",
       "    <tr>\n",
       "      <th>5</th>\n",
       "      <td>0.06</td>\n",
       "      <td>254.0</td>\n",
       "      <td>15.3</td>\n",
       "    </tr>\n",
       "    <tr>\n",
       "      <th>9</th>\n",
       "      <td>0.08</td>\n",
       "      <td>204.0</td>\n",
       "      <td>14.6</td>\n",
       "    </tr>\n",
       "    <tr>\n",
       "      <th>1</th>\n",
       "      <td>0.02</td>\n",
       "      <td>150.0</td>\n",
       "      <td>18.8</td>\n",
       "    </tr>\n",
       "    <tr>\n",
       "      <th>3</th>\n",
       "      <td>0.04</td>\n",
       "      <td>146.0</td>\n",
       "      <td>13.6</td>\n",
       "    </tr>\n",
       "    <tr>\n",
       "      <th>24</th>\n",
       "      <td>0.21</td>\n",
       "      <td>145.0</td>\n",
       "      <td>14.7</td>\n",
       "    </tr>\n",
       "    <tr>\n",
       "      <th>...</th>\n",
       "      <td>...</td>\n",
       "      <td>...</td>\n",
       "      <td>...</td>\n",
       "    </tr>\n",
       "    <tr>\n",
       "      <th>53</th>\n",
       "      <td>0.57</td>\n",
       "      <td>0.0</td>\n",
       "      <td>0.0</td>\n",
       "    </tr>\n",
       "    <tr>\n",
       "      <th>54</th>\n",
       "      <td>0.62</td>\n",
       "      <td>0.0</td>\n",
       "      <td>7.2</td>\n",
       "    </tr>\n",
       "    <tr>\n",
       "      <th>55</th>\n",
       "      <td>0.63</td>\n",
       "      <td>0.0</td>\n",
       "      <td>0.0</td>\n",
       "    </tr>\n",
       "    <tr>\n",
       "      <th>56</th>\n",
       "      <td>0.69</td>\n",
       "      <td>0.0</td>\n",
       "      <td>5.4</td>\n",
       "    </tr>\n",
       "    <tr>\n",
       "      <th>79</th>\n",
       "      <td>11.68</td>\n",
       "      <td>0.0</td>\n",
       "      <td>0.0</td>\n",
       "    </tr>\n",
       "  </tbody>\n",
       "</table>\n",
       "<p>80 rows × 3 columns</p>\n",
       "</div>"
      ],
      "text/plain": [
       "    total_sales  critic_score  user_score\n",
       "5          0.06         254.0        15.3\n",
       "9          0.08         204.0        14.6\n",
       "1          0.02         150.0        18.8\n",
       "3          0.04         146.0        13.6\n",
       "24         0.21         145.0        14.7\n",
       "..          ...           ...         ...\n",
       "53         0.57           0.0         0.0\n",
       "54         0.62           0.0         7.2\n",
       "55         0.63           0.0         0.0\n",
       "56         0.69           0.0         5.4\n",
       "79        11.68           0.0         0.0\n",
       "\n",
       "[80 rows x 3 columns]"
      ]
     },
     "execution_count": 47,
     "metadata": {},
     "output_type": "execute_result"
    }
   ],
   "source": [
    "#сводная таблица по срезу \n",
    "ds3_corr = data.query('year_of_release >= 2014 & platform == \"3DS\"').pivot_table\\\n",
    "(index = 'total_sales',values = ['critic_score','user_score'],aggfunc = 'sum').reset_index() \n",
    "\n",
    "ds3_corr.sort_values(by='critic_score', ascending=False) #отсортируем по убыванию оценок"
   ]
  },
  {
   "cell_type": "code",
   "execution_count": 48,
   "metadata": {},
   "outputs": [
    {
     "data": {
      "text/plain": [
       "-0.2027473135939"
      ]
     },
     "execution_count": 48,
     "metadata": {},
     "output_type": "execute_result"
    }
   ],
   "source": [
    "# найдем коэффициент корреляции между оценками критиков и продажами 3DS методом corr()\n",
    "ds3_corr['critic_score'].corr(ds3_corr['total_sales'])"
   ]
  },
  {
   "cell_type": "code",
   "execution_count": 49,
   "metadata": {},
   "outputs": [
    {
     "data": {
      "image/png": "[encoded data removed]",
      "text/plain": [
       "<Figure size 432x288 with 1 Axes>"
      ]
     },
     "metadata": {
      "needs_background": "light"
     },
     "output_type": "display_data"
    }
   ],
   "source": [
    "ds3_corr.plot(x='critic_score', y='total_sales', kind = 'scatter',grid=True);\n",
    "\n",
    "plt.title('Корреляция между оценками критиков и продажами'); \n",
    "plt.xlabel('Оценки критиков'); \n",
    "plt.ylabel('Суммарные продажи игр'); "
   ]
  },
  {
   "cell_type": "code",
   "execution_count": 50,
   "metadata": {},
   "outputs": [
    {
     "data": {
      "text/plain": [
       "-0.238477055847038"
      ]
     },
     "execution_count": 50,
     "metadata": {},
     "output_type": "execute_result"
    }
   ],
   "source": [
    "# найдем коэффициент корреляции между оценками пользователей и продажами 3DS методом corr()\n",
    "ds3_corr['user_score'].corr(ds3_corr['total_sales'])"
   ]
  },
  {
   "cell_type": "code",
   "execution_count": 51,
   "metadata": {
    "scrolled": true
   },
   "outputs": [
    {
     "data": {
      "image/png": "[encoded data removed]",
      "text/plain": [
       "<Figure size 432x288 with 1 Axes>"
      ]
     },
     "metadata": {
      "needs_background": "light"
     },
     "output_type": "display_data"
    }
   ],
   "source": [
    "ds3_corr.plot(x='user_score', y='total_sales', kind = 'scatter',grid=True);\n",
    "\n",
    "plt.title('Корреляция между оценками пользователей и продажами'); \n",
    "plt.xlabel('Оценки пользователей'); \n",
    "plt.ylabel('Суммарные продажи игр');"
   ]
  },
  {
   "cell_type": "markdown",
   "metadata": {},
   "source": [
    "Рассмотрев еще 2 наиболее прибыльные платформы (XOne и 3DS) можем сделать вывод о том, что здесь тоже присутствует слабая отрицательная корреляция. \n",
    "Если сравнивать количество оценок пользователей и критиков, то у этих платформ их меньше по сранению с PS4.\n",
    "Также из диаграмм видно, что у платформы 3DS достаточно низкие суммарные оценки как пользователей (до 10), так и критиков (от 50 до 100 в сумме) и практически не меняются."
   ]
  },
  {
   "cell_type": "markdown",
   "metadata": {},
   "source": [
    "### Посмотрим на общее распределение игр по жанрам.\n",
    "Определим самые прибыльные жанры. Выделяются ли жанры с высокими и низкими продажами."
   ]
  },
  {
   "cell_type": "code",
   "execution_count": 52,
   "metadata": {
    "scrolled": false
   },
   "outputs": [
    {
     "data": {
      "text/plain": [
       "Action          3369\n",
       "Sports          2348\n",
       "Misc            1750\n",
       "Role-Playing    1498\n",
       "Shooter         1323\n",
       "Adventure       1303\n",
       "Racing          1249\n",
       "Platform         888\n",
       "Simulation       873\n",
       "Fighting         849\n",
       "Strategy         683\n",
       "Puzzle           580\n",
       "Name: genre, dtype: int64"
      ]
     },
     "execution_count": 52,
     "metadata": {},
     "output_type": "execute_result"
    }
   ],
   "source": [
    "# посмотрим общее распределение игр по жанрам\n",
    "data['genre'].value_counts() "
   ]
  },
  {
   "cell_type": "markdown",
   "metadata": {},
   "source": [
    "Всего 12 жанров. Наиболее распространенные жанры это Action,Sports,Misc,Role-Playing,Shooter.\n",
    "\n",
    "Посмотрим какие из жанров являются самыми прибыльными в нашем актуальном периоде с 2014 г. Для этого сделаем сводную таблицу по жанрам игр и суммарным продажам с 2014 г., рассчитаем среднее, медиану,количество и сумму."
   ]
  },
  {
   "cell_type": "code",
   "execution_count": 53,
   "metadata": {
    "scrolled": true
   },
   "outputs": [
    {
     "data": {
      "text/html": [
       "<div>\n",
       "<style scoped>\n",
       "    .dataframe tbody tr th:only-of-type {\n",
       "        vertical-align: middle;\n",
       "    }\n",
       "\n",
       "    .dataframe tbody tr th {\n",
       "        vertical-align: top;\n",
       "    }\n",
       "\n",
       "    .dataframe thead th {\n",
       "        text-align: right;\n",
       "    }\n",
       "</style>\n",
       "<table border=\"1\" class=\"dataframe\">\n",
       "  <thead>\n",
       "    <tr style=\"text-align: right;\">\n",
       "      <th></th>\n",
       "      <th>genre</th>\n",
       "      <th>median</th>\n",
       "      <th>mean</th>\n",
       "      <th>count</th>\n",
       "      <th>sum</th>\n",
       "    </tr>\n",
       "  </thead>\n",
       "  <tbody>\n",
       "    <tr>\n",
       "      <th>8</th>\n",
       "      <td>Shooter</td>\n",
       "      <td>0.515</td>\n",
       "      <td>1.335469</td>\n",
       "      <td>128</td>\n",
       "      <td>170.94</td>\n",
       "    </tr>\n",
       "    <tr>\n",
       "      <th>10</th>\n",
       "      <td>Sports</td>\n",
       "      <td>0.180</td>\n",
       "      <td>0.680000</td>\n",
       "      <td>161</td>\n",
       "      <td>109.48</td>\n",
       "    </tr>\n",
       "    <tr>\n",
       "      <th>4</th>\n",
       "      <td>Platform</td>\n",
       "      <td>0.140</td>\n",
       "      <td>0.476053</td>\n",
       "      <td>38</td>\n",
       "      <td>18.09</td>\n",
       "    </tr>\n",
       "    <tr>\n",
       "      <th>2</th>\n",
       "      <td>Fighting</td>\n",
       "      <td>0.125</td>\n",
       "      <td>0.470333</td>\n",
       "      <td>60</td>\n",
       "      <td>28.22</td>\n",
       "    </tr>\n",
       "    <tr>\n",
       "      <th>7</th>\n",
       "      <td>Role-Playing</td>\n",
       "      <td>0.110</td>\n",
       "      <td>0.459005</td>\n",
       "      <td>221</td>\n",
       "      <td>101.44</td>\n",
       "    </tr>\n",
       "    <tr>\n",
       "      <th>9</th>\n",
       "      <td>Simulation</td>\n",
       "      <td>0.100</td>\n",
       "      <td>0.298409</td>\n",
       "      <td>44</td>\n",
       "      <td>13.13</td>\n",
       "    </tr>\n",
       "    <tr>\n",
       "      <th>0</th>\n",
       "      <td>Action</td>\n",
       "      <td>0.090</td>\n",
       "      <td>0.322068</td>\n",
       "      <td>619</td>\n",
       "      <td>199.36</td>\n",
       "    </tr>\n",
       "    <tr>\n",
       "      <th>3</th>\n",
       "      <td>Misc</td>\n",
       "      <td>0.090</td>\n",
       "      <td>0.332301</td>\n",
       "      <td>113</td>\n",
       "      <td>37.55</td>\n",
       "    </tr>\n",
       "    <tr>\n",
       "      <th>6</th>\n",
       "      <td>Racing</td>\n",
       "      <td>0.090</td>\n",
       "      <td>0.398841</td>\n",
       "      <td>69</td>\n",
       "      <td>27.52</td>\n",
       "    </tr>\n",
       "    <tr>\n",
       "      <th>11</th>\n",
       "      <td>Strategy</td>\n",
       "      <td>0.060</td>\n",
       "      <td>0.107027</td>\n",
       "      <td>37</td>\n",
       "      <td>3.96</td>\n",
       "    </tr>\n",
       "    <tr>\n",
       "      <th>5</th>\n",
       "      <td>Puzzle</td>\n",
       "      <td>0.045</td>\n",
       "      <td>0.157857</td>\n",
       "      <td>14</td>\n",
       "      <td>2.21</td>\n",
       "    </tr>\n",
       "    <tr>\n",
       "      <th>1</th>\n",
       "      <td>Adventure</td>\n",
       "      <td>0.030</td>\n",
       "      <td>0.094865</td>\n",
       "      <td>185</td>\n",
       "      <td>17.55</td>\n",
       "    </tr>\n",
       "  </tbody>\n",
       "</table>\n",
       "</div>"
      ],
      "text/plain": [
       "           genre  median      mean  count     sum\n",
       "8        Shooter   0.515  1.335469    128  170.94\n",
       "10        Sports   0.180  0.680000    161  109.48\n",
       "4       Platform   0.140  0.476053     38   18.09\n",
       "2       Fighting   0.125  0.470333     60   28.22\n",
       "7   Role-Playing   0.110  0.459005    221  101.44\n",
       "9     Simulation   0.100  0.298409     44   13.13\n",
       "0         Action   0.090  0.322068    619  199.36\n",
       "3           Misc   0.090  0.332301    113   37.55\n",
       "6         Racing   0.090  0.398841     69   27.52\n",
       "11      Strategy   0.060  0.107027     37    3.96\n",
       "5         Puzzle   0.045  0.157857     14    2.21\n",
       "1      Adventure   0.030  0.094865    185   17.55"
      ]
     },
     "execution_count": 53,
     "metadata": {},
     "output_type": "execute_result"
    }
   ],
   "source": [
    "# отсортируем по убыванию и выведем 10 жанров с наибольшими продажами\n",
    "games_genre = data.query('year_of_release >= 2014').pivot_table\\\n",
    "(index = 'genre',values = 'total_sales',aggfunc = ['median', 'mean', 'count', 'sum']).reset_index() \n",
    "\n",
    "games_genre.columns = ['genre','median', 'mean', 'count', 'sum']\n",
    "games_genre.sort_values(by = 'median',ascending=False)\n"
   ]
  },
  {
   "cell_type": "markdown",
   "metadata": {},
   "source": [
    "Самыми прибыльными оказались жанры: \n",
    "* Shooter, их медианная продажа выше всех остальных жанров, но по количеству продаж шутеры находятся на 4-м месте (128)\n",
    "* Sports, медиана продаж 0,180 млн.копий и по количеству на 3-м месте (161)\n",
    "* Platform, медиана продаж 0,140 млн.копий и по количеству - 38.\n",
    "\n",
    "\n",
    "Жанры с высокими и низкими продажами значительно выделяются друг от друга. \n",
    "Разброс значений по продажам от 2.21 млн. копий до 199.36 млн.копий по всем регионам в целом.\n",
    "\n",
    "Самыми низкоприбыльными являются игры с жанрами:Puzzle,Strategy,Racing. \n",
    "\n",
    "Можно сделать вывод о том, что большое разнообразие игр и количество игр вовсе не гарантирует высокие продажи.\n",
    "Мы видим, что есть жанры с очень большим количеством игр, но при этом это не гарантия того, что жанр в целом будет прибыльным. \n",
    "Также есть жанры, где игр не так много, но продажи высокие, возможно за счет самой популярной игры в этом жанре, которая больше всего приносит дохода.\n",
    "\n",
    "Поэтому рекомендуем сосредоточиться на качестве игр, чем выпускать массово, не учитывая потребности и оценки пользователей и критиков.\n",
    "Поэтому при планировании продаж и при прогнозе на 2017 г. следует тщательно отбирать игры в том числе и по жанрам.\t"
   ]
  },
  {
   "cell_type": "markdown",
   "metadata": {},
   "source": [
    "## Составим портрет пользователя каждого региона (NA, EU,JP)\n",
    "\n",
    "* Определим самые популярные платформы (топ-5). Опишем различия в долях продаж.\n",
    "* Выявим самые популярные жанры (топ-5). Объясним разницу.\n",
    "* Посмотрим влияет ли рейтинг ESRB на продажи в отдельном регионе."
   ]
  },
  {
   "cell_type": "markdown",
   "metadata": {},
   "source": [
    "Определим самые популярные платформы и жанры для **Северной Америки**. Для этого сделаем сводную таблицу по продажам платформ для данного региона с 2014 г."
   ]
  },
  {
   "cell_type": "code",
   "execution_count": 54,
   "metadata": {},
   "outputs": [],
   "source": [
    "# сделаем сводную таблицу для популярных платформ в Северной Америке\n",
    "# остортируем значения по убыванию\n",
    "top5_platform_na = data.query('year_of_release >= 2014').pivot_table\\\n",
    "(index = 'platform', values = ['na_sales','total_sales'],aggfunc = 'sum').sort_values(by = 'na_sales',ascending=False).head()\n"
   ]
  },
  {
   "cell_type": "code",
   "execution_count": 55,
   "metadata": {},
   "outputs": [
    {
     "data": {
      "text/html": [
       "<div>\n",
       "<style scoped>\n",
       "    .dataframe tbody tr th:only-of-type {\n",
       "        vertical-align: middle;\n",
       "    }\n",
       "\n",
       "    .dataframe tbody tr th {\n",
       "        vertical-align: top;\n",
       "    }\n",
       "\n",
       "    .dataframe thead th {\n",
       "        text-align: right;\n",
       "    }\n",
       "</style>\n",
       "<table border=\"1\" class=\"dataframe\">\n",
       "  <thead>\n",
       "    <tr style=\"text-align: right;\">\n",
       "      <th></th>\n",
       "      <th>na_sales</th>\n",
       "      <th>total_sales</th>\n",
       "      <th>part</th>\n",
       "    </tr>\n",
       "    <tr>\n",
       "      <th>platform</th>\n",
       "      <th></th>\n",
       "      <th></th>\n",
       "      <th></th>\n",
       "    </tr>\n",
       "  </thead>\n",
       "  <tbody>\n",
       "    <tr>\n",
       "      <th>PS4</th>\n",
       "      <td>98.61</td>\n",
       "      <td>288.15</td>\n",
       "      <td>34.22</td>\n",
       "    </tr>\n",
       "    <tr>\n",
       "      <th>XOne</th>\n",
       "      <td>81.27</td>\n",
       "      <td>140.36</td>\n",
       "      <td>57.90</td>\n",
       "    </tr>\n",
       "    <tr>\n",
       "      <th>X360</th>\n",
       "      <td>28.30</td>\n",
       "      <td>48.22</td>\n",
       "      <td>58.69</td>\n",
       "    </tr>\n",
       "    <tr>\n",
       "      <th>3DS</th>\n",
       "      <td>22.64</td>\n",
       "      <td>86.68</td>\n",
       "      <td>26.12</td>\n",
       "    </tr>\n",
       "    <tr>\n",
       "      <th>PS3</th>\n",
       "      <td>22.05</td>\n",
       "      <td>68.18</td>\n",
       "      <td>32.34</td>\n",
       "    </tr>\n",
       "  </tbody>\n",
       "</table>\n",
       "</div>"
      ],
      "text/plain": [
       "          na_sales  total_sales   part\n",
       "platform                              \n",
       "PS4          98.61       288.15  34.22\n",
       "XOne         81.27       140.36  57.90\n",
       "X360         28.30        48.22  58.69\n",
       "3DS          22.64        86.68  26.12\n",
       "PS3          22.05        68.18  32.34"
      ]
     },
     "execution_count": 55,
     "metadata": {},
     "output_type": "execute_result"
    }
   ],
   "source": [
    "# добавим столбец, где посчитаем долю продаж, значения округлим до 2-х знаков\n",
    "top5_platform_na['part'] = (top5_platform_na['na_sales'] / top5_platform_na['total_sales'] *100).round(2) \n",
    "\n",
    "top5_platform_na "
   ]
  },
  {
   "cell_type": "markdown",
   "metadata": {},
   "source": [
    "Для Северной Америки самыми популярными являются платформы: PS4,XOne,X360,3DS,PS3.\n",
    "\n",
    "Максимальные продажи у платформы PS4 (98,61 млн.копий в регионе), при этом доля продаж данной платформы в общих продажах по всем регионам составляет 34,22 %.\n",
    "\n",
    "На 5-месте по продажам находится платформа PS3 (22,05 млн.копий), при этом доля продаж составляет 32,34%.\n",
    "\n",
    "По максимальной доле продаж в общих продажах занимает платформа X360(58,69%), при этом в данном регионе эта платформа продавалась меньше(в среднем на 3-м месте)."
   ]
  },
  {
   "cell_type": "code",
   "execution_count": 56,
   "metadata": {},
   "outputs": [],
   "source": [
    "# сводная таблица по продажам с распределением по жанрам для Северной Америки\n",
    "# отсортируем по убыванию и выведем 5 жанров с наибольшими продажами\n",
    "top5_genre_na = data.query('year_of_release >= 2014').pivot_table\\\n",
    "(index = 'genre',values = ['na_sales','total_sales'],aggfunc = 'sum').sort_values(by = 'na_sales',ascending=False).head()"
   ]
  },
  {
   "cell_type": "code",
   "execution_count": 57,
   "metadata": {
    "scrolled": true
   },
   "outputs": [
    {
     "data": {
      "text/html": [
       "<div>\n",
       "<style scoped>\n",
       "    .dataframe tbody tr th:only-of-type {\n",
       "        vertical-align: middle;\n",
       "    }\n",
       "\n",
       "    .dataframe tbody tr th {\n",
       "        vertical-align: top;\n",
       "    }\n",
       "\n",
       "    .dataframe thead th {\n",
       "        text-align: right;\n",
       "    }\n",
       "</style>\n",
       "<table border=\"1\" class=\"dataframe\">\n",
       "  <thead>\n",
       "    <tr style=\"text-align: right;\">\n",
       "      <th></th>\n",
       "      <th>na_sales</th>\n",
       "      <th>total_sales</th>\n",
       "      <th>part</th>\n",
       "    </tr>\n",
       "    <tr>\n",
       "      <th>genre</th>\n",
       "      <th></th>\n",
       "      <th></th>\n",
       "      <th></th>\n",
       "    </tr>\n",
       "  </thead>\n",
       "  <tbody>\n",
       "    <tr>\n",
       "      <th>Shooter</th>\n",
       "      <td>79.02</td>\n",
       "      <td>170.94</td>\n",
       "      <td>46.23</td>\n",
       "    </tr>\n",
       "    <tr>\n",
       "      <th>Action</th>\n",
       "      <td>72.53</td>\n",
       "      <td>199.36</td>\n",
       "      <td>36.38</td>\n",
       "    </tr>\n",
       "    <tr>\n",
       "      <th>Sports</th>\n",
       "      <td>46.13</td>\n",
       "      <td>109.48</td>\n",
       "      <td>42.14</td>\n",
       "    </tr>\n",
       "    <tr>\n",
       "      <th>Role-Playing</th>\n",
       "      <td>33.47</td>\n",
       "      <td>101.44</td>\n",
       "      <td>32.99</td>\n",
       "    </tr>\n",
       "    <tr>\n",
       "      <th>Misc</th>\n",
       "      <td>15.05</td>\n",
       "      <td>37.55</td>\n",
       "      <td>40.08</td>\n",
       "    </tr>\n",
       "  </tbody>\n",
       "</table>\n",
       "</div>"
      ],
      "text/plain": [
       "              na_sales  total_sales   part\n",
       "genre                                     \n",
       "Shooter          79.02       170.94  46.23\n",
       "Action           72.53       199.36  36.38\n",
       "Sports           46.13       109.48  42.14\n",
       "Role-Playing     33.47       101.44  32.99\n",
       "Misc             15.05        37.55  40.08"
      ]
     },
     "execution_count": 57,
     "metadata": {},
     "output_type": "execute_result"
    }
   ],
   "source": [
    "# добавим столбец, где посчитаем долю продаж, значения округлим до 2-х знаков\n",
    "top5_genre_na['part'] = (top5_genre_na['na_sales'] / top5_genre_na['total_sales'] *100).round(2) \n",
    "\n",
    "top5_genre_na"
   ]
  },
  {
   "cell_type": "markdown",
   "metadata": {},
   "source": [
    "В Северной Америке лидируют по полулярности следующие жанры: Shooter,Action,Sports,Role-Playing,Misc (по убыванию популярности соответственно)."
   ]
  },
  {
   "cell_type": "markdown",
   "metadata": {},
   "source": [
    "Определим самые популярные платформы и жанры для **Европы**. Для этого сделаем сводную таблицу по продажам платформ для данного региона с 2014 г."
   ]
  },
  {
   "cell_type": "code",
   "execution_count": 58,
   "metadata": {},
   "outputs": [],
   "source": [
    "# сделаем сводную таблицу для популярных платформ в Европе\n",
    "# остортируем значения по убыванию\n",
    "top5_platform_eu = data.query('year_of_release >= 2014').pivot_table\\\n",
    "(index = 'platform', values = ['eu_sales','total_sales'],aggfunc = 'sum').sort_values(by = 'eu_sales',ascending=False).head()"
   ]
  },
  {
   "cell_type": "code",
   "execution_count": 59,
   "metadata": {},
   "outputs": [
    {
     "data": {
      "text/html": [
       "<div>\n",
       "<style scoped>\n",
       "    .dataframe tbody tr th:only-of-type {\n",
       "        vertical-align: middle;\n",
       "    }\n",
       "\n",
       "    .dataframe tbody tr th {\n",
       "        vertical-align: top;\n",
       "    }\n",
       "\n",
       "    .dataframe thead th {\n",
       "        text-align: right;\n",
       "    }\n",
       "</style>\n",
       "<table border=\"1\" class=\"dataframe\">\n",
       "  <thead>\n",
       "    <tr style=\"text-align: right;\">\n",
       "      <th></th>\n",
       "      <th>eu_sales</th>\n",
       "      <th>total_sales</th>\n",
       "      <th>part</th>\n",
       "    </tr>\n",
       "    <tr>\n",
       "      <th>platform</th>\n",
       "      <th></th>\n",
       "      <th></th>\n",
       "      <th></th>\n",
       "    </tr>\n",
       "  </thead>\n",
       "  <tbody>\n",
       "    <tr>\n",
       "      <th>PS4</th>\n",
       "      <td>130.04</td>\n",
       "      <td>288.15</td>\n",
       "      <td>45.13</td>\n",
       "    </tr>\n",
       "    <tr>\n",
       "      <th>XOne</th>\n",
       "      <td>46.25</td>\n",
       "      <td>140.36</td>\n",
       "      <td>32.95</td>\n",
       "    </tr>\n",
       "    <tr>\n",
       "      <th>PS3</th>\n",
       "      <td>25.54</td>\n",
       "      <td>68.18</td>\n",
       "      <td>37.46</td>\n",
       "    </tr>\n",
       "    <tr>\n",
       "      <th>PC</th>\n",
       "      <td>17.97</td>\n",
       "      <td>27.05</td>\n",
       "      <td>66.43</td>\n",
       "    </tr>\n",
       "    <tr>\n",
       "      <th>3DS</th>\n",
       "      <td>16.12</td>\n",
       "      <td>86.68</td>\n",
       "      <td>18.60</td>\n",
       "    </tr>\n",
       "  </tbody>\n",
       "</table>\n",
       "</div>"
      ],
      "text/plain": [
       "          eu_sales  total_sales   part\n",
       "platform                              \n",
       "PS4         130.04       288.15  45.13\n",
       "XOne         46.25       140.36  32.95\n",
       "PS3          25.54        68.18  37.46\n",
       "PC           17.97        27.05  66.43\n",
       "3DS          16.12        86.68  18.60"
      ]
     },
     "execution_count": 59,
     "metadata": {},
     "output_type": "execute_result"
    }
   ],
   "source": [
    "# добавим столбец, где посчитаем долю продаж, значения округлим до 2-х знаков\n",
    "top5_platform_eu['part'] = (top5_platform_eu['eu_sales'] / top5_platform_eu['total_sales'] *100).round(2) \n",
    "\n",
    "top5_platform_eu "
   ]
  },
  {
   "cell_type": "markdown",
   "metadata": {},
   "source": [
    "Для Европы самыми популярными являются платформы: PS4,XOne,PS3,PC,3DS. \n",
    "\n",
    "Максимальные продажи также как и в Северной Америке у платформы PS4 (130,04 млн.копий в регионе), при этом доля продаж данной платформы в общих продажах по всем регионам составляет 45,13 %. То есть в Европе продаж PS4  больше, чем в Северной Америке.\n",
    "В середине находится PS3 (25.54 млн.копий), при этом доля продаж в общих продажах тоже выше по сравнению с Северной Америкой (37,46 %).\n",
    "\n",
    "На 5-месте по продажам находится платформа 3DS (16,12 млн.копий), при этом доля продаж составляет всего 18,60%. То есть в Европе платформа 3DS продается меньше всего и наименее популярна среди пользователей.\n",
    "\n",
    "По максимальной доле продаж в общих продажах занимает платформа PC(66,43%), при этом в данном регионе эта платформа продавалась  меньше(в среднем на 4-м месте, 17.97 млн.копий)."
   ]
  },
  {
   "cell_type": "code",
   "execution_count": 60,
   "metadata": {},
   "outputs": [],
   "source": [
    "# сводная таблица по продажам с распределением по жанрам\n",
    "# отсортируем по убыванию и выведем 5 жанров с наибольшими продажами\n",
    "top5_genre_eu = data.query('year_of_release >= 2014').pivot_table\\\n",
    "(index = 'genre',values = ['eu_sales','total_sales'],aggfunc = 'sum').sort_values(by = 'eu_sales',ascending=False).head()"
   ]
  },
  {
   "cell_type": "code",
   "execution_count": 61,
   "metadata": {},
   "outputs": [
    {
     "data": {
      "text/html": [
       "<div>\n",
       "<style scoped>\n",
       "    .dataframe tbody tr th:only-of-type {\n",
       "        vertical-align: middle;\n",
       "    }\n",
       "\n",
       "    .dataframe tbody tr th {\n",
       "        vertical-align: top;\n",
       "    }\n",
       "\n",
       "    .dataframe thead th {\n",
       "        text-align: right;\n",
       "    }\n",
       "</style>\n",
       "<table border=\"1\" class=\"dataframe\">\n",
       "  <thead>\n",
       "    <tr style=\"text-align: right;\">\n",
       "      <th></th>\n",
       "      <th>eu_sales</th>\n",
       "      <th>total_sales</th>\n",
       "      <th>part</th>\n",
       "    </tr>\n",
       "    <tr>\n",
       "      <th>genre</th>\n",
       "      <th></th>\n",
       "      <th></th>\n",
       "      <th></th>\n",
       "    </tr>\n",
       "  </thead>\n",
       "  <tbody>\n",
       "    <tr>\n",
       "      <th>Action</th>\n",
       "      <td>74.68</td>\n",
       "      <td>199.36</td>\n",
       "      <td>37.46</td>\n",
       "    </tr>\n",
       "    <tr>\n",
       "      <th>Shooter</th>\n",
       "      <td>65.52</td>\n",
       "      <td>170.94</td>\n",
       "      <td>38.33</td>\n",
       "    </tr>\n",
       "    <tr>\n",
       "      <th>Sports</th>\n",
       "      <td>45.73</td>\n",
       "      <td>109.48</td>\n",
       "      <td>41.77</td>\n",
       "    </tr>\n",
       "    <tr>\n",
       "      <th>Role-Playing</th>\n",
       "      <td>28.17</td>\n",
       "      <td>101.44</td>\n",
       "      <td>27.77</td>\n",
       "    </tr>\n",
       "    <tr>\n",
       "      <th>Racing</th>\n",
       "      <td>14.13</td>\n",
       "      <td>27.52</td>\n",
       "      <td>51.34</td>\n",
       "    </tr>\n",
       "  </tbody>\n",
       "</table>\n",
       "</div>"
      ],
      "text/plain": [
       "              eu_sales  total_sales   part\n",
       "genre                                     \n",
       "Action           74.68       199.36  37.46\n",
       "Shooter          65.52       170.94  38.33\n",
       "Sports           45.73       109.48  41.77\n",
       "Role-Playing     28.17       101.44  27.77\n",
       "Racing           14.13        27.52  51.34"
      ]
     },
     "execution_count": 61,
     "metadata": {},
     "output_type": "execute_result"
    }
   ],
   "source": [
    "# добавим столбец, где посчитаем долю продаж, значения округлим до 2-х знаков\n",
    "top5_genre_eu['part'] = (top5_genre_eu['eu_sales'] / top5_genre_eu['total_sales'] *100).round(2) \n",
    "\n",
    "top5_genre_eu"
   ]
  },
  {
   "cell_type": "markdown",
   "metadata": {},
   "source": [
    "В Европе лидируют по полулярности следующие жанры: Action,Shooter,Sports,Role-Playing,Racing (по убыванию популярности соответственно).\n",
    "\n",
    "В отличии от  Северной Америки в Европе наиболее популярны игры с жанром Action, а потом Shooter. Также как и в Северной Америке на 3-м и 4-м месте находится игры с жанром Sports и Role-Playing.\n",
    "\n",
    "На 5-м месте в Европе находится жанр Racing, а в Северной Америке был Misc. При этом данный жанр лидирует по доле продаж в общих продажах и его доля составляет 51,34%."
   ]
  },
  {
   "cell_type": "markdown",
   "metadata": {},
   "source": [
    "Определим самые популярные платформы и жанры для **Японии**. Для этого сделаем сводную таблицу по продажам платформ для данного региона с 2014 г."
   ]
  },
  {
   "cell_type": "code",
   "execution_count": 62,
   "metadata": {},
   "outputs": [],
   "source": [
    "# сделаем сводную таблицу для популярных платформ в Японии\n",
    "# остортируем значения по убыванию\n",
    "top5_platform_jp = data.query('year_of_release >= 2014').pivot_table\\\n",
    "(index = 'platform', values = ['jp_sales','total_sales'],aggfunc = 'sum').sort_values(by = 'jp_sales',ascending=False).head()"
   ]
  },
  {
   "cell_type": "code",
   "execution_count": 63,
   "metadata": {
    "scrolled": false
   },
   "outputs": [
    {
     "data": {
      "text/html": [
       "<div>\n",
       "<style scoped>\n",
       "    .dataframe tbody tr th:only-of-type {\n",
       "        vertical-align: middle;\n",
       "    }\n",
       "\n",
       "    .dataframe tbody tr th {\n",
       "        vertical-align: top;\n",
       "    }\n",
       "\n",
       "    .dataframe thead th {\n",
       "        text-align: right;\n",
       "    }\n",
       "</style>\n",
       "<table border=\"1\" class=\"dataframe\">\n",
       "  <thead>\n",
       "    <tr style=\"text-align: right;\">\n",
       "      <th></th>\n",
       "      <th>jp_sales</th>\n",
       "      <th>total_sales</th>\n",
       "      <th>part</th>\n",
       "    </tr>\n",
       "    <tr>\n",
       "      <th>platform</th>\n",
       "      <th></th>\n",
       "      <th></th>\n",
       "      <th></th>\n",
       "    </tr>\n",
       "  </thead>\n",
       "  <tbody>\n",
       "    <tr>\n",
       "      <th>3DS</th>\n",
       "      <td>44.24</td>\n",
       "      <td>86.68</td>\n",
       "      <td>51.04</td>\n",
       "    </tr>\n",
       "    <tr>\n",
       "      <th>PS4</th>\n",
       "      <td>15.02</td>\n",
       "      <td>288.15</td>\n",
       "      <td>5.21</td>\n",
       "    </tr>\n",
       "    <tr>\n",
       "      <th>PSV</th>\n",
       "      <td>14.54</td>\n",
       "      <td>22.40</td>\n",
       "      <td>64.91</td>\n",
       "    </tr>\n",
       "    <tr>\n",
       "      <th>PS3</th>\n",
       "      <td>11.22</td>\n",
       "      <td>68.18</td>\n",
       "      <td>16.46</td>\n",
       "    </tr>\n",
       "    <tr>\n",
       "      <th>WiiU</th>\n",
       "      <td>7.31</td>\n",
       "      <td>42.98</td>\n",
       "      <td>17.01</td>\n",
       "    </tr>\n",
       "  </tbody>\n",
       "</table>\n",
       "</div>"
      ],
      "text/plain": [
       "          jp_sales  total_sales   part\n",
       "platform                              \n",
       "3DS          44.24        86.68  51.04\n",
       "PS4          15.02       288.15   5.21\n",
       "PSV          14.54        22.40  64.91\n",
       "PS3          11.22        68.18  16.46\n",
       "WiiU          7.31        42.98  17.01"
      ]
     },
     "execution_count": 63,
     "metadata": {},
     "output_type": "execute_result"
    }
   ],
   "source": [
    "# добавим столбец, где посчитаем долю продаж, значения округлим до 2-х знаков\n",
    "top5_platform_jp['part'] = (top5_platform_jp['jp_sales'] / top5_platform_jp['total_sales'] *100).round(2) \n",
    "\n",
    "top5_platform_jp"
   ]
  },
  {
   "cell_type": "markdown",
   "metadata": {},
   "source": [
    "Для Японии самыми популярными являются платформы: 3DS,PS4,PSV,PS3,WiiU.\n",
    "\n",
    "Максимальные продажи у платформы 3DS (44,24 млн.копий в регионе), при этом доля продаж данной платформы в общих продажах по всем регионам составляет 51,04 %. То есть Япония является лидером по продажам 3DS по сравнению с другими регионами. \n",
    "\n",
    "Также отличительной особенностью для Японии явлется присутствие на рынке платформы PSV (14.54 млн.копий), при этом доля продаж в общих продажах достаточно высокая и составляет (64,91 %).\n",
    "\n",
    "На 5-месте по продажам находится платформа WiiU (7,31 млн.копий), при этом доля продаж составляет всего 17,01%. Данная платформа находится в рейтинге 5-ти самых популярных только в Японии.\n",
    "\n",
    "Еще одно важное отличие японского рынка платформ - это минимальная доля продаж в общих продажах занимает платформа PS4(5,21%), при этом продажи в данном регионе составляют в среднем на 2-м месте, 15.02 млн.копий).\n",
    "\n",
    "Японский рынок выделяется среди других регионов по популярности платформ.\n",
    "Рассмотрим самые популярные жанры игр в Японии."
   ]
  },
  {
   "cell_type": "code",
   "execution_count": 64,
   "metadata": {},
   "outputs": [],
   "source": [
    "# сводная таблица по продажам с распределением по жанрам для Японии\n",
    "# отсортируем по убыванию и выведем 5 жанров с наибольшими продажами\n",
    "\n",
    "top5_genre_jp = data.query('year_of_release >= 2014').pivot_table\\\n",
    "(index = 'genre',values = ['jp_sales','total_sales'],aggfunc = 'sum').sort_values(by = 'jp_sales',ascending=False).head()"
   ]
  },
  {
   "cell_type": "code",
   "execution_count": 65,
   "metadata": {},
   "outputs": [
    {
     "data": {
      "text/html": [
       "<div>\n",
       "<style scoped>\n",
       "    .dataframe tbody tr th:only-of-type {\n",
       "        vertical-align: middle;\n",
       "    }\n",
       "\n",
       "    .dataframe tbody tr th {\n",
       "        vertical-align: top;\n",
       "    }\n",
       "\n",
       "    .dataframe thead th {\n",
       "        text-align: right;\n",
       "    }\n",
       "</style>\n",
       "<table border=\"1\" class=\"dataframe\">\n",
       "  <thead>\n",
       "    <tr style=\"text-align: right;\">\n",
       "      <th></th>\n",
       "      <th>jp_sales</th>\n",
       "      <th>total_sales</th>\n",
       "      <th>part</th>\n",
       "    </tr>\n",
       "    <tr>\n",
       "      <th>genre</th>\n",
       "      <th></th>\n",
       "      <th></th>\n",
       "      <th></th>\n",
       "    </tr>\n",
       "  </thead>\n",
       "  <tbody>\n",
       "    <tr>\n",
       "      <th>Role-Playing</th>\n",
       "      <td>31.16</td>\n",
       "      <td>101.44</td>\n",
       "      <td>30.72</td>\n",
       "    </tr>\n",
       "    <tr>\n",
       "      <th>Action</th>\n",
       "      <td>29.58</td>\n",
       "      <td>199.36</td>\n",
       "      <td>14.84</td>\n",
       "    </tr>\n",
       "    <tr>\n",
       "      <th>Fighting</th>\n",
       "      <td>6.37</td>\n",
       "      <td>28.22</td>\n",
       "      <td>22.57</td>\n",
       "    </tr>\n",
       "    <tr>\n",
       "      <th>Misc</th>\n",
       "      <td>5.61</td>\n",
       "      <td>37.55</td>\n",
       "      <td>14.94</td>\n",
       "    </tr>\n",
       "    <tr>\n",
       "      <th>Shooter</th>\n",
       "      <td>4.87</td>\n",
       "      <td>170.94</td>\n",
       "      <td>2.85</td>\n",
       "    </tr>\n",
       "  </tbody>\n",
       "</table>\n",
       "</div>"
      ],
      "text/plain": [
       "              jp_sales  total_sales   part\n",
       "genre                                     \n",
       "Role-Playing     31.16       101.44  30.72\n",
       "Action           29.58       199.36  14.84\n",
       "Fighting          6.37        28.22  22.57\n",
       "Misc              5.61        37.55  14.94\n",
       "Shooter           4.87       170.94   2.85"
      ]
     },
     "execution_count": 65,
     "metadata": {},
     "output_type": "execute_result"
    }
   ],
   "source": [
    "# добавим столбец, где посчитаем долю продаж, значения округлим до 2-х знаков\n",
    "top5_genre_jp['part'] = (top5_genre_jp['jp_sales'] / top5_genre_jp['total_sales'] *100).round(2) \n",
    "\n",
    "top5_genre_jp"
   ]
  },
  {
   "cell_type": "markdown",
   "metadata": {},
   "source": [
    "В Японии лидируют по полулярности следующие жанры: Role-Playing,Action,Fighting,Shooter,Misc,Shooter(по убыванию популярности соответственно).\n",
    "\n",
    "В отличии от Северной Америки и Европы здесь наиболее популярны игры с жанром Role-Playing(31,16 млн.копий), а потом Action (29,58 млн.копий). \n",
    "Игры с жанром Sports вообще отсутствуют в топ 5-ти популярных жанрах Японии. На 3-м месте по популярности идет жанр Fighting (6,37 млн.копий), он присутствует в топ 5-ке самых популярных жанров только в Японии.\t\n",
    "\n",
    "На 5-м месте в Японии находится жанр Shooter (4,87 млн.копий), в отличии от других регионов где данный жанр занимает лидирующие позиции по популярности. При этом данный жанр также занимает низкие позиции по доле продаж в общих продажах (всего 2,85%).\n",
    "\n",
    "Отличие в жанровых предпочтениях Японии объясняется достаточно строгим контролем за рейтингом игр и последующей их реализацией потребителям."
   ]
  },
  {
   "cell_type": "markdown",
   "metadata": {},
   "source": [
    "Для визуализации полученных выводов дополнительно сделаем диаграммы самых популярных платформ для каждого региона."
   ]
  },
  {
   "cell_type": "code",
   "execution_count": 66,
   "metadata": {},
   "outputs": [
    {
     "data": {
      "image/png": "[encoded data removed]",
      "text/plain": [
       "<Figure size 1080x360 with 3 Axes>"
      ]
     },
     "metadata": {},
     "output_type": "display_data"
    }
   ],
   "source": [
    "fig, axs = plt.subplots(1, 3, figsize=(15, 5));\n",
    "\n",
    "axs[0].pie(top5_platform_na['na_sales'], labels = top5_platform_na.index, autopct='%.0f%%'); \n",
    "# построим круговые диаграммы по регионам\n",
    "\n",
    "axs[1].pie(top5_platform_eu['eu_sales'], labels = top5_platform_eu.index, autopct='%.0f%%');\n",
    "\n",
    "axs[2].pie(top5_platform_jp['jp_sales'], labels = top5_platform_jp.index, autopct='%.0f%%');\n",
    "\n",
    "axs[0].set_title('Топ 5 платформ в Северной Америке') # подпишем диаграммы\n",
    "axs[1].set_title('Топ 5 платформ в Европе')\n",
    "axs[2].set_title('Топ 5 платформ в Японии')\n",
    "\n",
    "\n",
    "plt.show()"
   ]
  },
  {
   "cell_type": "markdown",
   "metadata": {},
   "source": [
    "Для визуализации полученных выводов дополнительно сделаем диаграммы самых популярных жанров для каждого региона."
   ]
  },
  {
   "cell_type": "code",
   "execution_count": 67,
   "metadata": {},
   "outputs": [
    {
     "data": {
      "image/png": "[encoded data removed]",
      "text/plain": [
       "<Figure size 1080x360 with 3 Axes>"
      ]
     },
     "metadata": {},
     "output_type": "display_data"
    }
   ],
   "source": [
    "fig, axs = plt.subplots(1, 3, figsize=(15, 5));\n",
    "\n",
    "axs[0].pie(top5_genre_na['na_sales'], labels = top5_genre_na.index, autopct='%.0f%%'); \n",
    "# построим круговые диаграммы по регионам\n",
    "\n",
    "axs[1].pie(top5_genre_eu['eu_sales'], labels = top5_genre_eu.index, autopct='%.0f%%');\n",
    "\n",
    "axs[2].pie(top5_genre_jp['jp_sales'], labels = top5_genre_jp.index, autopct='%.0f%%');\n",
    "\n",
    "axs[0].set_title('Топ 5 жанров в Северной Америке') # подпишем диаграммы\n",
    "axs[1].set_title('Топ 5 жанров в Европе')\n",
    "axs[2].set_title('Топ 5 жанров в Японии')\n",
    "\n",
    "plt.show()"
   ]
  },
  {
   "cell_type": "markdown",
   "metadata": {},
   "source": [
    "**Рассмотрим влияет ли рейтинг ESRB на продажи в отдельном регионе?**"
   ]
  },
  {
   "cell_type": "code",
   "execution_count": 68,
   "metadata": {},
   "outputs": [
    {
     "data": {
      "text/html": [
       "<div>\n",
       "<style scoped>\n",
       "    .dataframe tbody tr th:only-of-type {\n",
       "        vertical-align: middle;\n",
       "    }\n",
       "\n",
       "    .dataframe tbody tr th {\n",
       "        vertical-align: top;\n",
       "    }\n",
       "\n",
       "    .dataframe thead th {\n",
       "        text-align: right;\n",
       "    }\n",
       "</style>\n",
       "<table border=\"1\" class=\"dataframe\">\n",
       "  <thead>\n",
       "    <tr style=\"text-align: right;\">\n",
       "      <th></th>\n",
       "      <th>rating</th>\n",
       "      <th>eu_sales</th>\n",
       "      <th>jp_sales</th>\n",
       "      <th>na_sales</th>\n",
       "      <th>total_sales</th>\n",
       "    </tr>\n",
       "  </thead>\n",
       "  <tbody>\n",
       "    <tr>\n",
       "      <th>0</th>\n",
       "      <td>E</td>\n",
       "      <td>58.06</td>\n",
       "      <td>8.94</td>\n",
       "      <td>50.74</td>\n",
       "      <td>133.13</td>\n",
       "    </tr>\n",
       "    <tr>\n",
       "      <th>1</th>\n",
       "      <td>E10+</td>\n",
       "      <td>26.16</td>\n",
       "      <td>4.46</td>\n",
       "      <td>33.23</td>\n",
       "      <td>71.68</td>\n",
       "    </tr>\n",
       "    <tr>\n",
       "      <th>2</th>\n",
       "      <td>M</td>\n",
       "      <td>93.44</td>\n",
       "      <td>8.01</td>\n",
       "      <td>96.42</td>\n",
       "      <td>226.54</td>\n",
       "    </tr>\n",
       "    <tr>\n",
       "      <th>3</th>\n",
       "      <td>T</td>\n",
       "      <td>34.07</td>\n",
       "      <td>14.78</td>\n",
       "      <td>38.95</td>\n",
       "      <td>99.13</td>\n",
       "    </tr>\n",
       "    <tr>\n",
       "      <th>4</th>\n",
       "      <td>unknown</td>\n",
       "      <td>58.95</td>\n",
       "      <td>56.90</td>\n",
       "      <td>64.72</td>\n",
       "      <td>198.97</td>\n",
       "    </tr>\n",
       "  </tbody>\n",
       "</table>\n",
       "</div>"
      ],
      "text/plain": [
       "    rating  eu_sales  jp_sales  na_sales  total_sales\n",
       "0        E     58.06      8.94     50.74       133.13\n",
       "1     E10+     26.16      4.46     33.23        71.68\n",
       "2        M     93.44      8.01     96.42       226.54\n",
       "3        T     34.07     14.78     38.95        99.13\n",
       "4  unknown     58.95     56.90     64.72       198.97"
      ]
     },
     "execution_count": 68,
     "metadata": {},
     "output_type": "execute_result"
    }
   ],
   "source": [
    "# сделаем сводную таблицу для рейтинга \n",
    "rating_games = data.query('year_of_release >= 2014').pivot_table\\\n",
    "(index = 'rating', values = ['na_sales','eu_sales','jp_sales','total_sales'],aggfunc = 'sum').reset_index()\n",
    "\n",
    "rating_games"
   ]
  },
  {
   "cell_type": "markdown",
   "metadata": {},
   "source": [
    "Из таблицы мы видим следующее распределение продаж по регионам в зависимости от рейтинга:\n",
    "\n",
    "«E» («Everyone») — «Для всех»-лидером является европейский рынок, на последнем месте Япония.\n",
    "\n",
    "«E10+» («Everyone 10 and older») — «Для всех от 10 лет и старше»: здесь также лидирует Европа,за ней идет Северная Америка.\n",
    "\n",
    "«T» («Teen») — «Подросткам»: Европа на первом месте, затем Северная Америка.\n",
    "\n",
    "«M» («Mature») — «Для взрослых»:  Северная Америка на первом месте, за ей Европа и в самом конце Япония.\n",
    "\n",
    "\n",
    "Япония занимает последнее место в рейтингах, возможно из-за того, что там существует своя рейтинговая классификация, которая отличается от американской рейтинговой оценки ESRB. После присвоения рейтинга игра выходит на продажу только на японский рынок. Поэтому многие игры просто не попали не под какую классификацию в системе ESRB и имеют свой внутрияпонский рейтинг. Об этом говорит и значительное количество пропусков в данных по рейтингам.\n"
   ]
  },
  {
   "cell_type": "markdown",
   "metadata": {},
   "source": [
    "## Проверим гипотезы\n",
    "\n",
    "* Средние пользовательские рейтинги платформ Xbox One и PC одинаковые;\n",
    "\n",
    "* Средние пользовательские рейтинги жанров Action (англ. «действие», экшен-игры) и Sports (англ. «спортивные соревнования») разные."
   ]
  },
  {
   "cell_type": "markdown",
   "metadata": {},
   "source": [
    "**Для проверки статистической гипотезы: Средние пользовательские рейтинги платформ Xbox One и PC одинаковые**,\n",
    "сформулируем нулевую гипотезу: \n",
    "\n",
    "Ho = Средние пользовательские рейтинги платформ Xbox One и PC равны.\n",
    "\n",
    "Тогда Н1 (альтернативная гипотеза) = Средние пользовательские рейтинги платформ Xbox One и PC не равны.\n",
    "\n",
    "Критический уровень статистической значимости зададим значением 0.05. Это означает, что если мы будем проводить эксперимент 100 раз и проверять на основе имеющихся у нас данных интересующую нас нулевую гипотезу,то в 5 случаях из 100 мы отвергнем нулевую гипотезу, хотя она будет верной."
   ]
  },
  {
   "cell_type": "code",
   "execution_count": 69,
   "metadata": {},
   "outputs": [],
   "source": [
    "XOne = data[(data['year_of_release'] >= 2014) & (data['platform'] == \"XOne\") & (data['user_score']>0)]['user_score']\n",
    "PC = data[(data['year_of_release'] >= 2014) & (data['platform'] == \"PC\") & (data['user_score']>0)]['user_score']               "
   ]
  },
  {
   "cell_type": "code",
   "execution_count": 70,
   "metadata": {},
   "outputs": [
    {
     "name": "stdout",
     "output_type": "stream",
     "text": [
      "p-значение: 0.11601398086668832\n",
      "Не получилось отвергнуть нулевую гипотезу\n"
     ]
    }
   ],
   "source": [
    " # зададим критический уровень статистической значимости\n",
    "alpha = 0.05\n",
    "# проверим гипотезу о равенстве средних двух независимых совокупностей, используя специальный метод scipy.stats.ttest_ind ()\n",
    "results = st.ttest_ind(XOne, PC, equal_var=False) \n",
    "# выведем на экран получившееся p-значение\n",
    "print('p-значение:',results.pvalue) \n",
    "#сравним получившееся p-значение с заданным уровнем статистической значимости \n",
    "if results.pvalue < alpha: \n",
    "    print(\"Отвергаем нулевую гипотезу\")\n",
    "else:\n",
    "    print(\"Не получилось отвергнуть нулевую гипотезу\")\n"
   ]
  },
  {
   "cell_type": "markdown",
   "metadata": {},
   "source": [
    "На имеющихся данных, на уровне значимости 5% нет оснований отвергнуть нулевую гипотезу в пользу альтернативы.\n",
    "Соответственно, можем сделать вывод о том, что с высокой степенью вероятности пользовательские средние рейтинги платформ Xbox One и PC будут одинаковыми."
   ]
  },
  {
   "cell_type": "markdown",
   "metadata": {},
   "source": [
    "**Для проверки статистической гипотезы: Средние пользовательские рейтинги жанров Action и Sports разные**,\n",
    "сформулируем нулевую гипотезу:\n",
    "\n",
    " Ho = Средние пользовательские рейтинги жанров Action и Sports равны.\n",
    " \n",
    " Тогда Н1 (альтернативная гипотеза) = Средние пользовательские рейтинги жанров Action и Sports равны не равны.\n",
    " \n",
    " Критический уровень статистической значимости зададим значением 0.05."
   ]
  },
  {
   "cell_type": "code",
   "execution_count": 71,
   "metadata": {},
   "outputs": [],
   "source": [
    "# сделаем выборку для жанра Action\n",
    "action = data[(data['year_of_release'] >= 2014) & (data['genre'] == \"Action\") & (data['user_score']>0)]['user_score'] \n",
    "# сделаем выборку для жанра Sports\n",
    "sports = data[(data['year_of_release'] >= 2014) & (data['genre'] == \"Sports\") & (data['user_score']>0)]['user_score']"
   ]
  },
  {
   "cell_type": "code",
   "execution_count": 72,
   "metadata": {},
   "outputs": [
    {
     "name": "stdout",
     "output_type": "stream",
     "text": [
      "p-значение: 1.1825550382644557e-14\n",
      "Отвергаем нулевую гипотезу\n"
     ]
    }
   ],
   "source": [
    "# зададим критический уровень статистической значимости\n",
    "alpha = 0.05 \n",
    "# проверим гипотезу о равенстве средних двух независимых совокупностей, используя специальный метод scipy.stats.ttest_ind ()\n",
    "results = st.ttest_ind(action, sports, equal_var=False) \n",
    "\n",
    " # выведем на экран получившееся p-значение\n",
    "print('p-значение:',results.pvalue)\n",
    " #сравним получившееся p-значение с заданным уровнем статистической значимости \n",
    "if results.pvalue < alpha:\n",
    "    print(\"Отвергаем нулевую гипотезу\")\n",
    "else:\n",
    "    print(\"Не получилось отвергнуть нулевую гипотезу\")"
   ]
  },
  {
   "cell_type": "markdown",
   "metadata": {},
   "source": [
    "На имеющихся данных, на уровне значимости 5% (уровне доверия 95%) есть основания отвергнуть нулевую гипотезу в пользу альтернативы.\n",
    "Соответственно, можем сделать вывод о том, что с низкой степенью вероятности пользовательские средние рейтинги жанров Action и Sports  будут одинаковыми."
   ]
  },
  {
   "cell_type": "markdown",
   "metadata": {},
   "source": [
    "## Общий вывод"
   ]
  },
  {
   "cell_type": "markdown",
   "metadata": {},
   "source": [
    "**Общий вывод:**\n",
    "\n",
    "Мы провели исследование исторических данных  из открытых источников о продажах игр, оценки пользователей и экспертов, жанры и платформы (например, Xbox или PlayStation).\n",
    "\n",
    "**Цель анализа:** выявление определяющих успешность игры закономерностей. Это позволит сделать ставку на потенциально популярный продукт и спланировать рекламные кампании на 2017 г.\n",
    "\n",
    "В ходе исследования был проведен обзор первоначальных данных, их предобработка, обнаружены и исправлены пропуски и нарушения стиля в заголовках столбцов, типы данных. Дополнительно мы добавили несколько столбцов для полноценного анализа. Для анализа данных были построены отдельные гистограммы, сделаны выводы. Также делали срезы данных, строили сводные таблицы и считали коэффциенты корреляции. В анализе использовались диаграммы рассеяния и столбчатые графики.\n",
    "Был составлен портрет пользователя для каждого региона и проверены 2 гипотезы.\n",
    "\n",
    "В процессе исследования нами был определен актуальный период с 2014 г. по 2016 г. Данный промежуток является наиболее релевантным,т.к. после 2016 г. возможен очередной подьем и это позволит нам спланировать рекламные кампании.\n",
    "Дальнейший анализ основывался исходя из данных, полученнных в актуальном периоде.\n",
    "\n",
    "**Проведен исследовательский анализ данных, в ходе которого установили, что на успешность игры влияют следующие закономерности:**\n",
    "Рассмотрев динамику продаж по регионам, можно сделать вывод о том, что за эти 3 года потенциально прибыльными были следующие платформы: PS4,XOne,3DS.\n",
    "Но при этом в целом наблюдается тенденция снижения продаж для большинства платформ за последние годы,в этой связи мы может предположить, что к 2017 г. могут появиться новые платформы.\n",
    "\n",
    "Рассмотрев влияние на продажи отзывов пользователей и критиков, мы установили, что линейная связь отсутствует, следовательно рассматривать отзывы критиков и пользователей представляется не актуальным.\n",
    "\n",
    "Наиболее потенциально популярный продукт можно выделить исходя из жанра игры. Так проведя анализ данных мы получили информацию о том, что самыми прибыльными оказались жанры:Shooter и Sports. \n",
    "Также мы увидели, что есть игры, которые приносят самую большую долю прибыли в общих продажах. Стоит сосредоточиться на выявлении таких игр и ждать их следующих релизов.\n",
    "Самыми низкоприбыльными являются игры с жанрами:Puzzle,Strategy,Racing. Следует исключить игры с такими жанрами в планируемых продажах.\n",
    "\n",
    "**Рассматривая потребителей по регионам** следует обращать внимание на следующие закономерности:\n",
    "\n",
    "Для Северной Америки самой популярной явлется платформа PS4, а популярными жанрами игр являются шутеры и экшн.\n",
    "\n",
    "Для Европы самыми популярными являются платформы: PS4,XOne и также экшн и шутеры лидируют по популярности.\n",
    "\n",
    "Японский рынок выделяется среди других регионов по популярности платформ. Для Японии самыми популярными являются платформы: 3DS.При этом минимальная доля продаж в общих продажах занимает платформа PS4(5,21%), продажи в данном регионе составляют в среднем  15.02 млн.копий).В Японии лидируют по полулярности следующие жанры: Role-Playing,Action. Игры с жанром Sports вообще отсутствуют в топ 5-ти популярных жанрах Японии. Отличие в жанровых предпочтениях Японии объясняется достаточно строгим контролем за рейтингом игр и последующей их реализацией потребителям. Поэтому в целом, мы бы не рекомендовали делать акцент на японский рынок, т.к. там своя рейтинговая классификация и могут возникнуть длительные задержки в продвижении игр на рынок.\n",
    "\n",
    "В целом представленных данных вполне достаточно, чтобы понять общую ситуацию на мировом рынке продаж компьютерных игр. \n",
    "\n",
    "**Рекомендация:** для планирования прибыльных рекламных компаний на 2017 г. требуется запросить более полные данные за 2016 г. (по регионам), без пропусков и ошибок и провести повторную проверку влияния различных факторов и параметров на популярность игр среди пользователей.\n",
    "\n"
   ]
  },
  {
   "cell_type": "code",
   "execution_count": null,
   "metadata": {},
   "outputs": [],
   "source": []
  }
 ],
 "metadata": {
  "ExecuteTimeLog": [
   {
    "duration": 1340,
    "start_time": "2022-11-28T09:58:43.368Z"
   },
   {
    "duration": 216,
    "start_time": "2022-11-28T09:58:44.710Z"
   },
   {
    "duration": 13,
    "start_time": "2022-11-28T09:59:41.819Z"
   },
   {
    "duration": 5,
    "start_time": "2022-11-28T10:14:15.025Z"
   },
   {
    "duration": 4,
    "start_time": "2022-11-28T10:14:16.547Z"
   },
   {
    "duration": 4,
    "start_time": "2022-11-28T10:15:10.769Z"
   },
   {
    "duration": 21,
    "start_time": "2022-11-28T10:16:17.141Z"
   },
   {
    "duration": 4,
    "start_time": "2022-11-28T10:16:34.011Z"
   },
   {
    "duration": 4,
    "start_time": "2022-11-28T10:16:35.280Z"
   },
   {
    "duration": 17,
    "start_time": "2022-11-28T10:17:27.944Z"
   },
   {
    "duration": 4,
    "start_time": "2022-11-28T10:35:23.191Z"
   },
   {
    "duration": 7,
    "start_time": "2022-11-28T10:35:23.678Z"
   },
   {
    "duration": 5,
    "start_time": "2022-11-28T10:35:24.607Z"
   },
   {
    "duration": 7,
    "start_time": "2022-11-28T10:35:55.748Z"
   },
   {
    "duration": 3,
    "start_time": "2022-11-28T10:42:13.918Z"
   },
   {
    "duration": 683,
    "start_time": "2022-11-28T10:42:15.481Z"
   },
   {
    "duration": 715,
    "start_time": "2022-11-28T10:42:42.928Z"
   },
   {
    "duration": 15,
    "start_time": "2022-11-28T10:42:47.103Z"
   },
   {
    "duration": 2,
    "start_time": "2022-11-28T10:42:50.755Z"
   },
   {
    "duration": 609,
    "start_time": "2022-11-28T10:42:51.505Z"
   },
   {
    "duration": 1146,
    "start_time": "2022-11-28T10:43:32.825Z"
   },
   {
    "duration": 64,
    "start_time": "2022-11-28T10:43:33.973Z"
   },
   {
    "duration": 22,
    "start_time": "2022-11-28T10:43:34.038Z"
   },
   {
    "duration": 20,
    "start_time": "2022-11-28T10:43:34.062Z"
   },
   {
    "duration": 6,
    "start_time": "2022-11-28T10:43:34.084Z"
   },
   {
    "duration": 19,
    "start_time": "2022-11-28T10:43:34.092Z"
   },
   {
    "duration": 3,
    "start_time": "2022-11-28T10:43:34.112Z"
   },
   {
    "duration": 18,
    "start_time": "2022-11-28T10:43:34.117Z"
   },
   {
    "duration": 3,
    "start_time": "2022-11-28T10:43:34.137Z"
   },
   {
    "duration": 11,
    "start_time": "2022-11-28T10:43:34.142Z"
   },
   {
    "duration": 6,
    "start_time": "2022-11-28T10:43:46.473Z"
   },
   {
    "duration": 6,
    "start_time": "2022-11-28T10:52:38.303Z"
   },
   {
    "duration": 3,
    "start_time": "2022-11-28T10:57:50.701Z"
   },
   {
    "duration": 3,
    "start_time": "2022-11-28T10:57:51.795Z"
   },
   {
    "duration": 14,
    "start_time": "2022-11-28T10:58:01.356Z"
   },
   {
    "duration": 3,
    "start_time": "2022-11-28T10:58:05.358Z"
   },
   {
    "duration": 46,
    "start_time": "2022-11-28T10:59:12.023Z"
   },
   {
    "duration": 400,
    "start_time": "2022-11-28T10:59:12.744Z"
   },
   {
    "duration": 1152,
    "start_time": "2022-11-28T10:59:46.769Z"
   },
   {
    "duration": 52,
    "start_time": "2022-11-28T10:59:47.923Z"
   },
   {
    "duration": 20,
    "start_time": "2022-11-28T10:59:47.977Z"
   },
   {
    "duration": 5,
    "start_time": "2022-11-28T10:59:47.999Z"
   },
   {
    "duration": 6,
    "start_time": "2022-11-28T10:59:48.006Z"
   },
   {
    "duration": 21,
    "start_time": "2022-11-28T10:59:48.014Z"
   },
   {
    "duration": 17,
    "start_time": "2022-11-28T10:59:48.037Z"
   },
   {
    "duration": 10,
    "start_time": "2022-11-28T10:59:48.056Z"
   },
   {
    "duration": 6,
    "start_time": "2022-11-28T10:59:48.068Z"
   },
   {
    "duration": 11,
    "start_time": "2022-11-28T10:59:48.077Z"
   },
   {
    "duration": 5,
    "start_time": "2022-11-28T11:04:09.885Z"
   },
   {
    "duration": 755,
    "start_time": "2022-11-28T11:24:56.245Z"
   },
   {
    "duration": 9,
    "start_time": "2022-11-28T11:26:45.506Z"
   },
   {
    "duration": 4,
    "start_time": "2022-11-28T11:58:44.542Z"
   },
   {
    "duration": 11,
    "start_time": "2022-11-28T11:59:03.923Z"
   },
   {
    "duration": 5,
    "start_time": "2022-11-28T11:59:35.605Z"
   },
   {
    "duration": 19,
    "start_time": "2022-11-28T12:06:06.429Z"
   },
   {
    "duration": 32,
    "start_time": "2022-11-28T12:06:25.476Z"
   },
   {
    "duration": 1071,
    "start_time": "2022-11-28T12:06:39.728Z"
   },
   {
    "duration": 53,
    "start_time": "2022-11-28T12:06:40.801Z"
   },
   {
    "duration": 28,
    "start_time": "2022-11-28T12:06:40.856Z"
   },
   {
    "duration": 3,
    "start_time": "2022-11-28T12:06:40.887Z"
   },
   {
    "duration": 6,
    "start_time": "2022-11-28T12:06:40.891Z"
   },
   {
    "duration": 16,
    "start_time": "2022-11-28T12:06:40.899Z"
   },
   {
    "duration": 3,
    "start_time": "2022-11-28T12:06:40.917Z"
   },
   {
    "duration": 38,
    "start_time": "2022-11-28T12:06:40.922Z"
   },
   {
    "duration": 5,
    "start_time": "2022-11-28T12:06:40.962Z"
   },
   {
    "duration": 18,
    "start_time": "2022-11-28T12:06:40.970Z"
   },
   {
    "duration": 8,
    "start_time": "2022-11-28T12:06:40.990Z"
   },
   {
    "duration": 5,
    "start_time": "2022-11-28T12:07:39.017Z"
   },
   {
    "duration": 1103,
    "start_time": "2022-11-28T12:07:49.222Z"
   },
   {
    "duration": 52,
    "start_time": "2022-11-28T12:07:50.327Z"
   },
   {
    "duration": 29,
    "start_time": "2022-11-28T12:07:50.381Z"
   },
   {
    "duration": 3,
    "start_time": "2022-11-28T12:07:50.412Z"
   },
   {
    "duration": 8,
    "start_time": "2022-11-28T12:07:50.417Z"
   },
   {
    "duration": 35,
    "start_time": "2022-11-28T12:07:50.426Z"
   },
   {
    "duration": 4,
    "start_time": "2022-11-28T12:07:50.463Z"
   },
   {
    "duration": 10,
    "start_time": "2022-11-28T12:07:50.468Z"
   },
   {
    "duration": 5,
    "start_time": "2022-11-28T12:07:50.480Z"
   },
   {
    "duration": 9,
    "start_time": "2022-11-28T12:07:50.487Z"
   },
   {
    "duration": 10,
    "start_time": "2022-11-28T12:07:50.498Z"
   },
   {
    "duration": 4,
    "start_time": "2022-11-28T12:25:04.290Z"
   },
   {
    "duration": 21,
    "start_time": "2022-11-28T12:25:47.034Z"
   },
   {
    "duration": 7,
    "start_time": "2022-11-28T12:36:27.917Z"
   },
   {
    "duration": 5,
    "start_time": "2022-11-28T12:37:30.013Z"
   },
   {
    "duration": 5,
    "start_time": "2022-11-28T12:52:25.191Z"
   },
   {
    "duration": 9,
    "start_time": "2022-11-28T12:52:57.188Z"
   },
   {
    "duration": 6,
    "start_time": "2022-11-28T12:53:50.778Z"
   },
   {
    "duration": 11,
    "start_time": "2022-11-28T12:53:58.692Z"
   },
   {
    "duration": 9,
    "start_time": "2022-11-28T12:56:44.002Z"
   },
   {
    "duration": 1142,
    "start_time": "2022-11-28T12:57:16.127Z"
   },
   {
    "duration": 53,
    "start_time": "2022-11-28T12:57:17.271Z"
   },
   {
    "duration": 29,
    "start_time": "2022-11-28T12:57:17.325Z"
   },
   {
    "duration": 3,
    "start_time": "2022-11-28T12:57:17.356Z"
   },
   {
    "duration": 10,
    "start_time": "2022-11-28T12:57:17.361Z"
   },
   {
    "duration": 24,
    "start_time": "2022-11-28T12:57:17.372Z"
   },
   {
    "duration": 3,
    "start_time": "2022-11-28T12:57:17.398Z"
   },
   {
    "duration": 11,
    "start_time": "2022-11-28T12:57:17.403Z"
   },
   {
    "duration": 5,
    "start_time": "2022-11-28T12:57:17.416Z"
   },
   {
    "duration": 7,
    "start_time": "2022-11-28T12:57:17.422Z"
   },
   {
    "duration": 32,
    "start_time": "2022-11-28T12:57:17.431Z"
   },
   {
    "duration": 6,
    "start_time": "2022-11-28T12:57:17.465Z"
   },
   {
    "duration": 8,
    "start_time": "2022-11-28T12:57:17.473Z"
   },
   {
    "duration": 11,
    "start_time": "2022-11-28T12:57:17.483Z"
   },
   {
    "duration": 10,
    "start_time": "2022-11-28T12:57:17.495Z"
   },
   {
    "duration": 7,
    "start_time": "2022-11-28T13:00:42.631Z"
   },
   {
    "duration": 11,
    "start_time": "2022-11-28T13:00:54.410Z"
   },
   {
    "duration": 5,
    "start_time": "2022-11-28T13:09:15.211Z"
   },
   {
    "duration": 5,
    "start_time": "2022-11-28T13:13:54.796Z"
   },
   {
    "duration": 5,
    "start_time": "2022-11-28T13:14:00.087Z"
   },
   {
    "duration": 7,
    "start_time": "2022-11-28T13:14:23.213Z"
   },
   {
    "duration": 82,
    "start_time": "2022-11-28T13:18:42.203Z"
   },
   {
    "duration": 5,
    "start_time": "2022-11-28T13:29:48.879Z"
   },
   {
    "duration": 5,
    "start_time": "2022-11-28T13:30:02.750Z"
   },
   {
    "duration": 7,
    "start_time": "2022-11-28T13:32:04.359Z"
   },
   {
    "duration": 5,
    "start_time": "2022-11-28T13:32:04.998Z"
   },
   {
    "duration": 4,
    "start_time": "2022-11-28T13:33:58.359Z"
   },
   {
    "duration": 6,
    "start_time": "2022-11-28T13:33:58.881Z"
   },
   {
    "duration": 4,
    "start_time": "2022-11-28T13:35:40.770Z"
   },
   {
    "duration": 5,
    "start_time": "2022-11-28T13:35:41.250Z"
   },
   {
    "duration": 146,
    "start_time": "2022-11-28T13:37:55.537Z"
   },
   {
    "duration": 137,
    "start_time": "2022-11-28T13:38:10.675Z"
   },
   {
    "duration": 162,
    "start_time": "2022-11-28T13:38:21.684Z"
   },
   {
    "duration": 337,
    "start_time": "2022-11-28T13:38:28.092Z"
   },
   {
    "duration": 116,
    "start_time": "2022-11-28T13:38:36.491Z"
   },
   {
    "duration": 8,
    "start_time": "2022-11-28T13:38:56.167Z"
   },
   {
    "duration": 5,
    "start_time": "2022-11-28T13:45:25.586Z"
   },
   {
    "duration": 11,
    "start_time": "2022-11-28T13:45:26.375Z"
   },
   {
    "duration": 5,
    "start_time": "2022-11-28T13:45:33.344Z"
   },
   {
    "duration": 11,
    "start_time": "2022-11-28T13:45:33.820Z"
   },
   {
    "duration": 18,
    "start_time": "2022-11-28T13:45:52.471Z"
   },
   {
    "duration": 15,
    "start_time": "2022-11-28T13:46:28.028Z"
   },
   {
    "duration": 42,
    "start_time": "2022-11-29T05:15:12.411Z"
   },
   {
    "duration": 1158,
    "start_time": "2022-11-29T05:15:19.039Z"
   },
   {
    "duration": 92,
    "start_time": "2022-11-29T05:15:20.199Z"
   },
   {
    "duration": 26,
    "start_time": "2022-11-29T05:15:20.293Z"
   },
   {
    "duration": 3,
    "start_time": "2022-11-29T05:15:20.320Z"
   },
   {
    "duration": 8,
    "start_time": "2022-11-29T05:15:20.324Z"
   },
   {
    "duration": 23,
    "start_time": "2022-11-29T05:15:20.333Z"
   },
   {
    "duration": 3,
    "start_time": "2022-11-29T05:15:20.357Z"
   },
   {
    "duration": 10,
    "start_time": "2022-11-29T05:15:20.361Z"
   },
   {
    "duration": 8,
    "start_time": "2022-11-29T05:15:20.373Z"
   },
   {
    "duration": 17,
    "start_time": "2022-11-29T05:15:20.383Z"
   },
   {
    "duration": 12,
    "start_time": "2022-11-29T05:15:20.402Z"
   },
   {
    "duration": 12,
    "start_time": "2022-11-29T05:15:20.416Z"
   },
   {
    "duration": 13,
    "start_time": "2022-11-29T05:15:20.429Z"
   },
   {
    "duration": 18,
    "start_time": "2022-11-29T05:15:20.443Z"
   },
   {
    "duration": 4,
    "start_time": "2022-11-29T05:15:20.462Z"
   },
   {
    "duration": 14,
    "start_time": "2022-11-29T05:15:20.468Z"
   },
   {
    "duration": 15,
    "start_time": "2022-11-29T05:16:32.290Z"
   },
   {
    "duration": 32,
    "start_time": "2022-11-29T05:37:24.531Z"
   },
   {
    "duration": 4,
    "start_time": "2022-11-29T06:04:44.916Z"
   },
   {
    "duration": 14,
    "start_time": "2022-11-29T06:04:50.722Z"
   },
   {
    "duration": 15,
    "start_time": "2022-11-29T06:04:56.315Z"
   },
   {
    "duration": 8,
    "start_time": "2022-11-29T06:17:46.619Z"
   },
   {
    "duration": 58,
    "start_time": "2022-11-29T06:24:22.280Z"
   },
   {
    "duration": 9,
    "start_time": "2022-11-29T06:24:28.749Z"
   },
   {
    "duration": 11,
    "start_time": "2022-11-29T06:24:34.711Z"
   },
   {
    "duration": 9,
    "start_time": "2022-11-29T06:24:51.391Z"
   },
   {
    "duration": 7,
    "start_time": "2022-11-29T06:27:43.514Z"
   },
   {
    "duration": 53,
    "start_time": "2022-11-29T06:42:15.655Z"
   },
   {
    "duration": 13,
    "start_time": "2022-11-29T06:42:22.155Z"
   },
   {
    "duration": 8,
    "start_time": "2022-11-29T06:42:54.188Z"
   },
   {
    "duration": 9,
    "start_time": "2022-11-29T06:43:59.973Z"
   },
   {
    "duration": 10,
    "start_time": "2022-11-29T06:44:11.044Z"
   },
   {
    "duration": 9,
    "start_time": "2022-11-29T06:44:31.008Z"
   },
   {
    "duration": 13,
    "start_time": "2022-11-29T06:44:34.583Z"
   },
   {
    "duration": 13,
    "start_time": "2022-11-29T06:45:10.037Z"
   },
   {
    "duration": 11,
    "start_time": "2022-11-29T06:45:37.923Z"
   },
   {
    "duration": 8,
    "start_time": "2022-11-29T06:45:40.543Z"
   },
   {
    "duration": 10,
    "start_time": "2022-11-29T06:45:46.740Z"
   },
   {
    "duration": 9,
    "start_time": "2022-11-29T06:46:16.026Z"
   },
   {
    "duration": 8,
    "start_time": "2022-11-29T06:46:29.283Z"
   },
   {
    "duration": 3,
    "start_time": "2022-11-29T06:47:02.495Z"
   },
   {
    "duration": 62,
    "start_time": "2022-11-29T06:47:02.500Z"
   },
   {
    "duration": 24,
    "start_time": "2022-11-29T06:47:02.563Z"
   },
   {
    "duration": 12,
    "start_time": "2022-11-29T06:47:02.588Z"
   },
   {
    "duration": 7,
    "start_time": "2022-11-29T06:47:02.602Z"
   },
   {
    "duration": 18,
    "start_time": "2022-11-29T06:47:02.611Z"
   },
   {
    "duration": 3,
    "start_time": "2022-11-29T06:47:02.631Z"
   },
   {
    "duration": 14,
    "start_time": "2022-11-29T06:47:02.636Z"
   },
   {
    "duration": 5,
    "start_time": "2022-11-29T06:47:02.652Z"
   },
   {
    "duration": 9,
    "start_time": "2022-11-29T06:47:02.658Z"
   },
   {
    "duration": 30,
    "start_time": "2022-11-29T06:47:02.669Z"
   },
   {
    "duration": 7,
    "start_time": "2022-11-29T06:47:02.701Z"
   },
   {
    "duration": 20,
    "start_time": "2022-11-29T06:47:02.710Z"
   },
   {
    "duration": 31,
    "start_time": "2022-11-29T06:47:02.731Z"
   },
   {
    "duration": 5,
    "start_time": "2022-11-29T06:47:02.764Z"
   },
   {
    "duration": 27,
    "start_time": "2022-11-29T06:47:02.771Z"
   },
   {
    "duration": 17,
    "start_time": "2022-11-29T06:47:02.800Z"
   },
   {
    "duration": 8,
    "start_time": "2022-11-29T06:47:02.819Z"
   },
   {
    "duration": 10,
    "start_time": "2022-11-29T06:47:16.174Z"
   },
   {
    "duration": 341,
    "start_time": "2022-11-29T06:47:56.103Z"
   },
   {
    "duration": 9,
    "start_time": "2022-11-29T06:50:46.180Z"
   },
   {
    "duration": 18,
    "start_time": "2022-11-29T06:51:33.681Z"
   },
   {
    "duration": 12,
    "start_time": "2022-11-29T06:52:03.512Z"
   },
   {
    "duration": 14,
    "start_time": "2022-11-29T06:52:42.736Z"
   },
   {
    "duration": 15,
    "start_time": "2022-11-29T06:52:51.233Z"
   },
   {
    "duration": 17,
    "start_time": "2022-11-29T06:53:02.901Z"
   },
   {
    "duration": 11,
    "start_time": "2022-11-29T06:53:39.049Z"
   },
   {
    "duration": 11,
    "start_time": "2022-11-29T06:54:02.842Z"
   },
   {
    "duration": 11,
    "start_time": "2022-11-29T06:54:22.523Z"
   },
   {
    "duration": 13,
    "start_time": "2022-11-29T06:54:33.074Z"
   },
   {
    "duration": 13,
    "start_time": "2022-11-29T06:55:10.845Z"
   },
   {
    "duration": 294,
    "start_time": "2022-11-29T06:55:37.083Z"
   },
   {
    "duration": 317,
    "start_time": "2022-11-29T06:57:20.975Z"
   },
   {
    "duration": 45,
    "start_time": "2022-11-29T06:58:10.393Z"
   },
   {
    "duration": 283,
    "start_time": "2022-11-29T06:58:36.090Z"
   },
   {
    "duration": 5,
    "start_time": "2022-11-29T06:59:57.093Z"
   },
   {
    "duration": 436,
    "start_time": "2022-11-29T07:00:26.998Z"
   },
   {
    "duration": 15,
    "start_time": "2022-11-29T07:40:43.992Z"
   },
   {
    "duration": 15,
    "start_time": "2022-11-29T07:41:01.345Z"
   },
   {
    "duration": 19,
    "start_time": "2022-11-29T07:42:47.720Z"
   },
   {
    "duration": 20,
    "start_time": "2022-11-29T07:43:00.915Z"
   },
   {
    "duration": 15,
    "start_time": "2022-11-29T07:43:56.624Z"
   },
   {
    "duration": 14,
    "start_time": "2022-11-29T07:44:13.587Z"
   },
   {
    "duration": 44,
    "start_time": "2022-11-29T07:44:30.976Z"
   },
   {
    "duration": 14,
    "start_time": "2022-11-29T07:44:36.016Z"
   },
   {
    "duration": 22,
    "start_time": "2022-11-29T07:51:35.014Z"
   },
   {
    "duration": 13,
    "start_time": "2022-11-29T07:51:56.236Z"
   },
   {
    "duration": 23,
    "start_time": "2022-11-29T07:52:15.423Z"
   },
   {
    "duration": 49,
    "start_time": "2022-11-29T07:54:13.597Z"
   },
   {
    "duration": 298,
    "start_time": "2022-11-29T07:55:03.840Z"
   },
   {
    "duration": 48,
    "start_time": "2022-11-29T07:55:29.751Z"
   },
   {
    "duration": 17,
    "start_time": "2022-11-29T07:55:48.778Z"
   },
   {
    "duration": 8,
    "start_time": "2022-11-29T07:56:30.656Z"
   },
   {
    "duration": 15,
    "start_time": "2022-11-29T07:56:36.952Z"
   },
   {
    "duration": 19,
    "start_time": "2022-11-29T07:57:02.976Z"
   },
   {
    "duration": 15,
    "start_time": "2022-11-29T10:22:31.240Z"
   },
   {
    "duration": 15,
    "start_time": "2022-11-29T10:22:55.252Z"
   },
   {
    "duration": 288,
    "start_time": "2022-11-29T10:30:24.929Z"
   },
   {
    "duration": 45,
    "start_time": "2022-11-29T10:39:50.640Z"
   },
   {
    "duration": 49,
    "start_time": "2022-11-29T10:39:59.708Z"
   },
   {
    "duration": 52,
    "start_time": "2022-11-29T10:40:08.621Z"
   },
   {
    "duration": 9,
    "start_time": "2022-11-29T10:40:19.297Z"
   },
   {
    "duration": 9,
    "start_time": "2022-11-29T10:40:40.902Z"
   },
   {
    "duration": 30,
    "start_time": "2022-11-29T10:41:15.147Z"
   },
   {
    "duration": 44,
    "start_time": "2022-11-29T10:41:35.936Z"
   },
   {
    "duration": 16,
    "start_time": "2022-11-29T11:09:14.541Z"
   },
   {
    "duration": 3743,
    "start_time": "2022-11-29T11:10:49.359Z"
   },
   {
    "duration": 37,
    "start_time": "2022-11-29T11:10:53.104Z"
   },
   {
    "duration": 17,
    "start_time": "2022-11-29T11:19:42.342Z"
   },
   {
    "duration": 20,
    "start_time": "2022-11-29T11:39:46.955Z"
   },
   {
    "duration": 4,
    "start_time": "2022-11-29T11:40:40.004Z"
   },
   {
    "duration": 20,
    "start_time": "2022-11-29T11:40:46.020Z"
   },
   {
    "duration": 19,
    "start_time": "2022-11-29T11:40:58.314Z"
   },
   {
    "duration": 17,
    "start_time": "2022-11-29T11:41:43.293Z"
   },
   {
    "duration": 17,
    "start_time": "2022-11-29T11:42:25.053Z"
   },
   {
    "duration": 13,
    "start_time": "2022-11-29T11:42:45.724Z"
   },
   {
    "duration": 14,
    "start_time": "2022-11-29T11:51:11.737Z"
   },
   {
    "duration": 8,
    "start_time": "2022-11-29T11:59:39.668Z"
   },
   {
    "duration": 9,
    "start_time": "2022-11-29T12:00:14.838Z"
   },
   {
    "duration": 19,
    "start_time": "2022-11-29T12:00:58.354Z"
   },
   {
    "duration": 19,
    "start_time": "2022-11-29T12:01:26.478Z"
   },
   {
    "duration": 21,
    "start_time": "2022-11-29T12:03:02.807Z"
   },
   {
    "duration": 18,
    "start_time": "2022-11-29T12:03:05.065Z"
   },
   {
    "duration": 18,
    "start_time": "2022-11-29T12:03:23.327Z"
   },
   {
    "duration": 14,
    "start_time": "2022-11-29T12:03:26.891Z"
   },
   {
    "duration": 13,
    "start_time": "2022-11-29T12:03:29.768Z"
   },
   {
    "duration": 26,
    "start_time": "2022-11-29T12:03:32.704Z"
   },
   {
    "duration": 19,
    "start_time": "2022-11-29T12:04:30.607Z"
   },
   {
    "duration": 16,
    "start_time": "2022-11-29T12:04:37.683Z"
   },
   {
    "duration": 121,
    "start_time": "2022-11-29T12:11:02.113Z"
   },
   {
    "duration": 163,
    "start_time": "2022-11-29T12:11:51.509Z"
   },
   {
    "duration": 51,
    "start_time": "2022-11-29T12:11:58.606Z"
   },
   {
    "duration": 49,
    "start_time": "2022-11-29T12:12:05.497Z"
   },
   {
    "duration": 51,
    "start_time": "2022-11-29T12:12:12.619Z"
   },
   {
    "duration": 123,
    "start_time": "2022-11-29T12:12:21.682Z"
   },
   {
    "duration": 113,
    "start_time": "2022-11-29T12:12:29.795Z"
   },
   {
    "duration": 14,
    "start_time": "2022-11-29T12:19:12.850Z"
   },
   {
    "duration": 124,
    "start_time": "2022-11-29T12:20:01.738Z"
   },
   {
    "duration": 242,
    "start_time": "2022-11-29T12:21:12.712Z"
   },
   {
    "duration": 9,
    "start_time": "2022-11-29T12:27:10.949Z"
   },
   {
    "duration": 124,
    "start_time": "2022-11-29T12:34:36.528Z"
   },
   {
    "duration": 131,
    "start_time": "2022-11-29T12:34:53.227Z"
   },
   {
    "duration": 137,
    "start_time": "2022-11-29T12:35:22.187Z"
   },
   {
    "duration": 224,
    "start_time": "2022-11-29T12:35:55.310Z"
   },
   {
    "duration": 91,
    "start_time": "2022-11-29T12:39:41.982Z"
   },
   {
    "duration": 319,
    "start_time": "2022-11-29T12:40:07.295Z"
   },
   {
    "duration": 66,
    "start_time": "2022-11-29T12:56:23.401Z"
   },
   {
    "duration": 14,
    "start_time": "2022-11-29T12:56:35.863Z"
   },
   {
    "duration": 13,
    "start_time": "2022-11-29T12:57:11.654Z"
   },
   {
    "duration": 12,
    "start_time": "2022-11-29T12:57:36.102Z"
   },
   {
    "duration": 62,
    "start_time": "2022-11-29T12:59:14.606Z"
   },
   {
    "duration": 47,
    "start_time": "2022-11-29T12:59:20.145Z"
   },
   {
    "duration": 14,
    "start_time": "2022-11-29T12:59:30.415Z"
   },
   {
    "duration": 28,
    "start_time": "2022-11-29T12:59:55.468Z"
   },
   {
    "duration": 1430,
    "start_time": "2022-11-29T13:00:54.184Z"
   },
   {
    "duration": 816,
    "start_time": "2022-11-29T13:00:59.649Z"
   },
   {
    "duration": 105,
    "start_time": "2022-11-29T13:08:43.010Z"
   },
   {
    "duration": 109,
    "start_time": "2022-11-29T13:09:49.430Z"
   },
   {
    "duration": 3395,
    "start_time": "2022-11-29T13:10:09.150Z"
   },
   {
    "duration": 2613,
    "start_time": "2022-11-29T13:13:31.407Z"
   },
   {
    "duration": 11,
    "start_time": "2022-11-29T13:20:59.340Z"
   },
   {
    "duration": 16,
    "start_time": "2022-11-29T13:21:09.384Z"
   },
   {
    "duration": 12,
    "start_time": "2022-11-29T13:21:42.237Z"
   },
   {
    "duration": 13,
    "start_time": "2022-11-29T13:22:29.677Z"
   },
   {
    "duration": 13,
    "start_time": "2022-11-29T13:23:06.174Z"
   },
   {
    "duration": 8,
    "start_time": "2022-11-29T13:23:40.239Z"
   },
   {
    "duration": 15,
    "start_time": "2022-11-29T13:23:48.325Z"
   },
   {
    "duration": 12,
    "start_time": "2022-11-29T13:27:06.215Z"
   },
   {
    "duration": 13,
    "start_time": "2022-11-29T13:28:18.811Z"
   },
   {
    "duration": 17,
    "start_time": "2022-11-29T13:29:37.022Z"
   },
   {
    "duration": 3,
    "start_time": "2022-11-29T13:30:02.731Z"
   },
   {
    "duration": 11,
    "start_time": "2022-11-29T13:30:13.799Z"
   },
   {
    "duration": 11,
    "start_time": "2022-11-29T13:31:38.109Z"
   },
   {
    "duration": 12,
    "start_time": "2022-11-29T13:31:52.933Z"
   },
   {
    "duration": 12,
    "start_time": "2022-11-29T13:32:27.521Z"
   },
   {
    "duration": 1049,
    "start_time": "2022-11-29T13:34:20.135Z"
   },
   {
    "duration": 52,
    "start_time": "2022-11-29T13:34:21.186Z"
   },
   {
    "duration": 25,
    "start_time": "2022-11-29T13:34:21.240Z"
   },
   {
    "duration": 21,
    "start_time": "2022-11-29T13:34:21.267Z"
   },
   {
    "duration": 41,
    "start_time": "2022-11-29T13:34:21.289Z"
   },
   {
    "duration": 20,
    "start_time": "2022-11-29T13:34:21.331Z"
   },
   {
    "duration": 7,
    "start_time": "2022-11-29T13:34:21.353Z"
   },
   {
    "duration": 8,
    "start_time": "2022-11-29T13:34:21.361Z"
   },
   {
    "duration": 11,
    "start_time": "2022-11-29T13:34:21.371Z"
   },
   {
    "duration": 11,
    "start_time": "2022-11-29T13:34:21.386Z"
   },
   {
    "duration": 10,
    "start_time": "2022-11-29T13:34:21.398Z"
   },
   {
    "duration": 6,
    "start_time": "2022-11-29T13:34:21.409Z"
   },
   {
    "duration": 8,
    "start_time": "2022-11-29T13:34:21.416Z"
   },
   {
    "duration": 19,
    "start_time": "2022-11-29T13:34:21.426Z"
   },
   {
    "duration": 5,
    "start_time": "2022-11-29T13:34:21.447Z"
   },
   {
    "duration": 16,
    "start_time": "2022-11-29T13:34:21.454Z"
   },
   {
    "duration": 37,
    "start_time": "2022-11-29T13:34:21.471Z"
   },
   {
    "duration": 346,
    "start_time": "2022-11-29T13:34:21.509Z"
   },
   {
    "duration": 20,
    "start_time": "2022-11-29T13:34:21.857Z"
   },
   {
    "duration": 27,
    "start_time": "2022-11-29T13:34:21.879Z"
   },
   {
    "duration": 119,
    "start_time": "2022-11-29T13:34:21.908Z"
   },
   {
    "duration": 15,
    "start_time": "2022-11-29T13:39:03.634Z"
   },
   {
    "duration": 164,
    "start_time": "2022-11-29T13:39:05.425Z"
   },
   {
    "duration": 157,
    "start_time": "2022-11-29T13:40:28.648Z"
   },
   {
    "duration": 1314,
    "start_time": "2022-11-30T06:01:14.468Z"
   },
   {
    "duration": 94,
    "start_time": "2022-11-30T06:01:15.784Z"
   },
   {
    "duration": 25,
    "start_time": "2022-11-30T06:01:15.880Z"
   },
   {
    "duration": 3,
    "start_time": "2022-11-30T06:01:15.907Z"
   },
   {
    "duration": 7,
    "start_time": "2022-11-30T06:01:15.912Z"
   },
   {
    "duration": 16,
    "start_time": "2022-11-30T06:01:15.921Z"
   },
   {
    "duration": 9,
    "start_time": "2022-11-30T06:01:15.938Z"
   },
   {
    "duration": 10,
    "start_time": "2022-11-30T06:01:15.948Z"
   },
   {
    "duration": 7,
    "start_time": "2022-11-30T06:01:15.959Z"
   },
   {
    "duration": 8,
    "start_time": "2022-11-30T06:01:15.967Z"
   },
   {
    "duration": 8,
    "start_time": "2022-11-30T06:01:15.997Z"
   },
   {
    "duration": 12,
    "start_time": "2022-11-30T06:01:16.006Z"
   },
   {
    "duration": 14,
    "start_time": "2022-11-30T06:01:16.019Z"
   },
   {
    "duration": 16,
    "start_time": "2022-11-30T06:01:16.035Z"
   },
   {
    "duration": 9,
    "start_time": "2022-11-30T06:01:16.052Z"
   },
   {
    "duration": 14,
    "start_time": "2022-11-30T06:01:16.062Z"
   },
   {
    "duration": 31,
    "start_time": "2022-11-30T06:01:16.077Z"
   },
   {
    "duration": 316,
    "start_time": "2022-11-30T06:01:16.109Z"
   },
   {
    "duration": 14,
    "start_time": "2022-11-30T06:01:16.426Z"
   },
   {
    "duration": 15,
    "start_time": "2022-11-30T06:01:16.442Z"
   },
   {
    "duration": 181,
    "start_time": "2022-11-30T06:01:16.458Z"
   },
   {
    "duration": 21,
    "start_time": "2022-11-30T06:01:59.156Z"
   },
   {
    "duration": 21,
    "start_time": "2022-11-30T06:13:16.591Z"
   },
   {
    "duration": 290,
    "start_time": "2022-11-30T06:16:14.410Z"
   },
   {
    "duration": 180,
    "start_time": "2022-11-30T06:20:50.791Z"
   },
   {
    "duration": 177,
    "start_time": "2022-11-30T06:21:41.123Z"
   },
   {
    "duration": 12,
    "start_time": "2022-11-30T06:23:57.482Z"
   },
   {
    "duration": 176,
    "start_time": "2022-11-30T06:24:42.994Z"
   },
   {
    "duration": 12,
    "start_time": "2022-11-30T06:26:54.931Z"
   },
   {
    "duration": 201,
    "start_time": "2022-11-30T06:26:55.411Z"
   },
   {
    "duration": 11,
    "start_time": "2022-11-30T06:28:59.159Z"
   },
   {
    "duration": 9,
    "start_time": "2022-11-30T06:28:59.724Z"
   },
   {
    "duration": 13,
    "start_time": "2022-11-30T06:29:11.493Z"
   },
   {
    "duration": 247,
    "start_time": "2022-11-30T06:29:11.966Z"
   },
   {
    "duration": 11,
    "start_time": "2022-11-30T06:30:40.365Z"
   },
   {
    "duration": 163,
    "start_time": "2022-11-30T06:30:40.750Z"
   },
   {
    "duration": 12,
    "start_time": "2022-11-30T06:55:28.828Z"
   },
   {
    "duration": 170,
    "start_time": "2022-11-30T06:55:30.344Z"
   },
   {
    "duration": 11,
    "start_time": "2022-11-30T06:55:32.134Z"
   },
   {
    "duration": 167,
    "start_time": "2022-11-30T06:55:32.776Z"
   },
   {
    "duration": 49,
    "start_time": "2022-11-30T06:55:34.534Z"
   },
   {
    "duration": 12,
    "start_time": "2022-11-30T06:55:55.666Z"
   },
   {
    "duration": 167,
    "start_time": "2022-11-30T06:55:57.098Z"
   },
   {
    "duration": 182,
    "start_time": "2022-11-30T06:56:39.879Z"
   },
   {
    "duration": 22,
    "start_time": "2022-11-30T08:35:27.001Z"
   },
   {
    "duration": 12,
    "start_time": "2022-11-30T08:35:42.077Z"
   },
   {
    "duration": 17,
    "start_time": "2022-11-30T08:35:50.411Z"
   },
   {
    "duration": 16,
    "start_time": "2022-11-30T08:37:15.948Z"
   },
   {
    "duration": 16,
    "start_time": "2022-11-30T08:37:30.725Z"
   },
   {
    "duration": 15,
    "start_time": "2022-11-30T08:38:04.242Z"
   },
   {
    "duration": 15,
    "start_time": "2022-11-30T08:38:14.147Z"
   },
   {
    "duration": 15,
    "start_time": "2022-11-30T08:38:39.758Z"
   },
   {
    "duration": 16,
    "start_time": "2022-11-30T08:39:09.866Z"
   },
   {
    "duration": 18,
    "start_time": "2022-11-30T08:40:38.282Z"
   },
   {
    "duration": 17,
    "start_time": "2022-11-30T08:43:15.974Z"
   },
   {
    "duration": 16,
    "start_time": "2022-11-30T08:43:47.397Z"
   },
   {
    "duration": 17,
    "start_time": "2022-11-30T08:45:54.439Z"
   },
   {
    "duration": 1385,
    "start_time": "2022-11-30T14:20:16.700Z"
   },
   {
    "duration": 104,
    "start_time": "2022-11-30T14:20:18.087Z"
   },
   {
    "duration": 31,
    "start_time": "2022-11-30T14:20:18.193Z"
   },
   {
    "duration": 4,
    "start_time": "2022-11-30T14:20:18.226Z"
   },
   {
    "duration": 10,
    "start_time": "2022-11-30T14:20:18.232Z"
   },
   {
    "duration": 17,
    "start_time": "2022-11-30T14:20:18.244Z"
   },
   {
    "duration": 4,
    "start_time": "2022-11-30T14:20:18.263Z"
   },
   {
    "duration": 31,
    "start_time": "2022-11-30T14:20:18.268Z"
   },
   {
    "duration": 6,
    "start_time": "2022-11-30T14:20:18.300Z"
   },
   {
    "duration": 9,
    "start_time": "2022-11-30T14:20:18.308Z"
   },
   {
    "duration": 12,
    "start_time": "2022-11-30T14:20:18.319Z"
   },
   {
    "duration": 15,
    "start_time": "2022-11-30T14:20:18.333Z"
   },
   {
    "duration": 9,
    "start_time": "2022-11-30T14:20:18.349Z"
   },
   {
    "duration": 47,
    "start_time": "2022-11-30T14:20:18.361Z"
   },
   {
    "duration": 6,
    "start_time": "2022-11-30T14:20:18.410Z"
   },
   {
    "duration": 23,
    "start_time": "2022-11-30T14:20:18.417Z"
   },
   {
    "duration": 30,
    "start_time": "2022-11-30T14:20:18.443Z"
   },
   {
    "duration": 401,
    "start_time": "2022-11-30T14:20:18.497Z"
   },
   {
    "duration": 17,
    "start_time": "2022-11-30T14:20:18.900Z"
   },
   {
    "duration": 26,
    "start_time": "2022-11-30T14:20:18.919Z"
   },
   {
    "duration": 245,
    "start_time": "2022-11-30T14:20:18.947Z"
   },
   {
    "duration": 13,
    "start_time": "2022-11-30T14:20:19.196Z"
   },
   {
    "duration": 223,
    "start_time": "2022-11-30T14:20:19.212Z"
   },
   {
    "duration": 13,
    "start_time": "2022-11-30T14:20:19.436Z"
   },
   {
    "duration": 211,
    "start_time": "2022-11-30T14:20:19.450Z"
   },
   {
    "duration": 12,
    "start_time": "2022-11-30T14:20:19.663Z"
   },
   {
    "duration": 210,
    "start_time": "2022-11-30T14:20:19.677Z"
   },
   {
    "duration": 19,
    "start_time": "2022-11-30T14:20:19.889Z"
   },
   {
    "duration": 205,
    "start_time": "2022-11-30T14:20:19.910Z"
   },
   {
    "duration": 13,
    "start_time": "2022-11-30T14:20:20.116Z"
   },
   {
    "duration": 201,
    "start_time": "2022-11-30T14:20:20.131Z"
   },
   {
    "duration": 25,
    "start_time": "2022-11-30T14:20:20.335Z"
   },
   {
    "duration": 847,
    "start_time": "2022-11-30T15:21:08.432Z"
   },
   {
    "duration": 4,
    "start_time": "2022-11-30T15:22:29.857Z"
   },
   {
    "duration": 914,
    "start_time": "2022-11-30T15:22:34.345Z"
   },
   {
    "duration": 790,
    "start_time": "2022-11-30T15:23:01.219Z"
   },
   {
    "duration": 832,
    "start_time": "2022-11-30T15:25:25.490Z"
   },
   {
    "duration": 55,
    "start_time": "2022-11-30T15:27:25.573Z"
   },
   {
    "duration": 52,
    "start_time": "2022-11-30T15:28:06.772Z"
   },
   {
    "duration": 73,
    "start_time": "2022-11-30T15:28:52.820Z"
   },
   {
    "duration": 3,
    "start_time": "2022-11-30T15:29:01.532Z"
   },
   {
    "duration": 932,
    "start_time": "2022-11-30T15:29:24.499Z"
   },
   {
    "duration": 849,
    "start_time": "2022-11-30T15:29:55.069Z"
   },
   {
    "duration": 18,
    "start_time": "2022-11-30T15:29:59.761Z"
   },
   {
    "duration": 1724,
    "start_time": "2022-11-30T15:30:02.934Z"
   },
   {
    "duration": 108,
    "start_time": "2022-11-30T15:30:39.726Z"
   },
   {
    "duration": 4,
    "start_time": "2022-11-30T15:30:47.012Z"
   },
   {
    "duration": 176,
    "start_time": "2022-11-30T15:30:51.940Z"
   },
   {
    "duration": 132,
    "start_time": "2022-11-30T15:31:53.670Z"
   },
   {
    "duration": 186,
    "start_time": "2022-11-30T15:32:05.446Z"
   },
   {
    "duration": 163,
    "start_time": "2022-11-30T15:32:23.306Z"
   },
   {
    "duration": 133,
    "start_time": "2022-11-30T15:33:19.872Z"
   },
   {
    "duration": 131,
    "start_time": "2022-11-30T15:33:25.622Z"
   },
   {
    "duration": 137,
    "start_time": "2022-11-30T15:34:19.465Z"
   },
   {
    "duration": 1290,
    "start_time": "2022-11-30T18:24:38.188Z"
   },
   {
    "duration": 119,
    "start_time": "2022-11-30T18:24:39.481Z"
   },
   {
    "duration": 43,
    "start_time": "2022-11-30T18:24:39.603Z"
   },
   {
    "duration": 7,
    "start_time": "2022-11-30T18:24:39.648Z"
   },
   {
    "duration": 27,
    "start_time": "2022-11-30T18:24:39.657Z"
   },
   {
    "duration": 48,
    "start_time": "2022-11-30T18:24:39.686Z"
   },
   {
    "duration": 36,
    "start_time": "2022-11-30T18:24:39.736Z"
   },
   {
    "duration": 44,
    "start_time": "2022-11-30T18:24:39.774Z"
   },
   {
    "duration": 30,
    "start_time": "2022-11-30T18:24:39.819Z"
   },
   {
    "duration": 39,
    "start_time": "2022-11-30T18:24:39.850Z"
   },
   {
    "duration": 18,
    "start_time": "2022-11-30T18:24:39.890Z"
   },
   {
    "duration": 27,
    "start_time": "2022-11-30T18:24:39.909Z"
   },
   {
    "duration": 21,
    "start_time": "2022-11-30T18:24:39.938Z"
   },
   {
    "duration": 36,
    "start_time": "2022-11-30T18:24:39.963Z"
   },
   {
    "duration": 17,
    "start_time": "2022-11-30T18:24:40.001Z"
   },
   {
    "duration": 43,
    "start_time": "2022-11-30T18:24:40.020Z"
   },
   {
    "duration": 32,
    "start_time": "2022-11-30T18:24:40.066Z"
   },
   {
    "duration": 365,
    "start_time": "2022-11-30T18:24:40.100Z"
   },
   {
    "duration": 16,
    "start_time": "2022-11-30T18:24:40.467Z"
   },
   {
    "duration": 40,
    "start_time": "2022-11-30T18:24:40.485Z"
   },
   {
    "duration": 208,
    "start_time": "2022-11-30T18:24:40.526Z"
   },
   {
    "duration": 23,
    "start_time": "2022-11-30T18:24:40.736Z"
   },
   {
    "duration": 228,
    "start_time": "2022-11-30T18:24:40.761Z"
   },
   {
    "duration": 15,
    "start_time": "2022-11-30T18:24:40.991Z"
   },
   {
    "duration": 239,
    "start_time": "2022-11-30T18:24:41.008Z"
   },
   {
    "duration": 19,
    "start_time": "2022-11-30T18:24:41.249Z"
   },
   {
    "duration": 222,
    "start_time": "2022-11-30T18:24:41.269Z"
   },
   {
    "duration": 17,
    "start_time": "2022-11-30T18:24:41.493Z"
   },
   {
    "duration": 263,
    "start_time": "2022-11-30T18:24:41.512Z"
   },
   {
    "duration": 13,
    "start_time": "2022-11-30T18:24:41.778Z"
   },
   {
    "duration": 196,
    "start_time": "2022-11-30T18:24:41.794Z"
   },
   {
    "duration": 20,
    "start_time": "2022-11-30T18:24:41.992Z"
   },
   {
    "duration": 15,
    "start_time": "2022-11-30T18:24:42.015Z"
   },
   {
    "duration": 0,
    "start_time": "2022-11-30T18:24:42.031Z"
   },
   {
    "duration": 3,
    "start_time": "2022-11-30T18:24:53.547Z"
   },
   {
    "duration": 132,
    "start_time": "2022-11-30T18:25:08.954Z"
   },
   {
    "duration": 13,
    "start_time": "2022-11-30T18:25:56.742Z"
   },
   {
    "duration": 3,
    "start_time": "2022-11-30T18:26:07.303Z"
   },
   {
    "duration": 64,
    "start_time": "2022-11-30T18:26:07.309Z"
   },
   {
    "duration": 25,
    "start_time": "2022-11-30T18:26:07.375Z"
   },
   {
    "duration": 13,
    "start_time": "2022-11-30T18:26:07.402Z"
   },
   {
    "duration": 6,
    "start_time": "2022-11-30T18:26:07.418Z"
   },
   {
    "duration": 31,
    "start_time": "2022-11-30T18:26:07.427Z"
   },
   {
    "duration": 5,
    "start_time": "2022-11-30T18:26:07.461Z"
   },
   {
    "duration": 15,
    "start_time": "2022-11-30T18:26:07.468Z"
   },
   {
    "duration": 15,
    "start_time": "2022-11-30T18:26:07.486Z"
   },
   {
    "duration": 15,
    "start_time": "2022-11-30T18:26:07.502Z"
   },
   {
    "duration": 23,
    "start_time": "2022-11-30T18:26:07.518Z"
   },
   {
    "duration": 41,
    "start_time": "2022-11-30T18:26:07.542Z"
   },
   {
    "duration": 22,
    "start_time": "2022-11-30T18:26:07.585Z"
   },
   {
    "duration": 17,
    "start_time": "2022-11-30T18:26:07.699Z"
   },
   {
    "duration": 13,
    "start_time": "2022-11-30T18:26:07.718Z"
   },
   {
    "duration": 60,
    "start_time": "2022-11-30T18:26:07.733Z"
   },
   {
    "duration": 34,
    "start_time": "2022-11-30T18:26:07.795Z"
   },
   {
    "duration": 393,
    "start_time": "2022-11-30T18:26:07.831Z"
   },
   {
    "duration": 30,
    "start_time": "2022-11-30T18:26:08.226Z"
   },
   {
    "duration": 31,
    "start_time": "2022-11-30T18:26:08.258Z"
   },
   {
    "duration": 235,
    "start_time": "2022-11-30T18:26:08.291Z"
   },
   {
    "duration": 13,
    "start_time": "2022-11-30T18:26:08.528Z"
   },
   {
    "duration": 208,
    "start_time": "2022-11-30T18:26:08.555Z"
   },
   {
    "duration": 14,
    "start_time": "2022-11-30T18:26:08.765Z"
   },
   {
    "duration": 219,
    "start_time": "2022-11-30T18:26:08.781Z"
   },
   {
    "duration": 13,
    "start_time": "2022-11-30T18:26:09.001Z"
   },
   {
    "duration": 217,
    "start_time": "2022-11-30T18:26:09.016Z"
   },
   {
    "duration": 25,
    "start_time": "2022-11-30T18:26:09.235Z"
   },
   {
    "duration": 196,
    "start_time": "2022-11-30T18:26:09.262Z"
   },
   {
    "duration": 13,
    "start_time": "2022-11-30T18:26:09.461Z"
   },
   {
    "duration": 195,
    "start_time": "2022-11-30T18:26:09.476Z"
   },
   {
    "duration": 30,
    "start_time": "2022-11-30T18:26:09.673Z"
   },
   {
    "duration": 3,
    "start_time": "2022-11-30T18:26:09.705Z"
   },
   {
    "duration": 21,
    "start_time": "2022-11-30T18:26:09.710Z"
   },
   {
    "duration": 19,
    "start_time": "2022-11-30T18:28:58.196Z"
   },
   {
    "duration": 13,
    "start_time": "2022-11-30T18:29:42.436Z"
   },
   {
    "duration": 13,
    "start_time": "2022-11-30T18:35:48.174Z"
   },
   {
    "duration": 1318,
    "start_time": "2022-12-01T06:03:46.573Z"
   },
   {
    "duration": 111,
    "start_time": "2022-12-01T06:03:47.893Z"
   },
   {
    "duration": 30,
    "start_time": "2022-12-01T06:03:48.006Z"
   },
   {
    "duration": 3,
    "start_time": "2022-12-01T06:03:48.039Z"
   },
   {
    "duration": 9,
    "start_time": "2022-12-01T06:03:48.043Z"
   },
   {
    "duration": 18,
    "start_time": "2022-12-01T06:03:48.053Z"
   },
   {
    "duration": 4,
    "start_time": "2022-12-01T06:03:48.073Z"
   },
   {
    "duration": 12,
    "start_time": "2022-12-01T06:03:48.078Z"
   },
   {
    "duration": 7,
    "start_time": "2022-12-01T06:03:48.091Z"
   },
   {
    "duration": 7,
    "start_time": "2022-12-01T06:03:48.101Z"
   },
   {
    "duration": 9,
    "start_time": "2022-12-01T06:03:48.110Z"
   },
   {
    "duration": 9,
    "start_time": "2022-12-01T06:03:48.120Z"
   },
   {
    "duration": 26,
    "start_time": "2022-12-01T06:03:48.130Z"
   },
   {
    "duration": 16,
    "start_time": "2022-12-01T06:03:48.158Z"
   },
   {
    "duration": 6,
    "start_time": "2022-12-01T06:03:48.175Z"
   },
   {
    "duration": 15,
    "start_time": "2022-12-01T06:03:48.182Z"
   },
   {
    "duration": 17,
    "start_time": "2022-12-01T06:03:48.199Z"
   },
   {
    "duration": 393,
    "start_time": "2022-12-01T06:03:48.218Z"
   },
   {
    "duration": 15,
    "start_time": "2022-12-01T06:03:48.612Z"
   },
   {
    "duration": 35,
    "start_time": "2022-12-01T06:03:48.629Z"
   },
   {
    "duration": 219,
    "start_time": "2022-12-01T06:03:48.666Z"
   },
   {
    "duration": 11,
    "start_time": "2022-12-01T06:03:48.887Z"
   },
   {
    "duration": 250,
    "start_time": "2022-12-01T06:03:48.900Z"
   },
   {
    "duration": 14,
    "start_time": "2022-12-01T06:03:49.154Z"
   },
   {
    "duration": 204,
    "start_time": "2022-12-01T06:03:49.170Z"
   },
   {
    "duration": 13,
    "start_time": "2022-12-01T06:03:49.376Z"
   },
   {
    "duration": 197,
    "start_time": "2022-12-01T06:03:49.391Z"
   },
   {
    "duration": 13,
    "start_time": "2022-12-01T06:03:49.591Z"
   },
   {
    "duration": 194,
    "start_time": "2022-12-01T06:03:49.605Z"
   },
   {
    "duration": 12,
    "start_time": "2022-12-01T06:03:49.801Z"
   },
   {
    "duration": 193,
    "start_time": "2022-12-01T06:03:49.814Z"
   },
   {
    "duration": 21,
    "start_time": "2022-12-01T06:03:50.008Z"
   },
   {
    "duration": 4,
    "start_time": "2022-12-01T06:03:50.030Z"
   },
   {
    "duration": 131,
    "start_time": "2022-12-01T06:03:50.035Z"
   },
   {
    "duration": 4,
    "start_time": "2022-12-01T06:06:39.967Z"
   },
   {
    "duration": 219,
    "start_time": "2022-12-01T06:06:42.708Z"
   },
   {
    "duration": 118,
    "start_time": "2022-12-01T06:06:55.225Z"
   },
   {
    "duration": 122,
    "start_time": "2022-12-01T06:07:41.429Z"
   },
   {
    "duration": 118,
    "start_time": "2022-12-01T06:07:53.118Z"
   },
   {
    "duration": 124,
    "start_time": "2022-12-01T06:08:01.379Z"
   },
   {
    "duration": 124,
    "start_time": "2022-12-01T06:08:09.408Z"
   },
   {
    "duration": 124,
    "start_time": "2022-12-01T06:08:24.208Z"
   },
   {
    "duration": 126,
    "start_time": "2022-12-01T07:34:30.390Z"
   },
   {
    "duration": 134,
    "start_time": "2022-12-01T07:34:43.355Z"
   },
   {
    "duration": 134,
    "start_time": "2022-12-01T07:35:33.098Z"
   },
   {
    "duration": 172,
    "start_time": "2022-12-01T07:35:43.939Z"
   },
   {
    "duration": 130,
    "start_time": "2022-12-01T07:39:53.996Z"
   },
   {
    "duration": 4,
    "start_time": "2022-12-01T07:51:43.548Z"
   },
   {
    "duration": 77,
    "start_time": "2022-12-01T12:23:10.982Z"
   },
   {
    "duration": 128,
    "start_time": "2022-12-01T12:24:05.019Z"
   },
   {
    "duration": 72,
    "start_time": "2022-12-01T12:24:08.444Z"
   },
   {
    "duration": 79,
    "start_time": "2022-12-01T12:24:24.122Z"
   },
   {
    "duration": 75,
    "start_time": "2022-12-01T12:24:37.563Z"
   },
   {
    "duration": 47,
    "start_time": "2022-12-01T12:24:58.074Z"
   },
   {
    "duration": 1368,
    "start_time": "2022-12-01T12:25:03.198Z"
   },
   {
    "duration": 195,
    "start_time": "2022-12-01T12:25:04.568Z"
   },
   {
    "duration": 31,
    "start_time": "2022-12-01T12:25:04.764Z"
   },
   {
    "duration": 18,
    "start_time": "2022-12-01T12:25:04.797Z"
   },
   {
    "duration": 52,
    "start_time": "2022-12-01T12:25:04.816Z"
   },
   {
    "duration": 45,
    "start_time": "2022-12-01T12:25:04.870Z"
   },
   {
    "duration": 9,
    "start_time": "2022-12-01T12:25:04.917Z"
   },
   {
    "duration": 24,
    "start_time": "2022-12-01T12:25:04.928Z"
   },
   {
    "duration": 21,
    "start_time": "2022-12-01T12:25:04.953Z"
   },
   {
    "duration": 35,
    "start_time": "2022-12-01T12:25:04.977Z"
   },
   {
    "duration": 29,
    "start_time": "2022-12-01T12:25:05.014Z"
   },
   {
    "duration": 43,
    "start_time": "2022-12-01T12:25:05.045Z"
   },
   {
    "duration": 26,
    "start_time": "2022-12-01T12:25:05.090Z"
   },
   {
    "duration": 27,
    "start_time": "2022-12-01T12:25:05.118Z"
   },
   {
    "duration": 8,
    "start_time": "2022-12-01T12:25:05.147Z"
   },
   {
    "duration": 30,
    "start_time": "2022-12-01T12:25:05.157Z"
   },
   {
    "duration": 52,
    "start_time": "2022-12-01T12:25:05.189Z"
   },
   {
    "duration": 405,
    "start_time": "2022-12-01T12:25:05.242Z"
   },
   {
    "duration": 16,
    "start_time": "2022-12-01T12:25:05.650Z"
   },
   {
    "duration": 23,
    "start_time": "2022-12-01T12:25:05.667Z"
   },
   {
    "duration": 248,
    "start_time": "2022-12-01T12:25:05.692Z"
   },
   {
    "duration": 13,
    "start_time": "2022-12-01T12:25:05.942Z"
   },
   {
    "duration": 212,
    "start_time": "2022-12-01T12:25:05.957Z"
   },
   {
    "duration": 13,
    "start_time": "2022-12-01T12:25:06.171Z"
   },
   {
    "duration": 215,
    "start_time": "2022-12-01T12:25:06.186Z"
   },
   {
    "duration": 13,
    "start_time": "2022-12-01T12:25:06.403Z"
   },
   {
    "duration": 219,
    "start_time": "2022-12-01T12:25:06.418Z"
   },
   {
    "duration": 13,
    "start_time": "2022-12-01T12:25:06.640Z"
   },
   {
    "duration": 211,
    "start_time": "2022-12-01T12:25:06.655Z"
   },
   {
    "duration": 12,
    "start_time": "2022-12-01T12:25:06.868Z"
   },
   {
    "duration": 201,
    "start_time": "2022-12-01T12:25:06.882Z"
   },
   {
    "duration": 21,
    "start_time": "2022-12-01T12:25:07.085Z"
   },
   {
    "duration": 4,
    "start_time": "2022-12-01T12:25:07.107Z"
   },
   {
    "duration": 248,
    "start_time": "2022-12-01T12:25:07.112Z"
   },
   {
    "duration": 76,
    "start_time": "2022-12-01T12:25:07.362Z"
   },
   {
    "duration": 10,
    "start_time": "2022-12-01T12:26:09.972Z"
   },
   {
    "duration": 15,
    "start_time": "2022-12-01T12:28:17.267Z"
   },
   {
    "duration": 38,
    "start_time": "2022-12-01T12:28:58.455Z"
   },
   {
    "duration": 86,
    "start_time": "2022-12-01T12:29:34.635Z"
   },
   {
    "duration": 74,
    "start_time": "2022-12-01T12:29:49.681Z"
   },
   {
    "duration": 78,
    "start_time": "2022-12-01T12:30:07.270Z"
   },
   {
    "duration": 76,
    "start_time": "2022-12-01T12:30:14.600Z"
   },
   {
    "duration": 77,
    "start_time": "2022-12-01T12:30:30.327Z"
   },
   {
    "duration": 5,
    "start_time": "2022-12-01T12:30:46.798Z"
   },
   {
    "duration": 24,
    "start_time": "2022-12-01T12:31:45.398Z"
   },
   {
    "duration": 23,
    "start_time": "2022-12-01T12:32:01.377Z"
   },
   {
    "duration": 31,
    "start_time": "2022-12-01T12:39:54.280Z"
   },
   {
    "duration": 31,
    "start_time": "2022-12-01T12:40:45.113Z"
   },
   {
    "duration": 39,
    "start_time": "2022-12-01T12:40:58.879Z"
   },
   {
    "duration": 3,
    "start_time": "2022-12-01T12:41:17.706Z"
   },
   {
    "duration": 54,
    "start_time": "2022-12-01T12:41:17.712Z"
   },
   {
    "duration": 24,
    "start_time": "2022-12-01T12:41:17.767Z"
   },
   {
    "duration": 5,
    "start_time": "2022-12-01T12:41:17.793Z"
   },
   {
    "duration": 5,
    "start_time": "2022-12-01T12:41:17.800Z"
   },
   {
    "duration": 39,
    "start_time": "2022-12-01T12:41:17.807Z"
   },
   {
    "duration": 4,
    "start_time": "2022-12-01T12:41:17.847Z"
   },
   {
    "duration": 8,
    "start_time": "2022-12-01T12:41:17.852Z"
   },
   {
    "duration": 7,
    "start_time": "2022-12-01T12:41:17.861Z"
   },
   {
    "duration": 8,
    "start_time": "2022-12-01T12:41:17.870Z"
   },
   {
    "duration": 10,
    "start_time": "2022-12-01T12:41:17.880Z"
   },
   {
    "duration": 5,
    "start_time": "2022-12-01T12:41:17.892Z"
   },
   {
    "duration": 9,
    "start_time": "2022-12-01T12:41:17.898Z"
   },
   {
    "duration": 42,
    "start_time": "2022-12-01T12:41:17.908Z"
   },
   {
    "duration": 5,
    "start_time": "2022-12-01T12:41:17.952Z"
   },
   {
    "duration": 19,
    "start_time": "2022-12-01T12:41:17.958Z"
   },
   {
    "duration": 16,
    "start_time": "2022-12-01T12:41:17.979Z"
   },
   {
    "duration": 384,
    "start_time": "2022-12-01T12:41:17.997Z"
   },
   {
    "duration": 14,
    "start_time": "2022-12-01T12:41:18.383Z"
   },
   {
    "duration": 22,
    "start_time": "2022-12-01T12:41:18.399Z"
   },
   {
    "duration": 206,
    "start_time": "2022-12-01T12:41:18.438Z"
   },
   {
    "duration": 14,
    "start_time": "2022-12-01T12:41:18.646Z"
   },
   {
    "duration": 233,
    "start_time": "2022-12-01T12:41:18.662Z"
   },
   {
    "duration": 15,
    "start_time": "2022-12-01T12:41:18.897Z"
   },
   {
    "duration": 235,
    "start_time": "2022-12-01T12:41:18.915Z"
   },
   {
    "duration": 15,
    "start_time": "2022-12-01T12:41:19.152Z"
   },
   {
    "duration": 203,
    "start_time": "2022-12-01T12:41:19.169Z"
   },
   {
    "duration": 11,
    "start_time": "2022-12-01T12:41:19.375Z"
   },
   {
    "duration": 209,
    "start_time": "2022-12-01T12:41:19.388Z"
   },
   {
    "duration": 11,
    "start_time": "2022-12-01T12:41:19.599Z"
   },
   {
    "duration": 196,
    "start_time": "2022-12-01T12:41:19.612Z"
   },
   {
    "duration": 30,
    "start_time": "2022-12-01T12:41:19.809Z"
   },
   {
    "duration": 4,
    "start_time": "2022-12-01T12:41:19.841Z"
   },
   {
    "duration": 148,
    "start_time": "2022-12-01T12:41:19.847Z"
   },
   {
    "duration": 30,
    "start_time": "2022-12-01T12:41:19.997Z"
   },
   {
    "duration": 41,
    "start_time": "2022-12-01T12:41:30.273Z"
   },
   {
    "duration": 43,
    "start_time": "2022-12-01T12:43:18.954Z"
   },
   {
    "duration": 35,
    "start_time": "2022-12-01T12:45:21.295Z"
   },
   {
    "duration": 14,
    "start_time": "2022-12-01T12:46:03.009Z"
   },
   {
    "duration": 1574,
    "start_time": "2022-12-01T12:47:44.924Z"
   },
   {
    "duration": 1531,
    "start_time": "2022-12-01T12:47:56.049Z"
   },
   {
    "duration": 22,
    "start_time": "2022-12-01T12:49:04.901Z"
   },
   {
    "duration": 33,
    "start_time": "2022-12-01T12:49:15.398Z"
   },
   {
    "duration": 29,
    "start_time": "2022-12-01T12:49:54.867Z"
   },
   {
    "duration": 37,
    "start_time": "2022-12-01T12:50:22.924Z"
   },
   {
    "duration": 34,
    "start_time": "2022-12-01T12:50:36.477Z"
   },
   {
    "duration": 38,
    "start_time": "2022-12-01T12:51:48.196Z"
   },
   {
    "duration": 29,
    "start_time": "2022-12-01T12:52:14.131Z"
   },
   {
    "duration": 8,
    "start_time": "2022-12-01T12:52:25.868Z"
   },
   {
    "duration": 153,
    "start_time": "2022-12-01T12:52:55.662Z"
   },
   {
    "duration": 20,
    "start_time": "2022-12-01T12:54:28.535Z"
   },
   {
    "duration": 8,
    "start_time": "2022-12-01T12:54:33.094Z"
   },
   {
    "duration": 407,
    "start_time": "2022-12-01T12:54:44.592Z"
   },
   {
    "duration": 1295,
    "start_time": "2022-12-01T13:01:58.291Z"
   },
   {
    "duration": 332,
    "start_time": "2022-12-01T13:04:24.382Z"
   },
   {
    "duration": 21,
    "start_time": "2022-12-01T13:04:31.845Z"
   },
   {
    "duration": 19,
    "start_time": "2022-12-01T13:04:40.509Z"
   },
   {
    "duration": 34,
    "start_time": "2022-12-01T13:05:08.847Z"
   },
   {
    "duration": 28,
    "start_time": "2022-12-01T13:06:00.166Z"
   },
   {
    "duration": 345,
    "start_time": "2022-12-01T13:06:53.049Z"
   },
   {
    "duration": 18,
    "start_time": "2022-12-01T13:07:17.958Z"
   },
   {
    "duration": 660,
    "start_time": "2022-12-01T13:07:34.617Z"
   },
   {
    "duration": 1236,
    "start_time": "2022-12-01T13:07:35.710Z"
   },
   {
    "duration": 28,
    "start_time": "2022-12-01T13:07:51.600Z"
   },
   {
    "duration": 21,
    "start_time": "2022-12-01T13:09:18.042Z"
   },
   {
    "duration": 19,
    "start_time": "2022-12-01T13:10:01.097Z"
   },
   {
    "duration": 12,
    "start_time": "2022-12-01T13:10:44.543Z"
   },
   {
    "duration": 11,
    "start_time": "2022-12-01T13:11:15.708Z"
   },
   {
    "duration": 10,
    "start_time": "2022-12-01T13:11:33.643Z"
   },
   {
    "duration": 24,
    "start_time": "2022-12-01T13:11:47.147Z"
   },
   {
    "duration": 13,
    "start_time": "2022-12-01T13:11:47.832Z"
   },
   {
    "duration": 8,
    "start_time": "2022-12-01T13:11:48.521Z"
   },
   {
    "duration": 295,
    "start_time": "2022-12-01T13:11:49.785Z"
   },
   {
    "duration": 20,
    "start_time": "2022-12-01T13:13:11.900Z"
   },
   {
    "duration": 23,
    "start_time": "2022-12-01T13:13:38.819Z"
   },
   {
    "duration": 19,
    "start_time": "2022-12-01T13:13:51.658Z"
   },
   {
    "duration": 10,
    "start_time": "2022-12-01T13:14:41.101Z"
   },
   {
    "duration": 8,
    "start_time": "2022-12-01T13:14:41.722Z"
   },
   {
    "duration": 91,
    "start_time": "2022-12-01T13:15:30.326Z"
   },
   {
    "duration": 21,
    "start_time": "2022-12-01T13:15:34.403Z"
   },
   {
    "duration": 18,
    "start_time": "2022-12-01T13:15:46.860Z"
   },
   {
    "duration": 165,
    "start_time": "2022-12-01T13:15:58.797Z"
   },
   {
    "duration": 20,
    "start_time": "2022-12-01T13:16:13.702Z"
   },
   {
    "duration": 7,
    "start_time": "2022-12-01T13:16:15.069Z"
   },
   {
    "duration": 7,
    "start_time": "2022-12-01T13:16:19.483Z"
   },
   {
    "duration": 1505,
    "start_time": "2022-12-01T13:17:31.015Z"
   },
   {
    "duration": 8,
    "start_time": "2022-12-01T13:19:40.754Z"
   },
   {
    "duration": 7,
    "start_time": "2022-12-01T13:19:55.450Z"
   },
   {
    "duration": 11,
    "start_time": "2022-12-01T13:20:04.759Z"
   },
   {
    "duration": 8,
    "start_time": "2022-12-01T13:20:05.193Z"
   },
   {
    "duration": 16,
    "start_time": "2022-12-01T13:23:24.056Z"
   },
   {
    "duration": 9,
    "start_time": "2022-12-01T13:23:24.788Z"
   },
   {
    "duration": 21,
    "start_time": "2022-12-01T13:23:40.552Z"
   },
   {
    "duration": 5,
    "start_time": "2022-12-01T13:25:08.770Z"
   },
   {
    "duration": 1230,
    "start_time": "2022-12-01T13:25:20.970Z"
   },
   {
    "duration": 1264,
    "start_time": "2022-12-01T13:26:02.089Z"
   },
   {
    "duration": 295,
    "start_time": "2022-12-01T13:32:29.823Z"
   },
   {
    "duration": 20,
    "start_time": "2022-12-01T13:33:55.543Z"
   },
   {
    "duration": 23,
    "start_time": "2022-12-01T13:34:36.305Z"
   },
   {
    "duration": 28,
    "start_time": "2022-12-01T13:34:54.898Z"
   },
   {
    "duration": 1655,
    "start_time": "2022-12-01T13:35:43.409Z"
   },
   {
    "duration": 289,
    "start_time": "2022-12-01T13:35:46.097Z"
   },
   {
    "duration": 4,
    "start_time": "2022-12-01T13:36:18.530Z"
   },
   {
    "duration": 1200,
    "start_time": "2022-12-01T13:36:33.691Z"
   },
   {
    "duration": 1466,
    "start_time": "2022-12-01T15:49:14.959Z"
   },
   {
    "duration": 119,
    "start_time": "2022-12-01T15:49:16.428Z"
   },
   {
    "duration": 47,
    "start_time": "2022-12-01T15:49:16.549Z"
   },
   {
    "duration": 4,
    "start_time": "2022-12-01T15:49:16.598Z"
   },
   {
    "duration": 10,
    "start_time": "2022-12-01T15:49:16.605Z"
   },
   {
    "duration": 31,
    "start_time": "2022-12-01T15:49:16.618Z"
   },
   {
    "duration": 5,
    "start_time": "2022-12-01T15:49:16.651Z"
   },
   {
    "duration": 29,
    "start_time": "2022-12-01T15:49:16.658Z"
   },
   {
    "duration": 19,
    "start_time": "2022-12-01T15:49:16.693Z"
   },
   {
    "duration": 26,
    "start_time": "2022-12-01T15:49:16.714Z"
   },
   {
    "duration": 22,
    "start_time": "2022-12-01T15:49:16.742Z"
   },
   {
    "duration": 15,
    "start_time": "2022-12-01T15:49:16.766Z"
   },
   {
    "duration": 11,
    "start_time": "2022-12-01T15:49:16.784Z"
   },
   {
    "duration": 38,
    "start_time": "2022-12-01T15:49:16.799Z"
   },
   {
    "duration": 28,
    "start_time": "2022-12-01T15:49:16.839Z"
   },
   {
    "duration": 39,
    "start_time": "2022-12-01T15:49:16.869Z"
   },
   {
    "duration": 33,
    "start_time": "2022-12-01T15:49:16.910Z"
   },
   {
    "duration": 469,
    "start_time": "2022-12-01T15:49:16.946Z"
   },
   {
    "duration": 18,
    "start_time": "2022-12-01T15:49:17.417Z"
   },
   {
    "duration": 30,
    "start_time": "2022-12-01T15:49:17.437Z"
   },
   {
    "duration": 255,
    "start_time": "2022-12-01T15:49:17.469Z"
   },
   {
    "duration": 14,
    "start_time": "2022-12-01T15:49:17.725Z"
   },
   {
    "duration": 257,
    "start_time": "2022-12-01T15:49:17.742Z"
   },
   {
    "duration": 14,
    "start_time": "2022-12-01T15:49:18.000Z"
   },
   {
    "duration": 222,
    "start_time": "2022-12-01T15:49:18.016Z"
   },
   {
    "duration": 16,
    "start_time": "2022-12-01T15:49:18.242Z"
   },
   {
    "duration": 214,
    "start_time": "2022-12-01T15:49:18.260Z"
   },
   {
    "duration": 27,
    "start_time": "2022-12-01T15:49:18.476Z"
   },
   {
    "duration": 222,
    "start_time": "2022-12-01T15:49:18.505Z"
   },
   {
    "duration": 14,
    "start_time": "2022-12-01T15:49:18.729Z"
   },
   {
    "duration": 256,
    "start_time": "2022-12-01T15:49:18.745Z"
   },
   {
    "duration": 27,
    "start_time": "2022-12-01T15:49:19.004Z"
   },
   {
    "duration": 11,
    "start_time": "2022-12-01T15:49:19.033Z"
   },
   {
    "duration": 250,
    "start_time": "2022-12-01T15:49:19.046Z"
   },
   {
    "duration": 27,
    "start_time": "2022-12-01T15:49:19.299Z"
   },
   {
    "duration": 902,
    "start_time": "2022-12-01T15:49:19.328Z"
   },
   {
    "duration": 0,
    "start_time": "2022-12-01T15:49:20.232Z"
   },
   {
    "duration": 0,
    "start_time": "2022-12-01T15:49:20.234Z"
   },
   {
    "duration": 27,
    "start_time": "2022-12-01T15:50:21.352Z"
   },
   {
    "duration": 28,
    "start_time": "2022-12-01T15:51:35.018Z"
   },
   {
    "duration": 29,
    "start_time": "2022-12-01T15:51:57.785Z"
   },
   {
    "duration": 28,
    "start_time": "2022-12-01T15:52:14.808Z"
   },
   {
    "duration": 71,
    "start_time": "2022-12-01T15:52:55.905Z"
   },
   {
    "duration": 37,
    "start_time": "2022-12-01T15:53:14.365Z"
   },
   {
    "duration": 24,
    "start_time": "2022-12-01T15:54:01.136Z"
   },
   {
    "duration": 1007,
    "start_time": "2022-12-01T15:54:03.513Z"
   },
   {
    "duration": 68,
    "start_time": "2022-12-01T15:54:44.099Z"
   },
   {
    "duration": 16,
    "start_time": "2022-12-01T17:17:54.889Z"
   },
   {
    "duration": 6,
    "start_time": "2022-12-01T17:18:01.136Z"
   },
   {
    "duration": 21,
    "start_time": "2022-12-01T17:18:18.666Z"
   },
   {
    "duration": 4,
    "start_time": "2022-12-01T17:22:56.141Z"
   },
   {
    "duration": 143,
    "start_time": "2022-12-01T17:23:25.287Z"
   },
   {
    "duration": 135,
    "start_time": "2022-12-01T17:23:46.749Z"
   },
   {
    "duration": 22,
    "start_time": "2022-12-01T17:25:29.208Z"
   },
   {
    "duration": 146,
    "start_time": "2022-12-01T17:29:09.288Z"
   },
   {
    "duration": 5,
    "start_time": "2022-12-01T17:42:17.625Z"
   },
   {
    "duration": 148,
    "start_time": "2022-12-01T17:42:44.950Z"
   },
   {
    "duration": 49,
    "start_time": "2022-12-01T18:15:19.219Z"
   },
   {
    "duration": 164,
    "start_time": "2022-12-01T18:15:37.924Z"
   },
   {
    "duration": 13,
    "start_time": "2022-12-01T18:16:04.854Z"
   },
   {
    "duration": 13,
    "start_time": "2022-12-01T18:16:19.900Z"
   },
   {
    "duration": 11,
    "start_time": "2022-12-01T18:16:55.388Z"
   },
   {
    "duration": 18,
    "start_time": "2022-12-01T18:17:03.495Z"
   },
   {
    "duration": 14,
    "start_time": "2022-12-01T18:17:24.225Z"
   },
   {
    "duration": 5,
    "start_time": "2022-12-01T18:17:34.667Z"
   },
   {
    "duration": 3,
    "start_time": "2022-12-01T18:17:54.830Z"
   },
   {
    "duration": 3,
    "start_time": "2022-12-01T18:18:42.225Z"
   },
   {
    "duration": 54,
    "start_time": "2022-12-01T18:18:42.229Z"
   },
   {
    "duration": 23,
    "start_time": "2022-12-01T18:18:42.285Z"
   },
   {
    "duration": 7,
    "start_time": "2022-12-01T18:18:42.309Z"
   },
   {
    "duration": 15,
    "start_time": "2022-12-01T18:18:42.318Z"
   },
   {
    "duration": 22,
    "start_time": "2022-12-01T18:18:42.334Z"
   },
   {
    "duration": 4,
    "start_time": "2022-12-01T18:18:42.358Z"
   },
   {
    "duration": 23,
    "start_time": "2022-12-01T18:18:42.363Z"
   },
   {
    "duration": 8,
    "start_time": "2022-12-01T18:18:42.388Z"
   },
   {
    "duration": 8,
    "start_time": "2022-12-01T18:18:42.397Z"
   },
   {
    "duration": 9,
    "start_time": "2022-12-01T18:18:42.409Z"
   },
   {
    "duration": 7,
    "start_time": "2022-12-01T18:18:42.420Z"
   },
   {
    "duration": 7,
    "start_time": "2022-12-01T18:18:42.429Z"
   },
   {
    "duration": 17,
    "start_time": "2022-12-01T18:18:42.438Z"
   },
   {
    "duration": 4,
    "start_time": "2022-12-01T18:18:42.457Z"
   },
   {
    "duration": 36,
    "start_time": "2022-12-01T18:18:42.463Z"
   },
   {
    "duration": 16,
    "start_time": "2022-12-01T18:18:42.501Z"
   },
   {
    "duration": 364,
    "start_time": "2022-12-01T18:18:42.518Z"
   },
   {
    "duration": 22,
    "start_time": "2022-12-01T18:18:42.884Z"
   },
   {
    "duration": 23,
    "start_time": "2022-12-01T18:18:42.907Z"
   },
   {
    "duration": 212,
    "start_time": "2022-12-01T18:18:42.932Z"
   },
   {
    "duration": 12,
    "start_time": "2022-12-01T18:18:43.146Z"
   },
   {
    "duration": 201,
    "start_time": "2022-12-01T18:18:43.159Z"
   },
   {
    "duration": 11,
    "start_time": "2022-12-01T18:18:43.361Z"
   },
   {
    "duration": 200,
    "start_time": "2022-12-01T18:18:43.374Z"
   },
   {
    "duration": 13,
    "start_time": "2022-12-01T18:18:43.575Z"
   },
   {
    "duration": 188,
    "start_time": "2022-12-01T18:18:43.596Z"
   },
   {
    "duration": 17,
    "start_time": "2022-12-01T18:18:43.786Z"
   },
   {
    "duration": 313,
    "start_time": "2022-12-01T18:18:43.806Z"
   },
   {
    "duration": 14,
    "start_time": "2022-12-01T18:18:44.121Z"
   },
   {
    "duration": 189,
    "start_time": "2022-12-01T18:18:44.137Z"
   },
   {
    "duration": 20,
    "start_time": "2022-12-01T18:18:44.328Z"
   },
   {
    "duration": 3,
    "start_time": "2022-12-01T18:18:44.350Z"
   },
   {
    "duration": 152,
    "start_time": "2022-12-01T18:18:44.355Z"
   },
   {
    "duration": 22,
    "start_time": "2022-12-01T18:18:44.508Z"
   },
   {
    "duration": 5,
    "start_time": "2022-12-01T18:18:44.531Z"
   },
   {
    "duration": 161,
    "start_time": "2022-12-01T18:18:44.538Z"
   },
   {
    "duration": 5,
    "start_time": "2022-12-01T18:18:44.700Z"
   },
   {
    "duration": 155,
    "start_time": "2022-12-01T18:18:44.707Z"
   },
   {
    "duration": 11,
    "start_time": "2022-12-01T18:18:44.864Z"
   },
   {
    "duration": 3,
    "start_time": "2022-12-01T18:18:44.877Z"
   },
   {
    "duration": 1141,
    "start_time": "2022-12-01T18:18:57.544Z"
   },
   {
    "duration": 54,
    "start_time": "2022-12-01T18:18:58.687Z"
   },
   {
    "duration": 29,
    "start_time": "2022-12-01T18:18:58.743Z"
   },
   {
    "duration": 3,
    "start_time": "2022-12-01T18:18:58.774Z"
   },
   {
    "duration": 9,
    "start_time": "2022-12-01T18:18:58.779Z"
   },
   {
    "duration": 17,
    "start_time": "2022-12-01T18:18:58.789Z"
   },
   {
    "duration": 3,
    "start_time": "2022-12-01T18:18:58.808Z"
   },
   {
    "duration": 20,
    "start_time": "2022-12-01T18:18:58.813Z"
   },
   {
    "duration": 30,
    "start_time": "2022-12-01T18:18:58.834Z"
   },
   {
    "duration": 40,
    "start_time": "2022-12-01T18:18:58.866Z"
   },
   {
    "duration": 35,
    "start_time": "2022-12-01T18:18:58.908Z"
   },
   {
    "duration": 20,
    "start_time": "2022-12-01T18:18:58.945Z"
   },
   {
    "duration": 33,
    "start_time": "2022-12-01T18:18:58.966Z"
   },
   {
    "duration": 38,
    "start_time": "2022-12-01T18:18:59.002Z"
   },
   {
    "duration": 26,
    "start_time": "2022-12-01T18:18:59.041Z"
   },
   {
    "duration": 41,
    "start_time": "2022-12-01T18:18:59.069Z"
   },
   {
    "duration": 30,
    "start_time": "2022-12-01T18:18:59.111Z"
   },
   {
    "duration": 360,
    "start_time": "2022-12-01T18:18:59.143Z"
   },
   {
    "duration": 16,
    "start_time": "2022-12-01T18:18:59.505Z"
   },
   {
    "duration": 29,
    "start_time": "2022-12-01T18:18:59.524Z"
   },
   {
    "duration": 217,
    "start_time": "2022-12-01T18:18:59.554Z"
   },
   {
    "duration": 23,
    "start_time": "2022-12-01T18:18:59.773Z"
   },
   {
    "duration": 226,
    "start_time": "2022-12-01T18:18:59.799Z"
   },
   {
    "duration": 13,
    "start_time": "2022-12-01T18:19:00.027Z"
   },
   {
    "duration": 220,
    "start_time": "2022-12-01T18:19:00.042Z"
   },
   {
    "duration": 16,
    "start_time": "2022-12-01T18:19:00.264Z"
   },
   {
    "duration": 226,
    "start_time": "2022-12-01T18:19:00.282Z"
   },
   {
    "duration": 13,
    "start_time": "2022-12-01T18:19:00.509Z"
   },
   {
    "duration": 209,
    "start_time": "2022-12-01T18:19:00.524Z"
   },
   {
    "duration": 13,
    "start_time": "2022-12-01T18:19:00.735Z"
   },
   {
    "duration": 205,
    "start_time": "2022-12-01T18:19:00.750Z"
   },
   {
    "duration": 22,
    "start_time": "2022-12-01T18:19:00.956Z"
   },
   {
    "duration": 27,
    "start_time": "2022-12-01T18:19:00.980Z"
   },
   {
    "duration": 285,
    "start_time": "2022-12-01T18:19:01.009Z"
   },
   {
    "duration": 23,
    "start_time": "2022-12-01T18:19:01.296Z"
   },
   {
    "duration": 19,
    "start_time": "2022-12-01T18:19:01.321Z"
   },
   {
    "duration": 182,
    "start_time": "2022-12-01T18:19:01.341Z"
   },
   {
    "duration": 5,
    "start_time": "2022-12-01T18:19:01.524Z"
   },
   {
    "duration": 162,
    "start_time": "2022-12-01T18:19:01.531Z"
   },
   {
    "duration": 13,
    "start_time": "2022-12-01T18:19:01.696Z"
   },
   {
    "duration": 31,
    "start_time": "2022-12-01T18:19:01.712Z"
   },
   {
    "duration": 11,
    "start_time": "2022-12-01T18:19:12.902Z"
   },
   {
    "duration": 13,
    "start_time": "2022-12-01T18:19:21.013Z"
   },
   {
    "duration": 18,
    "start_time": "2022-12-01T18:19:48.381Z"
   },
   {
    "duration": 17,
    "start_time": "2022-12-01T18:20:19.300Z"
   },
   {
    "duration": 96,
    "start_time": "2022-12-01T18:20:47.585Z"
   },
   {
    "duration": 49,
    "start_time": "2022-12-01T18:20:55.650Z"
   },
   {
    "duration": 44,
    "start_time": "2022-12-01T18:21:14.022Z"
   },
   {
    "duration": 53,
    "start_time": "2022-12-01T18:21:22.087Z"
   },
   {
    "duration": 66,
    "start_time": "2022-12-01T18:21:50.076Z"
   },
   {
    "duration": 52,
    "start_time": "2022-12-01T18:22:01.377Z"
   },
   {
    "duration": 59,
    "start_time": "2022-12-01T18:22:08.393Z"
   },
   {
    "duration": 53,
    "start_time": "2022-12-01T18:22:16.686Z"
   },
   {
    "duration": 51,
    "start_time": "2022-12-01T18:22:21.911Z"
   },
   {
    "duration": 60,
    "start_time": "2022-12-01T18:22:38.352Z"
   },
   {
    "duration": 18,
    "start_time": "2022-12-01T18:22:48.209Z"
   },
   {
    "duration": 17,
    "start_time": "2022-12-01T18:22:58.464Z"
   },
   {
    "duration": 115,
    "start_time": "2022-12-01T18:23:22.655Z"
   },
   {
    "duration": 19,
    "start_time": "2022-12-01T18:23:36.854Z"
   },
   {
    "duration": 17,
    "start_time": "2022-12-01T18:28:14.689Z"
   },
   {
    "duration": 12,
    "start_time": "2022-12-01T18:28:27.890Z"
   },
   {
    "duration": 17,
    "start_time": "2022-12-01T18:28:39.002Z"
   },
   {
    "duration": 17,
    "start_time": "2022-12-01T18:29:19.997Z"
   },
   {
    "duration": 5,
    "start_time": "2022-12-01T18:31:25.928Z"
   },
   {
    "duration": 180,
    "start_time": "2022-12-01T18:31:37.973Z"
   },
   {
    "duration": 122,
    "start_time": "2022-12-01T18:32:17.244Z"
   },
   {
    "duration": 134,
    "start_time": "2022-12-01T18:32:44.782Z"
   },
   {
    "duration": 131,
    "start_time": "2022-12-01T18:32:59.102Z"
   },
   {
    "duration": 115,
    "start_time": "2022-12-01T18:33:10.364Z"
   },
   {
    "duration": 119,
    "start_time": "2022-12-01T18:33:16.523Z"
   },
   {
    "duration": 15,
    "start_time": "2022-12-01T18:34:34.567Z"
   },
   {
    "duration": 189,
    "start_time": "2022-12-01T18:35:43.407Z"
   },
   {
    "duration": 231,
    "start_time": "2022-12-01T18:36:35.954Z"
   },
   {
    "duration": 306,
    "start_time": "2022-12-01T18:37:46.456Z"
   },
   {
    "duration": 13,
    "start_time": "2022-12-01T18:42:49.944Z"
   },
   {
    "duration": 7,
    "start_time": "2022-12-01T18:43:10.068Z"
   },
   {
    "duration": 9,
    "start_time": "2022-12-01T18:43:32.717Z"
   },
   {
    "duration": 27,
    "start_time": "2022-12-01T18:45:11.581Z"
   },
   {
    "duration": 25,
    "start_time": "2022-12-01T18:45:34.007Z"
   },
   {
    "duration": 34,
    "start_time": "2022-12-01T18:45:47.049Z"
   },
   {
    "duration": 25,
    "start_time": "2022-12-01T18:46:04.657Z"
   },
   {
    "duration": 17,
    "start_time": "2022-12-01T18:46:21.701Z"
   },
   {
    "duration": 7,
    "start_time": "2022-12-01T18:46:46.320Z"
   },
   {
    "duration": 200,
    "start_time": "2022-12-01T18:52:12.994Z"
   },
   {
    "duration": 230,
    "start_time": "2022-12-01T18:53:05.753Z"
   },
   {
    "duration": 209,
    "start_time": "2022-12-01T18:54:03.507Z"
   },
   {
    "duration": 19,
    "start_time": "2022-12-01T19:19:00.598Z"
   },
   {
    "duration": 53,
    "start_time": "2022-12-01T19:40:50.911Z"
   },
   {
    "duration": 42,
    "start_time": "2022-12-01T19:41:00.939Z"
   },
   {
    "duration": 31,
    "start_time": "2022-12-01T19:41:18.065Z"
   },
   {
    "duration": 36,
    "start_time": "2022-12-01T19:41:25.841Z"
   },
   {
    "duration": 38,
    "start_time": "2022-12-01T19:46:12.316Z"
   },
   {
    "duration": 33,
    "start_time": "2022-12-01T19:46:36.962Z"
   },
   {
    "duration": 109,
    "start_time": "2022-12-01T19:46:59.245Z"
   },
   {
    "duration": 213,
    "start_time": "2022-12-01T19:48:39.979Z"
   },
   {
    "duration": 4,
    "start_time": "2022-12-01T19:49:05.045Z"
   },
   {
    "duration": 209,
    "start_time": "2022-12-01T19:49:08.173Z"
   },
   {
    "duration": 35,
    "start_time": "2022-12-01T19:49:49.444Z"
   },
   {
    "duration": 26,
    "start_time": "2022-12-01T20:43:06.342Z"
   },
   {
    "duration": 5,
    "start_time": "2022-12-01T20:43:40.588Z"
   },
   {
    "duration": 6,
    "start_time": "2022-12-01T20:44:10.212Z"
   },
   {
    "duration": 166,
    "start_time": "2022-12-01T20:44:46.734Z"
   },
   {
    "duration": 155,
    "start_time": "2022-12-01T20:45:08.662Z"
   },
   {
    "duration": 6,
    "start_time": "2022-12-01T20:46:03.911Z"
   },
   {
    "duration": 23,
    "start_time": "2022-12-01T20:46:39.269Z"
   },
   {
    "duration": 5,
    "start_time": "2022-12-01T20:46:48.249Z"
   },
   {
    "duration": 7,
    "start_time": "2022-12-01T20:47:00.658Z"
   },
   {
    "duration": 147,
    "start_time": "2022-12-01T20:48:31.174Z"
   },
   {
    "duration": 170,
    "start_time": "2022-12-01T20:48:33.065Z"
   },
   {
    "duration": 6,
    "start_time": "2022-12-01T20:48:48.881Z"
   },
   {
    "duration": 158,
    "start_time": "2022-12-01T20:48:50.265Z"
   },
   {
    "duration": 49,
    "start_time": "2022-12-01T20:50:13.760Z"
   },
   {
    "duration": 38,
    "start_time": "2022-12-01T20:50:57.862Z"
   },
   {
    "duration": 23,
    "start_time": "2022-12-01T20:51:37.018Z"
   },
   {
    "duration": 49,
    "start_time": "2022-12-02T12:59:22.440Z"
   },
   {
    "duration": 1289,
    "start_time": "2022-12-02T12:59:28.025Z"
   },
   {
    "duration": 122,
    "start_time": "2022-12-02T12:59:29.316Z"
   },
   {
    "duration": 35,
    "start_time": "2022-12-02T12:59:29.440Z"
   },
   {
    "duration": 3,
    "start_time": "2022-12-02T12:59:29.478Z"
   },
   {
    "duration": 11,
    "start_time": "2022-12-02T12:59:29.483Z"
   },
   {
    "duration": 18,
    "start_time": "2022-12-02T12:59:29.495Z"
   },
   {
    "duration": 4,
    "start_time": "2022-12-02T12:59:29.516Z"
   },
   {
    "duration": 12,
    "start_time": "2022-12-02T12:59:29.521Z"
   },
   {
    "duration": 8,
    "start_time": "2022-12-02T12:59:29.534Z"
   },
   {
    "duration": 9,
    "start_time": "2022-12-02T12:59:29.544Z"
   },
   {
    "duration": 11,
    "start_time": "2022-12-02T12:59:29.554Z"
   },
   {
    "duration": 30,
    "start_time": "2022-12-02T12:59:29.566Z"
   },
   {
    "duration": 5,
    "start_time": "2022-12-02T12:59:29.598Z"
   },
   {
    "duration": 21,
    "start_time": "2022-12-02T12:59:29.604Z"
   },
   {
    "duration": 6,
    "start_time": "2022-12-02T12:59:29.627Z"
   },
   {
    "duration": 17,
    "start_time": "2022-12-02T12:59:29.634Z"
   },
   {
    "duration": 21,
    "start_time": "2022-12-02T12:59:29.653Z"
   },
   {
    "duration": 410,
    "start_time": "2022-12-02T12:59:29.675Z"
   },
   {
    "duration": 19,
    "start_time": "2022-12-02T12:59:30.087Z"
   },
   {
    "duration": 31,
    "start_time": "2022-12-02T12:59:30.107Z"
   },
   {
    "duration": 206,
    "start_time": "2022-12-02T12:59:30.140Z"
   },
   {
    "duration": 15,
    "start_time": "2022-12-02T12:59:30.349Z"
   },
   {
    "duration": 213,
    "start_time": "2022-12-02T12:59:30.366Z"
   },
   {
    "duration": 20,
    "start_time": "2022-12-02T12:59:30.581Z"
   },
   {
    "duration": 227,
    "start_time": "2022-12-02T12:59:30.603Z"
   },
   {
    "duration": 14,
    "start_time": "2022-12-02T12:59:30.831Z"
   },
   {
    "duration": 246,
    "start_time": "2022-12-02T12:59:30.846Z"
   },
   {
    "duration": 14,
    "start_time": "2022-12-02T12:59:31.096Z"
   },
   {
    "duration": 202,
    "start_time": "2022-12-02T12:59:31.112Z"
   },
   {
    "duration": 13,
    "start_time": "2022-12-02T12:59:31.319Z"
   },
   {
    "duration": 218,
    "start_time": "2022-12-02T12:59:31.334Z"
   },
   {
    "duration": 21,
    "start_time": "2022-12-02T12:59:31.554Z"
   },
   {
    "duration": 10,
    "start_time": "2022-12-02T12:59:31.577Z"
   },
   {
    "duration": 246,
    "start_time": "2022-12-02T12:59:31.588Z"
   },
   {
    "duration": 22,
    "start_time": "2022-12-02T12:59:31.836Z"
   },
   {
    "duration": 36,
    "start_time": "2022-12-02T12:59:31.860Z"
   },
   {
    "duration": 165,
    "start_time": "2022-12-02T12:59:31.898Z"
   },
   {
    "duration": 4,
    "start_time": "2022-12-02T12:59:32.065Z"
   },
   {
    "duration": 183,
    "start_time": "2022-12-02T12:59:32.071Z"
   },
   {
    "duration": 22,
    "start_time": "2022-12-02T12:59:32.256Z"
   },
   {
    "duration": 17,
    "start_time": "2022-12-02T12:59:32.280Z"
   },
   {
    "duration": 156,
    "start_time": "2022-12-02T12:59:32.299Z"
   },
   {
    "duration": 6,
    "start_time": "2022-12-02T12:59:32.456Z"
   },
   {
    "duration": 167,
    "start_time": "2022-12-02T12:59:32.464Z"
   },
   {
    "duration": 22,
    "start_time": "2022-12-02T12:59:32.633Z"
   },
   {
    "duration": 7,
    "start_time": "2022-12-02T12:59:32.657Z"
   },
   {
    "duration": 58,
    "start_time": "2022-12-02T12:59:32.666Z"
   },
   {
    "duration": 64,
    "start_time": "2022-12-02T13:02:28.733Z"
   },
   {
    "duration": 23,
    "start_time": "2022-12-02T13:02:43.196Z"
   },
   {
    "duration": 29,
    "start_time": "2022-12-02T13:06:56.480Z"
   },
   {
    "duration": 6,
    "start_time": "2022-12-02T13:07:01.366Z"
   },
   {
    "duration": 156,
    "start_time": "2022-12-02T13:07:04.441Z"
   },
   {
    "duration": 5,
    "start_time": "2022-12-02T13:07:23.591Z"
   },
   {
    "duration": 155,
    "start_time": "2022-12-02T13:07:24.860Z"
   },
   {
    "duration": 29,
    "start_time": "2022-12-02T13:08:44.417Z"
   },
   {
    "duration": 6,
    "start_time": "2022-12-02T13:10:16.025Z"
   },
   {
    "duration": 174,
    "start_time": "2022-12-02T13:10:17.506Z"
   },
   {
    "duration": 146,
    "start_time": "2022-12-02T13:21:23.421Z"
   },
   {
    "duration": 6,
    "start_time": "2022-12-02T13:21:25.295Z"
   },
   {
    "duration": 194,
    "start_time": "2022-12-02T13:21:25.935Z"
   },
   {
    "duration": 154,
    "start_time": "2022-12-02T13:24:08.345Z"
   },
   {
    "duration": 232,
    "start_time": "2022-12-02T13:24:17.502Z"
   },
   {
    "duration": 195,
    "start_time": "2022-12-02T13:25:20.203Z"
   },
   {
    "duration": 7,
    "start_time": "2022-12-02T14:00:41.618Z"
   },
   {
    "duration": 36,
    "start_time": "2022-12-02T14:00:47.496Z"
   },
   {
    "duration": 29,
    "start_time": "2022-12-02T14:01:01.143Z"
   },
   {
    "duration": 32,
    "start_time": "2022-12-02T14:01:08.935Z"
   },
   {
    "duration": 33,
    "start_time": "2022-12-02T14:01:16.568Z"
   },
   {
    "duration": 1168,
    "start_time": "2022-12-04T06:59:56.752Z"
   },
   {
    "duration": 109,
    "start_time": "2022-12-04T06:59:57.921Z"
   },
   {
    "duration": 24,
    "start_time": "2022-12-04T06:59:58.032Z"
   },
   {
    "duration": 10,
    "start_time": "2022-12-04T06:59:58.057Z"
   },
   {
    "duration": 25,
    "start_time": "2022-12-04T06:59:58.068Z"
   },
   {
    "duration": 19,
    "start_time": "2022-12-04T06:59:58.095Z"
   },
   {
    "duration": 3,
    "start_time": "2022-12-04T06:59:58.116Z"
   },
   {
    "duration": 16,
    "start_time": "2022-12-04T06:59:58.120Z"
   },
   {
    "duration": 7,
    "start_time": "2022-12-04T06:59:58.138Z"
   },
   {
    "duration": 4,
    "start_time": "2022-12-04T06:59:58.148Z"
   },
   {
    "duration": 12,
    "start_time": "2022-12-04T06:59:58.154Z"
   },
   {
    "duration": 9,
    "start_time": "2022-12-04T06:59:58.167Z"
   },
   {
    "duration": 19,
    "start_time": "2022-12-04T06:59:58.177Z"
   },
   {
    "duration": 15,
    "start_time": "2022-12-04T06:59:58.197Z"
   },
   {
    "duration": 4,
    "start_time": "2022-12-04T06:59:58.214Z"
   },
   {
    "duration": 14,
    "start_time": "2022-12-04T06:59:58.219Z"
   },
   {
    "duration": 18,
    "start_time": "2022-12-04T06:59:58.234Z"
   },
   {
    "duration": 343,
    "start_time": "2022-12-04T06:59:58.253Z"
   },
   {
    "duration": 13,
    "start_time": "2022-12-04T06:59:58.598Z"
   },
   {
    "duration": 28,
    "start_time": "2022-12-04T06:59:58.612Z"
   },
   {
    "duration": 180,
    "start_time": "2022-12-04T06:59:58.641Z"
   },
   {
    "duration": 10,
    "start_time": "2022-12-04T06:59:58.823Z"
   },
   {
    "duration": 186,
    "start_time": "2022-12-04T06:59:58.835Z"
   },
   {
    "duration": 11,
    "start_time": "2022-12-04T06:59:59.022Z"
   },
   {
    "duration": 170,
    "start_time": "2022-12-04T06:59:59.035Z"
   },
   {
    "duration": 19,
    "start_time": "2022-12-04T06:59:59.206Z"
   },
   {
    "duration": 168,
    "start_time": "2022-12-04T06:59:59.226Z"
   },
   {
    "duration": 10,
    "start_time": "2022-12-04T06:59:59.397Z"
   },
   {
    "duration": 165,
    "start_time": "2022-12-04T06:59:59.409Z"
   },
   {
    "duration": 11,
    "start_time": "2022-12-04T06:59:59.576Z"
   },
   {
    "duration": 164,
    "start_time": "2022-12-04T06:59:59.588Z"
   },
   {
    "duration": 18,
    "start_time": "2022-12-04T06:59:59.753Z"
   },
   {
    "duration": 3,
    "start_time": "2022-12-04T06:59:59.772Z"
   },
   {
    "duration": 205,
    "start_time": "2022-12-04T06:59:59.776Z"
   },
   {
    "duration": 21,
    "start_time": "2022-12-04T06:59:59.982Z"
   },
   {
    "duration": 4,
    "start_time": "2022-12-04T07:00:00.004Z"
   },
   {
    "duration": 139,
    "start_time": "2022-12-04T07:00:00.022Z"
   },
   {
    "duration": 4,
    "start_time": "2022-12-04T07:00:00.163Z"
   },
   {
    "duration": 156,
    "start_time": "2022-12-04T07:00:00.168Z"
   },
   {
    "duration": 20,
    "start_time": "2022-12-04T07:00:00.325Z"
   },
   {
    "duration": 34,
    "start_time": "2022-12-04T07:00:00.347Z"
   },
   {
    "duration": 146,
    "start_time": "2022-12-04T07:00:00.382Z"
   },
   {
    "duration": 4,
    "start_time": "2022-12-04T07:00:00.530Z"
   },
   {
    "duration": 176,
    "start_time": "2022-12-04T07:00:00.535Z"
   },
   {
    "duration": 26,
    "start_time": "2022-12-04T07:00:00.712Z"
   },
   {
    "duration": 155,
    "start_time": "2022-12-04T07:00:00.739Z"
   },
   {
    "duration": 216,
    "start_time": "2022-12-04T07:00:00.895Z"
   },
   {
    "duration": 10,
    "start_time": "2022-12-04T07:00:01.112Z"
   },
   {
    "duration": 166,
    "start_time": "2022-12-04T07:00:01.123Z"
   },
   {
    "duration": 0,
    "start_time": "2022-12-04T07:00:01.291Z"
   },
   {
    "duration": 0,
    "start_time": "2022-12-04T07:00:01.292Z"
   },
   {
    "duration": 46,
    "start_time": "2022-12-04T07:07:42.638Z"
   },
   {
    "duration": 34,
    "start_time": "2022-12-04T07:08:02.952Z"
   },
   {
    "duration": 31,
    "start_time": "2022-12-04T07:09:01.245Z"
   },
   {
    "duration": 9,
    "start_time": "2022-12-04T07:10:54.032Z"
   },
   {
    "duration": 153,
    "start_time": "2022-12-04T07:11:04.008Z"
   },
   {
    "duration": 7,
    "start_time": "2022-12-04T07:11:13.934Z"
   },
   {
    "duration": 32,
    "start_time": "2022-12-04T07:11:49.888Z"
   },
   {
    "duration": 209,
    "start_time": "2022-12-04T07:13:11.771Z"
   },
   {
    "duration": 32,
    "start_time": "2022-12-04T07:14:20.460Z"
   },
   {
    "duration": 26,
    "start_time": "2022-12-04T07:15:01.067Z"
   },
   {
    "duration": 32,
    "start_time": "2022-12-04T07:15:17.920Z"
   },
   {
    "duration": 42,
    "start_time": "2022-12-04T07:20:50.533Z"
   },
   {
    "duration": 31,
    "start_time": "2022-12-04T07:21:05.493Z"
   },
   {
    "duration": 31,
    "start_time": "2022-12-04T07:21:40.262Z"
   },
   {
    "duration": 34,
    "start_time": "2022-12-04T07:22:07.604Z"
   },
   {
    "duration": 210,
    "start_time": "2022-12-04T07:25:17.801Z"
   },
   {
    "duration": 227,
    "start_time": "2022-12-04T07:25:51.239Z"
   },
   {
    "duration": 197,
    "start_time": "2022-12-04T07:26:16.616Z"
   },
   {
    "duration": 198,
    "start_time": "2022-12-04T07:29:42.910Z"
   },
   {
    "duration": 38,
    "start_time": "2022-12-04T07:30:11.474Z"
   },
   {
    "duration": 16,
    "start_time": "2022-12-04T07:35:23.322Z"
   },
   {
    "duration": 16,
    "start_time": "2022-12-04T07:35:48.451Z"
   },
   {
    "duration": 17,
    "start_time": "2022-12-04T07:36:36.854Z"
   },
   {
    "duration": 9,
    "start_time": "2022-12-04T07:41:14.575Z"
   },
   {
    "duration": 16,
    "start_time": "2022-12-04T07:41:17.450Z"
   },
   {
    "duration": 4,
    "start_time": "2022-12-04T07:41:18.612Z"
   },
   {
    "duration": 6,
    "start_time": "2022-12-04T07:41:30.552Z"
   },
   {
    "duration": 10,
    "start_time": "2022-12-04T07:41:49.991Z"
   },
   {
    "duration": 11,
    "start_time": "2022-12-04T07:43:02.176Z"
   },
   {
    "duration": 9,
    "start_time": "2022-12-04T07:43:29.242Z"
   },
   {
    "duration": 12,
    "start_time": "2022-12-04T07:43:51.363Z"
   },
   {
    "duration": 11,
    "start_time": "2022-12-04T07:43:51.878Z"
   },
   {
    "duration": 11,
    "start_time": "2022-12-04T07:44:11.903Z"
   },
   {
    "duration": 10,
    "start_time": "2022-12-04T07:44:43.323Z"
   },
   {
    "duration": 8,
    "start_time": "2022-12-04T07:45:43.430Z"
   },
   {
    "duration": 9,
    "start_time": "2022-12-04T07:45:49.467Z"
   },
   {
    "duration": 175,
    "start_time": "2022-12-04T07:48:24.196Z"
   },
   {
    "duration": 10,
    "start_time": "2022-12-04T07:51:52.479Z"
   },
   {
    "duration": 30,
    "start_time": "2022-12-04T08:05:35.639Z"
   },
   {
    "duration": 30,
    "start_time": "2022-12-04T08:05:46.416Z"
   },
   {
    "duration": 30,
    "start_time": "2022-12-04T08:06:54.648Z"
   },
   {
    "duration": 760,
    "start_time": "2022-12-04T08:09:52.796Z"
   },
   {
    "duration": 1276,
    "start_time": "2022-12-04T08:10:03.181Z"
   },
   {
    "duration": 16,
    "start_time": "2022-12-04T08:18:06.101Z"
   },
   {
    "duration": 4,
    "start_time": "2022-12-04T08:18:07.271Z"
   },
   {
    "duration": 11,
    "start_time": "2022-12-04T08:18:21.297Z"
   },
   {
    "duration": 12,
    "start_time": "2022-12-04T08:18:24.476Z"
   },
   {
    "duration": 14,
    "start_time": "2022-12-04T08:20:00.960Z"
   },
   {
    "duration": 13,
    "start_time": "2022-12-04T08:20:01.391Z"
   },
   {
    "duration": 9,
    "start_time": "2022-12-04T08:25:29.859Z"
   },
   {
    "duration": 225,
    "start_time": "2022-12-04T08:25:50.731Z"
   },
   {
    "duration": 15,
    "start_time": "2022-12-04T08:25:56.157Z"
   },
   {
    "duration": 15,
    "start_time": "2022-12-04T08:26:39.490Z"
   },
   {
    "duration": 284,
    "start_time": "2022-12-04T08:26:48.872Z"
   },
   {
    "duration": 661,
    "start_time": "2022-12-04T08:30:13.552Z"
   },
   {
    "duration": 11,
    "start_time": "2022-12-04T08:30:16.229Z"
   },
   {
    "duration": 718,
    "start_time": "2022-12-04T08:30:17.088Z"
   },
   {
    "duration": 710,
    "start_time": "2022-12-04T08:30:55.301Z"
   },
   {
    "duration": 34,
    "start_time": "2022-12-04T08:31:28.881Z"
   },
   {
    "duration": 14,
    "start_time": "2022-12-04T08:31:35.279Z"
   },
   {
    "duration": 12,
    "start_time": "2022-12-04T08:31:35.862Z"
   },
   {
    "duration": 85,
    "start_time": "2022-12-04T08:31:37.198Z"
   },
   {
    "duration": 11,
    "start_time": "2022-12-04T08:31:37.646Z"
   },
   {
    "duration": 12,
    "start_time": "2022-12-04T08:31:39.046Z"
   },
   {
    "duration": 754,
    "start_time": "2022-12-04T08:31:39.749Z"
   },
   {
    "duration": 17,
    "start_time": "2022-12-04T08:32:11.176Z"
   },
   {
    "duration": 784,
    "start_time": "2022-12-04T08:32:20.577Z"
   },
   {
    "duration": 683,
    "start_time": "2022-12-04T08:32:46.656Z"
   },
   {
    "duration": 664,
    "start_time": "2022-12-04T08:33:20.022Z"
   },
   {
    "duration": 10,
    "start_time": "2022-12-04T08:33:39.194Z"
   },
   {
    "duration": 10,
    "start_time": "2022-12-04T08:46:39.499Z"
   },
   {
    "duration": 8,
    "start_time": "2022-12-04T08:47:24.880Z"
   },
   {
    "duration": 12,
    "start_time": "2022-12-04T08:47:27.092Z"
   },
   {
    "duration": 683,
    "start_time": "2022-12-04T08:47:27.574Z"
   },
   {
    "duration": 11,
    "start_time": "2022-12-04T08:47:38.202Z"
   },
   {
    "duration": 11,
    "start_time": "2022-12-04T08:47:39.041Z"
   },
   {
    "duration": 11,
    "start_time": "2022-12-04T09:40:19.832Z"
   },
   {
    "duration": 15,
    "start_time": "2022-12-04T09:40:25.369Z"
   },
   {
    "duration": 8,
    "start_time": "2022-12-04T09:50:52.020Z"
   },
   {
    "duration": 12,
    "start_time": "2022-12-04T09:51:02.148Z"
   },
   {
    "duration": 12,
    "start_time": "2022-12-04T09:51:03.101Z"
   },
   {
    "duration": 9,
    "start_time": "2022-12-04T10:57:20.862Z"
   },
   {
    "duration": 12,
    "start_time": "2022-12-04T10:59:38.097Z"
   },
   {
    "duration": 18,
    "start_time": "2022-12-04T10:59:47.580Z"
   },
   {
    "duration": 18,
    "start_time": "2022-12-04T11:00:40.145Z"
   },
   {
    "duration": 17,
    "start_time": "2022-12-04T11:00:53.785Z"
   },
   {
    "duration": 17,
    "start_time": "2022-12-04T11:02:02.506Z"
   },
   {
    "duration": 168,
    "start_time": "2022-12-04T11:02:31.513Z"
   },
   {
    "duration": 11,
    "start_time": "2022-12-04T11:03:48.357Z"
   },
   {
    "duration": 9,
    "start_time": "2022-12-04T11:05:35.100Z"
   },
   {
    "duration": 147,
    "start_time": "2022-12-04T11:05:49.700Z"
   },
   {
    "duration": 11,
    "start_time": "2022-12-04T11:05:51.971Z"
   },
   {
    "duration": 146,
    "start_time": "2022-12-04T11:05:53.324Z"
   },
   {
    "duration": 12,
    "start_time": "2022-12-04T11:06:50.638Z"
   },
   {
    "duration": 11,
    "start_time": "2022-12-04T11:06:56.373Z"
   },
   {
    "duration": 18,
    "start_time": "2022-12-04T11:07:04.765Z"
   },
   {
    "duration": 27,
    "start_time": "2022-12-04T11:08:04.813Z"
   },
   {
    "duration": 34,
    "start_time": "2022-12-04T11:09:35.239Z"
   },
   {
    "duration": 18,
    "start_time": "2022-12-04T11:10:13.047Z"
   },
   {
    "duration": 45,
    "start_time": "2022-12-04T18:21:42.112Z"
   },
   {
    "duration": 1281,
    "start_time": "2022-12-04T18:21:46.705Z"
   },
   {
    "duration": 102,
    "start_time": "2022-12-04T18:21:47.988Z"
   },
   {
    "duration": 28,
    "start_time": "2022-12-04T18:21:48.091Z"
   },
   {
    "duration": 3,
    "start_time": "2022-12-04T18:21:48.120Z"
   },
   {
    "duration": 6,
    "start_time": "2022-12-04T18:21:48.125Z"
   },
   {
    "duration": 20,
    "start_time": "2022-12-04T18:21:48.132Z"
   },
   {
    "duration": 4,
    "start_time": "2022-12-04T18:21:48.154Z"
   },
   {
    "duration": 27,
    "start_time": "2022-12-04T18:21:48.159Z"
   },
   {
    "duration": 11,
    "start_time": "2022-12-04T18:21:48.187Z"
   },
   {
    "duration": 7,
    "start_time": "2022-12-04T18:21:48.199Z"
   },
   {
    "duration": 9,
    "start_time": "2022-12-04T18:21:48.208Z"
   },
   {
    "duration": 6,
    "start_time": "2022-12-04T18:21:48.218Z"
   },
   {
    "duration": 8,
    "start_time": "2022-12-04T18:21:48.226Z"
   },
   {
    "duration": 16,
    "start_time": "2022-12-04T18:21:48.236Z"
   },
   {
    "duration": 5,
    "start_time": "2022-12-04T18:21:48.253Z"
   },
   {
    "duration": 14,
    "start_time": "2022-12-04T18:21:48.259Z"
   },
   {
    "duration": 15,
    "start_time": "2022-12-04T18:21:48.297Z"
   },
   {
    "duration": 326,
    "start_time": "2022-12-04T18:21:48.313Z"
   },
   {
    "duration": 13,
    "start_time": "2022-12-04T18:21:48.641Z"
   },
   {
    "duration": 20,
    "start_time": "2022-12-04T18:21:48.656Z"
   },
   {
    "duration": 191,
    "start_time": "2022-12-04T18:21:48.677Z"
   },
   {
    "duration": 11,
    "start_time": "2022-12-04T18:21:48.870Z"
   },
   {
    "duration": 185,
    "start_time": "2022-12-04T18:21:48.883Z"
   },
   {
    "duration": 12,
    "start_time": "2022-12-04T18:21:49.070Z"
   },
   {
    "duration": 196,
    "start_time": "2022-12-04T18:21:49.083Z"
   },
   {
    "duration": 17,
    "start_time": "2022-12-04T18:21:49.280Z"
   },
   {
    "duration": 163,
    "start_time": "2022-12-04T18:21:49.299Z"
   },
   {
    "duration": 10,
    "start_time": "2022-12-04T18:21:49.463Z"
   },
   {
    "duration": 171,
    "start_time": "2022-12-04T18:21:49.475Z"
   },
   {
    "duration": 11,
    "start_time": "2022-12-04T18:21:49.648Z"
   },
   {
    "duration": 167,
    "start_time": "2022-12-04T18:21:49.661Z"
   },
   {
    "duration": 20,
    "start_time": "2022-12-04T18:21:49.830Z"
   },
   {
    "duration": 4,
    "start_time": "2022-12-04T18:21:49.852Z"
   },
   {
    "duration": 230,
    "start_time": "2022-12-04T18:21:49.858Z"
   },
   {
    "duration": 26,
    "start_time": "2022-12-04T18:21:50.091Z"
   },
   {
    "duration": 6,
    "start_time": "2022-12-04T18:21:50.119Z"
   },
   {
    "duration": 144,
    "start_time": "2022-12-04T18:21:50.126Z"
   },
   {
    "duration": 4,
    "start_time": "2022-12-04T18:21:50.272Z"
   },
   {
    "duration": 139,
    "start_time": "2022-12-04T18:21:50.278Z"
   },
   {
    "duration": 21,
    "start_time": "2022-12-04T18:21:50.419Z"
   },
   {
    "duration": 5,
    "start_time": "2022-12-04T18:21:50.443Z"
   },
   {
    "duration": 152,
    "start_time": "2022-12-04T18:21:50.449Z"
   },
   {
    "duration": 4,
    "start_time": "2022-12-04T18:21:50.602Z"
   },
   {
    "duration": 138,
    "start_time": "2022-12-04T18:21:50.608Z"
   },
   {
    "duration": 18,
    "start_time": "2022-12-04T18:21:50.748Z"
   },
   {
    "duration": 4,
    "start_time": "2022-12-04T18:21:50.767Z"
   },
   {
    "duration": 143,
    "start_time": "2022-12-04T18:21:50.773Z"
   },
   {
    "duration": 4,
    "start_time": "2022-12-04T18:21:50.918Z"
   },
   {
    "duration": 147,
    "start_time": "2022-12-04T18:21:50.924Z"
   },
   {
    "duration": 6,
    "start_time": "2022-12-04T18:21:51.073Z"
   },
   {
    "duration": 46,
    "start_time": "2022-12-04T18:21:51.081Z"
   },
   {
    "duration": 12,
    "start_time": "2022-12-04T18:21:51.129Z"
   },
   {
    "duration": 11,
    "start_time": "2022-12-04T18:21:51.142Z"
   },
   {
    "duration": 15,
    "start_time": "2022-12-04T18:21:51.155Z"
   },
   {
    "duration": 34,
    "start_time": "2022-12-04T18:21:51.172Z"
   },
   {
    "duration": 14,
    "start_time": "2022-12-04T18:21:51.208Z"
   },
   {
    "duration": 12,
    "start_time": "2022-12-04T18:21:51.224Z"
   },
   {
    "duration": 12,
    "start_time": "2022-12-04T18:21:51.237Z"
   },
   {
    "duration": 12,
    "start_time": "2022-12-04T18:21:51.250Z"
   },
   {
    "duration": 36,
    "start_time": "2022-12-04T18:21:51.264Z"
   },
   {
    "duration": 10,
    "start_time": "2022-12-04T18:21:51.301Z"
   },
   {
    "duration": 19,
    "start_time": "2022-12-04T18:21:51.312Z"
   },
   {
    "duration": 11,
    "start_time": "2022-12-04T18:21:51.333Z"
   },
   {
    "duration": 26,
    "start_time": "2022-12-04T18:21:51.345Z"
   },
   {
    "duration": 17,
    "start_time": "2022-12-04T18:25:51.844Z"
   },
   {
    "duration": 1356,
    "start_time": "2022-12-05T04:48:17.094Z"
   },
   {
    "duration": 107,
    "start_time": "2022-12-05T04:48:18.453Z"
   },
   {
    "duration": 30,
    "start_time": "2022-12-05T04:48:18.562Z"
   },
   {
    "duration": 4,
    "start_time": "2022-12-05T04:48:18.594Z"
   },
   {
    "duration": 14,
    "start_time": "2022-12-05T04:48:18.600Z"
   },
   {
    "duration": 31,
    "start_time": "2022-12-05T04:48:18.616Z"
   },
   {
    "duration": 17,
    "start_time": "2022-12-05T04:48:18.648Z"
   },
   {
    "duration": 11,
    "start_time": "2022-12-05T04:48:18.668Z"
   },
   {
    "duration": 14,
    "start_time": "2022-12-05T04:48:18.680Z"
   },
   {
    "duration": 16,
    "start_time": "2022-12-05T04:48:18.696Z"
   },
   {
    "duration": 19,
    "start_time": "2022-12-05T04:48:18.713Z"
   },
   {
    "duration": 19,
    "start_time": "2022-12-05T04:48:18.733Z"
   },
   {
    "duration": 23,
    "start_time": "2022-12-05T04:48:18.753Z"
   },
   {
    "duration": 30,
    "start_time": "2022-12-05T04:48:18.780Z"
   },
   {
    "duration": 8,
    "start_time": "2022-12-05T04:48:18.812Z"
   },
   {
    "duration": 23,
    "start_time": "2022-12-05T04:48:18.822Z"
   },
   {
    "duration": 17,
    "start_time": "2022-12-05T04:48:18.848Z"
   },
   {
    "duration": 383,
    "start_time": "2022-12-05T04:48:18.868Z"
   },
   {
    "duration": 21,
    "start_time": "2022-12-05T04:48:19.252Z"
   },
   {
    "duration": 38,
    "start_time": "2022-12-05T04:48:19.275Z"
   },
   {
    "duration": 242,
    "start_time": "2022-12-05T04:48:19.314Z"
   },
   {
    "duration": 11,
    "start_time": "2022-12-05T04:48:19.558Z"
   },
   {
    "duration": 222,
    "start_time": "2022-12-05T04:48:19.571Z"
   },
   {
    "duration": 19,
    "start_time": "2022-12-05T04:48:19.795Z"
   },
   {
    "duration": 218,
    "start_time": "2022-12-05T04:48:19.815Z"
   },
   {
    "duration": 13,
    "start_time": "2022-12-05T04:48:20.035Z"
   },
   {
    "duration": 218,
    "start_time": "2022-12-05T04:48:20.049Z"
   },
   {
    "duration": 13,
    "start_time": "2022-12-05T04:48:20.268Z"
   },
   {
    "duration": 202,
    "start_time": "2022-12-05T04:48:20.282Z"
   },
   {
    "duration": 12,
    "start_time": "2022-12-05T04:48:20.486Z"
   },
   {
    "duration": 196,
    "start_time": "2022-12-05T04:48:20.500Z"
   },
   {
    "duration": 26,
    "start_time": "2022-12-05T04:48:20.698Z"
   },
   {
    "duration": 3,
    "start_time": "2022-12-05T04:48:20.726Z"
   },
   {
    "duration": 240,
    "start_time": "2022-12-05T04:48:20.731Z"
   },
   {
    "duration": 22,
    "start_time": "2022-12-05T04:48:20.972Z"
   },
   {
    "duration": 18,
    "start_time": "2022-12-05T04:48:20.996Z"
   },
   {
    "duration": 161,
    "start_time": "2022-12-05T04:48:21.016Z"
   },
   {
    "duration": 5,
    "start_time": "2022-12-05T04:48:21.179Z"
   },
   {
    "duration": 166,
    "start_time": "2022-12-05T04:48:21.185Z"
   },
   {
    "duration": 23,
    "start_time": "2022-12-05T04:48:21.353Z"
   },
   {
    "duration": 16,
    "start_time": "2022-12-05T04:48:21.380Z"
   },
   {
    "duration": 177,
    "start_time": "2022-12-05T04:48:21.397Z"
   },
   {
    "duration": 4,
    "start_time": "2022-12-05T04:48:21.576Z"
   },
   {
    "duration": 181,
    "start_time": "2022-12-05T04:48:21.582Z"
   },
   {
    "duration": 21,
    "start_time": "2022-12-05T04:48:21.765Z"
   },
   {
    "duration": 10,
    "start_time": "2022-12-05T04:48:21.788Z"
   },
   {
    "duration": 169,
    "start_time": "2022-12-05T04:48:21.800Z"
   },
   {
    "duration": 5,
    "start_time": "2022-12-05T04:48:21.971Z"
   },
   {
    "duration": 175,
    "start_time": "2022-12-05T04:48:21.978Z"
   },
   {
    "duration": 7,
    "start_time": "2022-12-05T04:48:22.155Z"
   },
   {
    "duration": 50,
    "start_time": "2022-12-05T04:48:22.164Z"
   },
   {
    "duration": 12,
    "start_time": "2022-12-05T04:48:22.216Z"
   },
   {
    "duration": 28,
    "start_time": "2022-12-05T04:48:22.230Z"
   },
   {
    "duration": 27,
    "start_time": "2022-12-05T04:48:22.259Z"
   },
   {
    "duration": 34,
    "start_time": "2022-12-05T04:48:22.288Z"
   },
   {
    "duration": 28,
    "start_time": "2022-12-05T04:48:22.323Z"
   },
   {
    "duration": 16,
    "start_time": "2022-12-05T04:48:22.353Z"
   },
   {
    "duration": 37,
    "start_time": "2022-12-05T04:48:22.371Z"
   },
   {
    "duration": 19,
    "start_time": "2022-12-05T04:48:22.409Z"
   },
   {
    "duration": 21,
    "start_time": "2022-12-05T04:48:22.430Z"
   },
   {
    "duration": 30,
    "start_time": "2022-12-05T04:48:22.452Z"
   },
   {
    "duration": 32,
    "start_time": "2022-12-05T04:48:22.483Z"
   },
   {
    "duration": 19,
    "start_time": "2022-12-05T04:48:22.517Z"
   },
   {
    "duration": 37,
    "start_time": "2022-12-05T04:48:22.537Z"
   },
   {
    "duration": 240,
    "start_time": "2022-12-05T04:50:26.630Z"
   },
   {
    "duration": 14,
    "start_time": "2022-12-05T04:50:30.352Z"
   },
   {
    "duration": 14,
    "start_time": "2022-12-05T04:50:31.016Z"
   },
   {
    "duration": 16,
    "start_time": "2022-12-05T04:50:31.542Z"
   },
   {
    "duration": 13,
    "start_time": "2022-12-05T04:50:32.239Z"
   },
   {
    "duration": 10,
    "start_time": "2022-12-05T04:50:38.668Z"
   },
   {
    "duration": 245,
    "start_time": "2022-12-05T04:50:57.283Z"
   },
   {
    "duration": 307,
    "start_time": "2022-12-05T04:51:12.909Z"
   },
   {
    "duration": 130,
    "start_time": "2022-12-05T04:51:41.919Z"
   },
   {
    "duration": 126,
    "start_time": "2022-12-05T04:51:48.214Z"
   },
   {
    "duration": 47,
    "start_time": "2022-12-05T04:51:54.105Z"
   },
   {
    "duration": 260,
    "start_time": "2022-12-05T04:51:59.170Z"
   },
   {
    "duration": 13,
    "start_time": "2022-12-05T04:54:17.856Z"
   },
   {
    "duration": 13,
    "start_time": "2022-12-05T04:54:18.560Z"
   },
   {
    "duration": 49,
    "start_time": "2022-12-05T06:03:31.446Z"
   },
   {
    "duration": 215,
    "start_time": "2022-12-05T06:04:15.839Z"
   },
   {
    "duration": 9,
    "start_time": "2022-12-05T06:07:30.600Z"
   },
   {
    "duration": 9,
    "start_time": "2022-12-05T06:09:01.560Z"
   },
   {
    "duration": 5,
    "start_time": "2022-12-05T06:11:17.437Z"
   },
   {
    "duration": 6,
    "start_time": "2022-12-05T06:13:08.379Z"
   },
   {
    "duration": 10,
    "start_time": "2022-12-05T06:15:44.274Z"
   },
   {
    "duration": 5,
    "start_time": "2022-12-05T06:15:45.610Z"
   },
   {
    "duration": 5,
    "start_time": "2022-12-05T07:10:47.154Z"
   },
   {
    "duration": 5,
    "start_time": "2022-12-05T07:11:03.536Z"
   },
   {
    "duration": 11,
    "start_time": "2022-12-05T07:52:07.715Z"
   },
   {
    "duration": 5,
    "start_time": "2022-12-05T07:52:27.028Z"
   },
   {
    "duration": 11,
    "start_time": "2022-12-05T07:52:47.962Z"
   },
   {
    "duration": 5,
    "start_time": "2022-12-05T07:52:49.665Z"
   },
   {
    "duration": 10,
    "start_time": "2022-12-05T07:53:20.124Z"
   },
   {
    "duration": 5,
    "start_time": "2022-12-05T07:53:20.739Z"
   },
   {
    "duration": 53,
    "start_time": "2022-12-05T08:01:54.425Z"
   },
   {
    "duration": 10,
    "start_time": "2022-12-05T08:01:54.999Z"
   },
   {
    "duration": 15,
    "start_time": "2022-12-05T08:02:03.615Z"
   },
   {
    "duration": 6,
    "start_time": "2022-12-05T08:02:04.080Z"
   },
   {
    "duration": 11,
    "start_time": "2022-12-05T08:02:06.087Z"
   },
   {
    "duration": 7,
    "start_time": "2022-12-05T08:02:06.825Z"
   },
   {
    "duration": 1343,
    "start_time": "2022-12-05T13:57:43.700Z"
   },
   {
    "duration": 105,
    "start_time": "2022-12-05T13:57:45.045Z"
   },
   {
    "duration": 29,
    "start_time": "2022-12-05T13:57:45.151Z"
   },
   {
    "duration": 3,
    "start_time": "2022-12-05T13:57:45.182Z"
   },
   {
    "duration": 8,
    "start_time": "2022-12-05T13:57:45.187Z"
   },
   {
    "duration": 16,
    "start_time": "2022-12-05T13:57:45.197Z"
   },
   {
    "duration": 4,
    "start_time": "2022-12-05T13:57:45.214Z"
   },
   {
    "duration": 9,
    "start_time": "2022-12-05T13:57:45.219Z"
   },
   {
    "duration": 18,
    "start_time": "2022-12-05T13:57:45.230Z"
   },
   {
    "duration": 9,
    "start_time": "2022-12-05T13:57:45.251Z"
   },
   {
    "duration": 16,
    "start_time": "2022-12-05T13:57:45.261Z"
   },
   {
    "duration": 5,
    "start_time": "2022-12-05T13:57:45.279Z"
   },
   {
    "duration": 13,
    "start_time": "2022-12-05T13:57:45.285Z"
   },
   {
    "duration": 19,
    "start_time": "2022-12-05T13:57:45.300Z"
   },
   {
    "duration": 5,
    "start_time": "2022-12-05T13:57:45.321Z"
   },
   {
    "duration": 17,
    "start_time": "2022-12-05T13:57:45.328Z"
   },
   {
    "duration": 41,
    "start_time": "2022-12-05T13:57:45.347Z"
   },
   {
    "duration": 365,
    "start_time": "2022-12-05T13:57:45.390Z"
   },
   {
    "duration": 21,
    "start_time": "2022-12-05T13:57:45.757Z"
   },
   {
    "duration": 22,
    "start_time": "2022-12-05T13:57:45.780Z"
   },
   {
    "duration": 222,
    "start_time": "2022-12-05T13:57:45.804Z"
   },
   {
    "duration": 13,
    "start_time": "2022-12-05T13:57:46.028Z"
   },
   {
    "duration": 213,
    "start_time": "2022-12-05T13:57:46.042Z"
   },
   {
    "duration": 21,
    "start_time": "2022-12-05T13:57:46.256Z"
   },
   {
    "duration": 192,
    "start_time": "2022-12-05T13:57:46.279Z"
   },
   {
    "duration": 13,
    "start_time": "2022-12-05T13:57:46.473Z"
   },
   {
    "duration": 203,
    "start_time": "2022-12-05T13:57:46.488Z"
   },
   {
    "duration": 12,
    "start_time": "2022-12-05T13:57:46.695Z"
   },
   {
    "duration": 201,
    "start_time": "2022-12-05T13:57:46.709Z"
   },
   {
    "duration": 12,
    "start_time": "2022-12-05T13:57:46.912Z"
   },
   {
    "duration": 201,
    "start_time": "2022-12-05T13:57:46.926Z"
   },
   {
    "duration": 23,
    "start_time": "2022-12-05T13:57:47.129Z"
   },
   {
    "duration": 4,
    "start_time": "2022-12-05T13:57:47.153Z"
   },
   {
    "duration": 262,
    "start_time": "2022-12-05T13:57:47.159Z"
   },
   {
    "duration": 24,
    "start_time": "2022-12-05T13:57:47.423Z"
   },
   {
    "duration": 5,
    "start_time": "2022-12-05T13:57:47.449Z"
   },
   {
    "duration": 168,
    "start_time": "2022-12-05T13:57:47.456Z"
   },
   {
    "duration": 5,
    "start_time": "2022-12-05T13:57:47.625Z"
   },
   {
    "duration": 172,
    "start_time": "2022-12-05T13:57:47.632Z"
   },
   {
    "duration": 21,
    "start_time": "2022-12-05T13:57:47.806Z"
   },
   {
    "duration": 8,
    "start_time": "2022-12-05T13:57:47.829Z"
   },
   {
    "duration": 180,
    "start_time": "2022-12-05T13:57:47.838Z"
   },
   {
    "duration": 4,
    "start_time": "2022-12-05T13:57:48.020Z"
   },
   {
    "duration": 166,
    "start_time": "2022-12-05T13:57:48.026Z"
   },
   {
    "duration": 23,
    "start_time": "2022-12-05T13:57:48.194Z"
   },
   {
    "duration": 8,
    "start_time": "2022-12-05T13:57:48.218Z"
   },
   {
    "duration": 175,
    "start_time": "2022-12-05T13:57:48.227Z"
   },
   {
    "duration": 6,
    "start_time": "2022-12-05T13:57:48.405Z"
   },
   {
    "duration": 229,
    "start_time": "2022-12-05T13:57:48.413Z"
   },
   {
    "duration": 8,
    "start_time": "2022-12-05T13:57:48.644Z"
   },
   {
    "duration": 54,
    "start_time": "2022-12-05T13:57:48.654Z"
   },
   {
    "duration": 14,
    "start_time": "2022-12-05T13:57:48.710Z"
   },
   {
    "duration": 13,
    "start_time": "2022-12-05T13:57:48.726Z"
   },
   {
    "duration": 37,
    "start_time": "2022-12-05T13:57:48.741Z"
   },
   {
    "duration": 13,
    "start_time": "2022-12-05T13:57:48.780Z"
   },
   {
    "duration": 18,
    "start_time": "2022-12-05T13:57:48.795Z"
   },
   {
    "duration": 12,
    "start_time": "2022-12-05T13:57:48.814Z"
   },
   {
    "duration": 15,
    "start_time": "2022-12-05T13:57:48.828Z"
   },
   {
    "duration": 38,
    "start_time": "2022-12-05T13:57:48.845Z"
   },
   {
    "duration": 12,
    "start_time": "2022-12-05T13:57:48.884Z"
   },
   {
    "duration": 15,
    "start_time": "2022-12-05T13:57:48.898Z"
   },
   {
    "duration": 14,
    "start_time": "2022-12-05T13:57:48.915Z"
   },
   {
    "duration": 12,
    "start_time": "2022-12-05T13:57:48.930Z"
   },
   {
    "duration": 53,
    "start_time": "2022-12-05T13:57:48.943Z"
   },
   {
    "duration": 11,
    "start_time": "2022-12-05T13:57:48.997Z"
   },
   {
    "duration": 17,
    "start_time": "2022-12-05T13:57:49.009Z"
   },
   {
    "duration": 20,
    "start_time": "2022-12-05T13:57:49.028Z"
   },
   {
    "duration": 11,
    "start_time": "2022-12-05T13:57:49.051Z"
   },
   {
    "duration": 55,
    "start_time": "2022-12-05T15:07:09.209Z"
   },
   {
    "duration": 52,
    "start_time": "2022-12-05T15:09:02.200Z"
   },
   {
    "duration": 1390,
    "start_time": "2022-12-05T15:11:20.100Z"
   },
   {
    "duration": 102,
    "start_time": "2022-12-05T15:11:21.492Z"
   },
   {
    "duration": 29,
    "start_time": "2022-12-05T15:11:21.596Z"
   },
   {
    "duration": 3,
    "start_time": "2022-12-05T15:11:21.627Z"
   },
   {
    "duration": 8,
    "start_time": "2022-12-05T15:11:21.632Z"
   },
   {
    "duration": 17,
    "start_time": "2022-12-05T15:11:21.641Z"
   },
   {
    "duration": 3,
    "start_time": "2022-12-05T15:11:21.660Z"
   },
   {
    "duration": 15,
    "start_time": "2022-12-05T15:11:21.665Z"
   },
   {
    "duration": 4,
    "start_time": "2022-12-05T15:11:21.682Z"
   },
   {
    "duration": 9,
    "start_time": "2022-12-05T15:11:21.688Z"
   },
   {
    "duration": 16,
    "start_time": "2022-12-05T15:11:21.698Z"
   },
   {
    "duration": 8,
    "start_time": "2022-12-05T15:11:21.716Z"
   },
   {
    "duration": 9,
    "start_time": "2022-12-05T15:11:21.725Z"
   },
   {
    "duration": 21,
    "start_time": "2022-12-05T15:11:21.735Z"
   },
   {
    "duration": 24,
    "start_time": "2022-12-05T15:11:21.757Z"
   },
   {
    "duration": 16,
    "start_time": "2022-12-05T15:11:21.783Z"
   },
   {
    "duration": 20,
    "start_time": "2022-12-05T15:11:21.800Z"
   },
   {
    "duration": 371,
    "start_time": "2022-12-05T15:11:21.822Z"
   },
   {
    "duration": 15,
    "start_time": "2022-12-05T15:11:22.194Z"
   },
   {
    "duration": 23,
    "start_time": "2022-12-05T15:11:22.210Z"
   },
   {
    "duration": 219,
    "start_time": "2022-12-05T15:11:22.234Z"
   },
   {
    "duration": 12,
    "start_time": "2022-12-05T15:11:22.455Z"
   },
   {
    "duration": 208,
    "start_time": "2022-12-05T15:11:22.477Z"
   },
   {
    "duration": 14,
    "start_time": "2022-12-05T15:11:22.687Z"
   },
   {
    "duration": 207,
    "start_time": "2022-12-05T15:11:22.703Z"
   },
   {
    "duration": 14,
    "start_time": "2022-12-05T15:11:22.912Z"
   },
   {
    "duration": 209,
    "start_time": "2022-12-05T15:11:22.928Z"
   },
   {
    "duration": 12,
    "start_time": "2022-12-05T15:11:23.141Z"
   },
   {
    "duration": 194,
    "start_time": "2022-12-05T15:11:23.155Z"
   },
   {
    "duration": 12,
    "start_time": "2022-12-05T15:11:23.351Z"
   },
   {
    "duration": 190,
    "start_time": "2022-12-05T15:11:23.378Z"
   },
   {
    "duration": 25,
    "start_time": "2022-12-05T15:11:23.570Z"
   },
   {
    "duration": 3,
    "start_time": "2022-12-05T15:11:23.596Z"
   },
   {
    "duration": 247,
    "start_time": "2022-12-05T15:11:23.601Z"
   },
   {
    "duration": 23,
    "start_time": "2022-12-05T15:11:23.850Z"
   },
   {
    "duration": 12,
    "start_time": "2022-12-05T15:11:23.877Z"
   },
   {
    "duration": 151,
    "start_time": "2022-12-05T15:11:23.891Z"
   },
   {
    "duration": 5,
    "start_time": "2022-12-05T15:11:24.044Z"
   },
   {
    "duration": 161,
    "start_time": "2022-12-05T15:11:24.050Z"
   },
   {
    "duration": 21,
    "start_time": "2022-12-05T15:11:24.213Z"
   },
   {
    "duration": 5,
    "start_time": "2022-12-05T15:11:24.236Z"
   },
   {
    "duration": 178,
    "start_time": "2022-12-05T15:11:24.242Z"
   },
   {
    "duration": 5,
    "start_time": "2022-12-05T15:11:24.422Z"
   },
   {
    "duration": 158,
    "start_time": "2022-12-05T15:11:24.428Z"
   },
   {
    "duration": 21,
    "start_time": "2022-12-05T15:11:24.588Z"
   },
   {
    "duration": 5,
    "start_time": "2022-12-05T15:11:24.611Z"
   },
   {
    "duration": 170,
    "start_time": "2022-12-05T15:11:24.617Z"
   },
   {
    "duration": 5,
    "start_time": "2022-12-05T15:11:24.789Z"
   },
   {
    "duration": 176,
    "start_time": "2022-12-05T15:11:24.795Z"
   },
   {
    "duration": 9,
    "start_time": "2022-12-05T15:11:24.972Z"
   },
   {
    "duration": 39,
    "start_time": "2022-12-05T15:11:24.983Z"
   },
   {
    "duration": 13,
    "start_time": "2022-12-05T15:11:25.024Z"
   },
   {
    "duration": 40,
    "start_time": "2022-12-05T15:11:25.039Z"
   },
   {
    "duration": 23,
    "start_time": "2022-12-05T15:11:25.080Z"
   },
   {
    "duration": 12,
    "start_time": "2022-12-05T15:11:25.105Z"
   },
   {
    "duration": 16,
    "start_time": "2022-12-05T15:11:25.119Z"
   },
   {
    "duration": 12,
    "start_time": "2022-12-05T15:11:25.136Z"
   },
   {
    "duration": 34,
    "start_time": "2022-12-05T15:11:25.150Z"
   },
   {
    "duration": 13,
    "start_time": "2022-12-05T15:11:25.186Z"
   },
   {
    "duration": 19,
    "start_time": "2022-12-05T15:11:25.201Z"
   },
   {
    "duration": 12,
    "start_time": "2022-12-05T15:11:25.221Z"
   },
   {
    "duration": 14,
    "start_time": "2022-12-05T15:11:25.235Z"
   },
   {
    "duration": 31,
    "start_time": "2022-12-05T15:11:25.250Z"
   },
   {
    "duration": 19,
    "start_time": "2022-12-05T15:11:25.282Z"
   },
   {
    "duration": 9,
    "start_time": "2022-12-05T15:11:25.303Z"
   },
   {
    "duration": 5,
    "start_time": "2022-12-05T15:11:25.314Z"
   },
   {
    "duration": 9,
    "start_time": "2022-12-05T15:11:25.321Z"
   },
   {
    "duration": 6,
    "start_time": "2022-12-05T15:11:25.332Z"
   },
   {
    "duration": 3,
    "start_time": "2022-12-05T15:17:20.898Z"
   },
   {
    "duration": 49,
    "start_time": "2022-12-05T15:17:21.247Z"
   },
   {
    "duration": 25,
    "start_time": "2022-12-05T15:17:21.609Z"
   },
   {
    "duration": 3,
    "start_time": "2022-12-05T15:17:21.921Z"
   },
   {
    "duration": 4,
    "start_time": "2022-12-05T15:17:22.264Z"
   },
   {
    "duration": 16,
    "start_time": "2022-12-05T15:17:22.608Z"
   },
   {
    "duration": 4,
    "start_time": "2022-12-05T15:17:23.643Z"
   },
   {
    "duration": 7,
    "start_time": "2022-12-05T15:17:24.226Z"
   },
   {
    "duration": 4,
    "start_time": "2022-12-05T15:17:24.420Z"
   },
   {
    "duration": 6,
    "start_time": "2022-12-05T15:17:25.164Z"
   },
   {
    "duration": 9,
    "start_time": "2022-12-05T15:17:26.871Z"
   },
   {
    "duration": 6,
    "start_time": "2022-12-05T15:17:35.760Z"
   },
   {
    "duration": 122,
    "start_time": "2022-12-05T15:33:40.607Z"
   },
   {
    "duration": 1405,
    "start_time": "2022-12-05T15:33:47.367Z"
   },
   {
    "duration": 52,
    "start_time": "2022-12-05T15:33:48.774Z"
   },
   {
    "duration": 32,
    "start_time": "2022-12-05T15:33:48.828Z"
   },
   {
    "duration": 4,
    "start_time": "2022-12-05T15:33:48.862Z"
   },
   {
    "duration": 8,
    "start_time": "2022-12-05T15:33:48.877Z"
   },
   {
    "duration": 25,
    "start_time": "2022-12-05T15:33:48.887Z"
   },
   {
    "duration": 5,
    "start_time": "2022-12-05T15:33:48.915Z"
   },
   {
    "duration": 22,
    "start_time": "2022-12-05T15:33:48.922Z"
   },
   {
    "duration": 26,
    "start_time": "2022-12-05T15:33:48.946Z"
   },
   {
    "duration": 8,
    "start_time": "2022-12-05T15:33:48.978Z"
   },
   {
    "duration": 18,
    "start_time": "2022-12-05T15:33:48.988Z"
   },
   {
    "duration": 8,
    "start_time": "2022-12-05T15:33:49.008Z"
   },
   {
    "duration": 8,
    "start_time": "2022-12-05T15:33:49.018Z"
   },
   {
    "duration": 54,
    "start_time": "2022-12-05T15:33:49.028Z"
   },
   {
    "duration": 7,
    "start_time": "2022-12-05T15:33:49.085Z"
   },
   {
    "duration": 29,
    "start_time": "2022-12-05T15:33:49.094Z"
   },
   {
    "duration": 33,
    "start_time": "2022-12-05T15:33:49.125Z"
   },
   {
    "duration": 409,
    "start_time": "2022-12-05T15:33:49.179Z"
   },
   {
    "duration": 16,
    "start_time": "2022-12-05T15:33:49.590Z"
   },
   {
    "duration": 26,
    "start_time": "2022-12-05T15:33:49.607Z"
   },
   {
    "duration": 287,
    "start_time": "2022-12-05T15:33:49.635Z"
   },
   {
    "duration": 14,
    "start_time": "2022-12-05T15:33:49.924Z"
   },
   {
    "duration": 229,
    "start_time": "2022-12-05T15:33:49.940Z"
   },
   {
    "duration": 14,
    "start_time": "2022-12-05T15:33:50.177Z"
   },
   {
    "duration": 219,
    "start_time": "2022-12-05T15:33:50.193Z"
   },
   {
    "duration": 13,
    "start_time": "2022-12-05T15:33:50.414Z"
   },
   {
    "duration": 216,
    "start_time": "2022-12-05T15:33:50.429Z"
   },
   {
    "duration": 14,
    "start_time": "2022-12-05T15:33:50.650Z"
   },
   {
    "duration": 221,
    "start_time": "2022-12-05T15:33:50.666Z"
   },
   {
    "duration": 15,
    "start_time": "2022-12-05T15:33:50.889Z"
   },
   {
    "duration": 237,
    "start_time": "2022-12-05T15:33:50.907Z"
   },
   {
    "duration": 33,
    "start_time": "2022-12-05T15:33:51.146Z"
   },
   {
    "duration": 5,
    "start_time": "2022-12-05T15:33:51.181Z"
   },
   {
    "duration": 265,
    "start_time": "2022-12-05T15:33:51.189Z"
   },
   {
    "duration": 26,
    "start_time": "2022-12-05T15:33:51.456Z"
   },
   {
    "duration": 19,
    "start_time": "2022-12-05T15:33:51.484Z"
   },
   {
    "duration": 173,
    "start_time": "2022-12-05T15:33:51.505Z"
   },
   {
    "duration": 5,
    "start_time": "2022-12-05T15:33:51.680Z"
   },
   {
    "duration": 183,
    "start_time": "2022-12-05T15:33:51.688Z"
   },
   {
    "duration": 24,
    "start_time": "2022-12-05T15:33:51.873Z"
   },
   {
    "duration": 32,
    "start_time": "2022-12-05T15:33:51.900Z"
   },
   {
    "duration": 198,
    "start_time": "2022-12-05T15:33:51.934Z"
   },
   {
    "duration": 6,
    "start_time": "2022-12-05T15:33:52.133Z"
   },
   {
    "duration": 233,
    "start_time": "2022-12-05T15:33:52.141Z"
   },
   {
    "duration": 23,
    "start_time": "2022-12-05T15:33:52.376Z"
   },
   {
    "duration": 23,
    "start_time": "2022-12-05T15:33:52.401Z"
   },
   {
    "duration": 155,
    "start_time": "2022-12-05T15:33:52.427Z"
   },
   {
    "duration": 6,
    "start_time": "2022-12-05T15:33:52.583Z"
   },
   {
    "duration": 176,
    "start_time": "2022-12-05T15:33:52.590Z"
   },
   {
    "duration": 15,
    "start_time": "2022-12-05T15:33:52.769Z"
   },
   {
    "duration": 47,
    "start_time": "2022-12-05T15:33:52.786Z"
   },
   {
    "duration": 11,
    "start_time": "2022-12-05T15:33:52.835Z"
   },
   {
    "duration": 12,
    "start_time": "2022-12-05T15:33:52.848Z"
   },
   {
    "duration": 27,
    "start_time": "2022-12-05T15:33:52.861Z"
   },
   {
    "duration": 11,
    "start_time": "2022-12-05T15:33:52.890Z"
   },
   {
    "duration": 20,
    "start_time": "2022-12-05T15:33:52.903Z"
   },
   {
    "duration": 21,
    "start_time": "2022-12-05T15:33:52.925Z"
   },
   {
    "duration": 30,
    "start_time": "2022-12-05T15:33:52.948Z"
   },
   {
    "duration": 20,
    "start_time": "2022-12-05T15:33:52.981Z"
   },
   {
    "duration": 27,
    "start_time": "2022-12-05T15:33:53.004Z"
   },
   {
    "duration": 30,
    "start_time": "2022-12-05T15:33:53.033Z"
   },
   {
    "duration": 34,
    "start_time": "2022-12-05T15:33:53.067Z"
   },
   {
    "duration": 37,
    "start_time": "2022-12-05T15:33:53.103Z"
   },
   {
    "duration": 40,
    "start_time": "2022-12-05T15:33:53.142Z"
   },
   {
    "duration": 10,
    "start_time": "2022-12-05T15:33:53.184Z"
   },
   {
    "duration": 20,
    "start_time": "2022-12-05T15:33:53.196Z"
   },
   {
    "duration": 25,
    "start_time": "2022-12-05T15:33:53.217Z"
   },
   {
    "duration": 10,
    "start_time": "2022-12-05T15:33:53.244Z"
   },
   {
    "duration": 22,
    "start_time": "2022-12-05T15:34:01.225Z"
   },
   {
    "duration": 578,
    "start_time": "2022-12-05T15:38:50.109Z"
   },
   {
    "duration": 250,
    "start_time": "2022-12-05T15:38:59.012Z"
   },
   {
    "duration": 249,
    "start_time": "2022-12-05T15:39:25.490Z"
   },
   {
    "duration": 547,
    "start_time": "2022-12-05T15:39:52.861Z"
   },
   {
    "duration": 142,
    "start_time": "2022-12-05T15:42:10.402Z"
   },
   {
    "duration": 152,
    "start_time": "2022-12-05T15:42:14.402Z"
   },
   {
    "duration": 140,
    "start_time": "2022-12-05T15:42:17.108Z"
   },
   {
    "duration": 256,
    "start_time": "2022-12-05T15:42:23.257Z"
   },
   {
    "duration": 231,
    "start_time": "2022-12-05T15:42:26.236Z"
   },
   {
    "duration": 166,
    "start_time": "2022-12-05T15:42:30.896Z"
   },
   {
    "duration": 150,
    "start_time": "2022-12-05T15:42:41.835Z"
   },
   {
    "duration": 154,
    "start_time": "2022-12-05T15:42:45.468Z"
   },
   {
    "duration": 161,
    "start_time": "2022-12-05T15:42:57.071Z"
   },
   {
    "duration": 115,
    "start_time": "2022-12-05T15:43:43.986Z"
   },
   {
    "duration": 632,
    "start_time": "2022-12-05T15:43:48.037Z"
   },
   {
    "duration": 44,
    "start_time": "2022-12-05T18:43:14.933Z"
   },
   {
    "duration": 6,
    "start_time": "2022-12-05T18:43:22.332Z"
   },
   {
    "duration": 1320,
    "start_time": "2022-12-05T18:43:31.701Z"
   },
   {
    "duration": 106,
    "start_time": "2022-12-05T18:43:33.023Z"
   },
   {
    "duration": 27,
    "start_time": "2022-12-05T18:43:33.130Z"
   },
   {
    "duration": 3,
    "start_time": "2022-12-05T18:43:33.159Z"
   },
   {
    "duration": 20,
    "start_time": "2022-12-05T18:43:33.164Z"
   },
   {
    "duration": 24,
    "start_time": "2022-12-05T18:43:33.185Z"
   },
   {
    "duration": 16,
    "start_time": "2022-12-05T18:43:33.211Z"
   },
   {
    "duration": 26,
    "start_time": "2022-12-05T18:43:33.229Z"
   },
   {
    "duration": 36,
    "start_time": "2022-12-05T18:43:33.256Z"
   },
   {
    "duration": 14,
    "start_time": "2022-12-05T18:43:33.293Z"
   },
   {
    "duration": 23,
    "start_time": "2022-12-05T18:43:33.309Z"
   },
   {
    "duration": 22,
    "start_time": "2022-12-05T18:43:33.334Z"
   },
   {
    "duration": 25,
    "start_time": "2022-12-05T18:43:33.357Z"
   },
   {
    "duration": 35,
    "start_time": "2022-12-05T18:43:33.385Z"
   },
   {
    "duration": 25,
    "start_time": "2022-12-05T18:43:33.422Z"
   },
   {
    "duration": 89,
    "start_time": "2022-12-05T18:43:33.448Z"
   },
   {
    "duration": 0,
    "start_time": "2022-12-05T18:43:33.540Z"
   },
   {
    "duration": 0,
    "start_time": "2022-12-05T18:43:33.542Z"
   },
   {
    "duration": 0,
    "start_time": "2022-12-05T18:43:33.543Z"
   },
   {
    "duration": 0,
    "start_time": "2022-12-05T18:43:33.544Z"
   },
   {
    "duration": 0,
    "start_time": "2022-12-05T18:43:33.546Z"
   },
   {
    "duration": 0,
    "start_time": "2022-12-05T18:43:33.547Z"
   },
   {
    "duration": 0,
    "start_time": "2022-12-05T18:43:33.548Z"
   },
   {
    "duration": 0,
    "start_time": "2022-12-05T18:43:33.550Z"
   },
   {
    "duration": 0,
    "start_time": "2022-12-05T18:43:33.551Z"
   },
   {
    "duration": 0,
    "start_time": "2022-12-05T18:43:33.553Z"
   },
   {
    "duration": 0,
    "start_time": "2022-12-05T18:43:33.554Z"
   },
   {
    "duration": 0,
    "start_time": "2022-12-05T18:43:33.555Z"
   },
   {
    "duration": 0,
    "start_time": "2022-12-05T18:43:33.556Z"
   },
   {
    "duration": 0,
    "start_time": "2022-12-05T18:43:33.558Z"
   },
   {
    "duration": 0,
    "start_time": "2022-12-05T18:43:33.559Z"
   },
   {
    "duration": 0,
    "start_time": "2022-12-05T18:43:33.560Z"
   },
   {
    "duration": 0,
    "start_time": "2022-12-05T18:43:33.561Z"
   },
   {
    "duration": 0,
    "start_time": "2022-12-05T18:43:33.563Z"
   },
   {
    "duration": 0,
    "start_time": "2022-12-05T18:43:33.564Z"
   },
   {
    "duration": 0,
    "start_time": "2022-12-05T18:43:33.565Z"
   },
   {
    "duration": 0,
    "start_time": "2022-12-05T18:43:33.567Z"
   },
   {
    "duration": 0,
    "start_time": "2022-12-05T18:43:33.615Z"
   },
   {
    "duration": 0,
    "start_time": "2022-12-05T18:43:33.616Z"
   },
   {
    "duration": 0,
    "start_time": "2022-12-05T18:43:33.617Z"
   },
   {
    "duration": 0,
    "start_time": "2022-12-05T18:43:33.619Z"
   },
   {
    "duration": 0,
    "start_time": "2022-12-05T18:43:33.620Z"
   },
   {
    "duration": 0,
    "start_time": "2022-12-05T18:43:33.622Z"
   },
   {
    "duration": 0,
    "start_time": "2022-12-05T18:43:33.623Z"
   },
   {
    "duration": 0,
    "start_time": "2022-12-05T18:43:33.624Z"
   },
   {
    "duration": 0,
    "start_time": "2022-12-05T18:43:33.626Z"
   },
   {
    "duration": 0,
    "start_time": "2022-12-05T18:43:33.627Z"
   },
   {
    "duration": 0,
    "start_time": "2022-12-05T18:43:33.628Z"
   },
   {
    "duration": 0,
    "start_time": "2022-12-05T18:43:33.630Z"
   },
   {
    "duration": 0,
    "start_time": "2022-12-05T18:43:33.633Z"
   },
   {
    "duration": 0,
    "start_time": "2022-12-05T18:43:33.635Z"
   },
   {
    "duration": 0,
    "start_time": "2022-12-05T18:43:33.636Z"
   },
   {
    "duration": 0,
    "start_time": "2022-12-05T18:43:33.637Z"
   },
   {
    "duration": 0,
    "start_time": "2022-12-05T18:43:33.639Z"
   },
   {
    "duration": 0,
    "start_time": "2022-12-05T18:43:33.640Z"
   },
   {
    "duration": 0,
    "start_time": "2022-12-05T18:43:33.641Z"
   },
   {
    "duration": 0,
    "start_time": "2022-12-05T18:43:33.643Z"
   },
   {
    "duration": 0,
    "start_time": "2022-12-05T18:43:33.644Z"
   },
   {
    "duration": 0,
    "start_time": "2022-12-05T18:43:33.646Z"
   },
   {
    "duration": 0,
    "start_time": "2022-12-05T18:43:33.647Z"
   },
   {
    "duration": 0,
    "start_time": "2022-12-05T18:43:33.648Z"
   },
   {
    "duration": 0,
    "start_time": "2022-12-05T18:43:33.650Z"
   },
   {
    "duration": 0,
    "start_time": "2022-12-05T18:43:33.651Z"
   },
   {
    "duration": 0,
    "start_time": "2022-12-05T18:43:33.653Z"
   },
   {
    "duration": 0,
    "start_time": "2022-12-05T18:43:33.716Z"
   },
   {
    "duration": 0,
    "start_time": "2022-12-05T18:43:33.717Z"
   },
   {
    "duration": 0,
    "start_time": "2022-12-05T18:43:33.719Z"
   },
   {
    "duration": 0,
    "start_time": "2022-12-05T18:43:33.721Z"
   },
   {
    "duration": 0,
    "start_time": "2022-12-05T18:43:33.722Z"
   },
   {
    "duration": 6,
    "start_time": "2022-12-05T18:44:21.829Z"
   },
   {
    "duration": 13,
    "start_time": "2022-12-05T18:44:26.096Z"
   },
   {
    "duration": 15,
    "start_time": "2022-12-05T18:45:26.091Z"
   },
   {
    "duration": 331,
    "start_time": "2022-12-05T18:45:29.958Z"
   },
   {
    "duration": 170,
    "start_time": "2022-12-05T18:47:59.516Z"
   },
   {
    "duration": 710,
    "start_time": "2022-12-05T18:49:35.007Z"
   },
   {
    "duration": 194,
    "start_time": "2022-12-05T18:49:55.358Z"
   },
   {
    "duration": 13,
    "start_time": "2022-12-05T18:52:38.995Z"
   },
   {
    "duration": 23,
    "start_time": "2022-12-05T18:52:41.551Z"
   },
   {
    "duration": 201,
    "start_time": "2022-12-05T18:52:42.520Z"
   },
   {
    "duration": 15,
    "start_time": "2022-12-05T18:52:45.233Z"
   },
   {
    "duration": 187,
    "start_time": "2022-12-05T18:52:45.649Z"
   },
   {
    "duration": 13,
    "start_time": "2022-12-05T18:52:46.796Z"
   },
   {
    "duration": 172,
    "start_time": "2022-12-05T18:52:46.995Z"
   },
   {
    "duration": 13,
    "start_time": "2022-12-05T18:52:47.936Z"
   },
   {
    "duration": 306,
    "start_time": "2022-12-05T18:52:48.145Z"
   },
   {
    "duration": 12,
    "start_time": "2022-12-05T18:52:48.519Z"
   },
   {
    "duration": 173,
    "start_time": "2022-12-05T18:52:48.688Z"
   },
   {
    "duration": 12,
    "start_time": "2022-12-05T18:52:49.174Z"
   },
   {
    "duration": 171,
    "start_time": "2022-12-05T18:52:49.384Z"
   },
   {
    "duration": 191,
    "start_time": "2022-12-05T18:56:25.380Z"
   },
   {
    "duration": 19,
    "start_time": "2022-12-05T18:59:34.403Z"
   },
   {
    "duration": 191,
    "start_time": "2022-12-05T18:59:42.963Z"
   },
   {
    "duration": 186,
    "start_time": "2022-12-05T19:00:22.032Z"
   },
   {
    "duration": 199,
    "start_time": "2022-12-05T19:05:35.901Z"
   },
   {
    "duration": 210,
    "start_time": "2022-12-05T19:06:55.002Z"
   },
   {
    "duration": 168,
    "start_time": "2022-12-05T19:07:08.139Z"
   },
   {
    "duration": 171,
    "start_time": "2022-12-05T19:07:25.689Z"
   },
   {
    "duration": 190,
    "start_time": "2022-12-05T19:07:41.920Z"
   },
   {
    "duration": 235,
    "start_time": "2022-12-05T19:08:00.764Z"
   },
   {
    "duration": 13,
    "start_time": "2022-12-05T19:08:43.491Z"
   },
   {
    "duration": 165,
    "start_time": "2022-12-05T19:08:48.881Z"
   },
   {
    "duration": 202,
    "start_time": "2022-12-05T19:09:07.501Z"
   },
   {
    "duration": 19,
    "start_time": "2022-12-05T19:11:38.330Z"
   },
   {
    "duration": 20,
    "start_time": "2022-12-05T19:13:15.757Z"
   },
   {
    "duration": 14,
    "start_time": "2022-12-05T19:13:28.141Z"
   },
   {
    "duration": 1212,
    "start_time": "2022-12-05T19:14:05.086Z"
   },
   {
    "duration": 220,
    "start_time": "2022-12-05T19:14:12.737Z"
   },
   {
    "duration": 192,
    "start_time": "2022-12-05T19:15:28.077Z"
   },
   {
    "duration": 23,
    "start_time": "2022-12-05T19:18:42.479Z"
   },
   {
    "duration": 5,
    "start_time": "2022-12-05T19:19:03.529Z"
   },
   {
    "duration": 4,
    "start_time": "2022-12-05T19:19:04.416Z"
   },
   {
    "duration": 6,
    "start_time": "2022-12-05T19:19:27.479Z"
   },
   {
    "duration": 3,
    "start_time": "2022-12-05T19:19:29.400Z"
   },
   {
    "duration": 4,
    "start_time": "2022-12-05T19:19:30.609Z"
   },
   {
    "duration": 5,
    "start_time": "2022-12-05T19:19:31.153Z"
   },
   {
    "duration": 15,
    "start_time": "2022-12-05T19:19:32.707Z"
   },
   {
    "duration": 3,
    "start_time": "2022-12-05T19:19:33.253Z"
   },
   {
    "duration": 4,
    "start_time": "2022-12-05T19:19:52.283Z"
   },
   {
    "duration": 14,
    "start_time": "2022-12-05T19:19:53.005Z"
   },
   {
    "duration": 15,
    "start_time": "2022-12-05T19:19:55.880Z"
   },
   {
    "duration": 12,
    "start_time": "2022-12-05T19:23:51.421Z"
   },
   {
    "duration": 4,
    "start_time": "2022-12-05T19:24:03.554Z"
   },
   {
    "duration": 3,
    "start_time": "2022-12-05T19:26:27.298Z"
   },
   {
    "duration": 21,
    "start_time": "2022-12-05T19:26:29.767Z"
   },
   {
    "duration": 6,
    "start_time": "2022-12-05T19:26:38.622Z"
   },
   {
    "duration": 5,
    "start_time": "2022-12-05T19:26:39.303Z"
   },
   {
    "duration": 5,
    "start_time": "2022-12-05T19:26:42.996Z"
   },
   {
    "duration": 4,
    "start_time": "2022-12-05T19:26:44.858Z"
   },
   {
    "duration": 4,
    "start_time": "2022-12-05T19:26:46.180Z"
   },
   {
    "duration": 4,
    "start_time": "2022-12-05T19:26:48.307Z"
   },
   {
    "duration": 15,
    "start_time": "2022-12-05T19:26:51.420Z"
   },
   {
    "duration": 3,
    "start_time": "2022-12-05T19:26:54.497Z"
   },
   {
    "duration": 6,
    "start_time": "2022-12-05T19:26:56.608Z"
   },
   {
    "duration": 14,
    "start_time": "2022-12-05T19:26:57.500Z"
   },
   {
    "duration": 13,
    "start_time": "2022-12-05T19:27:01.322Z"
   },
   {
    "duration": 3,
    "start_time": "2022-12-05T19:27:28.124Z"
   },
   {
    "duration": 67,
    "start_time": "2022-12-05T19:27:28.128Z"
   },
   {
    "duration": 22,
    "start_time": "2022-12-05T19:27:28.196Z"
   },
   {
    "duration": 5,
    "start_time": "2022-12-05T19:27:28.219Z"
   },
   {
    "duration": 7,
    "start_time": "2022-12-05T19:27:28.226Z"
   },
   {
    "duration": 18,
    "start_time": "2022-12-05T19:27:28.234Z"
   },
   {
    "duration": 5,
    "start_time": "2022-12-05T19:27:28.253Z"
   },
   {
    "duration": 32,
    "start_time": "2022-12-05T19:27:28.260Z"
   },
   {
    "duration": 29,
    "start_time": "2022-12-05T19:27:28.294Z"
   },
   {
    "duration": 0,
    "start_time": "2022-12-05T19:27:28.326Z"
   },
   {
    "duration": 0,
    "start_time": "2022-12-05T19:27:28.327Z"
   },
   {
    "duration": 0,
    "start_time": "2022-12-05T19:27:28.329Z"
   },
   {
    "duration": 0,
    "start_time": "2022-12-05T19:27:28.330Z"
   },
   {
    "duration": 0,
    "start_time": "2022-12-05T19:27:28.331Z"
   },
   {
    "duration": 0,
    "start_time": "2022-12-05T19:27:28.332Z"
   },
   {
    "duration": 0,
    "start_time": "2022-12-05T19:27:28.334Z"
   },
   {
    "duration": 0,
    "start_time": "2022-12-05T19:27:28.335Z"
   },
   {
    "duration": 0,
    "start_time": "2022-12-05T19:27:28.336Z"
   },
   {
    "duration": 0,
    "start_time": "2022-12-05T19:27:28.337Z"
   },
   {
    "duration": 0,
    "start_time": "2022-12-05T19:27:28.338Z"
   },
   {
    "duration": 0,
    "start_time": "2022-12-05T19:27:28.339Z"
   },
   {
    "duration": 0,
    "start_time": "2022-12-05T19:27:28.339Z"
   },
   {
    "duration": 1,
    "start_time": "2022-12-05T19:27:28.340Z"
   },
   {
    "duration": 0,
    "start_time": "2022-12-05T19:27:28.342Z"
   },
   {
    "duration": 0,
    "start_time": "2022-12-05T19:27:28.344Z"
   },
   {
    "duration": 0,
    "start_time": "2022-12-05T19:27:28.345Z"
   },
   {
    "duration": 0,
    "start_time": "2022-12-05T19:27:28.346Z"
   },
   {
    "duration": 0,
    "start_time": "2022-12-05T19:27:28.347Z"
   },
   {
    "duration": 0,
    "start_time": "2022-12-05T19:27:28.348Z"
   },
   {
    "duration": 0,
    "start_time": "2022-12-05T19:27:28.349Z"
   },
   {
    "duration": 0,
    "start_time": "2022-12-05T19:27:28.350Z"
   },
   {
    "duration": 0,
    "start_time": "2022-12-05T19:27:28.351Z"
   },
   {
    "duration": 0,
    "start_time": "2022-12-05T19:27:28.352Z"
   },
   {
    "duration": 0,
    "start_time": "2022-12-05T19:27:28.353Z"
   },
   {
    "duration": 0,
    "start_time": "2022-12-05T19:27:28.355Z"
   },
   {
    "duration": 0,
    "start_time": "2022-12-05T19:27:28.356Z"
   },
   {
    "duration": 0,
    "start_time": "2022-12-05T19:27:28.357Z"
   },
   {
    "duration": 0,
    "start_time": "2022-12-05T19:27:28.359Z"
   },
   {
    "duration": 0,
    "start_time": "2022-12-05T19:27:28.360Z"
   },
   {
    "duration": 0,
    "start_time": "2022-12-05T19:27:28.417Z"
   },
   {
    "duration": 0,
    "start_time": "2022-12-05T19:27:28.419Z"
   },
   {
    "duration": 0,
    "start_time": "2022-12-05T19:27:28.420Z"
   },
   {
    "duration": 0,
    "start_time": "2022-12-05T19:27:28.421Z"
   },
   {
    "duration": 0,
    "start_time": "2022-12-05T19:27:28.422Z"
   },
   {
    "duration": 0,
    "start_time": "2022-12-05T19:27:28.423Z"
   },
   {
    "duration": 0,
    "start_time": "2022-12-05T19:27:28.424Z"
   },
   {
    "duration": 0,
    "start_time": "2022-12-05T19:27:28.425Z"
   },
   {
    "duration": 0,
    "start_time": "2022-12-05T19:27:28.426Z"
   },
   {
    "duration": 0,
    "start_time": "2022-12-05T19:27:28.427Z"
   },
   {
    "duration": 0,
    "start_time": "2022-12-05T19:27:28.428Z"
   },
   {
    "duration": 0,
    "start_time": "2022-12-05T19:27:28.429Z"
   },
   {
    "duration": 0,
    "start_time": "2022-12-05T19:27:28.429Z"
   },
   {
    "duration": 0,
    "start_time": "2022-12-05T19:27:28.431Z"
   },
   {
    "duration": 0,
    "start_time": "2022-12-05T19:27:28.432Z"
   },
   {
    "duration": 13,
    "start_time": "2022-12-05T19:27:28.436Z"
   },
   {
    "duration": 0,
    "start_time": "2022-12-05T19:27:28.451Z"
   },
   {
    "duration": 0,
    "start_time": "2022-12-05T19:27:28.452Z"
   },
   {
    "duration": 0,
    "start_time": "2022-12-05T19:27:28.453Z"
   },
   {
    "duration": 0,
    "start_time": "2022-12-05T19:27:28.516Z"
   },
   {
    "duration": 0,
    "start_time": "2022-12-05T19:27:28.518Z"
   },
   {
    "duration": 0,
    "start_time": "2022-12-05T19:27:28.519Z"
   },
   {
    "duration": 0,
    "start_time": "2022-12-05T19:27:28.520Z"
   },
   {
    "duration": 0,
    "start_time": "2022-12-05T19:27:28.521Z"
   },
   {
    "duration": 0,
    "start_time": "2022-12-05T19:27:28.523Z"
   },
   {
    "duration": 0,
    "start_time": "2022-12-05T19:27:28.524Z"
   },
   {
    "duration": 0,
    "start_time": "2022-12-05T19:27:28.525Z"
   },
   {
    "duration": 0,
    "start_time": "2022-12-05T19:27:28.526Z"
   },
   {
    "duration": 0,
    "start_time": "2022-12-05T19:27:28.527Z"
   },
   {
    "duration": 0,
    "start_time": "2022-12-05T19:27:28.528Z"
   },
   {
    "duration": 0,
    "start_time": "2022-12-05T19:27:28.530Z"
   },
   {
    "duration": 193,
    "start_time": "2022-12-05T19:28:01.645Z"
   },
   {
    "duration": 23,
    "start_time": "2022-12-05T19:30:05.305Z"
   },
   {
    "duration": 14,
    "start_time": "2022-12-05T19:30:06.325Z"
   },
   {
    "duration": 5,
    "start_time": "2022-12-05T19:30:11.636Z"
   },
   {
    "duration": 21,
    "start_time": "2022-12-05T19:31:12.766Z"
   },
   {
    "duration": 9,
    "start_time": "2022-12-05T19:31:48.748Z"
   },
   {
    "duration": 9,
    "start_time": "2022-12-05T19:33:13.876Z"
   },
   {
    "duration": 14,
    "start_time": "2022-12-05T19:33:14.893Z"
   },
   {
    "duration": 3,
    "start_time": "2022-12-05T19:38:04.513Z"
   },
   {
    "duration": 6,
    "start_time": "2022-12-05T19:38:05.408Z"
   },
   {
    "duration": 4,
    "start_time": "2022-12-05T19:38:06.760Z"
   },
   {
    "duration": 5,
    "start_time": "2022-12-05T19:38:09.431Z"
   },
   {
    "duration": 8,
    "start_time": "2022-12-05T19:38:10.330Z"
   },
   {
    "duration": 4,
    "start_time": "2022-12-05T19:38:10.967Z"
   },
   {
    "duration": 5,
    "start_time": "2022-12-05T19:38:11.351Z"
   },
   {
    "duration": 15,
    "start_time": "2022-12-05T19:38:11.852Z"
   },
   {
    "duration": 3,
    "start_time": "2022-12-05T19:38:12.909Z"
   },
   {
    "duration": 5,
    "start_time": "2022-12-05T19:38:13.819Z"
   },
   {
    "duration": 14,
    "start_time": "2022-12-05T19:38:14.307Z"
   },
   {
    "duration": 16,
    "start_time": "2022-12-05T19:38:14.752Z"
   },
   {
    "duration": 216,
    "start_time": "2022-12-05T19:38:15.881Z"
   },
   {
    "duration": 18,
    "start_time": "2022-12-05T19:40:19.342Z"
   },
   {
    "duration": 216,
    "start_time": "2022-12-05T19:40:47.908Z"
   },
   {
    "duration": 214,
    "start_time": "2022-12-05T19:41:11.208Z"
   },
   {
    "duration": 174,
    "start_time": "2022-12-05T19:41:23.576Z"
   },
   {
    "duration": 293,
    "start_time": "2022-12-05T19:41:33.850Z"
   },
   {
    "duration": 197,
    "start_time": "2022-12-05T19:41:43.010Z"
   },
   {
    "duration": 15,
    "start_time": "2022-12-05T19:44:04.716Z"
   },
   {
    "duration": 22,
    "start_time": "2022-12-05T19:44:05.835Z"
   },
   {
    "duration": 194,
    "start_time": "2022-12-05T19:44:07.240Z"
   },
   {
    "duration": 12,
    "start_time": "2022-12-05T19:44:09.498Z"
   },
   {
    "duration": 207,
    "start_time": "2022-12-05T19:44:10.394Z"
   },
   {
    "duration": 12,
    "start_time": "2022-12-05T19:44:11.675Z"
   },
   {
    "duration": 219,
    "start_time": "2022-12-05T19:44:11.990Z"
   },
   {
    "duration": 12,
    "start_time": "2022-12-05T19:44:13.179Z"
   },
   {
    "duration": 190,
    "start_time": "2022-12-05T19:44:13.193Z"
   },
   {
    "duration": 11,
    "start_time": "2022-12-05T19:44:13.731Z"
   },
   {
    "duration": 191,
    "start_time": "2022-12-05T19:44:13.981Z"
   },
   {
    "duration": 11,
    "start_time": "2022-12-05T19:44:15.312Z"
   },
   {
    "duration": 187,
    "start_time": "2022-12-05T19:44:18.090Z"
   },
   {
    "duration": 18,
    "start_time": "2022-12-05T19:51:52.316Z"
   },
   {
    "duration": 4,
    "start_time": "2022-12-05T19:51:53.162Z"
   },
   {
    "duration": 130,
    "start_time": "2022-12-05T19:51:53.417Z"
   },
   {
    "duration": 20,
    "start_time": "2022-12-05T19:51:54.424Z"
   },
   {
    "duration": 5,
    "start_time": "2022-12-05T19:51:54.800Z"
   },
   {
    "duration": 178,
    "start_time": "2022-12-05T19:51:55.106Z"
   },
   {
    "duration": 5,
    "start_time": "2022-12-05T19:51:55.286Z"
   },
   {
    "duration": 179,
    "start_time": "2022-12-05T19:51:55.413Z"
   },
   {
    "duration": 20,
    "start_time": "2022-12-05T19:51:56.606Z"
   },
   {
    "duration": 4,
    "start_time": "2022-12-05T19:51:56.723Z"
   },
   {
    "duration": 242,
    "start_time": "2022-12-05T19:51:56.903Z"
   },
   {
    "duration": 6,
    "start_time": "2022-12-05T19:51:57.147Z"
   },
   {
    "duration": 213,
    "start_time": "2022-12-05T19:51:57.211Z"
   },
   {
    "duration": 20,
    "start_time": "2022-12-05T19:51:57.688Z"
   },
   {
    "duration": 5,
    "start_time": "2022-12-05T19:51:57.900Z"
   },
   {
    "duration": 169,
    "start_time": "2022-12-05T19:51:58.385Z"
   },
   {
    "duration": 5,
    "start_time": "2022-12-05T19:51:58.577Z"
   },
   {
    "duration": 171,
    "start_time": "2022-12-05T19:51:58.691Z"
   },
   {
    "duration": 6,
    "start_time": "2022-12-05T19:51:59.703Z"
   },
   {
    "duration": 30,
    "start_time": "2022-12-05T19:52:00.420Z"
   },
   {
    "duration": 12,
    "start_time": "2022-12-05T19:52:02.695Z"
   },
   {
    "duration": 11,
    "start_time": "2022-12-05T19:52:03.388Z"
   },
   {
    "duration": 11,
    "start_time": "2022-12-05T19:52:04.389Z"
   },
   {
    "duration": 11,
    "start_time": "2022-12-05T19:52:04.608Z"
   },
   {
    "duration": 11,
    "start_time": "2022-12-05T19:52:05.428Z"
   },
   {
    "duration": 11,
    "start_time": "2022-12-05T19:52:06.130Z"
   },
   {
    "duration": 14,
    "start_time": "2022-12-05T19:52:06.448Z"
   },
   {
    "duration": 10,
    "start_time": "2022-12-05T19:52:06.693Z"
   },
   {
    "duration": 12,
    "start_time": "2022-12-05T19:52:07.584Z"
   },
   {
    "duration": 11,
    "start_time": "2022-12-05T19:52:07.811Z"
   },
   {
    "duration": 10,
    "start_time": "2022-12-05T19:52:08.217Z"
   },
   {
    "duration": 11,
    "start_time": "2022-12-05T19:52:08.703Z"
   },
   {
    "duration": 18,
    "start_time": "2022-12-05T19:52:11.068Z"
   },
   {
    "duration": 8,
    "start_time": "2022-12-05T19:52:14.421Z"
   },
   {
    "duration": 4,
    "start_time": "2022-12-05T19:52:14.593Z"
   },
   {
    "duration": 8,
    "start_time": "2022-12-05T19:52:15.318Z"
   },
   {
    "duration": 6,
    "start_time": "2022-12-05T19:52:15.639Z"
   },
   {
    "duration": 47,
    "start_time": "2022-12-05T19:55:49.599Z"
   },
   {
    "duration": 338,
    "start_time": "2022-12-05T19:55:59.304Z"
   },
   {
    "duration": 1825,
    "start_time": "2022-12-05T19:57:15.217Z"
   },
   {
    "duration": 1703,
    "start_time": "2022-12-05T19:57:37.661Z"
   },
   {
    "duration": 11,
    "start_time": "2022-12-05T19:58:28.254Z"
   },
   {
    "duration": 11,
    "start_time": "2022-12-05T19:58:31.760Z"
   },
   {
    "duration": 1607,
    "start_time": "2022-12-05T19:58:32.710Z"
   },
   {
    "duration": 1062,
    "start_time": "2022-12-05T19:59:04.444Z"
   },
   {
    "duration": 324,
    "start_time": "2022-12-05T19:59:23.027Z"
   },
   {
    "duration": 1739,
    "start_time": "2022-12-05T20:01:36.076Z"
   },
   {
    "duration": 2,
    "start_time": "2022-12-05T20:03:22.542Z"
   },
   {
    "duration": 55,
    "start_time": "2022-12-05T20:03:22.547Z"
   },
   {
    "duration": 25,
    "start_time": "2022-12-05T20:03:22.605Z"
   },
   {
    "duration": 8,
    "start_time": "2022-12-05T20:03:22.632Z"
   },
   {
    "duration": 8,
    "start_time": "2022-12-05T20:03:22.642Z"
   },
   {
    "duration": 23,
    "start_time": "2022-12-05T20:03:22.652Z"
   },
   {
    "duration": 3,
    "start_time": "2022-12-05T20:03:22.676Z"
   },
   {
    "duration": 22,
    "start_time": "2022-12-05T20:03:22.681Z"
   },
   {
    "duration": 4,
    "start_time": "2022-12-05T20:03:22.716Z"
   },
   {
    "duration": 9,
    "start_time": "2022-12-05T20:03:22.722Z"
   },
   {
    "duration": 12,
    "start_time": "2022-12-05T20:03:22.734Z"
   },
   {
    "duration": 12,
    "start_time": "2022-12-05T20:03:22.748Z"
   },
   {
    "duration": 11,
    "start_time": "2022-12-05T20:03:22.761Z"
   },
   {
    "duration": 17,
    "start_time": "2022-12-05T20:03:22.774Z"
   },
   {
    "duration": 2,
    "start_time": "2022-12-05T20:03:22.793Z"
   },
   {
    "duration": 23,
    "start_time": "2022-12-05T20:03:22.796Z"
   },
   {
    "duration": 22,
    "start_time": "2022-12-05T20:03:22.821Z"
   },
   {
    "duration": 18,
    "start_time": "2022-12-05T20:03:22.844Z"
   },
   {
    "duration": 198,
    "start_time": "2022-12-05T20:03:22.864Z"
   },
   {
    "duration": 14,
    "start_time": "2022-12-05T20:03:23.063Z"
   },
   {
    "duration": 20,
    "start_time": "2022-12-05T20:03:23.078Z"
   },
   {
    "duration": 216,
    "start_time": "2022-12-05T20:03:23.116Z"
   },
   {
    "duration": 12,
    "start_time": "2022-12-05T20:03:23.333Z"
   },
   {
    "duration": 206,
    "start_time": "2022-12-05T20:03:23.346Z"
   },
   {
    "duration": 10,
    "start_time": "2022-12-05T20:03:23.554Z"
   },
   {
    "duration": 207,
    "start_time": "2022-12-05T20:03:23.566Z"
   },
   {
    "duration": 12,
    "start_time": "2022-12-05T20:03:23.774Z"
   },
   {
    "duration": 207,
    "start_time": "2022-12-05T20:03:23.787Z"
   },
   {
    "duration": 20,
    "start_time": "2022-12-05T20:03:23.998Z"
   },
   {
    "duration": 294,
    "start_time": "2022-12-05T20:03:24.019Z"
   },
   {
    "duration": 11,
    "start_time": "2022-12-05T20:03:24.315Z"
   },
   {
    "duration": 205,
    "start_time": "2022-12-05T20:03:24.328Z"
   },
   {
    "duration": 19,
    "start_time": "2022-12-05T20:03:24.535Z"
   },
   {
    "duration": 3,
    "start_time": "2022-12-05T20:03:24.556Z"
   },
   {
    "duration": 155,
    "start_time": "2022-12-05T20:03:24.561Z"
   },
   {
    "duration": 19,
    "start_time": "2022-12-05T20:03:24.718Z"
   },
   {
    "duration": 21,
    "start_time": "2022-12-05T20:03:24.738Z"
   },
   {
    "duration": 165,
    "start_time": "2022-12-05T20:03:24.761Z"
   },
   {
    "duration": 5,
    "start_time": "2022-12-05T20:03:24.927Z"
   },
   {
    "duration": 176,
    "start_time": "2022-12-05T20:03:24.933Z"
   },
   {
    "duration": 19,
    "start_time": "2022-12-05T20:03:25.111Z"
   },
   {
    "duration": 8,
    "start_time": "2022-12-05T20:03:25.132Z"
   },
   {
    "duration": 173,
    "start_time": "2022-12-05T20:03:25.141Z"
   },
   {
    "duration": 4,
    "start_time": "2022-12-05T20:03:25.316Z"
   },
   {
    "duration": 169,
    "start_time": "2022-12-05T20:03:25.322Z"
   },
   {
    "duration": 24,
    "start_time": "2022-12-05T20:03:25.493Z"
   },
   {
    "duration": 4,
    "start_time": "2022-12-05T20:03:25.519Z"
   },
   {
    "duration": 165,
    "start_time": "2022-12-05T20:03:25.524Z"
   },
   {
    "duration": 5,
    "start_time": "2022-12-05T20:03:25.691Z"
   },
   {
    "duration": 197,
    "start_time": "2022-12-05T20:03:25.697Z"
   },
   {
    "duration": 7,
    "start_time": "2022-12-05T20:03:25.895Z"
   },
   {
    "duration": 29,
    "start_time": "2022-12-05T20:03:25.916Z"
   },
   {
    "duration": 11,
    "start_time": "2022-12-05T20:03:25.947Z"
   },
   {
    "duration": 12,
    "start_time": "2022-12-05T20:03:25.959Z"
   },
   {
    "duration": 17,
    "start_time": "2022-12-05T20:03:25.972Z"
   },
   {
    "duration": 31,
    "start_time": "2022-12-05T20:03:25.991Z"
   },
   {
    "duration": 12,
    "start_time": "2022-12-05T20:03:26.024Z"
   },
   {
    "duration": 10,
    "start_time": "2022-12-05T20:03:26.037Z"
   },
   {
    "duration": 15,
    "start_time": "2022-12-05T20:03:26.049Z"
   },
   {
    "duration": 13,
    "start_time": "2022-12-05T20:03:26.066Z"
   },
   {
    "duration": 27,
    "start_time": "2022-12-05T20:03:26.080Z"
   },
   {
    "duration": 9,
    "start_time": "2022-12-05T20:03:26.116Z"
   },
   {
    "duration": 1811,
    "start_time": "2022-12-05T20:03:26.127Z"
   },
   {
    "duration": 0,
    "start_time": "2022-12-05T20:03:27.940Z"
   },
   {
    "duration": 0,
    "start_time": "2022-12-05T20:03:27.941Z"
   },
   {
    "duration": 0,
    "start_time": "2022-12-05T20:03:27.942Z"
   },
   {
    "duration": 0,
    "start_time": "2022-12-05T20:03:27.943Z"
   },
   {
    "duration": 0,
    "start_time": "2022-12-05T20:03:27.944Z"
   },
   {
    "duration": 0,
    "start_time": "2022-12-05T20:03:27.945Z"
   },
   {
    "duration": 0,
    "start_time": "2022-12-05T20:03:27.946Z"
   },
   {
    "duration": 1050,
    "start_time": "2022-12-05T20:03:50.113Z"
   },
   {
    "duration": 19,
    "start_time": "2022-12-05T20:04:19.984Z"
   },
   {
    "duration": 1192,
    "start_time": "2022-12-05T20:05:05.844Z"
   },
   {
    "duration": 995,
    "start_time": "2022-12-05T20:05:34.612Z"
   },
   {
    "duration": 11,
    "start_time": "2022-12-05T20:07:05.433Z"
   },
   {
    "duration": 10,
    "start_time": "2022-12-05T20:07:06.891Z"
   },
   {
    "duration": 10,
    "start_time": "2022-12-05T20:07:24.891Z"
   },
   {
    "duration": 10,
    "start_time": "2022-12-05T20:07:25.450Z"
   },
   {
    "duration": 10,
    "start_time": "2022-12-05T20:07:34.728Z"
   },
   {
    "duration": 10,
    "start_time": "2022-12-05T20:07:34.905Z"
   },
   {
    "duration": 11,
    "start_time": "2022-12-05T20:07:36.876Z"
   },
   {
    "duration": 10,
    "start_time": "2022-12-05T20:07:37.482Z"
   },
   {
    "duration": 11,
    "start_time": "2022-12-05T20:07:54.790Z"
   },
   {
    "duration": 11,
    "start_time": "2022-12-05T20:07:55.439Z"
   },
   {
    "duration": 10,
    "start_time": "2022-12-05T20:07:58.700Z"
   },
   {
    "duration": 12,
    "start_time": "2022-12-05T20:08:01.204Z"
   },
   {
    "duration": 1041,
    "start_time": "2022-12-05T20:08:02.138Z"
   },
   {
    "duration": 1265,
    "start_time": "2022-12-05T20:13:16.210Z"
   },
   {
    "duration": 995,
    "start_time": "2022-12-05T20:17:06.563Z"
   },
   {
    "duration": 1024,
    "start_time": "2022-12-05T20:17:15.564Z"
   },
   {
    "duration": 385,
    "start_time": "2022-12-05T20:22:24.488Z"
   },
   {
    "duration": 11,
    "start_time": "2022-12-05T20:22:35.526Z"
   },
   {
    "duration": 5,
    "start_time": "2022-12-05T20:22:43.991Z"
   },
   {
    "duration": 1030,
    "start_time": "2022-12-05T20:22:46.049Z"
   },
   {
    "duration": 9,
    "start_time": "2022-12-05T20:23:37.443Z"
   },
   {
    "duration": 10,
    "start_time": "2022-12-05T20:24:31.800Z"
   },
   {
    "duration": 12,
    "start_time": "2022-12-05T20:24:35.038Z"
   },
   {
    "duration": 11,
    "start_time": "2022-12-05T20:24:35.460Z"
   },
   {
    "duration": 880,
    "start_time": "2022-12-05T20:24:41.015Z"
   },
   {
    "duration": 1039,
    "start_time": "2022-12-05T20:28:57.883Z"
   },
   {
    "duration": 892,
    "start_time": "2022-12-05T20:30:04.625Z"
   },
   {
    "duration": 1352,
    "start_time": "2022-12-06T05:49:58.418Z"
   },
   {
    "duration": 107,
    "start_time": "2022-12-06T05:49:59.772Z"
   },
   {
    "duration": 28,
    "start_time": "2022-12-06T05:49:59.880Z"
   },
   {
    "duration": 16,
    "start_time": "2022-12-06T05:49:59.910Z"
   },
   {
    "duration": 48,
    "start_time": "2022-12-06T05:49:59.927Z"
   },
   {
    "duration": 51,
    "start_time": "2022-12-06T05:49:59.977Z"
   },
   {
    "duration": 48,
    "start_time": "2022-12-06T05:50:00.030Z"
   },
   {
    "duration": 163,
    "start_time": "2022-12-06T05:50:00.080Z"
   },
   {
    "duration": 131,
    "start_time": "2022-12-06T05:50:00.244Z"
   },
   {
    "duration": 61,
    "start_time": "2022-12-06T05:50:00.378Z"
   },
   {
    "duration": 107,
    "start_time": "2022-12-06T05:50:00.441Z"
   },
   {
    "duration": 106,
    "start_time": "2022-12-06T05:50:00.550Z"
   },
   {
    "duration": 61,
    "start_time": "2022-12-06T05:50:00.658Z"
   },
   {
    "duration": 64,
    "start_time": "2022-12-06T05:50:00.721Z"
   },
   {
    "duration": 43,
    "start_time": "2022-12-06T05:50:00.787Z"
   },
   {
    "duration": 52,
    "start_time": "2022-12-06T05:50:00.831Z"
   },
   {
    "duration": 51,
    "start_time": "2022-12-06T05:50:00.885Z"
   },
   {
    "duration": 45,
    "start_time": "2022-12-06T05:50:00.938Z"
   },
   {
    "duration": 195,
    "start_time": "2022-12-06T05:50:00.985Z"
   },
   {
    "duration": 16,
    "start_time": "2022-12-06T05:50:01.182Z"
   },
   {
    "duration": 62,
    "start_time": "2022-12-06T05:50:01.199Z"
   },
   {
    "duration": 226,
    "start_time": "2022-12-06T05:50:01.263Z"
   },
   {
    "duration": 13,
    "start_time": "2022-12-06T05:50:01.491Z"
   },
   {
    "duration": 233,
    "start_time": "2022-12-06T05:50:01.512Z"
   },
   {
    "duration": 13,
    "start_time": "2022-12-06T05:50:01.747Z"
   },
   {
    "duration": 218,
    "start_time": "2022-12-06T05:50:01.762Z"
   },
   {
    "duration": 14,
    "start_time": "2022-12-06T05:50:01.983Z"
   },
   {
    "duration": 219,
    "start_time": "2022-12-06T05:50:02.012Z"
   },
   {
    "duration": 12,
    "start_time": "2022-12-06T05:50:02.234Z"
   },
   {
    "duration": 210,
    "start_time": "2022-12-06T05:50:02.248Z"
   },
   {
    "duration": 12,
    "start_time": "2022-12-06T05:50:02.460Z"
   },
   {
    "duration": 206,
    "start_time": "2022-12-06T05:50:02.474Z"
   },
   {
    "duration": 31,
    "start_time": "2022-12-06T05:50:02.682Z"
   },
   {
    "duration": 23,
    "start_time": "2022-12-06T05:50:02.715Z"
   },
   {
    "duration": 169,
    "start_time": "2022-12-06T05:50:02.740Z"
   },
   {
    "duration": 24,
    "start_time": "2022-12-06T05:50:02.911Z"
   },
   {
    "duration": 30,
    "start_time": "2022-12-06T05:50:02.937Z"
   },
   {
    "duration": 291,
    "start_time": "2022-12-06T05:50:02.969Z"
   },
   {
    "duration": 5,
    "start_time": "2022-12-06T05:50:03.262Z"
   },
   {
    "duration": 246,
    "start_time": "2022-12-06T05:50:03.270Z"
   },
   {
    "duration": 23,
    "start_time": "2022-12-06T05:50:03.517Z"
   },
   {
    "duration": 40,
    "start_time": "2022-12-06T05:50:03.542Z"
   },
   {
    "duration": 169,
    "start_time": "2022-12-06T05:50:03.584Z"
   },
   {
    "duration": 6,
    "start_time": "2022-12-06T05:50:03.755Z"
   },
   {
    "duration": 297,
    "start_time": "2022-12-06T05:50:03.763Z"
   },
   {
    "duration": 22,
    "start_time": "2022-12-06T05:50:04.062Z"
   },
   {
    "duration": 6,
    "start_time": "2022-12-06T05:50:04.086Z"
   },
   {
    "duration": 164,
    "start_time": "2022-12-06T05:50:04.094Z"
   },
   {
    "duration": 5,
    "start_time": "2022-12-06T05:50:04.260Z"
   },
   {
    "duration": 173,
    "start_time": "2022-12-06T05:50:04.266Z"
   },
   {
    "duration": 6,
    "start_time": "2022-12-06T05:50:04.441Z"
   },
   {
    "duration": 59,
    "start_time": "2022-12-06T05:50:04.449Z"
   },
   {
    "duration": 11,
    "start_time": "2022-12-06T05:50:04.510Z"
   },
   {
    "duration": 30,
    "start_time": "2022-12-06T05:50:04.523Z"
   },
   {
    "duration": 35,
    "start_time": "2022-12-06T05:50:04.555Z"
   },
   {
    "duration": 20,
    "start_time": "2022-12-06T05:50:04.592Z"
   },
   {
    "duration": 45,
    "start_time": "2022-12-06T05:50:04.614Z"
   },
   {
    "duration": 11,
    "start_time": "2022-12-06T05:50:04.661Z"
   },
   {
    "duration": 39,
    "start_time": "2022-12-06T05:50:04.673Z"
   },
   {
    "duration": 34,
    "start_time": "2022-12-06T05:50:04.714Z"
   },
   {
    "duration": 26,
    "start_time": "2022-12-06T05:50:04.750Z"
   },
   {
    "duration": 32,
    "start_time": "2022-12-06T05:50:04.778Z"
   },
   {
    "duration": 889,
    "start_time": "2022-12-06T05:50:04.812Z"
   },
   {
    "duration": 23,
    "start_time": "2022-12-06T05:50:05.703Z"
   },
   {
    "duration": 19,
    "start_time": "2022-12-06T05:50:05.728Z"
   },
   {
    "duration": 49,
    "start_time": "2022-12-06T05:50:05.749Z"
   },
   {
    "duration": 16,
    "start_time": "2022-12-06T05:50:05.801Z"
   },
   {
    "duration": 17,
    "start_time": "2022-12-06T05:50:05.821Z"
   },
   {
    "duration": 42,
    "start_time": "2022-12-06T05:50:05.841Z"
   },
   {
    "duration": 43,
    "start_time": "2022-12-06T05:50:05.884Z"
   },
   {
    "duration": 395,
    "start_time": "2022-12-06T05:51:29.789Z"
   },
   {
    "duration": 301,
    "start_time": "2022-12-06T05:52:42.606Z"
   },
   {
    "duration": 45,
    "start_time": "2022-12-06T05:55:20.136Z"
   },
   {
    "duration": 14,
    "start_time": "2022-12-06T05:56:52.650Z"
   },
   {
    "duration": 13,
    "start_time": "2022-12-06T05:56:55.152Z"
   },
   {
    "duration": 4,
    "start_time": "2022-12-06T05:57:48.644Z"
   },
   {
    "duration": 12,
    "start_time": "2022-12-06T05:57:51.430Z"
   },
   {
    "duration": 5,
    "start_time": "2022-12-06T05:57:51.872Z"
   },
   {
    "duration": 14,
    "start_time": "2022-12-06T05:58:01.794Z"
   },
   {
    "duration": 13,
    "start_time": "2022-12-06T05:58:52.505Z"
   },
   {
    "duration": 11,
    "start_time": "2022-12-06T05:58:52.978Z"
   },
   {
    "duration": 10,
    "start_time": "2022-12-06T05:59:26.747Z"
   },
   {
    "duration": 12,
    "start_time": "2022-12-06T05:59:27.948Z"
   },
   {
    "duration": 15,
    "start_time": "2022-12-06T06:00:06.161Z"
   },
   {
    "duration": 12,
    "start_time": "2022-12-06T06:00:08.934Z"
   },
   {
    "duration": 11,
    "start_time": "2022-12-06T06:00:09.409Z"
   },
   {
    "duration": 308,
    "start_time": "2022-12-06T06:00:33.043Z"
   },
   {
    "duration": 326,
    "start_time": "2022-12-06T06:04:36.135Z"
   },
   {
    "duration": 12,
    "start_time": "2022-12-06T06:05:12.298Z"
   },
   {
    "duration": 10,
    "start_time": "2022-12-06T06:05:12.709Z"
   },
   {
    "duration": 261,
    "start_time": "2022-12-06T06:05:20.756Z"
   },
   {
    "duration": 267,
    "start_time": "2022-12-06T06:05:33.531Z"
   },
   {
    "duration": 360,
    "start_time": "2022-12-06T06:06:02.329Z"
   },
   {
    "duration": 260,
    "start_time": "2022-12-06T06:11:10.777Z"
   },
   {
    "duration": 116,
    "start_time": "2022-12-06T07:11:12.065Z"
   },
   {
    "duration": 11,
    "start_time": "2022-12-06T07:12:09.151Z"
   },
   {
    "duration": 11,
    "start_time": "2022-12-06T07:12:13.916Z"
   },
   {
    "duration": 11,
    "start_time": "2022-12-06T07:13:26.628Z"
   },
   {
    "duration": 11,
    "start_time": "2022-12-06T07:13:47.960Z"
   },
   {
    "duration": 49,
    "start_time": "2022-12-06T07:21:11.588Z"
   },
   {
    "duration": 11,
    "start_time": "2022-12-06T07:21:19.523Z"
   },
   {
    "duration": 53,
    "start_time": "2022-12-06T07:25:57.103Z"
   },
   {
    "duration": 57,
    "start_time": "2022-12-06T07:26:11.614Z"
   },
   {
    "duration": 44,
    "start_time": "2022-12-06T07:29:23.792Z"
   },
   {
    "duration": 56,
    "start_time": "2022-12-06T07:29:32.722Z"
   },
   {
    "duration": 117,
    "start_time": "2022-12-06T07:30:11.903Z"
   },
   {
    "duration": 64,
    "start_time": "2022-12-06T07:30:15.800Z"
   },
   {
    "duration": 13,
    "start_time": "2022-12-06T07:30:53.274Z"
   },
   {
    "duration": 13,
    "start_time": "2022-12-06T07:32:17.767Z"
   },
   {
    "duration": 11,
    "start_time": "2022-12-06T07:32:25.689Z"
   },
   {
    "duration": 14,
    "start_time": "2022-12-06T07:32:29.993Z"
   },
   {
    "duration": 65,
    "start_time": "2022-12-06T07:32:52.892Z"
   },
   {
    "duration": 10,
    "start_time": "2022-12-06T07:33:19.037Z"
   },
   {
    "duration": 10,
    "start_time": "2022-12-06T07:34:01.764Z"
   },
   {
    "duration": 14,
    "start_time": "2022-12-06T07:34:04.180Z"
   },
   {
    "duration": 1318,
    "start_time": "2022-12-07T06:49:02.670Z"
   },
   {
    "duration": 189,
    "start_time": "2022-12-07T06:49:03.990Z"
   },
   {
    "duration": 32,
    "start_time": "2022-12-07T06:49:04.181Z"
   },
   {
    "duration": 3,
    "start_time": "2022-12-07T06:49:04.215Z"
   },
   {
    "duration": 15,
    "start_time": "2022-12-07T06:49:04.220Z"
   },
   {
    "duration": 16,
    "start_time": "2022-12-07T06:49:04.527Z"
   },
   {
    "duration": 4,
    "start_time": "2022-12-07T06:49:05.335Z"
   },
   {
    "duration": 7,
    "start_time": "2022-12-07T06:49:05.511Z"
   },
   {
    "duration": 6,
    "start_time": "2022-12-07T06:49:05.681Z"
   },
   {
    "duration": 6,
    "start_time": "2022-12-07T06:49:06.000Z"
   },
   {
    "duration": 17,
    "start_time": "2022-12-07T06:49:06.488Z"
   },
   {
    "duration": 6,
    "start_time": "2022-12-07T06:49:07.138Z"
   },
   {
    "duration": 5,
    "start_time": "2022-12-07T06:49:07.460Z"
   },
   {
    "duration": 18,
    "start_time": "2022-12-07T06:49:07.943Z"
   },
   {
    "duration": 3,
    "start_time": "2022-12-07T06:49:08.435Z"
   },
   {
    "duration": 7,
    "start_time": "2022-12-07T06:49:09.144Z"
   },
   {
    "duration": 15,
    "start_time": "2022-12-07T06:49:09.381Z"
   },
   {
    "duration": 22,
    "start_time": "2022-12-07T06:49:10.307Z"
   },
   {
    "duration": 193,
    "start_time": "2022-12-07T06:49:11.244Z"
   },
   {
    "duration": 14,
    "start_time": "2022-12-07T06:49:15.226Z"
   },
   {
    "duration": 105,
    "start_time": "2022-12-07T06:54:30.757Z"
   },
   {
    "duration": 17,
    "start_time": "2022-12-07T06:54:42.357Z"
   },
   {
    "duration": 15,
    "start_time": "2022-12-07T06:54:54.940Z"
   },
   {
    "duration": 15,
    "start_time": "2022-12-07T06:54:57.310Z"
   },
   {
    "duration": 14,
    "start_time": "2022-12-07T06:55:16.356Z"
   },
   {
    "duration": 9,
    "start_time": "2022-12-07T06:55:57.105Z"
   },
   {
    "duration": 12,
    "start_time": "2022-12-07T06:56:34.367Z"
   },
   {
    "duration": 11,
    "start_time": "2022-12-07T06:58:12.942Z"
   },
   {
    "duration": 12,
    "start_time": "2022-12-07T06:59:02.158Z"
   },
   {
    "duration": 11,
    "start_time": "2022-12-07T06:59:28.737Z"
   },
   {
    "duration": 19,
    "start_time": "2022-12-07T07:00:08.797Z"
   },
   {
    "duration": 20,
    "start_time": "2022-12-07T07:00:40.670Z"
   },
   {
    "duration": 20,
    "start_time": "2022-12-07T07:01:08.712Z"
   },
   {
    "duration": 21,
    "start_time": "2022-12-07T07:01:21.923Z"
   },
   {
    "duration": 10,
    "start_time": "2022-12-07T07:03:31.867Z"
   },
   {
    "duration": 16,
    "start_time": "2022-12-07T07:03:43.833Z"
   },
   {
    "duration": 1375,
    "start_time": "2022-12-08T06:13:32.071Z"
   },
   {
    "duration": 112,
    "start_time": "2022-12-08T06:13:33.449Z"
   },
   {
    "duration": 29,
    "start_time": "2022-12-08T06:13:33.562Z"
   },
   {
    "duration": 3,
    "start_time": "2022-12-08T06:13:33.593Z"
   },
   {
    "duration": 3,
    "start_time": "2022-12-08T06:13:33.676Z"
   },
   {
    "duration": 14,
    "start_time": "2022-12-08T06:13:33.970Z"
   },
   {
    "duration": 4,
    "start_time": "2022-12-08T06:13:35.180Z"
   },
   {
    "duration": 8,
    "start_time": "2022-12-08T06:13:35.419Z"
   },
   {
    "duration": 5,
    "start_time": "2022-12-08T06:13:36.037Z"
   },
   {
    "duration": 5,
    "start_time": "2022-12-08T06:13:36.866Z"
   },
   {
    "duration": 7,
    "start_time": "2022-12-08T06:13:38.437Z"
   },
   {
    "duration": 7,
    "start_time": "2022-12-08T06:13:40.023Z"
   },
   {
    "duration": 5,
    "start_time": "2022-12-08T06:13:41.393Z"
   },
   {
    "duration": 14,
    "start_time": "2022-12-08T06:13:42.980Z"
   },
   {
    "duration": 3,
    "start_time": "2022-12-08T06:13:44.025Z"
   },
   {
    "duration": 6,
    "start_time": "2022-12-08T06:13:45.888Z"
   },
   {
    "duration": 12,
    "start_time": "2022-12-08T06:13:46.085Z"
   },
   {
    "duration": 20,
    "start_time": "2022-12-08T06:13:49.835Z"
   },
   {
    "duration": 180,
    "start_time": "2022-12-08T06:14:02.306Z"
   },
   {
    "duration": 89,
    "start_time": "2022-12-08T06:15:15.826Z"
   },
   {
    "duration": 14,
    "start_time": "2022-12-08T06:17:04.912Z"
   },
   {
    "duration": 4,
    "start_time": "2022-12-08T06:17:11.664Z"
   },
   {
    "duration": 939,
    "start_time": "2022-12-08T06:19:45.198Z"
   },
   {
    "duration": 1192,
    "start_time": "2022-12-08T06:20:51.638Z"
   },
   {
    "duration": 1636,
    "start_time": "2023-06-26T13:52:33.318Z"
   },
   {
    "duration": 127,
    "start_time": "2023-06-26T13:52:36.186Z"
   },
   {
    "duration": 29,
    "start_time": "2023-06-26T13:52:58.847Z"
   },
   {
    "duration": 3,
    "start_time": "2023-06-26T13:53:17.349Z"
   },
   {
    "duration": 4,
    "start_time": "2023-06-26T13:53:21.988Z"
   },
   {
    "duration": 16,
    "start_time": "2023-06-26T13:53:28.122Z"
   },
   {
    "duration": 130,
    "start_time": "2023-06-26T13:56:37.706Z"
   },
   {
    "duration": 5,
    "start_time": "2023-06-26T13:56:55.368Z"
   },
   {
    "duration": 8,
    "start_time": "2023-06-26T13:56:56.524Z"
   },
   {
    "duration": 5,
    "start_time": "2023-06-26T14:02:45.532Z"
   },
   {
    "duration": 6,
    "start_time": "2023-06-26T14:02:58.615Z"
   },
   {
    "duration": 10,
    "start_time": "2023-06-26T14:03:27.464Z"
   },
   {
    "duration": 5,
    "start_time": "2023-06-26T14:03:56.867Z"
   },
   {
    "duration": 6,
    "start_time": "2023-06-26T14:03:57.374Z"
   },
   {
    "duration": 17,
    "start_time": "2023-06-26T14:04:19.927Z"
   },
   {
    "duration": 6,
    "start_time": "2023-06-26T14:05:06.403Z"
   },
   {
    "duration": 15,
    "start_time": "2023-06-26T14:05:17.136Z"
   },
   {
    "duration": 29,
    "start_time": "2023-06-26T14:05:43.929Z"
   },
   {
    "duration": 19,
    "start_time": "2023-06-26T14:06:14.142Z"
   },
   {
    "duration": 204,
    "start_time": "2023-06-26T14:06:36.022Z"
   },
   {
    "duration": 17,
    "start_time": "2023-06-26T14:08:20.544Z"
   },
   {
    "duration": 5,
    "start_time": "2023-06-26T14:09:06.841Z"
   },
   {
    "duration": 1273,
    "start_time": "2023-06-26T14:09:17.611Z"
   },
   {
    "duration": 24,
    "start_time": "2023-06-26T14:09:39.592Z"
   },
   {
    "duration": 21,
    "start_time": "2023-06-26T14:09:54.768Z"
   },
   {
    "duration": 244,
    "start_time": "2023-06-26T14:10:14.248Z"
   },
   {
    "duration": 12,
    "start_time": "2023-06-26T14:10:54.769Z"
   },
   {
    "duration": 275,
    "start_time": "2023-06-26T14:11:07.994Z"
   },
   {
    "duration": 15,
    "start_time": "2023-06-26T14:11:33.240Z"
   },
   {
    "duration": 192,
    "start_time": "2023-06-26T14:11:33.647Z"
   },
   {
    "duration": 12,
    "start_time": "2023-06-26T14:11:52.124Z"
   },
   {
    "duration": 266,
    "start_time": "2023-06-26T14:11:52.642Z"
   },
   {
    "duration": 14,
    "start_time": "2023-06-26T14:12:06.227Z"
   },
   {
    "duration": 192,
    "start_time": "2023-06-26T14:12:09.970Z"
   },
   {
    "duration": 13,
    "start_time": "2023-06-26T14:12:31.668Z"
   },
   {
    "duration": 198,
    "start_time": "2023-06-26T14:12:32.186Z"
   },
   {
    "duration": 23,
    "start_time": "2023-06-26T14:15:08.288Z"
   },
   {
    "duration": 5,
    "start_time": "2023-06-26T14:15:32.586Z"
   },
   {
    "duration": 140,
    "start_time": "2023-06-26T14:15:36.272Z"
   },
   {
    "duration": 23,
    "start_time": "2023-06-26T14:16:05.788Z"
   },
   {
    "duration": 6,
    "start_time": "2023-06-26T14:16:16.749Z"
   },
   {
    "duration": 143,
    "start_time": "2023-06-26T14:16:17.838Z"
   },
   {
    "duration": 6,
    "start_time": "2023-06-26T14:16:27.571Z"
   },
   {
    "duration": 6,
    "start_time": "2023-06-26T14:16:39.597Z"
   },
   {
    "duration": 156,
    "start_time": "2023-06-26T14:16:41.117Z"
   },
   {
    "duration": 24,
    "start_time": "2023-06-26T14:16:57.486Z"
   },
   {
    "duration": 21,
    "start_time": "2023-06-26T14:17:09.845Z"
   },
   {
    "duration": 5,
    "start_time": "2023-06-26T14:17:14.902Z"
   },
   {
    "duration": 155,
    "start_time": "2023-06-26T14:17:16.437Z"
   },
   {
    "duration": 5,
    "start_time": "2023-06-26T14:17:36.800Z"
   },
   {
    "duration": 157,
    "start_time": "2023-06-26T14:17:37.593Z"
   },
   {
    "duration": 22,
    "start_time": "2023-06-26T14:18:04.421Z"
   },
   {
    "duration": 22,
    "start_time": "2023-06-26T14:18:12.020Z"
   },
   {
    "duration": 150,
    "start_time": "2023-06-26T14:18:33.891Z"
   },
   {
    "duration": 5,
    "start_time": "2023-06-26T14:18:37.941Z"
   },
   {
    "duration": 268,
    "start_time": "2023-06-26T14:18:39.957Z"
   },
   {
    "duration": 155,
    "start_time": "2023-06-26T14:18:58.489Z"
   },
   {
    "duration": 35,
    "start_time": "2023-06-26T14:19:39.182Z"
   },
   {
    "duration": 13,
    "start_time": "2023-06-26T14:21:02.738Z"
   },
   {
    "duration": 11,
    "start_time": "2023-06-26T14:21:03.262Z"
   },
   {
    "duration": 12,
    "start_time": "2023-06-26T14:21:15.148Z"
   },
   {
    "duration": 13,
    "start_time": "2023-06-26T14:21:24.213Z"
   },
   {
    "duration": 12,
    "start_time": "2023-06-26T14:21:39.416Z"
   },
   {
    "duration": 11,
    "start_time": "2023-06-26T14:21:46.848Z"
   },
   {
    "duration": 12,
    "start_time": "2023-06-26T14:22:13.159Z"
   },
   {
    "duration": 12,
    "start_time": "2023-06-26T14:22:15.546Z"
   },
   {
    "duration": 10,
    "start_time": "2023-06-26T14:22:16.020Z"
   },
   {
    "duration": 12,
    "start_time": "2023-06-26T14:22:40.282Z"
   },
   {
    "duration": 11,
    "start_time": "2023-06-26T14:22:40.899Z"
   },
   {
    "duration": 13,
    "start_time": "2023-06-26T14:22:51.129Z"
   },
   {
    "duration": 14,
    "start_time": "2023-06-26T14:23:00.603Z"
   },
   {
    "duration": 306,
    "start_time": "2023-06-26T14:23:11.266Z"
   },
   {
    "duration": 281,
    "start_time": "2023-06-26T14:23:17.416Z"
   },
   {
    "duration": 19,
    "start_time": "2023-06-26T14:23:34.017Z"
   },
   {
    "duration": 13,
    "start_time": "2023-06-26T14:23:56.107Z"
   },
   {
    "duration": 23,
    "start_time": "2023-06-26T14:23:56.130Z"
   },
   {
    "duration": 9,
    "start_time": "2023-06-26T14:24:03.946Z"
   },
   {
    "duration": 4,
    "start_time": "2023-06-26T14:24:05.091Z"
   },
   {
    "duration": 11,
    "start_time": "2023-06-26T14:24:46.757Z"
   },
   {
    "duration": 5,
    "start_time": "2023-06-26T14:25:13.277Z"
   },
   {
    "duration": 1224,
    "start_time": "2023-06-26T14:29:19.415Z"
   },
   {
    "duration": 56,
    "start_time": "2023-06-26T14:29:20.641Z"
   },
   {
    "duration": 23,
    "start_time": "2023-06-26T14:29:20.699Z"
   },
   {
    "duration": 9,
    "start_time": "2023-06-26T14:29:20.724Z"
   },
   {
    "duration": 18,
    "start_time": "2023-06-26T14:29:20.735Z"
   },
   {
    "duration": 25,
    "start_time": "2023-06-26T14:29:20.755Z"
   },
   {
    "duration": 18,
    "start_time": "2023-06-26T14:29:20.781Z"
   },
   {
    "duration": 12,
    "start_time": "2023-06-26T14:29:20.801Z"
   },
   {
    "duration": 32,
    "start_time": "2023-06-26T14:29:20.815Z"
   },
   {
    "duration": 34,
    "start_time": "2023-06-26T14:29:20.850Z"
   },
   {
    "duration": 28,
    "start_time": "2023-06-26T14:29:20.885Z"
   },
   {
    "duration": 32,
    "start_time": "2023-06-26T14:29:20.915Z"
   },
   {
    "duration": 30,
    "start_time": "2023-06-26T14:29:20.948Z"
   },
   {
    "duration": 34,
    "start_time": "2023-06-26T14:29:20.980Z"
   },
   {
    "duration": 41,
    "start_time": "2023-06-26T14:29:21.016Z"
   },
   {
    "duration": 40,
    "start_time": "2023-06-26T14:29:21.059Z"
   },
   {
    "duration": 40,
    "start_time": "2023-06-26T14:29:21.101Z"
   },
   {
    "duration": 204,
    "start_time": "2023-06-26T14:29:21.143Z"
   },
   {
    "duration": 19,
    "start_time": "2023-06-26T14:29:21.349Z"
   },
   {
    "duration": 4,
    "start_time": "2023-06-26T14:29:21.369Z"
   },
   {
    "duration": 1222,
    "start_time": "2023-06-26T14:29:21.375Z"
   },
   {
    "duration": 28,
    "start_time": "2023-06-26T14:29:22.598Z"
   },
   {
    "duration": 216,
    "start_time": "2023-06-26T14:29:22.628Z"
   },
   {
    "duration": 13,
    "start_time": "2023-06-26T14:29:22.853Z"
   },
   {
    "duration": 310,
    "start_time": "2023-06-26T14:29:22.868Z"
   },
   {
    "duration": 13,
    "start_time": "2023-06-26T14:29:23.179Z"
   },
   {
    "duration": 222,
    "start_time": "2023-06-26T14:29:23.194Z"
   },
   {
    "duration": 12,
    "start_time": "2023-06-26T14:29:23.421Z"
   },
   {
    "duration": 212,
    "start_time": "2023-06-26T14:29:23.435Z"
   },
   {
    "duration": 12,
    "start_time": "2023-06-26T14:29:23.653Z"
   },
   {
    "duration": 198,
    "start_time": "2023-06-26T14:29:23.666Z"
   },
   {
    "duration": 13,
    "start_time": "2023-06-26T14:29:23.866Z"
   },
   {
    "duration": 209,
    "start_time": "2023-06-26T14:29:23.880Z"
   },
   {
    "duration": 23,
    "start_time": "2023-06-26T14:29:24.092Z"
   },
   {
    "duration": 3,
    "start_time": "2023-06-26T14:29:24.118Z"
   },
   {
    "duration": 190,
    "start_time": "2023-06-26T14:29:24.123Z"
   },
   {
    "duration": 39,
    "start_time": "2023-06-26T14:29:24.316Z"
   },
   {
    "duration": 5,
    "start_time": "2023-06-26T14:29:24.357Z"
   },
   {
    "duration": 162,
    "start_time": "2023-06-26T14:29:24.364Z"
   },
   {
    "duration": 6,
    "start_time": "2023-06-26T14:29:24.528Z"
   },
   {
    "duration": 162,
    "start_time": "2023-06-26T14:29:24.553Z"
   },
   {
    "duration": 22,
    "start_time": "2023-06-26T14:29:24.717Z"
   },
   {
    "duration": 5,
    "start_time": "2023-06-26T14:29:24.754Z"
   },
   {
    "duration": 168,
    "start_time": "2023-06-26T14:29:24.760Z"
   },
   {
    "duration": 4,
    "start_time": "2023-06-26T14:29:24.930Z"
   },
   {
    "duration": 163,
    "start_time": "2023-06-26T14:29:24.936Z"
   },
   {
    "duration": 23,
    "start_time": "2023-06-26T14:29:25.101Z"
   },
   {
    "duration": 30,
    "start_time": "2023-06-26T14:29:25.126Z"
   },
   {
    "duration": 152,
    "start_time": "2023-06-26T14:29:25.158Z"
   },
   {
    "duration": 6,
    "start_time": "2023-06-26T14:29:25.312Z"
   },
   {
    "duration": 265,
    "start_time": "2023-06-26T14:29:25.320Z"
   },
   {
    "duration": 7,
    "start_time": "2023-06-26T14:29:25.587Z"
   },
   {
    "duration": 59,
    "start_time": "2023-06-26T14:29:25.596Z"
   },
   {
    "duration": 12,
    "start_time": "2023-06-26T14:29:25.657Z"
   },
   {
    "duration": 10,
    "start_time": "2023-06-26T14:29:25.670Z"
   },
   {
    "duration": 21,
    "start_time": "2023-06-26T14:29:25.682Z"
   },
   {
    "duration": 9,
    "start_time": "2023-06-26T14:29:25.705Z"
   },
   {
    "duration": 43,
    "start_time": "2023-06-26T14:29:25.716Z"
   },
   {
    "duration": 9,
    "start_time": "2023-06-26T14:29:25.761Z"
   },
   {
    "duration": 13,
    "start_time": "2023-06-26T14:29:25.771Z"
   },
   {
    "duration": 14,
    "start_time": "2023-06-26T14:29:25.785Z"
   },
   {
    "duration": 14,
    "start_time": "2023-06-26T14:29:25.801Z"
   },
   {
    "duration": 36,
    "start_time": "2023-06-26T14:29:25.817Z"
   },
   {
    "duration": 13,
    "start_time": "2023-06-26T14:29:25.855Z"
   },
   {
    "duration": 10,
    "start_time": "2023-06-26T14:29:25.870Z"
   },
   {
    "duration": 306,
    "start_time": "2023-06-26T14:29:25.881Z"
   },
   {
    "duration": 289,
    "start_time": "2023-06-26T14:29:26.189Z"
   },
   {
    "duration": 20,
    "start_time": "2023-06-26T14:29:26.480Z"
   },
   {
    "duration": 26,
    "start_time": "2023-06-26T14:29:26.502Z"
   },
   {
    "duration": 23,
    "start_time": "2023-06-26T14:29:26.530Z"
   },
   {
    "duration": 13,
    "start_time": "2023-06-26T14:29:26.555Z"
   },
   {
    "duration": 13,
    "start_time": "2023-06-26T14:29:26.570Z"
   }
  ],
  "kernelspec": {
   "display_name": "Python 3 (ipykernel)",
   "language": "python",
   "name": "python3"
  },
  "language_info": {
   "codemirror_mode": {
    "name": "ipython",
    "version": 3
   },
   "file_extension": ".py",
   "mimetype": "text/x-python",
   "name": "python",
   "nbconvert_exporter": "python",
   "pygments_lexer": "ipython3",
   "version": "3.9.5"
  },
  "toc": {
   "base_numbering": 1,
   "nav_menu": {},
   "number_sections": true,
   "sideBar": true,
   "skip_h1_title": true,
   "title_cell": "Table of Contents",
   "title_sidebar": "Contents",
   "toc_cell": false,
   "toc_position": {},
   "toc_section_display": true,
   "toc_window_display": false
  }
 },
 "nbformat": 4,
 "nbformat_minor": 2
}
