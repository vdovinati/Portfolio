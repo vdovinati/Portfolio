{
 "cells": [
  {
   "attachments": {
    "image.png": {
     "image/png": "[encoded data removed]"
    }
   },
   "cell_type": "markdown",
   "id": "080b806d",
   "metadata": {},
   "source": [
    "## Описание проекта\n",
    "![image.png](attachment:image.png)\n",
    "\n",
    "**Описание:**\n",
    "Заказчик предоставил обезличенные данные по истории покупок трех интернет-магазинов\n",
    "\n",
    "**Цель проекта:** нужно разработать решение, которое будет предсказывать, совершит ли пользователь повторную покупку в течение 30 дней.\n",
    "Срок выполнения: 2 недели \n",
    "\n",
    "\n",
    "**Наша задача** - построить модель классификации, которая должна принять решение останется клиент у продавца или уйдет\n",
    "(бинарная классификация).\n",
    "\n",
    "\n",
    "**Ход исследования:**\n",
    "\n",
    "Данные для исследования мы получим из файлов, предоставленных заказчиком.\n",
    "Метрика качества решения будет выбрана после выбора стратегии решения и полноценного исследованиях данных.\n",
    "\n",
    "\n",
    "**Данные:**   \n",
    "\n",
    "`marketplace-purchases.csv`- мультикатегорийный магазин с посещаемостью более 8 млн сессий в месяц   \n",
    "`apparel-purchases.csv` - магазин одежды, по характеристикам похожий на маркетплейс   \n",
    "`gifts-purchases.csv` – магазин подарков, очень маленький   \n",
    "\n",
    "\n",
    "**Описание данных**\n",
    "\n",
    "В датасете представлены данные о покупках (купленных товарах):   \n",
    "`client_id` – идентификатор клиента;   \n",
    "`quantity` – количество товара в заказе;      \n",
    "`price` – цена 1 единицы товара в заказе;      \n",
    "`message_id` – идентификатор сообщения из рассылки;   \n",
    "`date` – дата покупки.   \n",
    "\n",
    "\n",
    "**План исследования построения модели для прогнозирования повторных покупок в интернет-магазинах:**\n",
    "\n",
    "1. Загрузка данных и первичное ознакомление: \n",
    "\n",
    "   - Загрузка данных из файлов marketplace-purchases.csv, apparel-purchases.csv, gifts-purchases.csv\n",
    "   - Просмотр первых строк каждого датасета для ознакомления с содержимым\n",
    "   - Проверка наличия пропущенных значений и необходимость их обработки\n",
    "\n",
    "2. Предварительная обработка данных:\n",
    "\n",
    "   - Объединение данных из разных датасетов, если нужно\n",
    "   - Преобразование типов данных в соответствующий формат\n",
    "   - Исследование распределения признаков и  для выявления особенностей\n",
    "\n",
    "3. Разведочный анализ и создание новых признаков:\n",
    "\n",
    "   - Создание целевой переменной\n",
    "   - Проведение анализа распределения целевой переменной\n",
    "   - Создание новых признаков на основе имеющихся данных\n",
    "   - Визуализация важных характеристик датасета\n",
    "\n",
    "4. Обоснование решения:\n",
    "\n",
    "   - Формулирование задачи как задачи бинарной классификации\n",
    "   - Выбор метрики качества для оценки модели с учетом особенностей таргета\n",
    "   - Разделение данных на обучающую и тестовую выборки\n",
    "   - Оценка корреляции между признаками и целевой переменной\n",
    "   - Использование методов отбора признаков для выбора наиболее значимых\n",
    "\n",
    "5. Выбор и обучение моделей, отбор финального набора признаков:\n",
    "\n",
    "   - Подбор модели для обучения\n",
    "   - Обучение моделей на обучающих данных\n",
    "   - Проверка модели на адекватность\n",
    "   - Проведение анализа важности признаков с использованием методов, таких как Feature Importance\n",
    "   - Оценка влияния каждого признака на прогноз модели\n",
    "   - Выбор наиболее значимых признаков для улучшения модели\n",
    "\n",
    "6. Итоговая оценка качества лучшей модели:\n",
    "\n",
    "   - Расчет дополнительных метрик качества\n",
    "   - Вывод на основе полученной метрики \n",
    "   - Оценка качества модели на тестовой выборке   \n",
    "\n",
    "7. Общий вывод и формулирование рекомендаций:\n",
    "\n",
    "   - Сводный анализ результатов работы\n",
    "   - Формулирование общих выводов о построенной модели\n",
    "   - Составление рекомендаций для бизнеса "
   ]
  },
  {
   "cell_type": "markdown",
   "id": "64050c56",
   "metadata": {},
   "source": [
    "## 1.Загрузка и первичное ознакомление с данными"
   ]
  },
  {
   "cell_type": "markdown",
   "id": "cebaf55b",
   "metadata": {},
   "source": [
    "Импортируем необходимые для анализа данных библиотеки.\n",
    "\n",
    "Считаем данные из csv-файлов в датафреймы и сохраним в переменные market,apparel и gifts соответственно."
   ]
  },
  {
   "cell_type": "code",
   "execution_count": 1,
   "id": "730ae0ae",
   "metadata": {},
   "outputs": [],
   "source": [
    "import pandas as pd\n",
    "import matplotlib.pyplot as plt\n",
    "import seaborn as sns\n",
    "import numpy as np\n",
    "\n",
    "from catboost import CatBoostClassifier, Pool\n",
    "\n",
    "from sklearn.dummy import DummyClassifier\n",
    "from sklearn.model_selection import train_test_split\n",
    "from sklearn.pipeline import Pipeline\n",
    "\n",
    "from sklearn.metrics import (\n",
    "    accuracy_score,\n",
    "    precision_score, \n",
    "    recall_score, \n",
    "    f1_score, \n",
    "    roc_auc_score,\n",
    "    roc_curve, \n",
    "    confusion_matrix,\n",
    "    ConfusionMatrixDisplay,\n",
    "    classification_report\n",
    ")\n",
    "\n",
    "from tqdm import tqdm"
   ]
  },
  {
   "cell_type": "code",
   "execution_count": 2,
   "id": "c64399e9",
   "metadata": {},
   "outputs": [],
   "source": [
    "# введем константы\n",
    "RANDOM_STATE = 12345\n",
    "PROMO = 0.2"
   ]
  },
  {
   "cell_type": "markdown",
   "id": "17d4af5a",
   "metadata": {},
   "source": [
    "### Первичный обзор данных\n",
    "Загрузим имеющиеся датасеты и посмотрим на данные."
   ]
  },
  {
   "cell_type": "code",
   "execution_count": 3,
   "id": "df66e664",
   "metadata": {},
   "outputs": [
    {
     "data": {
      "text/html": [
       "<div>\n",
       "<style scoped>\n",
       "    .dataframe tbody tr th:only-of-type {\n",
       "        vertical-align: middle;\n",
       "    }\n",
       "\n",
       "    .dataframe tbody tr th {\n",
       "        vertical-align: top;\n",
       "    }\n",
       "\n",
       "    .dataframe thead th {\n",
       "        text-align: right;\n",
       "    }\n",
       "</style>\n",
       "<table border=\"1\" class=\"dataframe\">\n",
       "  <thead>\n",
       "    <tr style=\"text-align: right;\">\n",
       "      <th></th>\n",
       "      <th>client_id</th>\n",
       "      <th>quantity</th>\n",
       "      <th>price</th>\n",
       "      <th>message_id</th>\n",
       "      <th>created_at</th>\n",
       "      <th>date</th>\n",
       "    </tr>\n",
       "  </thead>\n",
       "  <tbody>\n",
       "    <tr>\n",
       "      <th>0</th>\n",
       "      <td>1515915625440944408</td>\n",
       "      <td>1</td>\n",
       "      <td>6298.0</td>\n",
       "      <td>1515915625440944408-1752-6450b79616277</td>\n",
       "      <td>2023-05-02</td>\n",
       "      <td>2023-05-02 08:49:57</td>\n",
       "    </tr>\n",
       "    <tr>\n",
       "      <th>1</th>\n",
       "      <td>1515915625440992498</td>\n",
       "      <td>1</td>\n",
       "      <td>7318.0</td>\n",
       "      <td>1515915625440992498-1818-646b35d089c98</td>\n",
       "      <td>2023-05-22</td>\n",
       "      <td>2023-05-22 13:52:13</td>\n",
       "    </tr>\n",
       "    <tr>\n",
       "      <th>2</th>\n",
       "      <td>1515915625441026424</td>\n",
       "      <td>1</td>\n",
       "      <td>65798.0</td>\n",
       "      <td>1515915625441026424-1802-64634e24a2cb9</td>\n",
       "      <td>2023-05-17</td>\n",
       "      <td>2023-05-17 11:21:04</td>\n",
       "    </tr>\n",
       "    <tr>\n",
       "      <th>3</th>\n",
       "      <td>1515915625441118180</td>\n",
       "      <td>1</td>\n",
       "      <td>5598.0</td>\n",
       "      <td>1515915625441118180-1820-646c9444ebf39</td>\n",
       "      <td>2023-05-23</td>\n",
       "      <td>2023-05-23 19:02:53</td>\n",
       "    </tr>\n",
       "    <tr>\n",
       "      <th>4</th>\n",
       "      <td>1515915625441124500</td>\n",
       "      <td>1</td>\n",
       "      <td>77998.0</td>\n",
       "      <td>1515915625441124500-1825-646ed5cf4d5ed</td>\n",
       "      <td>2023-05-25</td>\n",
       "      <td>2023-05-25 07:46:52</td>\n",
       "    </tr>\n",
       "  </tbody>\n",
       "</table>\n",
       "</div>"
      ],
      "text/plain": [
       "             client_id  quantity    price  \\\n",
       "0  1515915625440944408         1   6298.0   \n",
       "1  1515915625440992498         1   7318.0   \n",
       "2  1515915625441026424         1  65798.0   \n",
       "3  1515915625441118180         1   5598.0   \n",
       "4  1515915625441124500         1  77998.0   \n",
       "\n",
       "                               message_id  created_at                 date  \n",
       "0  1515915625440944408-1752-6450b79616277  2023-05-02  2023-05-02 08:49:57  \n",
       "1  1515915625440992498-1818-646b35d089c98  2023-05-22  2023-05-22 13:52:13  \n",
       "2  1515915625441026424-1802-64634e24a2cb9  2023-05-17  2023-05-17 11:21:04  \n",
       "3  1515915625441118180-1820-646c9444ebf39  2023-05-23  2023-05-23 19:02:53  \n",
       "4  1515915625441124500-1825-646ed5cf4d5ed  2023-05-25  2023-05-25 07:46:52  "
      ]
     },
     "execution_count": 3,
     "metadata": {},
     "output_type": "execute_result"
    }
   ],
   "source": [
    "market = pd.read_csv('marketplace-purchases.csv')\n",
    "market.head()"
   ]
  },
  {
   "cell_type": "code",
   "execution_count": 4,
   "id": "00518d2d",
   "metadata": {},
   "outputs": [
    {
     "data": {
      "text/html": [
       "<div>\n",
       "<style scoped>\n",
       "    .dataframe tbody tr th:only-of-type {\n",
       "        vertical-align: middle;\n",
       "    }\n",
       "\n",
       "    .dataframe tbody tr th {\n",
       "        vertical-align: top;\n",
       "    }\n",
       "\n",
       "    .dataframe thead th {\n",
       "        text-align: right;\n",
       "    }\n",
       "</style>\n",
       "<table border=\"1\" class=\"dataframe\">\n",
       "  <thead>\n",
       "    <tr style=\"text-align: right;\">\n",
       "      <th></th>\n",
       "      <th>client_id</th>\n",
       "      <th>quantity</th>\n",
       "      <th>price</th>\n",
       "      <th>date</th>\n",
       "      <th>message_id</th>\n",
       "      <th>recommended_by</th>\n",
       "    </tr>\n",
       "  </thead>\n",
       "  <tbody>\n",
       "    <tr>\n",
       "      <th>0</th>\n",
       "      <td>1515915625468068833</td>\n",
       "      <td>1</td>\n",
       "      <td>3499.0</td>\n",
       "      <td>2023-09-08</td>\n",
       "      <td>1515915625468068833-13781-64fad81bece56</td>\n",
       "      <td>bulk_message</td>\n",
       "    </tr>\n",
       "    <tr>\n",
       "      <th>1</th>\n",
       "      <td>1515915625468068833</td>\n",
       "      <td>1</td>\n",
       "      <td>3499.0</td>\n",
       "      <td>2023-09-08</td>\n",
       "      <td>1515915625468068833-13781-64fad81bece56</td>\n",
       "      <td>bulk_message</td>\n",
       "    </tr>\n",
       "    <tr>\n",
       "      <th>2</th>\n",
       "      <td>1515915625468068833</td>\n",
       "      <td>1</td>\n",
       "      <td>3499.0</td>\n",
       "      <td>2023-09-08</td>\n",
       "      <td>1515915625468068833-13781-64fad81bece56</td>\n",
       "      <td>bulk_message</td>\n",
       "    </tr>\n",
       "    <tr>\n",
       "      <th>3</th>\n",
       "      <td>1515915625468068833</td>\n",
       "      <td>1</td>\n",
       "      <td>2450.0</td>\n",
       "      <td>2023-09-08</td>\n",
       "      <td>1515915625468068833-13781-64fad81bece56</td>\n",
       "      <td>bulk_message</td>\n",
       "    </tr>\n",
       "    <tr>\n",
       "      <th>4</th>\n",
       "      <td>1515915625468068833</td>\n",
       "      <td>1</td>\n",
       "      <td>2450.0</td>\n",
       "      <td>2023-09-08</td>\n",
       "      <td>1515915625468068833-13781-64fad81bece56</td>\n",
       "      <td>bulk_message</td>\n",
       "    </tr>\n",
       "  </tbody>\n",
       "</table>\n",
       "</div>"
      ],
      "text/plain": [
       "             client_id  quantity   price        date  \\\n",
       "0  1515915625468068833         1  3499.0  2023-09-08   \n",
       "1  1515915625468068833         1  3499.0  2023-09-08   \n",
       "2  1515915625468068833         1  3499.0  2023-09-08   \n",
       "3  1515915625468068833         1  2450.0  2023-09-08   \n",
       "4  1515915625468068833         1  2450.0  2023-09-08   \n",
       "\n",
       "                                message_id recommended_by  \n",
       "0  1515915625468068833-13781-64fad81bece56   bulk_message  \n",
       "1  1515915625468068833-13781-64fad81bece56   bulk_message  \n",
       "2  1515915625468068833-13781-64fad81bece56   bulk_message  \n",
       "3  1515915625468068833-13781-64fad81bece56   bulk_message  \n",
       "4  1515915625468068833-13781-64fad81bece56   bulk_message  "
      ]
     },
     "execution_count": 4,
     "metadata": {},
     "output_type": "execute_result"
    }
   ],
   "source": [
    "apparel = pd.read_csv('apparel-purchases.csv')\n",
    "apparel.head()"
   ]
  },
  {
   "cell_type": "code",
   "execution_count": 5,
   "id": "48625cb7",
   "metadata": {},
   "outputs": [
    {
     "data": {
      "text/html": [
       "<div>\n",
       "<style scoped>\n",
       "    .dataframe tbody tr th:only-of-type {\n",
       "        vertical-align: middle;\n",
       "    }\n",
       "\n",
       "    .dataframe tbody tr th {\n",
       "        vertical-align: top;\n",
       "    }\n",
       "\n",
       "    .dataframe thead th {\n",
       "        text-align: right;\n",
       "    }\n",
       "</style>\n",
       "<table border=\"1\" class=\"dataframe\">\n",
       "  <thead>\n",
       "    <tr style=\"text-align: right;\">\n",
       "      <th></th>\n",
       "      <th>client_id</th>\n",
       "      <th>quantity</th>\n",
       "      <th>price</th>\n",
       "      <th>date</th>\n",
       "      <th>message_id</th>\n",
       "      <th>recommended_by</th>\n",
       "    </tr>\n",
       "  </thead>\n",
       "  <tbody>\n",
       "    <tr>\n",
       "      <th>0</th>\n",
       "      <td>1515915625803894158</td>\n",
       "      <td>1</td>\n",
       "      <td>8943.0</td>\n",
       "      <td>2023-10-11</td>\n",
       "      <td>1515915625935652010-16166-6525589bca68f</td>\n",
       "      <td>bulk_message</td>\n",
       "    </tr>\n",
       "    <tr>\n",
       "      <th>1</th>\n",
       "      <td>1515915625803894158</td>\n",
       "      <td>1</td>\n",
       "      <td>46369.0</td>\n",
       "      <td>2023-10-11</td>\n",
       "      <td>1515915625935652010-16166-6525589bca68f</td>\n",
       "      <td>bulk_message</td>\n",
       "    </tr>\n",
       "    <tr>\n",
       "      <th>2</th>\n",
       "      <td>1515915625803894158</td>\n",
       "      <td>1</td>\n",
       "      <td>4666.0</td>\n",
       "      <td>2023-10-11</td>\n",
       "      <td>1515915625935652010-16166-6525589bca68f</td>\n",
       "      <td>bulk_message</td>\n",
       "    </tr>\n",
       "    <tr>\n",
       "      <th>3</th>\n",
       "      <td>1515915625803894158</td>\n",
       "      <td>1</td>\n",
       "      <td>11963.0</td>\n",
       "      <td>2023-10-11</td>\n",
       "      <td>1515915625935652010-16166-6525589bca68f</td>\n",
       "      <td>bulk_message</td>\n",
       "    </tr>\n",
       "    <tr>\n",
       "      <th>4</th>\n",
       "      <td>1515915625803894158</td>\n",
       "      <td>1</td>\n",
       "      <td>13107.0</td>\n",
       "      <td>2023-10-11</td>\n",
       "      <td>1515915625935652010-16166-6525589bca68f</td>\n",
       "      <td>bulk_message</td>\n",
       "    </tr>\n",
       "  </tbody>\n",
       "</table>\n",
       "</div>"
      ],
      "text/plain": [
       "             client_id  quantity    price        date  \\\n",
       "0  1515915625803894158         1   8943.0  2023-10-11   \n",
       "1  1515915625803894158         1  46369.0  2023-10-11   \n",
       "2  1515915625803894158         1   4666.0  2023-10-11   \n",
       "3  1515915625803894158         1  11963.0  2023-10-11   \n",
       "4  1515915625803894158         1  13107.0  2023-10-11   \n",
       "\n",
       "                                message_id recommended_by  \n",
       "0  1515915625935652010-16166-6525589bca68f   bulk_message  \n",
       "1  1515915625935652010-16166-6525589bca68f   bulk_message  \n",
       "2  1515915625935652010-16166-6525589bca68f   bulk_message  \n",
       "3  1515915625935652010-16166-6525589bca68f   bulk_message  \n",
       "4  1515915625935652010-16166-6525589bca68f   bulk_message  "
      ]
     },
     "execution_count": 5,
     "metadata": {},
     "output_type": "execute_result"
    }
   ],
   "source": [
    "gifts = pd.read_csv('gifts-purchases.csv')\n",
    "gifts.head()"
   ]
  },
  {
   "cell_type": "markdown",
   "id": "c9f10502",
   "metadata": {},
   "source": [
    "Названия столбцов практически соответствуют описанию данных от заказчика. Следует уточнить относительно даты: что такое `created_at`. Столбцы `message_id` и `recommended_by` в данном исследовании использоваться не будут."
   ]
  },
  {
   "cell_type": "code",
   "execution_count": 6,
   "id": "d6a02ee7",
   "metadata": {},
   "outputs": [],
   "source": [
    "# выберем стиль для оформления графиков\n",
    "plt.style.use('fivethirtyeight')"
   ]
  },
  {
   "cell_type": "code",
   "execution_count": 7,
   "id": "24898f49",
   "metadata": {},
   "outputs": [],
   "source": [
    "# напишем функцию для вывода основной информации о датасете\n",
    "def main_info(data):\n",
    "    \"\"\"\n",
    "     Функция для отображения основной информации о датафрейме, включая:\n",
    "    - Информацию о структуре данных\n",
    "    - Период представления данных\n",
    "    - Количество строк и столбцов\n",
    "    - Числовое описание данных\n",
    "    - Количество строк-дубликатов\n",
    "    - Количество и процент пропущенных значений по признакам\n",
    "    - Типы признаков\n",
    "    \n",
    "    Параметры:\n",
    "    data (pd.DataFrame): Датафрейм, для которого необходимо вывести информацию\n",
    "    \n",
    "    Возвращает:\n",
    "    None\n",
    "    \"\"\"\n",
    "    print(f'Основная информация о датафрейме')\n",
    "    print()\n",
    "    display(data.info())\n",
    "    # посмотрим период за который у нас есть данные в обучающей выборке\n",
    "    max_date = data['date'].max()\n",
    "    min_date = data['date'].min()\n",
    "    print(f'Данные представлены за период c {min_date} по {max_date}')\n",
    "    print()\n",
    "    \n",
    "    print(f'Количество строк датасета {data.shape[0]}')\n",
    "    print(f'Количество столбцов {data.shape[1]}')\n",
    "    print()\n",
    "\n",
    "    print(f'Числовое описание данных')\n",
    "    display(data.describe().style.background_gradient())\n",
    "    print()\n",
    "\n",
    "    print(f'Количество строк-дубликатов')\n",
    "    display(data.duplicated().sum())\n",
    "    print()\n",
    "\n",
    "    print(f'Количество пропусков в процентном соотношении')\n",
    "    display(pd.DataFrame(round(data.isna().mean()*100,1)).style.background_gradient())\n",
    "    print()\n",
    "\n",
    "    print(f'Тип признаков')\n",
    "    print(data.dtypes)"
   ]
  },
  {
   "cell_type": "code",
   "execution_count": 8,
   "id": "8a0bdff8",
   "metadata": {},
   "outputs": [
    {
     "name": "stdout",
     "output_type": "stream",
     "text": [
      "Основная информация о датафрейме\n",
      "\n",
      "<class 'pandas.core.frame.DataFrame'>\n",
      "RangeIndex: 48182 entries, 0 to 48181\n",
      "Data columns (total 6 columns):\n",
      " #   Column      Non-Null Count  Dtype  \n",
      "---  ------      --------------  -----  \n",
      " 0   client_id   48182 non-null  int64  \n",
      " 1   quantity    48182 non-null  int64  \n",
      " 2   price       48182 non-null  float64\n",
      " 3   message_id  48182 non-null  object \n",
      " 4   created_at  48182 non-null  object \n",
      " 5   date        48182 non-null  object \n",
      "dtypes: float64(1), int64(2), object(3)\n",
      "memory usage: 2.2+ MB\n"
     ]
    },
    {
     "data": {
      "text/plain": [
       "None"
      ]
     },
     "metadata": {},
     "output_type": "display_data"
    },
    {
     "name": "stdout",
     "output_type": "stream",
     "text": [
      "Данные представлены за период c 2022-10-26 08:35:46 по 2023-10-26 13:34:11\n",
      "\n",
      "Количество строк датасета 48182\n",
      "Количество столбцов 6\n",
      "\n",
      "Числовое описание данных\n"
     ]
    },
    {
     "data": {
      "text/html": [
       "<style type=\"text/css\">\n",
       "#T_dc6cf_row0_col0, #T_dc6cf_row1_col1, #T_dc6cf_row2_col0, #T_dc6cf_row2_col1, #T_dc6cf_row3_col1, #T_dc6cf_row3_col2, #T_dc6cf_row4_col1, #T_dc6cf_row4_col2, #T_dc6cf_row5_col1, #T_dc6cf_row6_col1, #T_dc6cf_row7_col1 {\n",
       "  background-color: #fff7fb;\n",
       "  color: #000000;\n",
       "}\n",
       "#T_dc6cf_row0_col1, #T_dc6cf_row1_col0, #T_dc6cf_row3_col0, #T_dc6cf_row4_col0, #T_dc6cf_row5_col0, #T_dc6cf_row6_col0, #T_dc6cf_row7_col0, #T_dc6cf_row7_col2 {\n",
       "  background-color: #023858;\n",
       "  color: #f1f1f1;\n",
       "}\n",
       "#T_dc6cf_row0_col2 {\n",
       "  background-color: #faf2f8;\n",
       "  color: #000000;\n",
       "}\n",
       "#T_dc6cf_row1_col2 {\n",
       "  background-color: #fcf4fa;\n",
       "  color: #000000;\n",
       "}\n",
       "#T_dc6cf_row2_col2 {\n",
       "  background-color: #faf3f9;\n",
       "  color: #000000;\n",
       "}\n",
       "#T_dc6cf_row5_col2 {\n",
       "  background-color: #fef6fb;\n",
       "  color: #000000;\n",
       "}\n",
       "#T_dc6cf_row6_col2 {\n",
       "  background-color: #fbf3f9;\n",
       "  color: #000000;\n",
       "}\n",
       "</style>\n",
       "<table id=\"T_dc6cf\">\n",
       "  <thead>\n",
       "    <tr>\n",
       "      <th class=\"blank level0\" >&nbsp;</th>\n",
       "      <th id=\"T_dc6cf_level0_col0\" class=\"col_heading level0 col0\" >client_id</th>\n",
       "      <th id=\"T_dc6cf_level0_col1\" class=\"col_heading level0 col1\" >quantity</th>\n",
       "      <th id=\"T_dc6cf_level0_col2\" class=\"col_heading level0 col2\" >price</th>\n",
       "    </tr>\n",
       "  </thead>\n",
       "  <tbody>\n",
       "    <tr>\n",
       "      <th id=\"T_dc6cf_level0_row0\" class=\"row_heading level0 row0\" >count</th>\n",
       "      <td id=\"T_dc6cf_row0_col0\" class=\"data row0 col0\" >48182.000000</td>\n",
       "      <td id=\"T_dc6cf_row0_col1\" class=\"data row0 col1\" >48182.000000</td>\n",
       "      <td id=\"T_dc6cf_row0_col2\" class=\"data row0 col2\" >48182.000000</td>\n",
       "    </tr>\n",
       "    <tr>\n",
       "      <th id=\"T_dc6cf_level0_row1\" class=\"row_heading level0 row1\" >mean</th>\n",
       "      <td id=\"T_dc6cf_row1_col0\" class=\"data row1 col0\" >1515915625532499712.000000</td>\n",
       "      <td id=\"T_dc6cf_row1_col1\" class=\"data row1 col1\" >1.017413</td>\n",
       "      <td id=\"T_dc6cf_row1_col2\" class=\"data row1 col2\" >27918.953157</td>\n",
       "    </tr>\n",
       "    <tr>\n",
       "      <th id=\"T_dc6cf_level0_row2\" class=\"row_heading level0 row2\" >std</th>\n",
       "      <td id=\"T_dc6cf_row2_col0\" class=\"data row2 col0\" >31733881.346170</td>\n",
       "      <td id=\"T_dc6cf_row2_col1\" class=\"data row2 col1\" >0.540592</td>\n",
       "      <td id=\"T_dc6cf_row2_col2\" class=\"data row2 col2\" >44922.741767</td>\n",
       "    </tr>\n",
       "    <tr>\n",
       "      <th id=\"T_dc6cf_level0_row3\" class=\"row_heading level0 row3\" >min</th>\n",
       "      <td id=\"T_dc6cf_row3_col0\" class=\"data row3 col0\" >1515915625440099840.000000</td>\n",
       "      <td id=\"T_dc6cf_row3_col1\" class=\"data row3 col1\" >1.000000</td>\n",
       "      <td id=\"T_dc6cf_row3_col2\" class=\"data row3 col2\" >0.000000</td>\n",
       "    </tr>\n",
       "    <tr>\n",
       "      <th id=\"T_dc6cf_level0_row4\" class=\"row_heading level0 row4\" >25%</th>\n",
       "      <td id=\"T_dc6cf_row4_col0\" class=\"data row4 col0\" >1515915625517591808.000000</td>\n",
       "      <td id=\"T_dc6cf_row4_col1\" class=\"data row4 col1\" >1.000000</td>\n",
       "      <td id=\"T_dc6cf_row4_col2\" class=\"data row4 col2\" >1204.250000</td>\n",
       "    </tr>\n",
       "    <tr>\n",
       "      <th id=\"T_dc6cf_level0_row5\" class=\"row_heading level0 row5\" >50%</th>\n",
       "      <td id=\"T_dc6cf_row5_col0\" class=\"data row5 col0\" >1515915625531135232.000000</td>\n",
       "      <td id=\"T_dc6cf_row5_col1\" class=\"data row5 col1\" >1.000000</td>\n",
       "      <td id=\"T_dc6cf_row5_col2\" class=\"data row5 col2\" >9998.000000</td>\n",
       "    </tr>\n",
       "    <tr>\n",
       "      <th id=\"T_dc6cf_level0_row6\" class=\"row_heading level0 row6\" >75%</th>\n",
       "      <td id=\"T_dc6cf_row6_col0\" class=\"data row6 col0\" >1515915625557538816.000000</td>\n",
       "      <td id=\"T_dc6cf_row6_col1\" class=\"data row6 col1\" >1.000000</td>\n",
       "      <td id=\"T_dc6cf_row6_col2\" class=\"data row6 col2\" >35998.000000</td>\n",
       "    </tr>\n",
       "    <tr>\n",
       "      <th id=\"T_dc6cf_level0_row7\" class=\"row_heading level0 row7\" >max</th>\n",
       "      <td id=\"T_dc6cf_row7_col0\" class=\"data row7 col0\" >1515915625588646144.000000</td>\n",
       "      <td id=\"T_dc6cf_row7_col1\" class=\"data row7 col1\" >50.000000</td>\n",
       "      <td id=\"T_dc6cf_row7_col2\" class=\"data row7 col2\" >1299998.000000</td>\n",
       "    </tr>\n",
       "  </tbody>\n",
       "</table>\n"
      ],
      "text/plain": [
       "<pandas.io.formats.style.Styler at 0x1fbe64c2710>"
      ]
     },
     "metadata": {},
     "output_type": "display_data"
    },
    {
     "name": "stdout",
     "output_type": "stream",
     "text": [
      "\n",
      "Количество строк-дубликатов\n"
     ]
    },
    {
     "data": {
      "text/plain": [
       "2159"
      ]
     },
     "metadata": {},
     "output_type": "display_data"
    },
    {
     "name": "stdout",
     "output_type": "stream",
     "text": [
      "\n",
      "Количество пропусков в процентном соотношении\n"
     ]
    },
    {
     "data": {
      "text/html": [
       "<style type=\"text/css\">\n",
       "#T_776d4_row0_col0, #T_776d4_row1_col0, #T_776d4_row2_col0, #T_776d4_row3_col0, #T_776d4_row4_col0, #T_776d4_row5_col0 {\n",
       "  background-color: #fff7fb;\n",
       "  color: #000000;\n",
       "}\n",
       "</style>\n",
       "<table id=\"T_776d4\">\n",
       "  <thead>\n",
       "    <tr>\n",
       "      <th class=\"blank level0\" >&nbsp;</th>\n",
       "      <th id=\"T_776d4_level0_col0\" class=\"col_heading level0 col0\" >0</th>\n",
       "    </tr>\n",
       "  </thead>\n",
       "  <tbody>\n",
       "    <tr>\n",
       "      <th id=\"T_776d4_level0_row0\" class=\"row_heading level0 row0\" >client_id</th>\n",
       "      <td id=\"T_776d4_row0_col0\" class=\"data row0 col0\" >0.000000</td>\n",
       "    </tr>\n",
       "    <tr>\n",
       "      <th id=\"T_776d4_level0_row1\" class=\"row_heading level0 row1\" >quantity</th>\n",
       "      <td id=\"T_776d4_row1_col0\" class=\"data row1 col0\" >0.000000</td>\n",
       "    </tr>\n",
       "    <tr>\n",
       "      <th id=\"T_776d4_level0_row2\" class=\"row_heading level0 row2\" >price</th>\n",
       "      <td id=\"T_776d4_row2_col0\" class=\"data row2 col0\" >0.000000</td>\n",
       "    </tr>\n",
       "    <tr>\n",
       "      <th id=\"T_776d4_level0_row3\" class=\"row_heading level0 row3\" >message_id</th>\n",
       "      <td id=\"T_776d4_row3_col0\" class=\"data row3 col0\" >0.000000</td>\n",
       "    </tr>\n",
       "    <tr>\n",
       "      <th id=\"T_776d4_level0_row4\" class=\"row_heading level0 row4\" >created_at</th>\n",
       "      <td id=\"T_776d4_row4_col0\" class=\"data row4 col0\" >0.000000</td>\n",
       "    </tr>\n",
       "    <tr>\n",
       "      <th id=\"T_776d4_level0_row5\" class=\"row_heading level0 row5\" >date</th>\n",
       "      <td id=\"T_776d4_row5_col0\" class=\"data row5 col0\" >0.000000</td>\n",
       "    </tr>\n",
       "  </tbody>\n",
       "</table>\n"
      ],
      "text/plain": [
       "<pandas.io.formats.style.Styler at 0x1fbe6755550>"
      ]
     },
     "metadata": {},
     "output_type": "display_data"
    },
    {
     "name": "stdout",
     "output_type": "stream",
     "text": [
      "\n",
      "Тип признаков\n",
      "client_id       int64\n",
      "quantity        int64\n",
      "price         float64\n",
      "message_id     object\n",
      "created_at     object\n",
      "date           object\n",
      "dtype: object\n"
     ]
    }
   ],
   "source": [
    "# посмотрим продажи маркетплейса\n",
    "main_info(market)"
   ]
  },
  {
   "cell_type": "code",
   "execution_count": 9,
   "id": "1b9937c5",
   "metadata": {},
   "outputs": [
    {
     "name": "stdout",
     "output_type": "stream",
     "text": [
      "Основная информация о датафрейме\n",
      "\n",
      "<class 'pandas.core.frame.DataFrame'>\n",
      "RangeIndex: 133104 entries, 0 to 133103\n",
      "Data columns (total 6 columns):\n",
      " #   Column          Non-Null Count   Dtype  \n",
      "---  ------          --------------   -----  \n",
      " 0   client_id       133104 non-null  int64  \n",
      " 1   quantity        133104 non-null  int64  \n",
      " 2   price           133104 non-null  float64\n",
      " 3   date            133104 non-null  object \n",
      " 4   message_id      133104 non-null  object \n",
      " 5   recommended_by  133104 non-null  object \n",
      "dtypes: float64(1), int64(2), object(3)\n",
      "memory usage: 6.1+ MB\n"
     ]
    },
    {
     "data": {
      "text/plain": [
       "None"
      ]
     },
     "metadata": {},
     "output_type": "display_data"
    },
    {
     "name": "stdout",
     "output_type": "stream",
     "text": [
      "Данные представлены за период c 2022-10-26 по 2023-10-26\n",
      "\n",
      "Количество строк датасета 133104\n",
      "Количество столбцов 6\n",
      "\n",
      "Числовое описание данных\n"
     ]
    },
    {
     "data": {
      "text/html": [
       "<style type=\"text/css\">\n",
       "#T_bcd64_row0_col0, #T_bcd64_row1_col1, #T_bcd64_row2_col0, #T_bcd64_row2_col1, #T_bcd64_row3_col1, #T_bcd64_row3_col2, #T_bcd64_row4_col1, #T_bcd64_row4_col2, #T_bcd64_row5_col1, #T_bcd64_row6_col1, #T_bcd64_row7_col1 {\n",
       "  background-color: #fff7fb;\n",
       "  color: #000000;\n",
       "}\n",
       "#T_bcd64_row0_col1, #T_bcd64_row0_col2, #T_bcd64_row1_col0, #T_bcd64_row3_col0, #T_bcd64_row4_col0, #T_bcd64_row5_col0, #T_bcd64_row6_col0, #T_bcd64_row7_col0 {\n",
       "  background-color: #023858;\n",
       "  color: #f1f1f1;\n",
       "}\n",
       "#T_bcd64_row1_col2, #T_bcd64_row2_col2, #T_bcd64_row6_col2 {\n",
       "  background-color: #fef6fa;\n",
       "  color: #000000;\n",
       "}\n",
       "#T_bcd64_row5_col2 {\n",
       "  background-color: #fef6fb;\n",
       "  color: #000000;\n",
       "}\n",
       "#T_bcd64_row7_col2 {\n",
       "  background-color: #7dacd1;\n",
       "  color: #f1f1f1;\n",
       "}\n",
       "</style>\n",
       "<table id=\"T_bcd64\">\n",
       "  <thead>\n",
       "    <tr>\n",
       "      <th class=\"blank level0\" >&nbsp;</th>\n",
       "      <th id=\"T_bcd64_level0_col0\" class=\"col_heading level0 col0\" >client_id</th>\n",
       "      <th id=\"T_bcd64_level0_col1\" class=\"col_heading level0 col1\" >quantity</th>\n",
       "      <th id=\"T_bcd64_level0_col2\" class=\"col_heading level0 col2\" >price</th>\n",
       "    </tr>\n",
       "  </thead>\n",
       "  <tbody>\n",
       "    <tr>\n",
       "      <th id=\"T_bcd64_level0_row0\" class=\"row_heading level0 row0\" >count</th>\n",
       "      <td id=\"T_bcd64_row0_col0\" class=\"data row0 col0\" >133104.000000</td>\n",
       "      <td id=\"T_bcd64_row0_col1\" class=\"data row0 col1\" >133104.000000</td>\n",
       "      <td id=\"T_bcd64_row0_col2\" class=\"data row0 col2\" >133104.000000</td>\n",
       "    </tr>\n",
       "    <tr>\n",
       "      <th id=\"T_bcd64_level0_row1\" class=\"row_heading level0 row1\" >mean</th>\n",
       "      <td id=\"T_bcd64_row1_col0\" class=\"data row1 col0\" >1515915625597781760.000000</td>\n",
       "      <td id=\"T_bcd64_row1_col1\" class=\"data row1 col1\" >1.004312</td>\n",
       "      <td id=\"T_bcd64_row1_col2\" class=\"data row1 col2\" >1110.433067</td>\n",
       "    </tr>\n",
       "    <tr>\n",
       "      <th id=\"T_bcd64_level0_row2\" class=\"row_heading level0 row2\" >std</th>\n",
       "      <td id=\"T_bcd64_row2_col0\" class=\"data row2 col0\" >142207773.481220</td>\n",
       "      <td id=\"T_bcd64_row2_col1\" class=\"data row2 col1\" >0.149315</td>\n",
       "      <td id=\"T_bcd64_row2_col2\" class=\"data row2 col2\" >1257.080854</td>\n",
       "    </tr>\n",
       "    <tr>\n",
       "      <th id=\"T_bcd64_level0_row3\" class=\"row_heading level0 row3\" >min</th>\n",
       "      <td id=\"T_bcd64_row3_col0\" class=\"data row3 col0\" >1515915625468060928.000000</td>\n",
       "      <td id=\"T_bcd64_row3_col1\" class=\"data row3 col1\" >1.000000</td>\n",
       "      <td id=\"T_bcd64_row3_col2\" class=\"data row3 col2\" >1.000000</td>\n",
       "    </tr>\n",
       "    <tr>\n",
       "      <th id=\"T_bcd64_level0_row4\" class=\"row_heading level0 row4\" >25%</th>\n",
       "      <td id=\"T_bcd64_row4_col0\" class=\"data row4 col0\" >1515915625490427904.000000</td>\n",
       "      <td id=\"T_bcd64_row4_col1\" class=\"data row4 col1\" >1.000000</td>\n",
       "      <td id=\"T_bcd64_row4_col2\" class=\"data row4 col2\" >280.000000</td>\n",
       "    </tr>\n",
       "    <tr>\n",
       "      <th id=\"T_bcd64_level0_row5\" class=\"row_heading level0 row5\" >50%</th>\n",
       "      <td id=\"T_bcd64_row5_col0\" class=\"data row5 col0\" >1515915625558532608.000000</td>\n",
       "      <td id=\"T_bcd64_row5_col1\" class=\"data row5 col1\" >1.000000</td>\n",
       "      <td id=\"T_bcd64_row5_col2\" class=\"data row5 col2\" >799.000000</td>\n",
       "    </tr>\n",
       "    <tr>\n",
       "      <th id=\"T_bcd64_level0_row6\" class=\"row_heading level0 row6\" >75%</th>\n",
       "      <td id=\"T_bcd64_row6_col0\" class=\"data row6 col0\" >1515915625625638912.000000</td>\n",
       "      <td id=\"T_bcd64_row6_col1\" class=\"data row6 col1\" >1.000000</td>\n",
       "      <td id=\"T_bcd64_row6_col2\" class=\"data row6 col2\" >1499.000000</td>\n",
       "    </tr>\n",
       "    <tr>\n",
       "      <th id=\"T_bcd64_level0_row7\" class=\"row_heading level0 row7\" >max</th>\n",
       "      <td id=\"T_bcd64_row7_col0\" class=\"data row7 col0\" >1515915625999034624.000000</td>\n",
       "      <td id=\"T_bcd64_row7_col1\" class=\"data row7 col1\" >30.000000</td>\n",
       "      <td id=\"T_bcd64_row7_col2\" class=\"data row7 col2\" >63499.000000</td>\n",
       "    </tr>\n",
       "  </tbody>\n",
       "</table>\n"
      ],
      "text/plain": [
       "<pandas.io.formats.style.Styler at 0x1fbe64afd10>"
      ]
     },
     "metadata": {},
     "output_type": "display_data"
    },
    {
     "name": "stdout",
     "output_type": "stream",
     "text": [
      "\n",
      "Количество строк-дубликатов\n"
     ]
    },
    {
     "data": {
      "text/plain": [
       "59250"
      ]
     },
     "metadata": {},
     "output_type": "display_data"
    },
    {
     "name": "stdout",
     "output_type": "stream",
     "text": [
      "\n",
      "Количество пропусков в процентном соотношении\n"
     ]
    },
    {
     "data": {
      "text/html": [
       "<style type=\"text/css\">\n",
       "#T_0c585_row0_col0, #T_0c585_row1_col0, #T_0c585_row2_col0, #T_0c585_row3_col0, #T_0c585_row4_col0, #T_0c585_row5_col0 {\n",
       "  background-color: #fff7fb;\n",
       "  color: #000000;\n",
       "}\n",
       "</style>\n",
       "<table id=\"T_0c585\">\n",
       "  <thead>\n",
       "    <tr>\n",
       "      <th class=\"blank level0\" >&nbsp;</th>\n",
       "      <th id=\"T_0c585_level0_col0\" class=\"col_heading level0 col0\" >0</th>\n",
       "    </tr>\n",
       "  </thead>\n",
       "  <tbody>\n",
       "    <tr>\n",
       "      <th id=\"T_0c585_level0_row0\" class=\"row_heading level0 row0\" >client_id</th>\n",
       "      <td id=\"T_0c585_row0_col0\" class=\"data row0 col0\" >0.000000</td>\n",
       "    </tr>\n",
       "    <tr>\n",
       "      <th id=\"T_0c585_level0_row1\" class=\"row_heading level0 row1\" >quantity</th>\n",
       "      <td id=\"T_0c585_row1_col0\" class=\"data row1 col0\" >0.000000</td>\n",
       "    </tr>\n",
       "    <tr>\n",
       "      <th id=\"T_0c585_level0_row2\" class=\"row_heading level0 row2\" >price</th>\n",
       "      <td id=\"T_0c585_row2_col0\" class=\"data row2 col0\" >0.000000</td>\n",
       "    </tr>\n",
       "    <tr>\n",
       "      <th id=\"T_0c585_level0_row3\" class=\"row_heading level0 row3\" >date</th>\n",
       "      <td id=\"T_0c585_row3_col0\" class=\"data row3 col0\" >0.000000</td>\n",
       "    </tr>\n",
       "    <tr>\n",
       "      <th id=\"T_0c585_level0_row4\" class=\"row_heading level0 row4\" >message_id</th>\n",
       "      <td id=\"T_0c585_row4_col0\" class=\"data row4 col0\" >0.000000</td>\n",
       "    </tr>\n",
       "    <tr>\n",
       "      <th id=\"T_0c585_level0_row5\" class=\"row_heading level0 row5\" >recommended_by</th>\n",
       "      <td id=\"T_0c585_row5_col0\" class=\"data row5 col0\" >0.000000</td>\n",
       "    </tr>\n",
       "  </tbody>\n",
       "</table>\n"
      ],
      "text/plain": [
       "<pandas.io.formats.style.Styler at 0x1fbe6747a10>"
      ]
     },
     "metadata": {},
     "output_type": "display_data"
    },
    {
     "name": "stdout",
     "output_type": "stream",
     "text": [
      "\n",
      "Тип признаков\n",
      "client_id           int64\n",
      "quantity            int64\n",
      "price             float64\n",
      "date               object\n",
      "message_id         object\n",
      "recommended_by     object\n",
      "dtype: object\n"
     ]
    }
   ],
   "source": [
    "# посмотрим продажи магазина одежды\n",
    "main_info(apparel)"
   ]
  },
  {
   "cell_type": "code",
   "execution_count": 10,
   "id": "ec86b90c",
   "metadata": {},
   "outputs": [
    {
     "name": "stdout",
     "output_type": "stream",
     "text": [
      "Основная информация о датафрейме\n",
      "\n",
      "<class 'pandas.core.frame.DataFrame'>\n",
      "RangeIndex: 811 entries, 0 to 810\n",
      "Data columns (total 6 columns):\n",
      " #   Column          Non-Null Count  Dtype  \n",
      "---  ------          --------------  -----  \n",
      " 0   client_id       811 non-null    int64  \n",
      " 1   quantity        811 non-null    int64  \n",
      " 2   price           811 non-null    float64\n",
      " 3   date            811 non-null    object \n",
      " 4   message_id      811 non-null    object \n",
      " 5   recommended_by  811 non-null    object \n",
      "dtypes: float64(1), int64(2), object(3)\n",
      "memory usage: 38.1+ KB\n"
     ]
    },
    {
     "data": {
      "text/plain": [
       "None"
      ]
     },
     "metadata": {},
     "output_type": "display_data"
    },
    {
     "name": "stdout",
     "output_type": "stream",
     "text": [
      "Данные представлены за период c 2022-10-26 по 2023-10-24\n",
      "\n",
      "Количество строк датасета 811\n",
      "Количество столбцов 6\n",
      "\n",
      "Числовое описание данных\n"
     ]
    },
    {
     "data": {
      "text/html": [
       "<style type=\"text/css\">\n",
       "#T_ed636_row0_col0, #T_ed636_row0_col2, #T_ed636_row1_col1, #T_ed636_row2_col0, #T_ed636_row2_col1, #T_ed636_row3_col1, #T_ed636_row3_col2, #T_ed636_row4_col1, #T_ed636_row5_col1, #T_ed636_row6_col1, #T_ed636_row7_col1 {\n",
       "  background-color: #fff7fb;\n",
       "  color: #000000;\n",
       "}\n",
       "#T_ed636_row0_col1, #T_ed636_row1_col0, #T_ed636_row3_col0, #T_ed636_row4_col0, #T_ed636_row5_col0, #T_ed636_row6_col0, #T_ed636_row7_col0, #T_ed636_row7_col2 {\n",
       "  background-color: #023858;\n",
       "  color: #f1f1f1;\n",
       "}\n",
       "#T_ed636_row1_col2 {\n",
       "  background-color: #f3edf5;\n",
       "  color: #000000;\n",
       "}\n",
       "#T_ed636_row2_col2, #T_ed636_row6_col2 {\n",
       "  background-color: #f0eaf4;\n",
       "  color: #000000;\n",
       "}\n",
       "#T_ed636_row4_col2 {\n",
       "  background-color: #fdf5fa;\n",
       "  color: #000000;\n",
       "}\n",
       "#T_ed636_row5_col2 {\n",
       "  background-color: #f9f2f8;\n",
       "  color: #000000;\n",
       "}\n",
       "</style>\n",
       "<table id=\"T_ed636\">\n",
       "  <thead>\n",
       "    <tr>\n",
       "      <th class=\"blank level0\" >&nbsp;</th>\n",
       "      <th id=\"T_ed636_level0_col0\" class=\"col_heading level0 col0\" >client_id</th>\n",
       "      <th id=\"T_ed636_level0_col1\" class=\"col_heading level0 col1\" >quantity</th>\n",
       "      <th id=\"T_ed636_level0_col2\" class=\"col_heading level0 col2\" >price</th>\n",
       "    </tr>\n",
       "  </thead>\n",
       "  <tbody>\n",
       "    <tr>\n",
       "      <th id=\"T_ed636_level0_row0\" class=\"row_heading level0 row0\" >count</th>\n",
       "      <td id=\"T_ed636_row0_col0\" class=\"data row0 col0\" >811.000000</td>\n",
       "      <td id=\"T_ed636_row0_col1\" class=\"data row0 col1\" >811.000000</td>\n",
       "      <td id=\"T_ed636_row0_col2\" class=\"data row0 col2\" >811.000000</td>\n",
       "    </tr>\n",
       "    <tr>\n",
       "      <th id=\"T_ed636_level0_row1\" class=\"row_heading level0 row1\" >mean</th>\n",
       "      <td id=\"T_ed636_row1_col0\" class=\"data row1 col0\" >1515915625875147776.000000</td>\n",
       "      <td id=\"T_ed636_row1_col1\" class=\"data row1 col1\" >1.003699</td>\n",
       "      <td id=\"T_ed636_row1_col2\" class=\"data row1 col2\" >14468.795314</td>\n",
       "    </tr>\n",
       "    <tr>\n",
       "      <th id=\"T_ed636_level0_row2\" class=\"row_heading level0 row2\" >std</th>\n",
       "      <td id=\"T_ed636_row2_col0\" class=\"data row2 col0\" >62554070.509116</td>\n",
       "      <td id=\"T_ed636_row2_col1\" class=\"data row2 col1\" >0.060745</td>\n",
       "      <td id=\"T_ed636_row2_col2\" class=\"data row2 col2\" >17774.341837</td>\n",
       "    </tr>\n",
       "    <tr>\n",
       "      <th id=\"T_ed636_level0_row3\" class=\"row_heading level0 row3\" >min</th>\n",
       "      <td id=\"T_ed636_row3_col0\" class=\"data row3 col0\" >1515915625803180544.000000</td>\n",
       "      <td id=\"T_ed636_row3_col1\" class=\"data row3 col1\" >1.000000</td>\n",
       "      <td id=\"T_ed636_row3_col2\" class=\"data row3 col2\" >656.000000</td>\n",
       "    </tr>\n",
       "    <tr>\n",
       "      <th id=\"T_ed636_level0_row4\" class=\"row_heading level0 row4\" >25%</th>\n",
       "      <td id=\"T_ed636_row4_col0\" class=\"data row4 col0\" >1515915625827804416.000000</td>\n",
       "      <td id=\"T_ed636_row4_col1\" class=\"data row4 col1\" >1.000000</td>\n",
       "      <td id=\"T_ed636_row4_col2\" class=\"data row4 col2\" >3878.000000</td>\n",
       "    </tr>\n",
       "    <tr>\n",
       "      <th id=\"T_ed636_level0_row5\" class=\"row_heading level0 row5\" >50%</th>\n",
       "      <td id=\"T_ed636_row5_col0\" class=\"data row5 col0\" >1515915625857734656.000000</td>\n",
       "      <td id=\"T_ed636_row5_col1\" class=\"data row5 col1\" >1.000000</td>\n",
       "      <td id=\"T_ed636_row5_col2\" class=\"data row5 col2\" >7533.000000</td>\n",
       "    </tr>\n",
       "    <tr>\n",
       "      <th id=\"T_ed636_level0_row6\" class=\"row_heading level0 row6\" >75%</th>\n",
       "      <td id=\"T_ed636_row6_col0\" class=\"data row6 col0\" >1515915625934780416.000000</td>\n",
       "      <td id=\"T_ed636_row6_col1\" class=\"data row6 col1\" >1.000000</td>\n",
       "      <td id=\"T_ed636_row6_col2\" class=\"data row6 col2\" >17938.000000</td>\n",
       "    </tr>\n",
       "    <tr>\n",
       "      <th id=\"T_ed636_level0_row7\" class=\"row_heading level0 row7\" >max</th>\n",
       "      <td id=\"T_ed636_row7_col0\" class=\"data row7 col0\" >1515915626013602560.000000</td>\n",
       "      <td id=\"T_ed636_row7_col1\" class=\"data row7 col1\" >2.000000</td>\n",
       "      <td id=\"T_ed636_row7_col2\" class=\"data row7 col2\" >173586.000000</td>\n",
       "    </tr>\n",
       "  </tbody>\n",
       "</table>\n"
      ],
      "text/plain": [
       "<pandas.io.formats.style.Styler at 0x1fbe674d350>"
      ]
     },
     "metadata": {},
     "output_type": "display_data"
    },
    {
     "name": "stdout",
     "output_type": "stream",
     "text": [
      "\n",
      "Количество строк-дубликатов\n"
     ]
    },
    {
     "data": {
      "text/plain": [
       "56"
      ]
     },
     "metadata": {},
     "output_type": "display_data"
    },
    {
     "name": "stdout",
     "output_type": "stream",
     "text": [
      "\n",
      "Количество пропусков в процентном соотношении\n"
     ]
    },
    {
     "data": {
      "text/html": [
       "<style type=\"text/css\">\n",
       "#T_c381e_row0_col0, #T_c381e_row1_col0, #T_c381e_row2_col0, #T_c381e_row3_col0, #T_c381e_row4_col0, #T_c381e_row5_col0 {\n",
       "  background-color: #fff7fb;\n",
       "  color: #000000;\n",
       "}\n",
       "</style>\n",
       "<table id=\"T_c381e\">\n",
       "  <thead>\n",
       "    <tr>\n",
       "      <th class=\"blank level0\" >&nbsp;</th>\n",
       "      <th id=\"T_c381e_level0_col0\" class=\"col_heading level0 col0\" >0</th>\n",
       "    </tr>\n",
       "  </thead>\n",
       "  <tbody>\n",
       "    <tr>\n",
       "      <th id=\"T_c381e_level0_row0\" class=\"row_heading level0 row0\" >client_id</th>\n",
       "      <td id=\"T_c381e_row0_col0\" class=\"data row0 col0\" >0.000000</td>\n",
       "    </tr>\n",
       "    <tr>\n",
       "      <th id=\"T_c381e_level0_row1\" class=\"row_heading level0 row1\" >quantity</th>\n",
       "      <td id=\"T_c381e_row1_col0\" class=\"data row1 col0\" >0.000000</td>\n",
       "    </tr>\n",
       "    <tr>\n",
       "      <th id=\"T_c381e_level0_row2\" class=\"row_heading level0 row2\" >price</th>\n",
       "      <td id=\"T_c381e_row2_col0\" class=\"data row2 col0\" >0.000000</td>\n",
       "    </tr>\n",
       "    <tr>\n",
       "      <th id=\"T_c381e_level0_row3\" class=\"row_heading level0 row3\" >date</th>\n",
       "      <td id=\"T_c381e_row3_col0\" class=\"data row3 col0\" >0.000000</td>\n",
       "    </tr>\n",
       "    <tr>\n",
       "      <th id=\"T_c381e_level0_row4\" class=\"row_heading level0 row4\" >message_id</th>\n",
       "      <td id=\"T_c381e_row4_col0\" class=\"data row4 col0\" >0.000000</td>\n",
       "    </tr>\n",
       "    <tr>\n",
       "      <th id=\"T_c381e_level0_row5\" class=\"row_heading level0 row5\" >recommended_by</th>\n",
       "      <td id=\"T_c381e_row5_col0\" class=\"data row5 col0\" >0.000000</td>\n",
       "    </tr>\n",
       "  </tbody>\n",
       "</table>\n"
      ],
      "text/plain": [
       "<pandas.io.formats.style.Styler at 0x1fbe6747a10>"
      ]
     },
     "metadata": {},
     "output_type": "display_data"
    },
    {
     "name": "stdout",
     "output_type": "stream",
     "text": [
      "\n",
      "Тип признаков\n",
      "client_id           int64\n",
      "quantity            int64\n",
      "price             float64\n",
      "date               object\n",
      "message_id         object\n",
      "recommended_by     object\n",
      "dtype: object\n"
     ]
    }
   ],
   "source": [
    "# посмотрим продажи подарков\n",
    "main_info(gifts)"
   ]
  },
  {
   "cell_type": "markdown",
   "id": "ad70e298",
   "metadata": {},
   "source": [
    "**Вывод**\n",
    "\n",
    "В маркетплейсе представлено: 48182 объектов, 6 столбцов. При этом количество строк-дубликатов: 2159. \n",
    "\n",
    "В магазине одежды  данных больше всего 133104 объекта, 6 столбцов. При этом количество строк-дубликатов: 59250. \n",
    "Данные представлены за период c 2022-10-26 по 2023-10-26.\n",
    "\n",
    "В магазине подарков меньше всего данных: 811 объектов, 6 столлбцов. 56 строк дубликатов.   \n",
    "\n",
    "\n",
    "Данные по 3-м площадкам даны за год: с 2022-10-26 по 2023-10-26.    \n",
    "Пропусков в данных нет.   \n",
    "Типы данных в столбце `date` следует привести к формату даты.       \n",
    "Следует рассмотреть подробно дубликаты и решить, что с ними делать.      \n",
    "Также удалим сразу столбец `message_id` в 3-х датасетах.   \n",
    "\n"
   ]
  },
  {
   "cell_type": "code",
   "execution_count": 11,
   "id": "9fa519d2",
   "metadata": {},
   "outputs": [
    {
     "data": {
      "text/plain": [
       "bulk_message    133104\n",
       "Name: recommended_by, dtype: int64"
      ]
     },
     "execution_count": 11,
     "metadata": {},
     "output_type": "execute_result"
    }
   ],
   "source": [
    "# посмотрим уникальные значения\n",
    "apparel['recommended_by'].value_counts()"
   ]
  },
  {
   "cell_type": "markdown",
   "id": "94fac49e",
   "metadata": {},
   "source": [
    "В столбце 'recommended_by' лишь одно значение - 'bulk_message', на данном этапе ценности не представляет, поэтому подлежит удалению."
   ]
  },
  {
   "cell_type": "code",
   "execution_count": 12,
   "id": "73ea19f4",
   "metadata": {},
   "outputs": [
    {
     "name": "stdout",
     "output_type": "stream",
     "text": [
      "             client_id  quantity    price                 date\n",
      "0  1515915625440944408         1   6298.0  2023-05-02 08:49:57\n",
      "1  1515915625440992498         1   7318.0  2023-05-22 13:52:13\n",
      "2  1515915625441026424         1  65798.0  2023-05-17 11:21:04\n",
      "3  1515915625441118180         1   5598.0  2023-05-23 19:02:53\n",
      "4  1515915625441124500         1  77998.0  2023-05-25 07:46:52\n"
     ]
    }
   ],
   "source": [
    "market = market.drop(['message_id','created_at'], axis=1)\n",
    "print(market.head())"
   ]
  },
  {
   "cell_type": "code",
   "execution_count": 13,
   "id": "8a18c347",
   "metadata": {},
   "outputs": [
    {
     "name": "stdout",
     "output_type": "stream",
     "text": [
      "             client_id  quantity   price        date\n",
      "0  1515915625468068833         1  3499.0  2023-09-08\n",
      "1  1515915625468068833         1  3499.0  2023-09-08\n",
      "2  1515915625468068833         1  3499.0  2023-09-08\n",
      "3  1515915625468068833         1  2450.0  2023-09-08\n",
      "4  1515915625468068833         1  2450.0  2023-09-08\n"
     ]
    }
   ],
   "source": [
    "apparel = apparel.drop(['message_id','recommended_by'], axis=1)\n",
    "print(apparel.head())"
   ]
  },
  {
   "cell_type": "code",
   "execution_count": 14,
   "id": "23333a07",
   "metadata": {},
   "outputs": [
    {
     "name": "stdout",
     "output_type": "stream",
     "text": [
      "             client_id  quantity    price        date\n",
      "0  1515915625803894158         1   8943.0  2023-10-11\n",
      "1  1515915625803894158         1  46369.0  2023-10-11\n",
      "2  1515915625803894158         1   4666.0  2023-10-11\n",
      "3  1515915625803894158         1  11963.0  2023-10-11\n",
      "4  1515915625803894158         1  13107.0  2023-10-11\n"
     ]
    }
   ],
   "source": [
    "gifts = gifts.drop(['message_id','recommended_by'], axis=1)\n",
    "print(gifts.head())\n"
   ]
  },
  {
   "cell_type": "markdown",
   "id": "b06784a3",
   "metadata": {},
   "source": [
    "Посмотрим есть ли повторяющиеся покупатели в наших данных, для этого объединим датасеты."
   ]
  },
  {
   "cell_type": "code",
   "execution_count": 15,
   "id": "c0476791",
   "metadata": {},
   "outputs": [
    {
     "data": {
      "text/html": [
       "<div>\n",
       "<style scoped>\n",
       "    .dataframe tbody tr th:only-of-type {\n",
       "        vertical-align: middle;\n",
       "    }\n",
       "\n",
       "    .dataframe tbody tr th {\n",
       "        vertical-align: top;\n",
       "    }\n",
       "\n",
       "    .dataframe thead th {\n",
       "        text-align: right;\n",
       "    }\n",
       "</style>\n",
       "<table border=\"1\" class=\"dataframe\">\n",
       "  <thead>\n",
       "    <tr style=\"text-align: right;\">\n",
       "      <th></th>\n",
       "      <th>client_id</th>\n",
       "      <th>quantity_x</th>\n",
       "      <th>price_x</th>\n",
       "      <th>date_x</th>\n",
       "      <th>quantity_y</th>\n",
       "      <th>price_y</th>\n",
       "      <th>date_y</th>\n",
       "    </tr>\n",
       "  </thead>\n",
       "  <tbody>\n",
       "  </tbody>\n",
       "</table>\n",
       "</div>"
      ],
      "text/plain": [
       "Empty DataFrame\n",
       "Columns: [client_id, quantity_x, price_x, date_x, quantity_y, price_y, date_y]\n",
       "Index: []"
      ]
     },
     "execution_count": 15,
     "metadata": {},
     "output_type": "execute_result"
    }
   ],
   "source": [
    "merge = market.merge(apparel,\n",
    "    left_on= 'client_id',\n",
    "    right_on='client_id',\n",
    "    how='inner'\n",
    ")\n",
    "merge.head()"
   ]
  },
  {
   "cell_type": "markdown",
   "id": "b95c3a49",
   "metadata": {},
   "source": [
    "Совпадений нет, соответственно это разные магазины."
   ]
  },
  {
   "cell_type": "markdown",
   "id": "2bf0fed8",
   "metadata": {},
   "source": [
    "## 2. Исследовательский анализ данных (EDA)\n",
    "\n",
    "В целях подготовки гипотезы решения задачи проведем исследовательский анализ данных (EDA), который состоит из следующих этапов:\n",
    "\n",
    "* изучение признаков по каждой площадке;   \n",
    "* взаимосвязь признаков между собой и выявление закономерностей;   \n",
    "* варианты возможного решения задачи; \n",
    "* создание таргета;\n",
    "* разделение выборки на трейн и тест;\n",
    "* разработка новых синтетических признаков;\n",
    "* выбор модели, метрики качества;\n",
    "* отбор финального набора обучающих признаков."
   ]
  },
  {
   "cell_type": "markdown",
   "id": "cf6eef70",
   "metadata": {},
   "source": [
    "### 2.1.Исследование особенностей мультикатегорийного магазина `market`"
   ]
  },
  {
   "cell_type": "markdown",
   "id": "c7ed7cf0",
   "metadata": {},
   "source": [
    "**Типы данных**"
   ]
  },
  {
   "cell_type": "code",
   "execution_count": 16,
   "id": "c45e8799",
   "metadata": {},
   "outputs": [
    {
     "data": {
      "text/plain": [
       "0   2023-05-02 08:49:57+00:00\n",
       "1   2023-05-22 13:52:13+00:00\n",
       "2   2023-05-17 11:21:04+00:00\n",
       "3   2023-05-23 19:02:53+00:00\n",
       "4   2023-05-25 07:46:52+00:00\n",
       "Name: date, dtype: datetime64[ns, UTC]"
      ]
     },
     "execution_count": 16,
     "metadata": {},
     "output_type": "execute_result"
    }
   ],
   "source": [
    "# переведем столбец к типу данных datetime, с учетом временной зоны мирового стандартного времени UTC\n",
    "market['date'] = pd.to_datetime(market['date'],utc=True)\n",
    "market['date'].head()"
   ]
  },
  {
   "cell_type": "code",
   "execution_count": 17,
   "id": "1a7cab82",
   "metadata": {},
   "outputs": [],
   "source": [
    "# изменим тип данных в целях оптимизации памяти\n",
    "market['price'] = market['price'].astype(np.float32)"
   ]
  },
  {
   "cell_type": "markdown",
   "id": "778c83fe",
   "metadata": {},
   "source": [
    "Далее рассмотрим дубликаты, уникальность клиентских id и посмотрим в целом когда совершаются покупки по датам и времени.\n",
    "В датасете не заказ, а именно купленные товары. Клиент в одном заказе может купить несколько товаров с разной ценой.\n",
    "Будем считать покупки за один день как один заказ.\n",
    "\n",
    "**Рассмотрим особенности распределения цены 1 единицы товара**"
   ]
  },
  {
   "cell_type": "code",
   "execution_count": 18,
   "id": "5dd0dc3c",
   "metadata": {},
   "outputs": [
    {
     "data": {
      "image/png": "[encoded data removed]",
      "text/plain": [
       "<Figure size 1700x400 with 1 Axes>"
      ]
     },
     "metadata": {},
     "output_type": "display_data"
    }
   ],
   "source": [
    "plt.figure(figsize=(17,4))\n",
    "plt.boxplot(market['price'],vert = False);\n",
    "plt.title ('Распределение цены 1 ед. товара');\n",
    "plt.xlabel ('Цена, в рублях');\n",
    "plt.ylabel ('Частота');"
   ]
  },
  {
   "cell_type": "code",
   "execution_count": 19,
   "id": "4fc14e67",
   "metadata": {},
   "outputs": [
    {
     "data": {
      "text/plain": [
       "count    4.818200e+04\n",
       "mean     2.791895e+04\n",
       "std      4.492339e+04\n",
       "min      0.000000e+00\n",
       "25%      1.204250e+03\n",
       "50%      9.998000e+03\n",
       "75%      3.599800e+04\n",
       "max      1.299998e+06\n",
       "Name: price, dtype: float64"
      ]
     },
     "execution_count": 19,
     "metadata": {},
     "output_type": "execute_result"
    }
   ],
   "source": [
    "market['price'].describe()"
   ]
  },
  {
   "cell_type": "code",
   "execution_count": 20,
   "id": "1dfc7a3d",
   "metadata": {},
   "outputs": [
    {
     "data": {
      "text/html": [
       "<div>\n",
       "<style scoped>\n",
       "    .dataframe tbody tr th:only-of-type {\n",
       "        vertical-align: middle;\n",
       "    }\n",
       "\n",
       "    .dataframe tbody tr th {\n",
       "        vertical-align: top;\n",
       "    }\n",
       "\n",
       "    .dataframe thead th {\n",
       "        text-align: right;\n",
       "    }\n",
       "</style>\n",
       "<table border=\"1\" class=\"dataframe\">\n",
       "  <thead>\n",
       "    <tr style=\"text-align: right;\">\n",
       "      <th></th>\n",
       "      <th>client_id</th>\n",
       "      <th>quantity</th>\n",
       "      <th>price</th>\n",
       "      <th>date</th>\n",
       "    </tr>\n",
       "  </thead>\n",
       "  <tbody>\n",
       "    <tr>\n",
       "      <th>32019</th>\n",
       "      <td>1515915625520674208</td>\n",
       "      <td>1</td>\n",
       "      <td>0.0</td>\n",
       "      <td>2023-08-23 10:09:13+00:00</td>\n",
       "    </tr>\n",
       "    <tr>\n",
       "      <th>32020</th>\n",
       "      <td>1515915625520674208</td>\n",
       "      <td>1</td>\n",
       "      <td>0.0</td>\n",
       "      <td>2023-08-23 10:09:13+00:00</td>\n",
       "    </tr>\n",
       "  </tbody>\n",
       "</table>\n",
       "</div>"
      ],
      "text/plain": [
       "                 client_id  quantity  price                      date\n",
       "32019  1515915625520674208         1    0.0 2023-08-23 10:09:13+00:00\n",
       "32020  1515915625520674208         1    0.0 2023-08-23 10:09:13+00:00"
      ]
     },
     "execution_count": 20,
     "metadata": {},
     "output_type": "execute_result"
    }
   ],
   "source": [
    "market[market['price']==0.000000e+00]"
   ]
  },
  {
   "cell_type": "code",
   "execution_count": 21,
   "id": "0347790a",
   "metadata": {},
   "outputs": [
    {
     "data": {
      "text/html": [
       "<div>\n",
       "<style scoped>\n",
       "    .dataframe tbody tr th:only-of-type {\n",
       "        vertical-align: middle;\n",
       "    }\n",
       "\n",
       "    .dataframe tbody tr th {\n",
       "        vertical-align: top;\n",
       "    }\n",
       "\n",
       "    .dataframe thead th {\n",
       "        text-align: right;\n",
       "    }\n",
       "</style>\n",
       "<table border=\"1\" class=\"dataframe\">\n",
       "  <thead>\n",
       "    <tr style=\"text-align: right;\">\n",
       "      <th></th>\n",
       "      <th>client_id</th>\n",
       "      <th>quantity</th>\n",
       "      <th>price</th>\n",
       "      <th>date</th>\n",
       "    </tr>\n",
       "  </thead>\n",
       "  <tbody>\n",
       "    <tr>\n",
       "      <th>28725</th>\n",
       "      <td>1515915625518981759</td>\n",
       "      <td>1</td>\n",
       "      <td>1299998.0</td>\n",
       "      <td>2022-11-03 15:05:30+00:00</td>\n",
       "    </tr>\n",
       "    <tr>\n",
       "      <th>28726</th>\n",
       "      <td>1515915625518981759</td>\n",
       "      <td>1</td>\n",
       "      <td>1299998.0</td>\n",
       "      <td>2022-11-03 15:14:08+00:00</td>\n",
       "    </tr>\n",
       "    <tr>\n",
       "      <th>28727</th>\n",
       "      <td>1515915625518981759</td>\n",
       "      <td>1</td>\n",
       "      <td>1299998.0</td>\n",
       "      <td>2022-11-03 15:15:50+00:00</td>\n",
       "    </tr>\n",
       "    <tr>\n",
       "      <th>28728</th>\n",
       "      <td>1515915625518981759</td>\n",
       "      <td>1</td>\n",
       "      <td>1299998.0</td>\n",
       "      <td>2022-11-03 15:19:33+00:00</td>\n",
       "    </tr>\n",
       "    <tr>\n",
       "      <th>28729</th>\n",
       "      <td>1515915625518981759</td>\n",
       "      <td>1</td>\n",
       "      <td>1299998.0</td>\n",
       "      <td>2022-11-03 15:23:29+00:00</td>\n",
       "    </tr>\n",
       "    <tr>\n",
       "      <th>28730</th>\n",
       "      <td>1515915625518981759</td>\n",
       "      <td>1</td>\n",
       "      <td>1299998.0</td>\n",
       "      <td>2022-11-03 15:42:01+00:00</td>\n",
       "    </tr>\n",
       "    <tr>\n",
       "      <th>28731</th>\n",
       "      <td>1515915625518981759</td>\n",
       "      <td>1</td>\n",
       "      <td>1299998.0</td>\n",
       "      <td>2022-11-03 16:06:50+00:00</td>\n",
       "    </tr>\n",
       "    <tr>\n",
       "      <th>28732</th>\n",
       "      <td>1515915625518981759</td>\n",
       "      <td>1</td>\n",
       "      <td>1299998.0</td>\n",
       "      <td>2022-11-03 16:10:16+00:00</td>\n",
       "    </tr>\n",
       "    <tr>\n",
       "      <th>28733</th>\n",
       "      <td>1515915625518981759</td>\n",
       "      <td>1</td>\n",
       "      <td>1299998.0</td>\n",
       "      <td>2022-11-03 17:03:13+00:00</td>\n",
       "    </tr>\n",
       "    <tr>\n",
       "      <th>28734</th>\n",
       "      <td>1515915625518981759</td>\n",
       "      <td>1</td>\n",
       "      <td>1299998.0</td>\n",
       "      <td>2022-11-03 18:06:15+00:00</td>\n",
       "    </tr>\n",
       "    <tr>\n",
       "      <th>28735</th>\n",
       "      <td>1515915625518981759</td>\n",
       "      <td>1</td>\n",
       "      <td>1299998.0</td>\n",
       "      <td>2022-11-04 08:22:13+00:00</td>\n",
       "    </tr>\n",
       "    <tr>\n",
       "      <th>28736</th>\n",
       "      <td>1515915625518981759</td>\n",
       "      <td>1</td>\n",
       "      <td>1299998.0</td>\n",
       "      <td>2022-11-04 08:34:12+00:00</td>\n",
       "    </tr>\n",
       "  </tbody>\n",
       "</table>\n",
       "</div>"
      ],
      "text/plain": [
       "                 client_id  quantity      price                      date\n",
       "28725  1515915625518981759         1  1299998.0 2022-11-03 15:05:30+00:00\n",
       "28726  1515915625518981759         1  1299998.0 2022-11-03 15:14:08+00:00\n",
       "28727  1515915625518981759         1  1299998.0 2022-11-03 15:15:50+00:00\n",
       "28728  1515915625518981759         1  1299998.0 2022-11-03 15:19:33+00:00\n",
       "28729  1515915625518981759         1  1299998.0 2022-11-03 15:23:29+00:00\n",
       "28730  1515915625518981759         1  1299998.0 2022-11-03 15:42:01+00:00\n",
       "28731  1515915625518981759         1  1299998.0 2022-11-03 16:06:50+00:00\n",
       "28732  1515915625518981759         1  1299998.0 2022-11-03 16:10:16+00:00\n",
       "28733  1515915625518981759         1  1299998.0 2022-11-03 17:03:13+00:00\n",
       "28734  1515915625518981759         1  1299998.0 2022-11-03 18:06:15+00:00\n",
       "28735  1515915625518981759         1  1299998.0 2022-11-04 08:22:13+00:00\n",
       "28736  1515915625518981759         1  1299998.0 2022-11-04 08:34:12+00:00"
      ]
     },
     "execution_count": 21,
     "metadata": {},
     "output_type": "execute_result"
    }
   ],
   "source": [
    "market[market['price']==1.299998e+06]"
   ]
  },
  {
   "cell_type": "code",
   "execution_count": 22,
   "id": "6080ba75",
   "metadata": {},
   "outputs": [
    {
     "data": {
      "text/html": [
       "<div>\n",
       "<style scoped>\n",
       "    .dataframe tbody tr th:only-of-type {\n",
       "        vertical-align: middle;\n",
       "    }\n",
       "\n",
       "    .dataframe tbody tr th {\n",
       "        vertical-align: top;\n",
       "    }\n",
       "\n",
       "    .dataframe thead th {\n",
       "        text-align: right;\n",
       "    }\n",
       "</style>\n",
       "<table border=\"1\" class=\"dataframe\">\n",
       "  <thead>\n",
       "    <tr style=\"text-align: right;\">\n",
       "      <th></th>\n",
       "      <th>client_id</th>\n",
       "      <th>quantity</th>\n",
       "      <th>price</th>\n",
       "      <th>date</th>\n",
       "    </tr>\n",
       "  </thead>\n",
       "  <tbody>\n",
       "    <tr>\n",
       "      <th>32</th>\n",
       "      <td>1515915625442799497</td>\n",
       "      <td>1</td>\n",
       "      <td>35998.0</td>\n",
       "      <td>2023-05-10 10:53:18+00:00</td>\n",
       "    </tr>\n",
       "    <tr>\n",
       "      <th>61</th>\n",
       "      <td>1515915625444717160</td>\n",
       "      <td>1</td>\n",
       "      <td>35998.0</td>\n",
       "      <td>2023-05-26 11:01:55+00:00</td>\n",
       "    </tr>\n",
       "    <tr>\n",
       "      <th>63</th>\n",
       "      <td>1515915625445587855</td>\n",
       "      <td>1</td>\n",
       "      <td>35998.0</td>\n",
       "      <td>2023-05-10 13:42:18+00:00</td>\n",
       "    </tr>\n",
       "    <tr>\n",
       "      <th>109</th>\n",
       "      <td>1515915625456888187</td>\n",
       "      <td>2</td>\n",
       "      <td>35998.0</td>\n",
       "      <td>2023-05-23 05:51:58+00:00</td>\n",
       "    </tr>\n",
       "    <tr>\n",
       "      <th>111</th>\n",
       "      <td>1515915625456888187</td>\n",
       "      <td>1</td>\n",
       "      <td>35998.0</td>\n",
       "      <td>2023-05-26 08:32:48+00:00</td>\n",
       "    </tr>\n",
       "    <tr>\n",
       "      <th>...</th>\n",
       "      <td>...</td>\n",
       "      <td>...</td>\n",
       "      <td>...</td>\n",
       "      <td>...</td>\n",
       "    </tr>\n",
       "    <tr>\n",
       "      <th>47959</th>\n",
       "      <td>1515915625574004578</td>\n",
       "      <td>1</td>\n",
       "      <td>35998.0</td>\n",
       "      <td>2023-04-10 14:17:18+00:00</td>\n",
       "    </tr>\n",
       "    <tr>\n",
       "      <th>47970</th>\n",
       "      <td>1515915625574084883</td>\n",
       "      <td>1</td>\n",
       "      <td>35998.0</td>\n",
       "      <td>2023-04-08 08:05:31+00:00</td>\n",
       "    </tr>\n",
       "    <tr>\n",
       "      <th>48049</th>\n",
       "      <td>1515915625574682759</td>\n",
       "      <td>1</td>\n",
       "      <td>35998.0</td>\n",
       "      <td>2023-04-24 09:57:07+00:00</td>\n",
       "    </tr>\n",
       "    <tr>\n",
       "      <th>48111</th>\n",
       "      <td>1515915625575221721</td>\n",
       "      <td>1</td>\n",
       "      <td>35998.0</td>\n",
       "      <td>2023-04-21 14:09:42+00:00</td>\n",
       "    </tr>\n",
       "    <tr>\n",
       "      <th>48164</th>\n",
       "      <td>1515915625575663346</td>\n",
       "      <td>1</td>\n",
       "      <td>35998.0</td>\n",
       "      <td>2023-04-27 09:27:12+00:00</td>\n",
       "    </tr>\n",
       "  </tbody>\n",
       "</table>\n",
       "<p>503 rows × 4 columns</p>\n",
       "</div>"
      ],
      "text/plain": [
       "                 client_id  quantity    price                      date\n",
       "32     1515915625442799497         1  35998.0 2023-05-10 10:53:18+00:00\n",
       "61     1515915625444717160         1  35998.0 2023-05-26 11:01:55+00:00\n",
       "63     1515915625445587855         1  35998.0 2023-05-10 13:42:18+00:00\n",
       "109    1515915625456888187         2  35998.0 2023-05-23 05:51:58+00:00\n",
       "111    1515915625456888187         1  35998.0 2023-05-26 08:32:48+00:00\n",
       "...                    ...       ...      ...                       ...\n",
       "47959  1515915625574004578         1  35998.0 2023-04-10 14:17:18+00:00\n",
       "47970  1515915625574084883         1  35998.0 2023-04-08 08:05:31+00:00\n",
       "48049  1515915625574682759         1  35998.0 2023-04-24 09:57:07+00:00\n",
       "48111  1515915625575221721         1  35998.0 2023-04-21 14:09:42+00:00\n",
       "48164  1515915625575663346         1  35998.0 2023-04-27 09:27:12+00:00\n",
       "\n",
       "[503 rows x 4 columns]"
      ]
     },
     "execution_count": 22,
     "metadata": {},
     "output_type": "execute_result"
    }
   ],
   "source": [
    "market[market['price']==3.599800e+04]"
   ]
  },
  {
   "cell_type": "markdown",
   "id": "92edf28e",
   "metadata": {},
   "source": [
    "В среднем товары покупались по цене 27 918 руб. \n",
    "Есть клиент который совершил покупку на 0 рублей, можно смело удалить, т.к. не несет для нас никакой ценности. \n",
    "\n",
    "Максимальная цена -  1 299 998 руб. Думаю, стоит отдельно рассмотреть данного клиента и напомнить ему о предстоящих акциях в ноябре, т.к. последние и единственные покупки у него были в ноябре 2022 г, видимо связанные с ноябрьским распродажами 11.11.\n"
   ]
  },
  {
   "cell_type": "code",
   "execution_count": 23,
   "id": "0bd1f111",
   "metadata": {},
   "outputs": [],
   "source": [
    "market = market[market['price'] > 0]"
   ]
  },
  {
   "cell_type": "markdown",
   "id": "5e3bb64c",
   "metadata": {},
   "source": [
    "**Динамика продаж за год и по месяцам**"
   ]
  },
  {
   "cell_type": "code",
   "execution_count": 24,
   "id": "4ac3417a",
   "metadata": {},
   "outputs": [
    {
     "data": {
      "image/png": "[encoded data removed]",
      "text/plain": [
       "<Figure size 1000x500 with 1 Axes>"
      ]
     },
     "metadata": {},
     "output_type": "display_data"
    }
   ],
   "source": [
    "market['date'].hist(bins=50, figsize=(10,5), color='skyblue',edgecolor='orange', grid=False)\n",
    "plt.title('Динамика продаж за год')\n",
    "plt.xlabel('Год, месяц')\n",
    "plt.ylabel('Количество продаж')\n",
    "plt.show();"
   ]
  },
  {
   "cell_type": "code",
   "execution_count": 25,
   "id": "0cd0bd14",
   "metadata": {},
   "outputs": [
    {
     "data": {
      "image/png": "[encoded data removed]",
      "text/plain": [
       "<Figure size 2000x700 with 1 Axes>"
      ]
     },
     "metadata": {},
     "output_type": "display_data"
    }
   ],
   "source": [
    "market['month'] = market['date'].dt.month\n",
    "plt.figure(figsize=(20, 7))\n",
    "market.groupby('month').size().plot(kind='bar', color='skyblue', edgecolor='orange')\n",
    "plt.title('Продажи по месяцам')\n",
    "plt.xlabel('Месяц')\n",
    "plt.ylabel('Количество продаж')\n",
    "plt.xticks(rotation=0)\n",
    "plt.show();"
   ]
  },
  {
   "cell_type": "markdown",
   "id": "a3cf18b2",
   "metadata": {},
   "source": [
    "Больше всего покупок были совершено в сентябре, потом идет февраль и ноябрь. В летних месяцях прослеживается спад и стабильный спрос. В январе также идет спад покупок, связанный с постпраздничным периодом."
   ]
  },
  {
   "cell_type": "code",
   "execution_count": 26,
   "id": "42b478fe",
   "metadata": {},
   "outputs": [],
   "source": [
    "# пока удалим данный столбец\n",
    "market = market.drop('month', axis=1)"
   ]
  },
  {
   "cell_type": "markdown",
   "id": "919f1694",
   "metadata": {},
   "source": [
    "**Количество товара в заказе**"
   ]
  },
  {
   "cell_type": "code",
   "execution_count": 27,
   "id": "ee015cc0",
   "metadata": {},
   "outputs": [
    {
     "data": {
      "text/plain": [
       "1     47913\n",
       "2       148\n",
       "3        55\n",
       "4        18\n",
       "5        11\n",
       "10       10\n",
       "7         7\n",
       "6         6\n",
       "50        4\n",
       "8         3\n",
       "27        1\n",
       "9         1\n",
       "23        1\n",
       "20        1\n",
       "30        1\n",
       "Name: quantity, dtype: int64"
      ]
     },
     "execution_count": 27,
     "metadata": {},
     "output_type": "execute_result"
    }
   ],
   "source": [
    "market['quantity'].value_counts()"
   ]
  },
  {
   "cell_type": "markdown",
   "id": "38a0f6b4",
   "metadata": {},
   "source": [
    "Больше всего (47915) покупают по 1 позиции, по 2 позиции - 148 заказов. Также есть 4 заказа по 50 позиций, 10 заказов по 10 позиций. Можно рассмотреть их подробнее."
   ]
  },
  {
   "cell_type": "code",
   "execution_count": 28,
   "id": "ce5f90ab",
   "metadata": {},
   "outputs": [
    {
     "data": {
      "text/html": [
       "<div>\n",
       "<style scoped>\n",
       "    .dataframe tbody tr th:only-of-type {\n",
       "        vertical-align: middle;\n",
       "    }\n",
       "\n",
       "    .dataframe tbody tr th {\n",
       "        vertical-align: top;\n",
       "    }\n",
       "\n",
       "    .dataframe thead th {\n",
       "        text-align: right;\n",
       "    }\n",
       "</style>\n",
       "<table border=\"1\" class=\"dataframe\">\n",
       "  <thead>\n",
       "    <tr style=\"text-align: right;\">\n",
       "      <th></th>\n",
       "      <th>client_id</th>\n",
       "      <th>quantity</th>\n",
       "      <th>price</th>\n",
       "      <th>date</th>\n",
       "    </tr>\n",
       "  </thead>\n",
       "  <tbody>\n",
       "    <tr>\n",
       "      <th>31844</th>\n",
       "      <td>1515915625582703881</td>\n",
       "      <td>50</td>\n",
       "      <td>751.0</td>\n",
       "      <td>2023-08-31 11:49:16+00:00</td>\n",
       "    </tr>\n",
       "    <tr>\n",
       "      <th>31872</th>\n",
       "      <td>1515915625582703881</td>\n",
       "      <td>50</td>\n",
       "      <td>900.0</td>\n",
       "      <td>2023-08-31 13:01:09+00:00</td>\n",
       "    </tr>\n",
       "    <tr>\n",
       "      <th>31874</th>\n",
       "      <td>1515915625582703881</td>\n",
       "      <td>50</td>\n",
       "      <td>900.0</td>\n",
       "      <td>2023-08-31 13:03:03+00:00</td>\n",
       "    </tr>\n",
       "    <tr>\n",
       "      <th>31885</th>\n",
       "      <td>1515915625582703881</td>\n",
       "      <td>50</td>\n",
       "      <td>900.0</td>\n",
       "      <td>2023-08-31 15:14:55+00:00</td>\n",
       "    </tr>\n",
       "  </tbody>\n",
       "</table>\n",
       "</div>"
      ],
      "text/plain": [
       "                 client_id  quantity  price                      date\n",
       "31844  1515915625582703881        50  751.0 2023-08-31 11:49:16+00:00\n",
       "31872  1515915625582703881        50  900.0 2023-08-31 13:01:09+00:00\n",
       "31874  1515915625582703881        50  900.0 2023-08-31 13:03:03+00:00\n",
       "31885  1515915625582703881        50  900.0 2023-08-31 15:14:55+00:00"
      ]
     },
     "execution_count": 28,
     "metadata": {},
     "output_type": "execute_result"
    }
   ],
   "source": [
    "market[market['quantity']==50]"
   ]
  },
  {
   "cell_type": "markdown",
   "id": "0b006a35",
   "metadata": {},
   "source": [
    "Похоже на закупки к учебному году."
   ]
  },
  {
   "cell_type": "markdown",
   "id": "73477a67",
   "metadata": {},
   "source": [
    "## 3. Обоснование решения и подготовка RFM признаков\n",
    "\n",
    "После предварительно обзора данных выдвинем гипотезу о том, что на повторную покупку влияет частота посещения маркетплейса, количество купленных товаров, а также потраченная сумма.\n",
    "\n",
    "Нам нужно ответить на вопрос: будет ли клиет совершать повторные покупки в нашем маркетплейсе с интервалом до 30 дней.   \n",
    "У нас нет сведений о конкретных товарах и специфики данного маркетплейса.   \n",
    "\n",
    "Перед нами стоит **задача бинарной классификации**. Воспользуемся возможностями машинного обучения и создадим прототип модели, которая поможет нашему маркетплейсу отслеживать динамику покупателькой активности и своевремнно принимать необходимые действия по удержанию клиентов. Метрика качества будет выбрана позднее, после изучения баланса классов в таргете.\n",
    "\n",
    "Составим портрет нашего клиента, на основе имеющихся исторических данных, а также проведем RFM анализ и в качестве категориальной фичи будем использовать категорию клиента.\n",
    "\n",
    "Далее создадим таргет. Для этого сначала сделаем группировку по клиенту и дате, далее отсортируем по клиенту и дате и найдем разницу в днях между текущей покупкой и следующей. Если эта разница больше 30 проставим класс 0, если меньше то 1.\n",
    "Там где разница в днях будет равна 0 (т.е. было несколько покупок в один день), заполним пропуск \"заглушкой' = '999'. Для обработки датасета напишем функцию.\n",
    "\n",
    "После этого \"отрежем\" 30 последних дней из датасета, для проведения теста после обучения модели.   "
   ]
  },
  {
   "cell_type": "code",
   "execution_count": 29,
   "id": "c5dd15f9",
   "metadata": {},
   "outputs": [
    {
     "data": {
      "text/html": [
       "<div>\n",
       "<style scoped>\n",
       "    .dataframe tbody tr th:only-of-type {\n",
       "        vertical-align: middle;\n",
       "    }\n",
       "\n",
       "    .dataframe tbody tr th {\n",
       "        vertical-align: top;\n",
       "    }\n",
       "\n",
       "    .dataframe thead th {\n",
       "        text-align: right;\n",
       "    }\n",
       "</style>\n",
       "<table border=\"1\" class=\"dataframe\">\n",
       "  <thead>\n",
       "    <tr style=\"text-align: right;\">\n",
       "      <th></th>\n",
       "      <th>client_id</th>\n",
       "      <th>date</th>\n",
       "      <th>quantity</th>\n",
       "      <th>price</th>\n",
       "      <th>days_diff</th>\n",
       "      <th>target</th>\n",
       "    </tr>\n",
       "  </thead>\n",
       "  <tbody>\n",
       "    <tr>\n",
       "      <th>0</th>\n",
       "      <td>1515915625440099873</td>\n",
       "      <td>2023-07-16</td>\n",
       "      <td>1</td>\n",
       "      <td>31998.0</td>\n",
       "      <td>24.0</td>\n",
       "      <td>1</td>\n",
       "    </tr>\n",
       "    <tr>\n",
       "      <th>1</th>\n",
       "      <td>1515915625440099873</td>\n",
       "      <td>2023-08-09</td>\n",
       "      <td>1</td>\n",
       "      <td>1218.0</td>\n",
       "      <td>999.0</td>\n",
       "      <td>0</td>\n",
       "    </tr>\n",
       "    <tr>\n",
       "      <th>2</th>\n",
       "      <td>1515915625440939402</td>\n",
       "      <td>2023-01-30</td>\n",
       "      <td>1</td>\n",
       "      <td>75998.0</td>\n",
       "      <td>999.0</td>\n",
       "      <td>0</td>\n",
       "    </tr>\n",
       "    <tr>\n",
       "      <th>3</th>\n",
       "      <td>1515915625440944408</td>\n",
       "      <td>2023-03-01</td>\n",
       "      <td>1</td>\n",
       "      <td>882.0</td>\n",
       "      <td>62.0</td>\n",
       "      <td>0</td>\n",
       "    </tr>\n",
       "    <tr>\n",
       "      <th>4</th>\n",
       "      <td>1515915625440944408</td>\n",
       "      <td>2023-05-02</td>\n",
       "      <td>1</td>\n",
       "      <td>6298.0</td>\n",
       "      <td>50.0</td>\n",
       "      <td>0</td>\n",
       "    </tr>\n",
       "    <tr>\n",
       "      <th>5</th>\n",
       "      <td>1515915625440944408</td>\n",
       "      <td>2023-06-21</td>\n",
       "      <td>1</td>\n",
       "      <td>73998.0</td>\n",
       "      <td>999.0</td>\n",
       "      <td>0</td>\n",
       "    </tr>\n",
       "    <tr>\n",
       "      <th>6</th>\n",
       "      <td>1515915625440947454</td>\n",
       "      <td>2022-11-06</td>\n",
       "      <td>2</td>\n",
       "      <td>101.0</td>\n",
       "      <td>48.0</td>\n",
       "      <td>0</td>\n",
       "    </tr>\n",
       "    <tr>\n",
       "      <th>7</th>\n",
       "      <td>1515915625440947454</td>\n",
       "      <td>2022-12-24</td>\n",
       "      <td>2</td>\n",
       "      <td>2142.0</td>\n",
       "      <td>999.0</td>\n",
       "      <td>0</td>\n",
       "    </tr>\n",
       "    <tr>\n",
       "      <th>8</th>\n",
       "      <td>1515915625440952940</td>\n",
       "      <td>2022-11-11</td>\n",
       "      <td>1</td>\n",
       "      <td>479.0</td>\n",
       "      <td>999.0</td>\n",
       "      <td>0</td>\n",
       "    </tr>\n",
       "    <tr>\n",
       "      <th>9</th>\n",
       "      <td>1515915625440956290</td>\n",
       "      <td>2023-08-03</td>\n",
       "      <td>2</td>\n",
       "      <td>99999.0</td>\n",
       "      <td>999.0</td>\n",
       "      <td>0</td>\n",
       "    </tr>\n",
       "  </tbody>\n",
       "</table>\n",
       "</div>"
      ],
      "text/plain": [
       "             client_id        date  quantity    price  days_diff  target\n",
       "0  1515915625440099873  2023-07-16         1  31998.0       24.0       1\n",
       "1  1515915625440099873  2023-08-09         1   1218.0      999.0       0\n",
       "2  1515915625440939402  2023-01-30         1  75998.0      999.0       0\n",
       "3  1515915625440944408  2023-03-01         1    882.0       62.0       0\n",
       "4  1515915625440944408  2023-05-02         1   6298.0       50.0       0\n",
       "5  1515915625440944408  2023-06-21         1  73998.0      999.0       0\n",
       "6  1515915625440947454  2022-11-06         2    101.0       48.0       0\n",
       "7  1515915625440947454  2022-12-24         2   2142.0      999.0       0\n",
       "8  1515915625440952940  2022-11-11         1    479.0      999.0       0\n",
       "9  1515915625440956290  2023-08-03         2  99999.0      999.0       0"
      ]
     },
     "execution_count": 29,
     "metadata": {},
     "output_type": "execute_result"
    }
   ],
   "source": [
    "def process_dataset(data):\n",
    "    \"\"\"\n",
    "    Функция обработки датасета с клиентскими данными, включая:\n",
    "    - Преобразование столбца 'date' к типу данных date\n",
    "    - Группировка данных по 'client_id' и 'date', подсчет суммы 'quantity' и средней 'price'\n",
    "    - Сортировка данных по 'client_id' и 'date'\n",
    "    - Добавление столбца 'next_purchase_date' с датой следующей покупки для каждого клиента\n",
    "    - Вычисление разницы в днях между покупками\n",
    "    - Заполнение пропущенных значений в столбце 'days_diff' значением '999'\n",
    "    - Создание целевой переменной 'target' на основе условия, что 'days_diff' > 30\n",
    "    - Удаление столбца 'next_purchase_date', если он больше не нужен\n",
    "    \n",
    "    Параметры:\n",
    "    data (pd.DataFrame): Датафрейм с исходными данными клиентов\n",
    "    \n",
    "    Возвращает:\n",
    "    data (pd.DataFrame): Обработанный датафрейм с добавленной целевой переменной\n",
    "    \n",
    "    \"\"\"\n",
    "    \n",
    "    #  переведем столбец к типу данных date\n",
    "    data['date'] = pd.to_datetime(data['date']).dt.date\n",
    "    \n",
    "    # сруппируем по клиенту и дате, подсчитаем суммы 'quantity' и средней 'price'\n",
    "    data = data.groupby(['client_id', 'date']).agg({'quantity': 'sum', 'price': 'mean'}).reset_index()\n",
    "    \n",
    "    # сортировка по 'client_id' и 'date'\n",
    "    data = data.sort_values(by=['client_id', 'date'])\n",
    "    \n",
    "    # добавим столбец 'next_purchase_date' с датой следующей покупки для каждого клиента\n",
    "    data['next_purchase_date'] = data.groupby('client_id')['date'].shift(-1)\n",
    "    \n",
    "    # вычислим разницу в днях между покупками\n",
    "    data['days_diff'] = (data['next_purchase_date'] - data['date']).dt.days\n",
    "    # заполним пропущенные значений в столбце next_purchase_days_diff заглушкой '999'\n",
    "    data['days_diff'] = data['days_diff'].fillna(999)\n",
    "    \n",
    "    # создадим целевую переменную 'target'\n",
    "    data['target'] = np.where(data['days_diff'] > 30, 0, 1)\n",
    "    \n",
    "    # удалим столбца 'next_purchase_date', если он больше не нужен\n",
    "    data = data.drop(columns='next_purchase_date', axis=1)\n",
    "    \n",
    "    return data\n",
    "\n",
    "# обработаем датасет\n",
    "processed_market = process_dataset(market)\n",
    "processed_market.head(10)"
   ]
  },
  {
   "cell_type": "code",
   "execution_count": 30,
   "id": "5cce59c4",
   "metadata": {},
   "outputs": [],
   "source": [
    "# переводим столбца 'date' к типу данных date\n",
    "processed_market['date'] = pd.to_datetime(processed_market['date'])"
   ]
  },
  {
   "cell_type": "markdown",
   "id": "28e5fc59",
   "metadata": {},
   "source": [
    "Перед созданием признаков для обучения модели, предварительно отделим выборку для теста, последние 30 дней."
   ]
  },
  {
   "cell_type": "code",
   "execution_count": 31,
   "id": "686338ea",
   "metadata": {},
   "outputs": [],
   "source": [
    "# разделим на трейн и тест\n",
    "train = processed_market[processed_market['date'] < '2023-09-26']\n",
    "test = processed_market[processed_market['date'] >= '2023-09-26']"
   ]
  },
  {
   "cell_type": "code",
   "execution_count": 32,
   "id": "cd78f14b",
   "metadata": {},
   "outputs": [
    {
     "data": {
      "text/plain": [
       "((21400, 6), (2525, 6))"
      ]
     },
     "execution_count": 32,
     "metadata": {},
     "output_type": "execute_result"
    }
   ],
   "source": [
    "# посмотрим и проверим размеры\n",
    "train.shape,test.shape"
   ]
  },
  {
   "cell_type": "markdown",
   "id": "500cba02",
   "metadata": {},
   "source": [
    "Далее проведем **RFM-анализ** — метод анализа, позволяющий сегментировать клиентов по частоте и сумме покупок и выявлять тех, которые приносят больше денег.   \n",
    "\n",
    "Аббревиатура RFM расшифровывается:   \n",
    "Recency — давность (как давно пользователи что-то покупали);\n",
    "Frequency — частота (как часто они покупают);\n",
    "Monetary — деньги (общая сумма покупок).\n",
    "По каждому из этих признаков мы выделим по три равные группы. \n",
    "Затем присваиваем каждой группе числовое обозначение от 1 до 3   \n",
    "Давность последней покупки (Recency)   \n",
    "Частота покупок (Frequency)   \n",
    "Сумма покупки (Monetary)\n",
    "\n",
    "Давность последней покупки (Recency): 1 - недавние клиенты; 2 - редкие; 3 - давние, возможно потерянные.      \n",
    "Частота покупок (Frequency): 1 - частые; 2 - редкие нерегулярные; 3 - очень редкие.   \n",
    "Сумма покупки (Monetary): 1 - большая; 2 - средняя;3 - маленькая.   \n",
    "\n",
    "\n",
    "Анализ будет немного осложнен отсутствием специфики магазина.\n",
    "Напишем функцию, которая будет обрабатывать датасет для RFM анализа."
   ]
  },
  {
   "cell_type": "code",
   "execution_count": 33,
   "id": "a2252c76",
   "metadata": {},
   "outputs": [
    {
     "data": {
      "text/html": [
       "<div>\n",
       "<style scoped>\n",
       "    .dataframe tbody tr th:only-of-type {\n",
       "        vertical-align: middle;\n",
       "    }\n",
       "\n",
       "    .dataframe tbody tr th {\n",
       "        vertical-align: top;\n",
       "    }\n",
       "\n",
       "    .dataframe thead th {\n",
       "        text-align: right;\n",
       "    }\n",
       "</style>\n",
       "<table border=\"1\" class=\"dataframe\">\n",
       "  <thead>\n",
       "    <tr style=\"text-align: right;\">\n",
       "      <th></th>\n",
       "      <th>client_id</th>\n",
       "      <th>date</th>\n",
       "      <th>quantity</th>\n",
       "      <th>price</th>\n",
       "      <th>days_diff</th>\n",
       "      <th>target</th>\n",
       "    </tr>\n",
       "  </thead>\n",
       "  <tbody>\n",
       "    <tr>\n",
       "      <th>0</th>\n",
       "      <td>1515915625440099873</td>\n",
       "      <td>2023-07-16</td>\n",
       "      <td>1</td>\n",
       "      <td>31998.0</td>\n",
       "      <td>24.0</td>\n",
       "      <td>1</td>\n",
       "    </tr>\n",
       "    <tr>\n",
       "      <th>1</th>\n",
       "      <td>1515915625440099873</td>\n",
       "      <td>2023-08-09</td>\n",
       "      <td>1</td>\n",
       "      <td>1218.0</td>\n",
       "      <td>999.0</td>\n",
       "      <td>0</td>\n",
       "    </tr>\n",
       "    <tr>\n",
       "      <th>2</th>\n",
       "      <td>1515915625440939402</td>\n",
       "      <td>2023-01-30</td>\n",
       "      <td>1</td>\n",
       "      <td>75998.0</td>\n",
       "      <td>999.0</td>\n",
       "      <td>0</td>\n",
       "    </tr>\n",
       "    <tr>\n",
       "      <th>3</th>\n",
       "      <td>1515915625440944408</td>\n",
       "      <td>2023-03-01</td>\n",
       "      <td>1</td>\n",
       "      <td>882.0</td>\n",
       "      <td>62.0</td>\n",
       "      <td>0</td>\n",
       "    </tr>\n",
       "    <tr>\n",
       "      <th>4</th>\n",
       "      <td>1515915625440944408</td>\n",
       "      <td>2023-05-02</td>\n",
       "      <td>1</td>\n",
       "      <td>6298.0</td>\n",
       "      <td>50.0</td>\n",
       "      <td>0</td>\n",
       "    </tr>\n",
       "  </tbody>\n",
       "</table>\n",
       "</div>"
      ],
      "text/plain": [
       "             client_id       date  quantity    price  days_diff  target\n",
       "0  1515915625440099873 2023-07-16         1  31998.0       24.0       1\n",
       "1  1515915625440099873 2023-08-09         1   1218.0      999.0       0\n",
       "2  1515915625440939402 2023-01-30         1  75998.0      999.0       0\n",
       "3  1515915625440944408 2023-03-01         1    882.0       62.0       0\n",
       "4  1515915625440944408 2023-05-02         1   6298.0       50.0       0"
      ]
     },
     "execution_count": 33,
     "metadata": {},
     "output_type": "execute_result"
    }
   ],
   "source": [
    "# отсортируем по клиенту и дате\n",
    "df = train.copy\n",
    "df = train.sort_values(['client_id', 'date'])\n",
    "df.head()"
   ]
  },
  {
   "cell_type": "code",
   "execution_count": 34,
   "id": "24117719",
   "metadata": {},
   "outputs": [
    {
     "data": {
      "text/html": [
       "<div>\n",
       "<style scoped>\n",
       "    .dataframe tbody tr th:only-of-type {\n",
       "        vertical-align: middle;\n",
       "    }\n",
       "\n",
       "    .dataframe tbody tr th {\n",
       "        vertical-align: top;\n",
       "    }\n",
       "\n",
       "    .dataframe thead th {\n",
       "        text-align: right;\n",
       "    }\n",
       "</style>\n",
       "<table border=\"1\" class=\"dataframe\">\n",
       "  <thead>\n",
       "    <tr style=\"text-align: right;\">\n",
       "      <th></th>\n",
       "      <th>client_id</th>\n",
       "      <th>monetary_value</th>\n",
       "      <th>frequency</th>\n",
       "      <th>last_purchase</th>\n",
       "      <th>min_price</th>\n",
       "      <th>max_price</th>\n",
       "      <th>total_quantity</th>\n",
       "    </tr>\n",
       "  </thead>\n",
       "  <tbody>\n",
       "    <tr>\n",
       "      <th>0</th>\n",
       "      <td>1515915625440099873</td>\n",
       "      <td>33216.0</td>\n",
       "      <td>2</td>\n",
       "      <td>2023-08-09</td>\n",
       "      <td>1218.0</td>\n",
       "      <td>31998.0</td>\n",
       "      <td>2</td>\n",
       "    </tr>\n",
       "    <tr>\n",
       "      <th>1</th>\n",
       "      <td>1515915625440939402</td>\n",
       "      <td>75998.0</td>\n",
       "      <td>1</td>\n",
       "      <td>2023-01-30</td>\n",
       "      <td>75998.0</td>\n",
       "      <td>75998.0</td>\n",
       "      <td>1</td>\n",
       "    </tr>\n",
       "    <tr>\n",
       "      <th>2</th>\n",
       "      <td>1515915625440944408</td>\n",
       "      <td>81178.0</td>\n",
       "      <td>3</td>\n",
       "      <td>2023-06-21</td>\n",
       "      <td>882.0</td>\n",
       "      <td>73998.0</td>\n",
       "      <td>3</td>\n",
       "    </tr>\n",
       "    <tr>\n",
       "      <th>3</th>\n",
       "      <td>1515915625440947454</td>\n",
       "      <td>2243.0</td>\n",
       "      <td>2</td>\n",
       "      <td>2022-12-24</td>\n",
       "      <td>101.0</td>\n",
       "      <td>2142.0</td>\n",
       "      <td>4</td>\n",
       "    </tr>\n",
       "    <tr>\n",
       "      <th>4</th>\n",
       "      <td>1515915625440952940</td>\n",
       "      <td>479.0</td>\n",
       "      <td>1</td>\n",
       "      <td>2022-11-11</td>\n",
       "      <td>479.0</td>\n",
       "      <td>479.0</td>\n",
       "      <td>1</td>\n",
       "    </tr>\n",
       "  </tbody>\n",
       "</table>\n",
       "</div>"
      ],
      "text/plain": [
       "             client_id  monetary_value  frequency last_purchase  min_price  \\\n",
       "0  1515915625440099873         33216.0          2    2023-08-09     1218.0   \n",
       "1  1515915625440939402         75998.0          1    2023-01-30    75998.0   \n",
       "2  1515915625440944408         81178.0          3    2023-06-21      882.0   \n",
       "3  1515915625440947454          2243.0          2    2022-12-24      101.0   \n",
       "4  1515915625440952940           479.0          1    2022-11-11      479.0   \n",
       "\n",
       "   max_price  total_quantity  \n",
       "0    31998.0               2  \n",
       "1    75998.0               1  \n",
       "2    73998.0               3  \n",
       "3     2142.0               4  \n",
       "4      479.0               1  "
      ]
     },
     "execution_count": 34,
     "metadata": {},
     "output_type": "execute_result"
    }
   ],
   "source": [
    "# группировка по каждому клиенту и расчет метрик\n",
    "df2 = df.groupby('client_id').agg(\n",
    "    monetary_value = ('price', 'sum'),\n",
    "    frequency = ('date', 'count'),\n",
    "    last_purchase= ('date', 'last'),\n",
    "    min_price = ('price', 'min'),\n",
    "    max_price = ('price', 'max'),\n",
    "    total_quantity = ('quantity', 'sum'),\n",
    ").reset_index()\n",
    "df2.head()"
   ]
  },
  {
   "cell_type": "code",
   "execution_count": 35,
   "id": "eecaafc6",
   "metadata": {},
   "outputs": [],
   "source": [
    "# переведем в формат даты\n",
    "df['date'] = pd.to_datetime(df['date'])\n",
    "df2['last_purchase'] = pd.to_datetime(df2['last_purchase'])"
   ]
  },
  {
   "cell_type": "code",
   "execution_count": 36,
   "id": "5f2e6a6e",
   "metadata": {},
   "outputs": [],
   "source": [
    "# рассчитаем количество дней прошедших с момента последней покупки до 25.09.2023\n",
    "df2['days_since_last_purchase'] = (max(df['date']) - df2['last_purchase']).dt.days"
   ]
  },
  {
   "cell_type": "code",
   "execution_count": 37,
   "id": "53b864c3",
   "metadata": {},
   "outputs": [
    {
     "data": {
      "text/html": [
       "<div>\n",
       "<style scoped>\n",
       "    .dataframe tbody tr th:only-of-type {\n",
       "        vertical-align: middle;\n",
       "    }\n",
       "\n",
       "    .dataframe tbody tr th {\n",
       "        vertical-align: top;\n",
       "    }\n",
       "\n",
       "    .dataframe thead th {\n",
       "        text-align: right;\n",
       "    }\n",
       "</style>\n",
       "<table border=\"1\" class=\"dataframe\">\n",
       "  <thead>\n",
       "    <tr style=\"text-align: right;\">\n",
       "      <th></th>\n",
       "      <th>client_id</th>\n",
       "      <th>monetary_value</th>\n",
       "      <th>frequency</th>\n",
       "      <th>last_purchase</th>\n",
       "      <th>min_price</th>\n",
       "      <th>max_price</th>\n",
       "      <th>total_quantity</th>\n",
       "      <th>days_since_last_purchase</th>\n",
       "    </tr>\n",
       "  </thead>\n",
       "  <tbody>\n",
       "    <tr>\n",
       "      <th>0</th>\n",
       "      <td>1515915625440099873</td>\n",
       "      <td>33216.0</td>\n",
       "      <td>2</td>\n",
       "      <td>2023-08-09</td>\n",
       "      <td>1218.0</td>\n",
       "      <td>31998.0</td>\n",
       "      <td>2</td>\n",
       "      <td>47</td>\n",
       "    </tr>\n",
       "    <tr>\n",
       "      <th>1</th>\n",
       "      <td>1515915625440939402</td>\n",
       "      <td>75998.0</td>\n",
       "      <td>1</td>\n",
       "      <td>2023-01-30</td>\n",
       "      <td>75998.0</td>\n",
       "      <td>75998.0</td>\n",
       "      <td>1</td>\n",
       "      <td>238</td>\n",
       "    </tr>\n",
       "    <tr>\n",
       "      <th>2</th>\n",
       "      <td>1515915625440944408</td>\n",
       "      <td>81178.0</td>\n",
       "      <td>3</td>\n",
       "      <td>2023-06-21</td>\n",
       "      <td>882.0</td>\n",
       "      <td>73998.0</td>\n",
       "      <td>3</td>\n",
       "      <td>96</td>\n",
       "    </tr>\n",
       "    <tr>\n",
       "      <th>3</th>\n",
       "      <td>1515915625440947454</td>\n",
       "      <td>2243.0</td>\n",
       "      <td>2</td>\n",
       "      <td>2022-12-24</td>\n",
       "      <td>101.0</td>\n",
       "      <td>2142.0</td>\n",
       "      <td>4</td>\n",
       "      <td>275</td>\n",
       "    </tr>\n",
       "    <tr>\n",
       "      <th>4</th>\n",
       "      <td>1515915625440952940</td>\n",
       "      <td>479.0</td>\n",
       "      <td>1</td>\n",
       "      <td>2022-11-11</td>\n",
       "      <td>479.0</td>\n",
       "      <td>479.0</td>\n",
       "      <td>1</td>\n",
       "      <td>318</td>\n",
       "    </tr>\n",
       "  </tbody>\n",
       "</table>\n",
       "</div>"
      ],
      "text/plain": [
       "             client_id  monetary_value  frequency last_purchase  min_price  \\\n",
       "0  1515915625440099873         33216.0          2    2023-08-09     1218.0   \n",
       "1  1515915625440939402         75998.0          1    2023-01-30    75998.0   \n",
       "2  1515915625440944408         81178.0          3    2023-06-21      882.0   \n",
       "3  1515915625440947454          2243.0          2    2022-12-24      101.0   \n",
       "4  1515915625440952940           479.0          1    2022-11-11      479.0   \n",
       "\n",
       "   max_price  total_quantity  days_since_last_purchase  \n",
       "0    31998.0               2                        47  \n",
       "1    75998.0               1                       238  \n",
       "2    73998.0               3                        96  \n",
       "3     2142.0               4                       275  \n",
       "4      479.0               1                       318  "
      ]
     },
     "execution_count": 37,
     "metadata": {},
     "output_type": "execute_result"
    }
   ],
   "source": [
    "df2.head()"
   ]
  },
  {
   "cell_type": "code",
   "execution_count": 38,
   "id": "14205891",
   "metadata": {},
   "outputs": [
    {
     "data": {
      "text/plain": [
       "client_id                   2545\n",
       "monetary_value              2545\n",
       "frequency                   2545\n",
       "last_purchase               2545\n",
       "min_price                   2545\n",
       "max_price                   2545\n",
       "total_quantity              2545\n",
       "days_since_last_purchase    2545\n",
       "dtype: int64"
      ]
     },
     "execution_count": 38,
     "metadata": {},
     "output_type": "execute_result"
    }
   ],
   "source": [
    "df2[df2['days_since_last_purchase'] < 30].count()"
   ]
  },
  {
   "cell_type": "markdown",
   "id": "af06ba1c",
   "metadata": {},
   "source": [
    "Основная сложность RFM-анализа — определить границы сегментов, потому что универсальных рекомендаций по этому поводу нет.\n",
    "В данном исследовании для того, чтобы оценить распределение покупателей, были рассчитаны средние, медианы и перцентили.\n",
    "Перцентили позволяют нарезать слоями массив данных и понять, на какие группы делятся элементы. Таким образом, покажут изменения с большей точностью, но спрячут выбросы. \n",
    "Для большей точности было сделано распределение по децилям и потом для сегментации клиентов были выбраны 0.15 и 0.9 децили."
   ]
  },
  {
   "cell_type": "code",
   "execution_count": 39,
   "id": "795909eb",
   "metadata": {},
   "outputs": [],
   "source": [
    "quantiles = [round(el, 2) for el in np.arange(0.1, 1.1, 0.1)]"
   ]
  },
  {
   "cell_type": "markdown",
   "id": "7851acf0",
   "metadata": {},
   "source": [
    "**Давность последней покупки (Recency)**"
   ]
  },
  {
   "cell_type": "code",
   "execution_count": 40,
   "id": "91056bec",
   "metadata": {},
   "outputs": [
    {
     "data": {
      "image/png": "[encoded data removed]",
      "text/plain": [
       "<Figure size 1700x400 with 1 Axes>"
      ]
     },
     "metadata": {},
     "output_type": "display_data"
    }
   ],
   "source": [
    "plt.figure(figsize=(17,4))\n",
    "sns.boxplot(x=df2['days_since_last_purchase'])\n",
    "plt.title('Распределение количества дней с последней покупки')\n",
    "plt.xlabel('Количество, в днях')\n",
    "plt.show()"
   ]
  },
  {
   "cell_type": "code",
   "execution_count": 41,
   "id": "b743f0a9",
   "metadata": {},
   "outputs": [
    {
     "data": {
      "text/plain": [
       "count    16083.000000\n",
       "mean       153.536778\n",
       "std         98.317355\n",
       "min          0.000000\n",
       "25%         66.000000\n",
       "50%        158.000000\n",
       "75%        228.000000\n",
       "max        334.000000\n",
       "Name: days_since_last_purchase, dtype: float64"
      ]
     },
     "execution_count": 41,
     "metadata": {},
     "output_type": "execute_result"
    }
   ],
   "source": [
    "df2['days_since_last_purchase'].describe()"
   ]
  },
  {
   "cell_type": "code",
   "execution_count": 42,
   "id": "a665aa21",
   "metadata": {},
   "outputs": [
    {
     "data": {
      "text/plain": [
       "0.1     11.0\n",
       "0.2     45.0\n",
       "0.3     88.0\n",
       "0.4    126.0\n",
       "0.5    158.0\n",
       "0.6    182.0\n",
       "0.7    212.0\n",
       "0.8    238.0\n",
       "0.9    302.8\n",
       "1.0    334.0\n",
       "Name: days_since_last_purchase, dtype: float64"
      ]
     },
     "execution_count": 42,
     "metadata": {},
     "output_type": "execute_result"
    }
   ],
   "source": [
    "df2['days_since_last_purchase'].quantile(quantiles)"
   ]
  },
  {
   "cell_type": "markdown",
   "id": "997c38df",
   "metadata": {},
   "source": [
    "Из распределения по децилям видно, что только около 15 % клиентов - те, у кого последняя покупка была меньше 30 дней назад. Т.е.это либо постоянные клиенты либо новые, которые были недавно и маркетплейсу стоит уделить им внимание (рассылкой скидок и т.д), чтобы они пришли снова.  Это самая 'свежая' группа 1.\n",
    "\n",
    "Медиана (158 дней) и среднее (153 дней). Т.е.40 % клиентов относим в среднюю категорию, кто не приходил от 1,5 месяцев более 5 месяцев. Это группа 2.\n",
    "\n",
    "Оставшиеся 45 % это те, кто очень давно не приходил в маркетплейс более 180 дней (почти 6 месяцев) дней попадают в группу 3, потому что это либо в принципе редкие посетители (например, разовые), либо ушедшие к конкурентам. "
   ]
  },
  {
   "cell_type": "markdown",
   "id": "a495e7a6",
   "metadata": {},
   "source": [
    "**Частота покупок (Frequency)**"
   ]
  },
  {
   "cell_type": "code",
   "execution_count": 43,
   "id": "68b6ad5b",
   "metadata": {},
   "outputs": [
    {
     "data": {
      "text/plain": [
       "count    16083.000000\n",
       "mean         1.330598\n",
       "std          1.211427\n",
       "min          1.000000\n",
       "25%          1.000000\n",
       "50%          1.000000\n",
       "75%          1.000000\n",
       "max         45.000000\n",
       "Name: frequency, dtype: float64"
      ]
     },
     "execution_count": 43,
     "metadata": {},
     "output_type": "execute_result"
    }
   ],
   "source": [
    "df2['frequency'].describe()"
   ]
  },
  {
   "cell_type": "code",
   "execution_count": 44,
   "id": "761c4b0f",
   "metadata": {},
   "outputs": [
    {
     "data": {
      "text/plain": [
       "0.1     1.0\n",
       "0.2     1.0\n",
       "0.3     1.0\n",
       "0.4     1.0\n",
       "0.5     1.0\n",
       "0.6     1.0\n",
       "0.7     1.0\n",
       "0.8     1.0\n",
       "0.9     2.0\n",
       "1.0    45.0\n",
       "Name: frequency, dtype: float64"
      ]
     },
     "execution_count": 44,
     "metadata": {},
     "output_type": "execute_result"
    }
   ],
   "source": [
    "df2['frequency'].quantile(quantiles)"
   ]
  },
  {
   "cell_type": "markdown",
   "id": "11a7d7c4",
   "metadata": {},
   "source": [
    "Среднее количество покупок 1.3, медианное количество - 1. Можем предположить, что у маркетпейса много разовых покупателей, которых хорошо бы сделать постоянными лояльным клиентами.\n",
    "Отдельно стоит рассмотреть клиентов, с частотой заказов более 10. Таких нашлось 43 человека. Для нашего маркетплейса это довольно потенциальные клиенты, с которыми необходимо провести индивидуальную работу."
   ]
  },
  {
   "cell_type": "code",
   "execution_count": 45,
   "id": "c2d96707",
   "metadata": {},
   "outputs": [
    {
     "data": {
      "text/html": [
       "<div>\n",
       "<style scoped>\n",
       "    .dataframe tbody tr th:only-of-type {\n",
       "        vertical-align: middle;\n",
       "    }\n",
       "\n",
       "    .dataframe tbody tr th {\n",
       "        vertical-align: top;\n",
       "    }\n",
       "\n",
       "    .dataframe thead th {\n",
       "        text-align: right;\n",
       "    }\n",
       "</style>\n",
       "<table border=\"1\" class=\"dataframe\">\n",
       "  <thead>\n",
       "    <tr style=\"text-align: right;\">\n",
       "      <th></th>\n",
       "      <th>client_id</th>\n",
       "      <th>monetary_value</th>\n",
       "      <th>frequency</th>\n",
       "      <th>last_purchase</th>\n",
       "      <th>min_price</th>\n",
       "      <th>max_price</th>\n",
       "      <th>total_quantity</th>\n",
       "      <th>days_since_last_purchase</th>\n",
       "    </tr>\n",
       "  </thead>\n",
       "  <tbody>\n",
       "    <tr>\n",
       "      <th>129</th>\n",
       "      <td>1515915625441885478</td>\n",
       "      <td>520885.812500</td>\n",
       "      <td>26</td>\n",
       "      <td>2023-09-16</td>\n",
       "      <td>10.000000</td>\n",
       "      <td>109998.000000</td>\n",
       "      <td>39</td>\n",
       "      <td>9</td>\n",
       "    </tr>\n",
       "    <tr>\n",
       "      <th>196</th>\n",
       "      <td>1515915625442705963</td>\n",
       "      <td>560661.312500</td>\n",
       "      <td>14</td>\n",
       "      <td>2023-06-20</td>\n",
       "      <td>5998.000000</td>\n",
       "      <td>86998.000000</td>\n",
       "      <td>23</td>\n",
       "      <td>97</td>\n",
       "    </tr>\n",
       "    <tr>\n",
       "      <th>339</th>\n",
       "      <td>1515915625446481060</td>\n",
       "      <td>626658.750000</td>\n",
       "      <td>11</td>\n",
       "      <td>2023-09-25</td>\n",
       "      <td>6798.000000</td>\n",
       "      <td>124198.000000</td>\n",
       "      <td>27</td>\n",
       "      <td>0</td>\n",
       "    </tr>\n",
       "    <tr>\n",
       "      <th>357</th>\n",
       "      <td>1515915625446805060</td>\n",
       "      <td>53438.832031</td>\n",
       "      <td>11</td>\n",
       "      <td>2023-09-25</td>\n",
       "      <td>918.000000</td>\n",
       "      <td>23398.000000</td>\n",
       "      <td>21</td>\n",
       "      <td>0</td>\n",
       "    </tr>\n",
       "    <tr>\n",
       "      <th>363</th>\n",
       "      <td>1515915625446969042</td>\n",
       "      <td>306786.250000</td>\n",
       "      <td>12</td>\n",
       "      <td>2023-06-08</td>\n",
       "      <td>619.500000</td>\n",
       "      <td>70798.000000</td>\n",
       "      <td>24</td>\n",
       "      <td>109</td>\n",
       "    </tr>\n",
       "    <tr>\n",
       "      <th>395</th>\n",
       "      <td>1515915625448676587</td>\n",
       "      <td>597888.500000</td>\n",
       "      <td>17</td>\n",
       "      <td>2023-09-24</td>\n",
       "      <td>6085.333496</td>\n",
       "      <td>92864.664062</td>\n",
       "      <td>55</td>\n",
       "      <td>1</td>\n",
       "    </tr>\n",
       "    <tr>\n",
       "      <th>597</th>\n",
       "      <td>1515915625457971346</td>\n",
       "      <td>158510.156250</td>\n",
       "      <td>11</td>\n",
       "      <td>2023-09-18</td>\n",
       "      <td>1570.400024</td>\n",
       "      <td>36998.000000</td>\n",
       "      <td>38</td>\n",
       "      <td>7</td>\n",
       "    </tr>\n",
       "    <tr>\n",
       "      <th>894</th>\n",
       "      <td>1515915625474267367</td>\n",
       "      <td>178258.000000</td>\n",
       "      <td>13</td>\n",
       "      <td>2023-09-04</td>\n",
       "      <td>31.000000</td>\n",
       "      <td>89998.000000</td>\n",
       "      <td>24</td>\n",
       "      <td>21</td>\n",
       "    </tr>\n",
       "    <tr>\n",
       "      <th>1413</th>\n",
       "      <td>1515915625496098445</td>\n",
       "      <td>425262.718750</td>\n",
       "      <td>20</td>\n",
       "      <td>2023-09-21</td>\n",
       "      <td>7.000000</td>\n",
       "      <td>71698.000000</td>\n",
       "      <td>35</td>\n",
       "      <td>4</td>\n",
       "    </tr>\n",
       "    <tr>\n",
       "      <th>1755</th>\n",
       "      <td>1515915625498293494</td>\n",
       "      <td>304730.000000</td>\n",
       "      <td>16</td>\n",
       "      <td>2023-09-14</td>\n",
       "      <td>3198.000000</td>\n",
       "      <td>38183.000000</td>\n",
       "      <td>58</td>\n",
       "      <td>11</td>\n",
       "    </tr>\n",
       "  </tbody>\n",
       "</table>\n",
       "</div>"
      ],
      "text/plain": [
       "                client_id  monetary_value  frequency last_purchase  \\\n",
       "129   1515915625441885478   520885.812500         26    2023-09-16   \n",
       "196   1515915625442705963   560661.312500         14    2023-06-20   \n",
       "339   1515915625446481060   626658.750000         11    2023-09-25   \n",
       "357   1515915625446805060    53438.832031         11    2023-09-25   \n",
       "363   1515915625446969042   306786.250000         12    2023-06-08   \n",
       "395   1515915625448676587   597888.500000         17    2023-09-24   \n",
       "597   1515915625457971346   158510.156250         11    2023-09-18   \n",
       "894   1515915625474267367   178258.000000         13    2023-09-04   \n",
       "1413  1515915625496098445   425262.718750         20    2023-09-21   \n",
       "1755  1515915625498293494   304730.000000         16    2023-09-14   \n",
       "\n",
       "        min_price      max_price  total_quantity  days_since_last_purchase  \n",
       "129     10.000000  109998.000000              39                         9  \n",
       "196   5998.000000   86998.000000              23                        97  \n",
       "339   6798.000000  124198.000000              27                         0  \n",
       "357    918.000000   23398.000000              21                         0  \n",
       "363    619.500000   70798.000000              24                       109  \n",
       "395   6085.333496   92864.664062              55                         1  \n",
       "597   1570.400024   36998.000000              38                         7  \n",
       "894     31.000000   89998.000000              24                        21  \n",
       "1413     7.000000   71698.000000              35                         4  \n",
       "1755  3198.000000   38183.000000              58                        11  "
      ]
     },
     "execution_count": 45,
     "metadata": {},
     "output_type": "execute_result"
    }
   ],
   "source": [
    "df2[df2['frequency'] > 10].head(10)"
   ]
  },
  {
   "cell_type": "markdown",
   "id": "1bc31764",
   "metadata": {},
   "source": [
    "Данные клиенты совершали больше всего покупок и на большие суммы. Часть из них были недавно, часть давно. Тем кто был давно нужно реактивировать его лояльность → предложить ему в подарок то, что он покупал раньше чаще всего.\n",
    "Тем кто был недавно, надоедать рассылками не стоит, следует отслеживать дальшейшую покупательскую активность."
   ]
  },
  {
   "cell_type": "markdown",
   "id": "8becef63",
   "metadata": {},
   "source": [
    "**Сумма покупки (Monetary)**\n"
   ]
  },
  {
   "cell_type": "code",
   "execution_count": 46,
   "id": "5b7ae06b",
   "metadata": {},
   "outputs": [
    {
     "data": {
      "image/png": "[encoded data removed]",
      "text/plain": [
       "<Figure size 1700x400 with 1 Axes>"
      ]
     },
     "metadata": {},
     "output_type": "display_data"
    }
   ],
   "source": [
    "plt.figure(figsize=(17,4))\n",
    "sns.boxplot(x=df2['monetary_value'])\n",
    "plt.title('Распределение cуммарной стоимости покупки')\n",
    "plt.xlabel('Сумма, в рублях')\n",
    "plt.show()"
   ]
  },
  {
   "cell_type": "code",
   "execution_count": 47,
   "id": "7b275413",
   "metadata": {},
   "outputs": [
    {
     "data": {
      "text/plain": [
       "count    1.608300e+04\n",
       "mean     4.000325e+04\n",
       "std      6.000286e+04\n",
       "min      2.000000e+00\n",
       "25%      5.402000e+03\n",
       "50%      1.999800e+04\n",
       "75%      5.336467e+04\n",
       "max      2.599996e+06\n",
       "Name: monetary_value, dtype: float64"
      ]
     },
     "execution_count": 47,
     "metadata": {},
     "output_type": "execute_result"
    }
   ],
   "source": [
    "df2['monetary_value'].describe()"
   ]
  },
  {
   "cell_type": "code",
   "execution_count": 48,
   "id": "c27932ae",
   "metadata": {
    "scrolled": true
   },
   "outputs": [
    {
     "data": {
      "text/plain": [
       "0.1    9.303000e+02\n",
       "0.2    3.398000e+03\n",
       "0.3    7.886528e+03\n",
       "0.4    1.332380e+04\n",
       "0.5    1.999800e+04\n",
       "0.6    2.999800e+04\n",
       "0.7    4.339680e+04\n",
       "0.8    6.453112e+04\n",
       "0.9    1.071130e+05\n",
       "1.0    2.599996e+06\n",
       "Name: monetary_value, dtype: float64"
      ]
     },
     "execution_count": 48,
     "metadata": {},
     "output_type": "execute_result"
    }
   ],
   "source": [
    "df2['monetary_value'].quantile(quantiles)"
   ]
  },
  {
   "cell_type": "markdown",
   "id": "68205da4",
   "metadata": {},
   "source": [
    "Среднее – самый популярный статистический показатель, но чувствительный к выбросам, которые смещают среднее значение и могут ввести в заблуждение. Медиана показывает центральное значение в выборке. \n",
    "\n",
    "В нашем случае средняя сумма покупок  40 003 руб., медианная сумма 19 998 руб. Значения сильно отличаются, и мы можем предположить наличие выбросов (отдельные клиенты покупали на очень большие суммы).\n",
    "\n",
    "Категория 1. Из распределения мы видим, что это 30% это лояльные покупатели, которые покупали на сумму 64 531 р и более.   \n",
    "Категория 2 - основная масса клиентов (40%), которая покупает на сумму от 13 323- 64 531 руб.   \n",
    "В эти границы попадает медиана (19 998 р.) и среднее (40 003 р.)\n",
    "\n",
    "Категория 3 - оставшийся 30% сегмент клиентов, которые покупают на небольшие суммы (до 13 323 руб.)   "
   ]
  },
  {
   "cell_type": "markdown",
   "id": "83bc8592",
   "metadata": {},
   "source": [
    "Для проведения сегментации клиентов возьмем пороги 0,15 и 0,9 перцентили, т.к. в эти значения попадет 30 дневный период с даты последней покупки, что критически важно для нашей задачи."
   ]
  },
  {
   "cell_type": "code",
   "execution_count": 49,
   "id": "eb026469",
   "metadata": {},
   "outputs": [],
   "source": [
    "quantiles = [0.15, 0.9]"
   ]
  },
  {
   "cell_type": "code",
   "execution_count": 50,
   "id": "4c51f1ad",
   "metadata": {},
   "outputs": [
    {
     "data": {
      "text/plain": [
       "0.15     25.0\n",
       "0.90    302.8\n",
       "Name: days_since_last_purchase, dtype: float64"
      ]
     },
     "execution_count": 50,
     "metadata": {},
     "output_type": "execute_result"
    }
   ],
   "source": [
    "df2['days_since_last_purchase'].quantile(quantiles)"
   ]
  },
  {
   "cell_type": "code",
   "execution_count": 51,
   "id": "fa352894",
   "metadata": {},
   "outputs": [
    {
     "data": {
      "text/plain": [
       "0.15    1.0\n",
       "0.90    2.0\n",
       "Name: frequency, dtype: float64"
      ]
     },
     "execution_count": 51,
     "metadata": {},
     "output_type": "execute_result"
    }
   ],
   "source": [
    "df2['frequency'].quantile(quantiles)"
   ]
  },
  {
   "cell_type": "code",
   "execution_count": 52,
   "id": "d2fafbf0",
   "metadata": {},
   "outputs": [
    {
     "data": {
      "text/plain": [
       "0.15      1998.0\n",
       "0.90    107113.0\n",
       "Name: monetary_value, dtype: float64"
      ]
     },
     "execution_count": 52,
     "metadata": {},
     "output_type": "execute_result"
    }
   ],
   "source": [
    "df2['monetary_value'].quantile(quantiles)"
   ]
  },
  {
   "cell_type": "markdown",
   "id": "2325bb78",
   "metadata": {},
   "source": [
    "Напишем функцию `set_score`, которая вычисляет оценку (score) на основе переданных параметров `val`, `var`, `perc_15` и `perc_90`. Она используется для назначения оценок (от 1 до 3) в зависимости от значения `val` в соответствии с заданными квантилями и условиями."
   ]
  },
  {
   "cell_type": "code",
   "execution_count": 53,
   "id": "ba267e8d",
   "metadata": {},
   "outputs": [],
   "source": [
    "def set_score(val, var, perc_15, perc_90):\n",
    "    \"\"\"\n",
    "    Функция для установления оценки (score) на основе значения, переменной и пороговых значений.\n",
    "\n",
    "    Параметры:\n",
    "    val (float): Значение, для которого устанавливается оценка.\n",
    "    var (str): Переменная, используемая для установления оценки. Возможные значения: 'R' или другие.\n",
    "    perc_15 (float): Пороговое значение для оценки 15-ого процентиля.\n",
    "    perc_90 (float): Пороговое значение для оценки 90-ого процентиля.\n",
    "\n",
    "    Возвращает:\n",
    "    int: Оценка (score) в соответствии с заданными условиями:\n",
    "         - Если значение меньше 15-ого процентиля: 3 если var != 'R', иначе 1.\n",
    "         - Если значение меньше 90-ого процентиля: 2.\n",
    "         - Во всех остальных случаях: 1 если var != 'R', иначе 3.\n",
    "         \n",
    "    \"\"\"\n",
    "    if val < perc_15:\n",
    "     return 3 if var != 'R' else 1\n",
    "    elif val < perc_90:\n",
    "     return 2\n",
    "    else:\n",
    "     return 1 if var != 'R' else 3\n"
   ]
  },
  {
   "cell_type": "code",
   "execution_count": 54,
   "id": "b73f2df5",
   "metadata": {},
   "outputs": [],
   "source": [
    "recency_quantiles = df2['days_since_last_purchase'].quantile(quantiles)\n",
    "df2['R'] = df2['days_since_last_purchase'].apply(set_score, args=('R', recency_quantiles.iloc[0], recency_quantiles.iloc[1]))\n",
    "\n",
    "frequency_quantiles = df2['frequency'].quantile(quantiles)\n",
    "df2['F'] = df2['frequency'].apply(set_score, args=('F', frequency_quantiles.iloc[0], frequency_quantiles.iloc[1]))\n",
    "\n",
    "monetary_quantiles = df2['monetary_value'].quantile(quantiles)\n",
    "df2['M'] = df2['monetary_value'].apply(set_score, args=('M', monetary_quantiles.iloc[0], monetary_quantiles.iloc[1]))"
   ]
  },
  {
   "cell_type": "code",
   "execution_count": 55,
   "id": "c1095d08",
   "metadata": {},
   "outputs": [
    {
     "data": {
      "text/html": [
       "<div>\n",
       "<style scoped>\n",
       "    .dataframe tbody tr th:only-of-type {\n",
       "        vertical-align: middle;\n",
       "    }\n",
       "\n",
       "    .dataframe tbody tr th {\n",
       "        vertical-align: top;\n",
       "    }\n",
       "\n",
       "    .dataframe thead th {\n",
       "        text-align: right;\n",
       "    }\n",
       "</style>\n",
       "<table border=\"1\" class=\"dataframe\">\n",
       "  <thead>\n",
       "    <tr style=\"text-align: right;\">\n",
       "      <th></th>\n",
       "      <th>client_id</th>\n",
       "      <th>monetary_value</th>\n",
       "      <th>frequency</th>\n",
       "      <th>last_purchase</th>\n",
       "      <th>min_price</th>\n",
       "      <th>max_price</th>\n",
       "      <th>total_quantity</th>\n",
       "      <th>days_since_last_purchase</th>\n",
       "      <th>R</th>\n",
       "      <th>F</th>\n",
       "      <th>M</th>\n",
       "    </tr>\n",
       "  </thead>\n",
       "  <tbody>\n",
       "    <tr>\n",
       "      <th>15</th>\n",
       "      <td>1515915625440988920</td>\n",
       "      <td>23365.833984</td>\n",
       "      <td>9</td>\n",
       "      <td>2023-07-26</td>\n",
       "      <td>11.0</td>\n",
       "      <td>9598.0</td>\n",
       "      <td>20</td>\n",
       "      <td>61</td>\n",
       "      <td>2</td>\n",
       "      <td>1</td>\n",
       "      <td>2</td>\n",
       "    </tr>\n",
       "  </tbody>\n",
       "</table>\n",
       "</div>"
      ],
      "text/plain": [
       "              client_id  monetary_value  frequency last_purchase  min_price  \\\n",
       "15  1515915625440988920    23365.833984          9    2023-07-26       11.0   \n",
       "\n",
       "    max_price  total_quantity  days_since_last_purchase  R  F  M  \n",
       "15     9598.0              20                        61  2  1  2  "
      ]
     },
     "execution_count": 55,
     "metadata": {},
     "output_type": "execute_result"
    }
   ],
   "source": [
    "# проверим на любом клиенте\n",
    "df2[df2['client_id']==1515915625440988920]"
   ]
  },
  {
   "cell_type": "code",
   "execution_count": 56,
   "id": "5bf34069",
   "metadata": {},
   "outputs": [],
   "source": [
    "df2['RFM'] = df2.apply(lambda row: f\"{row['R']}{row['F']}{row['M']}\", axis=1)"
   ]
  },
  {
   "cell_type": "code",
   "execution_count": 57,
   "id": "bc0c2d89",
   "metadata": {},
   "outputs": [
    {
     "data": {
      "text/html": [
       "<div>\n",
       "<style scoped>\n",
       "    .dataframe tbody tr th:only-of-type {\n",
       "        vertical-align: middle;\n",
       "    }\n",
       "\n",
       "    .dataframe tbody tr th {\n",
       "        vertical-align: top;\n",
       "    }\n",
       "\n",
       "    .dataframe thead th {\n",
       "        text-align: right;\n",
       "    }\n",
       "</style>\n",
       "<table border=\"1\" class=\"dataframe\">\n",
       "  <thead>\n",
       "    <tr style=\"text-align: right;\">\n",
       "      <th></th>\n",
       "      <th>client_id</th>\n",
       "      <th>monetary_value</th>\n",
       "      <th>frequency</th>\n",
       "      <th>last_purchase</th>\n",
       "      <th>min_price</th>\n",
       "      <th>max_price</th>\n",
       "      <th>total_quantity</th>\n",
       "      <th>days_since_last_purchase</th>\n",
       "      <th>R</th>\n",
       "      <th>F</th>\n",
       "      <th>M</th>\n",
       "      <th>RFM</th>\n",
       "    </tr>\n",
       "  </thead>\n",
       "  <tbody>\n",
       "    <tr>\n",
       "      <th>0</th>\n",
       "      <td>1515915625440099873</td>\n",
       "      <td>33216.0</td>\n",
       "      <td>2</td>\n",
       "      <td>2023-08-09</td>\n",
       "      <td>1218.0</td>\n",
       "      <td>31998.0</td>\n",
       "      <td>2</td>\n",
       "      <td>47</td>\n",
       "      <td>2</td>\n",
       "      <td>1</td>\n",
       "      <td>2</td>\n",
       "      <td>212</td>\n",
       "    </tr>\n",
       "    <tr>\n",
       "      <th>1</th>\n",
       "      <td>1515915625440939402</td>\n",
       "      <td>75998.0</td>\n",
       "      <td>1</td>\n",
       "      <td>2023-01-30</td>\n",
       "      <td>75998.0</td>\n",
       "      <td>75998.0</td>\n",
       "      <td>1</td>\n",
       "      <td>238</td>\n",
       "      <td>2</td>\n",
       "      <td>2</td>\n",
       "      <td>2</td>\n",
       "      <td>222</td>\n",
       "    </tr>\n",
       "    <tr>\n",
       "      <th>2</th>\n",
       "      <td>1515915625440944408</td>\n",
       "      <td>81178.0</td>\n",
       "      <td>3</td>\n",
       "      <td>2023-06-21</td>\n",
       "      <td>882.0</td>\n",
       "      <td>73998.0</td>\n",
       "      <td>3</td>\n",
       "      <td>96</td>\n",
       "      <td>2</td>\n",
       "      <td>1</td>\n",
       "      <td>2</td>\n",
       "      <td>212</td>\n",
       "    </tr>\n",
       "    <tr>\n",
       "      <th>3</th>\n",
       "      <td>1515915625440947454</td>\n",
       "      <td>2243.0</td>\n",
       "      <td>2</td>\n",
       "      <td>2022-12-24</td>\n",
       "      <td>101.0</td>\n",
       "      <td>2142.0</td>\n",
       "      <td>4</td>\n",
       "      <td>275</td>\n",
       "      <td>2</td>\n",
       "      <td>1</td>\n",
       "      <td>2</td>\n",
       "      <td>212</td>\n",
       "    </tr>\n",
       "    <tr>\n",
       "      <th>4</th>\n",
       "      <td>1515915625440952940</td>\n",
       "      <td>479.0</td>\n",
       "      <td>1</td>\n",
       "      <td>2022-11-11</td>\n",
       "      <td>479.0</td>\n",
       "      <td>479.0</td>\n",
       "      <td>1</td>\n",
       "      <td>318</td>\n",
       "      <td>3</td>\n",
       "      <td>2</td>\n",
       "      <td>3</td>\n",
       "      <td>323</td>\n",
       "    </tr>\n",
       "  </tbody>\n",
       "</table>\n",
       "</div>"
      ],
      "text/plain": [
       "             client_id  monetary_value  frequency last_purchase  min_price  \\\n",
       "0  1515915625440099873         33216.0          2    2023-08-09     1218.0   \n",
       "1  1515915625440939402         75998.0          1    2023-01-30    75998.0   \n",
       "2  1515915625440944408         81178.0          3    2023-06-21      882.0   \n",
       "3  1515915625440947454          2243.0          2    2022-12-24      101.0   \n",
       "4  1515915625440952940           479.0          1    2022-11-11      479.0   \n",
       "\n",
       "   max_price  total_quantity  days_since_last_purchase  R  F  M  RFM  \n",
       "0    31998.0               2                        47  2  1  2  212  \n",
       "1    75998.0               1                       238  2  2  2  222  \n",
       "2    73998.0               3                        96  2  1  2  212  \n",
       "3     2142.0               4                       275  2  1  2  212  \n",
       "4      479.0               1                       318  3  2  3  323  "
      ]
     },
     "execution_count": 57,
     "metadata": {},
     "output_type": "execute_result"
    }
   ],
   "source": [
    "df2.head()"
   ]
  },
  {
   "cell_type": "markdown",
   "id": "0bec7862",
   "metadata": {},
   "source": [
    "**Создадим список для работы с клиентами по персонализированной рассылке**"
   ]
  },
  {
   "cell_type": "code",
   "execution_count": 58,
   "id": "e245eb1a",
   "metadata": {},
   "outputs": [
    {
     "data": {
      "text/html": [
       "<div>\n",
       "<style scoped>\n",
       "    .dataframe tbody tr th:only-of-type {\n",
       "        vertical-align: middle;\n",
       "    }\n",
       "\n",
       "    .dataframe tbody tr th {\n",
       "        vertical-align: top;\n",
       "    }\n",
       "\n",
       "    .dataframe thead th {\n",
       "        text-align: right;\n",
       "    }\n",
       "</style>\n",
       "<table border=\"1\" class=\"dataframe\">\n",
       "  <thead>\n",
       "    <tr style=\"text-align: right;\">\n",
       "      <th></th>\n",
       "      <th>RFM</th>\n",
       "      <th>count</th>\n",
       "    </tr>\n",
       "  </thead>\n",
       "  <tbody>\n",
       "    <tr>\n",
       "      <th>0</th>\n",
       "      <td>111</td>\n",
       "      <td>140</td>\n",
       "    </tr>\n",
       "    <tr>\n",
       "      <th>1</th>\n",
       "      <td>112</td>\n",
       "      <td>431</td>\n",
       "    </tr>\n",
       "    <tr>\n",
       "      <th>2</th>\n",
       "      <td>113</td>\n",
       "      <td>32</td>\n",
       "    </tr>\n",
       "    <tr>\n",
       "      <th>3</th>\n",
       "      <td>121</td>\n",
       "      <td>59</td>\n",
       "    </tr>\n",
       "    <tr>\n",
       "      <th>4</th>\n",
       "      <td>122</td>\n",
       "      <td>1339</td>\n",
       "    </tr>\n",
       "    <tr>\n",
       "      <th>5</th>\n",
       "      <td>123</td>\n",
       "      <td>393</td>\n",
       "    </tr>\n",
       "    <tr>\n",
       "      <th>6</th>\n",
       "      <td>211</td>\n",
       "      <td>539</td>\n",
       "    </tr>\n",
       "    <tr>\n",
       "      <th>7</th>\n",
       "      <td>212</td>\n",
       "      <td>1540</td>\n",
       "    </tr>\n",
       "    <tr>\n",
       "      <th>8</th>\n",
       "      <td>213</td>\n",
       "      <td>92</td>\n",
       "    </tr>\n",
       "    <tr>\n",
       "      <th>9</th>\n",
       "      <td>221</td>\n",
       "      <td>776</td>\n",
       "    </tr>\n",
       "    <tr>\n",
       "      <th>10</th>\n",
       "      <td>222</td>\n",
       "      <td>7523</td>\n",
       "    </tr>\n",
       "    <tr>\n",
       "      <th>11</th>\n",
       "      <td>223</td>\n",
       "      <td>1610</td>\n",
       "    </tr>\n",
       "    <tr>\n",
       "      <th>12</th>\n",
       "      <td>311</td>\n",
       "      <td>22</td>\n",
       "    </tr>\n",
       "    <tr>\n",
       "      <th>13</th>\n",
       "      <td>312</td>\n",
       "      <td>97</td>\n",
       "    </tr>\n",
       "    <tr>\n",
       "      <th>14</th>\n",
       "      <td>313</td>\n",
       "      <td>10</td>\n",
       "    </tr>\n",
       "    <tr>\n",
       "      <th>15</th>\n",
       "      <td>321</td>\n",
       "      <td>73</td>\n",
       "    </tr>\n",
       "    <tr>\n",
       "      <th>16</th>\n",
       "      <td>322</td>\n",
       "      <td>1162</td>\n",
       "    </tr>\n",
       "    <tr>\n",
       "      <th>17</th>\n",
       "      <td>323</td>\n",
       "      <td>245</td>\n",
       "    </tr>\n",
       "  </tbody>\n",
       "</table>\n",
       "</div>"
      ],
      "text/plain": [
       "    RFM  count\n",
       "0   111    140\n",
       "1   112    431\n",
       "2   113     32\n",
       "3   121     59\n",
       "4   122   1339\n",
       "5   123    393\n",
       "6   211    539\n",
       "7   212   1540\n",
       "8   213     92\n",
       "9   221    776\n",
       "10  222   7523\n",
       "11  223   1610\n",
       "12  311     22\n",
       "13  312     97\n",
       "14  313     10\n",
       "15  321     73\n",
       "16  322   1162\n",
       "17  323    245"
      ]
     },
     "execution_count": 58,
     "metadata": {},
     "output_type": "execute_result"
    }
   ],
   "source": [
    "df3 = df2.groupby('RFM')['RFM'].agg({'count'}).reset_index()\n",
    "df3"
   ]
  },
  {
   "cell_type": "markdown",
   "id": "ef1a490e",
   "metadata": {},
   "source": [
    "Мы получили категорийную фичу, основанную на RFM анализе. Далее для создания дополнительных признаков объединим наш датасет с фичами после RFM анализа и исходный датасет market."
   ]
  },
  {
   "cell_type": "markdown",
   "id": "07f6897c",
   "metadata": {},
   "source": [
    "**Вывод по RFM анализу** \n",
    "\n",
    "После разделения людей на группы получили 27 сегментов. \n",
    "Здесь стоит более подробно остановиться на дальнейшем исследовании этих групп, но мы пока этого делать не будем, т.к. перед нами стоит другая задача. Приведем лишь некоторые примеры как можно работать с результатами данного анализа.\n",
    "\n",
    "Анализ помогает определить клиентов, которые покупают часто и на большие суммы, клиентов, которые регулярно возвращаются за небольшими покупками, и клиентов, которые давно ничего не покупали.\n",
    "Таргетирование рассылок на определенные группы клиентов дает гораздо большую конверсию рекламы, нежели одинаковая не персонализированная реклама.\n",
    "\n",
    "Мы видим самую большую группу потенциальных клиентов \"222\", которых можно попробовать перевести в лояльные.\n",
    "\n",
    "❎ Например, клиент «333» покупал давно, один раз и на маленькую сумму. И скорее всего, нам не стоит за него бороться.\n",
    "\n",
    "✅Но при этом клиентов «313», «312», «311» обязательно нужно попытаться вернуть - это наши уходящие постоянные клиенты с разным чеком. Отправляем им реактивационные письма, запрашиваем обратную связь, предлагаем бонусы, программы лояльности.\n",
    "\n",
    "🔥Или пользователь «111»: покупает часто, на большую сумму и последняя покупка была недавно. Это наши лучшие клиенты. Таким клиентам следует уделять особое внимание, например, предлагать им эксклюзивные продукты или услуги, бонусы и скидки.\n",
    "\n",
    "Также можно отдельно посмотреть и поработать с клиентами, которые покупали менее 30 дней назад от 25.09.2023.\n",
    "Создали список для работы с клиентами по персонализированной рассылке.\n",
    "\n",
    "Далее объединим результаты RFM датасета с нашим исходным для дальнейшей подготовки к обучению модели."
   ]
  },
  {
   "cell_type": "code",
   "execution_count": 59,
   "id": "689535b7",
   "metadata": {},
   "outputs": [
    {
     "data": {
      "text/html": [
       "<div>\n",
       "<style scoped>\n",
       "    .dataframe tbody tr th:only-of-type {\n",
       "        vertical-align: middle;\n",
       "    }\n",
       "\n",
       "    .dataframe tbody tr th {\n",
       "        vertical-align: top;\n",
       "    }\n",
       "\n",
       "    .dataframe thead th {\n",
       "        text-align: right;\n",
       "    }\n",
       "</style>\n",
       "<table border=\"1\" class=\"dataframe\">\n",
       "  <thead>\n",
       "    <tr style=\"text-align: right;\">\n",
       "      <th></th>\n",
       "      <th>client_id</th>\n",
       "      <th>date</th>\n",
       "      <th>quantity</th>\n",
       "      <th>price</th>\n",
       "      <th>days_diff</th>\n",
       "      <th>target</th>\n",
       "      <th>monetary_value</th>\n",
       "      <th>frequency</th>\n",
       "      <th>last_purchase</th>\n",
       "      <th>min_price</th>\n",
       "      <th>max_price</th>\n",
       "      <th>total_quantity</th>\n",
       "      <th>days_since_last_purchase</th>\n",
       "      <th>R</th>\n",
       "      <th>F</th>\n",
       "      <th>M</th>\n",
       "      <th>RFM</th>\n",
       "    </tr>\n",
       "  </thead>\n",
       "  <tbody>\n",
       "    <tr>\n",
       "      <th>0</th>\n",
       "      <td>1515915625440099873</td>\n",
       "      <td>2023-07-16</td>\n",
       "      <td>1</td>\n",
       "      <td>31998.0</td>\n",
       "      <td>24.0</td>\n",
       "      <td>1</td>\n",
       "      <td>33216.0</td>\n",
       "      <td>2</td>\n",
       "      <td>2023-08-09</td>\n",
       "      <td>1218.0</td>\n",
       "      <td>31998.0</td>\n",
       "      <td>2</td>\n",
       "      <td>47</td>\n",
       "      <td>2</td>\n",
       "      <td>1</td>\n",
       "      <td>2</td>\n",
       "      <td>212</td>\n",
       "    </tr>\n",
       "    <tr>\n",
       "      <th>1</th>\n",
       "      <td>1515915625440099873</td>\n",
       "      <td>2023-08-09</td>\n",
       "      <td>1</td>\n",
       "      <td>1218.0</td>\n",
       "      <td>999.0</td>\n",
       "      <td>0</td>\n",
       "      <td>33216.0</td>\n",
       "      <td>2</td>\n",
       "      <td>2023-08-09</td>\n",
       "      <td>1218.0</td>\n",
       "      <td>31998.0</td>\n",
       "      <td>2</td>\n",
       "      <td>47</td>\n",
       "      <td>2</td>\n",
       "      <td>1</td>\n",
       "      <td>2</td>\n",
       "      <td>212</td>\n",
       "    </tr>\n",
       "    <tr>\n",
       "      <th>2</th>\n",
       "      <td>1515915625440939402</td>\n",
       "      <td>2023-01-30</td>\n",
       "      <td>1</td>\n",
       "      <td>75998.0</td>\n",
       "      <td>999.0</td>\n",
       "      <td>0</td>\n",
       "      <td>75998.0</td>\n",
       "      <td>1</td>\n",
       "      <td>2023-01-30</td>\n",
       "      <td>75998.0</td>\n",
       "      <td>75998.0</td>\n",
       "      <td>1</td>\n",
       "      <td>238</td>\n",
       "      <td>2</td>\n",
       "      <td>2</td>\n",
       "      <td>2</td>\n",
       "      <td>222</td>\n",
       "    </tr>\n",
       "    <tr>\n",
       "      <th>3</th>\n",
       "      <td>1515915625440944408</td>\n",
       "      <td>2023-03-01</td>\n",
       "      <td>1</td>\n",
       "      <td>882.0</td>\n",
       "      <td>62.0</td>\n",
       "      <td>0</td>\n",
       "      <td>81178.0</td>\n",
       "      <td>3</td>\n",
       "      <td>2023-06-21</td>\n",
       "      <td>882.0</td>\n",
       "      <td>73998.0</td>\n",
       "      <td>3</td>\n",
       "      <td>96</td>\n",
       "      <td>2</td>\n",
       "      <td>1</td>\n",
       "      <td>2</td>\n",
       "      <td>212</td>\n",
       "    </tr>\n",
       "    <tr>\n",
       "      <th>4</th>\n",
       "      <td>1515915625440944408</td>\n",
       "      <td>2023-05-02</td>\n",
       "      <td>1</td>\n",
       "      <td>6298.0</td>\n",
       "      <td>50.0</td>\n",
       "      <td>0</td>\n",
       "      <td>81178.0</td>\n",
       "      <td>3</td>\n",
       "      <td>2023-06-21</td>\n",
       "      <td>882.0</td>\n",
       "      <td>73998.0</td>\n",
       "      <td>3</td>\n",
       "      <td>96</td>\n",
       "      <td>2</td>\n",
       "      <td>1</td>\n",
       "      <td>2</td>\n",
       "      <td>212</td>\n",
       "    </tr>\n",
       "  </tbody>\n",
       "</table>\n",
       "</div>"
      ],
      "text/plain": [
       "             client_id       date  quantity    price  days_diff  target  \\\n",
       "0  1515915625440099873 2023-07-16         1  31998.0       24.0       1   \n",
       "1  1515915625440099873 2023-08-09         1   1218.0      999.0       0   \n",
       "2  1515915625440939402 2023-01-30         1  75998.0      999.0       0   \n",
       "3  1515915625440944408 2023-03-01         1    882.0       62.0       0   \n",
       "4  1515915625440944408 2023-05-02         1   6298.0       50.0       0   \n",
       "\n",
       "   monetary_value  frequency last_purchase  min_price  max_price  \\\n",
       "0         33216.0          2    2023-08-09     1218.0    31998.0   \n",
       "1         33216.0          2    2023-08-09     1218.0    31998.0   \n",
       "2         75998.0          1    2023-01-30    75998.0    75998.0   \n",
       "3         81178.0          3    2023-06-21      882.0    73998.0   \n",
       "4         81178.0          3    2023-06-21      882.0    73998.0   \n",
       "\n",
       "   total_quantity  days_since_last_purchase  R  F  M  RFM  \n",
       "0               2                        47  2  1  2  212  \n",
       "1               2                        47  2  1  2  212  \n",
       "2               1                       238  2  2  2  222  \n",
       "3               3                        96  2  1  2  212  \n",
       "4               3                        96  2  1  2  212  "
      ]
     },
     "execution_count": 59,
     "metadata": {},
     "output_type": "execute_result"
    }
   ],
   "source": [
    "df4 = train.merge(\n",
    "    df2, \n",
    "    left_on= 'client_id', \n",
    "    right_on='client_id', \n",
    "    how='left'\n",
    ")\n",
    "df4.head()"
   ]
  },
  {
   "cell_type": "markdown",
   "id": "aa9c9281",
   "metadata": {},
   "source": [
    "**Подготовка данных для тестовой выборки**\n",
    "\n",
    "Сделаем по аналогии с трейном.\n"
   ]
  },
  {
   "cell_type": "code",
   "execution_count": 60,
   "id": "d4cf85bf",
   "metadata": {},
   "outputs": [
    {
     "data": {
      "text/html": [
       "<div>\n",
       "<style scoped>\n",
       "    .dataframe tbody tr th:only-of-type {\n",
       "        vertical-align: middle;\n",
       "    }\n",
       "\n",
       "    .dataframe tbody tr th {\n",
       "        vertical-align: top;\n",
       "    }\n",
       "\n",
       "    .dataframe thead th {\n",
       "        text-align: right;\n",
       "    }\n",
       "</style>\n",
       "<table border=\"1\" class=\"dataframe\">\n",
       "  <thead>\n",
       "    <tr style=\"text-align: right;\">\n",
       "      <th></th>\n",
       "      <th>client_id</th>\n",
       "      <th>date</th>\n",
       "      <th>quantity</th>\n",
       "      <th>price</th>\n",
       "      <th>days_diff</th>\n",
       "      <th>target</th>\n",
       "    </tr>\n",
       "  </thead>\n",
       "  <tbody>\n",
       "    <tr>\n",
       "      <th>20</th>\n",
       "      <td>1515915625440981562</td>\n",
       "      <td>2023-10-01</td>\n",
       "      <td>1</td>\n",
       "      <td>25798.0</td>\n",
       "      <td>999.0</td>\n",
       "      <td>0</td>\n",
       "    </tr>\n",
       "    <tr>\n",
       "      <th>41</th>\n",
       "      <td>1515915625440995965</td>\n",
       "      <td>2023-10-11</td>\n",
       "      <td>1</td>\n",
       "      <td>14998.0</td>\n",
       "      <td>999.0</td>\n",
       "      <td>0</td>\n",
       "    </tr>\n",
       "    <tr>\n",
       "      <th>51</th>\n",
       "      <td>1515915625440996406</td>\n",
       "      <td>2023-09-28</td>\n",
       "      <td>1</td>\n",
       "      <td>6118.0</td>\n",
       "      <td>999.0</td>\n",
       "      <td>0</td>\n",
       "    </tr>\n",
       "    <tr>\n",
       "      <th>54</th>\n",
       "      <td>1515915625441001906</td>\n",
       "      <td>2023-10-03</td>\n",
       "      <td>1</td>\n",
       "      <td>2.0</td>\n",
       "      <td>999.0</td>\n",
       "      <td>0</td>\n",
       "    </tr>\n",
       "    <tr>\n",
       "      <th>57</th>\n",
       "      <td>1515915625441007350</td>\n",
       "      <td>2023-09-28</td>\n",
       "      <td>1</td>\n",
       "      <td>79998.0</td>\n",
       "      <td>1.0</td>\n",
       "      <td>1</td>\n",
       "    </tr>\n",
       "  </tbody>\n",
       "</table>\n",
       "</div>"
      ],
      "text/plain": [
       "              client_id       date  quantity    price  days_diff  target\n",
       "20  1515915625440981562 2023-10-01         1  25798.0      999.0       0\n",
       "41  1515915625440995965 2023-10-11         1  14998.0      999.0       0\n",
       "51  1515915625440996406 2023-09-28         1   6118.0      999.0       0\n",
       "54  1515915625441001906 2023-10-03         1      2.0      999.0       0\n",
       "57  1515915625441007350 2023-09-28         1  79998.0        1.0       1"
      ]
     },
     "execution_count": 60,
     "metadata": {},
     "output_type": "execute_result"
    }
   ],
   "source": [
    "test = test.sort_values(['client_id', 'date'])\n",
    "test.head()    "
   ]
  },
  {
   "cell_type": "code",
   "execution_count": 61,
   "id": "0e08f895",
   "metadata": {},
   "outputs": [
    {
     "data": {
      "text/html": [
       "<div>\n",
       "<style scoped>\n",
       "    .dataframe tbody tr th:only-of-type {\n",
       "        vertical-align: middle;\n",
       "    }\n",
       "\n",
       "    .dataframe tbody tr th {\n",
       "        vertical-align: top;\n",
       "    }\n",
       "\n",
       "    .dataframe thead th {\n",
       "        text-align: right;\n",
       "    }\n",
       "</style>\n",
       "<table border=\"1\" class=\"dataframe\">\n",
       "  <thead>\n",
       "    <tr style=\"text-align: right;\">\n",
       "      <th></th>\n",
       "      <th>client_id</th>\n",
       "      <th>monetary_value</th>\n",
       "      <th>frequency</th>\n",
       "      <th>last_purchase</th>\n",
       "      <th>min_price</th>\n",
       "      <th>max_price</th>\n",
       "      <th>total_quantity</th>\n",
       "    </tr>\n",
       "  </thead>\n",
       "  <tbody>\n",
       "    <tr>\n",
       "      <th>0</th>\n",
       "      <td>1515915625440981562</td>\n",
       "      <td>25798.0</td>\n",
       "      <td>1</td>\n",
       "      <td>2023-10-01</td>\n",
       "      <td>25798.0</td>\n",
       "      <td>25798.0</td>\n",
       "      <td>1</td>\n",
       "    </tr>\n",
       "    <tr>\n",
       "      <th>1</th>\n",
       "      <td>1515915625440995965</td>\n",
       "      <td>14998.0</td>\n",
       "      <td>1</td>\n",
       "      <td>2023-10-11</td>\n",
       "      <td>14998.0</td>\n",
       "      <td>14998.0</td>\n",
       "      <td>1</td>\n",
       "    </tr>\n",
       "    <tr>\n",
       "      <th>2</th>\n",
       "      <td>1515915625440996406</td>\n",
       "      <td>6118.0</td>\n",
       "      <td>1</td>\n",
       "      <td>2023-09-28</td>\n",
       "      <td>6118.0</td>\n",
       "      <td>6118.0</td>\n",
       "      <td>1</td>\n",
       "    </tr>\n",
       "    <tr>\n",
       "      <th>3</th>\n",
       "      <td>1515915625441001906</td>\n",
       "      <td>2.0</td>\n",
       "      <td>1</td>\n",
       "      <td>2023-10-03</td>\n",
       "      <td>2.0</td>\n",
       "      <td>2.0</td>\n",
       "      <td>1</td>\n",
       "    </tr>\n",
       "    <tr>\n",
       "      <th>4</th>\n",
       "      <td>1515915625441007350</td>\n",
       "      <td>87996.0</td>\n",
       "      <td>2</td>\n",
       "      <td>2023-09-29</td>\n",
       "      <td>7998.0</td>\n",
       "      <td>79998.0</td>\n",
       "      <td>4</td>\n",
       "    </tr>\n",
       "  </tbody>\n",
       "</table>\n",
       "</div>"
      ],
      "text/plain": [
       "             client_id  monetary_value  frequency last_purchase  min_price  \\\n",
       "0  1515915625440981562         25798.0          1    2023-10-01    25798.0   \n",
       "1  1515915625440995965         14998.0          1    2023-10-11    14998.0   \n",
       "2  1515915625440996406          6118.0          1    2023-09-28     6118.0   \n",
       "3  1515915625441001906             2.0          1    2023-10-03        2.0   \n",
       "4  1515915625441007350         87996.0          2    2023-09-29     7998.0   \n",
       "\n",
       "   max_price  total_quantity  \n",
       "0    25798.0               1  \n",
       "1    14998.0               1  \n",
       "2     6118.0               1  \n",
       "3        2.0               1  \n",
       "4    79998.0               4  "
      ]
     },
     "execution_count": 61,
     "metadata": {},
     "output_type": "execute_result"
    }
   ],
   "source": [
    "df2_test = test.groupby('client_id').agg(\n",
    "        monetary_value=('price', 'sum'),\n",
    "        frequency=('date', 'count'),\n",
    "        last_purchase=('date', 'last'),\n",
    "        min_price = ('price', 'min'),\n",
    "        max_price = ('price', 'max'),\n",
    "        total_quantity = ('quantity', 'sum'),\n",
    "        ).reset_index()\n",
    "    \n",
    "df2_test.head()"
   ]
  },
  {
   "cell_type": "code",
   "execution_count": 62,
   "id": "3700befc",
   "metadata": {},
   "outputs": [],
   "source": [
    "test['date'] = pd.to_datetime(test['date'])\n",
    "df2_test['last_purchase'] = pd.to_datetime(df2_test['last_purchase'])\n",
    "df2_test['days_since_last_purchase'] = (max(test['date']) - df2_test['last_purchase']).dt.days\n",
    "    "
   ]
  },
  {
   "cell_type": "code",
   "execution_count": 63,
   "id": "fcc85858",
   "metadata": {},
   "outputs": [],
   "source": [
    "recency_quantile = df2_test['days_since_last_purchase'].quantile(quantiles)\n",
    "df2_test['R'] = df2_test['days_since_last_purchase'].apply(set_score, args=('R', recency_quantile.iloc[0], recency_quantile.iloc[1]))\n",
    "\n",
    "frequency_quantile = df2_test['frequency'].quantile(quantiles)\n",
    "df2_test['F'] = df2_test['frequency'].apply(set_score, args=('F', frequency_quantile.iloc[0], frequency_quantile.iloc[1]))\n",
    "\n",
    "monetary_quantile = df2_test['monetary_value'].quantile(quantiles)\n",
    "df2_test['M'] = df2_test['monetary_value'].apply(set_score, args=('M', monetary_quantile.iloc[0], monetary_quantile.iloc[1]))"
   ]
  },
  {
   "cell_type": "code",
   "execution_count": 64,
   "id": "e55590fd",
   "metadata": {},
   "outputs": [],
   "source": [
    "df2_test['RFM'] = df2_test.apply(lambda row: f\"{row['R']}{row['F']}{row['M']}\", axis=1)"
   ]
  },
  {
   "cell_type": "code",
   "execution_count": 65,
   "id": "888fe824",
   "metadata": {
    "scrolled": true
   },
   "outputs": [
    {
     "data": {
      "text/html": [
       "<div>\n",
       "<style scoped>\n",
       "    .dataframe tbody tr th:only-of-type {\n",
       "        vertical-align: middle;\n",
       "    }\n",
       "\n",
       "    .dataframe tbody tr th {\n",
       "        vertical-align: top;\n",
       "    }\n",
       "\n",
       "    .dataframe thead th {\n",
       "        text-align: right;\n",
       "    }\n",
       "</style>\n",
       "<table border=\"1\" class=\"dataframe\">\n",
       "  <thead>\n",
       "    <tr style=\"text-align: right;\">\n",
       "      <th></th>\n",
       "      <th>client_id</th>\n",
       "      <th>date</th>\n",
       "      <th>quantity</th>\n",
       "      <th>price</th>\n",
       "      <th>days_diff</th>\n",
       "      <th>target</th>\n",
       "      <th>monetary_value</th>\n",
       "      <th>frequency</th>\n",
       "      <th>last_purchase</th>\n",
       "      <th>min_price</th>\n",
       "      <th>max_price</th>\n",
       "      <th>total_quantity</th>\n",
       "      <th>days_since_last_purchase</th>\n",
       "      <th>R</th>\n",
       "      <th>F</th>\n",
       "      <th>M</th>\n",
       "      <th>RFM</th>\n",
       "    </tr>\n",
       "  </thead>\n",
       "  <tbody>\n",
       "    <tr>\n",
       "      <th>0</th>\n",
       "      <td>1515915625440981562</td>\n",
       "      <td>2023-10-01</td>\n",
       "      <td>1</td>\n",
       "      <td>25798.0</td>\n",
       "      <td>999.0</td>\n",
       "      <td>0</td>\n",
       "      <td>25798.0</td>\n",
       "      <td>1</td>\n",
       "      <td>2023-10-01</td>\n",
       "      <td>25798.0</td>\n",
       "      <td>25798.0</td>\n",
       "      <td>1</td>\n",
       "      <td>25</td>\n",
       "      <td>2</td>\n",
       "      <td>2</td>\n",
       "      <td>2</td>\n",
       "      <td>222</td>\n",
       "    </tr>\n",
       "    <tr>\n",
       "      <th>1</th>\n",
       "      <td>1515915625440995965</td>\n",
       "      <td>2023-10-11</td>\n",
       "      <td>1</td>\n",
       "      <td>14998.0</td>\n",
       "      <td>999.0</td>\n",
       "      <td>0</td>\n",
       "      <td>14998.0</td>\n",
       "      <td>1</td>\n",
       "      <td>2023-10-11</td>\n",
       "      <td>14998.0</td>\n",
       "      <td>14998.0</td>\n",
       "      <td>1</td>\n",
       "      <td>15</td>\n",
       "      <td>2</td>\n",
       "      <td>2</td>\n",
       "      <td>2</td>\n",
       "      <td>222</td>\n",
       "    </tr>\n",
       "    <tr>\n",
       "      <th>2</th>\n",
       "      <td>1515915625440996406</td>\n",
       "      <td>2023-09-28</td>\n",
       "      <td>1</td>\n",
       "      <td>6118.0</td>\n",
       "      <td>999.0</td>\n",
       "      <td>0</td>\n",
       "      <td>6118.0</td>\n",
       "      <td>1</td>\n",
       "      <td>2023-09-28</td>\n",
       "      <td>6118.0</td>\n",
       "      <td>6118.0</td>\n",
       "      <td>1</td>\n",
       "      <td>28</td>\n",
       "      <td>2</td>\n",
       "      <td>2</td>\n",
       "      <td>2</td>\n",
       "      <td>222</td>\n",
       "    </tr>\n",
       "    <tr>\n",
       "      <th>3</th>\n",
       "      <td>1515915625441001906</td>\n",
       "      <td>2023-10-03</td>\n",
       "      <td>1</td>\n",
       "      <td>2.0</td>\n",
       "      <td>999.0</td>\n",
       "      <td>0</td>\n",
       "      <td>2.0</td>\n",
       "      <td>1</td>\n",
       "      <td>2023-10-03</td>\n",
       "      <td>2.0</td>\n",
       "      <td>2.0</td>\n",
       "      <td>1</td>\n",
       "      <td>23</td>\n",
       "      <td>2</td>\n",
       "      <td>2</td>\n",
       "      <td>3</td>\n",
       "      <td>223</td>\n",
       "    </tr>\n",
       "    <tr>\n",
       "      <th>4</th>\n",
       "      <td>1515915625441007350</td>\n",
       "      <td>2023-09-28</td>\n",
       "      <td>1</td>\n",
       "      <td>79998.0</td>\n",
       "      <td>1.0</td>\n",
       "      <td>1</td>\n",
       "      <td>87996.0</td>\n",
       "      <td>2</td>\n",
       "      <td>2023-09-29</td>\n",
       "      <td>7998.0</td>\n",
       "      <td>79998.0</td>\n",
       "      <td>4</td>\n",
       "      <td>27</td>\n",
       "      <td>2</td>\n",
       "      <td>1</td>\n",
       "      <td>1</td>\n",
       "      <td>211</td>\n",
       "    </tr>\n",
       "  </tbody>\n",
       "</table>\n",
       "</div>"
      ],
      "text/plain": [
       "             client_id       date  quantity    price  days_diff  target  \\\n",
       "0  1515915625440981562 2023-10-01         1  25798.0      999.0       0   \n",
       "1  1515915625440995965 2023-10-11         1  14998.0      999.0       0   \n",
       "2  1515915625440996406 2023-09-28         1   6118.0      999.0       0   \n",
       "3  1515915625441001906 2023-10-03         1      2.0      999.0       0   \n",
       "4  1515915625441007350 2023-09-28         1  79998.0        1.0       1   \n",
       "\n",
       "   monetary_value  frequency last_purchase  min_price  max_price  \\\n",
       "0         25798.0          1    2023-10-01    25798.0    25798.0   \n",
       "1         14998.0          1    2023-10-11    14998.0    14998.0   \n",
       "2          6118.0          1    2023-09-28     6118.0     6118.0   \n",
       "3             2.0          1    2023-10-03        2.0        2.0   \n",
       "4         87996.0          2    2023-09-29     7998.0    79998.0   \n",
       "\n",
       "   total_quantity  days_since_last_purchase  R  F  M  RFM  \n",
       "0               1                        25  2  2  2  222  \n",
       "1               1                        15  2  2  2  222  \n",
       "2               1                        28  2  2  2  222  \n",
       "3               1                        23  2  2  3  223  \n",
       "4               4                        27  2  1  1  211  "
      ]
     },
     "execution_count": 65,
     "metadata": {},
     "output_type": "execute_result"
    }
   ],
   "source": [
    "df4_test = test.merge(\n",
    "    df2_test, \n",
    "    left_on= 'client_id', \n",
    "    right_on='client_id', \n",
    "    how='left'\n",
    ")\n",
    "df4_test.head()"
   ]
  },
  {
   "cell_type": "code",
   "execution_count": 66,
   "id": "4ea9b8c1",
   "metadata": {},
   "outputs": [],
   "source": [
    "# удалим неинформативные столбцы теста\n",
    "df4_test = df4_test.drop(['last_purchase','R','F','M'], axis=1)"
   ]
  },
  {
   "cell_type": "code",
   "execution_count": 67,
   "id": "9ef73260",
   "metadata": {},
   "outputs": [],
   "source": [
    "# удалим неинформативные столбцы трейна\n",
    "df4 = df4.drop(['last_purchase','R','F','M'], axis=1)"
   ]
  },
  {
   "cell_type": "markdown",
   "id": "2691a21a",
   "metadata": {},
   "source": [
    "## 4.Выбор метрики, подготовка финального набора признаков"
   ]
  },
  {
   "cell_type": "code",
   "execution_count": 68,
   "id": "a0414663",
   "metadata": {},
   "outputs": [
    {
     "data": {
      "text/plain": [
       "0    17851\n",
       "1     3549\n",
       "Name: target, dtype: int64"
      ]
     },
     "execution_count": 68,
     "metadata": {},
     "output_type": "execute_result"
    }
   ],
   "source": [
    "df4['target'].value_counts()"
   ]
  },
  {
   "cell_type": "markdown",
   "id": "05091172",
   "metadata": {},
   "source": [
    "Мы наблюдаем довольно сильный дисбаланс классов. Также перед нами стоит задача узнать совершит ли клиент покупку или нет, т.е. нам нужно довольно точно находить именно тех клиентов, кто сделает приобретение. Поэтому будем использовать F1-меру в качестве метрики, поскольку она учитывает как полноту (recall), так и точность (precision) одновременно. Это полезно, когда оба эти аспекта критически важны для вашей задачи, и мы хотим гарантировать, что модель не только часто правильно идентифицирует положительный класс (высокая полнота), но и то, что многие из её положительных предсказаний действительно верны (высокая точность)."
   ]
  },
  {
   "cell_type": "markdown",
   "id": "152d1e7e",
   "metadata": {},
   "source": [
    "Далее напишем функци, которые создают дополнитеьные признаки для обучения модели"
   ]
  },
  {
   "cell_type": "code",
   "execution_count": 69,
   "id": "c8797873",
   "metadata": {},
   "outputs": [],
   "source": [
    "def add_calendar_features(df):\n",
    "    \"\"\"\n",
    "    Функция извлекает из даты и добавляет в датафрейм календарные фичи: день (число), \n",
    "    день недели, номер недели, месяц, год\n",
    "    \n",
    "    \"\"\"\n",
    "    df['date'] = pd.to_datetime(df['date']).dt.normalize()\n",
    "    # столбец 'dow' (day of week) и заполним его числовым значением дня недели (0-Понедельник, 6-Воскресенье)\n",
    "    df['dow'] = df['date'].dt.dayofweek\n",
    "    # столбец 'day' и заполним его числом дня в месяце (1-31)\n",
    "    df['day'] = df['date'].dt.day\n",
    "    # столбец 'week' и заполним его значением номера недели в году\n",
    "    df['week'] = df['date'].dt.isocalendar().week.astype('int32')\n",
    "    # столбец 'month' и заполняет его числовым значением месяца (1-12)\n",
    "    df['month'] = df['date'].dt.month\n",
    "\n",
    "    # OHE code month\n",
    "    months = {1: 'jan', 2: 'feb', 3: 'mar', 4: 'apr', 5: 'may', 6: 'jun',\n",
    "            7: 'jul', 8: 'aug', 9: 'sep', 10: 'oct', 11: 'nov', 12: 'dec'}\n",
    "    for month in months:\n",
    "        df[months[month]] = np.where((df['month'] == month), 1, 0)\n",
    "\n",
    "    return df"
   ]
  },
  {
   "cell_type": "code",
   "execution_count": 70,
   "id": "9263b4c7",
   "metadata": {},
   "outputs": [],
   "source": [
    "df4 = add_calendar_features(df4)\n",
    "df4_test = add_calendar_features(df4_test)"
   ]
  },
  {
   "cell_type": "code",
   "execution_count": 71,
   "id": "1a458cfb",
   "metadata": {},
   "outputs": [],
   "source": [
    "def add_daysoff(df):\n",
    "    \"\"\"\n",
    "    Функция загружает файлы производственных календарей, обрабатывает их и проставляет \n",
    "    метку 1 для всех выходных и праздничных дней. Эта категория шире суббот и воскресений\n",
    "    (что мы ранее извлекли из даты), т.к. включает дополнительно государственные праздники\n",
    "    и нерабочие дни, объявленные указами президента\n",
    "    Кроме того, функция создает столбец \"рабочий час\", отмечая единицами часы, являющиеся\n",
    "    рабочими по производственному календарю с учетом коротких дней перед праздниками\n",
    "    \n",
    "    \"\"\"\n",
    "    # read and preprocess tables with Russian production calendars\n",
    "    c22 = pd.read_csv('calendar2022.csv')\n",
    "    c23 = pd.read_csv('calendar2023.csv')\n",
    "\n",
    "    def get_daysoff(df, year):\n",
    "        \"\"\"\n",
    "        Функция принимает датафрейм производственного календаря и возвращает список\n",
    "        всех выходных дней в соответствующем году\n",
    "        \n",
    "        \"\"\"\n",
    "        months = {'Январь': '01', 'Февраль': '02', 'Март': '03', 'Апрель': '04', 'Май': '05', 'Июнь': '06',\n",
    "        'Июль': '07', 'Август': '08', 'Сентябрь': '09', 'Октябрь': '10', 'Ноябрь': '11', 'Декабрь': '12'}\n",
    "        \n",
    "        yearly_daysoff = []\n",
    "        yearly_short = []\n",
    "        for month in months:\n",
    "            #filter out days with *. these are working short days before a holiday\n",
    "            daysoff = [day for day in df[month].item().split(',') if '*' not in day]            \n",
    "            daysoff = [day if len(day) > 1 else '0'+day for day in daysoff]\n",
    "\n",
    "            #make a separate list of short working days (prior to a holiday)\n",
    "            short_days = [day for day in df[month].item().split(',') if '*' in day]\n",
    "            short_days = [day if len(day) > 1 else '0'+day for day in short_days]\n",
    "\n",
    "            #format as proper dates\n",
    "            daysoff = [(year + '-' + months[month] + '-' + day) for day in daysoff]\n",
    "            yearly_daysoff.extend(daysoff)\n",
    "            short_days = [(year + '-' + months[month] + '-' + day) for day in short_days]\n",
    "            yearly_short.extend(short_days)\n",
    "\n",
    "        return yearly_daysoff, yearly_short\n",
    "\n",
    "    # get days off for 2 years\n",
    "    all_daysoff = []\n",
    "    all_short = []\n",
    "    years = {'2022': c22, '2023': c23}\n",
    "    for year in years:\n",
    "        all_daysoff.extend(get_daysoff(df=years[year], year=year)[0])\n",
    "        all_short.extend(get_daysoff(df=years[year], year=year)[1])\n",
    "\n",
    "    # добавим выходные и предпраздничные дни\n",
    "    df['dayoff'] = np.where(df['date'].astype('str').isin(all_daysoff), 1, 0)\n",
    "    df['working_short'] = np.where(df['date'].astype('str').isin(all_short), 1, 0)\n",
    "\n",
    "    \n",
    "    return df    "
   ]
  },
  {
   "cell_type": "code",
   "execution_count": 72,
   "id": "2bc1d384",
   "metadata": {},
   "outputs": [],
   "source": [
    "def add_school_vacations(df):\n",
    "    \"\"\"\n",
    "    Функция отмечает единицами дни школьных каникул и нулями - все остальные дни\n",
    "    \n",
    "    \"\"\"\n",
    "    vacs = pd.read_csv('holidays.csv')\n",
    "    vacs = vacs.rename(columns={'Дата': 'date', 'Каникулы': 'school_vac'})\n",
    "    vacs['date'] = pd.to_datetime(vacs['date']).dt.normalize()\n",
    "    df = df.merge(vacs, on='date', how='left')\n",
    "    return df"
   ]
  },
  {
   "cell_type": "code",
   "execution_count": 73,
   "id": "357b4b04",
   "metadata": {},
   "outputs": [],
   "source": [
    "df4 = add_daysoff(df4)\n",
    "df4 = add_school_vacations(df4)"
   ]
  },
  {
   "cell_type": "code",
   "execution_count": 74,
   "id": "649b5ea5",
   "metadata": {},
   "outputs": [],
   "source": [
    "df4_test = add_daysoff(df4_test)\n",
    "df4_test = add_school_vacations(df4_test)"
   ]
  },
  {
   "cell_type": "code",
   "execution_count": 75,
   "id": "86c927d1",
   "metadata": {},
   "outputs": [
    {
     "name": "stdout",
     "output_type": "stream",
     "text": [
      "<class 'pandas.core.frame.DataFrame'>\n",
      "Int64Index: 21400 entries, 0 to 21399\n",
      "Data columns (total 32 columns):\n",
      " #   Column                    Non-Null Count  Dtype         \n",
      "---  ------                    --------------  -----         \n",
      " 0   client_id                 21400 non-null  int64         \n",
      " 1   date                      21400 non-null  datetime64[ns]\n",
      " 2   quantity                  21400 non-null  int64         \n",
      " 3   price                     21400 non-null  float32       \n",
      " 4   days_diff                 21400 non-null  float64       \n",
      " 5   target                    21400 non-null  int32         \n",
      " 6   monetary_value            21400 non-null  float32       \n",
      " 7   frequency                 21400 non-null  int64         \n",
      " 8   min_price                 21400 non-null  float32       \n",
      " 9   max_price                 21400 non-null  float32       \n",
      " 10  total_quantity            21400 non-null  int64         \n",
      " 11  days_since_last_purchase  21400 non-null  int64         \n",
      " 12  RFM                       21400 non-null  object        \n",
      " 13  dow                       21400 non-null  int64         \n",
      " 14  day                       21400 non-null  int64         \n",
      " 15  week                      21400 non-null  int32         \n",
      " 16  month                     21400 non-null  int64         \n",
      " 17  jan                       21400 non-null  int32         \n",
      " 18  feb                       21400 non-null  int32         \n",
      " 19  mar                       21400 non-null  int32         \n",
      " 20  apr                       21400 non-null  int32         \n",
      " 21  may                       21400 non-null  int32         \n",
      " 22  jun                       21400 non-null  int32         \n",
      " 23  jul                       21400 non-null  int32         \n",
      " 24  aug                       21400 non-null  int32         \n",
      " 25  sep                       21400 non-null  int32         \n",
      " 26  oct                       21400 non-null  int32         \n",
      " 27  nov                       21400 non-null  int32         \n",
      " 28  dec                       21400 non-null  int32         \n",
      " 29  dayoff                    21400 non-null  int32         \n",
      " 30  working_short             21400 non-null  int32         \n",
      " 31  school_vac                21400 non-null  int64         \n",
      "dtypes: datetime64[ns](1), float32(4), float64(1), int32(16), int64(9), object(1)\n",
      "memory usage: 3.8+ MB\n"
     ]
    }
   ],
   "source": [
    "df4.info()"
   ]
  },
  {
   "cell_type": "code",
   "execution_count": 76,
   "id": "59ab08b0",
   "metadata": {},
   "outputs": [],
   "source": [
    "# удалим неинформативные столбцы из трейна\n",
    "df4 = df4.drop(['client_id','date','days_diff','jan','oct',\n",
    "               'dec','working_short'], axis=1)"
   ]
  },
  {
   "cell_type": "code",
   "execution_count": 77,
   "id": "db37b71e",
   "metadata": {},
   "outputs": [],
   "source": [
    "# удалим неинформативные столбцы из теста\n",
    "df4_test = df4_test.drop(['client_id','date','days_diff','jan','oct',\n",
    "               'dec','working_short'], axis=1)"
   ]
  },
  {
   "cell_type": "code",
   "execution_count": 78,
   "id": "9cdbdabc",
   "metadata": {},
   "outputs": [
    {
     "name": "stdout",
     "output_type": "stream",
     "text": [
      "<class 'pandas.core.frame.DataFrame'>\n",
      "Int64Index: 21400 entries, 0 to 21399\n",
      "Data columns (total 25 columns):\n",
      " #   Column                    Non-Null Count  Dtype  \n",
      "---  ------                    --------------  -----  \n",
      " 0   quantity                  21400 non-null  int64  \n",
      " 1   price                     21400 non-null  float32\n",
      " 2   target                    21400 non-null  int32  \n",
      " 3   monetary_value            21400 non-null  float32\n",
      " 4   frequency                 21400 non-null  int64  \n",
      " 5   min_price                 21400 non-null  float32\n",
      " 6   max_price                 21400 non-null  float32\n",
      " 7   total_quantity            21400 non-null  int64  \n",
      " 8   days_since_last_purchase  21400 non-null  int64  \n",
      " 9   RFM                       21400 non-null  object \n",
      " 10  dow                       21400 non-null  int64  \n",
      " 11  day                       21400 non-null  int64  \n",
      " 12  week                      21400 non-null  int32  \n",
      " 13  month                     21400 non-null  int64  \n",
      " 14  feb                       21400 non-null  int32  \n",
      " 15  mar                       21400 non-null  int32  \n",
      " 16  apr                       21400 non-null  int32  \n",
      " 17  may                       21400 non-null  int32  \n",
      " 18  jun                       21400 non-null  int32  \n",
      " 19  jul                       21400 non-null  int32  \n",
      " 20  aug                       21400 non-null  int32  \n",
      " 21  sep                       21400 non-null  int32  \n",
      " 22  nov                       21400 non-null  int32  \n",
      " 23  dayoff                    21400 non-null  int32  \n",
      " 24  school_vac                21400 non-null  int64  \n",
      "dtypes: float32(4), int32(12), int64(8), object(1)\n",
      "memory usage: 2.9+ MB\n"
     ]
    }
   ],
   "source": [
    "df4.info()"
   ]
  },
  {
   "cell_type": "markdown",
   "id": "361519b6",
   "metadata": {},
   "source": [
    "**Посмотрим матрицу корреляции числовых признаков**"
   ]
  },
  {
   "cell_type": "code",
   "execution_count": 79,
   "id": "839e44d5",
   "metadata": {},
   "outputs": [
    {
     "data": {
      "text/html": [
       "<div>\n",
       "<style scoped>\n",
       "    .dataframe tbody tr th:only-of-type {\n",
       "        vertical-align: middle;\n",
       "    }\n",
       "\n",
       "    .dataframe tbody tr th {\n",
       "        vertical-align: top;\n",
       "    }\n",
       "\n",
       "    .dataframe thead th {\n",
       "        text-align: right;\n",
       "    }\n",
       "</style>\n",
       "<table border=\"1\" class=\"dataframe\">\n",
       "  <thead>\n",
       "    <tr style=\"text-align: right;\">\n",
       "      <th></th>\n",
       "      <th>quantity</th>\n",
       "      <th>price</th>\n",
       "      <th>target</th>\n",
       "      <th>monetary_value</th>\n",
       "      <th>frequency</th>\n",
       "      <th>min_price</th>\n",
       "      <th>max_price</th>\n",
       "      <th>total_quantity</th>\n",
       "      <th>days_since_last_purchase</th>\n",
       "      <th>dow</th>\n",
       "      <th>...</th>\n",
       "      <th>mar</th>\n",
       "      <th>apr</th>\n",
       "      <th>may</th>\n",
       "      <th>jun</th>\n",
       "      <th>jul</th>\n",
       "      <th>aug</th>\n",
       "      <th>sep</th>\n",
       "      <th>nov</th>\n",
       "      <th>dayoff</th>\n",
       "      <th>school_vac</th>\n",
       "    </tr>\n",
       "  </thead>\n",
       "  <tbody>\n",
       "    <tr>\n",
       "      <th>quantity</th>\n",
       "      <td>1.000000</td>\n",
       "      <td>-0.029596</td>\n",
       "      <td>0.086289</td>\n",
       "      <td>0.066745</td>\n",
       "      <td>0.099677</td>\n",
       "      <td>-0.037022</td>\n",
       "      <td>0.000087</td>\n",
       "      <td>0.324001</td>\n",
       "      <td>-0.003792</td>\n",
       "      <td>0.008167</td>\n",
       "      <td>...</td>\n",
       "      <td>0.000196</td>\n",
       "      <td>-0.022396</td>\n",
       "      <td>-0.006642</td>\n",
       "      <td>-0.006247</td>\n",
       "      <td>-0.015020</td>\n",
       "      <td>0.008653</td>\n",
       "      <td>-0.007933</td>\n",
       "      <td>0.008492</td>\n",
       "      <td>0.007844</td>\n",
       "      <td>-0.000043</td>\n",
       "    </tr>\n",
       "    <tr>\n",
       "      <th>price</th>\n",
       "      <td>-0.029596</td>\n",
       "      <td>1.000000</td>\n",
       "      <td>-0.028483</td>\n",
       "      <td>0.366298</td>\n",
       "      <td>-0.045179</td>\n",
       "      <td>0.883883</td>\n",
       "      <td>0.842364</td>\n",
       "      <td>-0.033706</td>\n",
       "      <td>0.060388</td>\n",
       "      <td>-0.020336</td>\n",
       "      <td>...</td>\n",
       "      <td>0.046181</td>\n",
       "      <td>0.015305</td>\n",
       "      <td>0.051241</td>\n",
       "      <td>0.032762</td>\n",
       "      <td>-0.001638</td>\n",
       "      <td>-0.045939</td>\n",
       "      <td>-0.074857</td>\n",
       "      <td>-0.024327</td>\n",
       "      <td>-0.013543</td>\n",
       "      <td>-0.001128</td>\n",
       "    </tr>\n",
       "    <tr>\n",
       "      <th>target</th>\n",
       "      <td>0.086289</td>\n",
       "      <td>-0.028483</td>\n",
       "      <td>1.000000</td>\n",
       "      <td>0.338014</td>\n",
       "      <td>0.455551</td>\n",
       "      <td>-0.148022</td>\n",
       "      <td>0.133345</td>\n",
       "      <td>0.330096</td>\n",
       "      <td>-0.150763</td>\n",
       "      <td>-0.022262</td>\n",
       "      <td>...</td>\n",
       "      <td>0.014105</td>\n",
       "      <td>-0.011107</td>\n",
       "      <td>-0.027822</td>\n",
       "      <td>-0.028153</td>\n",
       "      <td>-0.030502</td>\n",
       "      <td>-0.014610</td>\n",
       "      <td>0.049801</td>\n",
       "      <td>-0.008013</td>\n",
       "      <td>-0.025198</td>\n",
       "      <td>-0.038362</td>\n",
       "    </tr>\n",
       "    <tr>\n",
       "      <th>monetary_value</th>\n",
       "      <td>0.066745</td>\n",
       "      <td>0.366298</td>\n",
       "      <td>0.338014</td>\n",
       "      <td>1.000000</td>\n",
       "      <td>0.783092</td>\n",
       "      <td>0.213525</td>\n",
       "      <td>0.575238</td>\n",
       "      <td>0.609463</td>\n",
       "      <td>-0.170900</td>\n",
       "      <td>-0.019840</td>\n",
       "      <td>...</td>\n",
       "      <td>0.023210</td>\n",
       "      <td>0.010262</td>\n",
       "      <td>0.013709</td>\n",
       "      <td>0.004385</td>\n",
       "      <td>-0.012510</td>\n",
       "      <td>-0.027116</td>\n",
       "      <td>-0.034024</td>\n",
       "      <td>-0.012809</td>\n",
       "      <td>-0.017456</td>\n",
       "      <td>-0.015895</td>\n",
       "    </tr>\n",
       "    <tr>\n",
       "      <th>frequency</th>\n",
       "      <td>0.099677</td>\n",
       "      <td>-0.045179</td>\n",
       "      <td>0.455551</td>\n",
       "      <td>0.783092</td>\n",
       "      <td>1.000000</td>\n",
       "      <td>-0.174126</td>\n",
       "      <td>0.196032</td>\n",
       "      <td>0.808969</td>\n",
       "      <td>-0.260944</td>\n",
       "      <td>-0.016120</td>\n",
       "      <td>...</td>\n",
       "      <td>0.010486</td>\n",
       "      <td>0.000618</td>\n",
       "      <td>-0.010889</td>\n",
       "      <td>-0.014101</td>\n",
       "      <td>-0.011594</td>\n",
       "      <td>-0.005023</td>\n",
       "      <td>-0.006104</td>\n",
       "      <td>-0.004693</td>\n",
       "      <td>-0.019345</td>\n",
       "      <td>-0.017989</td>\n",
       "    </tr>\n",
       "    <tr>\n",
       "      <th>min_price</th>\n",
       "      <td>-0.037022</td>\n",
       "      <td>0.883883</td>\n",
       "      <td>-0.148022</td>\n",
       "      <td>0.213525</td>\n",
       "      <td>-0.174126</td>\n",
       "      <td>1.000000</td>\n",
       "      <td>0.724154</td>\n",
       "      <td>-0.115288</td>\n",
       "      <td>0.123358</td>\n",
       "      <td>-0.018707</td>\n",
       "      <td>...</td>\n",
       "      <td>0.034782</td>\n",
       "      <td>0.012800</td>\n",
       "      <td>0.056255</td>\n",
       "      <td>0.032041</td>\n",
       "      <td>0.000731</td>\n",
       "      <td>-0.035517</td>\n",
       "      <td>-0.065311</td>\n",
       "      <td>-0.019399</td>\n",
       "      <td>-0.012451</td>\n",
       "      <td>0.007379</td>\n",
       "    </tr>\n",
       "    <tr>\n",
       "      <th>max_price</th>\n",
       "      <td>0.000087</td>\n",
       "      <td>0.842364</td>\n",
       "      <td>0.133345</td>\n",
       "      <td>0.575238</td>\n",
       "      <td>0.196032</td>\n",
       "      <td>0.724154</td>\n",
       "      <td>1.000000</td>\n",
       "      <td>0.146202</td>\n",
       "      <td>-0.045083</td>\n",
       "      <td>-0.025989</td>\n",
       "      <td>...</td>\n",
       "      <td>0.045663</td>\n",
       "      <td>0.021877</td>\n",
       "      <td>0.051209</td>\n",
       "      <td>0.022715</td>\n",
       "      <td>-0.004186</td>\n",
       "      <td>-0.048393</td>\n",
       "      <td>-0.070075</td>\n",
       "      <td>-0.032084</td>\n",
       "      <td>-0.019531</td>\n",
       "      <td>-0.013431</td>\n",
       "    </tr>\n",
       "    <tr>\n",
       "      <th>total_quantity</th>\n",
       "      <td>0.324001</td>\n",
       "      <td>-0.033706</td>\n",
       "      <td>0.330096</td>\n",
       "      <td>0.609463</td>\n",
       "      <td>0.808969</td>\n",
       "      <td>-0.115288</td>\n",
       "      <td>0.146202</td>\n",
       "      <td>1.000000</td>\n",
       "      <td>-0.172615</td>\n",
       "      <td>-0.014160</td>\n",
       "      <td>...</td>\n",
       "      <td>0.001796</td>\n",
       "      <td>-0.011378</td>\n",
       "      <td>-0.005620</td>\n",
       "      <td>0.001071</td>\n",
       "      <td>-0.012703</td>\n",
       "      <td>0.007429</td>\n",
       "      <td>-0.006805</td>\n",
       "      <td>0.003176</td>\n",
       "      <td>-0.015153</td>\n",
       "      <td>0.000524</td>\n",
       "    </tr>\n",
       "    <tr>\n",
       "      <th>days_since_last_purchase</th>\n",
       "      <td>-0.003792</td>\n",
       "      <td>0.060388</td>\n",
       "      <td>-0.150763</td>\n",
       "      <td>-0.170900</td>\n",
       "      <td>-0.260944</td>\n",
       "      <td>0.123358</td>\n",
       "      <td>-0.045083</td>\n",
       "      <td>-0.172615</td>\n",
       "      <td>1.000000</td>\n",
       "      <td>0.037253</td>\n",
       "      <td>...</td>\n",
       "      <td>0.103161</td>\n",
       "      <td>0.013756</td>\n",
       "      <td>-0.070803</td>\n",
       "      <td>-0.129546</td>\n",
       "      <td>-0.208723</td>\n",
       "      <td>-0.289591</td>\n",
       "      <td>-0.521439</td>\n",
       "      <td>0.460228</td>\n",
       "      <td>0.052573</td>\n",
       "      <td>-0.246683</td>\n",
       "    </tr>\n",
       "    <tr>\n",
       "      <th>dow</th>\n",
       "      <td>0.008167</td>\n",
       "      <td>-0.020336</td>\n",
       "      <td>-0.022262</td>\n",
       "      <td>-0.019840</td>\n",
       "      <td>-0.016120</td>\n",
       "      <td>-0.018707</td>\n",
       "      <td>-0.025989</td>\n",
       "      <td>-0.014160</td>\n",
       "      <td>0.037253</td>\n",
       "      <td>1.000000</td>\n",
       "      <td>...</td>\n",
       "      <td>-0.072050</td>\n",
       "      <td>0.015982</td>\n",
       "      <td>-0.072073</td>\n",
       "      <td>-0.037726</td>\n",
       "      <td>0.033001</td>\n",
       "      <td>-0.052980</td>\n",
       "      <td>0.051917</td>\n",
       "      <td>0.080461</td>\n",
       "      <td>0.684564</td>\n",
       "      <td>-0.012686</td>\n",
       "    </tr>\n",
       "    <tr>\n",
       "      <th>day</th>\n",
       "      <td>0.015791</td>\n",
       "      <td>-0.010912</td>\n",
       "      <td>-0.008127</td>\n",
       "      <td>-0.005742</td>\n",
       "      <td>0.000537</td>\n",
       "      <td>-0.006237</td>\n",
       "      <td>-0.014219</td>\n",
       "      <td>0.003001</td>\n",
       "      <td>-0.065632</td>\n",
       "      <td>-0.084922</td>\n",
       "      <td>...</td>\n",
       "      <td>-0.049044</td>\n",
       "      <td>-0.034717</td>\n",
       "      <td>0.054985</td>\n",
       "      <td>-0.000807</td>\n",
       "      <td>0.033733</td>\n",
       "      <td>-0.015222</td>\n",
       "      <td>-0.006834</td>\n",
       "      <td>-0.041201</td>\n",
       "      <td>-0.072701</td>\n",
       "      <td>0.026886</td>\n",
       "    </tr>\n",
       "    <tr>\n",
       "      <th>week</th>\n",
       "      <td>0.009847</td>\n",
       "      <td>-0.082265</td>\n",
       "      <td>-0.014448</td>\n",
       "      <td>-0.040614</td>\n",
       "      <td>-0.004739</td>\n",
       "      <td>-0.063182</td>\n",
       "      <td>-0.086084</td>\n",
       "      <td>0.005263</td>\n",
       "      <td>-0.039759</td>\n",
       "      <td>0.071489</td>\n",
       "      <td>...</td>\n",
       "      <td>-0.328842</td>\n",
       "      <td>-0.243160</td>\n",
       "      <td>-0.102242</td>\n",
       "      <td>-0.010021</td>\n",
       "      <td>0.068285</td>\n",
       "      <td>0.149477</td>\n",
       "      <td>0.327149</td>\n",
       "      <td>0.502030</td>\n",
       "      <td>0.015465</td>\n",
       "      <td>0.116987</td>\n",
       "    </tr>\n",
       "    <tr>\n",
       "      <th>month</th>\n",
       "      <td>0.008770</td>\n",
       "      <td>-0.081314</td>\n",
       "      <td>-0.014699</td>\n",
       "      <td>-0.040272</td>\n",
       "      <td>-0.004922</td>\n",
       "      <td>-0.062610</td>\n",
       "      <td>-0.084876</td>\n",
       "      <td>0.004893</td>\n",
       "      <td>-0.034135</td>\n",
       "      <td>0.094817</td>\n",
       "      <td>...</td>\n",
       "      <td>-0.323011</td>\n",
       "      <td>-0.238779</td>\n",
       "      <td>-0.105721</td>\n",
       "      <td>-0.010117</td>\n",
       "      <td>0.067708</td>\n",
       "      <td>0.149993</td>\n",
       "      <td>0.326786</td>\n",
       "      <td>0.508159</td>\n",
       "      <td>0.031926</td>\n",
       "      <td>0.114986</td>\n",
       "    </tr>\n",
       "    <tr>\n",
       "      <th>feb</th>\n",
       "      <td>0.009283</td>\n",
       "      <td>0.050918</td>\n",
       "      <td>0.026097</td>\n",
       "      <td>0.033530</td>\n",
       "      <td>0.009707</td>\n",
       "      <td>0.034969</td>\n",
       "      <td>0.047656</td>\n",
       "      <td>0.004053</td>\n",
       "      <td>0.185269</td>\n",
       "      <td>0.044188</td>\n",
       "      <td>...</td>\n",
       "      <td>-0.126020</td>\n",
       "      <td>-0.136820</td>\n",
       "      <td>-0.114020</td>\n",
       "      <td>-0.092614</td>\n",
       "      <td>-0.095534</td>\n",
       "      <td>-0.098245</td>\n",
       "      <td>-0.139372</td>\n",
       "      <td>-0.127657</td>\n",
       "      <td>0.051745</td>\n",
       "      <td>-0.217599</td>\n",
       "    </tr>\n",
       "    <tr>\n",
       "      <th>mar</th>\n",
       "      <td>0.000196</td>\n",
       "      <td>0.046181</td>\n",
       "      <td>0.014105</td>\n",
       "      <td>0.023210</td>\n",
       "      <td>0.010486</td>\n",
       "      <td>0.034782</td>\n",
       "      <td>0.045663</td>\n",
       "      <td>0.001796</td>\n",
       "      <td>0.103161</td>\n",
       "      <td>-0.072050</td>\n",
       "      <td>...</td>\n",
       "      <td>1.000000</td>\n",
       "      <td>-0.132142</td>\n",
       "      <td>-0.110121</td>\n",
       "      <td>-0.089448</td>\n",
       "      <td>-0.092267</td>\n",
       "      <td>-0.094886</td>\n",
       "      <td>-0.134607</td>\n",
       "      <td>-0.123293</td>\n",
       "      <td>-0.067167</td>\n",
       "      <td>-0.051416</td>\n",
       "    </tr>\n",
       "    <tr>\n",
       "      <th>apr</th>\n",
       "      <td>-0.022396</td>\n",
       "      <td>0.015305</td>\n",
       "      <td>-0.011107</td>\n",
       "      <td>0.010262</td>\n",
       "      <td>0.000618</td>\n",
       "      <td>0.012800</td>\n",
       "      <td>0.021877</td>\n",
       "      <td>-0.011378</td>\n",
       "      <td>0.013756</td>\n",
       "      <td>0.015982</td>\n",
       "      <td>...</td>\n",
       "      <td>-0.132142</td>\n",
       "      <td>1.000000</td>\n",
       "      <td>-0.119559</td>\n",
       "      <td>-0.097114</td>\n",
       "      <td>-0.100175</td>\n",
       "      <td>-0.103019</td>\n",
       "      <td>-0.146144</td>\n",
       "      <td>-0.133860</td>\n",
       "      <td>0.009063</td>\n",
       "      <td>-0.197213</td>\n",
       "    </tr>\n",
       "    <tr>\n",
       "      <th>may</th>\n",
       "      <td>-0.006642</td>\n",
       "      <td>0.051241</td>\n",
       "      <td>-0.027822</td>\n",
       "      <td>0.013709</td>\n",
       "      <td>-0.010889</td>\n",
       "      <td>0.056255</td>\n",
       "      <td>0.051209</td>\n",
       "      <td>-0.005620</td>\n",
       "      <td>-0.070803</td>\n",
       "      <td>-0.072073</td>\n",
       "      <td>...</td>\n",
       "      <td>-0.110121</td>\n",
       "      <td>-0.119559</td>\n",
       "      <td>1.000000</td>\n",
       "      <td>-0.080930</td>\n",
       "      <td>-0.083481</td>\n",
       "      <td>-0.085851</td>\n",
       "      <td>-0.121789</td>\n",
       "      <td>-0.111552</td>\n",
       "      <td>-0.050793</td>\n",
       "      <td>-0.132692</td>\n",
       "    </tr>\n",
       "    <tr>\n",
       "      <th>jun</th>\n",
       "      <td>-0.006247</td>\n",
       "      <td>0.032762</td>\n",
       "      <td>-0.028153</td>\n",
       "      <td>0.004385</td>\n",
       "      <td>-0.014101</td>\n",
       "      <td>0.032041</td>\n",
       "      <td>0.022715</td>\n",
       "      <td>0.001071</td>\n",
       "      <td>-0.129546</td>\n",
       "      <td>-0.037726</td>\n",
       "      <td>...</td>\n",
       "      <td>-0.089448</td>\n",
       "      <td>-0.097114</td>\n",
       "      <td>-0.080930</td>\n",
       "      <td>1.000000</td>\n",
       "      <td>-0.067809</td>\n",
       "      <td>-0.069734</td>\n",
       "      <td>-0.098926</td>\n",
       "      <td>-0.090610</td>\n",
       "      <td>-0.063590</td>\n",
       "      <td>0.425619</td>\n",
       "    </tr>\n",
       "    <tr>\n",
       "      <th>jul</th>\n",
       "      <td>-0.015020</td>\n",
       "      <td>-0.001638</td>\n",
       "      <td>-0.030502</td>\n",
       "      <td>-0.012510</td>\n",
       "      <td>-0.011594</td>\n",
       "      <td>0.000731</td>\n",
       "      <td>-0.004186</td>\n",
       "      <td>-0.012703</td>\n",
       "      <td>-0.208723</td>\n",
       "      <td>0.033001</td>\n",
       "      <td>...</td>\n",
       "      <td>-0.092267</td>\n",
       "      <td>-0.100175</td>\n",
       "      <td>-0.083481</td>\n",
       "      <td>-0.067809</td>\n",
       "      <td>1.000000</td>\n",
       "      <td>-0.071932</td>\n",
       "      <td>-0.102044</td>\n",
       "      <td>-0.093466</td>\n",
       "      <td>0.038825</td>\n",
       "      <td>0.439035</td>\n",
       "    </tr>\n",
       "    <tr>\n",
       "      <th>aug</th>\n",
       "      <td>0.008653</td>\n",
       "      <td>-0.045939</td>\n",
       "      <td>-0.014610</td>\n",
       "      <td>-0.027116</td>\n",
       "      <td>-0.005023</td>\n",
       "      <td>-0.035517</td>\n",
       "      <td>-0.048393</td>\n",
       "      <td>0.007429</td>\n",
       "      <td>-0.289591</td>\n",
       "      <td>-0.052980</td>\n",
       "      <td>...</td>\n",
       "      <td>-0.094886</td>\n",
       "      <td>-0.103019</td>\n",
       "      <td>-0.085851</td>\n",
       "      <td>-0.069734</td>\n",
       "      <td>-0.071932</td>\n",
       "      <td>1.000000</td>\n",
       "      <td>-0.104940</td>\n",
       "      <td>-0.096119</td>\n",
       "      <td>-0.078603</td>\n",
       "      <td>0.451497</td>\n",
       "    </tr>\n",
       "    <tr>\n",
       "      <th>sep</th>\n",
       "      <td>-0.007933</td>\n",
       "      <td>-0.074857</td>\n",
       "      <td>0.049801</td>\n",
       "      <td>-0.034024</td>\n",
       "      <td>-0.006104</td>\n",
       "      <td>-0.065311</td>\n",
       "      <td>-0.070075</td>\n",
       "      <td>-0.006805</td>\n",
       "      <td>-0.521439</td>\n",
       "      <td>0.051917</td>\n",
       "      <td>...</td>\n",
       "      <td>-0.134607</td>\n",
       "      <td>-0.146144</td>\n",
       "      <td>-0.121789</td>\n",
       "      <td>-0.098926</td>\n",
       "      <td>-0.102044</td>\n",
       "      <td>-0.104940</td>\n",
       "      <td>1.000000</td>\n",
       "      <td>-0.136356</td>\n",
       "      <td>0.044670</td>\n",
       "      <td>-0.232427</td>\n",
       "    </tr>\n",
       "    <tr>\n",
       "      <th>nov</th>\n",
       "      <td>0.008492</td>\n",
       "      <td>-0.024327</td>\n",
       "      <td>-0.008013</td>\n",
       "      <td>-0.012809</td>\n",
       "      <td>-0.004693</td>\n",
       "      <td>-0.019399</td>\n",
       "      <td>-0.032084</td>\n",
       "      <td>0.003176</td>\n",
       "      <td>0.460228</td>\n",
       "      <td>0.080461</td>\n",
       "      <td>...</td>\n",
       "      <td>-0.123293</td>\n",
       "      <td>-0.133860</td>\n",
       "      <td>-0.111552</td>\n",
       "      <td>-0.090610</td>\n",
       "      <td>-0.093466</td>\n",
       "      <td>-0.096119</td>\n",
       "      <td>-0.136356</td>\n",
       "      <td>1.000000</td>\n",
       "      <td>0.068064</td>\n",
       "      <td>-0.049345</td>\n",
       "    </tr>\n",
       "    <tr>\n",
       "      <th>dayoff</th>\n",
       "      <td>0.007844</td>\n",
       "      <td>-0.013543</td>\n",
       "      <td>-0.025198</td>\n",
       "      <td>-0.017456</td>\n",
       "      <td>-0.019345</td>\n",
       "      <td>-0.012451</td>\n",
       "      <td>-0.019531</td>\n",
       "      <td>-0.015153</td>\n",
       "      <td>0.052573</td>\n",
       "      <td>0.684564</td>\n",
       "      <td>...</td>\n",
       "      <td>-0.067167</td>\n",
       "      <td>0.009063</td>\n",
       "      <td>-0.050793</td>\n",
       "      <td>-0.063590</td>\n",
       "      <td>0.038825</td>\n",
       "      <td>-0.078603</td>\n",
       "      <td>0.044670</td>\n",
       "      <td>0.068064</td>\n",
       "      <td>1.000000</td>\n",
       "      <td>0.014072</td>\n",
       "    </tr>\n",
       "    <tr>\n",
       "      <th>school_vac</th>\n",
       "      <td>-0.000043</td>\n",
       "      <td>-0.001128</td>\n",
       "      <td>-0.038362</td>\n",
       "      <td>-0.015895</td>\n",
       "      <td>-0.017989</td>\n",
       "      <td>0.007379</td>\n",
       "      <td>-0.013431</td>\n",
       "      <td>0.000524</td>\n",
       "      <td>-0.246683</td>\n",
       "      <td>-0.012686</td>\n",
       "      <td>...</td>\n",
       "      <td>-0.051416</td>\n",
       "      <td>-0.197213</td>\n",
       "      <td>-0.132692</td>\n",
       "      <td>0.425619</td>\n",
       "      <td>0.439035</td>\n",
       "      <td>0.451497</td>\n",
       "      <td>-0.232427</td>\n",
       "      <td>-0.049345</td>\n",
       "      <td>0.014072</td>\n",
       "      <td>1.000000</td>\n",
       "    </tr>\n",
       "  </tbody>\n",
       "</table>\n",
       "<p>24 rows × 24 columns</p>\n",
       "</div>"
      ],
      "text/plain": [
       "                          quantity     price    target  monetary_value  \\\n",
       "quantity                  1.000000 -0.029596  0.086289        0.066745   \n",
       "price                    -0.029596  1.000000 -0.028483        0.366298   \n",
       "target                    0.086289 -0.028483  1.000000        0.338014   \n",
       "monetary_value            0.066745  0.366298  0.338014        1.000000   \n",
       "frequency                 0.099677 -0.045179  0.455551        0.783092   \n",
       "min_price                -0.037022  0.883883 -0.148022        0.213525   \n",
       "max_price                 0.000087  0.842364  0.133345        0.575238   \n",
       "total_quantity            0.324001 -0.033706  0.330096        0.609463   \n",
       "days_since_last_purchase -0.003792  0.060388 -0.150763       -0.170900   \n",
       "dow                       0.008167 -0.020336 -0.022262       -0.019840   \n",
       "day                       0.015791 -0.010912 -0.008127       -0.005742   \n",
       "week                      0.009847 -0.082265 -0.014448       -0.040614   \n",
       "month                     0.008770 -0.081314 -0.014699       -0.040272   \n",
       "feb                       0.009283  0.050918  0.026097        0.033530   \n",
       "mar                       0.000196  0.046181  0.014105        0.023210   \n",
       "apr                      -0.022396  0.015305 -0.011107        0.010262   \n",
       "may                      -0.006642  0.051241 -0.027822        0.013709   \n",
       "jun                      -0.006247  0.032762 -0.028153        0.004385   \n",
       "jul                      -0.015020 -0.001638 -0.030502       -0.012510   \n",
       "aug                       0.008653 -0.045939 -0.014610       -0.027116   \n",
       "sep                      -0.007933 -0.074857  0.049801       -0.034024   \n",
       "nov                       0.008492 -0.024327 -0.008013       -0.012809   \n",
       "dayoff                    0.007844 -0.013543 -0.025198       -0.017456   \n",
       "school_vac               -0.000043 -0.001128 -0.038362       -0.015895   \n",
       "\n",
       "                          frequency  min_price  max_price  total_quantity  \\\n",
       "quantity                   0.099677  -0.037022   0.000087        0.324001   \n",
       "price                     -0.045179   0.883883   0.842364       -0.033706   \n",
       "target                     0.455551  -0.148022   0.133345        0.330096   \n",
       "monetary_value             0.783092   0.213525   0.575238        0.609463   \n",
       "frequency                  1.000000  -0.174126   0.196032        0.808969   \n",
       "min_price                 -0.174126   1.000000   0.724154       -0.115288   \n",
       "max_price                  0.196032   0.724154   1.000000        0.146202   \n",
       "total_quantity             0.808969  -0.115288   0.146202        1.000000   \n",
       "days_since_last_purchase  -0.260944   0.123358  -0.045083       -0.172615   \n",
       "dow                       -0.016120  -0.018707  -0.025989       -0.014160   \n",
       "day                        0.000537  -0.006237  -0.014219        0.003001   \n",
       "week                      -0.004739  -0.063182  -0.086084        0.005263   \n",
       "month                     -0.004922  -0.062610  -0.084876        0.004893   \n",
       "feb                        0.009707   0.034969   0.047656        0.004053   \n",
       "mar                        0.010486   0.034782   0.045663        0.001796   \n",
       "apr                        0.000618   0.012800   0.021877       -0.011378   \n",
       "may                       -0.010889   0.056255   0.051209       -0.005620   \n",
       "jun                       -0.014101   0.032041   0.022715        0.001071   \n",
       "jul                       -0.011594   0.000731  -0.004186       -0.012703   \n",
       "aug                       -0.005023  -0.035517  -0.048393        0.007429   \n",
       "sep                       -0.006104  -0.065311  -0.070075       -0.006805   \n",
       "nov                       -0.004693  -0.019399  -0.032084        0.003176   \n",
       "dayoff                    -0.019345  -0.012451  -0.019531       -0.015153   \n",
       "school_vac                -0.017989   0.007379  -0.013431        0.000524   \n",
       "\n",
       "                          days_since_last_purchase       dow  ...       mar  \\\n",
       "quantity                                 -0.003792  0.008167  ...  0.000196   \n",
       "price                                     0.060388 -0.020336  ...  0.046181   \n",
       "target                                   -0.150763 -0.022262  ...  0.014105   \n",
       "monetary_value                           -0.170900 -0.019840  ...  0.023210   \n",
       "frequency                                -0.260944 -0.016120  ...  0.010486   \n",
       "min_price                                 0.123358 -0.018707  ...  0.034782   \n",
       "max_price                                -0.045083 -0.025989  ...  0.045663   \n",
       "total_quantity                           -0.172615 -0.014160  ...  0.001796   \n",
       "days_since_last_purchase                  1.000000  0.037253  ...  0.103161   \n",
       "dow                                       0.037253  1.000000  ... -0.072050   \n",
       "day                                      -0.065632 -0.084922  ... -0.049044   \n",
       "week                                     -0.039759  0.071489  ... -0.328842   \n",
       "month                                    -0.034135  0.094817  ... -0.323011   \n",
       "feb                                       0.185269  0.044188  ... -0.126020   \n",
       "mar                                       0.103161 -0.072050  ...  1.000000   \n",
       "apr                                       0.013756  0.015982  ... -0.132142   \n",
       "may                                      -0.070803 -0.072073  ... -0.110121   \n",
       "jun                                      -0.129546 -0.037726  ... -0.089448   \n",
       "jul                                      -0.208723  0.033001  ... -0.092267   \n",
       "aug                                      -0.289591 -0.052980  ... -0.094886   \n",
       "sep                                      -0.521439  0.051917  ... -0.134607   \n",
       "nov                                       0.460228  0.080461  ... -0.123293   \n",
       "dayoff                                    0.052573  0.684564  ... -0.067167   \n",
       "school_vac                               -0.246683 -0.012686  ... -0.051416   \n",
       "\n",
       "                               apr       may       jun       jul       aug  \\\n",
       "quantity                 -0.022396 -0.006642 -0.006247 -0.015020  0.008653   \n",
       "price                     0.015305  0.051241  0.032762 -0.001638 -0.045939   \n",
       "target                   -0.011107 -0.027822 -0.028153 -0.030502 -0.014610   \n",
       "monetary_value            0.010262  0.013709  0.004385 -0.012510 -0.027116   \n",
       "frequency                 0.000618 -0.010889 -0.014101 -0.011594 -0.005023   \n",
       "min_price                 0.012800  0.056255  0.032041  0.000731 -0.035517   \n",
       "max_price                 0.021877  0.051209  0.022715 -0.004186 -0.048393   \n",
       "total_quantity           -0.011378 -0.005620  0.001071 -0.012703  0.007429   \n",
       "days_since_last_purchase  0.013756 -0.070803 -0.129546 -0.208723 -0.289591   \n",
       "dow                       0.015982 -0.072073 -0.037726  0.033001 -0.052980   \n",
       "day                      -0.034717  0.054985 -0.000807  0.033733 -0.015222   \n",
       "week                     -0.243160 -0.102242 -0.010021  0.068285  0.149477   \n",
       "month                    -0.238779 -0.105721 -0.010117  0.067708  0.149993   \n",
       "feb                      -0.136820 -0.114020 -0.092614 -0.095534 -0.098245   \n",
       "mar                      -0.132142 -0.110121 -0.089448 -0.092267 -0.094886   \n",
       "apr                       1.000000 -0.119559 -0.097114 -0.100175 -0.103019   \n",
       "may                      -0.119559  1.000000 -0.080930 -0.083481 -0.085851   \n",
       "jun                      -0.097114 -0.080930  1.000000 -0.067809 -0.069734   \n",
       "jul                      -0.100175 -0.083481 -0.067809  1.000000 -0.071932   \n",
       "aug                      -0.103019 -0.085851 -0.069734 -0.071932  1.000000   \n",
       "sep                      -0.146144 -0.121789 -0.098926 -0.102044 -0.104940   \n",
       "nov                      -0.133860 -0.111552 -0.090610 -0.093466 -0.096119   \n",
       "dayoff                    0.009063 -0.050793 -0.063590  0.038825 -0.078603   \n",
       "school_vac               -0.197213 -0.132692  0.425619  0.439035  0.451497   \n",
       "\n",
       "                               sep       nov    dayoff  school_vac  \n",
       "quantity                 -0.007933  0.008492  0.007844   -0.000043  \n",
       "price                    -0.074857 -0.024327 -0.013543   -0.001128  \n",
       "target                    0.049801 -0.008013 -0.025198   -0.038362  \n",
       "monetary_value           -0.034024 -0.012809 -0.017456   -0.015895  \n",
       "frequency                -0.006104 -0.004693 -0.019345   -0.017989  \n",
       "min_price                -0.065311 -0.019399 -0.012451    0.007379  \n",
       "max_price                -0.070075 -0.032084 -0.019531   -0.013431  \n",
       "total_quantity           -0.006805  0.003176 -0.015153    0.000524  \n",
       "days_since_last_purchase -0.521439  0.460228  0.052573   -0.246683  \n",
       "dow                       0.051917  0.080461  0.684564   -0.012686  \n",
       "day                      -0.006834 -0.041201 -0.072701    0.026886  \n",
       "week                      0.327149  0.502030  0.015465    0.116987  \n",
       "month                     0.326786  0.508159  0.031926    0.114986  \n",
       "feb                      -0.139372 -0.127657  0.051745   -0.217599  \n",
       "mar                      -0.134607 -0.123293 -0.067167   -0.051416  \n",
       "apr                      -0.146144 -0.133860  0.009063   -0.197213  \n",
       "may                      -0.121789 -0.111552 -0.050793   -0.132692  \n",
       "jun                      -0.098926 -0.090610 -0.063590    0.425619  \n",
       "jul                      -0.102044 -0.093466  0.038825    0.439035  \n",
       "aug                      -0.104940 -0.096119 -0.078603    0.451497  \n",
       "sep                       1.000000 -0.136356  0.044670   -0.232427  \n",
       "nov                      -0.136356  1.000000  0.068064   -0.049345  \n",
       "dayoff                    0.044670  0.068064  1.000000    0.014072  \n",
       "school_vac               -0.232427 -0.049345  0.014072    1.000000  \n",
       "\n",
       "[24 rows x 24 columns]"
      ]
     },
     "execution_count": 79,
     "metadata": {},
     "output_type": "execute_result"
    }
   ],
   "source": [
    "df4.corr(numeric_only = True)"
   ]
  },
  {
   "cell_type": "markdown",
   "id": "f5c0a2df",
   "metadata": {},
   "source": [
    "Получили 23 признака для обучения модели. Данные признаки в процессе экспериментов добавлялись последовательно и изучалось изменение метрики. Те признаки, которые не вносили никакого вклада были удалены.\n",
    "\n",
    "Провели проверку на мультиколлинеарность.\n",
    "\n",
    "В качестве основной модели будет использоваться CatBoostClassifier, без подбора гиперпараметров и кросс-валидации. \n",
    "Тестирование будет проводиться на тестовой выборке, которую мы подготовили заранее и модель ее не видела. Данная модель отлично справляется с табличными признаками."
   ]
  },
  {
   "cell_type": "markdown",
   "id": "462814a9",
   "metadata": {},
   "source": [
    "## 5. Обучение модели"
   ]
  },
  {
   "cell_type": "code",
   "execution_count": 80,
   "id": "83cf42c9",
   "metadata": {},
   "outputs": [],
   "source": [
    "# cоздадим переменные для признаков и целевого признака\n",
    "X_train = df4.drop('target', axis=1)\n",
    "y_train = df4['target']"
   ]
  },
  {
   "cell_type": "code",
   "execution_count": 81,
   "id": "e01a4b74",
   "metadata": {},
   "outputs": [
    {
     "data": {
      "text/plain": [
       "0    17851\n",
       "1     3549\n",
       "Name: target, dtype: int64"
      ]
     },
     "execution_count": 81,
     "metadata": {},
     "output_type": "execute_result"
    }
   ],
   "source": [
    "y_train.value_counts()"
   ]
  },
  {
   "cell_type": "code",
   "execution_count": 82,
   "id": "417bff02",
   "metadata": {},
   "outputs": [],
   "source": [
    "# cоздадим переменные для признаков и целевого признака\n",
    "X_test = df4_test.drop('target', axis=1)\n",
    "y_test = df4_test['target']"
   ]
  },
  {
   "cell_type": "code",
   "execution_count": 83,
   "id": "415b1241",
   "metadata": {},
   "outputs": [
    {
     "data": {
      "text/plain": [
       "0    2210\n",
       "1     315\n",
       "Name: target, dtype: int64"
      ]
     },
     "execution_count": 83,
     "metadata": {},
     "output_type": "execute_result"
    }
   ],
   "source": [
    "y_test.value_counts()"
   ]
  },
  {
   "cell_type": "code",
   "execution_count": 84,
   "id": "2c44e0b1",
   "metadata": {},
   "outputs": [
    {
     "data": {
      "text/plain": [
       "((21400, 24), (21400,))"
      ]
     },
     "execution_count": 84,
     "metadata": {},
     "output_type": "execute_result"
    }
   ],
   "source": [
    "# выведем на экран размеры таблиц, которые хранятся в 2-х переменных\n",
    "X_train.shape,y_train.shape"
   ]
  },
  {
   "cell_type": "markdown",
   "id": "7f2cbf25",
   "metadata": {},
   "source": [
    "**Проверка на адекватность**"
   ]
  },
  {
   "cell_type": "code",
   "execution_count": 85,
   "id": "72d41345",
   "metadata": {},
   "outputs": [
    {
     "data": {
      "text/plain": [
       "0.1658411214953271"
      ]
     },
     "execution_count": 85,
     "metadata": {},
     "output_type": "execute_result"
    }
   ],
   "source": [
    "dummy_model = DummyClassifier(strategy='constant', constant=1)\n",
    "dummy_model.fit(X_train,y_train)\n",
    "dummy_model.score(X_train,y_train)"
   ]
  },
  {
   "cell_type": "markdown",
   "id": "0415bfae",
   "metadata": {},
   "source": [
    "Получили, что константная модель в 16 % случаев будет предсказывать класс 1, что соответсвует распределению классов в таргете."
   ]
  },
  {
   "cell_type": "code",
   "execution_count": 86,
   "id": "92dedca9",
   "metadata": {},
   "outputs": [
    {
     "data": {
      "text/plain": [
       "['quantity',\n",
       " 'price',\n",
       " 'monetary_value',\n",
       " 'frequency',\n",
       " 'min_price',\n",
       " 'max_price',\n",
       " 'total_quantity',\n",
       " 'days_since_last_purchase',\n",
       " 'dow',\n",
       " 'day',\n",
       " 'week',\n",
       " 'month',\n",
       " 'feb',\n",
       " 'mar',\n",
       " 'apr',\n",
       " 'may',\n",
       " 'jun',\n",
       " 'jul',\n",
       " 'aug',\n",
       " 'sep',\n",
       " 'nov',\n",
       " 'dayoff',\n",
       " 'school_vac']"
      ]
     },
     "execution_count": 86,
     "metadata": {},
     "output_type": "execute_result"
    }
   ],
   "source": [
    "#численные признаки\n",
    "num_cols = X_train.select_dtypes(exclude='object').columns.to_list()\n",
    "num_cols"
   ]
  },
  {
   "cell_type": "code",
   "execution_count": 87,
   "id": "d3987a1f",
   "metadata": {},
   "outputs": [
    {
     "data": {
      "text/plain": [
       "['RFM']"
      ]
     },
     "execution_count": 87,
     "metadata": {},
     "output_type": "execute_result"
    }
   ],
   "source": [
    "# создадим переменную с категориальными признаками для передачи в модель\n",
    "cat_features = X_train.select_dtypes(include='object').columns.to_list()\n",
    "cat_features"
   ]
  },
  {
   "cell_type": "code",
   "execution_count": 88,
   "id": "16ea7392",
   "metadata": {},
   "outputs": [
    {
     "data": {
      "text/plain": [
       "['quantity',\n",
       " 'price',\n",
       " 'monetary_value',\n",
       " 'frequency',\n",
       " 'min_price',\n",
       " 'max_price',\n",
       " 'total_quantity',\n",
       " 'days_since_last_purchase',\n",
       " 'dow',\n",
       " 'day',\n",
       " 'week',\n",
       " 'month',\n",
       " 'feb',\n",
       " 'mar',\n",
       " 'apr',\n",
       " 'may',\n",
       " 'jun',\n",
       " 'jul',\n",
       " 'aug',\n",
       " 'sep',\n",
       " 'nov',\n",
       " 'dayoff',\n",
       " 'school_vac']"
      ]
     },
     "execution_count": 88,
     "metadata": {},
     "output_type": "execute_result"
    }
   ],
   "source": [
    "#численные признаки тест\n",
    "num_cols_test = X_test.select_dtypes(exclude='object').columns.to_list()\n",
    "num_cols"
   ]
  },
  {
   "cell_type": "code",
   "execution_count": 89,
   "id": "40d86153",
   "metadata": {},
   "outputs": [
    {
     "data": {
      "text/plain": [
       "['RFM']"
      ]
     },
     "execution_count": 89,
     "metadata": {},
     "output_type": "execute_result"
    }
   ],
   "source": [
    "# категориальные признаки тест\n",
    "cat_features_test = X_test.select_dtypes(include='object').columns.to_list()\n",
    "cat_features"
   ]
  },
  {
   "cell_type": "code",
   "execution_count": 90,
   "id": "f92cf2cf",
   "metadata": {},
   "outputs": [],
   "source": [
    "# Инициализируем модель \n",
    "cb = CatBoostClassifier(loss_function='Logloss',\n",
    "                        random_state=RANDOM_STATE,\n",
    "                        eval_metric='AUC',class_weights=[1, 2]\n",
    "                        )\n",
    "\n",
    "# Создаем train_pool для обучения\n",
    "train_pool = Pool(X_train, y_train, cat_features=cat_features)"
   ]
  },
  {
   "cell_type": "code",
   "execution_count": 91,
   "id": "75ddd758",
   "metadata": {},
   "outputs": [
    {
     "name": "stdout",
     "output_type": "stream",
     "text": [
      "CPU times: total: 1min 13s\n",
      "Wall time: 39.9 s\n"
     ]
    },
    {
     "data": {
      "text/plain": [
       "<catboost.core.CatBoostClassifier at 0x1fbe65c4150>"
      ]
     },
     "execution_count": 91,
     "metadata": {},
     "output_type": "execute_result"
    }
   ],
   "source": [
    "%%time\n",
    "cb.fit(train_pool,verbose=False)"
   ]
  },
  {
   "cell_type": "code",
   "execution_count": 92,
   "id": "2b7b9fc1",
   "metadata": {},
   "outputs": [
    {
     "name": "stdout",
     "output_type": "stream",
     "text": [
      "F1 для CatBoostClassifier без кросс-валидации: 0.817867656469986\n"
     ]
    }
   ],
   "source": [
    "# Вычисление F1 метрики\n",
    "predictions = cb.predict(X_train)\n",
    "f1_score_cb = f1_score(y_train, predictions)\n",
    "print(f'F1 для CatBoostClassifier без кросс-валидации: {f1_score_cb}')"
   ]
  },
  {
   "cell_type": "markdown",
   "id": "cdc4d8c5",
   "metadata": {},
   "source": [
    "**Промежуточные метрики в ходе экспериментов при обучении модели:**\n",
    "\n",
    "1. F1 для CatBoostClassifier без кросс-валидации: 0.6165236412586236 (только на признаках RFM）   \n",
    "При этом на тесте: \n",
    "Accuracy: 0.8899009900990099\n",
    "Полнота: 0.17142857142857143\n",
    "Точность: 0.7605633802816901\n",
    "F1-мера: 0.2797927461139897\n",
    "AUC-ROC:0.9598714357537887\n",
    "            \n",
    "2. При добавлении календарных фичей метрика заметно выросла (фичи week и day сработали)   \n",
    "F1 для CatBoostClassifier без кросс-валидации: 0.7931912185809735\n",
    "При этом на тесте: \n",
    "Accuracy: 0.8855445544554456\n",
    "Полнота: 0.09206349206349207\n",
    "Точность: 0.90625\n",
    "F1-мера: 0.1671469740634006\n",
    "AUC-ROC:0.9647719600660777\n",
    "\n",
    "3. F1 для CatBoostClassifier без кросс-валидации: 0.6479201331114808 (на признаках RFM+min.max/price)   \n",
    "Accuracy: 0.8934653465346535\n",
    "Полнота: 0.20317460317460317\n",
    "Точность: 0.7804878048780488\n",
    "F1-мера: 0.3224181360201511\n",
    "AUC-ROC:0.9585857932916757\n",
    "4. F1 для CatBoostClassifier без кросс-валидации: 0.7853822728001282 (с добавлением каникул)   \n",
    "Accuracy: 0.8871287128712871\n",
    "Полнота: 0.10793650793650794\n",
    "Точность: 0.8947368421052632\n",
    "F1-мера: 0.1926345609065156\n",
    "AUC-ROC:0.9642246642246641\n",
    "5. F1 для CatBoostClassifier без кросс-валидации: 0.7981505102040817    \n",
    "Accuracy: 0.8867326732673267\n",
    "Полнота: 0.10476190476190476\n",
    "Точность: 0.8918918918918919\n",
    "F1-мера: 0.1875\n",
    "AUC-ROC:0.9652617970265029\n",
    "6. F1 для CatBoostClassifier без кросс-валидации: 0.8265635074145713 (поставила метрику AUC в модели и приоритет  1 класса)   \n",
    "Accuracy: 0.8942574257425743\n",
    "Полнота: 0.23809523809523808\n",
    "Точность: 0.7352941176470589\n",
    "F1-мера: 0.3597122302158273\n",
    "AUC-ROC:0.9657947281476693\n",
    "6. F1 для CatBoostClassifier без кросс-валидации: 0.8262837925236062 (убрала из признаков январь, декабрь, октябрь и короткий час перед выходным), полнота выросла   \n",
    "Accuracy: 0.8982178217821782\n",
    "Полнота: 0.273015873015873\n",
    "Точность: 0.7543859649122807\n",
    "F1-мера: 0.40093240093240085\n",
    "AUC-ROC:0.9601896143072614\n"
   ]
  },
  {
   "cell_type": "code",
   "execution_count": 93,
   "id": "3cfdffd9",
   "metadata": {},
   "outputs": [
    {
     "data": {
      "image/png": "[encoded data removed]",
      "text/plain": [
       "<Figure size 1600x1500 with 1 Axes>"
      ]
     },
     "metadata": {},
     "output_type": "display_data"
    }
   ],
   "source": [
    "# построим гистограмму значимости признаков для модели CatBoost\n",
    "# значения отсортированные по возрастанию влияния\n",
    "\n",
    "plt.figure(figsize = (16,15))\n",
    "importances = pd.Series(cb.feature_importances_,index=cb.feature_names_).sort_values()\n",
    "\n",
    "# график\n",
    "importances.plot.barh(grid=True, title='Важность признаков');"
   ]
  },
  {
   "cell_type": "markdown",
   "id": "2fb304b5",
   "metadata": {},
   "source": [
    "## 6. Тестирование модели на тестовой выборке"
   ]
  },
  {
   "cell_type": "code",
   "execution_count": 94,
   "id": "9123c079",
   "metadata": {},
   "outputs": [],
   "source": [
    "# Создаем test_pool для обучения\n",
    "test_pool = Pool(X_test, y_test, cat_features=cat_features_test)"
   ]
  },
  {
   "cell_type": "code",
   "execution_count": 95,
   "id": "2a2ffcc3",
   "metadata": {},
   "outputs": [],
   "source": [
    "predict_test = cb.predict(X_test)"
   ]
  },
  {
   "cell_type": "code",
   "execution_count": 96,
   "id": "ed953f40",
   "metadata": {},
   "outputs": [
    {
     "data": {
      "image/png": "[encoded data removed]",
      "text/plain": [
       "<Figure size 640x480 with 1 Axes>"
      ]
     },
     "metadata": {},
     "output_type": "display_data"
    }
   ],
   "source": [
    "probabilities_test = cb.predict_proba(X_test)\n",
    "probabilities_one_test = probabilities_test[:, 1]\n",
    "\n",
    "fpr, tpr, thresholds = roc_curve(y_test, probabilities_one_test)\n",
    "plt.figure()\n",
    "plt.plot(fpr, tpr)\n",
    "plt.xlim([0.0, 1.0])\n",
    "plt.ylim([0.0, 1.0])\n",
    "plt.xlabel('False Positive Rate')\n",
    "plt.ylabel('True Positive Rate')\n",
    "plt.title('ROC-кривая')\n",
    "plt.show() "
   ]
  },
  {
   "cell_type": "code",
   "execution_count": 97,
   "id": "2b61ebd6",
   "metadata": {},
   "outputs": [
    {
     "name": "stdout",
     "output_type": "stream",
     "text": [
      "              precision    recall  f1-score   support\n",
      "\n",
      "           0       0.91      0.98      0.94      2210\n",
      "           1       0.73      0.30      0.42       315\n",
      "\n",
      "    accuracy                           0.90      2525\n",
      "   macro avg       0.82      0.64      0.68      2525\n",
      "weighted avg       0.89      0.90      0.88      2525\n",
      "\n"
     ]
    }
   ],
   "source": [
    "print(classification_report(y_test,cb.predict(test_pool)))"
   ]
  },
  {
   "cell_type": "code",
   "execution_count": 98,
   "id": "99f73469",
   "metadata": {},
   "outputs": [
    {
     "name": "stdout",
     "output_type": "stream",
     "text": [
      "Accuracy: 0.899009900990099\n",
      "Полнота: 0.2984126984126984\n",
      "Точность: 0.734375\n",
      "F1-мера: 0.4243792325056433\n",
      "AUC-ROC:0.964642677583854\n"
     ]
    }
   ],
   "source": [
    "# рассчитаем дополнительные метрики\n",
    "print(f'Accuracy: {accuracy_score(y_test, predict_test)}')    \n",
    "print(f'Полнота: {recall_score(y_test, predict_test)}')     \n",
    "print(f'Точность: {precision_score(y_test, predict_test)}')  \n",
    "print(f'F1-мера: {f1_score(y_test,predict_test)}')          \n",
    "print(f'AUC-ROC:{roc_auc_score(y_test,probabilities_one_test)}')"
   ]
  },
  {
   "cell_type": "code",
   "execution_count": 99,
   "id": "82e1450b",
   "metadata": {},
   "outputs": [
    {
     "data": {
      "image/png": "[encoded data removed]",
      "text/plain": [
       "<Figure size 640x480 with 2 Axes>"
      ]
     },
     "metadata": {},
     "output_type": "display_data"
    }
   ],
   "source": [
    "# выведем матрицу ошибок\n",
    "cm = confusion_matrix(y_test,predict_test, labels=cb.classes_)\n",
    "disp = ConfusionMatrixDisplay(confusion_matrix=cm,\n",
    "                           display_labels=['Не купит', 'Купит'])\n",
    "disp.plot()\n",
    "plt.show()"
   ]
  },
  {
   "cell_type": "markdown",
   "id": "d683bf52",
   "metadata": {},
   "source": [
    "## 7. Рассмотрим работу нашей модели на примере с промокодами\n"
   ]
  },
  {
   "cell_type": "markdown",
   "id": "fd9a6c4b",
   "metadata": {},
   "source": [
    "Рассмотрим матрицу ошибок с точки зрения бизнеса.\n",
    "\n",
    "Представим, что у нас есть промокод, который составляет 20% от стоимости ежемесячных услуг для каждого клиента. Поставим задачу так: кто собирается уходить, тому выдадим промокод, а кто лояльный, промокод не будем давать. У нас появятся ошибки первого и второго рода.\n",
    "\n",
    "Ошибки первого рода:\n",
    "предсказание модели 1, значение таргета 0, мы выдали промокод лояльному клиенту. \n",
    "\n",
    "Ошибки второго рода:\n",
    "предсказание модели 0, значение таргета 1, не выдали промокод клиенту, который не склонен к покупке. \n",
    "\n",
    "Чтобы посчитать прибыль, рассмотрим такую схему:\n",
    "\n",
    "если клиент на самом деле был лояльный, то мы потеряли 20% от стоимости месячного платежа (ошибка 1го рода) если клиент был отточный, а мы не дали ему промокод, то мы потеряем 100% от стоимости ежемесячного платежа (ошибка второго рода).\n",
    "\n",
    "Рассчитаем убытки от выданных промокодов."
   ]
  },
  {
   "cell_type": "markdown",
   "id": "3447b674",
   "metadata": {},
   "source": [
    "**Предсказания на тестовой выборке для модели CatBoost**"
   ]
  },
  {
   "cell_type": "code",
   "execution_count": 100,
   "id": "798397f6",
   "metadata": {},
   "outputs": [],
   "source": [
    "X_test['pred_cat'] = cb.predict(X_test)\n",
    "X_test['target'] = y_test"
   ]
  },
  {
   "cell_type": "code",
   "execution_count": 101,
   "id": "df79f87a",
   "metadata": {},
   "outputs": [
    {
     "data": {
      "text/html": [
       "<div>\n",
       "<style scoped>\n",
       "    .dataframe tbody tr th:only-of-type {\n",
       "        vertical-align: middle;\n",
       "    }\n",
       "\n",
       "    .dataframe tbody tr th {\n",
       "        vertical-align: top;\n",
       "    }\n",
       "\n",
       "    .dataframe thead th {\n",
       "        text-align: right;\n",
       "    }\n",
       "</style>\n",
       "<table border=\"1\" class=\"dataframe\">\n",
       "  <thead>\n",
       "    <tr style=\"text-align: right;\">\n",
       "      <th></th>\n",
       "      <th>price</th>\n",
       "      <th>pred_cat</th>\n",
       "      <th>target</th>\n",
       "    </tr>\n",
       "  </thead>\n",
       "  <tbody>\n",
       "    <tr>\n",
       "      <th>0</th>\n",
       "      <td>25798.000000</td>\n",
       "      <td>0</td>\n",
       "      <td>0</td>\n",
       "    </tr>\n",
       "    <tr>\n",
       "      <th>1</th>\n",
       "      <td>14998.000000</td>\n",
       "      <td>0</td>\n",
       "      <td>0</td>\n",
       "    </tr>\n",
       "    <tr>\n",
       "      <th>2</th>\n",
       "      <td>6118.000000</td>\n",
       "      <td>0</td>\n",
       "      <td>0</td>\n",
       "    </tr>\n",
       "    <tr>\n",
       "      <th>3</th>\n",
       "      <td>2.000000</td>\n",
       "      <td>0</td>\n",
       "      <td>0</td>\n",
       "    </tr>\n",
       "    <tr>\n",
       "      <th>4</th>\n",
       "      <td>79998.000000</td>\n",
       "      <td>0</td>\n",
       "      <td>1</td>\n",
       "    </tr>\n",
       "    <tr>\n",
       "      <th>...</th>\n",
       "      <td>...</td>\n",
       "      <td>...</td>\n",
       "      <td>...</td>\n",
       "    </tr>\n",
       "    <tr>\n",
       "      <th>2520</th>\n",
       "      <td>6398.000000</td>\n",
       "      <td>0</td>\n",
       "      <td>0</td>\n",
       "    </tr>\n",
       "    <tr>\n",
       "      <th>2521</th>\n",
       "      <td>18983.714844</td>\n",
       "      <td>0</td>\n",
       "      <td>0</td>\n",
       "    </tr>\n",
       "    <tr>\n",
       "      <th>2522</th>\n",
       "      <td>59998.000000</td>\n",
       "      <td>0</td>\n",
       "      <td>0</td>\n",
       "    </tr>\n",
       "    <tr>\n",
       "      <th>2523</th>\n",
       "      <td>16998.000000</td>\n",
       "      <td>0</td>\n",
       "      <td>0</td>\n",
       "    </tr>\n",
       "    <tr>\n",
       "      <th>2524</th>\n",
       "      <td>53998.000000</td>\n",
       "      <td>0</td>\n",
       "      <td>0</td>\n",
       "    </tr>\n",
       "  </tbody>\n",
       "</table>\n",
       "<p>2525 rows × 3 columns</p>\n",
       "</div>"
      ],
      "text/plain": [
       "             price  pred_cat  target\n",
       "0     25798.000000         0       0\n",
       "1     14998.000000         0       0\n",
       "2      6118.000000         0       0\n",
       "3         2.000000         0       0\n",
       "4     79998.000000         0       1\n",
       "...            ...       ...     ...\n",
       "2520   6398.000000         0       0\n",
       "2521  18983.714844         0       0\n",
       "2522  59998.000000         0       0\n",
       "2523  16998.000000         0       0\n",
       "2524  53998.000000         0       0\n",
       "\n",
       "[2525 rows x 3 columns]"
      ]
     },
     "execution_count": 101,
     "metadata": {},
     "output_type": "execute_result"
    }
   ],
   "source": [
    "final_test = X_test[['price','pred_cat','target']]\n",
    "final_test"
   ]
  },
  {
   "cell_type": "markdown",
   "id": "90e9bf02",
   "metadata": {},
   "source": [
    "**Убытки от выданных промокодов лояльным клиентам**"
   ]
  },
  {
   "cell_type": "code",
   "execution_count": 102,
   "id": "82e50c4b",
   "metadata": {},
   "outputs": [
    {
     "data": {
      "text/plain": [
       "172742.71250000002"
      ]
     },
     "execution_count": 102,
     "metadata": {},
     "output_type": "execute_result"
    }
   ],
   "source": [
    "final_test.loc[\n",
    "    (final_test['pred_cat']!=final_test['target'])\n",
    "    &\n",
    "    (final_test['pred_cat'] == 1)\n",
    "]['price'].sum()*PROMO\n"
   ]
  },
  {
   "cell_type": "markdown",
   "id": "535d46b3",
   "metadata": {},
   "source": [
    "**Убытки от потери клиентов, которым не выдали промокодов**"
   ]
  },
  {
   "cell_type": "code",
   "execution_count": 103,
   "id": "cdc8c790",
   "metadata": {},
   "outputs": [
    {
     "data": {
      "text/plain": [
       "1116501.1"
      ]
     },
     "execution_count": 103,
     "metadata": {},
     "output_type": "execute_result"
    }
   ],
   "source": [
    "final_test.loc[\n",
    "    (final_test['pred_cat']!=final_test['target'])\n",
    "    &\n",
    "    (final_test['pred_cat']== 0)\n",
    "]['price'].sum()*PROMO"
   ]
  },
  {
   "cell_type": "markdown",
   "id": "923bbff3",
   "metadata": {},
   "source": [
    "**Вывод**  \n",
    "Здесь мы рассчитали сколько потеряет магазин исходя из предположения того, что клиент принесет такую же прибыль как и в прошлый раз. Конечно, здесь лучше производить расчет на фиксированной стоимости, например, ежемесячной подписке клиента на услуги доставки маркетплейса. Тогда результат будет более корректным.\n",
    "\n",
    "В нашем случае, учитывая специфику магазина и наличие огромного количества единоразовых клиентов, стоит сделать акцент на превращении таких клиентов в лояльные, путем различных маркетинговых стратегий."
   ]
  },
  {
   "cell_type": "markdown",
   "id": "7adb7432",
   "metadata": {},
   "source": [
    "**Рекомендации для бизнеса: как «перевести» результаты RFM-анализа в портреты и конкретные предложения 🔥:**\n",
    "\n",
    "Допустим, прошло 30 день с тех пор, как клиент в последний раз размещал заказ, и ожидается, что он разместит еще один. Вот что вы можете сделать в течение следующей недели, чтобы повысить вероятность совершения покупки:\n",
    "\n",
    "Отправляйте им персональные рекомендации по продуктам.\n",
    "Предложите им код скидки.\n",
    "Сообщайте им обо всех активных продажах, которые вы проводите.\n",
    "А еще лучше — создайте сегмент клиентов, соответствующих схожим критериям, чтобы максимизировать рентабельность инвестиций в кампанию. Таким образом, любой, кто сделает заказ в ближайшие семь дней, может быть подтолкнут к концу воронки продаж.\n",
    "\n",
    "Порадуйте своих самых ценных клиентов.\n",
    "Вероятно, вы уже знаете, кто ваши самые большие траты, но это выглядит только ретроспективно. Прогнозируемый CLV позволяет увидеть общую ценность, которую клиент может принести вашему бизнесу. Это означает, что вы точно знаете, кого вознаградить, что продлит срок службы и ценность ваших самых заинтересованных контактов. Каковы способы масштабного вознаграждения чемпионов бренда?\n",
    "\n",
    "Напомните им присоединиться к вашей программе лояльности.\n",
    "Предоставьте им эксклюзивный или ранний доступ к продажам или продуктам.\n",
    "Предложите им VIP-предложения, чтобы расширить их покупательную способность благодаря вашему бренду.\n",
    "\n",
    "\n",
    "✔️ покупал давно - ходил часто - были хорошие чеки → разочарованный фанат → нужно реактивировать его лояльность → надо предложить ему в подарок то, что он покупал раньше чаще всего;\n",
    "\n",
    "✔️ покупал давно - ходил редко - были огромные чеки → упущенный жирный клиент → деньги для него не проблема, важно внимание → «вы у нас часто покупали эти классные продукты, но давно не приходили - наверняка они закончились и мы для вас их заказали, приходите, наслаждайтесь»;\n",
    "\n",
    "✔️ покупал недавно - покупает часто - хорошие чеки → лояльный клиент →  чувствует себя причастным к компании, она вписана в его график жизни → предложить вступить в VIP-клуб.\n",
    "\n"
   ]
  },
  {
   "cell_type": "markdown",
   "id": "b58b233f",
   "metadata": {},
   "source": [
    "**Вывод по мультикатегорийному магазину**\n",
    "\n",
    "В данном исследовании нам удалось подтверить гипотезу о том, что на активность покупателей прежде всего влияет частота совершения покупок и комплексный портрет (RFM признак). Также выявили, что имеет значение номер недели и номер дня когда была совершена покупка. Влияние остальных признаков показано на гистограмме значимости.\n",
    "\n",
    "К сожалению, при обучении модели нам все же не удалось добиться адекватной полноты. На это влияет несбалансированность нашего таргета. У магазина очень мало постоянных клиентов, поэтому трудно качественно оценить их дальнейшее поведение.\n",
    "Необходимо больше данных для анализа и работы по привлечению клиентов на долгосрочную основу.\n",
    "\n",
    "Выше были даны рекомендации относительно возможных стратегий."
   ]
  },
  {
   "cell_type": "markdown",
   "id": "21e05cec",
   "metadata": {},
   "source": [
    "Исследование особенностей магазина одежды и подарков будет проводиться в отдельном ноутбуке."
   ]
  }
 ],
 "metadata": {
  "kernelspec": {
   "display_name": "Python 3 (ipykernel)",
   "language": "python",
   "name": "python3"
  },
  "language_info": {
   "codemirror_mode": {
    "name": "ipython",
    "version": 3
   },
   "file_extension": ".py",
   "mimetype": "text/x-python",
   "name": "python",
   "nbconvert_exporter": "python",
   "pygments_lexer": "ipython3",
   "version": "3.11.4"
  }
 },
 "nbformat": 4,
 "nbformat_minor": 5
}
